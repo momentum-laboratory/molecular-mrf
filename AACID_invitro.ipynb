{
 "cells": [
  {
   "metadata": {
    "ExecuteTime": {
     "end_time": "2024-08-19T07:24:09.323309Z",
     "start_time": "2024-08-19T07:24:09.321240Z"
    }
   },
   "cell_type": "code",
   "source": [
    "import os\n",
    "import pandas as pd\n",
    "from my_funcs.cest_functions import bruker_dataset_creator_csv\n",
    "from my_funcs.cest_functions import dicom_data_arranger"
   ],
   "id": "94d204f2da041103",
   "outputs": [],
   "execution_count": 284
  },
  {
   "metadata": {
    "ExecuteTime": {
     "end_time": "2024-08-19T07:24:09.336865Z",
     "start_time": "2024-08-19T07:24:09.334737Z"
    }
   },
   "cell_type": "code",
   "source": [
    "# Root stats:\n",
    "general_fn = os.path.abspath(os.curdir)\n",
    "current_dir = os.getcwd()  # Get the current directory\n",
    "parent_dir = os.path.dirname(current_dir)  # Navigate up one directory level\n",
    "\n",
    "# Subject data:\n",
    "exp_folder_name = '24_08_13_phantoms_BSA_and_EggWhite'\n",
    "subject_bsa = '20240813_111233_bsa_phantom_BSA10per_pH6p6_6p8_7p0_7p1_7p2__1_1'\n",
    "subject_eggwhite = '20240813_125235_phantom_eggwhite_pH6p6_6p8_7p0_7p1_7p2_7p3__1_1'\n",
    "\n",
    "docu_name = 'scan_doc.csv'"
   ],
   "id": "initial_id",
   "outputs": [],
   "execution_count": 285
  },
  {
   "metadata": {
    "ExecuteTime": {
     "end_time": "2024-08-19T07:24:09.343627Z",
     "start_time": "2024-08-19T07:24:09.337571Z"
    }
   },
   "cell_type": "code",
   "source": [
    "subject_bsa_path = os.path.join(parent_dir, 'data', 'scans', exp_folder_name, subject_bsa)\n",
    "subject_eggwhite_path = os.path.join(parent_dir, 'data', 'scans', exp_folder_name, subject_eggwhite)\n",
    "\n",
    "current_subject = subject_bsa_path"
   ],
   "id": "a426a0a9b685328c",
   "outputs": [],
   "execution_count": 286
  },
  {
   "metadata": {
    "ExecuteTime": {
     "end_time": "2024-08-19T07:24:09.348602Z",
     "start_time": "2024-08-19T07:24:09.344238Z"
    }
   },
   "cell_type": "code",
   "source": "bruker_dataset_creator_csv",
   "id": "2f7dd48a54d79ee",
   "outputs": [
    {
     "data": {
      "text/plain": [
       "<function my_funcs.cest_functions.bruker_dataset_creator_csv(subject_fn, fp_prtcl_name)>"
      ]
     },
     "execution_count": 287,
     "metadata": {},
     "output_type": "execute_result"
    }
   ],
   "execution_count": 287
  },
  {
   "metadata": {
    "ExecuteTime": {
     "end_time": "2024-08-19T07:24:09.435644Z",
     "start_time": "2024-08-19T07:24:09.393049Z"
    }
   },
   "cell_type": "code",
   "source": [
    "aacid_fn, _, bruker_dataset_aacid = bruker_dataset_creator_csv(current_subject, 'z_spectrum_1p5')\n",
    "aacid_data = dicom_data_arranger(bruker_dataset_aacid, aacid_fn)"
   ],
   "id": "3c6c8fdf9e39daa0",
   "outputs": [],
   "execution_count": 288
  },
  {
   "metadata": {
    "ExecuteTime": {
     "end_time": "2024-08-19T07:24:09.491461Z",
     "start_time": "2024-08-19T07:24:09.436386Z"
    }
   },
   "cell_type": "code",
   "source": [
    "import matplotlib.pyplot as plt\n",
    "plt.imshow(aacid_data[0,:,:])"
   ],
   "id": "ef037bb8d035556f",
   "outputs": [
    {
     "data": {
      "text/plain": [
       "<matplotlib.image.AxesImage at 0x7fa160651250>"
      ]
     },
     "execution_count": 289,
     "metadata": {},
     "output_type": "execute_result"
    },
    {
     "data": {
      "text/plain": [
       "<Figure size 640x480 with 1 Axes>"
      ],
      "image/png": "[encoded data removed]"
     },
     "metadata": {},
     "output_type": "display_data"
    }
   ],
   "execution_count": 289
  },
  {
   "metadata": {
    "ExecuteTime": {
     "end_time": "2024-08-19T07:24:09.541804Z",
     "start_time": "2024-08-19T07:24:09.491998Z"
    }
   },
   "cell_type": "code",
   "source": [
    "import numpy as np\n",
    "import cv2\n",
    "from skimage.morphology import binary_erosion, binary_dilation\n",
    "from skimage.measure import label, regionprops\n",
    "\n",
    "\"\"\"highest contrast image finding:\"\"\"\n",
    "# Compute RMS contrast for each image\n",
    "count = np.shape(aacid_data)[-1]  # # of images\n",
    "rms_contrast = np.zeros(count)\n",
    "for i in range(count):\n",
    "    rms_contrast[i] = np.std(aacid_data[i, :, :])\n",
    "\n",
    "# Find index of image with highest contrast\n",
    "index = np.argmax(rms_contrast)\n",
    "\n",
    "# Load the image with highest contrast (always 1 out of 2 image options)\n",
    "contrasted_image = np.transpose(np.uint16(aacid_data[index, :, :]))\n",
    "\n",
    "\"\"\"circle locating:\"\"\"\n",
    "# Binarize the image using thresholding\n",
    "_, image_binary = cv2.threshold(contrasted_image, 0, 255, cv2.THRESH_BINARY_INV + cv2.THRESH_OTSU)\n",
    "\n",
    "# Perform connected component labeling\n",
    "label_image = label(~image_binary)\n",
    "\n",
    "# # Specify the minimum number of pixels for separating regions\n",
    "# min_pixels = 10\n",
    "# \n",
    "# # Create circular structuring element\n",
    "# radius = int(min_pixels / 2)\n",
    "# circular_footprint = np.zeros((min_pixels, min_pixels), dtype=bool)\n",
    "# y, x = np.ogrid[:min_pixels, :min_pixels]\n",
    "# mask = (x - radius) ** 2 + (y - radius) ** 2 <= radius ** 2\n",
    "# circular_footprint[mask] = 1\n",
    "\n",
    "# # Perform erosion and dilation using circular structuring element\n",
    "# binary_separated_1 = binary_erosion(label_image != 0, footprint=circular_footprint)\n",
    "# binary_separated_2 = binary_dilation(binary_separated_1, footprint=circular_footprint)\n",
    "# \n",
    "# d_l_lim = 15\n",
    "# a_l_lim = 300\n",
    "# label_image = label(binary_separated_2)\n",
    "# plt.imshow(binary_separated_1)\n",
    "\n",
    "# Find the regions that correspond to the circles\n",
    "circle_regions = []\n",
    "for region in regionprops(label_image):\n",
    "    # print(region.equivalent_diameter)\n",
    "    # print(region.area)\n",
    "    if 9 < region.equivalent_diameter < 18:\n",
    "        if 115 < region.area < 150:\n",
    "            if region.axis_minor_length / region.axis_major_length > 0.5:\n",
    "                circle_regions.append(region)\n",
    "\n",
    "# Create a mask for each circle and set the corresponding pixels to one\n",
    "mask = np.zeros_like(contrasted_image)\n",
    "for region in circle_regions:\n",
    "    rr, cc = region.coords[:, 1], region.coords[:, 0]\n",
    "    mask[rr, cc] = 1\n",
    "\n",
    "# Set the pixels outside the circles to zero\n",
    "final_mask = mask\n",
    "\n",
    "if len(regionprops(label_image)) < 7:\n",
    "    raise f'Expected 7 circles, but found {len(regionprops(label_image))} circle areas'\n",
    "\n",
    "\"\"\"background locating:\"\"\"\n",
    "# Apply Hough Circle Transform\n",
    "circles = cv2.HoughCircles(\n",
    "    np.uint8(image_binary),\n",
    "    cv2.HOUGH_GRADIENT,\n",
    "    dp=1,\n",
    "    minDist=50,\n",
    "    param1=25,  # Lowering this value allows more circles to be detected\n",
    "    param2=15,  # Lowering this value allows weaker circles to be detected\n",
    "    minRadius=20,\n",
    "    maxRadius=30\n",
    ")\n",
    "\n",
    "# Create a mask for a single circle\n",
    "bg_mask = np.zeros_like(image_binary)\n",
    "if circles is not None:\n",
    "    circles = np.uint16(np.around(circles))\n",
    "    single_circle = circles[0, 0]\n",
    "    cv2.circle(bg_mask, (single_circle[0], single_circle[1]), single_circle[2], 1, thickness=cv2.FILLED)\n",
    "\n",
    "bg_mask_logical = bg_mask != 0\n",
    "\n",
    "kernel_size = 10  # Adjust the kernel size as needed\n",
    "final_mask_logical = cv2.dilate(final_mask, np.ones((kernel_size, kernel_size), dtype=np.uint8), iterations=1)\n",
    "final_mask_logical = final_mask_logical != 0\n",
    "\n",
    "# Create a mask where big circle does not contain the small circle\n",
    "bg_mask_f = np.logical_and(bg_mask_logical, ~final_mask_logical)\n",
    "bg_mask_f = bg_mask_f.astype(int)\n"
   ],
   "id": "9985a253562622a",
   "outputs": [],
   "execution_count": 290
  },
  {
   "metadata": {
    "ExecuteTime": {
     "end_time": "2024-08-19T07:24:09.598809Z",
     "start_time": "2024-08-19T07:24:09.543585Z"
    }
   },
   "cell_type": "code",
   "source": "plt.imshow(mask)",
   "id": "a6966cd268ba0ad3",
   "outputs": [
    {
     "data": {
      "text/plain": [
       "<matplotlib.image.AxesImage at 0x7fa1606925b0>"
      ]
     },
     "execution_count": 291,
     "metadata": {},
     "output_type": "execute_result"
    },
    {
     "data": {
      "text/plain": [
       "<Figure size 640x480 with 1 Axes>"
      ],
      "image/png": "[encoded data removed]"
     },
     "metadata": {},
     "output_type": "display_data"
    }
   ],
   "execution_count": 291
  },
  {
   "metadata": {
    "ExecuteTime": {
     "end_time": "2024-08-19T07:24:09.602101Z",
     "start_time": "2024-08-19T07:24:09.599546Z"
    }
   },
   "cell_type": "code",
   "source": [
    "circle_regions\n",
    "# Create a mask for each circle and set the corresponding pixels to one\n",
    "masks_list = []\n",
    "for region in circle_regions:\n",
    "    cur_mask = np.zeros_like(mask)\n",
    "    rr, cc = region.coords[:, 1], region.coords[:, 0]\n",
    "    cur_mask[rr, cc] = 1\n",
    "    masks_list.append(cur_mask)"
   ],
   "id": "776dc47e714e0d6b",
   "outputs": [],
   "execution_count": 292
  },
  {
   "metadata": {
    "ExecuteTime": {
     "end_time": "2024-08-19T07:24:09.654960Z",
     "start_time": "2024-08-19T07:24:09.602778Z"
    }
   },
   "cell_type": "code",
   "source": [
    "plt.imshow(masks_list[6])\n",
    "# ph_list = [7.42, 6.75, 7.29, 6.55, 7.04, 7.21, 7.09]\n",
    "ew_ph_list = [6.8, 6.99, 7.53, 6.58, 7.11, 7.3, 7.21]"
   ],
   "id": "d9cac840b090cae",
   "outputs": [
    {
     "data": {
      "text/plain": [
       "<Figure size 640x480 with 1 Axes>"
      ],
      "image/png": "[encoded data removed]"
     },
     "metadata": {},
     "output_type": "display_data"
    }
   ],
   "execution_count": 293
  },
  {
   "metadata": {
    "ExecuteTime": {
     "end_time": "2024-08-19T07:24:09.659631Z",
     "start_time": "2024-08-19T07:24:09.655604Z"
    }
   },
   "cell_type": "code",
   "source": [
    "from my_funcs.cest_functions import z_spec_rearranger, offset_rearranger, wassr_b0_mapping, b0_correction\n",
    "\n",
    "# z-spec for roi\n",
    "def correct_b0(glu_mouse_fn, mask):\n",
    "    # given:\n",
    "    gyro_ratio_hz = 42.5764  # for H [Hz/uT]\n",
    "    b0 = 7\n",
    "    \n",
    "    b1_names = ['1p5uT']\n",
    "    \n",
    "    # WASSR image\n",
    "    wassr_dicom_fn, wassr_mrf_files_fn, wassr_bruker_dataset = bruker_dataset_creator_csv(glu_mouse_fn, 'wasser')\n",
    "    wassr_data = dicom_data_arranger(wassr_bruker_dataset, wassr_dicom_fn)\n",
    "    M0_wassr, arr_wassr_spec = z_spec_rearranger(wassr_data)  # (21, 64, 64)\n",
    "    \n",
    "    wassr_norm = np.divide(arr_wassr_spec, np.where(M0_wassr == 0, 1e-8, M0_wassr))  # (22, 64, 64) full_mask\n",
    "    offset_hz = offset_rearranger(wassr_bruker_dataset['SatFreqList'].value)\n",
    "    offset_ppm = offset_hz / (gyro_ratio_hz * b0)\n",
    "    b0_map = wassr_b0_mapping(wassr_norm, mask, w_x=offset_ppm, MainFieldMHz=gyro_ratio_hz * b0)\n",
    "    \n",
    "    z_dict = {}\n",
    "    for b1_i, b1_name in enumerate(b1_names):  # 0.7, 1.5, 2, 4, 6\n",
    "        b1_dict = {}\n",
    "        # z-spec\n",
    "        glu_phantom_dicom_fn, glu_phantom_mrf_files_fn, bruker_dataset = bruker_dataset_creator_csv(glu_mouse_fn, 'z_spectrum_1p5')  # (72/58/52, 64, 64) [M0,7,-7,6.75,-6.75,...,0.25,-0.25,0]\n",
    "        cest_data = dicom_data_arranger(bruker_dataset, glu_phantom_dicom_fn)\n",
    "        M0_cest, arr_z_spec = z_spec_rearranger(cest_data)\n",
    "        z_spec_norm = np.divide(arr_z_spec, np.where(M0_cest == 0, 1e-8, M0_cest))  # (51/57, 64, 64) full_mask\n",
    "    \n",
    "        # offset vector\n",
    "        offset_hz = offset_rearranger(bruker_dataset['SatFreqList'].value)\n",
    "        offset_ppm = offset_hz / (gyro_ratio_hz * b0)\n",
    "    \n",
    "        b0_cor_zspec = b0_correction(b0_map, z_spec_norm, offset_hz)  # have not checked!\n",
    "        \n",
    "        fr_s = int(bruker_dataset['SatFreqStart'].value)\n",
    "        fr_e = int(bruker_dataset['SatFreqEnd'].value)\n",
    "        fr_i = round(bruker_dataset['SatFreqInc'].value, 2)\n",
    "    \n",
    "        ppm = np.arange(fr_s, fr_e-fr_i, -fr_i)\n",
    "    \n",
    "        b1_dict['ppm'] = ppm\n",
    "        b1_dict['M0'] = M0_cest\n",
    "        b1_dict[f'z_b1cor'] = b0_cor_zspec\n",
    "        b1_dict[f'z_nob1cor'] = z_spec_norm\n",
    "        z_dict[f'{b1_name}'] = b1_dict\n",
    "        \n",
    "    return z_dict"
   ],
   "id": "c2b683cfd50b674f",
   "outputs": [],
   "execution_count": 294
  },
  {
   "metadata": {
    "ExecuteTime": {
     "end_time": "2024-08-19T07:24:09.666511Z",
     "start_time": "2024-08-19T07:24:09.660886Z"
    }
   },
   "cell_type": "code",
   "source": [
    "# from scipy.interpolate import splev, splrep\n",
    "# \n",
    "# def aacid_roi(subject_dict, z_dict, roi_mask):\n",
    "#     # Iterate over each channel\n",
    "#     for b1_i, b1_name in enumerate(subject_dict['z_b1s_names']):\n",
    "#         # Iterate over each image\n",
    "#         ppm = z_dict[b1_name]['ppm']\n",
    "#         M0 = z_dict[b1_name]['M0']\n",
    "#         z_b1cor = z_dict[b1_name]['z_b1cor']\n",
    "#         z_nob1cor = z_dict[b1_name]['z_nob1cor']\n",
    "#     \n",
    "#         cha_n, r_n, c_n = z_b1cor.shape\n",
    "#     \n",
    "#         if b1_name == '1p5uT':\n",
    "#             MainFieldMHz = 298\n",
    "#             B1_uT = 1.5\n",
    "#             gyro_ratio_hz = 42.5764\n",
    "#             w1_Hz = round(B1_uT*gyro_ratio_hz)  # satpwr for scan (Hz)\n",
    "#             w_Hz = ppm * MainFieldMHz  # Scanned frequency offsets (ppm * MHz = Hz)\n",
    "#     \n",
    "#             # Calculate mean value for each channel in the masked regions (excluding zeros)\n",
    "#             roi_mask = roi_mask.astype(bool)\n",
    "#             expanded_roi_mask = np.repeat(roi_mask[np.newaxis, :, :], z_b1cor.shape[0], axis=0)\n",
    "# \n",
    "#             masked_z_b1cor = np.ma.masked_where(expanded_roi_mask == 0, z_b1cor)\n",
    "#             roi_mean_z = np.mean(masked_z_b1cor, axis=(1,2))\n",
    "#             Interp_w_Hz = np.arange(min(w_Hz), max(w_Hz)+1, 1)  # Spline interpolation of scanned offsets every 1 Hz\n",
    "#             tck = splrep(w_Hz[::-1], roi_mean_z[::-1], s=0)  # Spline representation of the data (I needed to reverse)\n",
    "#             M_2p75 = splev(2.75*MainFieldMHz, tck)\n",
    "#             M_3p5 = splev(3.5*MainFieldMHz, tck)\n",
    "#     \n",
    "#             M_6 = roi_mean_z[np.argmin(abs(ppm-6))]\n",
    "#             aacid_roi = (M_3p5 * (M_6 - M_2p75)) / (M_2p75 * (M_6 - M_3p5))\n",
    "#     \n",
    "#             ph_roi = (-4*aacid_roi + 12.8)  # in-vivo calibration\n",
    "#             # ph_roi = (aacid_roi - 6.5) / (-0.64)  # in-vitro calibration\n",
    "#             # ph_roi = (aacid_roi - 1.79) / (-0.236)  # in-vitro egg calibration physiological (not accurate!!!)\n",
    "#             # ph_roi = (aacid_roi - 1.95) / (-0.176)  # in-vitro egg calibration all (not accurate!!!)\n",
    "#             \n",
    "#     return aacid_roi, ph_roi, roi_mean_z"
   ],
   "id": "fae52f5b62860406",
   "outputs": [],
   "execution_count": 295
  },
  {
   "metadata": {
    "ExecuteTime": {
     "end_time": "2024-08-19T07:24:13.279319Z",
     "start_time": "2024-08-19T07:24:09.667217Z"
    }
   },
   "cell_type": "code",
   "source": [
    "from scipy.interpolate import splev, splrep\n",
    "\n",
    "z_dict = correct_b0(current_subject, mask)\n",
    "for b1_i, b1_name in enumerate(['1p5uT']):\n",
    "    # Iterate over each image\n",
    "    ppm = z_dict[b1_name]['ppm']\n",
    "    z_b1cor = z_dict[b1_name]['z_b1cor']\n",
    "    z_nob1cor = z_dict[b1_name]['z_nob1cor']\n",
    "\n",
    "    cha_n, r_n, c_n = z_b1cor.shape\n",
    "\n",
    "    aacid_map = np.zeros([r_n, c_n])\n",
    "    if b1_name == '1p5uT':\n",
    "        MainFieldMHz = 298\n",
    "        B1_uT = 1.5\n",
    "        gyro_ratio_hz = 42.5764\n",
    "        w1_Hz = round(B1_uT*gyro_ratio_hz)  # satpwr for scan (Hz)\n",
    "\n",
    "        w_Hz = ppm * MainFieldMHz  # Scanned frequency offsets (ppm * MHz = Hz)\n",
    "\n",
    "        Interp_w_Hz = np.arange(min(w_Hz), max(w_Hz)+1, 1)  # Spline interpolation of scanned offsets every 1 Hz\n",
    "        for r_i in range(r_n):\n",
    "            for c_i in range(c_n):\n",
    "                if mask[r_i, c_i] != 0:\n",
    "                    cur_z = z_b1cor[:, r_i, c_i]\n",
    "                    tck = splrep(w_Hz[::-1], z_b1cor[::-1, r_i, c_i], s=0)  # Spline representation of the data (I needed to reverse)\n",
    "                    M_2p75 = splev(2.75*MainFieldMHz, tck)\n",
    "                    M_3p5 = splev(3.5*MainFieldMHz, tck)\n",
    "                    # M_2 = z_b1cor[np.argmin(abs(ppm-2)), r_i, c_i]\n",
    "                    M_6 = z_b1cor[np.argmin(abs(ppm-6)), r_i, c_i]\n",
    "                    \n",
    "                    aacid_map[r_i, c_i] = (M_3p5 * (M_6 - M_2p75)) / (M_2p75 * (M_6 - M_3p5))\n",
    "                    # aacid_map[r_i, c_i] = (M_3p5 * (M_6 - M_2)) / (M_2 * (M_6 - M_3p5))\n",
    "                    \n",
    "                    # ph = (AACID - 6.5) / (-0.64)\n",
    "                    \n",
    "                    # # Add scatter plot z-spectrum element\n",
    "                    # z_fig.add_trace(go.Scatter(\n",
    "                    #     x=ppm,\n",
    "                    #     y=cur_z,\n",
    "                    #     mode='lines',\n",
    "                    #     line=dict(color='blue', width=2),\n",
    "                    #     opacity=0.5\n",
    "                    # ), row=row_i, col=1)\n"
   ],
   "id": "d13c732ce55c56cb",
   "outputs": [
    {
     "name": "stdout",
     "output_type": "stream",
     "text": [
      "WASSR B0 mapping took 3.513 seconds\n"
     ]
    }
   ],
   "execution_count": 296
  },
  {
   "metadata": {
    "ExecuteTime": {
     "end_time": "2024-08-19T07:24:13.285162Z",
     "start_time": "2024-08-19T07:24:13.280117Z"
    }
   },
   "cell_type": "code",
   "source": [
    "mean_list = []\n",
    "std_list = []\n",
    "txt_list = []\n",
    "for vial_i in range(7):\n",
    "    vial_masked_aacid = np.ma.masked_where(masks_list[vial_i] == 0, aacid_map)\n",
    "    vial_roi_mean_pixels_aacid = f'{np.mean(vial_masked_aacid):.2f} ± {np.std(vial_masked_aacid):.2f}'\n",
    "    txt_list.append(vial_roi_mean_pixels_aacid)\n",
    "    mean_list.append(np.mean(vial_masked_aacid))\n",
    "    std_list.append(np.std(vial_masked_aacid))"
   ],
   "id": "beab5c8d7d566e00",
   "outputs": [],
   "execution_count": 297
  },
  {
   "metadata": {
    "ExecuteTime": {
     "end_time": "2024-08-19T07:24:13.306165Z",
     "start_time": "2024-08-19T07:24:13.285737Z"
    }
   },
   "cell_type": "code",
   "source": [
    "import plotly.graph_objects as go\n",
    "\n",
    "bsa_ph_list = [7.42, 6.75, 7.29, 6.55, 7.04, 7.21, 7.09]\n",
    "\n",
    "# Calculate the linear fit\n",
    "coefficients = np.polyfit(bsa_ph_list, mean_list, 1)\n",
    "line_fit = np.polyval(coefficients, bsa_ph_list)\n",
    "\n",
    "# Create a scatter plot\n",
    "fig = go.Figure(data=go.Scatter(x=bsa_ph_list, y=mean_list, mode='markers', name='Data Points',\n",
    "        error_y=dict(\n",
    "        type='data',  # Use the given data\n",
    "        array=std_list,  # Standard deviations\n",
    "        visible=True  # Show error bars\n",
    "    )))\n",
    "# Add linear fit line\n",
    "fig.add_trace(go.Scatter(x=bsa_ph_list, y=line_fit, mode='lines', name='Linear Fit'))\n",
    "\n",
    "# Add title and labels\n",
    "fig.update_layout(\n",
    "    title='BSA AACID',\n",
    "    xaxis_title='pH',\n",
    "    yaxis_title='mean AACID',\n",
    "    template='plotly_white',  # Light mode with dark text\n",
    "    width=550,  # Adjust the width to make the plot narrower\n",
    "    height=400  # Optionally, adjust the height as well\n",
    ")\n",
    "\n",
    "# Show the plot\n",
    "fig.show()"
   ],
   "id": "ed680b331b8596d6",
   "outputs": [
    {
     "data": {
      "application/vnd.plotly.v1+json": {
       "data": [
        {
         "error_y": {
          "array": [
           0.056510369389774114,
           0.08206097403028043,
           0.035347578404970624,
           0.057086165529555595,
           0.04802767046081358,
           0.07868010579550591,
           0.07193522751289243
          ],
          "type": "data",
          "visible": true
         },
         "mode": "markers",
         "name": "Data Points",
         "x": [
          7.42,
          6.75,
          7.29,
          6.55,
          7.04,
          7.21,
          7.09
         ],
         "y": [
          1.5081441959117599,
          1.956912921535554,
          1.5577631528759581,
          2.0214012656014972,
          1.7087894228765006,
          1.6660658727106945,
          1.610263049063863
         ],
         "type": "scatter"
        },
        {
         "mode": "lines",
         "name": "Linear Fit",
         "x": [
          7.42,
          6.75,
          7.29,
          6.55,
          7.04,
          7.21,
          7.09
         ],
         "y": [
          1.4866476702873914,
          1.9064469545877536,
          1.568101262763581,
          2.0317601737818913,
          1.724742786756253,
          1.6182265504412365,
          1.6934144819577188
         ],
         "type": "scatter"
        }
       ],
       "layout": {
        "template": {
         "data": {
          "barpolar": [
           {
            "marker": {
             "line": {
              "color": "white",
              "width": 0.5
             },
             "pattern": {
              "fillmode": "overlay",
              "size": 10,
              "solidity": 0.2
             }
            },
            "type": "barpolar"
           }
          ],
          "bar": [
           {
            "error_x": {
             "color": "#2a3f5f"
            },
            "error_y": {
             "color": "#2a3f5f"
            },
            "marker": {
             "line": {
              "color": "white",
              "width": 0.5
             },
             "pattern": {
              "fillmode": "overlay",
              "size": 10,
              "solidity": 0.2
             }
            },
            "type": "bar"
           }
          ],
          "carpet": [
           {
            "aaxis": {
             "endlinecolor": "#2a3f5f",
             "gridcolor": "#C8D4E3",
             "linecolor": "#C8D4E3",
             "minorgridcolor": "#C8D4E3",
             "startlinecolor": "#2a3f5f"
            },
            "baxis": {
             "endlinecolor": "#2a3f5f",
             "gridcolor": "#C8D4E3",
             "linecolor": "#C8D4E3",
             "minorgridcolor": "#C8D4E3",
             "startlinecolor": "#2a3f5f"
            },
            "type": "carpet"
           }
          ],
          "choropleth": [
           {
            "colorbar": {
             "outlinewidth": 0,
             "ticks": ""
            },
            "type": "choropleth"
           }
          ],
          "contourcarpet": [
           {
            "colorbar": {
             "outlinewidth": 0,
             "ticks": ""
            },
            "type": "contourcarpet"
           }
          ],
          "contour": [
           {
            "colorbar": {
             "outlinewidth": 0,
             "ticks": ""
            },
            "colorscale": [
             [
              0.0,
              "#0d0887"
             ],
             [
              0.1111111111111111,
              "#46039f"
             ],
             [
              0.2222222222222222,
              "#7201a8"
             ],
             [
              0.3333333333333333,
              "#9c179e"
             ],
             [
              0.4444444444444444,
              "#bd3786"
             ],
             [
              0.5555555555555556,
              "#d8576b"
             ],
             [
              0.6666666666666666,
              "#ed7953"
             ],
             [
              0.7777777777777778,
              "#fb9f3a"
             ],
             [
              0.8888888888888888,
              "#fdca26"
             ],
             [
              1.0,
              "#f0f921"
             ]
            ],
            "type": "contour"
           }
          ],
          "heatmapgl": [
           {
            "colorbar": {
             "outlinewidth": 0,
             "ticks": ""
            },
            "colorscale": [
             [
              0.0,
              "#0d0887"
             ],
             [
              0.1111111111111111,
              "#46039f"
             ],
             [
              0.2222222222222222,
              "#7201a8"
             ],
             [
              0.3333333333333333,
              "#9c179e"
             ],
             [
              0.4444444444444444,
              "#bd3786"
             ],
             [
              0.5555555555555556,
              "#d8576b"
             ],
             [
              0.6666666666666666,
              "#ed7953"
             ],
             [
              0.7777777777777778,
              "#fb9f3a"
             ],
             [
              0.8888888888888888,
              "#fdca26"
             ],
             [
              1.0,
              "#f0f921"
             ]
            ],
            "type": "heatmapgl"
           }
          ],
          "heatmap": [
           {
            "colorbar": {
             "outlinewidth": 0,
             "ticks": ""
            },
            "colorscale": [
             [
              0.0,
              "#0d0887"
             ],
             [
              0.1111111111111111,
              "#46039f"
             ],
             [
              0.2222222222222222,
              "#7201a8"
             ],
             [
              0.3333333333333333,
              "#9c179e"
             ],
             [
              0.4444444444444444,
              "#bd3786"
             ],
             [
              0.5555555555555556,
              "#d8576b"
             ],
             [
              0.6666666666666666,
              "#ed7953"
             ],
             [
              0.7777777777777778,
              "#fb9f3a"
             ],
             [
              0.8888888888888888,
              "#fdca26"
             ],
             [
              1.0,
              "#f0f921"
             ]
            ],
            "type": "heatmap"
           }
          ],
          "histogram2dcontour": [
           {
            "colorbar": {
             "outlinewidth": 0,
             "ticks": ""
            },
            "colorscale": [
             [
              0.0,
              "#0d0887"
             ],
             [
              0.1111111111111111,
              "#46039f"
             ],
             [
              0.2222222222222222,
              "#7201a8"
             ],
             [
              0.3333333333333333,
              "#9c179e"
             ],
             [
              0.4444444444444444,
              "#bd3786"
             ],
             [
              0.5555555555555556,
              "#d8576b"
             ],
             [
              0.6666666666666666,
              "#ed7953"
             ],
             [
              0.7777777777777778,
              "#fb9f3a"
             ],
             [
              0.8888888888888888,
              "#fdca26"
             ],
             [
              1.0,
              "#f0f921"
             ]
            ],
            "type": "histogram2dcontour"
           }
          ],
          "histogram2d": [
           {
            "colorbar": {
             "outlinewidth": 0,
             "ticks": ""
            },
            "colorscale": [
             [
              0.0,
              "#0d0887"
             ],
             [
              0.1111111111111111,
              "#46039f"
             ],
             [
              0.2222222222222222,
              "#7201a8"
             ],
             [
              0.3333333333333333,
              "#9c179e"
             ],
             [
              0.4444444444444444,
              "#bd3786"
             ],
             [
              0.5555555555555556,
              "#d8576b"
             ],
             [
              0.6666666666666666,
              "#ed7953"
             ],
             [
              0.7777777777777778,
              "#fb9f3a"
             ],
             [
              0.8888888888888888,
              "#fdca26"
             ],
             [
              1.0,
              "#f0f921"
             ]
            ],
            "type": "histogram2d"
           }
          ],
          "histogram": [
           {
            "marker": {
             "pattern": {
              "fillmode": "overlay",
              "size": 10,
              "solidity": 0.2
             }
            },
            "type": "histogram"
           }
          ],
          "mesh3d": [
           {
            "colorbar": {
             "outlinewidth": 0,
             "ticks": ""
            },
            "type": "mesh3d"
           }
          ],
          "parcoords": [
           {
            "line": {
             "colorbar": {
              "outlinewidth": 0,
              "ticks": ""
             }
            },
            "type": "parcoords"
           }
          ],
          "pie": [
           {
            "automargin": true,
            "type": "pie"
           }
          ],
          "scatter3d": [
           {
            "line": {
             "colorbar": {
              "outlinewidth": 0,
              "ticks": ""
             }
            },
            "marker": {
             "colorbar": {
              "outlinewidth": 0,
              "ticks": ""
             }
            },
            "type": "scatter3d"
           }
          ],
          "scattercarpet": [
           {
            "marker": {
             "colorbar": {
              "outlinewidth": 0,
              "ticks": ""
             }
            },
            "type": "scattercarpet"
           }
          ],
          "scattergeo": [
           {
            "marker": {
             "colorbar": {
              "outlinewidth": 0,
              "ticks": ""
             }
            },
            "type": "scattergeo"
           }
          ],
          "scattergl": [
           {
            "marker": {
             "colorbar": {
              "outlinewidth": 0,
              "ticks": ""
             }
            },
            "type": "scattergl"
           }
          ],
          "scattermapbox": [
           {
            "marker": {
             "colorbar": {
              "outlinewidth": 0,
              "ticks": ""
             }
            },
            "type": "scattermapbox"
           }
          ],
          "scatterpolargl": [
           {
            "marker": {
             "colorbar": {
              "outlinewidth": 0,
              "ticks": ""
             }
            },
            "type": "scatterpolargl"
           }
          ],
          "scatterpolar": [
           {
            "marker": {
             "colorbar": {
              "outlinewidth": 0,
              "ticks": ""
             }
            },
            "type": "scatterpolar"
           }
          ],
          "scatter": [
           {
            "fillpattern": {
             "fillmode": "overlay",
             "size": 10,
             "solidity": 0.2
            },
            "type": "scatter"
           }
          ],
          "scatterternary": [
           {
            "marker": {
             "colorbar": {
              "outlinewidth": 0,
              "ticks": ""
             }
            },
            "type": "scatterternary"
           }
          ],
          "surface": [
           {
            "colorbar": {
             "outlinewidth": 0,
             "ticks": ""
            },
            "colorscale": [
             [
              0.0,
              "#0d0887"
             ],
             [
              0.1111111111111111,
              "#46039f"
             ],
             [
              0.2222222222222222,
              "#7201a8"
             ],
             [
              0.3333333333333333,
              "#9c179e"
             ],
             [
              0.4444444444444444,
              "#bd3786"
             ],
             [
              0.5555555555555556,
              "#d8576b"
             ],
             [
              0.6666666666666666,
              "#ed7953"
             ],
             [
              0.7777777777777778,
              "#fb9f3a"
             ],
             [
              0.8888888888888888,
              "#fdca26"
             ],
             [
              1.0,
              "#f0f921"
             ]
            ],
            "type": "surface"
           }
          ],
          "table": [
           {
            "cells": {
             "fill": {
              "color": "#EBF0F8"
             },
             "line": {
              "color": "white"
             }
            },
            "header": {
             "fill": {
              "color": "#C8D4E3"
             },
             "line": {
              "color": "white"
             }
            },
            "type": "table"
           }
          ]
         },
         "layout": {
          "annotationdefaults": {
           "arrowcolor": "#2a3f5f",
           "arrowhead": 0,
           "arrowwidth": 1
          },
          "autotypenumbers": "strict",
          "coloraxis": {
           "colorbar": {
            "outlinewidth": 0,
            "ticks": ""
           }
          },
          "colorscale": {
           "diverging": [
            [
             0,
             "#8e0152"
            ],
            [
             0.1,
             "#c51b7d"
            ],
            [
             0.2,
             "#de77ae"
            ],
            [
             0.3,
             "#f1b6da"
            ],
            [
             0.4,
             "#fde0ef"
            ],
            [
             0.5,
             "#f7f7f7"
            ],
            [
             0.6,
             "#e6f5d0"
            ],
            [
             0.7,
             "#b8e186"
            ],
            [
             0.8,
             "#7fbc41"
            ],
            [
             0.9,
             "#4d9221"
            ],
            [
             1,
             "#276419"
            ]
           ],
           "sequential": [
            [
             0.0,
             "#0d0887"
            ],
            [
             0.1111111111111111,
             "#46039f"
            ],
            [
             0.2222222222222222,
             "#7201a8"
            ],
            [
             0.3333333333333333,
             "#9c179e"
            ],
            [
             0.4444444444444444,
             "#bd3786"
            ],
            [
             0.5555555555555556,
             "#d8576b"
            ],
            [
             0.6666666666666666,
             "#ed7953"
            ],
            [
             0.7777777777777778,
             "#fb9f3a"
            ],
            [
             0.8888888888888888,
             "#fdca26"
            ],
            [
             1.0,
             "#f0f921"
            ]
           ],
           "sequentialminus": [
            [
             0.0,
             "#0d0887"
            ],
            [
             0.1111111111111111,
             "#46039f"
            ],
            [
             0.2222222222222222,
             "#7201a8"
            ],
            [
             0.3333333333333333,
             "#9c179e"
            ],
            [
             0.4444444444444444,
             "#bd3786"
            ],
            [
             0.5555555555555556,
             "#d8576b"
            ],
            [
             0.6666666666666666,
             "#ed7953"
            ],
            [
             0.7777777777777778,
             "#fb9f3a"
            ],
            [
             0.8888888888888888,
             "#fdca26"
            ],
            [
             1.0,
             "#f0f921"
            ]
           ]
          },
          "colorway": [
           "#636efa",
           "#EF553B",
           "#00cc96",
           "#ab63fa",
           "#FFA15A",
           "#19d3f3",
           "#FF6692",
           "#B6E880",
           "#FF97FF",
           "#FECB52"
          ],
          "font": {
           "color": "#2a3f5f"
          },
          "geo": {
           "bgcolor": "white",
           "lakecolor": "white",
           "landcolor": "white",
           "showlakes": true,
           "showland": true,
           "subunitcolor": "#C8D4E3"
          },
          "hoverlabel": {
           "align": "left"
          },
          "hovermode": "closest",
          "mapbox": {
           "style": "light"
          },
          "paper_bgcolor": "white",
          "plot_bgcolor": "white",
          "polar": {
           "angularaxis": {
            "gridcolor": "#EBF0F8",
            "linecolor": "#EBF0F8",
            "ticks": ""
           },
           "bgcolor": "white",
           "radialaxis": {
            "gridcolor": "#EBF0F8",
            "linecolor": "#EBF0F8",
            "ticks": ""
           }
          },
          "scene": {
           "xaxis": {
            "backgroundcolor": "white",
            "gridcolor": "#DFE8F3",
            "gridwidth": 2,
            "linecolor": "#EBF0F8",
            "showbackground": true,
            "ticks": "",
            "zerolinecolor": "#EBF0F8"
           },
           "yaxis": {
            "backgroundcolor": "white",
            "gridcolor": "#DFE8F3",
            "gridwidth": 2,
            "linecolor": "#EBF0F8",
            "showbackground": true,
            "ticks": "",
            "zerolinecolor": "#EBF0F8"
           },
           "zaxis": {
            "backgroundcolor": "white",
            "gridcolor": "#DFE8F3",
            "gridwidth": 2,
            "linecolor": "#EBF0F8",
            "showbackground": true,
            "ticks": "",
            "zerolinecolor": "#EBF0F8"
           }
          },
          "shapedefaults": {
           "line": {
            "color": "#2a3f5f"
           }
          },
          "ternary": {
           "aaxis": {
            "gridcolor": "#DFE8F3",
            "linecolor": "#A2B1C6",
            "ticks": ""
           },
           "baxis": {
            "gridcolor": "#DFE8F3",
            "linecolor": "#A2B1C6",
            "ticks": ""
           },
           "bgcolor": "white",
           "caxis": {
            "gridcolor": "#DFE8F3",
            "linecolor": "#A2B1C6",
            "ticks": ""
           }
          },
          "title": {
           "x": 0.05
          },
          "xaxis": {
           "automargin": true,
           "gridcolor": "#EBF0F8",
           "linecolor": "#EBF0F8",
           "ticks": "",
           "title": {
            "standoff": 15
           },
           "zerolinecolor": "#EBF0F8",
           "zerolinewidth": 2
          },
          "yaxis": {
           "automargin": true,
           "gridcolor": "#EBF0F8",
           "linecolor": "#EBF0F8",
           "ticks": "",
           "title": {
            "standoff": 15
           },
           "zerolinecolor": "#EBF0F8",
           "zerolinewidth": 2
          }
         }
        },
        "title": {
         "text": "BSA AACID"
        },
        "xaxis": {
         "title": {
          "text": "pH"
         }
        },
        "yaxis": {
         "title": {
          "text": "mean AACID"
         }
        },
        "width": 550,
        "height": 400
       },
       "config": {
        "plotlyServerURL": "https://plot.ly"
       }
      },
      "text/html": [
       "<div>                            <div id=\"1bbe9e27-10e7-4be8-9a14-7ffaf242aedc\" class=\"plotly-graph-div\" style=\"height:400px; width:550px;\"></div>            <script type=\"text/javascript\">                require([\"plotly\"], function(Plotly) {                    window.PLOTLYENV=window.PLOTLYENV || {};                                    if (document.getElementById(\"1bbe9e27-10e7-4be8-9a14-7ffaf242aedc\")) {                    Plotly.newPlot(                        \"1bbe9e27-10e7-4be8-9a14-7ffaf242aedc\",                        [{\"error_y\":{\"array\":[0.056510369389774114,0.08206097403028043,0.035347578404970624,0.057086165529555595,0.04802767046081358,0.07868010579550591,0.07193522751289243],\"type\":\"data\",\"visible\":true},\"mode\":\"markers\",\"name\":\"Data Points\",\"x\":[7.42,6.75,7.29,6.55,7.04,7.21,7.09],\"y\":[1.5081441959117599,1.956912921535554,1.5577631528759581,2.0214012656014972,1.7087894228765006,1.6660658727106945,1.610263049063863],\"type\":\"scatter\"},{\"mode\":\"lines\",\"name\":\"Linear Fit\",\"x\":[7.42,6.75,7.29,6.55,7.04,7.21,7.09],\"y\":[1.4866476702873914,1.9064469545877536,1.568101262763581,2.0317601737818913,1.724742786756253,1.6182265504412365,1.6934144819577188],\"type\":\"scatter\"}],                        {\"template\":{\"data\":{\"barpolar\":[{\"marker\":{\"line\":{\"color\":\"white\",\"width\":0.5},\"pattern\":{\"fillmode\":\"overlay\",\"size\":10,\"solidity\":0.2}},\"type\":\"barpolar\"}],\"bar\":[{\"error_x\":{\"color\":\"#2a3f5f\"},\"error_y\":{\"color\":\"#2a3f5f\"},\"marker\":{\"line\":{\"color\":\"white\",\"width\":0.5},\"pattern\":{\"fillmode\":\"overlay\",\"size\":10,\"solidity\":0.2}},\"type\":\"bar\"}],\"carpet\":[{\"aaxis\":{\"endlinecolor\":\"#2a3f5f\",\"gridcolor\":\"#C8D4E3\",\"linecolor\":\"#C8D4E3\",\"minorgridcolor\":\"#C8D4E3\",\"startlinecolor\":\"#2a3f5f\"},\"baxis\":{\"endlinecolor\":\"#2a3f5f\",\"gridcolor\":\"#C8D4E3\",\"linecolor\":\"#C8D4E3\",\"minorgridcolor\":\"#C8D4E3\",\"startlinecolor\":\"#2a3f5f\"},\"type\":\"carpet\"}],\"choropleth\":[{\"colorbar\":{\"outlinewidth\":0,\"ticks\":\"\"},\"type\":\"choropleth\"}],\"contourcarpet\":[{\"colorbar\":{\"outlinewidth\":0,\"ticks\":\"\"},\"type\":\"contourcarpet\"}],\"contour\":[{\"colorbar\":{\"outlinewidth\":0,\"ticks\":\"\"},\"colorscale\":[[0.0,\"#0d0887\"],[0.1111111111111111,\"#46039f\"],[0.2222222222222222,\"#7201a8\"],[0.3333333333333333,\"#9c179e\"],[0.4444444444444444,\"#bd3786\"],[0.5555555555555556,\"#d8576b\"],[0.6666666666666666,\"#ed7953\"],[0.7777777777777778,\"#fb9f3a\"],[0.8888888888888888,\"#fdca26\"],[1.0,\"#f0f921\"]],\"type\":\"contour\"}],\"heatmapgl\":[{\"colorbar\":{\"outlinewidth\":0,\"ticks\":\"\"},\"colorscale\":[[0.0,\"#0d0887\"],[0.1111111111111111,\"#46039f\"],[0.2222222222222222,\"#7201a8\"],[0.3333333333333333,\"#9c179e\"],[0.4444444444444444,\"#bd3786\"],[0.5555555555555556,\"#d8576b\"],[0.6666666666666666,\"#ed7953\"],[0.7777777777777778,\"#fb9f3a\"],[0.8888888888888888,\"#fdca26\"],[1.0,\"#f0f921\"]],\"type\":\"heatmapgl\"}],\"heatmap\":[{\"colorbar\":{\"outlinewidth\":0,\"ticks\":\"\"},\"colorscale\":[[0.0,\"#0d0887\"],[0.1111111111111111,\"#46039f\"],[0.2222222222222222,\"#7201a8\"],[0.3333333333333333,\"#9c179e\"],[0.4444444444444444,\"#bd3786\"],[0.5555555555555556,\"#d8576b\"],[0.6666666666666666,\"#ed7953\"],[0.7777777777777778,\"#fb9f3a\"],[0.8888888888888888,\"#fdca26\"],[1.0,\"#f0f921\"]],\"type\":\"heatmap\"}],\"histogram2dcontour\":[{\"colorbar\":{\"outlinewidth\":0,\"ticks\":\"\"},\"colorscale\":[[0.0,\"#0d0887\"],[0.1111111111111111,\"#46039f\"],[0.2222222222222222,\"#7201a8\"],[0.3333333333333333,\"#9c179e\"],[0.4444444444444444,\"#bd3786\"],[0.5555555555555556,\"#d8576b\"],[0.6666666666666666,\"#ed7953\"],[0.7777777777777778,\"#fb9f3a\"],[0.8888888888888888,\"#fdca26\"],[1.0,\"#f0f921\"]],\"type\":\"histogram2dcontour\"}],\"histogram2d\":[{\"colorbar\":{\"outlinewidth\":0,\"ticks\":\"\"},\"colorscale\":[[0.0,\"#0d0887\"],[0.1111111111111111,\"#46039f\"],[0.2222222222222222,\"#7201a8\"],[0.3333333333333333,\"#9c179e\"],[0.4444444444444444,\"#bd3786\"],[0.5555555555555556,\"#d8576b\"],[0.6666666666666666,\"#ed7953\"],[0.7777777777777778,\"#fb9f3a\"],[0.8888888888888888,\"#fdca26\"],[1.0,\"#f0f921\"]],\"type\":\"histogram2d\"}],\"histogram\":[{\"marker\":{\"pattern\":{\"fillmode\":\"overlay\",\"size\":10,\"solidity\":0.2}},\"type\":\"histogram\"}],\"mesh3d\":[{\"colorbar\":{\"outlinewidth\":0,\"ticks\":\"\"},\"type\":\"mesh3d\"}],\"parcoords\":[{\"line\":{\"colorbar\":{\"outlinewidth\":0,\"ticks\":\"\"}},\"type\":\"parcoords\"}],\"pie\":[{\"automargin\":true,\"type\":\"pie\"}],\"scatter3d\":[{\"line\":{\"colorbar\":{\"outlinewidth\":0,\"ticks\":\"\"}},\"marker\":{\"colorbar\":{\"outlinewidth\":0,\"ticks\":\"\"}},\"type\":\"scatter3d\"}],\"scattercarpet\":[{\"marker\":{\"colorbar\":{\"outlinewidth\":0,\"ticks\":\"\"}},\"type\":\"scattercarpet\"}],\"scattergeo\":[{\"marker\":{\"colorbar\":{\"outlinewidth\":0,\"ticks\":\"\"}},\"type\":\"scattergeo\"}],\"scattergl\":[{\"marker\":{\"colorbar\":{\"outlinewidth\":0,\"ticks\":\"\"}},\"type\":\"scattergl\"}],\"scattermapbox\":[{\"marker\":{\"colorbar\":{\"outlinewidth\":0,\"ticks\":\"\"}},\"type\":\"scattermapbox\"}],\"scatterpolargl\":[{\"marker\":{\"colorbar\":{\"outlinewidth\":0,\"ticks\":\"\"}},\"type\":\"scatterpolargl\"}],\"scatterpolar\":[{\"marker\":{\"colorbar\":{\"outlinewidth\":0,\"ticks\":\"\"}},\"type\":\"scatterpolar\"}],\"scatter\":[{\"fillpattern\":{\"fillmode\":\"overlay\",\"size\":10,\"solidity\":0.2},\"type\":\"scatter\"}],\"scatterternary\":[{\"marker\":{\"colorbar\":{\"outlinewidth\":0,\"ticks\":\"\"}},\"type\":\"scatterternary\"}],\"surface\":[{\"colorbar\":{\"outlinewidth\":0,\"ticks\":\"\"},\"colorscale\":[[0.0,\"#0d0887\"],[0.1111111111111111,\"#46039f\"],[0.2222222222222222,\"#7201a8\"],[0.3333333333333333,\"#9c179e\"],[0.4444444444444444,\"#bd3786\"],[0.5555555555555556,\"#d8576b\"],[0.6666666666666666,\"#ed7953\"],[0.7777777777777778,\"#fb9f3a\"],[0.8888888888888888,\"#fdca26\"],[1.0,\"#f0f921\"]],\"type\":\"surface\"}],\"table\":[{\"cells\":{\"fill\":{\"color\":\"#EBF0F8\"},\"line\":{\"color\":\"white\"}},\"header\":{\"fill\":{\"color\":\"#C8D4E3\"},\"line\":{\"color\":\"white\"}},\"type\":\"table\"}]},\"layout\":{\"annotationdefaults\":{\"arrowcolor\":\"#2a3f5f\",\"arrowhead\":0,\"arrowwidth\":1},\"autotypenumbers\":\"strict\",\"coloraxis\":{\"colorbar\":{\"outlinewidth\":0,\"ticks\":\"\"}},\"colorscale\":{\"diverging\":[[0,\"#8e0152\"],[0.1,\"#c51b7d\"],[0.2,\"#de77ae\"],[0.3,\"#f1b6da\"],[0.4,\"#fde0ef\"],[0.5,\"#f7f7f7\"],[0.6,\"#e6f5d0\"],[0.7,\"#b8e186\"],[0.8,\"#7fbc41\"],[0.9,\"#4d9221\"],[1,\"#276419\"]],\"sequential\":[[0.0,\"#0d0887\"],[0.1111111111111111,\"#46039f\"],[0.2222222222222222,\"#7201a8\"],[0.3333333333333333,\"#9c179e\"],[0.4444444444444444,\"#bd3786\"],[0.5555555555555556,\"#d8576b\"],[0.6666666666666666,\"#ed7953\"],[0.7777777777777778,\"#fb9f3a\"],[0.8888888888888888,\"#fdca26\"],[1.0,\"#f0f921\"]],\"sequentialminus\":[[0.0,\"#0d0887\"],[0.1111111111111111,\"#46039f\"],[0.2222222222222222,\"#7201a8\"],[0.3333333333333333,\"#9c179e\"],[0.4444444444444444,\"#bd3786\"],[0.5555555555555556,\"#d8576b\"],[0.6666666666666666,\"#ed7953\"],[0.7777777777777778,\"#fb9f3a\"],[0.8888888888888888,\"#fdca26\"],[1.0,\"#f0f921\"]]},\"colorway\":[\"#636efa\",\"#EF553B\",\"#00cc96\",\"#ab63fa\",\"#FFA15A\",\"#19d3f3\",\"#FF6692\",\"#B6E880\",\"#FF97FF\",\"#FECB52\"],\"font\":{\"color\":\"#2a3f5f\"},\"geo\":{\"bgcolor\":\"white\",\"lakecolor\":\"white\",\"landcolor\":\"white\",\"showlakes\":true,\"showland\":true,\"subunitcolor\":\"#C8D4E3\"},\"hoverlabel\":{\"align\":\"left\"},\"hovermode\":\"closest\",\"mapbox\":{\"style\":\"light\"},\"paper_bgcolor\":\"white\",\"plot_bgcolor\":\"white\",\"polar\":{\"angularaxis\":{\"gridcolor\":\"#EBF0F8\",\"linecolor\":\"#EBF0F8\",\"ticks\":\"\"},\"bgcolor\":\"white\",\"radialaxis\":{\"gridcolor\":\"#EBF0F8\",\"linecolor\":\"#EBF0F8\",\"ticks\":\"\"}},\"scene\":{\"xaxis\":{\"backgroundcolor\":\"white\",\"gridcolor\":\"#DFE8F3\",\"gridwidth\":2,\"linecolor\":\"#EBF0F8\",\"showbackground\":true,\"ticks\":\"\",\"zerolinecolor\":\"#EBF0F8\"},\"yaxis\":{\"backgroundcolor\":\"white\",\"gridcolor\":\"#DFE8F3\",\"gridwidth\":2,\"linecolor\":\"#EBF0F8\",\"showbackground\":true,\"ticks\":\"\",\"zerolinecolor\":\"#EBF0F8\"},\"zaxis\":{\"backgroundcolor\":\"white\",\"gridcolor\":\"#DFE8F3\",\"gridwidth\":2,\"linecolor\":\"#EBF0F8\",\"showbackground\":true,\"ticks\":\"\",\"zerolinecolor\":\"#EBF0F8\"}},\"shapedefaults\":{\"line\":{\"color\":\"#2a3f5f\"}},\"ternary\":{\"aaxis\":{\"gridcolor\":\"#DFE8F3\",\"linecolor\":\"#A2B1C6\",\"ticks\":\"\"},\"baxis\":{\"gridcolor\":\"#DFE8F3\",\"linecolor\":\"#A2B1C6\",\"ticks\":\"\"},\"bgcolor\":\"white\",\"caxis\":{\"gridcolor\":\"#DFE8F3\",\"linecolor\":\"#A2B1C6\",\"ticks\":\"\"}},\"title\":{\"x\":0.05},\"xaxis\":{\"automargin\":true,\"gridcolor\":\"#EBF0F8\",\"linecolor\":\"#EBF0F8\",\"ticks\":\"\",\"title\":{\"standoff\":15},\"zerolinecolor\":\"#EBF0F8\",\"zerolinewidth\":2},\"yaxis\":{\"automargin\":true,\"gridcolor\":\"#EBF0F8\",\"linecolor\":\"#EBF0F8\",\"ticks\":\"\",\"title\":{\"standoff\":15},\"zerolinecolor\":\"#EBF0F8\",\"zerolinewidth\":2}}},\"title\":{\"text\":\"BSA AACID\"},\"xaxis\":{\"title\":{\"text\":\"pH\"}},\"yaxis\":{\"title\":{\"text\":\"mean AACID\"}},\"width\":550,\"height\":400},                        {\"responsive\": true}                    ).then(function(){\n",
       "                            \n",
       "var gd = document.getElementById('1bbe9e27-10e7-4be8-9a14-7ffaf242aedc');\n",
       "var x = new MutationObserver(function (mutations, observer) {{\n",
       "        var display = window.getComputedStyle(gd).display;\n",
       "        if (!display || display === 'none') {{\n",
       "            console.log([gd, 'removed!']);\n",
       "            Plotly.purge(gd);\n",
       "            observer.disconnect();\n",
       "        }}\n",
       "}});\n",
       "\n",
       "// Listen for the removal of the full notebook cells\n",
       "var notebookContainer = gd.closest('#notebook-container');\n",
       "if (notebookContainer) {{\n",
       "    x.observe(notebookContainer, {childList: true});\n",
       "}}\n",
       "\n",
       "// Listen for the clearing of the current output cell\n",
       "var outputEl = gd.closest('.output');\n",
       "if (outputEl) {{\n",
       "    x.observe(outputEl, {childList: true});\n",
       "}}\n",
       "\n",
       "                        })                };                });            </script>        </div>"
      ]
     },
     "metadata": {},
     "output_type": "display_data"
    }
   ],
   "execution_count": 298
  },
  {
   "metadata": {
    "ExecuteTime": {
     "end_time": "2024-08-19T07:24:13.321088Z",
     "start_time": "2024-08-19T07:24:13.306767Z"
    }
   },
   "cell_type": "code",
   "source": [
    "ew_ph_list = [6.8, 6.99, 7.53, 6.58, 7.11, 7.3, 7.21]\n",
    "\n",
    "# Calculate the linear fit\n",
    "coefficients = np.polyfit(ew_ph_list, mean_list, 1)\n",
    "line_fit = np.polyval(coefficients, ew_ph_list)\n",
    "\n",
    "# Create a scatter plot\n",
    "fig = go.Figure(data=go.Scatter(x=ew_ph_list, y=mean_list, mode='markers', name='Data Points',\n",
    "        error_y=dict(\n",
    "        type='data',  # Use the given data\n",
    "        array=std_list,  # Standard deviations\n",
    "        visible=True  # Show error bars\n",
    "    )))\n",
    "# Add linear fit line\n",
    "fig.add_trace(go.Scatter(x=ew_ph_list, y=line_fit, mode='lines', name='Linear Fit'))\n",
    "\n",
    "# Add title and labels\n",
    "fig.update_layout(\n",
    "    title='Egg White AACID',\n",
    "    xaxis_title='pH',\n",
    "    yaxis_title='mean AACID',\n",
    "    template='plotly_white',  # Light mode with dark text\n",
    "    width=550,  # Adjust the width to make the plot narrower\n",
    "    height=400  # Optionally, adjust the height as well\n",
    ")\n",
    "\n",
    "# Show the plot\n",
    "fig.show()"
   ],
   "id": "3f9996f488183c53",
   "outputs": [
    {
     "data": {
      "application/vnd.plotly.v1+json": {
       "data": [
        {
         "error_y": {
          "array": [
           0.056510369389774114,
           0.08206097403028043,
           0.035347578404970624,
           0.057086165529555595,
           0.04802767046081358,
           0.07868010579550591,
           0.07193522751289243
          ],
          "type": "data",
          "visible": true
         },
         "mode": "markers",
         "name": "Data Points",
         "x": [
          6.8,
          6.99,
          7.53,
          6.58,
          7.11,
          7.3,
          7.21
         ],
         "y": [
          1.5081441959117599,
          1.956912921535554,
          1.5577631528759581,
          2.0214012656014972,
          1.7087894228765006,
          1.6660658727106945,
          1.610263049063863
         ],
         "type": "scatter"
        },
        {
         "mode": "lines",
         "name": "Linear Fit",
         "x": [
          6.8,
          6.99,
          7.53,
          6.58,
          7.11,
          7.3,
          7.21
         ],
         "y": [
          1.8147030462078821,
          1.748046549256281,
          1.5586017684464664,
          1.891884253204473,
          1.7059477090763218,
          1.639291212124721,
          1.67086534225969
         ],
         "type": "scatter"
        }
       ],
       "layout": {
        "template": {
         "data": {
          "barpolar": [
           {
            "marker": {
             "line": {
              "color": "white",
              "width": 0.5
             },
             "pattern": {
              "fillmode": "overlay",
              "size": 10,
              "solidity": 0.2
             }
            },
            "type": "barpolar"
           }
          ],
          "bar": [
           {
            "error_x": {
             "color": "#2a3f5f"
            },
            "error_y": {
             "color": "#2a3f5f"
            },
            "marker": {
             "line": {
              "color": "white",
              "width": 0.5
             },
             "pattern": {
              "fillmode": "overlay",
              "size": 10,
              "solidity": 0.2
             }
            },
            "type": "bar"
           }
          ],
          "carpet": [
           {
            "aaxis": {
             "endlinecolor": "#2a3f5f",
             "gridcolor": "#C8D4E3",
             "linecolor": "#C8D4E3",
             "minorgridcolor": "#C8D4E3",
             "startlinecolor": "#2a3f5f"
            },
            "baxis": {
             "endlinecolor": "#2a3f5f",
             "gridcolor": "#C8D4E3",
             "linecolor": "#C8D4E3",
             "minorgridcolor": "#C8D4E3",
             "startlinecolor": "#2a3f5f"
            },
            "type": "carpet"
           }
          ],
          "choropleth": [
           {
            "colorbar": {
             "outlinewidth": 0,
             "ticks": ""
            },
            "type": "choropleth"
           }
          ],
          "contourcarpet": [
           {
            "colorbar": {
             "outlinewidth": 0,
             "ticks": ""
            },
            "type": "contourcarpet"
           }
          ],
          "contour": [
           {
            "colorbar": {
             "outlinewidth": 0,
             "ticks": ""
            },
            "colorscale": [
             [
              0.0,
              "#0d0887"
             ],
             [
              0.1111111111111111,
              "#46039f"
             ],
             [
              0.2222222222222222,
              "#7201a8"
             ],
             [
              0.3333333333333333,
              "#9c179e"
             ],
             [
              0.4444444444444444,
              "#bd3786"
             ],
             [
              0.5555555555555556,
              "#d8576b"
             ],
             [
              0.6666666666666666,
              "#ed7953"
             ],
             [
              0.7777777777777778,
              "#fb9f3a"
             ],
             [
              0.8888888888888888,
              "#fdca26"
             ],
             [
              1.0,
              "#f0f921"
             ]
            ],
            "type": "contour"
           }
          ],
          "heatmapgl": [
           {
            "colorbar": {
             "outlinewidth": 0,
             "ticks": ""
            },
            "colorscale": [
             [
              0.0,
              "#0d0887"
             ],
             [
              0.1111111111111111,
              "#46039f"
             ],
             [
              0.2222222222222222,
              "#7201a8"
             ],
             [
              0.3333333333333333,
              "#9c179e"
             ],
             [
              0.4444444444444444,
              "#bd3786"
             ],
             [
              0.5555555555555556,
              "#d8576b"
             ],
             [
              0.6666666666666666,
              "#ed7953"
             ],
             [
              0.7777777777777778,
              "#fb9f3a"
             ],
             [
              0.8888888888888888,
              "#fdca26"
             ],
             [
              1.0,
              "#f0f921"
             ]
            ],
            "type": "heatmapgl"
           }
          ],
          "heatmap": [
           {
            "colorbar": {
             "outlinewidth": 0,
             "ticks": ""
            },
            "colorscale": [
             [
              0.0,
              "#0d0887"
             ],
             [
              0.1111111111111111,
              "#46039f"
             ],
             [
              0.2222222222222222,
              "#7201a8"
             ],
             [
              0.3333333333333333,
              "#9c179e"
             ],
             [
              0.4444444444444444,
              "#bd3786"
             ],
             [
              0.5555555555555556,
              "#d8576b"
             ],
             [
              0.6666666666666666,
              "#ed7953"
             ],
             [
              0.7777777777777778,
              "#fb9f3a"
             ],
             [
              0.8888888888888888,
              "#fdca26"
             ],
             [
              1.0,
              "#f0f921"
             ]
            ],
            "type": "heatmap"
           }
          ],
          "histogram2dcontour": [
           {
            "colorbar": {
             "outlinewidth": 0,
             "ticks": ""
            },
            "colorscale": [
             [
              0.0,
              "#0d0887"
             ],
             [
              0.1111111111111111,
              "#46039f"
             ],
             [
              0.2222222222222222,
              "#7201a8"
             ],
             [
              0.3333333333333333,
              "#9c179e"
             ],
             [
              0.4444444444444444,
              "#bd3786"
             ],
             [
              0.5555555555555556,
              "#d8576b"
             ],
             [
              0.6666666666666666,
              "#ed7953"
             ],
             [
              0.7777777777777778,
              "#fb9f3a"
             ],
             [
              0.8888888888888888,
              "#fdca26"
             ],
             [
              1.0,
              "#f0f921"
             ]
            ],
            "type": "histogram2dcontour"
           }
          ],
          "histogram2d": [
           {
            "colorbar": {
             "outlinewidth": 0,
             "ticks": ""
            },
            "colorscale": [
             [
              0.0,
              "#0d0887"
             ],
             [
              0.1111111111111111,
              "#46039f"
             ],
             [
              0.2222222222222222,
              "#7201a8"
             ],
             [
              0.3333333333333333,
              "#9c179e"
             ],
             [
              0.4444444444444444,
              "#bd3786"
             ],
             [
              0.5555555555555556,
              "#d8576b"
             ],
             [
              0.6666666666666666,
              "#ed7953"
             ],
             [
              0.7777777777777778,
              "#fb9f3a"
             ],
             [
              0.8888888888888888,
              "#fdca26"
             ],
             [
              1.0,
              "#f0f921"
             ]
            ],
            "type": "histogram2d"
           }
          ],
          "histogram": [
           {
            "marker": {
             "pattern": {
              "fillmode": "overlay",
              "size": 10,
              "solidity": 0.2
             }
            },
            "type": "histogram"
           }
          ],
          "mesh3d": [
           {
            "colorbar": {
             "outlinewidth": 0,
             "ticks": ""
            },
            "type": "mesh3d"
           }
          ],
          "parcoords": [
           {
            "line": {
             "colorbar": {
              "outlinewidth": 0,
              "ticks": ""
             }
            },
            "type": "parcoords"
           }
          ],
          "pie": [
           {
            "automargin": true,
            "type": "pie"
           }
          ],
          "scatter3d": [
           {
            "line": {
             "colorbar": {
              "outlinewidth": 0,
              "ticks": ""
             }
            },
            "marker": {
             "colorbar": {
              "outlinewidth": 0,
              "ticks": ""
             }
            },
            "type": "scatter3d"
           }
          ],
          "scattercarpet": [
           {
            "marker": {
             "colorbar": {
              "outlinewidth": 0,
              "ticks": ""
             }
            },
            "type": "scattercarpet"
           }
          ],
          "scattergeo": [
           {
            "marker": {
             "colorbar": {
              "outlinewidth": 0,
              "ticks": ""
             }
            },
            "type": "scattergeo"
           }
          ],
          "scattergl": [
           {
            "marker": {
             "colorbar": {
              "outlinewidth": 0,
              "ticks": ""
             }
            },
            "type": "scattergl"
           }
          ],
          "scattermapbox": [
           {
            "marker": {
             "colorbar": {
              "outlinewidth": 0,
              "ticks": ""
             }
            },
            "type": "scattermapbox"
           }
          ],
          "scatterpolargl": [
           {
            "marker": {
             "colorbar": {
              "outlinewidth": 0,
              "ticks": ""
             }
            },
            "type": "scatterpolargl"
           }
          ],
          "scatterpolar": [
           {
            "marker": {
             "colorbar": {
              "outlinewidth": 0,
              "ticks": ""
             }
            },
            "type": "scatterpolar"
           }
          ],
          "scatter": [
           {
            "fillpattern": {
             "fillmode": "overlay",
             "size": 10,
             "solidity": 0.2
            },
            "type": "scatter"
           }
          ],
          "scatterternary": [
           {
            "marker": {
             "colorbar": {
              "outlinewidth": 0,
              "ticks": ""
             }
            },
            "type": "scatterternary"
           }
          ],
          "surface": [
           {
            "colorbar": {
             "outlinewidth": 0,
             "ticks": ""
            },
            "colorscale": [
             [
              0.0,
              "#0d0887"
             ],
             [
              0.1111111111111111,
              "#46039f"
             ],
             [
              0.2222222222222222,
              "#7201a8"
             ],
             [
              0.3333333333333333,
              "#9c179e"
             ],
             [
              0.4444444444444444,
              "#bd3786"
             ],
             [
              0.5555555555555556,
              "#d8576b"
             ],
             [
              0.6666666666666666,
              "#ed7953"
             ],
             [
              0.7777777777777778,
              "#fb9f3a"
             ],
             [
              0.8888888888888888,
              "#fdca26"
             ],
             [
              1.0,
              "#f0f921"
             ]
            ],
            "type": "surface"
           }
          ],
          "table": [
           {
            "cells": {
             "fill": {
              "color": "#EBF0F8"
             },
             "line": {
              "color": "white"
             }
            },
            "header": {
             "fill": {
              "color": "#C8D4E3"
             },
             "line": {
              "color": "white"
             }
            },
            "type": "table"
           }
          ]
         },
         "layout": {
          "annotationdefaults": {
           "arrowcolor": "#2a3f5f",
           "arrowhead": 0,
           "arrowwidth": 1
          },
          "autotypenumbers": "strict",
          "coloraxis": {
           "colorbar": {
            "outlinewidth": 0,
            "ticks": ""
           }
          },
          "colorscale": {
           "diverging": [
            [
             0,
             "#8e0152"
            ],
            [
             0.1,
             "#c51b7d"
            ],
            [
             0.2,
             "#de77ae"
            ],
            [
             0.3,
             "#f1b6da"
            ],
            [
             0.4,
             "#fde0ef"
            ],
            [
             0.5,
             "#f7f7f7"
            ],
            [
             0.6,
             "#e6f5d0"
            ],
            [
             0.7,
             "#b8e186"
            ],
            [
             0.8,
             "#7fbc41"
            ],
            [
             0.9,
             "#4d9221"
            ],
            [
             1,
             "#276419"
            ]
           ],
           "sequential": [
            [
             0.0,
             "#0d0887"
            ],
            [
             0.1111111111111111,
             "#46039f"
            ],
            [
             0.2222222222222222,
             "#7201a8"
            ],
            [
             0.3333333333333333,
             "#9c179e"
            ],
            [
             0.4444444444444444,
             "#bd3786"
            ],
            [
             0.5555555555555556,
             "#d8576b"
            ],
            [
             0.6666666666666666,
             "#ed7953"
            ],
            [
             0.7777777777777778,
             "#fb9f3a"
            ],
            [
             0.8888888888888888,
             "#fdca26"
            ],
            [
             1.0,
             "#f0f921"
            ]
           ],
           "sequentialminus": [
            [
             0.0,
             "#0d0887"
            ],
            [
             0.1111111111111111,
             "#46039f"
            ],
            [
             0.2222222222222222,
             "#7201a8"
            ],
            [
             0.3333333333333333,
             "#9c179e"
            ],
            [
             0.4444444444444444,
             "#bd3786"
            ],
            [
             0.5555555555555556,
             "#d8576b"
            ],
            [
             0.6666666666666666,
             "#ed7953"
            ],
            [
             0.7777777777777778,
             "#fb9f3a"
            ],
            [
             0.8888888888888888,
             "#fdca26"
            ],
            [
             1.0,
             "#f0f921"
            ]
           ]
          },
          "colorway": [
           "#636efa",
           "#EF553B",
           "#00cc96",
           "#ab63fa",
           "#FFA15A",
           "#19d3f3",
           "#FF6692",
           "#B6E880",
           "#FF97FF",
           "#FECB52"
          ],
          "font": {
           "color": "#2a3f5f"
          },
          "geo": {
           "bgcolor": "white",
           "lakecolor": "white",
           "landcolor": "white",
           "showlakes": true,
           "showland": true,
           "subunitcolor": "#C8D4E3"
          },
          "hoverlabel": {
           "align": "left"
          },
          "hovermode": "closest",
          "mapbox": {
           "style": "light"
          },
          "paper_bgcolor": "white",
          "plot_bgcolor": "white",
          "polar": {
           "angularaxis": {
            "gridcolor": "#EBF0F8",
            "linecolor": "#EBF0F8",
            "ticks": ""
           },
           "bgcolor": "white",
           "radialaxis": {
            "gridcolor": "#EBF0F8",
            "linecolor": "#EBF0F8",
            "ticks": ""
           }
          },
          "scene": {
           "xaxis": {
            "backgroundcolor": "white",
            "gridcolor": "#DFE8F3",
            "gridwidth": 2,
            "linecolor": "#EBF0F8",
            "showbackground": true,
            "ticks": "",
            "zerolinecolor": "#EBF0F8"
           },
           "yaxis": {
            "backgroundcolor": "white",
            "gridcolor": "#DFE8F3",
            "gridwidth": 2,
            "linecolor": "#EBF0F8",
            "showbackground": true,
            "ticks": "",
            "zerolinecolor": "#EBF0F8"
           },
           "zaxis": {
            "backgroundcolor": "white",
            "gridcolor": "#DFE8F3",
            "gridwidth": 2,
            "linecolor": "#EBF0F8",
            "showbackground": true,
            "ticks": "",
            "zerolinecolor": "#EBF0F8"
           }
          },
          "shapedefaults": {
           "line": {
            "color": "#2a3f5f"
           }
          },
          "ternary": {
           "aaxis": {
            "gridcolor": "#DFE8F3",
            "linecolor": "#A2B1C6",
            "ticks": ""
           },
           "baxis": {
            "gridcolor": "#DFE8F3",
            "linecolor": "#A2B1C6",
            "ticks": ""
           },
           "bgcolor": "white",
           "caxis": {
            "gridcolor": "#DFE8F3",
            "linecolor": "#A2B1C6",
            "ticks": ""
           }
          },
          "title": {
           "x": 0.05
          },
          "xaxis": {
           "automargin": true,
           "gridcolor": "#EBF0F8",
           "linecolor": "#EBF0F8",
           "ticks": "",
           "title": {
            "standoff": 15
           },
           "zerolinecolor": "#EBF0F8",
           "zerolinewidth": 2
          },
          "yaxis": {
           "automargin": true,
           "gridcolor": "#EBF0F8",
           "linecolor": "#EBF0F8",
           "ticks": "",
           "title": {
            "standoff": 15
           },
           "zerolinecolor": "#EBF0F8",
           "zerolinewidth": 2
          }
         }
        },
        "title": {
         "text": "Egg White AACID"
        },
        "xaxis": {
         "title": {
          "text": "pH"
         }
        },
        "yaxis": {
         "title": {
          "text": "mean AACID"
         }
        },
        "width": 550,
        "height": 400
       },
       "config": {
        "plotlyServerURL": "https://plot.ly"
       }
      },
      "text/html": [
       "<div>                            <div id=\"f611d831-06ab-48d0-ae08-3fcfd4716528\" class=\"plotly-graph-div\" style=\"height:400px; width:550px;\"></div>            <script type=\"text/javascript\">                require([\"plotly\"], function(Plotly) {                    window.PLOTLYENV=window.PLOTLYENV || {};                                    if (document.getElementById(\"f611d831-06ab-48d0-ae08-3fcfd4716528\")) {                    Plotly.newPlot(                        \"f611d831-06ab-48d0-ae08-3fcfd4716528\",                        [{\"error_y\":{\"array\":[0.056510369389774114,0.08206097403028043,0.035347578404970624,0.057086165529555595,0.04802767046081358,0.07868010579550591,0.07193522751289243],\"type\":\"data\",\"visible\":true},\"mode\":\"markers\",\"name\":\"Data Points\",\"x\":[6.8,6.99,7.53,6.58,7.11,7.3,7.21],\"y\":[1.5081441959117599,1.956912921535554,1.5577631528759581,2.0214012656014972,1.7087894228765006,1.6660658727106945,1.610263049063863],\"type\":\"scatter\"},{\"mode\":\"lines\",\"name\":\"Linear Fit\",\"x\":[6.8,6.99,7.53,6.58,7.11,7.3,7.21],\"y\":[1.8147030462078821,1.748046549256281,1.5586017684464664,1.891884253204473,1.7059477090763218,1.639291212124721,1.67086534225969],\"type\":\"scatter\"}],                        {\"template\":{\"data\":{\"barpolar\":[{\"marker\":{\"line\":{\"color\":\"white\",\"width\":0.5},\"pattern\":{\"fillmode\":\"overlay\",\"size\":10,\"solidity\":0.2}},\"type\":\"barpolar\"}],\"bar\":[{\"error_x\":{\"color\":\"#2a3f5f\"},\"error_y\":{\"color\":\"#2a3f5f\"},\"marker\":{\"line\":{\"color\":\"white\",\"width\":0.5},\"pattern\":{\"fillmode\":\"overlay\",\"size\":10,\"solidity\":0.2}},\"type\":\"bar\"}],\"carpet\":[{\"aaxis\":{\"endlinecolor\":\"#2a3f5f\",\"gridcolor\":\"#C8D4E3\",\"linecolor\":\"#C8D4E3\",\"minorgridcolor\":\"#C8D4E3\",\"startlinecolor\":\"#2a3f5f\"},\"baxis\":{\"endlinecolor\":\"#2a3f5f\",\"gridcolor\":\"#C8D4E3\",\"linecolor\":\"#C8D4E3\",\"minorgridcolor\":\"#C8D4E3\",\"startlinecolor\":\"#2a3f5f\"},\"type\":\"carpet\"}],\"choropleth\":[{\"colorbar\":{\"outlinewidth\":0,\"ticks\":\"\"},\"type\":\"choropleth\"}],\"contourcarpet\":[{\"colorbar\":{\"outlinewidth\":0,\"ticks\":\"\"},\"type\":\"contourcarpet\"}],\"contour\":[{\"colorbar\":{\"outlinewidth\":0,\"ticks\":\"\"},\"colorscale\":[[0.0,\"#0d0887\"],[0.1111111111111111,\"#46039f\"],[0.2222222222222222,\"#7201a8\"],[0.3333333333333333,\"#9c179e\"],[0.4444444444444444,\"#bd3786\"],[0.5555555555555556,\"#d8576b\"],[0.6666666666666666,\"#ed7953\"],[0.7777777777777778,\"#fb9f3a\"],[0.8888888888888888,\"#fdca26\"],[1.0,\"#f0f921\"]],\"type\":\"contour\"}],\"heatmapgl\":[{\"colorbar\":{\"outlinewidth\":0,\"ticks\":\"\"},\"colorscale\":[[0.0,\"#0d0887\"],[0.1111111111111111,\"#46039f\"],[0.2222222222222222,\"#7201a8\"],[0.3333333333333333,\"#9c179e\"],[0.4444444444444444,\"#bd3786\"],[0.5555555555555556,\"#d8576b\"],[0.6666666666666666,\"#ed7953\"],[0.7777777777777778,\"#fb9f3a\"],[0.8888888888888888,\"#fdca26\"],[1.0,\"#f0f921\"]],\"type\":\"heatmapgl\"}],\"heatmap\":[{\"colorbar\":{\"outlinewidth\":0,\"ticks\":\"\"},\"colorscale\":[[0.0,\"#0d0887\"],[0.1111111111111111,\"#46039f\"],[0.2222222222222222,\"#7201a8\"],[0.3333333333333333,\"#9c179e\"],[0.4444444444444444,\"#bd3786\"],[0.5555555555555556,\"#d8576b\"],[0.6666666666666666,\"#ed7953\"],[0.7777777777777778,\"#fb9f3a\"],[0.8888888888888888,\"#fdca26\"],[1.0,\"#f0f921\"]],\"type\":\"heatmap\"}],\"histogram2dcontour\":[{\"colorbar\":{\"outlinewidth\":0,\"ticks\":\"\"},\"colorscale\":[[0.0,\"#0d0887\"],[0.1111111111111111,\"#46039f\"],[0.2222222222222222,\"#7201a8\"],[0.3333333333333333,\"#9c179e\"],[0.4444444444444444,\"#bd3786\"],[0.5555555555555556,\"#d8576b\"],[0.6666666666666666,\"#ed7953\"],[0.7777777777777778,\"#fb9f3a\"],[0.8888888888888888,\"#fdca26\"],[1.0,\"#f0f921\"]],\"type\":\"histogram2dcontour\"}],\"histogram2d\":[{\"colorbar\":{\"outlinewidth\":0,\"ticks\":\"\"},\"colorscale\":[[0.0,\"#0d0887\"],[0.1111111111111111,\"#46039f\"],[0.2222222222222222,\"#7201a8\"],[0.3333333333333333,\"#9c179e\"],[0.4444444444444444,\"#bd3786\"],[0.5555555555555556,\"#d8576b\"],[0.6666666666666666,\"#ed7953\"],[0.7777777777777778,\"#fb9f3a\"],[0.8888888888888888,\"#fdca26\"],[1.0,\"#f0f921\"]],\"type\":\"histogram2d\"}],\"histogram\":[{\"marker\":{\"pattern\":{\"fillmode\":\"overlay\",\"size\":10,\"solidity\":0.2}},\"type\":\"histogram\"}],\"mesh3d\":[{\"colorbar\":{\"outlinewidth\":0,\"ticks\":\"\"},\"type\":\"mesh3d\"}],\"parcoords\":[{\"line\":{\"colorbar\":{\"outlinewidth\":0,\"ticks\":\"\"}},\"type\":\"parcoords\"}],\"pie\":[{\"automargin\":true,\"type\":\"pie\"}],\"scatter3d\":[{\"line\":{\"colorbar\":{\"outlinewidth\":0,\"ticks\":\"\"}},\"marker\":{\"colorbar\":{\"outlinewidth\":0,\"ticks\":\"\"}},\"type\":\"scatter3d\"}],\"scattercarpet\":[{\"marker\":{\"colorbar\":{\"outlinewidth\":0,\"ticks\":\"\"}},\"type\":\"scattercarpet\"}],\"scattergeo\":[{\"marker\":{\"colorbar\":{\"outlinewidth\":0,\"ticks\":\"\"}},\"type\":\"scattergeo\"}],\"scattergl\":[{\"marker\":{\"colorbar\":{\"outlinewidth\":0,\"ticks\":\"\"}},\"type\":\"scattergl\"}],\"scattermapbox\":[{\"marker\":{\"colorbar\":{\"outlinewidth\":0,\"ticks\":\"\"}},\"type\":\"scattermapbox\"}],\"scatterpolargl\":[{\"marker\":{\"colorbar\":{\"outlinewidth\":0,\"ticks\":\"\"}},\"type\":\"scatterpolargl\"}],\"scatterpolar\":[{\"marker\":{\"colorbar\":{\"outlinewidth\":0,\"ticks\":\"\"}},\"type\":\"scatterpolar\"}],\"scatter\":[{\"fillpattern\":{\"fillmode\":\"overlay\",\"size\":10,\"solidity\":0.2},\"type\":\"scatter\"}],\"scatterternary\":[{\"marker\":{\"colorbar\":{\"outlinewidth\":0,\"ticks\":\"\"}},\"type\":\"scatterternary\"}],\"surface\":[{\"colorbar\":{\"outlinewidth\":0,\"ticks\":\"\"},\"colorscale\":[[0.0,\"#0d0887\"],[0.1111111111111111,\"#46039f\"],[0.2222222222222222,\"#7201a8\"],[0.3333333333333333,\"#9c179e\"],[0.4444444444444444,\"#bd3786\"],[0.5555555555555556,\"#d8576b\"],[0.6666666666666666,\"#ed7953\"],[0.7777777777777778,\"#fb9f3a\"],[0.8888888888888888,\"#fdca26\"],[1.0,\"#f0f921\"]],\"type\":\"surface\"}],\"table\":[{\"cells\":{\"fill\":{\"color\":\"#EBF0F8\"},\"line\":{\"color\":\"white\"}},\"header\":{\"fill\":{\"color\":\"#C8D4E3\"},\"line\":{\"color\":\"white\"}},\"type\":\"table\"}]},\"layout\":{\"annotationdefaults\":{\"arrowcolor\":\"#2a3f5f\",\"arrowhead\":0,\"arrowwidth\":1},\"autotypenumbers\":\"strict\",\"coloraxis\":{\"colorbar\":{\"outlinewidth\":0,\"ticks\":\"\"}},\"colorscale\":{\"diverging\":[[0,\"#8e0152\"],[0.1,\"#c51b7d\"],[0.2,\"#de77ae\"],[0.3,\"#f1b6da\"],[0.4,\"#fde0ef\"],[0.5,\"#f7f7f7\"],[0.6,\"#e6f5d0\"],[0.7,\"#b8e186\"],[0.8,\"#7fbc41\"],[0.9,\"#4d9221\"],[1,\"#276419\"]],\"sequential\":[[0.0,\"#0d0887\"],[0.1111111111111111,\"#46039f\"],[0.2222222222222222,\"#7201a8\"],[0.3333333333333333,\"#9c179e\"],[0.4444444444444444,\"#bd3786\"],[0.5555555555555556,\"#d8576b\"],[0.6666666666666666,\"#ed7953\"],[0.7777777777777778,\"#fb9f3a\"],[0.8888888888888888,\"#fdca26\"],[1.0,\"#f0f921\"]],\"sequentialminus\":[[0.0,\"#0d0887\"],[0.1111111111111111,\"#46039f\"],[0.2222222222222222,\"#7201a8\"],[0.3333333333333333,\"#9c179e\"],[0.4444444444444444,\"#bd3786\"],[0.5555555555555556,\"#d8576b\"],[0.6666666666666666,\"#ed7953\"],[0.7777777777777778,\"#fb9f3a\"],[0.8888888888888888,\"#fdca26\"],[1.0,\"#f0f921\"]]},\"colorway\":[\"#636efa\",\"#EF553B\",\"#00cc96\",\"#ab63fa\",\"#FFA15A\",\"#19d3f3\",\"#FF6692\",\"#B6E880\",\"#FF97FF\",\"#FECB52\"],\"font\":{\"color\":\"#2a3f5f\"},\"geo\":{\"bgcolor\":\"white\",\"lakecolor\":\"white\",\"landcolor\":\"white\",\"showlakes\":true,\"showland\":true,\"subunitcolor\":\"#C8D4E3\"},\"hoverlabel\":{\"align\":\"left\"},\"hovermode\":\"closest\",\"mapbox\":{\"style\":\"light\"},\"paper_bgcolor\":\"white\",\"plot_bgcolor\":\"white\",\"polar\":{\"angularaxis\":{\"gridcolor\":\"#EBF0F8\",\"linecolor\":\"#EBF0F8\",\"ticks\":\"\"},\"bgcolor\":\"white\",\"radialaxis\":{\"gridcolor\":\"#EBF0F8\",\"linecolor\":\"#EBF0F8\",\"ticks\":\"\"}},\"scene\":{\"xaxis\":{\"backgroundcolor\":\"white\",\"gridcolor\":\"#DFE8F3\",\"gridwidth\":2,\"linecolor\":\"#EBF0F8\",\"showbackground\":true,\"ticks\":\"\",\"zerolinecolor\":\"#EBF0F8\"},\"yaxis\":{\"backgroundcolor\":\"white\",\"gridcolor\":\"#DFE8F3\",\"gridwidth\":2,\"linecolor\":\"#EBF0F8\",\"showbackground\":true,\"ticks\":\"\",\"zerolinecolor\":\"#EBF0F8\"},\"zaxis\":{\"backgroundcolor\":\"white\",\"gridcolor\":\"#DFE8F3\",\"gridwidth\":2,\"linecolor\":\"#EBF0F8\",\"showbackground\":true,\"ticks\":\"\",\"zerolinecolor\":\"#EBF0F8\"}},\"shapedefaults\":{\"line\":{\"color\":\"#2a3f5f\"}},\"ternary\":{\"aaxis\":{\"gridcolor\":\"#DFE8F3\",\"linecolor\":\"#A2B1C6\",\"ticks\":\"\"},\"baxis\":{\"gridcolor\":\"#DFE8F3\",\"linecolor\":\"#A2B1C6\",\"ticks\":\"\"},\"bgcolor\":\"white\",\"caxis\":{\"gridcolor\":\"#DFE8F3\",\"linecolor\":\"#A2B1C6\",\"ticks\":\"\"}},\"title\":{\"x\":0.05},\"xaxis\":{\"automargin\":true,\"gridcolor\":\"#EBF0F8\",\"linecolor\":\"#EBF0F8\",\"ticks\":\"\",\"title\":{\"standoff\":15},\"zerolinecolor\":\"#EBF0F8\",\"zerolinewidth\":2},\"yaxis\":{\"automargin\":true,\"gridcolor\":\"#EBF0F8\",\"linecolor\":\"#EBF0F8\",\"ticks\":\"\",\"title\":{\"standoff\":15},\"zerolinecolor\":\"#EBF0F8\",\"zerolinewidth\":2}}},\"title\":{\"text\":\"Egg White AACID\"},\"xaxis\":{\"title\":{\"text\":\"pH\"}},\"yaxis\":{\"title\":{\"text\":\"mean AACID\"}},\"width\":550,\"height\":400},                        {\"responsive\": true}                    ).then(function(){\n",
       "                            \n",
       "var gd = document.getElementById('f611d831-06ab-48d0-ae08-3fcfd4716528');\n",
       "var x = new MutationObserver(function (mutations, observer) {{\n",
       "        var display = window.getComputedStyle(gd).display;\n",
       "        if (!display || display === 'none') {{\n",
       "            console.log([gd, 'removed!']);\n",
       "            Plotly.purge(gd);\n",
       "            observer.disconnect();\n",
       "        }}\n",
       "}});\n",
       "\n",
       "// Listen for the removal of the full notebook cells\n",
       "var notebookContainer = gd.closest('#notebook-container');\n",
       "if (notebookContainer) {{\n",
       "    x.observe(notebookContainer, {childList: true});\n",
       "}}\n",
       "\n",
       "// Listen for the clearing of the current output cell\n",
       "var outputEl = gd.closest('.output');\n",
       "if (outputEl) {{\n",
       "    x.observe(outputEl, {childList: true});\n",
       "}}\n",
       "\n",
       "                        })                };                });            </script>        </div>"
      ]
     },
     "metadata": {},
     "output_type": "display_data"
    }
   ],
   "execution_count": 299
  },
  {
   "metadata": {
    "ExecuteTime": {
     "end_time": "2024-08-19T07:24:13.329189Z",
     "start_time": "2024-08-19T07:24:13.321656Z"
    }
   },
   "cell_type": "code",
   "source": [
    "# # ph_map = (aacid_map - 6.1357681)/-0.6265661  # my bsa calibration\n",
    "# # ph_map = (aacid_map - 6.5) / (-0.64)  # their bsa calibration\n",
    "# # Compute the transformation in slope and intercept\n",
    "# delta_m = -0.64 - (-0.6265661)\n",
    "# delta_c = 6.5 - 6.1357681\n",
    "# \n",
    "# # Apply the transformation to Line 3\n",
    "# m3_transformed = -0.25 + delta_m\n",
    "# c3_transformed = 3.2 + delta_c\n",
    "# y3_transformed = np.polyval([m3_transformed, c3_transformed], x)"
   ],
   "id": "8f3fba66c96b9a47",
   "outputs": [],
   "execution_count": 300
  },
  {
   "metadata": {
    "ExecuteTime": {
     "end_time": "2024-08-19T07:24:13.334318Z",
     "start_time": "2024-08-19T07:24:13.329793Z"
    }
   },
   "cell_type": "code",
   "source": [
    "# AACID_bsa    = -0.64      * ph + 6.5        # their bsa calibration\n",
    "# AACID_bsa_my = -0.6265661 * ph + 6.1357681  # my bsa calibration\n",
    "\n",
    "# AACID = -0.25 * ph + 3.2  \n",
    "# AACID_proj = -0.2365661 * ph + 2.8357681\n",
    "# ph = (aacid - 2.8357681) / -0.2365661\n",
    "m1, c1 = -0.64, 6.5\n",
    "m2, c2 = -0.6265661, 6.1357681\n",
    "m3, c3 = -0.25, 3.2\n",
    "# Calculate the transformation (delta)\n",
    "delta_m = m2 - m1\n",
    "delta_c = c2 - c1\n",
    "\n",
    "# Apply the transformation to Line 3 to get Line 4\n",
    "m4 = m3 + delta_m\n",
    "c4 = c3 + delta_c\n",
    "\n"
   ],
   "id": "a46bbeb8faa798b7",
   "outputs": [],
   "execution_count": 301
  },
  {
   "metadata": {
    "ExecuteTime": {
     "end_time": "2024-08-19T07:24:13.356825Z",
     "start_time": "2024-08-19T07:24:13.335045Z"
    }
   },
   "cell_type": "code",
   "source": [
    "import plotly.express as px\n",
    "\n",
    "fig = px.imshow(aacid_map, zmin=2, zmax=3)\n",
    "# fig = px.imshow(aacid_map, zmin=1.2, zmax=2.5)\n",
    "fig.show()\n"
   ],
   "id": "417e4dd6af9d39bc",
   "outputs": [
    {
     "data": {
      "application/vnd.plotly.v1+json": {
       "data": [
        {
         "coloraxis": "coloraxis",
         "name": "0",
         "z": [
          [
           0.0,
           0.0,
           0.0,
           0.0,
           0.0,
           0.0,
           0.0,
           0.0,
           0.0,
           0.0,
           0.0,
           0.0,
           0.0,
           0.0,
           0.0,
           0.0,
           0.0,
           0.0,
           0.0,
           0.0,
           0.0,
           0.0,
           0.0,
           0.0,
           0.0,
           0.0,
           0.0,
           0.0,
           0.0,
           0.0,
           0.0,
           0.0,
           0.0,
           0.0,
           0.0,
           0.0,
           0.0,
           0.0,
           0.0,
           0.0,
           0.0,
           0.0,
           0.0,
           0.0,
           0.0,
           0.0,
           0.0,
           0.0,
           0.0,
           0.0,
           0.0,
           0.0,
           0.0,
           0.0,
           0.0,
           0.0,
           0.0,
           0.0,
           0.0,
           0.0,
           0.0,
           0.0,
           0.0,
           0.0
          ],
          [
           0.0,
           0.0,
           0.0,
           0.0,
           0.0,
           0.0,
           0.0,
           0.0,
           0.0,
           0.0,
           0.0,
           0.0,
           0.0,
           0.0,
           0.0,
           0.0,
           0.0,
           0.0,
           0.0,
           0.0,
           0.0,
           0.0,
           0.0,
           0.0,
           0.0,
           0.0,
           0.0,
           0.0,
           0.0,
           0.0,
           0.0,
           0.0,
           0.0,
           0.0,
           0.0,
           0.0,
           0.0,
           0.0,
           0.0,
           0.0,
           0.0,
           0.0,
           0.0,
           0.0,
           0.0,
           0.0,
           0.0,
           0.0,
           0.0,
           0.0,
           0.0,
           0.0,
           0.0,
           0.0,
           0.0,
           0.0,
           0.0,
           0.0,
           0.0,
           0.0,
           0.0,
           0.0,
           0.0,
           0.0
          ],
          [
           0.0,
           0.0,
           0.0,
           0.0,
           0.0,
           0.0,
           0.0,
           0.0,
           0.0,
           0.0,
           0.0,
           0.0,
           0.0,
           0.0,
           0.0,
           0.0,
           0.0,
           0.0,
           0.0,
           0.0,
           0.0,
           0.0,
           0.0,
           0.0,
           0.0,
           0.0,
           0.0,
           0.0,
           0.0,
           0.0,
           0.0,
           0.0,
           0.0,
           0.0,
           0.0,
           0.0,
           0.0,
           0.0,
           0.0,
           0.0,
           0.0,
           0.0,
           0.0,
           0.0,
           0.0,
           0.0,
           0.0,
           0.0,
           0.0,
           0.0,
           0.0,
           0.0,
           0.0,
           0.0,
           0.0,
           0.0,
           0.0,
           0.0,
           0.0,
           0.0,
           0.0,
           0.0,
           0.0,
           0.0
          ],
          [
           0.0,
           0.0,
           0.0,
           0.0,
           0.0,
           0.0,
           0.0,
           0.0,
           0.0,
           0.0,
           0.0,
           0.0,
           0.0,
           0.0,
           0.0,
           0.0,
           0.0,
           0.0,
           0.0,
           0.0,
           0.0,
           0.0,
           0.0,
           0.0,
           0.0,
           0.0,
           0.0,
           0.0,
           0.0,
           0.0,
           0.0,
           0.0,
           0.0,
           0.0,
           0.0,
           0.0,
           0.0,
           0.0,
           0.0,
           0.0,
           0.0,
           0.0,
           0.0,
           0.0,
           0.0,
           0.0,
           0.0,
           0.0,
           0.0,
           0.0,
           0.0,
           0.0,
           0.0,
           0.0,
           0.0,
           0.0,
           0.0,
           0.0,
           0.0,
           0.0,
           0.0,
           0.0,
           0.0,
           0.0
          ],
          [
           0.0,
           0.0,
           0.0,
           0.0,
           0.0,
           0.0,
           0.0,
           0.0,
           0.0,
           0.0,
           0.0,
           0.0,
           0.0,
           0.0,
           0.0,
           0.0,
           0.0,
           0.0,
           0.0,
           0.0,
           0.0,
           0.0,
           0.0,
           0.0,
           0.0,
           0.0,
           0.0,
           0.0,
           0.0,
           0.0,
           0.0,
           0.0,
           0.0,
           0.0,
           0.0,
           0.0,
           0.0,
           0.0,
           0.0,
           0.0,
           0.0,
           0.0,
           0.0,
           0.0,
           0.0,
           0.0,
           0.0,
           0.0,
           0.0,
           0.0,
           0.0,
           0.0,
           0.0,
           0.0,
           0.0,
           0.0,
           0.0,
           0.0,
           0.0,
           0.0,
           0.0,
           0.0,
           0.0,
           0.0
          ],
          [
           0.0,
           0.0,
           0.0,
           0.0,
           0.0,
           0.0,
           0.0,
           0.0,
           0.0,
           0.0,
           0.0,
           0.0,
           0.0,
           0.0,
           0.0,
           0.0,
           0.0,
           0.0,
           0.0,
           0.0,
           0.0,
           0.0,
           0.0,
           0.0,
           0.0,
           0.0,
           0.0,
           0.0,
           0.0,
           0.0,
           0.0,
           0.0,
           0.0,
           0.0,
           0.0,
           0.0,
           0.0,
           0.0,
           0.0,
           0.0,
           0.0,
           0.0,
           0.0,
           0.0,
           0.0,
           0.0,
           0.0,
           0.0,
           0.0,
           0.0,
           0.0,
           0.0,
           0.0,
           0.0,
           0.0,
           0.0,
           0.0,
           0.0,
           0.0,
           0.0,
           0.0,
           0.0,
           0.0,
           0.0
          ],
          [
           0.0,
           0.0,
           0.0,
           0.0,
           0.0,
           0.0,
           0.0,
           0.0,
           0.0,
           0.0,
           0.0,
           0.0,
           0.0,
           0.0,
           0.0,
           0.0,
           0.0,
           0.0,
           0.0,
           0.0,
           0.0,
           0.0,
           0.0,
           0.0,
           0.0,
           0.0,
           0.0,
           0.0,
           0.0,
           0.0,
           0.0,
           0.0,
           0.0,
           0.0,
           0.0,
           0.0,
           0.0,
           0.0,
           0.0,
           0.0,
           0.0,
           0.0,
           0.0,
           0.0,
           0.0,
           0.0,
           0.0,
           0.0,
           0.0,
           0.0,
           0.0,
           0.0,
           0.0,
           0.0,
           0.0,
           0.0,
           0.0,
           0.0,
           0.0,
           0.0,
           0.0,
           0.0,
           0.0,
           0.0
          ],
          [
           0.0,
           0.0,
           0.0,
           0.0,
           0.0,
           0.0,
           0.0,
           0.0,
           0.0,
           0.0,
           0.0,
           0.0,
           0.0,
           0.0,
           0.0,
           0.0,
           0.0,
           0.0,
           0.0,
           0.0,
           0.0,
           0.0,
           0.0,
           0.0,
           0.0,
           0.0,
           0.0,
           0.0,
           0.0,
           0.0,
           0.0,
           0.0,
           0.0,
           0.0,
           0.0,
           0.0,
           0.0,
           0.0,
           0.0,
           0.0,
           0.0,
           0.0,
           0.0,
           0.0,
           0.0,
           0.0,
           0.0,
           0.0,
           0.0,
           0.0,
           0.0,
           0.0,
           0.0,
           0.0,
           0.0,
           0.0,
           0.0,
           0.0,
           0.0,
           0.0,
           0.0,
           0.0,
           0.0,
           0.0
          ],
          [
           0.0,
           0.0,
           0.0,
           0.0,
           0.0,
           0.0,
           0.0,
           0.0,
           0.0,
           0.0,
           0.0,
           0.0,
           0.0,
           0.0,
           0.0,
           0.0,
           0.0,
           0.0,
           0.0,
           0.0,
           0.0,
           0.0,
           0.0,
           0.0,
           0.0,
           0.0,
           0.0,
           0.0,
           0.0,
           0.0,
           0.0,
           1.5729664432880335,
           1.524677209835506,
           1.509949924559093,
           1.559136513300212,
           1.5309185455952932,
           0.0,
           0.0,
           0.0,
           0.0,
           0.0,
           0.0,
           0.0,
           0.0,
           0.0,
           0.0,
           0.0,
           0.0,
           0.0,
           0.0,
           0.0,
           0.0,
           0.0,
           0.0,
           0.0,
           0.0,
           0.0,
           0.0,
           0.0,
           0.0,
           0.0,
           0.0,
           0.0,
           0.0
          ],
          [
           0.0,
           0.0,
           0.0,
           0.0,
           0.0,
           0.0,
           0.0,
           0.0,
           0.0,
           0.0,
           0.0,
           0.0,
           0.0,
           0.0,
           0.0,
           0.0,
           0.0,
           0.0,
           0.0,
           0.0,
           0.0,
           0.0,
           0.0,
           0.0,
           0.0,
           0.0,
           0.0,
           0.0,
           0.0,
           1.502950090471941,
           1.526107125082182,
           1.521692035742664,
           1.5254581642934526,
           1.566347909679453,
           1.585486193075746,
           1.5577663852415549,
           1.530049952327929,
           0.0,
           0.0,
           0.0,
           0.0,
           0.0,
           0.0,
           0.0,
           0.0,
           0.0,
           0.0,
           0.0,
           0.0,
           0.0,
           0.0,
           0.0,
           0.0,
           0.0,
           0.0,
           0.0,
           0.0,
           0.0,
           0.0,
           0.0,
           0.0,
           0.0,
           0.0,
           0.0
          ],
          [
           0.0,
           0.0,
           0.0,
           0.0,
           0.0,
           0.0,
           0.0,
           0.0,
           0.0,
           0.0,
           0.0,
           0.0,
           0.0,
           0.0,
           0.0,
           0.0,
           0.0,
           0.0,
           0.0,
           0.0,
           0.0,
           0.0,
           0.0,
           0.0,
           0.0,
           0.0,
           0.0,
           0.0,
           1.5296392296214105,
           1.5374686739629733,
           1.5982575432439232,
           1.5876573296095178,
           1.526854541957582,
           1.5515743808213867,
           1.5741366344918086,
           1.5323023702938359,
           1.525903731855067,
           1.5631072227061094,
           0.0,
           0.0,
           0.0,
           0.0,
           0.0,
           0.0,
           0.0,
           0.0,
           0.0,
           0.0,
           0.0,
           0.0,
           0.0,
           0.0,
           0.0,
           0.0,
           0.0,
           0.0,
           0.0,
           0.0,
           0.0,
           0.0,
           0.0,
           0.0,
           0.0,
           0.0
          ],
          [
           0.0,
           0.0,
           0.0,
           0.0,
           0.0,
           0.0,
           0.0,
           0.0,
           0.0,
           0.0,
           0.0,
           0.0,
           0.0,
           0.0,
           0.0,
           0.0,
           0.0,
           0.0,
           0.0,
           0.0,
           0.0,
           0.0,
           0.0,
           0.0,
           0.0,
           0.0,
           0.0,
           0.0,
           1.5243454857768075,
           1.5588867623197602,
           1.5688736257604712,
           1.5737624560283907,
           1.561438139702109,
           1.563371295193524,
           1.581472223425892,
           1.5410647576296757,
           1.5192354370962537,
           1.5657509962800435,
           1.6073276214481511,
           0.0,
           0.0,
           0.0,
           0.0,
           0.0,
           0.0,
           0.0,
           0.0,
           0.0,
           0.0,
           0.0,
           0.0,
           0.0,
           0.0,
           0.0,
           0.0,
           0.0,
           0.0,
           0.0,
           0.0,
           0.0,
           0.0,
           0.0,
           0.0,
           0.0
          ],
          [
           0.0,
           0.0,
           0.0,
           0.0,
           0.0,
           0.0,
           0.0,
           0.0,
           0.0,
           0.0,
           0.0,
           0.0,
           0.0,
           0.0,
           0.0,
           0.0,
           0.0,
           0.0,
           0.0,
           0.0,
           0.0,
           0.0,
           0.0,
           0.0,
           0.0,
           0.0,
           0.0,
           1.5208083525322074,
           1.571244256043977,
           1.5473079280491435,
           1.5248047517706582,
           1.5820472884200498,
           1.573637204678133,
           1.5420591663040837,
           1.5868218176797038,
           1.5844076062531471,
           1.5530024146740171,
           1.5638037799159459,
           1.5868925751186682,
           0.0,
           0.0,
           0.0,
           0.0,
           0.0,
           0.0,
           0.0,
           0.0,
           0.0,
           0.0,
           0.0,
           0.0,
           0.0,
           0.0,
           0.0,
           0.0,
           0.0,
           0.0,
           0.0,
           0.0,
           0.0,
           0.0,
           0.0,
           0.0,
           0.0
          ],
          [
           0.0,
           0.0,
           0.0,
           0.0,
           0.0,
           0.0,
           0.0,
           0.0,
           0.0,
           0.0,
           0.0,
           0.0,
           0.0,
           0.0,
           0.0,
           0.0,
           0.0,
           0.0,
           0.0,
           0.0,
           0.0,
           0.0,
           0.0,
           0.0,
           0.0,
           0.0,
           0.0,
           1.4939393959126668,
           1.5506240612548898,
           1.5628099317068274,
           1.52987632821367,
           1.5748897648815101,
           1.5537358467278783,
           1.5279061586441078,
           1.5966259583701214,
           1.5813352393870885,
           1.5549091392716594,
           1.600088718467774,
           1.5872839799707406,
           1.6475410729388038,
           0.0,
           0.0,
           0.0,
           0.0,
           0.0,
           0.0,
           0.0,
           1.5824808626295157,
           1.6147229036834208,
           1.6676165220218044,
           1.7423507903086564,
           0.0,
           0.0,
           0.0,
           0.0,
           0.0,
           0.0,
           0.0,
           0.0,
           0.0,
           0.0,
           0.0,
           0.0,
           0.0
          ],
          [
           0.0,
           0.0,
           0.0,
           0.0,
           0.0,
           0.0,
           0.0,
           0.0,
           0.0,
           0.0,
           0.0,
           0.0,
           0.0,
           0.0,
           0.0,
           0.0,
           0.0,
           0.0,
           0.0,
           0.0,
           0.0,
           0.0,
           0.0,
           0.0,
           0.0,
           0.0,
           0.0,
           1.498535275309062,
           1.5080283635726353,
           1.5374670752208168,
           1.5231991022245528,
           1.5456270117007735,
           1.539148987434021,
           1.547319646111591,
           1.60134970480622,
           1.588019593602994,
           1.611112672498203,
           1.6218337939966798,
           1.577831901133832,
           1.677528512418461,
           0.0,
           0.0,
           0.0,
           0.0,
           0.0,
           1.6202804133065187,
           1.7044280144909638,
           1.6867335248388158,
           1.6748672313782804,
           1.7146903476261242,
           1.76706079224817,
           1.7821333918112088,
           1.7441130031274081,
           0.0,
           0.0,
           0.0,
           0.0,
           0.0,
           0.0,
           0.0,
           0.0,
           0.0,
           0.0,
           0.0
          ],
          [
           0.0,
           0.0,
           0.0,
           0.0,
           0.0,
           0.0,
           0.0,
           0.0,
           0.0,
           0.0,
           0.0,
           0.0,
           0.0,
           0.0,
           0.0,
           0.0,
           0.0,
           0.0,
           0.0,
           0.0,
           0.0,
           0.0,
           0.0,
           0.0,
           0.0,
           0.0,
           0.0,
           1.546649417335319,
           1.5314694297674534,
           1.558550618959185,
           1.554220801807707,
           1.5396036521198195,
           1.5293824462674286,
           1.5661247326820054,
           1.5782564373311292,
           1.5317125635599387,
           1.5823482700380957,
           1.60365878637348,
           1.5489588495092812,
           1.6482882853401388,
           0.0,
           0.0,
           0.0,
           0.0,
           1.4805444971392527,
           1.6104059724514004,
           1.7361841547222436,
           1.699543880596548,
           1.7018314841392905,
           1.704166957508375,
           1.7038534844658741,
           1.7885771983975043,
           1.723837023320215,
           1.6342136780710645,
           0.0,
           0.0,
           0.0,
           0.0,
           0.0,
           0.0,
           0.0,
           0.0,
           0.0,
           0.0
          ],
          [
           0.0,
           0.0,
           0.0,
           0.0,
           0.0,
           0.0,
           0.0,
           0.0,
           0.0,
           0.0,
           0.0,
           0.0,
           0.0,
           0.0,
           0.0,
           0.0,
           0.0,
           0.0,
           0.0,
           0.0,
           0.0,
           0.0,
           0.0,
           0.0,
           0.0,
           0.0,
           0.0,
           1.56211159925867,
           1.523748362864365,
           1.4847642742592997,
           1.5143730458635138,
           1.6017548675350117,
           1.5977712590828776,
           1.5174320641286783,
           1.5309301405756521,
           1.5876240347309112,
           1.5717046210824295,
           1.5330912036555997,
           1.5441226851291692,
           1.6057949528509219,
           0.0,
           0.0,
           0.0,
           0.0,
           1.6157300260934238,
           1.7082429504349224,
           1.7038698649484523,
           1.611931926298673,
           1.6776384810272282,
           1.732828893852114,
           1.6668992643673877,
           1.6729331116599326,
           1.6693255566486127,
           1.636037248382228,
           1.7787142235974691,
           0.0,
           0.0,
           0.0,
           0.0,
           0.0,
           0.0,
           0.0,
           0.0,
           0.0
          ],
          [
           0.0,
           0.0,
           0.0,
           0.0,
           0.0,
           0.0,
           0.0,
           0.0,
           0.0,
           0.0,
           0.0,
           0.0,
           0.0,
           0.0,
           0.0,
           0.0,
           0.0,
           0.0,
           0.0,
           0.0,
           0.0,
           0.0,
           0.0,
           0.0,
           0.0,
           0.0,
           0.0,
           1.5005609714437043,
           1.480763828558807,
           1.5556503641583765,
           1.5621772670712701,
           1.505362523471205,
           1.5467688379326212,
           1.588457385438499,
           1.5506910207075835,
           1.5351005905054298,
           1.542703811055481,
           1.5596413609388793,
           1.5649782097730696,
           0.0,
           0.0,
           0.0,
           0.0,
           1.5751567133743936,
           1.6440207337950026,
           1.6733091355197265,
           1.6169146852511003,
           1.6053415548998862,
           1.6531077249840467,
           1.6567627207292104,
           1.6426332835748374,
           1.6926427158692892,
           1.7223095553171273,
           1.7030328596073276,
           1.7657448659880064,
           0.0,
           0.0,
           0.0,
           0.0,
           0.0,
           0.0,
           0.0,
           0.0,
           0.0
          ],
          [
           0.0,
           0.0,
           0.0,
           0.0,
           0.0,
           0.0,
           0.0,
           0.0,
           0.0,
           0.0,
           0.0,
           0.0,
           0.0,
           0.0,
           0.0,
           0.0,
           1.3095357280639226,
           1.4610368076109468,
           1.5039360284068395,
           1.425538162176773,
           1.4290923922042484,
           1.4865776093403542,
           1.4311628715628995,
           0.0,
           0.0,
           0.0,
           0.0,
           0.0,
           1.532617085454985,
           1.5280922063972038,
           1.5131549051256938,
           1.5294531856542215,
           1.5938657052298872,
           1.6114846858670355,
           1.5777598610034664,
           1.5729904299165867,
           1.5540670605249276,
           1.5876100679989686,
           1.7090564530745675,
           0.0,
           0.0,
           0.0,
           0.0,
           1.5989968216821084,
           1.668274478495185,
           1.6477111719496986,
           1.6308553979909615,
           1.6816833506197528,
           1.6795647998544938,
           1.6943066970091039,
           1.7294328497528153,
           1.6952974480699963,
           1.7377222649001438,
           1.786996004330237,
           1.7439968332959672,
           1.8560414668820802,
           0.0,
           0.0,
           0.0,
           0.0,
           0.0,
           0.0,
           0.0,
           0.0
          ],
          [
           0.0,
           0.0,
           0.0,
           0.0,
           0.0,
           0.0,
           0.0,
           0.0,
           0.0,
           0.0,
           0.0,
           0.0,
           0.0,
           0.0,
           0.0,
           1.3614499318546271,
           1.3833230949304232,
           1.4369556452116683,
           1.4682024080262819,
           1.496588728944586,
           1.50328424027696,
           1.463498375266004,
           1.4591050754605575,
           1.481521558480178,
           0.0,
           0.0,
           0.0,
           0.0,
           1.5300745954456705,
           1.5742176148232878,
           1.5392357974376845,
           1.5240362101728115,
           1.540933993598356,
           1.55023954337922,
           1.558867252133197,
           1.5515189534994505,
           1.5317966206241198,
           1.6073010999189026,
           0.0,
           0.0,
           0.0,
           0.0,
           0.0,
           1.5871904945166726,
           1.639916093386251,
           1.6479270654988545,
           1.687160635278648,
           1.6947985173995648,
           1.643016160095493,
           1.690594999233271,
           1.688407434683598,
           1.633535329308765,
           1.747530463731817,
           1.763221695343293,
           1.635066539976443,
           1.8505550799902513,
           0.0,
           0.0,
           0.0,
           0.0,
           0.0,
           0.0,
           0.0,
           0.0
          ],
          [
           0.0,
           0.0,
           0.0,
           0.0,
           0.0,
           0.0,
           0.0,
           0.0,
           0.0,
           0.0,
           0.0,
           0.0,
           0.0,
           0.0,
           1.449310149292249,
           1.4634161250508104,
           1.4953032977914662,
           1.508227752266283,
           1.4810012789530358,
           1.4986592834598658,
           1.5591119851021487,
           1.5651319393487126,
           1.5482352514875972,
           1.5467825020330686,
           1.527888327072054,
           0.0,
           0.0,
           0.0,
           0.0,
           0.0,
           1.525943234313174,
           1.544045287138778,
           1.5991097352180614,
           1.5798096996609738,
           1.5596390511763525,
           1.592365275148693,
           1.5757281215092596,
           0.0,
           0.0,
           0.0,
           0.0,
           0.0,
           0.0,
           1.563292562140755,
           1.6346375036513745,
           1.6046463008836171,
           1.6395221343010105,
           1.6661868136844031,
           1.6082741381350212,
           1.6903123723269489,
           1.7368529273101143,
           1.644409598269184,
           1.7189073868311033,
           1.7926823269698922,
           1.685206295351479,
           1.8683053748459848,
           0.0,
           0.0,
           0.0,
           0.0,
           0.0,
           0.0,
           0.0,
           0.0
          ],
          [
           0.0,
           0.0,
           0.0,
           0.0,
           0.0,
           0.0,
           0.0,
           0.0,
           0.0,
           0.0,
           0.0,
           0.0,
           0.0,
           0.0,
           1.4596583748803493,
           1.4683795445929944,
           1.5075075322297489,
           1.5651575083822404,
           1.5592547705417061,
           1.538899435450317,
           1.5869807820213206,
           1.6109598616575098,
           1.5754429210311522,
           1.5659602634324856,
           1.5244856911839264,
           0.0,
           0.0,
           0.0,
           0.0,
           0.0,
           0.0,
           0.0,
           0.0,
           1.5654196162145744,
           0.0,
           0.0,
           0.0,
           0.0,
           0.0,
           0.0,
           0.0,
           0.0,
           0.0,
           1.53896491039331,
           1.6084057767012816,
           1.605739748724803,
           1.6357281035535307,
           1.6258028771098736,
           1.5877065082112667,
           1.6707040241349278,
           1.6737038004402065,
           1.606401841748349,
           1.6759196116385007,
           1.701091667245125,
           1.7264287858970937,
           2.137614178761061,
           0.0,
           0.0,
           0.0,
           0.0,
           0.0,
           0.0,
           0.0,
           0.0
          ],
          [
           0.0,
           0.0,
           0.0,
           0.0,
           0.0,
           0.0,
           0.0,
           0.0,
           0.0,
           0.0,
           0.0,
           0.0,
           0.0,
           1.4228870221914423,
           1.4481671537006153,
           1.4688051452494701,
           1.463871887995107,
           1.4381301932093782,
           1.5041786667939547,
           1.599542914140918,
           1.5813614783510637,
           1.5137785659847856,
           1.513483702132065,
           1.5668417904699186,
           1.5509410342561594,
           1.4943511640874874,
           0.0,
           0.0,
           0.0,
           0.0,
           0.0,
           0.0,
           0.0,
           0.0,
           0.0,
           0.0,
           0.0,
           0.0,
           0.0,
           0.0,
           0.0,
           0.0,
           0.0,
           1.5021355981595528,
           1.5947446827559597,
           1.6168283971728077,
           1.6146281388332775,
           1.6681576545786245,
           1.6934300885152953,
           1.6853398750698687,
           1.6637596106380128,
           1.6702061148882745,
           1.7140562970154056,
           1.6836840134253108,
           1.7377232125542024,
           0.0,
           0.0,
           0.0,
           0.0,
           0.0,
           0.0,
           0.0,
           0.0,
           0.0
          ],
          [
           0.0,
           0.0,
           0.0,
           0.0,
           0.0,
           0.0,
           0.0,
           0.0,
           0.0,
           0.0,
           0.0,
           0.0,
           0.0,
           1.462728472523144,
           1.4063156770223013,
           1.3891571729399004,
           1.442476481395112,
           1.4487944894890383,
           1.4700044793088802,
           1.518200350288218,
           1.526491175482126,
           1.5103627497308376,
           1.543720437298436,
           1.587977997246512,
           1.528754246019042,
           1.4759458793289881,
           0.0,
           0.0,
           0.0,
           0.0,
           0.0,
           0.0,
           0.0,
           0.0,
           0.0,
           0.0,
           0.0,
           0.0,
           0.0,
           0.0,
           0.0,
           0.0,
           0.0,
           0.0,
           1.639664666316958,
           1.6915142045330631,
           1.67509725704314,
           1.5822211882542039,
           1.5820625104015726,
           1.6189743563716583,
           1.6077706365809945,
           1.6779821317130126,
           1.6851172698165313,
           1.5980499856550905,
           1.7459101358647364,
           0.0,
           0.0,
           0.0,
           0.0,
           0.0,
           0.0,
           0.0,
           0.0,
           0.0
          ],
          [
           0.0,
           0.0,
           0.0,
           0.0,
           0.0,
           0.0,
           0.0,
           0.0,
           0.0,
           0.0,
           0.0,
           0.0,
           0.0,
           1.4524944229977723,
           1.4072434124496838,
           1.4453822745711407,
           1.5285031961700344,
           1.5475196727037808,
           1.5331588240451723,
           1.5290696465854574,
           1.5561054701151757,
           1.5338610002134807,
           1.532657679391491,
           1.6096686489333476,
           1.5818561371078668,
           1.5161157316666243,
           0.0,
           0.0,
           0.0,
           0.0,
           0.0,
           0.0,
           0.0,
           0.0,
           0.0,
           0.0,
           0.0,
           0.0,
           0.0,
           0.0,
           0.0,
           0.0,
           0.0,
           0.0,
           1.6885000449084395,
           1.668886010270939,
           1.5971929888816694,
           1.5583220991629712,
           1.544213338225574,
           1.5578601740537144,
           1.6176719124869656,
           1.6329621972285426,
           1.6171248202789341,
           1.6912085693105545,
           0.0,
           0.0,
           0.0,
           0.0,
           0.0,
           0.0,
           0.0,
           0.0,
           0.0,
           0.0
          ],
          [
           0.0,
           0.0,
           0.0,
           0.0,
           0.0,
           0.0,
           0.0,
           0.0,
           0.0,
           0.0,
           0.0,
           0.0,
           0.0,
           1.4590019478493663,
           1.4320789034668207,
           1.4651287175963512,
           1.485676022323276,
           1.4909333431454932,
           1.5279766319968668,
           1.536572581249493,
           1.5586689202456374,
           1.5620143431005726,
           1.5522912262625599,
           1.571682770362106,
           1.5299867385721844,
           1.4673396694939278,
           0.0,
           0.0,
           0.0,
           0.0,
           0.0,
           0.0,
           0.0,
           0.0,
           0.0,
           0.0,
           0.0,
           0.0,
           0.0,
           0.0,
           0.0,
           0.0,
           0.0,
           0.0,
           0.0,
           1.5758306382437135,
           1.5562997674454815,
           1.5336190734921582,
           1.5441738980891166,
           1.6277058740574106,
           1.6007462631327989,
           1.5276177576822023,
           1.6637759410372839,
           0.0,
           0.0,
           0.0,
           0.0,
           0.0,
           0.0,
           0.0,
           0.0,
           0.0,
           0.0,
           0.0
          ],
          [
           0.0,
           0.0,
           0.0,
           0.0,
           0.0,
           0.0,
           0.0,
           0.0,
           0.0,
           0.0,
           0.0,
           0.0,
           0.0,
           1.4608261248709706,
           1.4621041557791759,
           1.443489228048388,
           1.4542179096325616,
           1.5153028993429687,
           1.544983237390897,
           1.5208795622560691,
           1.5726422778387268,
           1.614075071225859,
           1.5328711095954528,
           1.5018240001326322,
           1.5762878783601864,
           1.6197686042053854,
           0.0,
           0.0,
           0.0,
           0.0,
           0.0,
           0.0,
           0.0,
           0.0,
           0.0,
           0.0,
           0.0,
           0.0,
           0.0,
           0.0,
           0.0,
           0.0,
           0.0,
           0.0,
           0.0,
           0.0,
           0.0,
           1.6387769703571058,
           1.573579556751388,
           1.6855484127000717,
           1.713667703925319,
           0.0,
           0.0,
           0.0,
           0.0,
           0.0,
           0.0,
           0.0,
           0.0,
           0.0,
           0.0,
           0.0,
           0.0,
           0.0
          ],
          [
           0.0,
           0.0,
           0.0,
           0.0,
           0.0,
           0.0,
           0.0,
           0.0,
           0.0,
           0.0,
           0.0,
           0.0,
           0.0,
           0.0,
           1.482415425413459,
           1.3739740972816727,
           1.3910654811053131,
           1.5225209322897029,
           1.5539277121926505,
           1.5267311776669543,
           1.4989732571581302,
           1.4920446731171595,
           1.537690155621803,
           1.5535590644812434,
           1.5305242892430333,
           0.0,
           0.0,
           0.0,
           0.0,
           0.0,
           0.0,
           0.0,
           0.0,
           0.0,
           0.0,
           1.94791976674999,
           1.9299619850031535,
           1.8821624454816999,
           0.0,
           0.0,
           0.0,
           0.0,
           0.0,
           0.0,
           0.0,
           0.0,
           0.0,
           0.0,
           0.0,
           0.0,
           0.0,
           0.0,
           0.0,
           0.0,
           0.0,
           0.0,
           0.0,
           0.0,
           0.0,
           0.0,
           0.0,
           0.0,
           0.0,
           0.0
          ],
          [
           0.0,
           0.0,
           0.0,
           0.0,
           0.0,
           0.0,
           0.0,
           0.0,
           0.0,
           0.0,
           0.0,
           0.0,
           0.0,
           0.0,
           1.5493625456630453,
           1.4679978336411523,
           1.4554645984770145,
           1.5228302397851143,
           1.566691358779946,
           1.5435569830779596,
           1.4719322393711043,
           1.472460759480091,
           1.542744814326258,
           1.5378268882131185,
           1.5102733732052298,
           0.0,
           0.0,
           0.0,
           0.0,
           0.0,
           0.0,
           0.0,
           0.0,
           1.9558818876343607,
           1.9948910819602494,
           2.039298501470673,
           2.0760016455087467,
           2.029992381444244,
           1.963181640401594,
           1.9114644287130524,
           0.0,
           0.0,
           0.0,
           0.0,
           0.0,
           0.0,
           0.0,
           0.0,
           0.0,
           0.0,
           0.0,
           0.0,
           0.0,
           0.0,
           0.0,
           0.0,
           0.0,
           0.0,
           0.0,
           0.0,
           0.0,
           0.0,
           0.0,
           0.0
          ],
          [
           0.0,
           0.0,
           0.0,
           0.0,
           0.0,
           0.0,
           0.0,
           0.0,
           0.0,
           0.0,
           0.0,
           0.0,
           0.0,
           0.0,
           0.0,
           1.5780041568780585,
           1.5429684272209898,
           1.562647248766398,
           1.5465880521993336,
           1.5055433096811761,
           1.4922266500521348,
           1.508163297533146,
           1.5471774109807663,
           1.5763622500966272,
           0.0,
           0.0,
           0.0,
           0.0,
           0.0,
           0.0,
           0.0,
           1.9094658660827164,
           1.9928114369350318,
           2.077032401325985,
           2.0329872365980246,
           2.0168967080887037,
           2.0466875116471024,
           2.0031627892172756,
           2.0261062351903347,
           2.0149684278403304,
           1.877767290526562,
           0.0,
           0.0,
           0.0,
           0.0,
           0.0,
           0.0,
           0.0,
           0.0,
           0.0,
           0.0,
           0.0,
           0.0,
           0.0,
           0.0,
           0.0,
           0.0,
           0.0,
           0.0,
           0.0,
           0.0,
           0.0,
           0.0,
           0.0
          ],
          [
           0.0,
           0.0,
           0.0,
           0.0,
           0.0,
           0.0,
           0.0,
           0.0,
           0.0,
           0.0,
           0.0,
           0.0,
           0.0,
           0.0,
           0.0,
           0.0,
           1.5826480475513758,
           1.5512867344006116,
           1.5367141240648245,
           1.5392024100441157,
           1.591310805360693,
           1.558683050216785,
           0.0,
           0.0,
           0.0,
           0.0,
           0.0,
           0.0,
           0.0,
           0.0,
           0.0,
           1.9605912523824442,
           2.0393802138964405,
           2.0292558723631777,
           1.9854155138287135,
           2.0172876433210525,
           2.028781829917086,
           1.9774665271037002,
           1.964330175321004,
           1.9734578761688741,
           1.9734834855274812,
           2.0300070785073023,
           0.0,
           0.0,
           0.0,
           0.0,
           0.0,
           0.0,
           0.0,
           0.0,
           0.0,
           0.0,
           0.0,
           0.0,
           0.0,
           0.0,
           0.0,
           0.0,
           0.0,
           0.0,
           0.0,
           0.0,
           0.0,
           0.0
          ],
          [
           0.0,
           0.0,
           0.0,
           0.0,
           0.0,
           0.0,
           0.0,
           0.0,
           0.0,
           0.0,
           0.0,
           0.0,
           0.0,
           0.0,
           0.0,
           0.0,
           0.0,
           0.0,
           0.0,
           0.0,
           0.0,
           0.0,
           0.0,
           0.0,
           0.0,
           0.0,
           0.0,
           0.0,
           0.0,
           0.0,
           1.9353312188878027,
           1.9827403085878657,
           1.9998760166559717,
           1.9580936914009976,
           1.992421823128718,
           2.009370085588604,
           1.9972896165748024,
           2.0011319778581687,
           1.971265382731471,
           2.007163434695914,
           2.046421682221932,
           2.0038041902614943,
           0.0,
           0.0,
           0.0,
           0.0,
           0.0,
           0.0,
           0.0,
           0.0,
           0.0,
           0.0,
           0.0,
           0.0,
           0.0,
           0.0,
           0.0,
           0.0,
           0.0,
           0.0,
           0.0,
           0.0,
           0.0,
           0.0
          ],
          [
           0.0,
           0.0,
           0.0,
           0.0,
           0.0,
           0.0,
           0.0,
           0.0,
           0.0,
           0.0,
           0.0,
           0.0,
           0.0,
           0.0,
           0.0,
           0.0,
           0.0,
           0.0,
           0.0,
           0.0,
           0.0,
           0.0,
           0.0,
           0.0,
           0.0,
           0.0,
           0.0,
           0.0,
           0.0,
           0.0,
           2.0295433719886016,
           2.0024317744151516,
           2.0499013094668452,
           2.0181111143792965,
           1.9728075905171387,
           2.0127456057217614,
           2.0517200256377093,
           1.9736693815506403,
           1.909425243172817,
           1.977246868907018,
           2.0202868613591733,
           2.004437017768214,
           2.1174919651955406,
           0.0,
           0.0,
           0.0,
           0.0,
           0.0,
           0.0,
           0.0,
           0.0,
           0.0,
           0.0,
           0.0,
           0.0,
           0.0,
           0.0,
           0.0,
           0.0,
           0.0,
           0.0,
           0.0,
           0.0,
           0.0
          ],
          [
           0.0,
           0.0,
           0.0,
           0.0,
           0.0,
           0.0,
           0.0,
           0.0,
           0.0,
           0.0,
           0.0,
           0.0,
           0.0,
           0.0,
           0.0,
           0.0,
           0.0,
           0.0,
           0.0,
           0.0,
           0.0,
           0.0,
           0.0,
           0.0,
           0.0,
           0.0,
           0.0,
           0.0,
           0.0,
           0.0,
           2.034085799826695,
           2.0366730617102524,
           1.983780284363066,
           1.9557737725855686,
           1.9542793239122673,
           1.9702067542587112,
           2.043535678231152,
           2.058635696114063,
           1.9775773258955316,
           1.9626256898552557,
           1.9889286963672332,
           2.0195476049087184,
           2.1542633107690388,
           0.0,
           0.0,
           0.0,
           0.0,
           0.0,
           0.0,
           0.0,
           0.0,
           0.0,
           0.0,
           0.0,
           0.0,
           0.0,
           0.0,
           0.0,
           0.0,
           0.0,
           0.0,
           0.0,
           0.0,
           0.0
          ],
          [
           0.0,
           0.0,
           0.0,
           0.0,
           0.0,
           0.0,
           0.0,
           0.0,
           0.0,
           0.0,
           0.0,
           0.0,
           0.0,
           0.0,
           0.0,
           0.0,
           0.0,
           0.0,
           0.0,
           0.0,
           0.0,
           0.0,
           0.0,
           0.0,
           0.0,
           0.0,
           0.0,
           0.0,
           0.0,
           0.0,
           2.002565747479898,
           2.1076517084265785,
           1.9990186838096111,
           1.9580489156985588,
           2.0706624815347774,
           1.9888759574921913,
           1.9808913657157738,
           2.0760413579695234,
           1.9829856765584524,
           1.9724215163848149,
           2.026273939154471,
           1.9703030258700738,
           2.057721463882654,
           0.0,
           0.0,
           0.0,
           0.0,
           0.0,
           0.0,
           0.0,
           0.0,
           0.0,
           0.0,
           0.0,
           0.0,
           0.0,
           0.0,
           0.0,
           0.0,
           0.0,
           0.0,
           0.0,
           0.0,
           0.0
          ],
          [
           0.0,
           0.0,
           0.0,
           0.0,
           0.0,
           0.0,
           0.0,
           0.0,
           0.0,
           0.0,
           0.0,
           0.0,
           0.0,
           0.0,
           0.0,
           0.0,
           0.0,
           0.0,
           0.0,
           0.0,
           0.0,
           0.0,
           0.0,
           0.0,
           0.0,
           0.0,
           0.0,
           0.0,
           0.0,
           0.0,
           2.071215685593754,
           2.055037269899683,
           1.9845329360459363,
           1.9804978840843013,
           2.0655197095100792,
           2.019762435839766,
           1.9727593058760506,
           1.9916704280248685,
           1.9735686046650762,
           1.9881210202316242,
           1.9839604405434188,
           1.9839709997285961,
           2.1051407414876135,
           0.0,
           0.0,
           0.0,
           0.0,
           0.0,
           1.513959058691219,
           1.6549719699779308,
           1.6249997565267142,
           1.5481072121896693,
           1.6192074252071997,
           1.7130564597858382,
           1.6094376108273494,
           0.0,
           0.0,
           0.0,
           0.0,
           0.0,
           0.0,
           0.0,
           0.0,
           0.0
          ],
          [
           0.0,
           0.0,
           0.0,
           0.0,
           0.0,
           0.0,
           0.0,
           0.0,
           0.0,
           0.0,
           0.0,
           0.0,
           0.0,
           0.0,
           0.0,
           0.0,
           0.0,
           0.0,
           0.0,
           0.0,
           0.0,
           0.0,
           0.0,
           0.0,
           0.0,
           0.0,
           0.0,
           0.0,
           0.0,
           0.0,
           2.1007506301248964,
           2.0409669602877973,
           1.9865043962160462,
           2.0207070913531626,
           2.053108791106136,
           2.01777620050891,
           2.0672120073614306,
           2.0760591271491258,
           2.014210111172127,
           2.001411300589823,
           1.9769064554696563,
           2.0031141538541144,
           0.0,
           0.0,
           0.0,
           0.0,
           0.0,
           1.562509333484145,
           1.7289612647815662,
           1.6572858494598006,
           1.592818773267051,
           1.634757389924912,
           1.6697374632792736,
           1.7078384092484675,
           1.6323233150206278,
           1.4550144312657043,
           0.0,
           0.0,
           0.0,
           0.0,
           0.0,
           0.0,
           0.0,
           0.0
          ],
          [
           0.0,
           0.0,
           0.0,
           0.0,
           0.0,
           0.0,
           0.0,
           0.0,
           0.0,
           0.0,
           0.0,
           0.0,
           0.0,
           0.0,
           0.0,
           0.0,
           0.0,
           0.0,
           0.0,
           0.0,
           0.0,
           1.7917616512697851,
           1.8244541640494452,
           1.736732863413045,
           0.0,
           0.0,
           0.0,
           0.0,
           0.0,
           0.0,
           2.1397858273735286,
           2.0424823784217656,
           1.989628450051951,
           2.0689226669003693,
           2.088777635294993,
           2.014604077043743,
           2.0598065177336355,
           2.0962223954341863,
           2.019128873685157,
           1.999629381837137,
           2.032767772984485,
           2.0243303477832186,
           0.0,
           0.0,
           0.0,
           0.0,
           1.586228402461543,
           1.6261126881502153,
           1.6422542189903486,
           1.6176846277030728,
           1.6669862823341515,
           1.6989834824389223,
           1.6416582552212484,
           1.6492646390388357,
           1.5884892611466186,
           1.4680569773278136,
           1.5232253153503523,
           0.0,
           0.0,
           0.0,
           0.0,
           0.0,
           0.0,
           0.0
          ],
          [
           0.0,
           0.0,
           0.0,
           0.0,
           0.0,
           0.0,
           0.0,
           0.0,
           0.0,
           0.0,
           0.0,
           0.0,
           0.0,
           0.0,
           0.0,
           0.0,
           0.0,
           0.0,
           0.0,
           1.7986959181893383,
           1.8280629783399893,
           1.9271878954163941,
           1.9691296644791083,
           1.931511377512635,
           1.9008595769700667,
           1.8594775165337292,
           0.0,
           0.0,
           0.0,
           0.0,
           0.0,
           2.116554804622908,
           2.0687013610006013,
           1.9933288196922965,
           2.0392852182990833,
           2.041410832497117,
           2.0020010952636427,
           2.072339280238851,
           2.057578160483937,
           1.9926745998987891,
           2.1107813449084776,
           0.0,
           0.0,
           0.0,
           0.0,
           1.4862201534551758,
           1.6097002384424453,
           1.675590919071041,
           1.6104253126743024,
           1.5497320537307624,
           1.6072408182657116,
           1.646561293085493,
           1.5388164792366879,
           1.4685428602812818,
           1.5070346226806004,
           1.5197869746380674,
           1.5549154463934483,
           0.0,
           0.0,
           0.0,
           0.0,
           0.0,
           0.0,
           0.0
          ],
          [
           0.0,
           0.0,
           0.0,
           0.0,
           0.0,
           0.0,
           0.0,
           0.0,
           0.0,
           0.0,
           0.0,
           0.0,
           0.0,
           0.0,
           0.0,
           0.0,
           0.0,
           0.0,
           1.9535465621535006,
           1.8965748709092383,
           1.8915001361331443,
           1.9469859249862536,
           1.9490423849512306,
           1.9020246179393774,
           1.9062414226515083,
           1.9649592330234706,
           1.9758721346843366,
           1.877838847456235,
           0.0,
           0.0,
           0.0,
           0.0,
           2.2230640856670294,
           2.0535522647821067,
           1.9880786023901895,
           2.033841827600962,
           2.053693920052378,
           2.065327728412298,
           2.037174321167043,
           2.072782733151466,
           0.0,
           0.0,
           0.0,
           0.0,
           0.0,
           1.54587037794921,
           1.6285322652811416,
           1.6486997229329865,
           1.5895168368913704,
           1.6051398215618848,
           1.612232487756769,
           1.5716825571107433,
           1.5322410971000926,
           1.535292998276466,
           1.612028066862232,
           1.6154810899657213,
           1.5130558025217367,
           1.474360395482942,
           0.0,
           0.0,
           0.0,
           0.0,
           0.0,
           0.0
          ],
          [
           0.0,
           0.0,
           0.0,
           0.0,
           0.0,
           0.0,
           0.0,
           0.0,
           0.0,
           0.0,
           0.0,
           0.0,
           0.0,
           0.0,
           0.0,
           0.0,
           0.0,
           1.8826744200014929,
           1.971518071725364,
           2.003195719274645,
           1.9329551023189702,
           1.9456840623595235,
           1.915997468051877,
           1.9084354232972955,
           1.9776026912644664,
           1.9838366002268017,
           1.9373179519394612,
           1.9167138889882798,
           0.0,
           0.0,
           0.0,
           0.0,
           0.0,
           2.089188916669811,
           2.116924850114731,
           2.136993822581549,
           2.180170479446732,
           2.1851012665103493,
           2.133058100687932,
           0.0,
           0.0,
           0.0,
           0.0,
           0.0,
           0.0,
           1.532555609066658,
           1.6406680607135933,
           1.6527911714503911,
           1.6675652560434844,
           1.700589139703742,
           1.6589678781140673,
           1.6710420346034778,
           1.6283073982766745,
           1.555262122500425,
           1.6704419546080178,
           1.6652852148421544,
           1.4883874140385438,
           1.5309233848709944,
           0.0,
           0.0,
           0.0,
           0.0,
           0.0,
           0.0
          ],
          [
           0.0,
           0.0,
           0.0,
           0.0,
           0.0,
           0.0,
           0.0,
           0.0,
           0.0,
           0.0,
           0.0,
           0.0,
           0.0,
           0.0,
           0.0,
           0.0,
           0.0,
           1.8379833738383102,
           1.9351555910359286,
           1.9642799319543056,
           1.9237013615015361,
           1.9644374675808174,
           1.9082486472836726,
           1.8756064901098868,
           1.9257811323245793,
           1.9468396724122934,
           1.973333579248715,
           1.9617804771778504,
           1.9358629340355078,
           0.0,
           0.0,
           0.0,
           0.0,
           0.0,
           0.0,
           0.0,
           0.0,
           0.0,
           0.0,
           0.0,
           0.0,
           0.0,
           0.0,
           0.0,
           0.0,
           1.6342160619897241,
           1.6884544049503676,
           1.6811590720762624,
           1.7266649517660106,
           1.7048888167540979,
           1.5900833418245828,
           1.6547085204062832,
           1.6664726838807675,
           1.5801793243807079,
           1.6484720925229501,
           1.5457195223988225,
           1.4143376130350858,
           1.5604066297288954,
           0.0,
           0.0,
           0.0,
           0.0,
           0.0,
           0.0
          ],
          [
           0.0,
           0.0,
           0.0,
           0.0,
           0.0,
           0.0,
           0.0,
           0.0,
           0.0,
           0.0,
           0.0,
           0.0,
           0.0,
           0.0,
           0.0,
           0.0,
           2.0258102876069355,
           1.8958776111747462,
           1.9249187850991472,
           1.8937809029076649,
           1.8628118115223773,
           1.9154353104636264,
           1.9182723789553864,
           1.9199074642744198,
           1.9594427702833677,
           1.9765044757595203,
           1.9641803315586677,
           1.9074638799940875,
           1.9058100399217133,
           0.0,
           0.0,
           0.0,
           0.0,
           0.0,
           0.0,
           0.0,
           0.0,
           0.0,
           0.0,
           0.0,
           0.0,
           0.0,
           0.0,
           0.0,
           0.0,
           1.5709928394813981,
           1.6294835246435952,
           1.6651486621945182,
           1.6971851825659818,
           1.644265426323901,
           1.5661472590200665,
           1.6396418102836308,
           1.6569161669419175,
           1.5410922604257342,
           1.516633320097903,
           1.45222428221492,
           1.4474288561991036,
           1.6167147547132248,
           0.0,
           0.0,
           0.0,
           0.0,
           0.0,
           0.0
          ],
          [
           0.0,
           0.0,
           0.0,
           0.0,
           0.0,
           0.0,
           0.0,
           0.0,
           0.0,
           0.0,
           0.0,
           0.0,
           0.0,
           0.0,
           0.0,
           0.0,
           2.168684649575135,
           2.0408745392338674,
           2.0039740042639003,
           1.9001264090588643,
           1.91130190072391,
           1.9830837121968772,
           1.9214669053456954,
           1.8917302773492353,
           1.9418155337994216,
           1.964554614096029,
           1.9326596823261493,
           1.864568830273575,
           1.8822868991790924,
           0.0,
           0.0,
           0.0,
           0.0,
           0.0,
           0.0,
           0.0,
           0.0,
           0.0,
           0.0,
           0.0,
           0.0,
           0.0,
           0.0,
           0.0,
           0.0,
           1.6361770173143066,
           1.6662453227289884,
           1.6909331034008004,
           1.7401109076599854,
           1.673227507236233,
           1.621617323867774,
           1.7098322288264238,
           1.6739075572062796,
           1.5920157078303725,
           1.6026749216578937,
           1.5414630148520563,
           1.5394312037519158,
           0.0,
           0.0,
           0.0,
           0.0,
           0.0,
           0.0,
           0.0
          ],
          [
           0.0,
           0.0,
           0.0,
           0.0,
           0.0,
           0.0,
           0.0,
           0.0,
           0.0,
           0.0,
           0.0,
           0.0,
           0.0,
           0.0,
           0.0,
           0.0,
           2.1865238630035853,
           2.032615756054563,
           2.030155309994349,
           1.9403806572278361,
           1.909116131343091,
           1.9220560475070756,
           1.8731799427983757,
           1.9141619124242057,
           1.9818894252760035,
           1.9327334359388961,
           1.9367563679579345,
           1.9435585315523867,
           1.9138713281876076,
           0.0,
           0.0,
           0.0,
           0.0,
           0.0,
           0.0,
           0.0,
           0.0,
           1.6226556192207549,
           1.6162519620330178,
           0.0,
           0.0,
           0.0,
           0.0,
           0.0,
           0.0,
           0.0,
           1.6660456546809812,
           1.7054871808573207,
           1.752379603987441,
           1.7168014642587168,
           1.728599024834057,
           1.6926922543187537,
           1.5935016606707784,
           1.640619496627713,
           1.6332911913220791,
           1.5114455854515396,
           1.5344101200636426,
           0.0,
           0.0,
           0.0,
           0.0,
           0.0,
           0.0,
           0.0
          ],
          [
           0.0,
           0.0,
           0.0,
           0.0,
           0.0,
           0.0,
           0.0,
           0.0,
           0.0,
           0.0,
           0.0,
           0.0,
           0.0,
           0.0,
           0.0,
           0.0,
           2.208475271857774,
           2.0565182287233417,
           2.051920533478678,
           1.9561399249636813,
           1.9340190414851486,
           1.9764270635908647,
           1.9130090025273887,
           1.8752658967043334,
           1.954101817506888,
           1.975540340973683,
           1.8758900735599393,
           1.878286148005009,
           1.960136014545041,
           0.0,
           0.0,
           0.0,
           0.0,
           0.0,
           1.6134104629111814,
           1.6656406581333172,
           1.6930654895887103,
           1.7113247781662808,
           1.7117581596185178,
           1.7063019354909372,
           1.6837810799668165,
           0.0,
           0.0,
           0.0,
           0.0,
           0.0,
           1.6706461305449887,
           1.7340237292627818,
           1.643893546497925,
           1.6387918708837663,
           1.7596505969456162,
           1.645244305010262,
           1.5190486114312114,
           1.575770225925977,
           1.5529846014115622,
           1.5485082413484086,
           0.0,
           0.0,
           0.0,
           0.0,
           0.0,
           0.0,
           0.0,
           0.0
          ],
          [
           0.0,
           0.0,
           0.0,
           0.0,
           0.0,
           0.0,
           0.0,
           0.0,
           0.0,
           0.0,
           0.0,
           0.0,
           0.0,
           0.0,
           0.0,
           0.0,
           0.0,
           2.0042869890030475,
           1.9910889526343463,
           1.9600789116884851,
           1.908911811427237,
           1.9203276823909232,
           1.9116789808719339,
           1.8911458635504756,
           1.9192941808687964,
           1.9230219654472773,
           1.940844872096977,
           1.9872136886454623,
           1.9399362477259248,
           0.0,
           0.0,
           0.0,
           0.0,
           1.6679432346006393,
           1.6703721702175403,
           1.6203072320355363,
           1.6766996928611595,
           1.7364227006778834,
           1.7332201588726,
           1.750902498539078,
           1.7190790502149558,
           1.6695955110464036,
           0.0,
           0.0,
           0.0,
           0.0,
           0.0,
           1.6999702748385963,
           1.6200852763532747,
           1.5851167093272274,
           1.590014653940192,
           1.5575863064789033,
           1.5580336245733377,
           1.547870885707312,
           1.4921317135282355,
           1.556509749948116,
           0.0,
           0.0,
           0.0,
           0.0,
           0.0,
           0.0,
           0.0,
           0.0
          ],
          [
           0.0,
           0.0,
           0.0,
           0.0,
           0.0,
           0.0,
           0.0,
           0.0,
           0.0,
           0.0,
           0.0,
           0.0,
           0.0,
           0.0,
           0.0,
           0.0,
           0.0,
           2.1379257064583657,
           1.9923682053785963,
           1.9429457845350593,
           1.9255396285537716,
           1.9694889094649786,
           1.967830982375385,
           1.9261167267150539,
           1.9357079934913677,
           1.8984409798648156,
           1.9036172379349974,
           1.982317139277372,
           0.0,
           0.0,
           0.0,
           0.0,
           1.6674685006864534,
           1.7474328388538485,
           1.7408168706364258,
           1.6635857743363704,
           1.6901902022813766,
           1.7350452191676051,
           1.7455156633221016,
           1.7488887452615185,
           1.692229990006161,
           1.6815318188728874,
           1.744492404903674,
           0.0,
           0.0,
           0.0,
           0.0,
           0.0,
           1.6484125974590798,
           1.6227408476465282,
           1.6508442501569358,
           1.6880441202480936,
           1.5903693255546623,
           1.5723079870463124,
           0.0,
           0.0,
           0.0,
           0.0,
           0.0,
           0.0,
           0.0,
           0.0,
           0.0,
           0.0
          ],
          [
           0.0,
           0.0,
           0.0,
           0.0,
           0.0,
           0.0,
           0.0,
           0.0,
           0.0,
           0.0,
           0.0,
           0.0,
           0.0,
           0.0,
           0.0,
           0.0,
           0.0,
           0.0,
           2.047563173108676,
           2.0275626964642597,
           2.014895576612214,
           2.0490084560149646,
           1.9977899844667575,
           1.9670191357260163,
           2.0317403984266758,
           1.9751373341268963,
           1.9497179894927144,
           0.0,
           0.0,
           0.0,
           0.0,
           0.0,
           1.6787245671693238,
           1.7240500711882485,
           1.7079075854915082,
           1.6864551423312686,
           1.7045049294194976,
           1.6745647513461084,
           1.6931105375451467,
           1.7503628718766637,
           1.715517770370157,
           1.7030905922138189,
           1.7537359796503984,
           1.7642446233017843,
           0.0,
           0.0,
           0.0,
           0.0,
           0.0,
           0.0,
           0.0,
           0.0,
           0.0,
           0.0,
           0.0,
           0.0,
           0.0,
           0.0,
           0.0,
           0.0,
           0.0,
           0.0,
           0.0,
           0.0
          ],
          [
           0.0,
           0.0,
           0.0,
           0.0,
           0.0,
           0.0,
           0.0,
           0.0,
           0.0,
           0.0,
           0.0,
           0.0,
           0.0,
           0.0,
           0.0,
           0.0,
           0.0,
           0.0,
           0.0,
           2.147619380430676,
           2.123122595199776,
           2.0320074119041456,
           1.979783431761805,
           2.076785060693614,
           2.0444609737158483,
           2.0180037831334183,
           0.0,
           0.0,
           0.0,
           0.0,
           0.0,
           1.7147613345467136,
           1.7273761001549592,
           1.7135823937473011,
           1.6825995187057807,
           1.7044450748752544,
           1.7219620670951514,
           1.7148903865967784,
           1.7066929565703557,
           1.681914595042639,
           1.674944671000096,
           1.6777622737612379,
           1.6836860904058137,
           1.7166441078775274,
           0.0,
           0.0,
           0.0,
           0.0,
           0.0,
           0.0,
           0.0,
           0.0,
           0.0,
           0.0,
           0.0,
           0.0,
           0.0,
           0.0,
           0.0,
           0.0,
           0.0,
           0.0,
           0.0,
           0.0
          ],
          [
           0.0,
           0.0,
           0.0,
           0.0,
           0.0,
           0.0,
           0.0,
           0.0,
           0.0,
           0.0,
           0.0,
           0.0,
           0.0,
           0.0,
           0.0,
           0.0,
           0.0,
           0.0,
           0.0,
           0.0,
           0.0,
           2.086769311608052,
           2.1193118660697556,
           2.312054478691694,
           2.2020268207133284,
           0.0,
           0.0,
           0.0,
           0.0,
           0.0,
           0.0,
           1.6893818300220393,
           1.7360948273609385,
           1.6927221716386023,
           1.7181187188432792,
           1.7700258705213376,
           1.6748647831114656,
           1.655429060481895,
           1.7118498979174859,
           1.6920650816323224,
           1.6921689631715917,
           1.6359348312268498,
           1.5639538092337342,
           1.6682780649976667,
           0.0,
           0.0,
           0.0,
           0.0,
           0.0,
           0.0,
           0.0,
           0.0,
           0.0,
           0.0,
           0.0,
           0.0,
           0.0,
           0.0,
           0.0,
           0.0,
           0.0,
           0.0,
           0.0,
           0.0
          ],
          [
           0.0,
           0.0,
           0.0,
           0.0,
           0.0,
           0.0,
           0.0,
           0.0,
           0.0,
           0.0,
           0.0,
           0.0,
           0.0,
           0.0,
           0.0,
           0.0,
           0.0,
           0.0,
           0.0,
           0.0,
           0.0,
           0.0,
           0.0,
           0.0,
           0.0,
           0.0,
           0.0,
           0.0,
           0.0,
           0.0,
           0.0,
           1.7205933895507874,
           1.7328451868929506,
           1.7322358814822563,
           1.7296453342940223,
           1.6871703716462818,
           1.6606710200960422,
           1.7374528628598385,
           1.751241027662367,
           1.6802515590209555,
           1.69310899602426,
           1.6602530259356159,
           1.623150593236558,
           1.7326132647860728,
           0.0,
           0.0,
           0.0,
           0.0,
           0.0,
           0.0,
           0.0,
           0.0,
           0.0,
           0.0,
           0.0,
           0.0,
           0.0,
           0.0,
           0.0,
           0.0,
           0.0,
           0.0,
           0.0,
           0.0
          ],
          [
           0.0,
           0.0,
           0.0,
           0.0,
           0.0,
           0.0,
           0.0,
           0.0,
           0.0,
           0.0,
           0.0,
           0.0,
           0.0,
           0.0,
           0.0,
           0.0,
           0.0,
           0.0,
           0.0,
           0.0,
           0.0,
           0.0,
           0.0,
           0.0,
           0.0,
           0.0,
           0.0,
           0.0,
           0.0,
           0.0,
           0.0,
           1.791990587508278,
           1.737424508351978,
           1.7124535331923922,
           1.7175241514213568,
           1.6721626156801817,
           1.6169576688561431,
           1.6521230241009377,
           1.684745756511762,
           1.69031159799321,
           1.7421782445037557,
           1.704045133066101,
           1.6578080484099256,
           1.7702073548114756,
           0.0,
           0.0,
           0.0,
           0.0,
           0.0,
           0.0,
           0.0,
           0.0,
           0.0,
           0.0,
           0.0,
           0.0,
           0.0,
           0.0,
           0.0,
           0.0,
           0.0,
           0.0,
           0.0,
           0.0
          ],
          [
           0.0,
           0.0,
           0.0,
           0.0,
           0.0,
           0.0,
           0.0,
           0.0,
           0.0,
           0.0,
           0.0,
           0.0,
           0.0,
           0.0,
           0.0,
           0.0,
           0.0,
           0.0,
           0.0,
           0.0,
           0.0,
           0.0,
           0.0,
           0.0,
           0.0,
           0.0,
           0.0,
           0.0,
           0.0,
           0.0,
           0.0,
           1.7423763213052326,
           1.7149174062471517,
           1.6982151852176433,
           1.7216528730354743,
           1.6817824567658388,
           1.6486098355791692,
           1.718781174244894,
           1.7314827066026195,
           1.6972697864041724,
           1.7386061454174107,
           1.6894642425990498,
           1.6814352683772587,
           1.8405927696168114,
           0.0,
           0.0,
           0.0,
           0.0,
           0.0,
           0.0,
           0.0,
           0.0,
           0.0,
           0.0,
           0.0,
           0.0,
           0.0,
           0.0,
           0.0,
           0.0,
           0.0,
           0.0,
           0.0,
           0.0
          ],
          [
           0.0,
           0.0,
           0.0,
           0.0,
           0.0,
           0.0,
           0.0,
           0.0,
           0.0,
           0.0,
           0.0,
           0.0,
           0.0,
           0.0,
           0.0,
           0.0,
           0.0,
           0.0,
           0.0,
           0.0,
           0.0,
           0.0,
           0.0,
           0.0,
           0.0,
           0.0,
           0.0,
           0.0,
           0.0,
           0.0,
           0.0,
           0.0,
           1.7092605268490426,
           1.6576715984260662,
           1.7538420433523765,
           1.7167038692200227,
           1.6336063109993022,
           1.7195455877598242,
           1.743295347386433,
           1.6986526638458446,
           1.7229033079828797,
           1.675072097570913,
           1.6945498046659448,
           0.0,
           0.0,
           0.0,
           0.0,
           0.0,
           0.0,
           0.0,
           0.0,
           0.0,
           0.0,
           0.0,
           0.0,
           0.0,
           0.0,
           0.0,
           0.0,
           0.0,
           0.0,
           0.0,
           0.0,
           0.0
          ],
          [
           0.0,
           0.0,
           0.0,
           0.0,
           0.0,
           0.0,
           0.0,
           0.0,
           0.0,
           0.0,
           0.0,
           0.0,
           0.0,
           0.0,
           0.0,
           0.0,
           0.0,
           0.0,
           0.0,
           0.0,
           0.0,
           0.0,
           0.0,
           0.0,
           0.0,
           0.0,
           0.0,
           0.0,
           0.0,
           0.0,
           0.0,
           0.0,
           0.0,
           1.7909308188621174,
           1.7920673055876735,
           1.7323554056504848,
           1.6933102671084284,
           1.7381435011267345,
           1.7367310890843743,
           1.7199019130962994,
           1.6645549625421996,
           1.6447740497506917,
           1.8378780591074972,
           0.0,
           0.0,
           0.0,
           0.0,
           0.0,
           0.0,
           0.0,
           0.0,
           0.0,
           0.0,
           0.0,
           0.0,
           0.0,
           0.0,
           0.0,
           0.0,
           0.0,
           0.0,
           0.0,
           0.0,
           0.0
          ],
          [
           0.0,
           0.0,
           0.0,
           0.0,
           0.0,
           0.0,
           0.0,
           0.0,
           0.0,
           0.0,
           0.0,
           0.0,
           0.0,
           0.0,
           0.0,
           0.0,
           0.0,
           0.0,
           0.0,
           0.0,
           0.0,
           0.0,
           0.0,
           0.0,
           0.0,
           0.0,
           0.0,
           0.0,
           0.0,
           0.0,
           0.0,
           0.0,
           0.0,
           1.7329963715123842,
           1.8173025014887423,
           1.7207235774590615,
           1.6432327582741737,
           1.6960423490408634,
           1.7157801233318788,
           1.7069671259139234,
           1.7385418880242136,
           1.8095749105065786,
           0.0,
           0.0,
           0.0,
           0.0,
           0.0,
           0.0,
           0.0,
           0.0,
           0.0,
           0.0,
           0.0,
           0.0,
           0.0,
           0.0,
           0.0,
           0.0,
           0.0,
           0.0,
           0.0,
           0.0,
           0.0,
           0.0
          ],
          [
           0.0,
           0.0,
           0.0,
           0.0,
           0.0,
           0.0,
           0.0,
           0.0,
           0.0,
           0.0,
           0.0,
           0.0,
           0.0,
           0.0,
           0.0,
           0.0,
           0.0,
           0.0,
           0.0,
           0.0,
           0.0,
           0.0,
           0.0,
           0.0,
           0.0,
           0.0,
           0.0,
           0.0,
           0.0,
           0.0,
           0.0,
           0.0,
           0.0,
           0.0,
           0.0,
           0.0,
           1.7328928964649555,
           1.877740299280801,
           1.8423172284627851,
           1.8199564086998088,
           0.0,
           0.0,
           0.0,
           0.0,
           0.0,
           0.0,
           0.0,
           0.0,
           0.0,
           0.0,
           0.0,
           0.0,
           0.0,
           0.0,
           0.0,
           0.0,
           0.0,
           0.0,
           0.0,
           0.0,
           0.0,
           0.0,
           0.0,
           0.0
          ],
          [
           0.0,
           0.0,
           0.0,
           0.0,
           0.0,
           0.0,
           0.0,
           0.0,
           0.0,
           0.0,
           0.0,
           0.0,
           0.0,
           0.0,
           0.0,
           0.0,
           0.0,
           0.0,
           0.0,
           0.0,
           0.0,
           0.0,
           0.0,
           0.0,
           0.0,
           0.0,
           0.0,
           0.0,
           0.0,
           0.0,
           0.0,
           0.0,
           0.0,
           0.0,
           0.0,
           0.0,
           0.0,
           0.0,
           0.0,
           0.0,
           0.0,
           0.0,
           0.0,
           0.0,
           0.0,
           0.0,
           0.0,
           0.0,
           0.0,
           0.0,
           0.0,
           0.0,
           0.0,
           0.0,
           0.0,
           0.0,
           0.0,
           0.0,
           0.0,
           0.0,
           0.0,
           0.0,
           0.0,
           0.0
          ],
          [
           0.0,
           0.0,
           0.0,
           0.0,
           0.0,
           0.0,
           0.0,
           0.0,
           0.0,
           0.0,
           0.0,
           0.0,
           0.0,
           0.0,
           0.0,
           0.0,
           0.0,
           0.0,
           0.0,
           0.0,
           0.0,
           0.0,
           0.0,
           0.0,
           0.0,
           0.0,
           0.0,
           0.0,
           0.0,
           0.0,
           0.0,
           0.0,
           0.0,
           0.0,
           0.0,
           0.0,
           0.0,
           0.0,
           0.0,
           0.0,
           0.0,
           0.0,
           0.0,
           0.0,
           0.0,
           0.0,
           0.0,
           0.0,
           0.0,
           0.0,
           0.0,
           0.0,
           0.0,
           0.0,
           0.0,
           0.0,
           0.0,
           0.0,
           0.0,
           0.0,
           0.0,
           0.0,
           0.0,
           0.0
          ],
          [
           0.0,
           0.0,
           0.0,
           0.0,
           0.0,
           0.0,
           0.0,
           0.0,
           0.0,
           0.0,
           0.0,
           0.0,
           0.0,
           0.0,
           0.0,
           0.0,
           0.0,
           0.0,
           0.0,
           0.0,
           0.0,
           0.0,
           0.0,
           0.0,
           0.0,
           0.0,
           0.0,
           0.0,
           0.0,
           0.0,
           0.0,
           0.0,
           0.0,
           0.0,
           0.0,
           0.0,
           0.0,
           0.0,
           0.0,
           0.0,
           0.0,
           0.0,
           0.0,
           0.0,
           0.0,
           0.0,
           0.0,
           0.0,
           0.0,
           0.0,
           0.0,
           0.0,
           0.0,
           0.0,
           0.0,
           0.0,
           0.0,
           0.0,
           0.0,
           0.0,
           0.0,
           0.0,
           0.0,
           0.0
          ],
          [
           0.0,
           0.0,
           0.0,
           0.0,
           0.0,
           0.0,
           0.0,
           0.0,
           0.0,
           0.0,
           0.0,
           0.0,
           0.0,
           0.0,
           0.0,
           0.0,
           0.0,
           0.0,
           0.0,
           0.0,
           0.0,
           0.0,
           0.0,
           0.0,
           0.0,
           0.0,
           0.0,
           0.0,
           0.0,
           0.0,
           0.0,
           0.0,
           0.0,
           0.0,
           0.0,
           0.0,
           0.0,
           0.0,
           0.0,
           0.0,
           0.0,
           0.0,
           0.0,
           0.0,
           0.0,
           0.0,
           0.0,
           0.0,
           0.0,
           0.0,
           0.0,
           0.0,
           0.0,
           0.0,
           0.0,
           0.0,
           0.0,
           0.0,
           0.0,
           0.0,
           0.0,
           0.0,
           0.0,
           0.0
          ],
          [
           0.0,
           0.0,
           0.0,
           0.0,
           0.0,
           0.0,
           0.0,
           0.0,
           0.0,
           0.0,
           0.0,
           0.0,
           0.0,
           0.0,
           0.0,
           0.0,
           0.0,
           0.0,
           0.0,
           0.0,
           0.0,
           0.0,
           0.0,
           0.0,
           0.0,
           0.0,
           0.0,
           0.0,
           0.0,
           0.0,
           0.0,
           0.0,
           0.0,
           0.0,
           0.0,
           0.0,
           0.0,
           0.0,
           0.0,
           0.0,
           0.0,
           0.0,
           0.0,
           0.0,
           0.0,
           0.0,
           0.0,
           0.0,
           0.0,
           0.0,
           0.0,
           0.0,
           0.0,
           0.0,
           0.0,
           0.0,
           0.0,
           0.0,
           0.0,
           0.0,
           0.0,
           0.0,
           0.0,
           0.0
          ],
          [
           0.0,
           0.0,
           0.0,
           0.0,
           0.0,
           0.0,
           0.0,
           0.0,
           0.0,
           0.0,
           0.0,
           0.0,
           0.0,
           0.0,
           0.0,
           0.0,
           0.0,
           0.0,
           0.0,
           0.0,
           0.0,
           0.0,
           0.0,
           0.0,
           0.0,
           0.0,
           0.0,
           0.0,
           0.0,
           0.0,
           0.0,
           0.0,
           0.0,
           0.0,
           0.0,
           0.0,
           0.0,
           0.0,
           0.0,
           0.0,
           0.0,
           0.0,
           0.0,
           0.0,
           0.0,
           0.0,
           0.0,
           0.0,
           0.0,
           0.0,
           0.0,
           0.0,
           0.0,
           0.0,
           0.0,
           0.0,
           0.0,
           0.0,
           0.0,
           0.0,
           0.0,
           0.0,
           0.0,
           0.0
          ]
         ],
         "type": "heatmap",
         "xaxis": "x",
         "yaxis": "y",
         "hovertemplate": "x: %{x}<br>y: %{y}<br>color: %{z}<extra></extra>"
        }
       ],
       "layout": {
        "template": {
         "data": {
          "histogram2dcontour": [
           {
            "type": "histogram2dcontour",
            "colorbar": {
             "outlinewidth": 0,
             "ticks": ""
            },
            "colorscale": [
             [
              0.0,
              "#0d0887"
             ],
             [
              0.1111111111111111,
              "#46039f"
             ],
             [
              0.2222222222222222,
              "#7201a8"
             ],
             [
              0.3333333333333333,
              "#9c179e"
             ],
             [
              0.4444444444444444,
              "#bd3786"
             ],
             [
              0.5555555555555556,
              "#d8576b"
             ],
             [
              0.6666666666666666,
              "#ed7953"
             ],
             [
              0.7777777777777778,
              "#fb9f3a"
             ],
             [
              0.8888888888888888,
              "#fdca26"
             ],
             [
              1.0,
              "#f0f921"
             ]
            ]
           }
          ],
          "choropleth": [
           {
            "type": "choropleth",
            "colorbar": {
             "outlinewidth": 0,
             "ticks": ""
            }
           }
          ],
          "histogram2d": [
           {
            "type": "histogram2d",
            "colorbar": {
             "outlinewidth": 0,
             "ticks": ""
            },
            "colorscale": [
             [
              0.0,
              "#0d0887"
             ],
             [
              0.1111111111111111,
              "#46039f"
             ],
             [
              0.2222222222222222,
              "#7201a8"
             ],
             [
              0.3333333333333333,
              "#9c179e"
             ],
             [
              0.4444444444444444,
              "#bd3786"
             ],
             [
              0.5555555555555556,
              "#d8576b"
             ],
             [
              0.6666666666666666,
              "#ed7953"
             ],
             [
              0.7777777777777778,
              "#fb9f3a"
             ],
             [
              0.8888888888888888,
              "#fdca26"
             ],
             [
              1.0,
              "#f0f921"
             ]
            ]
           }
          ],
          "heatmap": [
           {
            "type": "heatmap",
            "colorbar": {
             "outlinewidth": 0,
             "ticks": ""
            },
            "colorscale": [
             [
              0.0,
              "#0d0887"
             ],
             [
              0.1111111111111111,
              "#46039f"
             ],
             [
              0.2222222222222222,
              "#7201a8"
             ],
             [
              0.3333333333333333,
              "#9c179e"
             ],
             [
              0.4444444444444444,
              "#bd3786"
             ],
             [
              0.5555555555555556,
              "#d8576b"
             ],
             [
              0.6666666666666666,
              "#ed7953"
             ],
             [
              0.7777777777777778,
              "#fb9f3a"
             ],
             [
              0.8888888888888888,
              "#fdca26"
             ],
             [
              1.0,
              "#f0f921"
             ]
            ]
           }
          ],
          "heatmapgl": [
           {
            "type": "heatmapgl",
            "colorbar": {
             "outlinewidth": 0,
             "ticks": ""
            },
            "colorscale": [
             [
              0.0,
              "#0d0887"
             ],
             [
              0.1111111111111111,
              "#46039f"
             ],
             [
              0.2222222222222222,
              "#7201a8"
             ],
             [
              0.3333333333333333,
              "#9c179e"
             ],
             [
              0.4444444444444444,
              "#bd3786"
             ],
             [
              0.5555555555555556,
              "#d8576b"
             ],
             [
              0.6666666666666666,
              "#ed7953"
             ],
             [
              0.7777777777777778,
              "#fb9f3a"
             ],
             [
              0.8888888888888888,
              "#fdca26"
             ],
             [
              1.0,
              "#f0f921"
             ]
            ]
           }
          ],
          "contourcarpet": [
           {
            "type": "contourcarpet",
            "colorbar": {
             "outlinewidth": 0,
             "ticks": ""
            }
           }
          ],
          "contour": [
           {
            "type": "contour",
            "colorbar": {
             "outlinewidth": 0,
             "ticks": ""
            },
            "colorscale": [
             [
              0.0,
              "#0d0887"
             ],
             [
              0.1111111111111111,
              "#46039f"
             ],
             [
              0.2222222222222222,
              "#7201a8"
             ],
             [
              0.3333333333333333,
              "#9c179e"
             ],
             [
              0.4444444444444444,
              "#bd3786"
             ],
             [
              0.5555555555555556,
              "#d8576b"
             ],
             [
              0.6666666666666666,
              "#ed7953"
             ],
             [
              0.7777777777777778,
              "#fb9f3a"
             ],
             [
              0.8888888888888888,
              "#fdca26"
             ],
             [
              1.0,
              "#f0f921"
             ]
            ]
           }
          ],
          "surface": [
           {
            "type": "surface",
            "colorbar": {
             "outlinewidth": 0,
             "ticks": ""
            },
            "colorscale": [
             [
              0.0,
              "#0d0887"
             ],
             [
              0.1111111111111111,
              "#46039f"
             ],
             [
              0.2222222222222222,
              "#7201a8"
             ],
             [
              0.3333333333333333,
              "#9c179e"
             ],
             [
              0.4444444444444444,
              "#bd3786"
             ],
             [
              0.5555555555555556,
              "#d8576b"
             ],
             [
              0.6666666666666666,
              "#ed7953"
             ],
             [
              0.7777777777777778,
              "#fb9f3a"
             ],
             [
              0.8888888888888888,
              "#fdca26"
             ],
             [
              1.0,
              "#f0f921"
             ]
            ]
           }
          ],
          "mesh3d": [
           {
            "type": "mesh3d",
            "colorbar": {
             "outlinewidth": 0,
             "ticks": ""
            }
           }
          ],
          "scatter": [
           {
            "fillpattern": {
             "fillmode": "overlay",
             "size": 10,
             "solidity": 0.2
            },
            "type": "scatter"
           }
          ],
          "parcoords": [
           {
            "type": "parcoords",
            "line": {
             "colorbar": {
              "outlinewidth": 0,
              "ticks": ""
             }
            }
           }
          ],
          "scatterpolargl": [
           {
            "type": "scatterpolargl",
            "marker": {
             "colorbar": {
              "outlinewidth": 0,
              "ticks": ""
             }
            }
           }
          ],
          "bar": [
           {
            "error_x": {
             "color": "#2a3f5f"
            },
            "error_y": {
             "color": "#2a3f5f"
            },
            "marker": {
             "line": {
              "color": "#E5ECF6",
              "width": 0.5
             },
             "pattern": {
              "fillmode": "overlay",
              "size": 10,
              "solidity": 0.2
             }
            },
            "type": "bar"
           }
          ],
          "scattergeo": [
           {
            "type": "scattergeo",
            "marker": {
             "colorbar": {
              "outlinewidth": 0,
              "ticks": ""
             }
            }
           }
          ],
          "scatterpolar": [
           {
            "type": "scatterpolar",
            "marker": {
             "colorbar": {
              "outlinewidth": 0,
              "ticks": ""
             }
            }
           }
          ],
          "histogram": [
           {
            "marker": {
             "pattern": {
              "fillmode": "overlay",
              "size": 10,
              "solidity": 0.2
             }
            },
            "type": "histogram"
           }
          ],
          "scattergl": [
           {
            "type": "scattergl",
            "marker": {
             "colorbar": {
              "outlinewidth": 0,
              "ticks": ""
             }
            }
           }
          ],
          "scatter3d": [
           {
            "type": "scatter3d",
            "line": {
             "colorbar": {
              "outlinewidth": 0,
              "ticks": ""
             }
            },
            "marker": {
             "colorbar": {
              "outlinewidth": 0,
              "ticks": ""
             }
            }
           }
          ],
          "scattermapbox": [
           {
            "type": "scattermapbox",
            "marker": {
             "colorbar": {
              "outlinewidth": 0,
              "ticks": ""
             }
            }
           }
          ],
          "scatterternary": [
           {
            "type": "scatterternary",
            "marker": {
             "colorbar": {
              "outlinewidth": 0,
              "ticks": ""
             }
            }
           }
          ],
          "scattercarpet": [
           {
            "type": "scattercarpet",
            "marker": {
             "colorbar": {
              "outlinewidth": 0,
              "ticks": ""
             }
            }
           }
          ],
          "carpet": [
           {
            "aaxis": {
             "endlinecolor": "#2a3f5f",
             "gridcolor": "white",
             "linecolor": "white",
             "minorgridcolor": "white",
             "startlinecolor": "#2a3f5f"
            },
            "baxis": {
             "endlinecolor": "#2a3f5f",
             "gridcolor": "white",
             "linecolor": "white",
             "minorgridcolor": "white",
             "startlinecolor": "#2a3f5f"
            },
            "type": "carpet"
           }
          ],
          "table": [
           {
            "cells": {
             "fill": {
              "color": "#EBF0F8"
             },
             "line": {
              "color": "white"
             }
            },
            "header": {
             "fill": {
              "color": "#C8D4E3"
             },
             "line": {
              "color": "white"
             }
            },
            "type": "table"
           }
          ],
          "barpolar": [
           {
            "marker": {
             "line": {
              "color": "#E5ECF6",
              "width": 0.5
             },
             "pattern": {
              "fillmode": "overlay",
              "size": 10,
              "solidity": 0.2
             }
            },
            "type": "barpolar"
           }
          ],
          "pie": [
           {
            "automargin": true,
            "type": "pie"
           }
          ]
         },
         "layout": {
          "autotypenumbers": "strict",
          "colorway": [
           "#636efa",
           "#EF553B",
           "#00cc96",
           "#ab63fa",
           "#FFA15A",
           "#19d3f3",
           "#FF6692",
           "#B6E880",
           "#FF97FF",
           "#FECB52"
          ],
          "font": {
           "color": "#2a3f5f"
          },
          "hovermode": "closest",
          "hoverlabel": {
           "align": "left"
          },
          "paper_bgcolor": "white",
          "plot_bgcolor": "#E5ECF6",
          "polar": {
           "bgcolor": "#E5ECF6",
           "angularaxis": {
            "gridcolor": "white",
            "linecolor": "white",
            "ticks": ""
           },
           "radialaxis": {
            "gridcolor": "white",
            "linecolor": "white",
            "ticks": ""
           }
          },
          "ternary": {
           "bgcolor": "#E5ECF6",
           "aaxis": {
            "gridcolor": "white",
            "linecolor": "white",
            "ticks": ""
           },
           "baxis": {
            "gridcolor": "white",
            "linecolor": "white",
            "ticks": ""
           },
           "caxis": {
            "gridcolor": "white",
            "linecolor": "white",
            "ticks": ""
           }
          },
          "coloraxis": {
           "colorbar": {
            "outlinewidth": 0,
            "ticks": ""
           }
          },
          "colorscale": {
           "sequential": [
            [
             0.0,
             "#0d0887"
            ],
            [
             0.1111111111111111,
             "#46039f"
            ],
            [
             0.2222222222222222,
             "#7201a8"
            ],
            [
             0.3333333333333333,
             "#9c179e"
            ],
            [
             0.4444444444444444,
             "#bd3786"
            ],
            [
             0.5555555555555556,
             "#d8576b"
            ],
            [
             0.6666666666666666,
             "#ed7953"
            ],
            [
             0.7777777777777778,
             "#fb9f3a"
            ],
            [
             0.8888888888888888,
             "#fdca26"
            ],
            [
             1.0,
             "#f0f921"
            ]
           ],
           "sequentialminus": [
            [
             0.0,
             "#0d0887"
            ],
            [
             0.1111111111111111,
             "#46039f"
            ],
            [
             0.2222222222222222,
             "#7201a8"
            ],
            [
             0.3333333333333333,
             "#9c179e"
            ],
            [
             0.4444444444444444,
             "#bd3786"
            ],
            [
             0.5555555555555556,
             "#d8576b"
            ],
            [
             0.6666666666666666,
             "#ed7953"
            ],
            [
             0.7777777777777778,
             "#fb9f3a"
            ],
            [
             0.8888888888888888,
             "#fdca26"
            ],
            [
             1.0,
             "#f0f921"
            ]
           ],
           "diverging": [
            [
             0,
             "#8e0152"
            ],
            [
             0.1,
             "#c51b7d"
            ],
            [
             0.2,
             "#de77ae"
            ],
            [
             0.3,
             "#f1b6da"
            ],
            [
             0.4,
             "#fde0ef"
            ],
            [
             0.5,
             "#f7f7f7"
            ],
            [
             0.6,
             "#e6f5d0"
            ],
            [
             0.7,
             "#b8e186"
            ],
            [
             0.8,
             "#7fbc41"
            ],
            [
             0.9,
             "#4d9221"
            ],
            [
             1,
             "#276419"
            ]
           ]
          },
          "xaxis": {
           "gridcolor": "white",
           "linecolor": "white",
           "ticks": "",
           "title": {
            "standoff": 15
           },
           "zerolinecolor": "white",
           "automargin": true,
           "zerolinewidth": 2
          },
          "yaxis": {
           "gridcolor": "white",
           "linecolor": "white",
           "ticks": "",
           "title": {
            "standoff": 15
           },
           "zerolinecolor": "white",
           "automargin": true,
           "zerolinewidth": 2
          },
          "scene": {
           "xaxis": {
            "backgroundcolor": "#E5ECF6",
            "gridcolor": "white",
            "linecolor": "white",
            "showbackground": true,
            "ticks": "",
            "zerolinecolor": "white",
            "gridwidth": 2
           },
           "yaxis": {
            "backgroundcolor": "#E5ECF6",
            "gridcolor": "white",
            "linecolor": "white",
            "showbackground": true,
            "ticks": "",
            "zerolinecolor": "white",
            "gridwidth": 2
           },
           "zaxis": {
            "backgroundcolor": "#E5ECF6",
            "gridcolor": "white",
            "linecolor": "white",
            "showbackground": true,
            "ticks": "",
            "zerolinecolor": "white",
            "gridwidth": 2
           }
          },
          "shapedefaults": {
           "line": {
            "color": "#2a3f5f"
           }
          },
          "annotationdefaults": {
           "arrowcolor": "#2a3f5f",
           "arrowhead": 0,
           "arrowwidth": 1
          },
          "geo": {
           "bgcolor": "white",
           "landcolor": "#E5ECF6",
           "subunitcolor": "white",
           "showland": true,
           "showlakes": true,
           "lakecolor": "white"
          },
          "title": {
           "x": 0.05
          },
          "mapbox": {
           "style": "light"
          }
         }
        },
        "xaxis": {
         "anchor": "y",
         "domain": [
          0.0,
          1.0
         ],
         "scaleanchor": "y",
         "constrain": "domain"
        },
        "yaxis": {
         "anchor": "x",
         "domain": [
          0.0,
          1.0
         ],
         "autorange": "reversed",
         "constrain": "domain"
        },
        "coloraxis": {
         "colorscale": [
          [
           0.0,
           "#0d0887"
          ],
          [
           0.1111111111111111,
           "#46039f"
          ],
          [
           0.2222222222222222,
           "#7201a8"
          ],
          [
           0.3333333333333333,
           "#9c179e"
          ],
          [
           0.4444444444444444,
           "#bd3786"
          ],
          [
           0.5555555555555556,
           "#d8576b"
          ],
          [
           0.6666666666666666,
           "#ed7953"
          ],
          [
           0.7777777777777778,
           "#fb9f3a"
          ],
          [
           0.8888888888888888,
           "#fdca26"
          ],
          [
           1.0,
           "#f0f921"
          ]
         ],
         "cmin": 2,
         "cmax": 3
        },
        "margin": {
         "t": 60
        }
       },
       "config": {
        "plotlyServerURL": "https://plot.ly"
       }
      },
      "text/html": [
       "<div>                            <div id=\"34ade883-6d3c-4b8a-8170-f5587e401edb\" class=\"plotly-graph-div\" style=\"height:525px; width:100%;\"></div>            <script type=\"text/javascript\">                require([\"plotly\"], function(Plotly) {                    window.PLOTLYENV=window.PLOTLYENV || {};                                    if (document.getElementById(\"34ade883-6d3c-4b8a-8170-f5587e401edb\")) {                    Plotly.newPlot(                        \"34ade883-6d3c-4b8a-8170-f5587e401edb\",                        [{\"coloraxis\":\"coloraxis\",\"name\":\"0\",\"z\":[[0.0,0.0,0.0,0.0,0.0,0.0,0.0,0.0,0.0,0.0,0.0,0.0,0.0,0.0,0.0,0.0,0.0,0.0,0.0,0.0,0.0,0.0,0.0,0.0,0.0,0.0,0.0,0.0,0.0,0.0,0.0,0.0,0.0,0.0,0.0,0.0,0.0,0.0,0.0,0.0,0.0,0.0,0.0,0.0,0.0,0.0,0.0,0.0,0.0,0.0,0.0,0.0,0.0,0.0,0.0,0.0,0.0,0.0,0.0,0.0,0.0,0.0,0.0,0.0],[0.0,0.0,0.0,0.0,0.0,0.0,0.0,0.0,0.0,0.0,0.0,0.0,0.0,0.0,0.0,0.0,0.0,0.0,0.0,0.0,0.0,0.0,0.0,0.0,0.0,0.0,0.0,0.0,0.0,0.0,0.0,0.0,0.0,0.0,0.0,0.0,0.0,0.0,0.0,0.0,0.0,0.0,0.0,0.0,0.0,0.0,0.0,0.0,0.0,0.0,0.0,0.0,0.0,0.0,0.0,0.0,0.0,0.0,0.0,0.0,0.0,0.0,0.0,0.0],[0.0,0.0,0.0,0.0,0.0,0.0,0.0,0.0,0.0,0.0,0.0,0.0,0.0,0.0,0.0,0.0,0.0,0.0,0.0,0.0,0.0,0.0,0.0,0.0,0.0,0.0,0.0,0.0,0.0,0.0,0.0,0.0,0.0,0.0,0.0,0.0,0.0,0.0,0.0,0.0,0.0,0.0,0.0,0.0,0.0,0.0,0.0,0.0,0.0,0.0,0.0,0.0,0.0,0.0,0.0,0.0,0.0,0.0,0.0,0.0,0.0,0.0,0.0,0.0],[0.0,0.0,0.0,0.0,0.0,0.0,0.0,0.0,0.0,0.0,0.0,0.0,0.0,0.0,0.0,0.0,0.0,0.0,0.0,0.0,0.0,0.0,0.0,0.0,0.0,0.0,0.0,0.0,0.0,0.0,0.0,0.0,0.0,0.0,0.0,0.0,0.0,0.0,0.0,0.0,0.0,0.0,0.0,0.0,0.0,0.0,0.0,0.0,0.0,0.0,0.0,0.0,0.0,0.0,0.0,0.0,0.0,0.0,0.0,0.0,0.0,0.0,0.0,0.0],[0.0,0.0,0.0,0.0,0.0,0.0,0.0,0.0,0.0,0.0,0.0,0.0,0.0,0.0,0.0,0.0,0.0,0.0,0.0,0.0,0.0,0.0,0.0,0.0,0.0,0.0,0.0,0.0,0.0,0.0,0.0,0.0,0.0,0.0,0.0,0.0,0.0,0.0,0.0,0.0,0.0,0.0,0.0,0.0,0.0,0.0,0.0,0.0,0.0,0.0,0.0,0.0,0.0,0.0,0.0,0.0,0.0,0.0,0.0,0.0,0.0,0.0,0.0,0.0],[0.0,0.0,0.0,0.0,0.0,0.0,0.0,0.0,0.0,0.0,0.0,0.0,0.0,0.0,0.0,0.0,0.0,0.0,0.0,0.0,0.0,0.0,0.0,0.0,0.0,0.0,0.0,0.0,0.0,0.0,0.0,0.0,0.0,0.0,0.0,0.0,0.0,0.0,0.0,0.0,0.0,0.0,0.0,0.0,0.0,0.0,0.0,0.0,0.0,0.0,0.0,0.0,0.0,0.0,0.0,0.0,0.0,0.0,0.0,0.0,0.0,0.0,0.0,0.0],[0.0,0.0,0.0,0.0,0.0,0.0,0.0,0.0,0.0,0.0,0.0,0.0,0.0,0.0,0.0,0.0,0.0,0.0,0.0,0.0,0.0,0.0,0.0,0.0,0.0,0.0,0.0,0.0,0.0,0.0,0.0,0.0,0.0,0.0,0.0,0.0,0.0,0.0,0.0,0.0,0.0,0.0,0.0,0.0,0.0,0.0,0.0,0.0,0.0,0.0,0.0,0.0,0.0,0.0,0.0,0.0,0.0,0.0,0.0,0.0,0.0,0.0,0.0,0.0],[0.0,0.0,0.0,0.0,0.0,0.0,0.0,0.0,0.0,0.0,0.0,0.0,0.0,0.0,0.0,0.0,0.0,0.0,0.0,0.0,0.0,0.0,0.0,0.0,0.0,0.0,0.0,0.0,0.0,0.0,0.0,0.0,0.0,0.0,0.0,0.0,0.0,0.0,0.0,0.0,0.0,0.0,0.0,0.0,0.0,0.0,0.0,0.0,0.0,0.0,0.0,0.0,0.0,0.0,0.0,0.0,0.0,0.0,0.0,0.0,0.0,0.0,0.0,0.0],[0.0,0.0,0.0,0.0,0.0,0.0,0.0,0.0,0.0,0.0,0.0,0.0,0.0,0.0,0.0,0.0,0.0,0.0,0.0,0.0,0.0,0.0,0.0,0.0,0.0,0.0,0.0,0.0,0.0,0.0,0.0,1.5729664432880335,1.524677209835506,1.509949924559093,1.559136513300212,1.5309185455952932,0.0,0.0,0.0,0.0,0.0,0.0,0.0,0.0,0.0,0.0,0.0,0.0,0.0,0.0,0.0,0.0,0.0,0.0,0.0,0.0,0.0,0.0,0.0,0.0,0.0,0.0,0.0,0.0],[0.0,0.0,0.0,0.0,0.0,0.0,0.0,0.0,0.0,0.0,0.0,0.0,0.0,0.0,0.0,0.0,0.0,0.0,0.0,0.0,0.0,0.0,0.0,0.0,0.0,0.0,0.0,0.0,0.0,1.502950090471941,1.526107125082182,1.521692035742664,1.5254581642934526,1.566347909679453,1.585486193075746,1.5577663852415549,1.530049952327929,0.0,0.0,0.0,0.0,0.0,0.0,0.0,0.0,0.0,0.0,0.0,0.0,0.0,0.0,0.0,0.0,0.0,0.0,0.0,0.0,0.0,0.0,0.0,0.0,0.0,0.0,0.0],[0.0,0.0,0.0,0.0,0.0,0.0,0.0,0.0,0.0,0.0,0.0,0.0,0.0,0.0,0.0,0.0,0.0,0.0,0.0,0.0,0.0,0.0,0.0,0.0,0.0,0.0,0.0,0.0,1.5296392296214105,1.5374686739629733,1.5982575432439232,1.5876573296095178,1.526854541957582,1.5515743808213867,1.5741366344918086,1.5323023702938359,1.525903731855067,1.5631072227061094,0.0,0.0,0.0,0.0,0.0,0.0,0.0,0.0,0.0,0.0,0.0,0.0,0.0,0.0,0.0,0.0,0.0,0.0,0.0,0.0,0.0,0.0,0.0,0.0,0.0,0.0],[0.0,0.0,0.0,0.0,0.0,0.0,0.0,0.0,0.0,0.0,0.0,0.0,0.0,0.0,0.0,0.0,0.0,0.0,0.0,0.0,0.0,0.0,0.0,0.0,0.0,0.0,0.0,0.0,1.5243454857768075,1.5588867623197602,1.5688736257604712,1.5737624560283907,1.561438139702109,1.563371295193524,1.581472223425892,1.5410647576296757,1.5192354370962537,1.5657509962800435,1.6073276214481511,0.0,0.0,0.0,0.0,0.0,0.0,0.0,0.0,0.0,0.0,0.0,0.0,0.0,0.0,0.0,0.0,0.0,0.0,0.0,0.0,0.0,0.0,0.0,0.0,0.0],[0.0,0.0,0.0,0.0,0.0,0.0,0.0,0.0,0.0,0.0,0.0,0.0,0.0,0.0,0.0,0.0,0.0,0.0,0.0,0.0,0.0,0.0,0.0,0.0,0.0,0.0,0.0,1.5208083525322074,1.571244256043977,1.5473079280491435,1.5248047517706582,1.5820472884200498,1.573637204678133,1.5420591663040837,1.5868218176797038,1.5844076062531471,1.5530024146740171,1.5638037799159459,1.5868925751186682,0.0,0.0,0.0,0.0,0.0,0.0,0.0,0.0,0.0,0.0,0.0,0.0,0.0,0.0,0.0,0.0,0.0,0.0,0.0,0.0,0.0,0.0,0.0,0.0,0.0],[0.0,0.0,0.0,0.0,0.0,0.0,0.0,0.0,0.0,0.0,0.0,0.0,0.0,0.0,0.0,0.0,0.0,0.0,0.0,0.0,0.0,0.0,0.0,0.0,0.0,0.0,0.0,1.4939393959126668,1.5506240612548898,1.5628099317068274,1.52987632821367,1.5748897648815101,1.5537358467278783,1.5279061586441078,1.5966259583701214,1.5813352393870885,1.5549091392716594,1.600088718467774,1.5872839799707406,1.6475410729388038,0.0,0.0,0.0,0.0,0.0,0.0,0.0,1.5824808626295157,1.6147229036834208,1.6676165220218044,1.7423507903086564,0.0,0.0,0.0,0.0,0.0,0.0,0.0,0.0,0.0,0.0,0.0,0.0,0.0],[0.0,0.0,0.0,0.0,0.0,0.0,0.0,0.0,0.0,0.0,0.0,0.0,0.0,0.0,0.0,0.0,0.0,0.0,0.0,0.0,0.0,0.0,0.0,0.0,0.0,0.0,0.0,1.498535275309062,1.5080283635726353,1.5374670752208168,1.5231991022245528,1.5456270117007735,1.539148987434021,1.547319646111591,1.60134970480622,1.588019593602994,1.611112672498203,1.6218337939966798,1.577831901133832,1.677528512418461,0.0,0.0,0.0,0.0,0.0,1.6202804133065187,1.7044280144909638,1.6867335248388158,1.6748672313782804,1.7146903476261242,1.76706079224817,1.7821333918112088,1.7441130031274081,0.0,0.0,0.0,0.0,0.0,0.0,0.0,0.0,0.0,0.0,0.0],[0.0,0.0,0.0,0.0,0.0,0.0,0.0,0.0,0.0,0.0,0.0,0.0,0.0,0.0,0.0,0.0,0.0,0.0,0.0,0.0,0.0,0.0,0.0,0.0,0.0,0.0,0.0,1.546649417335319,1.5314694297674534,1.558550618959185,1.554220801807707,1.5396036521198195,1.5293824462674286,1.5661247326820054,1.5782564373311292,1.5317125635599387,1.5823482700380957,1.60365878637348,1.5489588495092812,1.6482882853401388,0.0,0.0,0.0,0.0,1.4805444971392527,1.6104059724514004,1.7361841547222436,1.699543880596548,1.7018314841392905,1.704166957508375,1.7038534844658741,1.7885771983975043,1.723837023320215,1.6342136780710645,0.0,0.0,0.0,0.0,0.0,0.0,0.0,0.0,0.0,0.0],[0.0,0.0,0.0,0.0,0.0,0.0,0.0,0.0,0.0,0.0,0.0,0.0,0.0,0.0,0.0,0.0,0.0,0.0,0.0,0.0,0.0,0.0,0.0,0.0,0.0,0.0,0.0,1.56211159925867,1.523748362864365,1.4847642742592997,1.5143730458635138,1.6017548675350117,1.5977712590828776,1.5174320641286783,1.5309301405756521,1.5876240347309112,1.5717046210824295,1.5330912036555997,1.5441226851291692,1.6057949528509219,0.0,0.0,0.0,0.0,1.6157300260934238,1.7082429504349224,1.7038698649484523,1.611931926298673,1.6776384810272282,1.732828893852114,1.6668992643673877,1.6729331116599326,1.6693255566486127,1.636037248382228,1.7787142235974691,0.0,0.0,0.0,0.0,0.0,0.0,0.0,0.0,0.0],[0.0,0.0,0.0,0.0,0.0,0.0,0.0,0.0,0.0,0.0,0.0,0.0,0.0,0.0,0.0,0.0,0.0,0.0,0.0,0.0,0.0,0.0,0.0,0.0,0.0,0.0,0.0,1.5005609714437043,1.480763828558807,1.5556503641583765,1.5621772670712701,1.505362523471205,1.5467688379326212,1.588457385438499,1.5506910207075835,1.5351005905054298,1.542703811055481,1.5596413609388793,1.5649782097730696,0.0,0.0,0.0,0.0,1.5751567133743936,1.6440207337950026,1.6733091355197265,1.6169146852511003,1.6053415548998862,1.6531077249840467,1.6567627207292104,1.6426332835748374,1.6926427158692892,1.7223095553171273,1.7030328596073276,1.7657448659880064,0.0,0.0,0.0,0.0,0.0,0.0,0.0,0.0,0.0],[0.0,0.0,0.0,0.0,0.0,0.0,0.0,0.0,0.0,0.0,0.0,0.0,0.0,0.0,0.0,0.0,1.3095357280639226,1.4610368076109468,1.5039360284068395,1.425538162176773,1.4290923922042484,1.4865776093403542,1.4311628715628995,0.0,0.0,0.0,0.0,0.0,1.532617085454985,1.5280922063972038,1.5131549051256938,1.5294531856542215,1.5938657052298872,1.6114846858670355,1.5777598610034664,1.5729904299165867,1.5540670605249276,1.5876100679989686,1.7090564530745675,0.0,0.0,0.0,0.0,1.5989968216821084,1.668274478495185,1.6477111719496986,1.6308553979909615,1.6816833506197528,1.6795647998544938,1.6943066970091039,1.7294328497528153,1.6952974480699963,1.7377222649001438,1.786996004330237,1.7439968332959672,1.8560414668820802,0.0,0.0,0.0,0.0,0.0,0.0,0.0,0.0],[0.0,0.0,0.0,0.0,0.0,0.0,0.0,0.0,0.0,0.0,0.0,0.0,0.0,0.0,0.0,1.3614499318546271,1.3833230949304232,1.4369556452116683,1.4682024080262819,1.496588728944586,1.50328424027696,1.463498375266004,1.4591050754605575,1.481521558480178,0.0,0.0,0.0,0.0,1.5300745954456705,1.5742176148232878,1.5392357974376845,1.5240362101728115,1.540933993598356,1.55023954337922,1.558867252133197,1.5515189534994505,1.5317966206241198,1.6073010999189026,0.0,0.0,0.0,0.0,0.0,1.5871904945166726,1.639916093386251,1.6479270654988545,1.687160635278648,1.6947985173995648,1.643016160095493,1.690594999233271,1.688407434683598,1.633535329308765,1.747530463731817,1.763221695343293,1.635066539976443,1.8505550799902513,0.0,0.0,0.0,0.0,0.0,0.0,0.0,0.0],[0.0,0.0,0.0,0.0,0.0,0.0,0.0,0.0,0.0,0.0,0.0,0.0,0.0,0.0,1.449310149292249,1.4634161250508104,1.4953032977914662,1.508227752266283,1.4810012789530358,1.4986592834598658,1.5591119851021487,1.5651319393487126,1.5482352514875972,1.5467825020330686,1.527888327072054,0.0,0.0,0.0,0.0,0.0,1.525943234313174,1.544045287138778,1.5991097352180614,1.5798096996609738,1.5596390511763525,1.592365275148693,1.5757281215092596,0.0,0.0,0.0,0.0,0.0,0.0,1.563292562140755,1.6346375036513745,1.6046463008836171,1.6395221343010105,1.6661868136844031,1.6082741381350212,1.6903123723269489,1.7368529273101143,1.644409598269184,1.7189073868311033,1.7926823269698922,1.685206295351479,1.8683053748459848,0.0,0.0,0.0,0.0,0.0,0.0,0.0,0.0],[0.0,0.0,0.0,0.0,0.0,0.0,0.0,0.0,0.0,0.0,0.0,0.0,0.0,0.0,1.4596583748803493,1.4683795445929944,1.5075075322297489,1.5651575083822404,1.5592547705417061,1.538899435450317,1.5869807820213206,1.6109598616575098,1.5754429210311522,1.5659602634324856,1.5244856911839264,0.0,0.0,0.0,0.0,0.0,0.0,0.0,0.0,1.5654196162145744,0.0,0.0,0.0,0.0,0.0,0.0,0.0,0.0,0.0,1.53896491039331,1.6084057767012816,1.605739748724803,1.6357281035535307,1.6258028771098736,1.5877065082112667,1.6707040241349278,1.6737038004402065,1.606401841748349,1.6759196116385007,1.701091667245125,1.7264287858970937,2.137614178761061,0.0,0.0,0.0,0.0,0.0,0.0,0.0,0.0],[0.0,0.0,0.0,0.0,0.0,0.0,0.0,0.0,0.0,0.0,0.0,0.0,0.0,1.4228870221914423,1.4481671537006153,1.4688051452494701,1.463871887995107,1.4381301932093782,1.5041786667939547,1.599542914140918,1.5813614783510637,1.5137785659847856,1.513483702132065,1.5668417904699186,1.5509410342561594,1.4943511640874874,0.0,0.0,0.0,0.0,0.0,0.0,0.0,0.0,0.0,0.0,0.0,0.0,0.0,0.0,0.0,0.0,0.0,1.5021355981595528,1.5947446827559597,1.6168283971728077,1.6146281388332775,1.6681576545786245,1.6934300885152953,1.6853398750698687,1.6637596106380128,1.6702061148882745,1.7140562970154056,1.6836840134253108,1.7377232125542024,0.0,0.0,0.0,0.0,0.0,0.0,0.0,0.0,0.0],[0.0,0.0,0.0,0.0,0.0,0.0,0.0,0.0,0.0,0.0,0.0,0.0,0.0,1.462728472523144,1.4063156770223013,1.3891571729399004,1.442476481395112,1.4487944894890383,1.4700044793088802,1.518200350288218,1.526491175482126,1.5103627497308376,1.543720437298436,1.587977997246512,1.528754246019042,1.4759458793289881,0.0,0.0,0.0,0.0,0.0,0.0,0.0,0.0,0.0,0.0,0.0,0.0,0.0,0.0,0.0,0.0,0.0,0.0,1.639664666316958,1.6915142045330631,1.67509725704314,1.5822211882542039,1.5820625104015726,1.6189743563716583,1.6077706365809945,1.6779821317130126,1.6851172698165313,1.5980499856550905,1.7459101358647364,0.0,0.0,0.0,0.0,0.0,0.0,0.0,0.0,0.0],[0.0,0.0,0.0,0.0,0.0,0.0,0.0,0.0,0.0,0.0,0.0,0.0,0.0,1.4524944229977723,1.4072434124496838,1.4453822745711407,1.5285031961700344,1.5475196727037808,1.5331588240451723,1.5290696465854574,1.5561054701151757,1.5338610002134807,1.532657679391491,1.6096686489333476,1.5818561371078668,1.5161157316666243,0.0,0.0,0.0,0.0,0.0,0.0,0.0,0.0,0.0,0.0,0.0,0.0,0.0,0.0,0.0,0.0,0.0,0.0,1.6885000449084395,1.668886010270939,1.5971929888816694,1.5583220991629712,1.544213338225574,1.5578601740537144,1.6176719124869656,1.6329621972285426,1.6171248202789341,1.6912085693105545,0.0,0.0,0.0,0.0,0.0,0.0,0.0,0.0,0.0,0.0],[0.0,0.0,0.0,0.0,0.0,0.0,0.0,0.0,0.0,0.0,0.0,0.0,0.0,1.4590019478493663,1.4320789034668207,1.4651287175963512,1.485676022323276,1.4909333431454932,1.5279766319968668,1.536572581249493,1.5586689202456374,1.5620143431005726,1.5522912262625599,1.571682770362106,1.5299867385721844,1.4673396694939278,0.0,0.0,0.0,0.0,0.0,0.0,0.0,0.0,0.0,0.0,0.0,0.0,0.0,0.0,0.0,0.0,0.0,0.0,0.0,1.5758306382437135,1.5562997674454815,1.5336190734921582,1.5441738980891166,1.6277058740574106,1.6007462631327989,1.5276177576822023,1.6637759410372839,0.0,0.0,0.0,0.0,0.0,0.0,0.0,0.0,0.0,0.0,0.0],[0.0,0.0,0.0,0.0,0.0,0.0,0.0,0.0,0.0,0.0,0.0,0.0,0.0,1.4608261248709706,1.4621041557791759,1.443489228048388,1.4542179096325616,1.5153028993429687,1.544983237390897,1.5208795622560691,1.5726422778387268,1.614075071225859,1.5328711095954528,1.5018240001326322,1.5762878783601864,1.6197686042053854,0.0,0.0,0.0,0.0,0.0,0.0,0.0,0.0,0.0,0.0,0.0,0.0,0.0,0.0,0.0,0.0,0.0,0.0,0.0,0.0,0.0,1.6387769703571058,1.573579556751388,1.6855484127000717,1.713667703925319,0.0,0.0,0.0,0.0,0.0,0.0,0.0,0.0,0.0,0.0,0.0,0.0,0.0],[0.0,0.0,0.0,0.0,0.0,0.0,0.0,0.0,0.0,0.0,0.0,0.0,0.0,0.0,1.482415425413459,1.3739740972816727,1.3910654811053131,1.5225209322897029,1.5539277121926505,1.5267311776669543,1.4989732571581302,1.4920446731171595,1.537690155621803,1.5535590644812434,1.5305242892430333,0.0,0.0,0.0,0.0,0.0,0.0,0.0,0.0,0.0,0.0,1.94791976674999,1.9299619850031535,1.8821624454816999,0.0,0.0,0.0,0.0,0.0,0.0,0.0,0.0,0.0,0.0,0.0,0.0,0.0,0.0,0.0,0.0,0.0,0.0,0.0,0.0,0.0,0.0,0.0,0.0,0.0,0.0],[0.0,0.0,0.0,0.0,0.0,0.0,0.0,0.0,0.0,0.0,0.0,0.0,0.0,0.0,1.5493625456630453,1.4679978336411523,1.4554645984770145,1.5228302397851143,1.566691358779946,1.5435569830779596,1.4719322393711043,1.472460759480091,1.542744814326258,1.5378268882131185,1.5102733732052298,0.0,0.0,0.0,0.0,0.0,0.0,0.0,0.0,1.9558818876343607,1.9948910819602494,2.039298501470673,2.0760016455087467,2.029992381444244,1.963181640401594,1.9114644287130524,0.0,0.0,0.0,0.0,0.0,0.0,0.0,0.0,0.0,0.0,0.0,0.0,0.0,0.0,0.0,0.0,0.0,0.0,0.0,0.0,0.0,0.0,0.0,0.0],[0.0,0.0,0.0,0.0,0.0,0.0,0.0,0.0,0.0,0.0,0.0,0.0,0.0,0.0,0.0,1.5780041568780585,1.5429684272209898,1.562647248766398,1.5465880521993336,1.5055433096811761,1.4922266500521348,1.508163297533146,1.5471774109807663,1.5763622500966272,0.0,0.0,0.0,0.0,0.0,0.0,0.0,1.9094658660827164,1.9928114369350318,2.077032401325985,2.0329872365980246,2.0168967080887037,2.0466875116471024,2.0031627892172756,2.0261062351903347,2.0149684278403304,1.877767290526562,0.0,0.0,0.0,0.0,0.0,0.0,0.0,0.0,0.0,0.0,0.0,0.0,0.0,0.0,0.0,0.0,0.0,0.0,0.0,0.0,0.0,0.0,0.0],[0.0,0.0,0.0,0.0,0.0,0.0,0.0,0.0,0.0,0.0,0.0,0.0,0.0,0.0,0.0,0.0,1.5826480475513758,1.5512867344006116,1.5367141240648245,1.5392024100441157,1.591310805360693,1.558683050216785,0.0,0.0,0.0,0.0,0.0,0.0,0.0,0.0,0.0,1.9605912523824442,2.0393802138964405,2.0292558723631777,1.9854155138287135,2.0172876433210525,2.028781829917086,1.9774665271037002,1.964330175321004,1.9734578761688741,1.9734834855274812,2.0300070785073023,0.0,0.0,0.0,0.0,0.0,0.0,0.0,0.0,0.0,0.0,0.0,0.0,0.0,0.0,0.0,0.0,0.0,0.0,0.0,0.0,0.0,0.0],[0.0,0.0,0.0,0.0,0.0,0.0,0.0,0.0,0.0,0.0,0.0,0.0,0.0,0.0,0.0,0.0,0.0,0.0,0.0,0.0,0.0,0.0,0.0,0.0,0.0,0.0,0.0,0.0,0.0,0.0,1.9353312188878027,1.9827403085878657,1.9998760166559717,1.9580936914009976,1.992421823128718,2.009370085588604,1.9972896165748024,2.0011319778581687,1.971265382731471,2.007163434695914,2.046421682221932,2.0038041902614943,0.0,0.0,0.0,0.0,0.0,0.0,0.0,0.0,0.0,0.0,0.0,0.0,0.0,0.0,0.0,0.0,0.0,0.0,0.0,0.0,0.0,0.0],[0.0,0.0,0.0,0.0,0.0,0.0,0.0,0.0,0.0,0.0,0.0,0.0,0.0,0.0,0.0,0.0,0.0,0.0,0.0,0.0,0.0,0.0,0.0,0.0,0.0,0.0,0.0,0.0,0.0,0.0,2.0295433719886016,2.0024317744151516,2.0499013094668452,2.0181111143792965,1.9728075905171387,2.0127456057217614,2.0517200256377093,1.9736693815506403,1.909425243172817,1.977246868907018,2.0202868613591733,2.004437017768214,2.1174919651955406,0.0,0.0,0.0,0.0,0.0,0.0,0.0,0.0,0.0,0.0,0.0,0.0,0.0,0.0,0.0,0.0,0.0,0.0,0.0,0.0,0.0],[0.0,0.0,0.0,0.0,0.0,0.0,0.0,0.0,0.0,0.0,0.0,0.0,0.0,0.0,0.0,0.0,0.0,0.0,0.0,0.0,0.0,0.0,0.0,0.0,0.0,0.0,0.0,0.0,0.0,0.0,2.034085799826695,2.0366730617102524,1.983780284363066,1.9557737725855686,1.9542793239122673,1.9702067542587112,2.043535678231152,2.058635696114063,1.9775773258955316,1.9626256898552557,1.9889286963672332,2.0195476049087184,2.1542633107690388,0.0,0.0,0.0,0.0,0.0,0.0,0.0,0.0,0.0,0.0,0.0,0.0,0.0,0.0,0.0,0.0,0.0,0.0,0.0,0.0,0.0],[0.0,0.0,0.0,0.0,0.0,0.0,0.0,0.0,0.0,0.0,0.0,0.0,0.0,0.0,0.0,0.0,0.0,0.0,0.0,0.0,0.0,0.0,0.0,0.0,0.0,0.0,0.0,0.0,0.0,0.0,2.002565747479898,2.1076517084265785,1.9990186838096111,1.9580489156985588,2.0706624815347774,1.9888759574921913,1.9808913657157738,2.0760413579695234,1.9829856765584524,1.9724215163848149,2.026273939154471,1.9703030258700738,2.057721463882654,0.0,0.0,0.0,0.0,0.0,0.0,0.0,0.0,0.0,0.0,0.0,0.0,0.0,0.0,0.0,0.0,0.0,0.0,0.0,0.0,0.0],[0.0,0.0,0.0,0.0,0.0,0.0,0.0,0.0,0.0,0.0,0.0,0.0,0.0,0.0,0.0,0.0,0.0,0.0,0.0,0.0,0.0,0.0,0.0,0.0,0.0,0.0,0.0,0.0,0.0,0.0,2.071215685593754,2.055037269899683,1.9845329360459363,1.9804978840843013,2.0655197095100792,2.019762435839766,1.9727593058760506,1.9916704280248685,1.9735686046650762,1.9881210202316242,1.9839604405434188,1.9839709997285961,2.1051407414876135,0.0,0.0,0.0,0.0,0.0,1.513959058691219,1.6549719699779308,1.6249997565267142,1.5481072121896693,1.6192074252071997,1.7130564597858382,1.6094376108273494,0.0,0.0,0.0,0.0,0.0,0.0,0.0,0.0,0.0],[0.0,0.0,0.0,0.0,0.0,0.0,0.0,0.0,0.0,0.0,0.0,0.0,0.0,0.0,0.0,0.0,0.0,0.0,0.0,0.0,0.0,0.0,0.0,0.0,0.0,0.0,0.0,0.0,0.0,0.0,2.1007506301248964,2.0409669602877973,1.9865043962160462,2.0207070913531626,2.053108791106136,2.01777620050891,2.0672120073614306,2.0760591271491258,2.014210111172127,2.001411300589823,1.9769064554696563,2.0031141538541144,0.0,0.0,0.0,0.0,0.0,1.562509333484145,1.7289612647815662,1.6572858494598006,1.592818773267051,1.634757389924912,1.6697374632792736,1.7078384092484675,1.6323233150206278,1.4550144312657043,0.0,0.0,0.0,0.0,0.0,0.0,0.0,0.0],[0.0,0.0,0.0,0.0,0.0,0.0,0.0,0.0,0.0,0.0,0.0,0.0,0.0,0.0,0.0,0.0,0.0,0.0,0.0,0.0,0.0,1.7917616512697851,1.8244541640494452,1.736732863413045,0.0,0.0,0.0,0.0,0.0,0.0,2.1397858273735286,2.0424823784217656,1.989628450051951,2.0689226669003693,2.088777635294993,2.014604077043743,2.0598065177336355,2.0962223954341863,2.019128873685157,1.999629381837137,2.032767772984485,2.0243303477832186,0.0,0.0,0.0,0.0,1.586228402461543,1.6261126881502153,1.6422542189903486,1.6176846277030728,1.6669862823341515,1.6989834824389223,1.6416582552212484,1.6492646390388357,1.5884892611466186,1.4680569773278136,1.5232253153503523,0.0,0.0,0.0,0.0,0.0,0.0,0.0],[0.0,0.0,0.0,0.0,0.0,0.0,0.0,0.0,0.0,0.0,0.0,0.0,0.0,0.0,0.0,0.0,0.0,0.0,0.0,1.7986959181893383,1.8280629783399893,1.9271878954163941,1.9691296644791083,1.931511377512635,1.9008595769700667,1.8594775165337292,0.0,0.0,0.0,0.0,0.0,2.116554804622908,2.0687013610006013,1.9933288196922965,2.0392852182990833,2.041410832497117,2.0020010952636427,2.072339280238851,2.057578160483937,1.9926745998987891,2.1107813449084776,0.0,0.0,0.0,0.0,1.4862201534551758,1.6097002384424453,1.675590919071041,1.6104253126743024,1.5497320537307624,1.6072408182657116,1.646561293085493,1.5388164792366879,1.4685428602812818,1.5070346226806004,1.5197869746380674,1.5549154463934483,0.0,0.0,0.0,0.0,0.0,0.0,0.0],[0.0,0.0,0.0,0.0,0.0,0.0,0.0,0.0,0.0,0.0,0.0,0.0,0.0,0.0,0.0,0.0,0.0,0.0,1.9535465621535006,1.8965748709092383,1.8915001361331443,1.9469859249862536,1.9490423849512306,1.9020246179393774,1.9062414226515083,1.9649592330234706,1.9758721346843366,1.877838847456235,0.0,0.0,0.0,0.0,2.2230640856670294,2.0535522647821067,1.9880786023901895,2.033841827600962,2.053693920052378,2.065327728412298,2.037174321167043,2.072782733151466,0.0,0.0,0.0,0.0,0.0,1.54587037794921,1.6285322652811416,1.6486997229329865,1.5895168368913704,1.6051398215618848,1.612232487756769,1.5716825571107433,1.5322410971000926,1.535292998276466,1.612028066862232,1.6154810899657213,1.5130558025217367,1.474360395482942,0.0,0.0,0.0,0.0,0.0,0.0],[0.0,0.0,0.0,0.0,0.0,0.0,0.0,0.0,0.0,0.0,0.0,0.0,0.0,0.0,0.0,0.0,0.0,1.8826744200014929,1.971518071725364,2.003195719274645,1.9329551023189702,1.9456840623595235,1.915997468051877,1.9084354232972955,1.9776026912644664,1.9838366002268017,1.9373179519394612,1.9167138889882798,0.0,0.0,0.0,0.0,0.0,2.089188916669811,2.116924850114731,2.136993822581549,2.180170479446732,2.1851012665103493,2.133058100687932,0.0,0.0,0.0,0.0,0.0,0.0,1.532555609066658,1.6406680607135933,1.6527911714503911,1.6675652560434844,1.700589139703742,1.6589678781140673,1.6710420346034778,1.6283073982766745,1.555262122500425,1.6704419546080178,1.6652852148421544,1.4883874140385438,1.5309233848709944,0.0,0.0,0.0,0.0,0.0,0.0],[0.0,0.0,0.0,0.0,0.0,0.0,0.0,0.0,0.0,0.0,0.0,0.0,0.0,0.0,0.0,0.0,0.0,1.8379833738383102,1.9351555910359286,1.9642799319543056,1.9237013615015361,1.9644374675808174,1.9082486472836726,1.8756064901098868,1.9257811323245793,1.9468396724122934,1.973333579248715,1.9617804771778504,1.9358629340355078,0.0,0.0,0.0,0.0,0.0,0.0,0.0,0.0,0.0,0.0,0.0,0.0,0.0,0.0,0.0,0.0,1.6342160619897241,1.6884544049503676,1.6811590720762624,1.7266649517660106,1.7048888167540979,1.5900833418245828,1.6547085204062832,1.6664726838807675,1.5801793243807079,1.6484720925229501,1.5457195223988225,1.4143376130350858,1.5604066297288954,0.0,0.0,0.0,0.0,0.0,0.0],[0.0,0.0,0.0,0.0,0.0,0.0,0.0,0.0,0.0,0.0,0.0,0.0,0.0,0.0,0.0,0.0,2.0258102876069355,1.8958776111747462,1.9249187850991472,1.8937809029076649,1.8628118115223773,1.9154353104636264,1.9182723789553864,1.9199074642744198,1.9594427702833677,1.9765044757595203,1.9641803315586677,1.9074638799940875,1.9058100399217133,0.0,0.0,0.0,0.0,0.0,0.0,0.0,0.0,0.0,0.0,0.0,0.0,0.0,0.0,0.0,0.0,1.5709928394813981,1.6294835246435952,1.6651486621945182,1.6971851825659818,1.644265426323901,1.5661472590200665,1.6396418102836308,1.6569161669419175,1.5410922604257342,1.516633320097903,1.45222428221492,1.4474288561991036,1.6167147547132248,0.0,0.0,0.0,0.0,0.0,0.0],[0.0,0.0,0.0,0.0,0.0,0.0,0.0,0.0,0.0,0.0,0.0,0.0,0.0,0.0,0.0,0.0,2.168684649575135,2.0408745392338674,2.0039740042639003,1.9001264090588643,1.91130190072391,1.9830837121968772,1.9214669053456954,1.8917302773492353,1.9418155337994216,1.964554614096029,1.9326596823261493,1.864568830273575,1.8822868991790924,0.0,0.0,0.0,0.0,0.0,0.0,0.0,0.0,0.0,0.0,0.0,0.0,0.0,0.0,0.0,0.0,1.6361770173143066,1.6662453227289884,1.6909331034008004,1.7401109076599854,1.673227507236233,1.621617323867774,1.7098322288264238,1.6739075572062796,1.5920157078303725,1.6026749216578937,1.5414630148520563,1.5394312037519158,0.0,0.0,0.0,0.0,0.0,0.0,0.0],[0.0,0.0,0.0,0.0,0.0,0.0,0.0,0.0,0.0,0.0,0.0,0.0,0.0,0.0,0.0,0.0,2.1865238630035853,2.032615756054563,2.030155309994349,1.9403806572278361,1.909116131343091,1.9220560475070756,1.8731799427983757,1.9141619124242057,1.9818894252760035,1.9327334359388961,1.9367563679579345,1.9435585315523867,1.9138713281876076,0.0,0.0,0.0,0.0,0.0,0.0,0.0,0.0,1.6226556192207549,1.6162519620330178,0.0,0.0,0.0,0.0,0.0,0.0,0.0,1.6660456546809812,1.7054871808573207,1.752379603987441,1.7168014642587168,1.728599024834057,1.6926922543187537,1.5935016606707784,1.640619496627713,1.6332911913220791,1.5114455854515396,1.5344101200636426,0.0,0.0,0.0,0.0,0.0,0.0,0.0],[0.0,0.0,0.0,0.0,0.0,0.0,0.0,0.0,0.0,0.0,0.0,0.0,0.0,0.0,0.0,0.0,2.208475271857774,2.0565182287233417,2.051920533478678,1.9561399249636813,1.9340190414851486,1.9764270635908647,1.9130090025273887,1.8752658967043334,1.954101817506888,1.975540340973683,1.8758900735599393,1.878286148005009,1.960136014545041,0.0,0.0,0.0,0.0,0.0,1.6134104629111814,1.6656406581333172,1.6930654895887103,1.7113247781662808,1.7117581596185178,1.7063019354909372,1.6837810799668165,0.0,0.0,0.0,0.0,0.0,1.6706461305449887,1.7340237292627818,1.643893546497925,1.6387918708837663,1.7596505969456162,1.645244305010262,1.5190486114312114,1.575770225925977,1.5529846014115622,1.5485082413484086,0.0,0.0,0.0,0.0,0.0,0.0,0.0,0.0],[0.0,0.0,0.0,0.0,0.0,0.0,0.0,0.0,0.0,0.0,0.0,0.0,0.0,0.0,0.0,0.0,0.0,2.0042869890030475,1.9910889526343463,1.9600789116884851,1.908911811427237,1.9203276823909232,1.9116789808719339,1.8911458635504756,1.9192941808687964,1.9230219654472773,1.940844872096977,1.9872136886454623,1.9399362477259248,0.0,0.0,0.0,0.0,1.6679432346006393,1.6703721702175403,1.6203072320355363,1.6766996928611595,1.7364227006778834,1.7332201588726,1.750902498539078,1.7190790502149558,1.6695955110464036,0.0,0.0,0.0,0.0,0.0,1.6999702748385963,1.6200852763532747,1.5851167093272274,1.590014653940192,1.5575863064789033,1.5580336245733377,1.547870885707312,1.4921317135282355,1.556509749948116,0.0,0.0,0.0,0.0,0.0,0.0,0.0,0.0],[0.0,0.0,0.0,0.0,0.0,0.0,0.0,0.0,0.0,0.0,0.0,0.0,0.0,0.0,0.0,0.0,0.0,2.1379257064583657,1.9923682053785963,1.9429457845350593,1.9255396285537716,1.9694889094649786,1.967830982375385,1.9261167267150539,1.9357079934913677,1.8984409798648156,1.9036172379349974,1.982317139277372,0.0,0.0,0.0,0.0,1.6674685006864534,1.7474328388538485,1.7408168706364258,1.6635857743363704,1.6901902022813766,1.7350452191676051,1.7455156633221016,1.7488887452615185,1.692229990006161,1.6815318188728874,1.744492404903674,0.0,0.0,0.0,0.0,0.0,1.6484125974590798,1.6227408476465282,1.6508442501569358,1.6880441202480936,1.5903693255546623,1.5723079870463124,0.0,0.0,0.0,0.0,0.0,0.0,0.0,0.0,0.0,0.0],[0.0,0.0,0.0,0.0,0.0,0.0,0.0,0.0,0.0,0.0,0.0,0.0,0.0,0.0,0.0,0.0,0.0,0.0,2.047563173108676,2.0275626964642597,2.014895576612214,2.0490084560149646,1.9977899844667575,1.9670191357260163,2.0317403984266758,1.9751373341268963,1.9497179894927144,0.0,0.0,0.0,0.0,0.0,1.6787245671693238,1.7240500711882485,1.7079075854915082,1.6864551423312686,1.7045049294194976,1.6745647513461084,1.6931105375451467,1.7503628718766637,1.715517770370157,1.7030905922138189,1.7537359796503984,1.7642446233017843,0.0,0.0,0.0,0.0,0.0,0.0,0.0,0.0,0.0,0.0,0.0,0.0,0.0,0.0,0.0,0.0,0.0,0.0,0.0,0.0],[0.0,0.0,0.0,0.0,0.0,0.0,0.0,0.0,0.0,0.0,0.0,0.0,0.0,0.0,0.0,0.0,0.0,0.0,0.0,2.147619380430676,2.123122595199776,2.0320074119041456,1.979783431761805,2.076785060693614,2.0444609737158483,2.0180037831334183,0.0,0.0,0.0,0.0,0.0,1.7147613345467136,1.7273761001549592,1.7135823937473011,1.6825995187057807,1.7044450748752544,1.7219620670951514,1.7148903865967784,1.7066929565703557,1.681914595042639,1.674944671000096,1.6777622737612379,1.6836860904058137,1.7166441078775274,0.0,0.0,0.0,0.0,0.0,0.0,0.0,0.0,0.0,0.0,0.0,0.0,0.0,0.0,0.0,0.0,0.0,0.0,0.0,0.0],[0.0,0.0,0.0,0.0,0.0,0.0,0.0,0.0,0.0,0.0,0.0,0.0,0.0,0.0,0.0,0.0,0.0,0.0,0.0,0.0,0.0,2.086769311608052,2.1193118660697556,2.312054478691694,2.2020268207133284,0.0,0.0,0.0,0.0,0.0,0.0,1.6893818300220393,1.7360948273609385,1.6927221716386023,1.7181187188432792,1.7700258705213376,1.6748647831114656,1.655429060481895,1.7118498979174859,1.6920650816323224,1.6921689631715917,1.6359348312268498,1.5639538092337342,1.6682780649976667,0.0,0.0,0.0,0.0,0.0,0.0,0.0,0.0,0.0,0.0,0.0,0.0,0.0,0.0,0.0,0.0,0.0,0.0,0.0,0.0],[0.0,0.0,0.0,0.0,0.0,0.0,0.0,0.0,0.0,0.0,0.0,0.0,0.0,0.0,0.0,0.0,0.0,0.0,0.0,0.0,0.0,0.0,0.0,0.0,0.0,0.0,0.0,0.0,0.0,0.0,0.0,1.7205933895507874,1.7328451868929506,1.7322358814822563,1.7296453342940223,1.6871703716462818,1.6606710200960422,1.7374528628598385,1.751241027662367,1.6802515590209555,1.69310899602426,1.6602530259356159,1.623150593236558,1.7326132647860728,0.0,0.0,0.0,0.0,0.0,0.0,0.0,0.0,0.0,0.0,0.0,0.0,0.0,0.0,0.0,0.0,0.0,0.0,0.0,0.0],[0.0,0.0,0.0,0.0,0.0,0.0,0.0,0.0,0.0,0.0,0.0,0.0,0.0,0.0,0.0,0.0,0.0,0.0,0.0,0.0,0.0,0.0,0.0,0.0,0.0,0.0,0.0,0.0,0.0,0.0,0.0,1.791990587508278,1.737424508351978,1.7124535331923922,1.7175241514213568,1.6721626156801817,1.6169576688561431,1.6521230241009377,1.684745756511762,1.69031159799321,1.7421782445037557,1.704045133066101,1.6578080484099256,1.7702073548114756,0.0,0.0,0.0,0.0,0.0,0.0,0.0,0.0,0.0,0.0,0.0,0.0,0.0,0.0,0.0,0.0,0.0,0.0,0.0,0.0],[0.0,0.0,0.0,0.0,0.0,0.0,0.0,0.0,0.0,0.0,0.0,0.0,0.0,0.0,0.0,0.0,0.0,0.0,0.0,0.0,0.0,0.0,0.0,0.0,0.0,0.0,0.0,0.0,0.0,0.0,0.0,1.7423763213052326,1.7149174062471517,1.6982151852176433,1.7216528730354743,1.6817824567658388,1.6486098355791692,1.718781174244894,1.7314827066026195,1.6972697864041724,1.7386061454174107,1.6894642425990498,1.6814352683772587,1.8405927696168114,0.0,0.0,0.0,0.0,0.0,0.0,0.0,0.0,0.0,0.0,0.0,0.0,0.0,0.0,0.0,0.0,0.0,0.0,0.0,0.0],[0.0,0.0,0.0,0.0,0.0,0.0,0.0,0.0,0.0,0.0,0.0,0.0,0.0,0.0,0.0,0.0,0.0,0.0,0.0,0.0,0.0,0.0,0.0,0.0,0.0,0.0,0.0,0.0,0.0,0.0,0.0,0.0,1.7092605268490426,1.6576715984260662,1.7538420433523765,1.7167038692200227,1.6336063109993022,1.7195455877598242,1.743295347386433,1.6986526638458446,1.7229033079828797,1.675072097570913,1.6945498046659448,0.0,0.0,0.0,0.0,0.0,0.0,0.0,0.0,0.0,0.0,0.0,0.0,0.0,0.0,0.0,0.0,0.0,0.0,0.0,0.0,0.0],[0.0,0.0,0.0,0.0,0.0,0.0,0.0,0.0,0.0,0.0,0.0,0.0,0.0,0.0,0.0,0.0,0.0,0.0,0.0,0.0,0.0,0.0,0.0,0.0,0.0,0.0,0.0,0.0,0.0,0.0,0.0,0.0,0.0,1.7909308188621174,1.7920673055876735,1.7323554056504848,1.6933102671084284,1.7381435011267345,1.7367310890843743,1.7199019130962994,1.6645549625421996,1.6447740497506917,1.8378780591074972,0.0,0.0,0.0,0.0,0.0,0.0,0.0,0.0,0.0,0.0,0.0,0.0,0.0,0.0,0.0,0.0,0.0,0.0,0.0,0.0,0.0],[0.0,0.0,0.0,0.0,0.0,0.0,0.0,0.0,0.0,0.0,0.0,0.0,0.0,0.0,0.0,0.0,0.0,0.0,0.0,0.0,0.0,0.0,0.0,0.0,0.0,0.0,0.0,0.0,0.0,0.0,0.0,0.0,0.0,1.7329963715123842,1.8173025014887423,1.7207235774590615,1.6432327582741737,1.6960423490408634,1.7157801233318788,1.7069671259139234,1.7385418880242136,1.8095749105065786,0.0,0.0,0.0,0.0,0.0,0.0,0.0,0.0,0.0,0.0,0.0,0.0,0.0,0.0,0.0,0.0,0.0,0.0,0.0,0.0,0.0,0.0],[0.0,0.0,0.0,0.0,0.0,0.0,0.0,0.0,0.0,0.0,0.0,0.0,0.0,0.0,0.0,0.0,0.0,0.0,0.0,0.0,0.0,0.0,0.0,0.0,0.0,0.0,0.0,0.0,0.0,0.0,0.0,0.0,0.0,0.0,0.0,0.0,1.7328928964649555,1.877740299280801,1.8423172284627851,1.8199564086998088,0.0,0.0,0.0,0.0,0.0,0.0,0.0,0.0,0.0,0.0,0.0,0.0,0.0,0.0,0.0,0.0,0.0,0.0,0.0,0.0,0.0,0.0,0.0,0.0],[0.0,0.0,0.0,0.0,0.0,0.0,0.0,0.0,0.0,0.0,0.0,0.0,0.0,0.0,0.0,0.0,0.0,0.0,0.0,0.0,0.0,0.0,0.0,0.0,0.0,0.0,0.0,0.0,0.0,0.0,0.0,0.0,0.0,0.0,0.0,0.0,0.0,0.0,0.0,0.0,0.0,0.0,0.0,0.0,0.0,0.0,0.0,0.0,0.0,0.0,0.0,0.0,0.0,0.0,0.0,0.0,0.0,0.0,0.0,0.0,0.0,0.0,0.0,0.0],[0.0,0.0,0.0,0.0,0.0,0.0,0.0,0.0,0.0,0.0,0.0,0.0,0.0,0.0,0.0,0.0,0.0,0.0,0.0,0.0,0.0,0.0,0.0,0.0,0.0,0.0,0.0,0.0,0.0,0.0,0.0,0.0,0.0,0.0,0.0,0.0,0.0,0.0,0.0,0.0,0.0,0.0,0.0,0.0,0.0,0.0,0.0,0.0,0.0,0.0,0.0,0.0,0.0,0.0,0.0,0.0,0.0,0.0,0.0,0.0,0.0,0.0,0.0,0.0],[0.0,0.0,0.0,0.0,0.0,0.0,0.0,0.0,0.0,0.0,0.0,0.0,0.0,0.0,0.0,0.0,0.0,0.0,0.0,0.0,0.0,0.0,0.0,0.0,0.0,0.0,0.0,0.0,0.0,0.0,0.0,0.0,0.0,0.0,0.0,0.0,0.0,0.0,0.0,0.0,0.0,0.0,0.0,0.0,0.0,0.0,0.0,0.0,0.0,0.0,0.0,0.0,0.0,0.0,0.0,0.0,0.0,0.0,0.0,0.0,0.0,0.0,0.0,0.0],[0.0,0.0,0.0,0.0,0.0,0.0,0.0,0.0,0.0,0.0,0.0,0.0,0.0,0.0,0.0,0.0,0.0,0.0,0.0,0.0,0.0,0.0,0.0,0.0,0.0,0.0,0.0,0.0,0.0,0.0,0.0,0.0,0.0,0.0,0.0,0.0,0.0,0.0,0.0,0.0,0.0,0.0,0.0,0.0,0.0,0.0,0.0,0.0,0.0,0.0,0.0,0.0,0.0,0.0,0.0,0.0,0.0,0.0,0.0,0.0,0.0,0.0,0.0,0.0],[0.0,0.0,0.0,0.0,0.0,0.0,0.0,0.0,0.0,0.0,0.0,0.0,0.0,0.0,0.0,0.0,0.0,0.0,0.0,0.0,0.0,0.0,0.0,0.0,0.0,0.0,0.0,0.0,0.0,0.0,0.0,0.0,0.0,0.0,0.0,0.0,0.0,0.0,0.0,0.0,0.0,0.0,0.0,0.0,0.0,0.0,0.0,0.0,0.0,0.0,0.0,0.0,0.0,0.0,0.0,0.0,0.0,0.0,0.0,0.0,0.0,0.0,0.0,0.0],[0.0,0.0,0.0,0.0,0.0,0.0,0.0,0.0,0.0,0.0,0.0,0.0,0.0,0.0,0.0,0.0,0.0,0.0,0.0,0.0,0.0,0.0,0.0,0.0,0.0,0.0,0.0,0.0,0.0,0.0,0.0,0.0,0.0,0.0,0.0,0.0,0.0,0.0,0.0,0.0,0.0,0.0,0.0,0.0,0.0,0.0,0.0,0.0,0.0,0.0,0.0,0.0,0.0,0.0,0.0,0.0,0.0,0.0,0.0,0.0,0.0,0.0,0.0,0.0]],\"type\":\"heatmap\",\"xaxis\":\"x\",\"yaxis\":\"y\",\"hovertemplate\":\"x: %{x}\\u003cbr\\u003ey: %{y}\\u003cbr\\u003ecolor: %{z}\\u003cextra\\u003e\\u003c\\u002fextra\\u003e\"}],                        {\"template\":{\"data\":{\"histogram2dcontour\":[{\"type\":\"histogram2dcontour\",\"colorbar\":{\"outlinewidth\":0,\"ticks\":\"\"},\"colorscale\":[[0.0,\"#0d0887\"],[0.1111111111111111,\"#46039f\"],[0.2222222222222222,\"#7201a8\"],[0.3333333333333333,\"#9c179e\"],[0.4444444444444444,\"#bd3786\"],[0.5555555555555556,\"#d8576b\"],[0.6666666666666666,\"#ed7953\"],[0.7777777777777778,\"#fb9f3a\"],[0.8888888888888888,\"#fdca26\"],[1.0,\"#f0f921\"]]}],\"choropleth\":[{\"type\":\"choropleth\",\"colorbar\":{\"outlinewidth\":0,\"ticks\":\"\"}}],\"histogram2d\":[{\"type\":\"histogram2d\",\"colorbar\":{\"outlinewidth\":0,\"ticks\":\"\"},\"colorscale\":[[0.0,\"#0d0887\"],[0.1111111111111111,\"#46039f\"],[0.2222222222222222,\"#7201a8\"],[0.3333333333333333,\"#9c179e\"],[0.4444444444444444,\"#bd3786\"],[0.5555555555555556,\"#d8576b\"],[0.6666666666666666,\"#ed7953\"],[0.7777777777777778,\"#fb9f3a\"],[0.8888888888888888,\"#fdca26\"],[1.0,\"#f0f921\"]]}],\"heatmap\":[{\"type\":\"heatmap\",\"colorbar\":{\"outlinewidth\":0,\"ticks\":\"\"},\"colorscale\":[[0.0,\"#0d0887\"],[0.1111111111111111,\"#46039f\"],[0.2222222222222222,\"#7201a8\"],[0.3333333333333333,\"#9c179e\"],[0.4444444444444444,\"#bd3786\"],[0.5555555555555556,\"#d8576b\"],[0.6666666666666666,\"#ed7953\"],[0.7777777777777778,\"#fb9f3a\"],[0.8888888888888888,\"#fdca26\"],[1.0,\"#f0f921\"]]}],\"heatmapgl\":[{\"type\":\"heatmapgl\",\"colorbar\":{\"outlinewidth\":0,\"ticks\":\"\"},\"colorscale\":[[0.0,\"#0d0887\"],[0.1111111111111111,\"#46039f\"],[0.2222222222222222,\"#7201a8\"],[0.3333333333333333,\"#9c179e\"],[0.4444444444444444,\"#bd3786\"],[0.5555555555555556,\"#d8576b\"],[0.6666666666666666,\"#ed7953\"],[0.7777777777777778,\"#fb9f3a\"],[0.8888888888888888,\"#fdca26\"],[1.0,\"#f0f921\"]]}],\"contourcarpet\":[{\"type\":\"contourcarpet\",\"colorbar\":{\"outlinewidth\":0,\"ticks\":\"\"}}],\"contour\":[{\"type\":\"contour\",\"colorbar\":{\"outlinewidth\":0,\"ticks\":\"\"},\"colorscale\":[[0.0,\"#0d0887\"],[0.1111111111111111,\"#46039f\"],[0.2222222222222222,\"#7201a8\"],[0.3333333333333333,\"#9c179e\"],[0.4444444444444444,\"#bd3786\"],[0.5555555555555556,\"#d8576b\"],[0.6666666666666666,\"#ed7953\"],[0.7777777777777778,\"#fb9f3a\"],[0.8888888888888888,\"#fdca26\"],[1.0,\"#f0f921\"]]}],\"surface\":[{\"type\":\"surface\",\"colorbar\":{\"outlinewidth\":0,\"ticks\":\"\"},\"colorscale\":[[0.0,\"#0d0887\"],[0.1111111111111111,\"#46039f\"],[0.2222222222222222,\"#7201a8\"],[0.3333333333333333,\"#9c179e\"],[0.4444444444444444,\"#bd3786\"],[0.5555555555555556,\"#d8576b\"],[0.6666666666666666,\"#ed7953\"],[0.7777777777777778,\"#fb9f3a\"],[0.8888888888888888,\"#fdca26\"],[1.0,\"#f0f921\"]]}],\"mesh3d\":[{\"type\":\"mesh3d\",\"colorbar\":{\"outlinewidth\":0,\"ticks\":\"\"}}],\"scatter\":[{\"fillpattern\":{\"fillmode\":\"overlay\",\"size\":10,\"solidity\":0.2},\"type\":\"scatter\"}],\"parcoords\":[{\"type\":\"parcoords\",\"line\":{\"colorbar\":{\"outlinewidth\":0,\"ticks\":\"\"}}}],\"scatterpolargl\":[{\"type\":\"scatterpolargl\",\"marker\":{\"colorbar\":{\"outlinewidth\":0,\"ticks\":\"\"}}}],\"bar\":[{\"error_x\":{\"color\":\"#2a3f5f\"},\"error_y\":{\"color\":\"#2a3f5f\"},\"marker\":{\"line\":{\"color\":\"#E5ECF6\",\"width\":0.5},\"pattern\":{\"fillmode\":\"overlay\",\"size\":10,\"solidity\":0.2}},\"type\":\"bar\"}],\"scattergeo\":[{\"type\":\"scattergeo\",\"marker\":{\"colorbar\":{\"outlinewidth\":0,\"ticks\":\"\"}}}],\"scatterpolar\":[{\"type\":\"scatterpolar\",\"marker\":{\"colorbar\":{\"outlinewidth\":0,\"ticks\":\"\"}}}],\"histogram\":[{\"marker\":{\"pattern\":{\"fillmode\":\"overlay\",\"size\":10,\"solidity\":0.2}},\"type\":\"histogram\"}],\"scattergl\":[{\"type\":\"scattergl\",\"marker\":{\"colorbar\":{\"outlinewidth\":0,\"ticks\":\"\"}}}],\"scatter3d\":[{\"type\":\"scatter3d\",\"line\":{\"colorbar\":{\"outlinewidth\":0,\"ticks\":\"\"}},\"marker\":{\"colorbar\":{\"outlinewidth\":0,\"ticks\":\"\"}}}],\"scattermapbox\":[{\"type\":\"scattermapbox\",\"marker\":{\"colorbar\":{\"outlinewidth\":0,\"ticks\":\"\"}}}],\"scatterternary\":[{\"type\":\"scatterternary\",\"marker\":{\"colorbar\":{\"outlinewidth\":0,\"ticks\":\"\"}}}],\"scattercarpet\":[{\"type\":\"scattercarpet\",\"marker\":{\"colorbar\":{\"outlinewidth\":0,\"ticks\":\"\"}}}],\"carpet\":[{\"aaxis\":{\"endlinecolor\":\"#2a3f5f\",\"gridcolor\":\"white\",\"linecolor\":\"white\",\"minorgridcolor\":\"white\",\"startlinecolor\":\"#2a3f5f\"},\"baxis\":{\"endlinecolor\":\"#2a3f5f\",\"gridcolor\":\"white\",\"linecolor\":\"white\",\"minorgridcolor\":\"white\",\"startlinecolor\":\"#2a3f5f\"},\"type\":\"carpet\"}],\"table\":[{\"cells\":{\"fill\":{\"color\":\"#EBF0F8\"},\"line\":{\"color\":\"white\"}},\"header\":{\"fill\":{\"color\":\"#C8D4E3\"},\"line\":{\"color\":\"white\"}},\"type\":\"table\"}],\"barpolar\":[{\"marker\":{\"line\":{\"color\":\"#E5ECF6\",\"width\":0.5},\"pattern\":{\"fillmode\":\"overlay\",\"size\":10,\"solidity\":0.2}},\"type\":\"barpolar\"}],\"pie\":[{\"automargin\":true,\"type\":\"pie\"}]},\"layout\":{\"autotypenumbers\":\"strict\",\"colorway\":[\"#636efa\",\"#EF553B\",\"#00cc96\",\"#ab63fa\",\"#FFA15A\",\"#19d3f3\",\"#FF6692\",\"#B6E880\",\"#FF97FF\",\"#FECB52\"],\"font\":{\"color\":\"#2a3f5f\"},\"hovermode\":\"closest\",\"hoverlabel\":{\"align\":\"left\"},\"paper_bgcolor\":\"white\",\"plot_bgcolor\":\"#E5ECF6\",\"polar\":{\"bgcolor\":\"#E5ECF6\",\"angularaxis\":{\"gridcolor\":\"white\",\"linecolor\":\"white\",\"ticks\":\"\"},\"radialaxis\":{\"gridcolor\":\"white\",\"linecolor\":\"white\",\"ticks\":\"\"}},\"ternary\":{\"bgcolor\":\"#E5ECF6\",\"aaxis\":{\"gridcolor\":\"white\",\"linecolor\":\"white\",\"ticks\":\"\"},\"baxis\":{\"gridcolor\":\"white\",\"linecolor\":\"white\",\"ticks\":\"\"},\"caxis\":{\"gridcolor\":\"white\",\"linecolor\":\"white\",\"ticks\":\"\"}},\"coloraxis\":{\"colorbar\":{\"outlinewidth\":0,\"ticks\":\"\"}},\"colorscale\":{\"sequential\":[[0.0,\"#0d0887\"],[0.1111111111111111,\"#46039f\"],[0.2222222222222222,\"#7201a8\"],[0.3333333333333333,\"#9c179e\"],[0.4444444444444444,\"#bd3786\"],[0.5555555555555556,\"#d8576b\"],[0.6666666666666666,\"#ed7953\"],[0.7777777777777778,\"#fb9f3a\"],[0.8888888888888888,\"#fdca26\"],[1.0,\"#f0f921\"]],\"sequentialminus\":[[0.0,\"#0d0887\"],[0.1111111111111111,\"#46039f\"],[0.2222222222222222,\"#7201a8\"],[0.3333333333333333,\"#9c179e\"],[0.4444444444444444,\"#bd3786\"],[0.5555555555555556,\"#d8576b\"],[0.6666666666666666,\"#ed7953\"],[0.7777777777777778,\"#fb9f3a\"],[0.8888888888888888,\"#fdca26\"],[1.0,\"#f0f921\"]],\"diverging\":[[0,\"#8e0152\"],[0.1,\"#c51b7d\"],[0.2,\"#de77ae\"],[0.3,\"#f1b6da\"],[0.4,\"#fde0ef\"],[0.5,\"#f7f7f7\"],[0.6,\"#e6f5d0\"],[0.7,\"#b8e186\"],[0.8,\"#7fbc41\"],[0.9,\"#4d9221\"],[1,\"#276419\"]]},\"xaxis\":{\"gridcolor\":\"white\",\"linecolor\":\"white\",\"ticks\":\"\",\"title\":{\"standoff\":15},\"zerolinecolor\":\"white\",\"automargin\":true,\"zerolinewidth\":2},\"yaxis\":{\"gridcolor\":\"white\",\"linecolor\":\"white\",\"ticks\":\"\",\"title\":{\"standoff\":15},\"zerolinecolor\":\"white\",\"automargin\":true,\"zerolinewidth\":2},\"scene\":{\"xaxis\":{\"backgroundcolor\":\"#E5ECF6\",\"gridcolor\":\"white\",\"linecolor\":\"white\",\"showbackground\":true,\"ticks\":\"\",\"zerolinecolor\":\"white\",\"gridwidth\":2},\"yaxis\":{\"backgroundcolor\":\"#E5ECF6\",\"gridcolor\":\"white\",\"linecolor\":\"white\",\"showbackground\":true,\"ticks\":\"\",\"zerolinecolor\":\"white\",\"gridwidth\":2},\"zaxis\":{\"backgroundcolor\":\"#E5ECF6\",\"gridcolor\":\"white\",\"linecolor\":\"white\",\"showbackground\":true,\"ticks\":\"\",\"zerolinecolor\":\"white\",\"gridwidth\":2}},\"shapedefaults\":{\"line\":{\"color\":\"#2a3f5f\"}},\"annotationdefaults\":{\"arrowcolor\":\"#2a3f5f\",\"arrowhead\":0,\"arrowwidth\":1},\"geo\":{\"bgcolor\":\"white\",\"landcolor\":\"#E5ECF6\",\"subunitcolor\":\"white\",\"showland\":true,\"showlakes\":true,\"lakecolor\":\"white\"},\"title\":{\"x\":0.05},\"mapbox\":{\"style\":\"light\"}}},\"xaxis\":{\"anchor\":\"y\",\"domain\":[0.0,1.0],\"scaleanchor\":\"y\",\"constrain\":\"domain\"},\"yaxis\":{\"anchor\":\"x\",\"domain\":[0.0,1.0],\"autorange\":\"reversed\",\"constrain\":\"domain\"},\"coloraxis\":{\"colorscale\":[[0.0,\"#0d0887\"],[0.1111111111111111,\"#46039f\"],[0.2222222222222222,\"#7201a8\"],[0.3333333333333333,\"#9c179e\"],[0.4444444444444444,\"#bd3786\"],[0.5555555555555556,\"#d8576b\"],[0.6666666666666666,\"#ed7953\"],[0.7777777777777778,\"#fb9f3a\"],[0.8888888888888888,\"#fdca26\"],[1.0,\"#f0f921\"]],\"cmin\":2,\"cmax\":3},\"margin\":{\"t\":60}},                        {\"responsive\": true}                    ).then(function(){\n",
       "                            \n",
       "var gd = document.getElementById('34ade883-6d3c-4b8a-8170-f5587e401edb');\n",
       "var x = new MutationObserver(function (mutations, observer) {{\n",
       "        var display = window.getComputedStyle(gd).display;\n",
       "        if (!display || display === 'none') {{\n",
       "            console.log([gd, 'removed!']);\n",
       "            Plotly.purge(gd);\n",
       "            observer.disconnect();\n",
       "        }}\n",
       "}});\n",
       "\n",
       "// Listen for the removal of the full notebook cells\n",
       "var notebookContainer = gd.closest('#notebook-container');\n",
       "if (notebookContainer) {{\n",
       "    x.observe(notebookContainer, {childList: true});\n",
       "}}\n",
       "\n",
       "// Listen for the clearing of the current output cell\n",
       "var outputEl = gd.closest('.output');\n",
       "if (outputEl) {{\n",
       "    x.observe(outputEl, {childList: true});\n",
       "}}\n",
       "\n",
       "                        })                };                });            </script>        </div>"
      ]
     },
     "metadata": {},
     "output_type": "display_data"
    }
   ],
   "execution_count": 302
  },
  {
   "metadata": {
    "ExecuteTime": {
     "end_time": "2024-08-19T07:24:13.358745Z",
     "start_time": "2024-08-19T07:24:13.357460Z"
    }
   },
   "cell_type": "code",
   "source": "",
   "id": "cafec2d2110f5840",
   "outputs": [],
   "execution_count": 302
  }
 ],
 "metadata": {
  "kernelspec": {
   "display_name": "Python 3",
   "language": "python",
   "name": "python3"
  },
  "language_info": {
   "codemirror_mode": {
    "name": "ipython",
    "version": 2
   },
   "file_extension": ".py",
   "mimetype": "text/x-python",
   "name": "python",
   "nbconvert_exporter": "python",
   "pygments_lexer": "ipython2",
   "version": "2.7.6"
  }
 },
 "nbformat": 4,
 "nbformat_minor": 5
}
