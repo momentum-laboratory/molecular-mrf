{
 "cells": [
  {
   "cell_type": "code",
   "execution_count": 1,
   "metadata": {},
   "outputs": [],
   "source": [
    "!pip3 install torch torchvision --index-url https://download.pytorch.org/whl/cu118\n",
    "!pip install opencv-python"
   ]
  },
  {
   "cell_type": "code",
   "execution_count": 2,
   "metadata": {},
   "outputs": [],
   "source": [
    "import torch\n",
    "import torch.nn as nn\n",
    "from torch.autograd import Variable\n",
    "from torch.utils.data import Dataset, DataLoader\n",
    "\n",
    "import scipy.io as sio\n",
    "\n",
    "import matplotlib.pyplot as plt\n",
    "import matplotlib.colors as mcolors\n",
    "from matplotlib.backends.backend_pdf import PdfPages\n",
    "\n",
    "import numpy as np\n",
    "import time\n",
    "import tqdm\n",
    "\n",
    "import os\n",
    "import sys\n",
    "# Add the parent directory to sys.path to find the utils package\n",
    "module_path = os.path.abspath(os.path.join('..')) \n",
    "if module_path not in sys.path:\n",
    "    sys.path.append(module_path)\n",
    "\n",
    "from utils.normalization import normalize_range, un_normalize_range\n",
    "from utils.colormaps import b_viridis, b_winter\n",
    "\n",
    "from dataset import DatasetMRF\n",
    "from model import Network\n",
    "\n",
    "import numpy as np\n",
    "import pypulseq\n",
    "import scipy.io as sio\n",
    "\n",
    "from cest_mrf.write_scenario import write_yaml_dict\n",
    "from cest_mrf.dictionary.generation import generate_mrf_cest_dictionary\n",
    "from cest_mrf.metrics.dot_product import  dot_prod_matching\n",
    "\n",
    "from configs import ConfigPreclinical\n",
    "import random\n",
    "\n",
    "def set_seed(seed: int = 42) -> None:\n",
    "    np.random.seed(seed)\n",
    "    random.seed(seed)\n",
    "    torch.manual_seed(seed)\n",
    "    torch.cuda.manual_seed(seed)\n",
    "    # When running on the CuDNN backend, two further options must be set\n",
    "    torch.backends.cudnn.deterministic = True\n",
    "    torch.backends.cudnn.benchmark = False\n",
    "    # Set a fixed value for the hash seed\n",
    "    os.environ[\"PYTHONHASHSEED\"] = str(seed)\n",
    "    print(f\"Random seed set as {seed}\")\n",
    "\n",
    "set_seed(2024)"
   ]
  },
  {
   "cell_type": "markdown",
   "metadata": {},
   "source": [
    "# Specify data and output folder"
   ]
  },
  {
   "cell_type": "code",
   "execution_count": 3,
   "metadata": {},
   "outputs": [],
   "source": [
    "data_f = 'data'\n",
    "output_f = 'results'"
   ]
  },
  {
   "cell_type": "code",
   "execution_count": 4,
   "metadata": {},
   "outputs": [
    {
     "name": "stdout",
     "output_type": "stream",
     "text": [
      "GPU found and will be used\n"
     ]
    }
   ],
   "source": [
    "# Use GPU if available (otherwise use CPU)\n",
    "if torch.cuda.is_available():\n",
    "    device = 'cuda'\n",
    "    print(\"GPU found and will be used\")\n",
    "else:\n",
    "    device = 'cpu'\n",
    "    print(\"GPU was not found. Using CPU\")"
   ]
  },
  {
   "cell_type": "markdown",
   "metadata": {},
   "source": [
    "# Generate training dictionary"
   ]
  },
  {
   "cell_type": "code",
   "execution_count": 27,
   "metadata": {},
   "outputs": [
    {
     "name": "stdout",
     "output_type": "stream",
     "text": [
      "No MT pools found in param files! specify with \"mt_pool\"\n",
      "Found 665873 different parameter combinations.\n",
      "==========================================\n",
      "===== EXTERNAL SEQUENCE #    0 ===========\n",
      "==========================================\n",
      "==========================================\n",
      "===== EXTERNAL SEQUENCE #    0 ===========\n",
      "==========================================\n",
      "==========================================\n",
      "===== EXTERNAL SEQUENCE #    0 ===========\n",
      "==========================================\n",
      "==========================================\n",
      "===== EXTERNAL SEQUENCE #    0 ===========\n",
      "==========================================\n",
      "==========================================\n",
      "===== EXTERNAL SEQUENCE #    0 ===========\n",
      "==========================================\n",
      "==========================================\n",
      "===== EXTERNAL SEQUENCE #    0 ===========\n",
      "==========================================\n",
      "==========================================\n",
      "===== EXTERNAL SEQUENCE #    0 ===========\n",
      "==========================================\n",
      "==========================================\n",
      "===== EXTERNAL SEQUENCE #    0 ===========\n",
      "==========================================\n",
      "==========================================\n",
      "===== EXTERNAL SEQUENCE #    0 ===========\n",
      "==========================================\n",
      "==========================================\n",
      "===== EXTERNAL SEQUENCE #    0 ===========\n",
      "==========================================\n",
      "==========================================\n",
      "===== EXTERNAL SEQUENCE #    0 ===========\n",
      "==========================================\n",
      "==========================================\n",
      "===== EXTERNAL SEQUENCE #    0 ===========\n",
      "==========================================\n",
      "==========================================\n",
      "===== EXTERNAL SEQUENCE #    0 ===========\n",
      "==========================================\n",
      "==========================================\n",
      "===== EXTERNAL SEQUENCE #    0 ===========\n",
      "==========================================\n",
      "==========================================\n",
      "===== EXTERNAL SEQUENCE #    0 ===========\n",
      "==========================================\n",
      "==========================================\n",
      "===== EXTERNAL SEQUENCE #    0 ===========\n",
      "==========================================\n",
      "==========================================\n",
      "===== EXTERNAL SEQUENCE #    0 ===========\n",
      "==========================================\n",
      "==========================================\n",
      "===== EXTERNAL SEQUENCE #    0 ===========\n",
      "==========================================\n"
     ]
    },
    {
     "ename": "KeyboardInterrupt",
     "evalue": "",
     "output_type": "error",
     "traceback": [
      "\u001b[0;31m---------------------------------------------------------------------------\u001b[0m",
      "\u001b[0;31mKeyboardInterrupt\u001b[0m                         Traceback (most recent call last)",
      "Cell \u001b[0;32mIn[27], line 12\u001b[0m\n\u001b[1;32m      9\u001b[0m write_yaml_dict(cfg, yaml_fn)\n\u001b[1;32m     11\u001b[0m start \u001b[38;5;241m=\u001b[39m time\u001b[38;5;241m.\u001b[39mperf_counter()\n\u001b[0;32m---> 12\u001b[0m dictionary \u001b[38;5;241m=\u001b[39m \u001b[43mgenerate_mrf_cest_dictionary\u001b[49m\u001b[43m(\u001b[49m\u001b[43mseq_fn\u001b[49m\u001b[38;5;241;43m=\u001b[39;49m\u001b[43mseq_fn\u001b[49m\u001b[43m,\u001b[49m\u001b[43m \u001b[49m\u001b[43mparam_fn\u001b[49m\u001b[38;5;241;43m=\u001b[39;49m\u001b[43myaml_fn\u001b[49m\u001b[43m,\u001b[49m\u001b[43m \u001b[49m\u001b[43mdict_fn\u001b[49m\u001b[38;5;241;43m=\u001b[39;49m\u001b[43mdict_fn\u001b[49m\u001b[43m,\u001b[49m\u001b[43m \u001b[49m\u001b[43mnum_workers\u001b[49m\u001b[38;5;241;43m=\u001b[39;49m\u001b[43mcfg\u001b[49m\u001b[43m[\u001b[49m\u001b[38;5;124;43m'\u001b[39;49m\u001b[38;5;124;43mnum_workers\u001b[39;49m\u001b[38;5;124;43m'\u001b[39;49m\u001b[43m]\u001b[49m\u001b[43m,\u001b[49m\n\u001b[1;32m     13\u001b[0m \u001b[43m                                \u001b[49m\u001b[43maxes\u001b[49m\u001b[38;5;241;43m=\u001b[39;49m\u001b[38;5;124;43m'\u001b[39;49m\u001b[38;5;124;43mxy\u001b[39;49m\u001b[38;5;124;43m'\u001b[39;49m\u001b[43m)\u001b[49m  \u001b[38;5;66;03m# axes can also be 'z' if no readout is simulated\u001b[39;00m\n\u001b[1;32m     14\u001b[0m end \u001b[38;5;241m=\u001b[39m time\u001b[38;5;241m.\u001b[39mperf_counter()\n\u001b[1;32m     15\u001b[0m s \u001b[38;5;241m=\u001b[39m (end \u001b[38;5;241m-\u001b[39m start)\n",
      "File \u001b[0;32m~/code/cest/nature_protocols/open-py-cest-mrf/cest_mrf/dictionary/generation.py:118\u001b[0m, in \u001b[0;36mgenerate_mrf_cest_dictionary\u001b[0;34m(seq_fn, param_fn, dict_fn, num_workers, shuffle, axes, equals)\u001b[0m\n\u001b[1;32m    115\u001b[0m \u001b[38;5;28;01mwith\u001b[39;00m concurrent\u001b[38;5;241m.\u001b[39mfutures\u001b[38;5;241m.\u001b[39mProcessPoolExecutor(max_workers\u001b[38;5;241m=\u001b[39mnum_workers) \u001b[38;5;28;01mas\u001b[39;00m executor:\n\u001b[1;32m    116\u001b[0m     future_to_simulate \u001b[38;5;241m=\u001b[39m \\\n\u001b[1;32m    117\u001b[0m         {executor\u001b[38;5;241m.\u001b[39msubmit(simulate_mrf, deepcopy(dicts[i]), deepcopy(options), seq_file\u001b[38;5;241m=\u001b[39mseq_fn, id_num \u001b[38;5;241m=\u001b[39m i, axes\u001b[38;5;241m=\u001b[39maxes): i \u001b[38;5;28;01mfor\u001b[39;00m i \u001b[38;5;129;01min\u001b[39;00m \u001b[38;5;28mrange\u001b[39m(num_workers)}\n\u001b[0;32m--> 118\u001b[0m     \u001b[38;5;28;01mfor\u001b[39;00m future \u001b[38;5;129;01min\u001b[39;00m concurrent\u001b[38;5;241m.\u001b[39mfutures\u001b[38;5;241m.\u001b[39mas_completed(future_to_simulate):\n\u001b[1;32m    119\u001b[0m         \u001b[38;5;28;01mtry\u001b[39;00m:\n\u001b[1;32m    120\u001b[0m             sim_params, signal, id_num \u001b[38;5;241m=\u001b[39m future\u001b[38;5;241m.\u001b[39mresult()\n",
      "File \u001b[0;32m~/miniconda3/envs/nat_p/lib/python3.9/concurrent/futures/_base.py:245\u001b[0m, in \u001b[0;36mas_completed\u001b[0;34m(fs, timeout)\u001b[0m\n\u001b[1;32m    240\u001b[0m     \u001b[38;5;28;01mif\u001b[39;00m wait_timeout \u001b[38;5;241m<\u001b[39m \u001b[38;5;241m0\u001b[39m:\n\u001b[1;32m    241\u001b[0m         \u001b[38;5;28;01mraise\u001b[39;00m \u001b[38;5;167;01mTimeoutError\u001b[39;00m(\n\u001b[1;32m    242\u001b[0m                 \u001b[38;5;124m'\u001b[39m\u001b[38;5;132;01m%d\u001b[39;00m\u001b[38;5;124m (of \u001b[39m\u001b[38;5;132;01m%d\u001b[39;00m\u001b[38;5;124m) futures unfinished\u001b[39m\u001b[38;5;124m'\u001b[39m \u001b[38;5;241m%\u001b[39m (\n\u001b[1;32m    243\u001b[0m                 \u001b[38;5;28mlen\u001b[39m(pending), total_futures))\n\u001b[0;32m--> 245\u001b[0m \u001b[43mwaiter\u001b[49m\u001b[38;5;241;43m.\u001b[39;49m\u001b[43mevent\u001b[49m\u001b[38;5;241;43m.\u001b[39;49m\u001b[43mwait\u001b[49m\u001b[43m(\u001b[49m\u001b[43mwait_timeout\u001b[49m\u001b[43m)\u001b[49m\n\u001b[1;32m    247\u001b[0m \u001b[38;5;28;01mwith\u001b[39;00m waiter\u001b[38;5;241m.\u001b[39mlock:\n\u001b[1;32m    248\u001b[0m     finished \u001b[38;5;241m=\u001b[39m waiter\u001b[38;5;241m.\u001b[39mfinished_futures\n",
      "File \u001b[0;32m~/miniconda3/envs/nat_p/lib/python3.9/threading.py:581\u001b[0m, in \u001b[0;36mEvent.wait\u001b[0;34m(self, timeout)\u001b[0m\n\u001b[1;32m    579\u001b[0m signaled \u001b[38;5;241m=\u001b[39m \u001b[38;5;28mself\u001b[39m\u001b[38;5;241m.\u001b[39m_flag\n\u001b[1;32m    580\u001b[0m \u001b[38;5;28;01mif\u001b[39;00m \u001b[38;5;129;01mnot\u001b[39;00m signaled:\n\u001b[0;32m--> 581\u001b[0m     signaled \u001b[38;5;241m=\u001b[39m \u001b[38;5;28;43mself\u001b[39;49m\u001b[38;5;241;43m.\u001b[39;49m\u001b[43m_cond\u001b[49m\u001b[38;5;241;43m.\u001b[39;49m\u001b[43mwait\u001b[49m\u001b[43m(\u001b[49m\u001b[43mtimeout\u001b[49m\u001b[43m)\u001b[49m\n\u001b[1;32m    582\u001b[0m \u001b[38;5;28;01mreturn\u001b[39;00m signaled\n",
      "File \u001b[0;32m~/miniconda3/envs/nat_p/lib/python3.9/threading.py:312\u001b[0m, in \u001b[0;36mCondition.wait\u001b[0;34m(self, timeout)\u001b[0m\n\u001b[1;32m    310\u001b[0m \u001b[38;5;28;01mtry\u001b[39;00m:    \u001b[38;5;66;03m# restore state no matter what (e.g., KeyboardInterrupt)\u001b[39;00m\n\u001b[1;32m    311\u001b[0m     \u001b[38;5;28;01mif\u001b[39;00m timeout \u001b[38;5;129;01mis\u001b[39;00m \u001b[38;5;28;01mNone\u001b[39;00m:\n\u001b[0;32m--> 312\u001b[0m         \u001b[43mwaiter\u001b[49m\u001b[38;5;241;43m.\u001b[39;49m\u001b[43macquire\u001b[49m\u001b[43m(\u001b[49m\u001b[43m)\u001b[49m\n\u001b[1;32m    313\u001b[0m         gotit \u001b[38;5;241m=\u001b[39m \u001b[38;5;28;01mTrue\u001b[39;00m\n\u001b[1;32m    314\u001b[0m     \u001b[38;5;28;01melse\u001b[39;00m:\n",
      "\u001b[0;31mKeyboardInterrupt\u001b[0m: "
     ]
    }
   ],
   "source": [
    "cfg = ConfigPreclinical().get_config()\n",
    "\n",
    "# Define output filenames\n",
    "yaml_fn = cfg['yaml_fn']\n",
    "seq_fn = cfg['seq_fn'] # we using the same sequence from the dot-product example, so it just provided here, you can refer to the dot-product example for more details\n",
    "dict_fn = cfg['dict_fn']\n",
    "\n",
    "# Write the .yaml according to the config.py file (inside cest_mrf folder)\n",
    "write_yaml_dict(cfg, yaml_fn)\n",
    "\n",
    "start = time.perf_counter()\n",
    "dictionary = generate_mrf_cest_dictionary(seq_fn=seq_fn, param_fn=yaml_fn, dict_fn=dict_fn, num_workers=cfg['num_workers'],\n",
    "                                axes='xy')  # axes can also be 'z' if no readout is simulated\n",
    "end = time.perf_counter()\n",
    "s = (end - start)\n",
    "print(f\"Dictionary simulation and preparation took {s:.03f} s.\")\n"
   ]
  },
  {
   "cell_type": "markdown",
   "metadata": {},
   "source": [
    "# Set training hyperparameters"
   ]
  },
  {
   "cell_type": "code",
   "execution_count": 6,
   "metadata": {},
   "outputs": [],
   "source": [
    "# Schedule iteration (signal dimension)\n",
    "# number of raw images in the CEST-MRF acquisition schedule\n",
    "sig_n = 30\n",
    "\n",
    "# Training properties\n",
    "learning_rate = 0.0003\n",
    "batch_size = 512\n",
    "num_epochs = 100\n",
    "noise_std = 0.002  # noise level for training\n",
    "\n",
    "patience = 10  # number of epochs to wait before early stopping\n",
    "min_delta = 0.01  # minimum absolute change in loss to be considered as an improvement"
   ]
  },
  {
   "cell_type": "markdown",
   "metadata": {},
   "source": [
    "# Define a network and a dataloader"
   ]
  },
  {
   "cell_type": "code",
   "execution_count": 7,
   "metadata": {},
   "outputs": [
    {
     "name": "stdout",
     "output_type": "stream",
     "text": [
      "There are 665873 entries in the dictionary\n"
     ]
    }
   ],
   "source": [
    "# load the data and define range for normalization\n",
    "temp_data = sio.loadmat('dict.mat')\n",
    "min_fs = np.min(temp_data['fs_0'])\n",
    "min_ksw = np.min(temp_data['ksw_0'].transpose().astype(np.float))\n",
    "max_fs = np.max(temp_data['fs_0'])\n",
    "max_ksw = np.max(temp_data['ksw_0'].transpose().astype(np.float))\n",
    "\n",
    "min_param_tensor = torch.tensor(np.hstack((min_fs, min_ksw)), requires_grad=False)\n",
    "max_param_tensor = torch.tensor(np.hstack((max_fs, max_ksw)), requires_grad=False)\n",
    "del temp_data, min_fs, min_ksw, max_fs, max_ksw\n",
    "\n",
    "# Initializing the reconstruction network\n",
    "reco_net = Network(sig_n).to(device)\n",
    "\n",
    "optimizer = torch.optim.Adam(reco_net.parameters(), lr=learning_rate)\n",
    "\n",
    "training_data = sio.loadmat('dict.mat')\n",
    "dataset = DatasetMRF(training_data)\n",
    "\n",
    "train_loader = DataLoader(dataset=dataset,\n",
    "                          batch_size=batch_size,\n",
    "                          shuffle=True,\n",
    "                          num_workers=8)\n",
    "\n"
   ]
  },
  {
   "cell_type": "markdown",
   "metadata": {},
   "source": [
    "# The network training"
   ]
  },
  {
   "cell_type": "code",
   "execution_count": 8,
   "metadata": {},
   "outputs": [
    {
     "name": "stderr",
     "output_type": "stream",
     "text": [
      "Epoch: 58/100, Loss = 0.0024275246162545924:  58%|█████▊    | 58/100 [02:15<01:34,  2.25s/it]"
     ]
    },
    {
     "name": "stdout",
     "output_type": "stream",
     "text": [
      "Early stopping!\n",
      "Training took 135.37 seconds\n"
     ]
    }
   ],
   "source": [
    "# Storing current time\n",
    "t0 = time.time()\n",
    "\n",
    "loss_per_epoch = []\n",
    "patience_counter = 0\n",
    "min_loss = 100\n",
    "\n",
    "#   Training loop   #\n",
    "# ################# #\n",
    "pbar = tqdm.tqdm(total=num_epochs)\n",
    "for epoch in range(num_epochs):\n",
    "    # Cumulative loss\n",
    "    cum_loss = 0\n",
    "\n",
    "    for counter, dict_params in enumerate(train_loader, 0):\n",
    "        cur_fs, cur_ksw, cur_norm_sig = dict_params\n",
    "\n",
    "        target = torch.stack((cur_fs, cur_ksw), dim=1)\n",
    "\n",
    "        target = normalize_range(original_array=target, original_min=min_param_tensor,\n",
    "                                    original_max=max_param_tensor, new_min=-1, new_max=1).to(device).float()\n",
    "\n",
    "        # Adding noise to the input signals (trajectories)\n",
    "        noised_sig = cur_norm_sig + torch.randn(cur_norm_sig.size()) * noise_std\n",
    "        noised_sig = noised_sig.to(device).float()\n",
    "\n",
    "        prediction = reco_net(noised_sig)\n",
    "        \n",
    "        # Batch loss (MSE)\n",
    "        loss = torch.mean((prediction - target) ** 2)\n",
    "\n",
    "        # Backward step\n",
    "        optimizer.zero_grad()\n",
    "        loss.backward()\n",
    "\n",
    "        optimizer.step()\n",
    "\n",
    "        cum_loss += loss.item()\n",
    "\n",
    "    # Average loss for this epoch\n",
    "    loss_per_epoch.append(cum_loss / (counter + 1))\n",
    "\n",
    "    pbar.set_description(f'Epoch: {epoch+1}/{num_epochs}, Loss = {loss_per_epoch[-1]}')\n",
    "    pbar.update(1)\n",
    "    if (min_loss - loss_per_epoch[-1])/min_loss > min_delta:    \n",
    "        min_loss = loss_per_epoch[-1]\n",
    "        patience_counter = 0\n",
    "    else:\n",
    "        patience_counter += 1\n",
    "    \n",
    "    if patience_counter > patience:\n",
    "        print('Early stopping!')\n",
    "        break\n",
    "\n",
    "\n",
    "print(f\"Training took {time.time() - t0:.2f} seconds\")\n",
    "\n",
    "torch.save({\n",
    "    'model_state_dict': reco_net.state_dict(),\n",
    "    'optimizer_state_dict': optimizer.state_dict(),  #\n",
    "    'loss_per_epoch': loss_per_epoch,\n",
    "}, 'checkpoint.pt')\n"
   ]
  },
  {
   "cell_type": "markdown",
   "metadata": {},
   "source": [
    "# Load the checkpoint"
   ]
  },
  {
   "cell_type": "code",
   "execution_count": 9,
   "metadata": {},
   "outputs": [
    {
     "data": {
      "text/plain": [
       "<All keys matched successfully>"
      ]
     },
     "execution_count": 9,
     "metadata": {},
     "output_type": "execute_result"
    }
   ],
   "source": [
    "# You can skip training and load the pre-trained model for inference\n",
    "loaded_checkpoint = torch.load('checkpoint.pt')\n",
    "reco_net = Network(sig_n).to(device)\n",
    "reco_net.load_state_dict(loaded_checkpoint['model_state_dict'])\n"
   ]
  },
  {
   "cell_type": "markdown",
   "metadata": {},
   "source": [
    "# Load the scanned data"
   ]
  },
  {
   "cell_type": "code",
   "execution_count": 10,
   "metadata": {},
   "outputs": [
    {
     "name": "stdout",
     "output_type": "stream",
     "text": [
      "Prediction took 0.00050 seconds\n"
     ]
    }
   ],
   "source": [
    "# Loading the acquired data\n",
    "acquired_data = sio.loadmat(os.path.join(data_f, 'acquired_data.mat'))['acquired_data'].astype(np.float)\n",
    "_, c_acq_data, w_acq_data = np.shape(acquired_data)\n",
    "\n",
    "# Reshaping the acquired data to the shape expected by the NN (e.g. 30 x ... )\n",
    "acquired_data = np.reshape(acquired_data, (sig_n, c_acq_data * w_acq_data), order='F')\n",
    "acquired_data = acquired_data / np.sqrt(np.sum(acquired_data ** 2, axis=0))\n",
    "\n",
    "# Transposing for compatibility with the NN - now each row is a trajectory\n",
    "acquired_data = acquired_data.T\n",
    "\n",
    "acquired_data = torch.from_numpy(acquired_data).to(device).float()\n",
    "acquired_data.requires_grad = False\n",
    "\n",
    "# Switching to evaluation mode\n",
    "reco_net.eval()\n",
    "\n",
    "t0 = time.time()\n",
    "prediction = reco_net(acquired_data)\n",
    "print(f\"Prediction took {time.time() - t0:.5f} seconds\")\n",
    "\n",
    "prediction = un_normalize_range(prediction, original_min=min_param_tensor.to(device),\n",
    "                                 original_max=max_param_tensor.to(device), new_min=-1, new_max=1)\n",
    "\n"
   ]
  },
  {
   "cell_type": "code",
   "execution_count": 11,
   "metadata": {},
   "outputs": [],
   "source": [
    "# load mask from created using dot-product values\n",
    "mask = np.load(f'{os.path.dirname(os.getcwd())}/dot_prod_example/mask.npy')"
   ]
  },
  {
   "cell_type": "markdown",
   "metadata": {},
   "source": [
    "# Print results"
   ]
  },
  {
   "cell_type": "code",
   "execution_count": 23,
   "metadata": {},
   "outputs": [
    {
     "data": {
      "image/png": "[encoded data removed]",
      "text/plain": [
       "<Figure size 1000x500 with 4 Axes>"
      ]
     },
     "metadata": {},
     "output_type": "display_data"
    }
   ],
   "source": [
    "os.makedirs(output_f, exist_ok=True)\n",
    "\n",
    "# Reshaping back to the image dimension\n",
    "quant_map_fs = prediction.cpu().detach().numpy()[:, 0]\n",
    "quant_map_fs = quant_map_fs.T\n",
    "quant_map_fs = np.reshape(quant_map_fs, (c_acq_data, w_acq_data), order='F')\n",
    "\n",
    "quant_map_ksw = prediction.cpu().detach().numpy()[:, 1]\n",
    "quant_map_ksw = quant_map_ksw.T\n",
    "quant_map_ksw = np.reshape(quant_map_ksw, (c_acq_data, w_acq_data), order='F')\n",
    "\n",
    "quant_maps = {'fs': quant_map_fs, 'ksw': quant_map_ksw}\n",
    "\n",
    "# Saving output maps\n",
    "out_fn = 'nn_reco_maps_preclinical.mat'\n",
    "out_fn = os.path.join(output_f, out_fn)\n",
    "sio.savemat(out_fn, quant_maps)\n",
    "\n",
    "# >>> Displaying output maps\n",
    "pdf_fn = 'deep_reco_preclinical.pdf'\n",
    "pdf_fn = os.path.join(output_f, pdf_fn)\n",
    "pdf_handle = PdfPages(pdf_fn)\n",
    "\n",
    "plt.figure(figsize=(10,5))\n",
    "plt.subplot(121)\n",
    "plt.imshow(quant_map_fs * 110e3 / 3 * mask, cmap=b_viridis, clim=(0, 120))\n",
    "plt.title('[L-arg] (mM)', fontsize=20)\n",
    "cb = plt.colorbar(ticks=np.arange(0.0, 120+20, 20), orientation='vertical', fraction=0.046, pad=0.04)\n",
    "cb.ax.tick_params(labelsize=20)\n",
    "plt.axis(\"off\")\n",
    "\n",
    "plt.subplot(122)\n",
    "plt.imshow(quant_map_ksw * mask, cmap='magma', clim=(0, 500))\n",
    "cb = plt.colorbar(ticks=np.arange(0.0, 500+100, 100), orientation='vertical', fraction=0.046, pad=0.04)\n",
    "cb.ax.tick_params(labelsize=20)\n",
    "plt.axis(\"off\")\n",
    "plt.title('k$_{sw}$ (Hz)', fontsize=20)\n",
    "\n",
    "plt.tight_layout()\n",
    "# plt.show() # for screen display\n",
    "pdf_handle.savefig() # storing to pdf instead of display on screen\n",
    "\n",
    "pdf_handle.close()\n"
   ]
  }
 ],
 "metadata": {
  "kernelspec": {
   "display_name": "nat_p",
   "language": "python",
   "name": "python3"
  },
  "language_info": {
   "codemirror_mode": {
    "name": "ipython",
    "version": 3
   },
   "file_extension": ".py",
   "mimetype": "text/x-python",
   "name": "python",
   "nbconvert_exporter": "python",
   "pygments_lexer": "ipython3",
   "version": "3.9.18"
  }
 },
 "nbformat": 4,
 "nbformat_minor": 2
}
