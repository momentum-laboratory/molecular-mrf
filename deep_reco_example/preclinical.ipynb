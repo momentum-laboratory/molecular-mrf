{
 "cells": [
  {
   "cell_type": "code",
   "execution_count": 2,
   "metadata": {},
   "outputs": [
    {
     "name": "stdout",
     "output_type": "stream",
     "text": [
      "Looking in indexes: https://download.pytorch.org/whl/cu118\n",
      "Requirement already satisfied: torch in /home/hash/miniconda3/envs/nat_clean/lib/python3.9/site-packages (2.2.1+cu118)\n",
      "Requirement already satisfied: torchvision in /home/hash/miniconda3/envs/nat_clean/lib/python3.9/site-packages (0.17.1+cu118)\n",
      "Requirement already satisfied: filelock in /home/hash/miniconda3/envs/nat_clean/lib/python3.9/site-packages (from torch) (3.9.0)\n",
      "Requirement already satisfied: typing-extensions>=4.8.0 in /home/hash/miniconda3/envs/nat_clean/lib/python3.9/site-packages (from torch) (4.10.0)\n",
      "Requirement already satisfied: sympy in /home/hash/miniconda3/envs/nat_clean/lib/python3.9/site-packages (from torch) (1.12)\n",
      "Requirement already satisfied: networkx in /home/hash/miniconda3/envs/nat_clean/lib/python3.9/site-packages (from torch) (3.2.1)\n",
      "Requirement already satisfied: jinja2 in /home/hash/miniconda3/envs/nat_clean/lib/python3.9/site-packages (from torch) (3.1.2)\n",
      "Requirement already satisfied: fsspec in /home/hash/miniconda3/envs/nat_clean/lib/python3.9/site-packages (from torch) (2023.4.0)\n",
      "Requirement already satisfied: nvidia-cuda-nvrtc-cu11==11.8.89 in /home/hash/miniconda3/envs/nat_clean/lib/python3.9/site-packages (from torch) (11.8.89)\n",
      "Requirement already satisfied: nvidia-cuda-runtime-cu11==11.8.89 in /home/hash/miniconda3/envs/nat_clean/lib/python3.9/site-packages (from torch) (11.8.89)\n",
      "Requirement already satisfied: nvidia-cuda-cupti-cu11==11.8.87 in /home/hash/miniconda3/envs/nat_clean/lib/python3.9/site-packages (from torch) (11.8.87)\n",
      "Requirement already satisfied: nvidia-cudnn-cu11==8.7.0.84 in /home/hash/miniconda3/envs/nat_clean/lib/python3.9/site-packages (from torch) (8.7.0.84)\n",
      "Requirement already satisfied: nvidia-cublas-cu11==11.11.3.6 in /home/hash/miniconda3/envs/nat_clean/lib/python3.9/site-packages (from torch) (11.11.3.6)\n",
      "Requirement already satisfied: nvidia-cufft-cu11==10.9.0.58 in /home/hash/miniconda3/envs/nat_clean/lib/python3.9/site-packages (from torch) (10.9.0.58)\n",
      "Requirement already satisfied: nvidia-curand-cu11==10.3.0.86 in /home/hash/miniconda3/envs/nat_clean/lib/python3.9/site-packages (from torch) (10.3.0.86)\n",
      "Requirement already satisfied: nvidia-cusolver-cu11==11.4.1.48 in /home/hash/miniconda3/envs/nat_clean/lib/python3.9/site-packages (from torch) (11.4.1.48)\n",
      "Requirement already satisfied: nvidia-cusparse-cu11==11.7.5.86 in /home/hash/miniconda3/envs/nat_clean/lib/python3.9/site-packages (from torch) (11.7.5.86)\n",
      "Requirement already satisfied: nvidia-nccl-cu11==2.19.3 in /home/hash/miniconda3/envs/nat_clean/lib/python3.9/site-packages (from torch) (2.19.3)\n",
      "Requirement already satisfied: nvidia-nvtx-cu11==11.8.86 in /home/hash/miniconda3/envs/nat_clean/lib/python3.9/site-packages (from torch) (11.8.86)\n",
      "Requirement already satisfied: triton==2.2.0 in /home/hash/miniconda3/envs/nat_clean/lib/python3.9/site-packages (from torch) (2.2.0)\n",
      "Requirement already satisfied: numpy in /home/hash/miniconda3/envs/nat_clean/lib/python3.9/site-packages (from torchvision) (1.19.5)\n",
      "Requirement already satisfied: pillow!=8.3.*,>=5.3.0 in /home/hash/miniconda3/envs/nat_clean/lib/python3.9/site-packages (from torchvision) (10.2.0)\n",
      "Requirement already satisfied: MarkupSafe>=2.0 in /home/hash/miniconda3/envs/nat_clean/lib/python3.9/site-packages (from jinja2->torch) (2.1.3)\n",
      "Requirement already satisfied: mpmath>=0.19 in /home/hash/miniconda3/envs/nat_clean/lib/python3.9/site-packages (from sympy->torch) (1.3.0)\n",
      "Requirement already satisfied: opencv-python in /home/hash/miniconda3/envs/nat_clean/lib/python3.9/site-packages (4.9.0.80)\n",
      "Requirement already satisfied: numpy>=1.17.0 in /home/hash/miniconda3/envs/nat_clean/lib/python3.9/site-packages (from opencv-python) (1.19.5)\n"
     ]
    }
   ],
   "source": [
    "!pip3 install torch torchvision --index-url https://download.pytorch.org/whl/cu118\n",
    "!pip install opencv-python"
   ]
  },
  {
   "cell_type": "code",
   "execution_count": 3,
   "metadata": {},
   "outputs": [
    {
     "name": "stdout",
     "output_type": "stream",
     "text": [
      "Random seed set as 2024\n"
     ]
    }
   ],
   "source": [
    "import torch\n",
    "import torch.nn as nn\n",
    "from torch.autograd import Variable\n",
    "from torch.utils.data import Dataset, DataLoader\n",
    "\n",
    "import scipy.io as sio\n",
    "\n",
    "import matplotlib.pyplot as plt\n",
    "import matplotlib.colors as mcolors\n",
    "from matplotlib.backends.backend_pdf import PdfPages\n",
    "\n",
    "import numpy as np\n",
    "import time\n",
    "import tqdm\n",
    "\n",
    "import os\n",
    "import sys\n",
    "\n",
    "# Add the parent directory to sys.path to find the utils package\n",
    "module_path = os.path.abspath(os.path.join('..')) \n",
    "if module_path not in sys.path:\n",
    "    sys.path.append(module_path)\n",
    "\n",
    "from utils.normalization import normalize_range, un_normalize_range\n",
    "from utils.colormaps import b_viridis, b_winter\n",
    "from utils.seed import set_seed\n",
    "\n",
    "from dataset import DatasetMRF\n",
    "from model import Network\n",
    "\n",
    "import numpy as np\n",
    "import pypulseq\n",
    "import scipy.io as sio\n",
    "\n",
    "from cest_mrf.write_scenario import write_yaml_dict\n",
    "from cest_mrf.dictionary.generation import generate_mrf_cest_dictionary\n",
    "from cest_mrf.metrics.dot_product import  dot_prod_matching\n",
    "\n",
    "from configs import ConfigPreclinical\n",
    "import random\n",
    "\n",
    "set_seed(2024)"
   ]
  },
  {
   "cell_type": "markdown",
   "metadata": {},
   "source": [
    "# Specify data and output folder"
   ]
  },
  {
   "cell_type": "code",
   "execution_count": 4,
   "metadata": {},
   "outputs": [],
   "source": [
    "data_f = 'data'\n",
    "output_f = 'results'"
   ]
  },
  {
   "cell_type": "code",
   "execution_count": 5,
   "metadata": {},
   "outputs": [
    {
     "name": "stdout",
     "output_type": "stream",
     "text": [
      "GPU found and will be used\n"
     ]
    }
   ],
   "source": [
    "# Use GPU if available (otherwise use CPU)\n",
    "if torch.cuda.is_available():\n",
    "    device = 'cuda'\n",
    "    print(\"GPU found and will be used\")\n",
    "else:\n",
    "    device = 'cpu'\n",
    "    print(\"GPU was not found. Using CPU\")"
   ]
  },
  {
   "cell_type": "markdown",
   "metadata": {},
   "source": [
    "# Generate training dictionary"
   ]
  },
  {
   "cell_type": "code",
   "execution_count": 6,
   "metadata": {},
   "outputs": [
    {
     "name": "stdout",
     "output_type": "stream",
     "text": [
      "No MT pools found in param files! specify with \"mt_pool\"\n",
      "Found 665873 different parameter combinations.\n",
      "==========================================\n",
      "===== EXTERNAL SEQUENCE #    0 ===========\n",
      "==========================================\n",
      "==========================================\n",
      "===== EXTERNAL SEQUENCE #    0 ===========\n",
      "==========================================\n",
      "==========================================\n",
      "===== EXTERNAL SEQUENCE #    0 ===========\n",
      "==========================================\n",
      "==========================================\n",
      "===== EXTERNAL SEQUENCE #    0 ===========\n",
      "==========================================\n",
      "==========================================\n",
      "===== EXTERNAL SEQUENCE #    0 ===========\n",
      "==========================================\n",
      "==========================================\n",
      "===== EXTERNAL SEQUENCE #    0 ===========\n",
      "==========================================\n",
      "==========================================\n",
      "===== EXTERNAL SEQUENCE #    0 ===========\n",
      "==========================================\n",
      "==========================================\n",
      "===== EXTERNAL SEQUENCE #    0 ===========\n",
      "==========================================\n",
      "==========================================\n",
      "===== EXTERNAL SEQUENCE #    0 ===========\n",
      "==========================================\n",
      "==========================================\n",
      "===== EXTERNAL SEQUENCE #    0 ===========\n",
      "==========================================\n",
      "==========================================\n",
      "===== EXTERNAL SEQUENCE #    0 ===========\n",
      "==========================================\n",
      "==========================================\n",
      "===== EXTERNAL SEQUENCE #    0 ===========\n",
      "==========================================\n",
      "==========================================\n",
      "===== EXTERNAL SEQUENCE #    0 ===========\n",
      "==========================================\n",
      "==========================================\n",
      "===== EXTERNAL SEQUENCE #    0 ===========\n",
      "==========================================\n",
      "==========================================\n",
      "===== EXTERNAL SEQUENCE #    0 ===========\n",
      "==========================================\n",
      "==========================================\n",
      "===== EXTERNAL SEQUENCE #    0 ===========\n",
      "==========================================\n",
      "==========================================\n",
      "===== EXTERNAL SEQUENCE #    0 ===========\n",
      "==========================================\n",
      "==========================================\n",
      "===== EXTERNAL SEQUENCE #    0 ===========\n",
      "==========================================\n",
      "Future 1 is finished\n",
      "Future 11 is finished\n",
      "Future 16 is finished\n",
      "Future 13 is finished\n",
      "Future 6 is finished\n",
      "Future 14 is finished\n",
      "Future 4 is finished\n",
      "Future 2 is finished\n",
      "Future 0 is finished\n",
      "Future 5 is finished\n",
      "Future 3 is finished\n",
      "Future 17 is finished\n",
      "Future 7 is finished\n",
      "Future 10 is finished\n",
      "Future 8 is finished\n",
      "Future 9 is finished\n",
      "Future 12 is finished\n",
      "Future 15 is finished\n",
      "Dictionary simulation took 10.866 s.\n"
     ]
    }
   ],
   "source": [
    "cfg = ConfigPreclinical().get_config()\n",
    "\n",
    "# Define output filenames\n",
    "yaml_fn = cfg['yaml_fn']\n",
    "seq_fn = cfg['seq_fn'] # we using the same sequence from the dot-product example, so it just provided here, you can refer to the dot-product example for more details\n",
    "dict_fn = cfg['dict_fn']\n",
    "\n",
    "# Write the .yaml according to the config.py file (inside cest_mrf folder)\n",
    "write_yaml_dict(cfg, yaml_fn)\n",
    "\n",
    "dictionary = generate_mrf_cest_dictionary(seq_fn=seq_fn, param_fn=yaml_fn, dict_fn=dict_fn, num_workers=cfg['num_workers'],\n",
    "                                axes='xy')  # axes can also be 'z' if no readout is simulated"
   ]
  },
  {
   "cell_type": "markdown",
   "metadata": {},
   "source": [
    "# Set training hyperparameters"
   ]
  },
  {
   "cell_type": "code",
   "execution_count": 7,
   "metadata": {},
   "outputs": [],
   "source": [
    "# Schedule iteration (signal dimension)\n",
    "# number of raw images in the CEST-MRF acquisition schedule\n",
    "sig_n = 30\n",
    "\n",
    "# Training properties\n",
    "learning_rate = 0.0003\n",
    "batch_size = 512\n",
    "num_epochs = 100\n",
    "noise_std = 0.002  # noise level for training\n",
    "\n",
    "patience = 10  # number of epochs to wait before early stopping\n",
    "min_delta = 0.01  # minimum absolute change in loss to be considered as an improvement"
   ]
  },
  {
   "cell_type": "markdown",
   "metadata": {},
   "source": [
    "# Define a network and a dataloader"
   ]
  },
  {
   "cell_type": "code",
   "execution_count": 8,
   "metadata": {},
   "outputs": [
    {
     "name": "stdout",
     "output_type": "stream",
     "text": [
      "There are 665873 entries in the dictionary\n"
     ]
    }
   ],
   "source": [
    "# load the data and define range for normalization\n",
    "temp_data = sio.loadmat('dict.mat')\n",
    "min_fs = np.min(temp_data['fs_0'])\n",
    "min_ksw = np.min(temp_data['ksw_0'].transpose().astype(np.float))\n",
    "max_fs = np.max(temp_data['fs_0'])\n",
    "max_ksw = np.max(temp_data['ksw_0'].transpose().astype(np.float))\n",
    "\n",
    "min_param_tensor = torch.tensor(np.hstack((min_fs, min_ksw)), requires_grad=False)\n",
    "max_param_tensor = torch.tensor(np.hstack((max_fs, max_ksw)), requires_grad=False)\n",
    "del temp_data, min_fs, min_ksw, max_fs, max_ksw\n",
    "\n",
    "# Initializing the reconstruction network\n",
    "reco_net = Network(sig_n).to(device)\n",
    "\n",
    "optimizer = torch.optim.Adam(reco_net.parameters(), lr=learning_rate)\n",
    "\n",
    "training_data = sio.loadmat('dict.mat')\n",
    "dataset = DatasetMRF(training_data)\n",
    "\n",
    "train_loader = DataLoader(dataset=dataset,\n",
    "                          batch_size=batch_size,\n",
    "                          shuffle=True,\n",
    "                          num_workers=8)\n",
    "\n"
   ]
  },
  {
   "cell_type": "markdown",
   "metadata": {},
   "source": [
    "# The network training"
   ]
  },
  {
   "cell_type": "code",
   "execution_count": 9,
   "metadata": {},
   "outputs": [
    {
     "name": "stderr",
     "output_type": "stream",
     "text": [
      "Epoch: 69/100, Loss = 0.0024440166406937626:  69%|██████▉   | 69/100 [02:46<01:19,  2.56s/it]"
     ]
    },
    {
     "name": "stdout",
     "output_type": "stream",
     "text": [
      "Early stopping!\n",
      "Training took 166.75 seconds\n"
     ]
    }
   ],
   "source": [
    "# Storing current time\n",
    "t0 = time.time()\n",
    "\n",
    "loss_per_epoch = []\n",
    "patience_counter = 0\n",
    "min_loss = 100\n",
    "\n",
    "#   Training loop   #\n",
    "pbar = tqdm.tqdm(total=num_epochs)\n",
    "for epoch in range(num_epochs):\n",
    "    # Cumulative loss\n",
    "    cum_loss = 0\n",
    "\n",
    "    for counter, dict_params in enumerate(train_loader, 0):\n",
    "        cur_fs, cur_ksw, cur_norm_sig = dict_params\n",
    "\n",
    "        target = torch.stack((cur_fs, cur_ksw), dim=1)\n",
    "\n",
    "        target = normalize_range(original_array=target, original_min=min_param_tensor,\n",
    "                                    original_max=max_param_tensor, new_min=-1, new_max=1).to(device).float()\n",
    "\n",
    "        # Adding noise to the input signals (trajectories)\n",
    "        noised_sig = cur_norm_sig + torch.randn(cur_norm_sig.size()) * noise_std\n",
    "        noised_sig = noised_sig.to(device).float()\n",
    "\n",
    "        prediction = reco_net(noised_sig)\n",
    "        \n",
    "        # Batch loss (MSE)\n",
    "        loss = torch.mean((prediction - target) ** 2)\n",
    "\n",
    "        # Backward step\n",
    "        optimizer.zero_grad()\n",
    "        loss.backward()\n",
    "\n",
    "        optimizer.step()\n",
    "\n",
    "        cum_loss += loss.item()\n",
    "\n",
    "    # Average loss for this epoch\n",
    "    loss_per_epoch.append(cum_loss / (counter + 1))\n",
    "\n",
    "    pbar.set_description(f'Epoch: {epoch+1}/{num_epochs}, Loss = {loss_per_epoch[-1]}')\n",
    "    pbar.update(1)\n",
    "    if (min_loss - loss_per_epoch[-1])/min_loss > min_delta:    \n",
    "        min_loss = loss_per_epoch[-1]\n",
    "        patience_counter = 0\n",
    "    else:\n",
    "        patience_counter += 1\n",
    "    \n",
    "    if patience_counter > patience:\n",
    "        print('Early stopping!')\n",
    "        break\n",
    "\n",
    "pbar.close()\n",
    "print(f\"Training took {time.time() - t0:.2f} seconds\")\n",
    "\n",
    "torch.save({\n",
    "    'model_state_dict': reco_net.state_dict(),\n",
    "    'optimizer_state_dict': optimizer.state_dict(),  #\n",
    "    'loss_per_epoch': loss_per_epoch,\n",
    "}, 'checkpoint.pt')\n"
   ]
  },
  {
   "cell_type": "markdown",
   "metadata": {},
   "source": [
    "# Load the checkpoint"
   ]
  },
  {
   "cell_type": "code",
   "execution_count": 10,
   "metadata": {},
   "outputs": [
    {
     "data": {
      "text/plain": [
       "<All keys matched successfully>"
      ]
     },
     "execution_count": 10,
     "metadata": {},
     "output_type": "execute_result"
    }
   ],
   "source": [
    "# You can skip training and load the pre-trained model for inference\n",
    "loaded_checkpoint = torch.load('checkpoint.pt')\n",
    "reco_net = Network(sig_n).to(device)\n",
    "reco_net.load_state_dict(loaded_checkpoint['model_state_dict'])\n"
   ]
  },
  {
   "cell_type": "markdown",
   "metadata": {},
   "source": [
    "# Load the scanned data"
   ]
  },
  {
   "cell_type": "code",
   "execution_count": 11,
   "metadata": {},
   "outputs": [
    {
     "name": "stdout",
     "output_type": "stream",
     "text": [
      "Prediction took 0.00047 seconds\n"
     ]
    }
   ],
   "source": [
    "# Loading the acquired data\n",
    "acquired_data = sio.loadmat(os.path.join(data_f, 'acquired_data.mat'))['acquired_data'].astype(np.float)\n",
    "_, c_acq_data, w_acq_data = np.shape(acquired_data)\n",
    "\n",
    "# Reshaping the acquired data to the shape expected by the NN (e.g. 30 x ... )\n",
    "acquired_data = np.reshape(acquired_data, (sig_n, c_acq_data * w_acq_data), order='F')\n",
    "acquired_data = acquired_data / np.sqrt(np.sum(acquired_data ** 2, axis=0))\n",
    "\n",
    "# Transposing for compatibility with the NN - now each row is a trajectory\n",
    "acquired_data = acquired_data.T\n",
    "\n",
    "acquired_data = torch.from_numpy(acquired_data).to(device).float()\n",
    "acquired_data.requires_grad = False\n",
    "\n",
    "# Switching to evaluation mode\n",
    "reco_net.eval()\n",
    "\n",
    "t0 = time.time()\n",
    "prediction = reco_net(acquired_data)\n",
    "print(f\"Prediction took {time.time() - t0:.5f} seconds\")\n",
    "\n",
    "prediction = un_normalize_range(prediction, original_min=min_param_tensor.to(device),\n",
    "                                 original_max=max_param_tensor.to(device), new_min=-1, new_max=1)\n",
    "\n"
   ]
  },
  {
   "cell_type": "code",
   "execution_count": 12,
   "metadata": {},
   "outputs": [],
   "source": [
    "# load mask from created using dot-product values\n",
    "mask = np.load(f'{os.path.dirname(os.getcwd())}/dot_prod_example/mask.npy')"
   ]
  },
  {
   "cell_type": "markdown",
   "metadata": {},
   "source": [
    "# Print results"
   ]
  },
  {
   "cell_type": "code",
   "execution_count": 13,
   "metadata": {},
   "outputs": [
    {
     "data": {
      "image/png": "[encoded data removed]",
      "text/plain": [
       "<Figure size 1000x500 with 4 Axes>"
      ]
     },
     "metadata": {},
     "output_type": "display_data"
    }
   ],
   "source": [
    "os.makedirs(output_f, exist_ok=True)\n",
    "\n",
    "# Reshaping back to the image dimension\n",
    "quant_map_fs = prediction.cpu().detach().numpy()[:, 0]\n",
    "quant_map_fs = quant_map_fs.T\n",
    "quant_map_fs = np.reshape(quant_map_fs, (c_acq_data, w_acq_data), order='F')\n",
    "\n",
    "quant_map_ksw = prediction.cpu().detach().numpy()[:, 1]\n",
    "quant_map_ksw = quant_map_ksw.T\n",
    "quant_map_ksw = np.reshape(quant_map_ksw, (c_acq_data, w_acq_data), order='F')\n",
    "\n",
    "quant_maps = {'fs': quant_map_fs, 'ksw': quant_map_ksw}\n",
    "\n",
    "# Saving output maps\n",
    "out_fn = 'nn_reco_maps_preclinical.mat'\n",
    "out_fn = os.path.join(output_f, out_fn)\n",
    "sio.savemat(out_fn, quant_maps)\n",
    "\n",
    "# Displaying output maps\n",
    "fig_fn = 'deep_reco_preclinical.eps'\n",
    "fig_fn= os.path.join(output_f, fig_fn)\n",
    "\n",
    "plt.figure(figsize=(10,5))\n",
    "plt.subplot(121)\n",
    "plt.imshow(quant_map_fs * 110e3 / 3 * mask, cmap=b_viridis, clim=(0, 120))\n",
    "plt.title('[L-arg] (mM)', fontsize=20)\n",
    "cb = plt.colorbar(ticks=np.arange(0.0, 120+20, 20), orientation='vertical', fraction=0.046, pad=0.04)\n",
    "cb.ax.tick_params(labelsize=20)\n",
    "plt.axis(\"off\")\n",
    "\n",
    "plt.subplot(122)\n",
    "plt.imshow(quant_map_ksw * mask, cmap='magma', clim=(0, 500))\n",
    "cb = plt.colorbar(ticks=np.arange(0.0, 500+100, 100), orientation='vertical', fraction=0.046, pad=0.04)\n",
    "cb.ax.tick_params(labelsize=20)\n",
    "plt.axis(\"off\")\n",
    "plt.title('k$_{sw}$ (s$^{-1}$)', fontsize=20)\n",
    "\n",
    "plt.tight_layout()\n",
    "plt.savefig(fig_fn, format='eps')\n"
   ]
  }
 ],
 "metadata": {
  "kernelspec": {
   "display_name": "Python 3 (ipykernel)",
   "language": "python",
   "name": "python3"
  },
  "language_info": {
   "codemirror_mode": {
    "name": "ipython",
    "version": 3
   },
   "file_extension": ".py",
   "mimetype": "text/x-python",
   "name": "python",
   "nbconvert_exporter": "python",
   "pygments_lexer": "ipython3",
   "version": "3.9.18"
  }
 },
 "nbformat": 4,
 "nbformat_minor": 4
}
