{
 "cells": [
  {
   "cell_type": "code",
   "execution_count": 1,
   "metadata": {},
   "outputs": [],
   "source": [
    "import os\n",
    "import time\n",
    "import numpy as np\n",
    "import pypulseq\n",
    "import scipy.io as sio\n",
    "from numpy import linalg as la\n",
    "\n",
    "import matplotlib.pyplot as plt\n",
    "import matplotlib.colors as mcolors\n",
    "from matplotlib.backends.backend_pdf import PdfPages\n",
    "\n",
    "from cest_mrf.write_scenario import write_yaml_dict\n",
    "from cest_mrf.dictionary.generation import generate_mrf_cest_dictionary\n",
    "from cest_mrf.metrics.dot_product import  dot_prod_matching\n",
    "\n",
    "import os\n",
    "import sys\n",
    "\n",
    "# Add the parent directory to sys.path to find the utils package\n",
    "module_path = os.path.abspath(os.path.join('..')) \n",
    "if module_path not in sys.path:\n",
    "    sys.path.append(module_path)\n",
    "\n",
    "from utils.colormaps import b_viridis, b_winter  \n",
    "\n",
    "from configs import ConfigClinical\n",
    "from sequences import write_sequence_clinical\n",
    "\n",
    "import pypulseq as pp"
   ]
  },
  {
   "cell_type": "markdown",
   "metadata": {},
   "source": [
    "# Specify data folder and output folder"
   ]
  },
  {
   "cell_type": "code",
   "execution_count": 2,
   "metadata": {},
   "outputs": [],
   "source": [
    "data_f = 'data'\n",
    "output_f = 'results'"
   ]
  },
  {
   "cell_type": "markdown",
   "metadata": {},
   "source": [
    "# Write .yaml file and .seq file"
   ]
  },
  {
   "cell_type": "code",
   "execution_count": 3,
   "metadata": {},
   "outputs": [
    {
     "data": {
      "text/plain": [
       "<pypulseq.Sequence.sequence.Sequence at 0x743b9f6fdfd0>"
      ]
     },
     "execution_count": 3,
     "metadata": {},
     "output_type": "execute_result"
    }
   ],
   "source": [
    "# cfg = ConfigParams()\n",
    "cfg = ConfigClinical().get_config()\n",
    "\n",
    "# Write the .yaml according to the config.py file (inside cest_mrf folder)\n",
    "write_yaml_dict(cfg, cfg['yaml_fn'])\n",
    "\n",
    "b1 = [2, 2, 1.7, 1.5, 1.2, 1.2, 3, 0.5, 3, 1, 2.2, 3.2, 1.5, 0.7, 1.5, 2.2, 2.5, 1.2, 3, 0.2, 1.5, 2.5, 0.7, 4,\n",
    "        3.2, 3.5, 1.5, 2.7, 0.7, 0.5]\n",
    "\n",
    "# Write the seq file for a 2d experiment\n",
    "# for more info about the seq file, check out the pulseq-cest repository (https://pulseq-cest.github.io/)\n",
    "seq_defs = {}\n",
    "seq_defs[\"n_pulses\"] = 13  # number of pulses\n",
    "seq_defs[\"num_meas\"] = len(b1)  # number of repetition\n",
    "seq_defs[\"tp\"] = 100e-3  # pulse duration [s]\n",
    "seq_defs[\"td\"] = 100e-3  # interpulse delay [s]\n",
    "seq_defs[\"offsets_ppm\"] = np.ones(seq_defs[\"num_meas\"]) * 3.0\n",
    "\n",
    "TR = np.ones(seq_defs[\"num_meas\"]) * 3.5\n",
    "Tsat = np.ones(seq_defs[\"num_meas\"]) * 2.5\n",
    "\n",
    "seq_defs[\"dcsat\"] = (seq_defs[\"tp\"]) / (seq_defs[\"tp\"] + seq_defs[\"td\"])  # duty cycle\n",
    "seq_defs[\"tsat\"] = Tsat  # saturation time [s]\n",
    "seq_defs[\"trec\"] = TR - seq_defs[\"tsat\"]  # net recovery time [s]\n",
    "seq_defs[\"spoiling\"] = True\n",
    "\n",
    "seqid = os.path.splitext(cfg['seq_fn'])[1][1:]\n",
    "seq_defs['seq_id_string'] = seqid  # unique seq id\n",
    "\n",
    "# We vary B1 for the dictionary generation\n",
    "seq_defs['b1'] = b1\n",
    "\n",
    "\n",
    "# create scanner limits object\n",
    "lims = pp.Opts(\n",
    "    max_grad=40,\n",
    "    grad_unit=\"mT/m\",\n",
    "    max_slew=130,\n",
    "    slew_unit=\"T/m/s\",\n",
    "    rf_ringdown_time=30e-6,\n",
    "    rf_dead_time=100e-6,\n",
    "    rf_raster_time=1e-6,\n",
    "    gamma=cfg['gamma']/2/np.pi*1e6,\n",
    ")\n",
    "\n",
    "seq_defs[\"gamma_hz\"] = lims.gamma * 1e-6\n",
    "seq_defs[\"freq\"] = cfg['freq']\n",
    "seq_defs['b0'] = seq_defs['freq'] / seq_defs[\"gamma_hz\"]\n",
    "\n",
    "# write the clinical sequence file; flag 'simulation' is used to generate the sequence file including readout\n",
    "write_sequence_clinical(seq_defs, cfg['seq_fn'], lims, type='simulation')\n"
   ]
  },
  {
   "cell_type": "markdown",
   "metadata": {},
   "source": [
    "# Generate the dictionary"
   ]
  },
  {
   "cell_type": "code",
   "execution_count": 4,
   "metadata": {},
   "outputs": [
    {
     "name": "stdout",
     "output_type": "stream",
     "text": [
      "No MT pools found in param files! specify with \"mt_pool\"\n",
      "Found 273790 different parameter combinations.\n",
      "==========================================\n",
      "===== EXTERNAL SEQUENCE #    0 ===========\n",
      "==========================================\n",
      "==========================================\n",
      "===== EXTERNAL SEQUENCE #    0 ===========\n",
      "==========================================\n",
      "==========================================\n",
      "===== EXTERNAL SEQUENCE #    0 ===========\n",
      "==========================================\n",
      "==========================================\n",
      "===== EXTERNAL SEQUENCE #    0 ===========\n",
      "==========================================\n",
      "==========================================\n",
      "===== EXTERNAL SEQUENCE #    0 ===========\n",
      "==========================================\n",
      "==========================================\n",
      "===== EXTERNAL SEQUENCE #    0 ===========\n",
      "==========================================\n",
      "==========================================\n",
      "===== EXTERNAL SEQUENCE #    0 ===========\n",
      "==========================================\n",
      "==========================================\n",
      "===== EXTERNAL SEQUENCE #    0 ===========\n",
      "==========================================\n",
      "==========================================\n",
      "===== EXTERNAL SEQUENCE #    0 ===========\n",
      "==========================================\n",
      "==========================================\n",
      "===== EXTERNAL SEQUENCE #    0 ===========\n",
      "==========================================\n",
      "==========================================\n",
      "===== EXTERNAL SEQUENCE #    0 ===========\n",
      "==========================================\n",
      "==========================================\n",
      "===== EXTERNAL SEQUENCE #    0 ===========\n",
      "==========================================\n",
      "==========================================\n",
      "===== EXTERNAL SEQUENCE #    0 ===========\n",
      "==========================================\n",
      "==========================================\n",
      "===== EXTERNAL SEQUENCE #    0 ===========\n",
      "==========================================\n",
      "==========================================\n",
      "===== EXTERNAL SEQUENCE #    0 ===========\n",
      "==========================================\n",
      "==========================================\n",
      "===== EXTERNAL SEQUENCE #    0 ===========\n",
      "==========================================\n",
      "==========================================\n",
      "===== EXTERNAL SEQUENCE #    0 ===========\n",
      "==========================================\n",
      "==========================================\n",
      "===== EXTERNAL SEQUENCE #    0 ===========\n",
      "==========================================\n",
      "Future 15 is finished\n",
      "Future 1 is finished\n",
      "Future 17 is finished\n",
      "Future 10 is finished\n",
      "Future 6 is finished\n",
      "Future 4 is finished\n",
      "Future 8 is finished\n",
      "Future 13 is finished\n",
      "Future 9 is finished\n",
      "Future 11 is finished\n",
      "Future 5 is finished\n",
      "Future 7 is finished\n",
      "Future 0 is finished\n",
      "Future 12 is finished\n",
      "Future 3 is finished\n",
      "Future 16 is finished\n",
      "Future 2 is finished\n",
      "Future 14 is finished\n",
      "Dictionary simulation took 467.762 s.\n",
      "Dictionary simulation and preparation took 468.123 s.\n"
     ]
    }
   ],
   "source": [
    "start = time.perf_counter()\n",
    "dictionary = generate_mrf_cest_dictionary(seq_fn=cfg['seq_fn'], param_fn=cfg['yaml_fn'], dict_fn= cfg['dict_fn'], num_workers=cfg['num_workers'],\n",
    "                                axes='xy')  # axes can also be 'z' if no readout is simulated\n",
    "end = time.perf_counter()\n",
    "s = (end - start)\n",
    "print(f\"Dictionary simulation and preparation took {s:.03f} s.\")\n"
   ]
  },
  {
   "cell_type": "markdown",
   "metadata": {},
   "source": [
    "# Load scanned data"
   ]
  },
  {
   "cell_type": "code",
   "execution_count": 5,
   "metadata": {},
   "outputs": [
    {
     "name": "stdout",
     "output_type": "stream",
     "text": [
      "Acquired data shape: (30, 88, 88)\n"
     ]
    },
    {
     "data": {
      "image/png": "[encoded data removed]",
      "text/plain": [
       "<Figure size 640x480 with 1 Axes>"
      ]
     },
     "metadata": {},
     "output_type": "display_data"
    }
   ],
   "source": [
    "data_fn = 'dataToMatch_30_126_88_slice75.mat'\n",
    "data_fn = os.path.join(data_f, data_fn)\n",
    "img = sio.loadmat(data_fn)['dataToMatch']\n",
    "img = np.nan_to_num(img)[:,19:-19,:]\n",
    "\n",
    "plt.imshow(img[0,...], cmap='gray')\n",
    "plt.axis(\"off\")\n",
    "print(\"Acquired data shape: \"+ str(img.shape))\n"
   ]
  },
  {
   "cell_type": "code",
   "execution_count": 6,
   "metadata": {},
   "outputs": [
    {
     "name": "stdout",
     "output_type": "stream",
     "text": [
      "After reshaping the acquired data array shape is: (273790, 30)\n"
     ]
    }
   ],
   "source": [
    "dictionary['sig'] = np.array(dictionary['sig'])\n",
    "for key in dictionary.keys():\n",
    "    if key != 'sig':\n",
    "        dictionary[key] = np.expand_dims(np.squeeze(np.array(dictionary[key])), 0)\n",
    "print(\"After reshaping the acquired data array shape is: \" + str(dictionary['sig'].shape))"
   ]
  },
  {
   "cell_type": "markdown",
   "metadata": {},
   "source": [
    "# Dot product matching"
   ]
  },
  {
   "cell_type": "code",
   "execution_count": null,
   "metadata": {},
   "outputs": [],
   "source": [
    "# Run dot product matching\n",
    "start = time.perf_counter()\n",
    "quant_maps = dot_prod_matching(dictionary=dictionary, acquired_data=img, batch_size=img.shape[1]*2)\n",
    "end = time.perf_counter()\n",
    "s = (end - start)\n",
    "print(f\"Dot product matching took {s:.03f} s.\")\n",
    "\n",
    "out_fn = 'quant_maps_3T.mat'\n",
    "out_fn = os.path.join(output_f, out_fn)\n",
    "sio.savemat(out_fn, quant_maps)\n"
   ]
  },
  {
   "cell_type": "code",
   "execution_count": null,
   "metadata": {},
   "outputs": [],
   "source": [
    "# Reloading the data as a demonstration for later usage\n",
    "out_fn = 'quant_maps_3T.mat'\n",
    "out_fn = os.path.join(output_f, out_fn)\n",
    "quant_maps = sio.loadmat(out_fn)"
   ]
  },
  {
   "cell_type": "code",
   "execution_count": null,
   "metadata": {},
   "outputs": [],
   "source": [
    "# mask from dot-prod\n",
    "mask_dp = quant_maps['dp'] > 0.9995\n",
    "np.save('mask_dp.npy', mask_dp)\n",
    "\n",
    "# mask from ksw\n",
    "mask_ksw = quant_maps['ksw'] > 100\n",
    "np.save('mask_ksw_3T.npy', mask_ksw)\n",
    "\n",
    "# mask from fs\n",
    "mask_fs = quant_maps['fs'] * 110e3 / 3 > 10\n",
    "np.save('mask_fs_3T.npy', mask_fs)\n",
    "\n",
    "mask = mask_ksw * mask_dp * mask_fs\n",
    "\n",
    "np.save('mask_3T.npy', mask)"
   ]
  },
  {
   "cell_type": "markdown",
   "metadata": {},
   "source": [
    "# Print results"
   ]
  },
  {
   "cell_type": "code",
   "execution_count": null,
   "metadata": {},
   "outputs": [],
   "source": [
    "pdf_fn = 'dot_product_results_3T.pdf' # quantitative maps output filename\n",
    "pdf_fn = os.path.join(output_f, pdf_fn)\n",
    "\n",
    "os.makedirs(output_f, exist_ok=True)\n",
    "\n",
    "fig, axes = plt.subplots(1, 3, figsize=(30, 25))\n",
    "\n",
    "color_maps = [b_viridis, 'magma', 'magma']\n",
    "data_keys = ['fs', 'ksw', 'dp']\n",
    "titles = ['[L-arg] (mM)', 'k$_{sw}$ (s$^{-1}$)', 'Dot product']\n",
    "clim_list = [(0, 120), (0, 1400), (0.999, 1)]\n",
    "tick_list = [np.arange(0, 140, 20), np.arange(0, 1500, 100), np.arange(0.999, 1.0005, 0.0005)]\n",
    "\n",
    "unified_font_size = 30\n",
    "\n",
    "# Save the plot to a PDF file\n",
    "with PdfPages(pdf_fn) as pdf:\n",
    "    for ax, color_map, key, title, clim, ticks in zip(axes.flat, color_maps, data_keys, titles, clim_list, tick_list):\n",
    "        vals = quant_maps[key]\n",
    "\n",
    "        if key == 'fs':\n",
    "            vals = vals * 110e3/3\n",
    "\n",
    "        plot = ax.imshow(vals * mask, cmap=color_map)\n",
    "        plot.set_clim(*clim)\n",
    "        ax.set_title(title, fontsize=unified_font_size)\n",
    "        cb = plt.colorbar(plot, ax=ax, ticks=ticks, orientation='vertical', fraction=0.046, pad=0.04)\n",
    "        cb.ax.tick_params(labelsize=unified_font_size)\n",
    "        ax.set_axis_off()\n",
    "    \n",
    "    plt.tight_layout()\n",
    "    pdf.savefig(fig)"
   ]
  }
 ],
 "metadata": {
  "kernelspec": {
   "display_name": "Python 3 (ipykernel)",
   "language": "python",
   "name": "python3"
  },
  "language_info": {
   "codemirror_mode": {
    "name": "ipython",
    "version": 3
   },
   "file_extension": ".py",
   "mimetype": "text/x-python",
   "name": "python",
   "nbconvert_exporter": "python",
   "pygments_lexer": "ipython3",
   "version": "3.9.0"
  }
 },
 "nbformat": 4,
 "nbformat_minor": 4
}
