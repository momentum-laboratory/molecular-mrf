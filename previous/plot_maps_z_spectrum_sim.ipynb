{
 "cells": [
  {
   "cell_type": "code",
   "outputs": [],
   "source": [
    "import os\n",
    "import scipy.io as sio\n",
    "import numpy as np\n",
    "import pandas as pd\n",
    "import time\n",
    "import ast\n",
    "\n",
    "from cest_mrf.metrics.dot_product import dot_prod_matching\n",
    "from my_funcs.cest_functions import bruker_dataset_creator\n",
    "from my_funcs.plot_functions import mask_roi_finder\n",
    "from my_funcs.plot_functions import mask_check_plot\n",
    "from my_funcs.plot_functions import compare_txt_method\n",
    "from my_funcs.plot_functions import t1_t2_pixel_reader\n",
    "from my_funcs.plot_functions import real_t1_t2\n",
    "from my_funcs.plot_functions import real_t1_t2_bg\n",
    "from my_funcs.plot_functions import dict_t1_t2\n",
    "from my_funcs.plot_functions import dict_fs_ksw\n",
    "from my_funcs.plot_functions import norm_pixels\n",
    "\n",
    "from my_funcs.cest_functions import bruker_dataset_creator\n",
    "from my_funcs.cest_functions import dicom_data_arranger\n",
    "from my_funcs.cest_functions import z_spec_rearranger\n",
    "from my_funcs.cest_functions import offset_rearranger\n",
    "\n",
    "from my_funcs.b0_mapping_functions import wassr_b0_mapping\n",
    "from my_funcs.b0_mapping_functions import b0_correction\n",
    "from my_funcs.path_functions import make_folder\n"
   ],
   "metadata": {
    "collapsed": false,
    "ExecuteTime": {
     "end_time": "2024-02-26T09:36:35.755069900Z",
     "start_time": "2024-02-26T09:36:35.067850183Z"
    }
   },
   "id": "51f80d20073c3aaf",
   "execution_count": 1
  },
  {
   "cell_type": "markdown",
   "source": [
    "## 1.1. Enter Data: ##"
   ],
   "metadata": {
    "collapsed": false
   },
   "id": "49c1a55b213358f5"
  },
  {
   "cell_type": "code",
   "outputs": [],
   "source": [
    "# # Root stats:\n",
    "# general_fn = os.path.abspath(os.curdir)\n",
    "# # Last year\n",
    "# glu_phantom_fns = [os.path.join(general_fn, 'scans', '23_01_18_glu_phantom_25deg',\n",
    "#                                 '1_glu_phantom_2p5_5_10mM_ph7_25deg')]  # January 23\n",
    "# glu_phantom_fns = [os.path.join(general_fn, 'scans', '23_04_04_glu_phantom_37deg',\n",
    "#                                 '1_glu_phantom_12_16_20mM_ph7_37deg'),\n",
    "#                    os.path.join(general_fn, 'scans', '23_04_04_glu_phantom_37deg',\n",
    "#                                 '2_glu_phantom_6_8_4mM_ph7_37deg')]  # April 23\n",
    "# # My experiments\n",
    "# glu_phantom_fns = [os.path.join(general_fn, 'scans', '23_12_08_glu_phantom_37deg',\n",
    "#                                 '1_glu_phantom_12_16_20mM_ph7_37deg'),\n",
    "#                    os.path.join(general_fn, 'scans', '23_12_08_glu_phantom_37deg',\n",
    "#                                 '2_glu_phantom_12mM_ph6p5_7_7p4_37deg')]  # December 23\n",
    "# glu_phantom_fns = [os.path.join(general_fn, 'scans', '24_01_16_glu_phantom_37deg',\n",
    "#                                 '1_glu_phantom_10_20_30mM_ph7_37deg'),\n",
    "#                    os.path.join(general_fn, 'scans', '24_01_16_glu_phantom_37deg',\n",
    "#                                 '2_glu_phantom_5_10_15mM_ph7_37deg'),\n",
    "#                    os.path.join(general_fn, 'scans', '24_01_16_glu_phantom_37deg',\n",
    "#                                 '3_glu_phantom_20mM_ph6p8_7_7p2_37deg')]  # January 24\n",
    "# glu_phantom_fns = [os.path.join(general_fn, 'scans', '24_02_12_glu_phantom_vardeg',\n",
    "#                                 '1_glu_phantom_20_16_12mM_ph7_dec_33deg'),\n",
    "#                    os.path.join(general_fn, 'scans', '24_02_12_glu_phantom_vardeg',\n",
    "#                                 '2_glu_phantom_20_16_12mM_ph7_dec_37deg'),\n",
    "#                    os.path.join(general_fn, 'scans', '24_02_12_glu_phantom_vardeg',\n",
    "#                                 '3_glu_phantom_20_16_12mM_ph7_dec_40deg'),\n",
    "#                    os.path.join(general_fn, 'scans', '24_02_12_glu_phantom_vardeg',\n",
    "#                                 '4_glu_phantom_20_16_12mM_ph7_feb_33deg'),\n",
    "#                    os.path.join(general_fn, 'scans', '24_02_12_glu_phantom_vardeg',\n",
    "#                                 '5_glu_phantom_20_16_12mM_ph7_feb_37deg')]  # February 24\n"
   ],
   "metadata": {
    "collapsed": false,
    "ExecuteTime": {
     "end_time": "2024-02-26T09:36:35.800502158Z",
     "start_time": "2024-02-26T09:36:35.754823204Z"
    }
   },
   "id": "3cccab77b2e149c1",
   "execution_count": 2
  },
  {
   "cell_type": "code",
   "outputs": [],
   "source": [
    "# Root stats:\n",
    "general_fn = os.path.abspath(os.curdir)\n",
    "# Subject stats:\n",
    "glu_phantom_fns = [os.path.join(general_fn, 'scans', 'data_glutamate_phantoms_jan16_2024',\n",
    "                                '20240116_114710_OrPerlman_phantom_glu_5_10_15mM_pH7_a_1_1')]  # January\n",
    "\n",
    "txt_file_name = 'labarchive_notes.txt'\n",
    "\n",
    "# dict range\n",
    "f_const = 3 / 110000\n",
    "ranges = [\n",
    "    {'fs_0': (0, 30*f_const),\n",
    "    'ksw_0': (3000, 7000),\n",
    "     't1w': (3.5, 4.6),\n",
    "     't2w': (1.45, 1.8)}\n",
    "    ]\n"
   ],
   "metadata": {
    "collapsed": false,
    "ExecuteTime": {
     "end_time": "2024-02-26T09:36:35.801380874Z",
     "start_time": "2024-02-26T09:36:35.798326134Z"
    }
   },
   "id": "e7a5354f0489dabf",
   "execution_count": 3
  },
  {
   "cell_type": "code",
   "outputs": [],
   "source": [
    "conc_ls = [['12 mM', '16 mM', '20 mM'],\n",
    "           ['16 mM', '20 mM', '12 mM'],\n",
    "           ['16 mM', '12 mM', '20 mM'],\n",
    "           ['12 mM', '20 mM', '16 mM'],\n",
    "           ['12 mM', '20 mM', '16 mM'],\n",
    "           ['20 mM', '12 mM', '16 mM']]\n",
    "\n",
    "ph_ls = [['pH 7', 'pH 7', 'pH 7'],\n",
    "         ['pH 7', 'pH 7', 'pH 7'],\n",
    "         ['pH 7', 'pH 7', 'pH 7'],\n",
    "         ['pH 7', 'pH 7', 'pH 7'],\n",
    "         ['pH 7', 'pH 7', 'pH 7'],\n",
    "         ['pH 7', 'pH 7', 'pH 7']]\n",
    "\n",
    "tags = [['c', 'b', 'a'], \n",
    "        ['b', 'a', 'c'],\n",
    "        ['b', 'c', 'a'],\n",
    "        ['c', 'a', 'b'],\n",
    "        ['c', 'a', 'b'],\n",
    "        ['a', 'c', 'b']]\n",
    "\n",
    "tag_x_locs = [[-3,3,-2],\n",
    "              [-2,1,-2],\n",
    "              [7, 0, 15],\n",
    "              [0,-3,0],\n",
    "              [0,-3,0],\n",
    "              [0,-3,0]]\n",
    "\n",
    "tag_y_locs = [[-13,13,14],\n",
    "              [-13,-13,12],\n",
    "              [-13,-13,12],\n",
    "              [-13,12,12],\n",
    "              [-13,12,12],\n",
    "              [-13,13,12]]\n",
    "\n",
    "temperatures = ['33°C', '37°C', '40°C', '33°C', '37°C', '37°C']\n",
    "months = ['dec', 'dec', 'dec', 'feb', 'feb', 'dec_og']\n",
    "\n",
    "# vis_params = {\n",
    "#     'month': 'Dec',\n",
    "#     'temp': '33°C',\n",
    "#     'conc_l': ['12 mM', '16 mM', '20 mM'],\n",
    "#     'ph_ls': ['pH 7', 'pH 7', 'pH 7'],\n",
    "#     'tag_x_locs': [-3,3,-2],\n",
    "#     'tag_y_locs': [-13,13,14]\n",
    "# }\n",
    "    "
   ],
   "metadata": {
    "collapsed": false,
    "ExecuteTime": {
     "end_time": "2024-02-26T09:36:35.842156181Z",
     "start_time": "2024-02-26T09:36:35.798944116Z"
    }
   },
   "id": "e57866492564ad9a",
   "execution_count": 4
  },
  {
   "cell_type": "markdown",
   "source": [
    "# run all dicts #"
   ],
   "metadata": {
    "collapsed": false
   },
   "id": "8355bc34e7cb4cdd"
  },
  {
   "cell_type": "code",
   "outputs": [
    {
     "name": "stdout",
     "output_type": "stream",
     "text": [
      "################################# start of phantom 5 #################################\n"
     ]
    },
    {
     "ename": "IndexError",
     "evalue": "list index out of range",
     "output_type": "error",
     "traceback": [
      "\u001B[0;31m---------------------------------------------------------------------------\u001B[0m",
      "\u001B[0;31mIndexError\u001B[0m                                Traceback (most recent call last)",
      "Cell \u001B[0;32mIn[5], line 7\u001B[0m\n\u001B[1;32m      5\u001B[0m phantom_i \u001B[38;5;241m=\u001B[39m \u001B[38;5;241m4\u001B[39m\n\u001B[1;32m      6\u001B[0m \u001B[38;5;28mprint\u001B[39m(\u001B[38;5;124mf\u001B[39m\u001B[38;5;124m'\u001B[39m\u001B[38;5;124m################################# start of phantom \u001B[39m\u001B[38;5;132;01m{\u001B[39;00mphantom_i\u001B[38;5;241m+\u001B[39m\u001B[38;5;241m1\u001B[39m\u001B[38;5;132;01m}\u001B[39;00m\u001B[38;5;124m #################################\u001B[39m\u001B[38;5;124m'\u001B[39m)\n\u001B[0;32m----> 7\u001B[0m glu_phantom_fn \u001B[38;5;241m=\u001B[39m \u001B[43mglu_phantom_fns\u001B[49m\u001B[43m[\u001B[49m\u001B[43mphantom_i\u001B[49m\u001B[43m]\u001B[49m\n\u001B[1;32m      8\u001B[0m val_range \u001B[38;5;241m=\u001B[39m ranges[phantom_i]\n\u001B[1;32m      9\u001B[0m txt_file_name \u001B[38;5;241m=\u001B[39m \u001B[38;5;124m'\u001B[39m\u001B[38;5;124mlabarchive_notes.txt\u001B[39m\u001B[38;5;124m'\u001B[39m\n",
      "\u001B[0;31mIndexError\u001B[0m: list index out of range"
     ]
    }
   ],
   "source": [
    "fp_prtcl_names = ['107a', '107d']  # to be looped later with all options\n",
    "\n",
    "# for phantom_i in range(len(glu_phantom_fns)):\n",
    "for phantom_i in range(1):\n",
    "    phantom_i = 4\n",
    "    print(f'################################# start of phantom {phantom_i+1} #################################')\n",
    "    glu_phantom_fn = glu_phantom_fns[phantom_i]\n",
    "    val_range = ranges[phantom_i]\n",
    "    txt_file_name = 'labarchive_notes.txt'\n",
    "\n",
    "    for fp_prtcl_name in fp_prtcl_names:\n",
    "        glu_phantom_dicom_fn, glu_phantom_mrf_files_fn, bruker_dataset = bruker_dataset_creator(glu_phantom_fn, txt_file_name, fp_prtcl_name)\n",
    "        glu_acquired_data = dicom_data_arranger(bruker_dataset, glu_phantom_dicom_fn)\n",
    "\n",
    "        # create acquired data folder: root->scans->date->subject->E->mrf_files->acquired_data\n",
    "        acquired_data_fn = os.path.join(glu_phantom_mrf_files_fn, 'acquired_data.mat')\n",
    "        make_folder(glu_phantom_mrf_files_fn)\n",
    "\n",
    "        # # save acquired data to: root->scans->date->subject->E->mrf_files->acquired_data\n",
    "        # sio.savemat(acquired_data_fn, {'acquired_data': glu_acquired_data})\n",
    "        # print(f'Acquired data was saved as {glu_acquired_data.shape} sized array')\n",
    "\n",
    "        start = time.perf_counter()\n",
    "        dict_fn = os.path.join('exp', 'feb', fp_prtcl_name, 'dict.csv')\n",
    "        synt_df = pd.read_csv(dict_fn, header=0)\n",
    "\n",
    "        # filter dict as needed\n",
    "        dict_fn = os.path.join('exp', 'feb', fp_prtcl_name, 'f_dict.csv')\n",
    "        df_masks = [synt_df[column].between(min_val, max_val) for column, (min_val, max_val) in val_range.items()]\n",
    "        filtered_df = synt_df[np.all(df_masks, axis=0)]\n",
    "        filtered_df.to_csv(path_or_buf=dict_fn, index=False)  # To save as CSV without row indices\n",
    "\n",
    "        quant_maps = dot_prod_matching(dict_fn=dict_fn, acquired_data_fn=acquired_data_fn)  # I changed it!!!\n",
    "        end = time.perf_counter()\n",
    "        s = (end - start)\n",
    "        print(f\"Dot product matching took {s:.03f} s.\")\n",
    "\n",
    "        # save acquired data to: root->scans->date->subject->E->mrf_files->quant_maps.mat\n",
    "        quant_maps_fn = os.path.join(glu_phantom_mrf_files_fn, 'quant_maps.mat')\n",
    "        sio.savemat(quant_maps_fn, quant_maps)\n",
    "        print('quant_maps.mat saved')\n",
    "\n",
    "    print(f'################################# end of phantom {phantom_i+1} #################################')\n"
   ],
   "metadata": {
    "collapsed": false,
    "ExecuteTime": {
     "end_time": "2024-02-26T09:36:36.195537122Z",
     "start_time": "2024-02-26T09:36:35.842119356Z"
    }
   },
   "id": "4667011715ab12e7",
   "execution_count": 5
  },
  {
   "cell_type": "markdown",
   "source": [
    "# Choose phantom to visualize #"
   ],
   "metadata": {
    "collapsed": false
   },
   "id": "b90dfceb1764861a"
  },
  {
   "cell_type": "code",
   "outputs": [],
   "source": [
    "phantom_choice = 5  # choose 1-6\n",
    "fp_prtcl_name = '107a'\n",
    "glu_phantom_fn = glu_phantom_fns[phantom_choice-1]\n",
    "txt_file_name = 'labarchive_notes.txt'\n",
    "val_range = ranges[phantom_choice-1]\n",
    "conc_l = conc_ls[phantom_choice-1]\n",
    "ph_l = ph_ls[phantom_choice-1]\n",
    "tag = tags[phantom_choice-1]\n",
    "tag_x_loc = tag_x_locs[phantom_choice-1]\n",
    "tag_y_loc = tag_y_locs[phantom_choice-1]\n",
    "temp = temperatures[phantom_choice-1]\n",
    "month = months[phantom_choice-1]\n"
   ],
   "metadata": {
    "collapsed": false,
    "ExecuteTime": {
     "end_time": "2024-02-26T09:36:36.242488297Z",
     "start_time": "2024-02-26T09:36:36.196927517Z"
    }
   },
   "id": "e89750fc54367506",
   "execution_count": null
  },
  {
   "cell_type": "markdown",
   "source": [
    "## 1.2. Create bruker dataset and masks ##"
   ],
   "metadata": {
    "collapsed": false
   },
   "id": "1a31dc70c5077e35"
  },
  {
   "cell_type": "code",
   "outputs": [],
   "source": [
    "glu_phantom_dicom_fn, glu_phantom_mrf_files_fn, bruker_dataset = bruker_dataset_creator(glu_phantom_fn, txt_file_name, fp_prtcl_name)\n",
    "\n",
    "_, _, bruker_dataset_mask = bruker_dataset_creator(glu_phantom_fn, txt_file_name, '107a')  # always takes mask from 107a\n",
    "vial_rois, full_mask, bg_mask = mask_roi_finder(bruker_dataset_mask)\n",
    "\n",
    "quant_data_fn = os.path.join(glu_phantom_mrf_files_fn, 'quant_maps.mat')\n",
    "quant_maps = sio.loadmat(quant_data_fn)\n",
    "fs_array = quant_maps['fs'] * 110e3 / 3\n",
    "ksw_array = quant_maps['ksw']\n",
    "dp_array = quant_maps['dp']\n",
    "t1w_array = quant_maps['t1w'] * 1000\n",
    "t2w_array = quant_maps['t2w'] * 1000\n"
   ],
   "metadata": {
    "collapsed": false,
    "ExecuteTime": {
     "start_time": "2024-02-26T09:36:36.238305665Z"
    }
   },
   "id": "a94222176bc72d52",
   "execution_count": null
  },
  {
   "cell_type": "markdown",
   "source": [
    "## 2.1. plot 1- mask check ##"
   ],
   "metadata": {
    "collapsed": false
   },
   "id": "20b6813ec3f51b34"
  },
  {
   "cell_type": "code",
   "outputs": [],
   "source": [
    "mask_check_plot(vial_rois, full_mask, bg_mask, conc_l, ph_l)\n"
   ],
   "metadata": {
    "collapsed": false,
    "ExecuteTime": {
     "start_time": "2024-02-26T09:36:36.238792404Z"
    }
   },
   "id": "bf001432cbea9477",
   "execution_count": null
  },
  {
   "cell_type": "markdown",
   "source": [
    "## 2.2. plot 2- parameter check ##"
   ],
   "metadata": {
    "collapsed": false
   },
   "id": "a255d2683658500b"
  },
  {
   "cell_type": "code",
   "outputs": [],
   "source": [
    "prtcl_txt_fn = os.path.join(general_fn, 'protocol_text_files', 'glutamate', f'{fp_prtcl_name}.txt')\n",
    "\n",
    "compare_txt_method(prtcl_txt_fn, bruker_dataset, fp_prtcl_name)\n"
   ],
   "metadata": {
    "collapsed": false,
    "ExecuteTime": {
     "start_time": "2024-02-26T09:36:36.239219078Z"
    }
   },
   "id": "b57d81b5b69040c1",
   "execution_count": null
  },
  {
   "cell_type": "markdown",
   "source": [
    "## 2.3. t1 & t2 check ##"
   ],
   "metadata": {
    "collapsed": false
   },
   "id": "f4024b1a8b8c6a37"
  },
  {
   "cell_type": "code",
   "outputs": [],
   "source": [
    "t1_pixels = t1_t2_pixel_reader(glu_phantom_fn=glu_phantom_fn, txt_file_name=txt_file_name, image_idx=3, t_type='t1')\n",
    "t2_pixels = t1_t2_pixel_reader(glu_phantom_fn=glu_phantom_fn, txt_file_name=txt_file_name, image_idx=3, t_type='t2')\n",
    "\n",
    "real_t1_t2(t1_pixels, t2_pixels, full_mask, vial_rois, tag, tag_x_loc, tag_y_loc, phantom_choice, temp, month, conc_l, ph_l)\n",
    "real_t1_t2_bg(t1_pixels, t2_pixels, bg_mask, phantom_choice, temp, month)\n",
    "dict_t1_t2(t1w_array, t2w_array, full_mask, vial_rois, tag, tag_x_loc, tag_y_loc, fp_prtcl_name, phantom_choice, temp, month, conc_l, ph_l)\n"
   ],
   "metadata": {
    "collapsed": false,
    "ExecuteTime": {
     "start_time": "2024-02-26T09:36:36.239614582Z"
    }
   },
   "id": "663596a52f96eac8",
   "execution_count": null
  },
  {
   "cell_type": "markdown",
   "source": [
    "## 3. fs & ksw maps ##"
   ],
   "metadata": {
    "collapsed": false
   },
   "id": "645a84d834dc5029"
  },
  {
   "cell_type": "code",
   "outputs": [],
   "source": [
    "fs_lim = [f / f_const for f in list(val_range['fs_0'])] \n",
    "kws_lim = list(val_range['ksw_0'])\n",
    "dict_fs_ksw(fs_array, ksw_array, full_mask, vial_rois, tag, tag_x_loc, tag_y_loc, fp_prtcl_name, phantom_choice, temp, month, conc_l, ph_l, [fs_lim, kws_lim])\n"
   ],
   "metadata": {
    "collapsed": false,
    "ExecuteTime": {
     "start_time": "2024-02-26T09:36:36.240032462Z"
    }
   },
   "id": "956a2a33867cc6d",
   "execution_count": null
  },
  {
   "cell_type": "markdown",
   "source": [
    "## 4. Signal close look ##"
   ],
   "metadata": {
    "collapsed": false
   },
   "id": "f8d3971bae9a97a3"
  },
  {
   "cell_type": "code",
   "outputs": [],
   "source": [
    "start = time.perf_counter()\n",
    "dict_fn = os.path.join('exp', 'feb', fp_prtcl_name, 'dict.csv')\n",
    "synt_df = pd.read_csv(dict_fn, header=0)\n",
    "\n",
    "# filter dict as needed\n",
    "dict_fn = os.path.join('exp', 'feb', fp_prtcl_name, 'f_dict.csv')\n",
    "df_masks = [synt_df[column].between(min_val, max_val) for column, (min_val, max_val) in val_range.items()]\n",
    "filtered_df = synt_df[np.all(df_masks, axis=0)]\n",
    "filtered_df.to_csv(path_or_buf=dict_fn, index=False)  # To save as CSV without row indices\n"
   ],
   "metadata": {
    "collapsed": false,
    "ExecuteTime": {
     "start_time": "2024-02-26T09:36:36.240356579Z"
    }
   },
   "id": "4af404c81738b826",
   "execution_count": null
  },
  {
   "cell_type": "code",
   "outputs": [],
   "source": [
    "from plotly.subplots import make_subplots\n",
    "from my_funcs.plot_functions import norm_roi\n",
    "import plotly.graph_objects as go\n",
    "from my_funcs.plot_functions import vial_locator\n",
    "import plotly.io as pio\n",
    "\n",
    "abc_id = [tag.index('a'), tag.index('b'), tag.index('c')]  # [2, 0, 1]\n",
    "abc_int = np.argsort(np.argsort(tag))  # [1, 2, 0]\n",
    "fig = make_subplots(rows=3, cols=1, vertical_spacing=0.07, horizontal_spacing=0.01,\n",
    "                    subplot_titles=[f'(a) {conc_l[abc_id[0]]}, {ph_l[abc_id[0]]}',\n",
    "                                        f'(b) {conc_l[abc_id[1]]}, {ph_l[abc_id[1]]}',\n",
    "                                        f'(c) {conc_l[abc_id[2]]}, {ph_l[abc_id[2]]}'])\n",
    "\n",
    "# Colors for the scatter plots\n",
    "color_1 = '#1f77b4'\n",
    "color_2 = '#ff7f0e'\n",
    "color_3 = '#2ca02c'\n",
    "\n",
    "vial_rois, full_mask, bg_mask = mask_roi_finder(bruker_dataset_mask, 3)\n",
    "roi_masks, vial_loc = vial_locator(full_mask, vial_rois)\n",
    "\n",
    "for roi_i, roi_mask in enumerate(roi_masks):\n",
    "    mean_sigs, std_sigs, _ = norm_roi(roi_mask, quant_data_fn, dict_fn, glu_phantom_mrf_files_fn)  # real, matched, expected\n",
    "    \n",
    "    x_axis = np.arange(0, len(mean_sigs[0]))\n",
    "    # # Add heatmaps for the three arrays\n",
    "    # scatter_real = go.Scatter(x=x_axis, y=mean_sigs[0], mode='lines', name='Real Signal', line=dict(color=color_1),\n",
    "    #                       error_y=dict(type='data', # value of error bar given in data coordinates\n",
    "    #                                    array=std_sigs[0],\n",
    "    #                                     visible=True))\n",
    "    # scatter_match = go.Scatter(x=x_axis, y=mean_sigs[1], mode='lines', name='Matched Signal', line=dict(color=color_2),\n",
    "    #                           error_y=dict(type='data', # value of error bar given in data coordinates\n",
    "    #                                        array=std_sigs[1],\n",
    "    #                                        visible=True))\n",
    "    # Add heatmaps for the three arrays\n",
    "    scatter_real = go.Scatter(x=x_axis, y=mean_sigs[0], mode='lines', name='Real Signal', line=dict(color=color_1))\n",
    "    scatter_match = go.Scatter(x=x_axis, y=mean_sigs[1], mode='lines', name='Matched Signal', line=dict(color=color_2))\n",
    "    \n",
    "    # Add traces to the first subplot\n",
    "    fig.add_trace(scatter_real, row=abc_int[roi_i] + 1, col=1)\n",
    "    fig.add_trace(scatter_match, row=abc_int[roi_i] + 1, col=1)\n",
    "    \n",
    "    fig.update_yaxes(title_text=f'Normalized signal', row=roi_i+1, col=1)\n",
    "\n",
    "# Set layout for better visualization\n",
    "fig.update_layout(\n",
    "    template='plotly_white',  # Set the theme to plotly white\n",
    "    title_text=f'Phantom {month} {temp} - {fp_prtcl_name}, signal close look',\n",
    "    showlegend=True,  # Hide legend\n",
    "    legend=dict(x=0.8, y=1.05),\n",
    "    height=600,\n",
    "    width=500  # Set a width based on your preference\n",
    ")\n",
    "\n",
    "labels_to_show_in_legend = ['Real Signal', 'Matched Signal']\n",
    "\n",
    "# only show 3 first traces in legend!\n",
    "for trace_i, trace in enumerate(fig['data']):\n",
    "    if trace_i > 1:\n",
    "        trace['showlegend'] = False\n",
    "\n",
    "# Adjust margin to reduce whitespace\n",
    "fig.update_layout(margin=dict(l=0, r=5, t=60, b=0))\n",
    "# Set y-axis ticks to values in the range [0, 1] with a step of 0.2\n",
    "fig.update_yaxes(tickmode='linear', tick0=0, dtick=0.1, range=[0.12, 0.25])\n",
    "\n",
    "# Show the plot\n",
    "fig.show()\n",
    "pio.write_image(fig, f'images/phantom_{phantom_choice}//{fp_prtcl_name}_sigs.jpeg')\n"
   ],
   "metadata": {
    "collapsed": false,
    "ExecuteTime": {
     "start_time": "2024-02-26T09:36:36.240784575Z"
    }
   },
   "id": "23602471cb669c52",
   "execution_count": null
  },
  {
   "cell_type": "markdown",
   "source": [
    "## 5. T1 T2 plots (December phantom) ##"
   ],
   "metadata": {
    "collapsed": false
   },
   "id": "9ee4ea561188169a"
  },
  {
   "cell_type": "code",
   "outputs": [],
   "source": [
    "# n = 3\n",
    "# t1_20_means, t1_20_stds = np.zeros([n]), np.zeros([n])\n",
    "# t1_16_means, t1_16_stds = np.zeros([n]), np.zeros([n])\n",
    "# t1_12_means, t1_12_stds = np.zeros([n]), np.zeros([n])\n",
    "# t1_bg_means, t1_bg_stds = np.zeros([n]), np.zeros([n])\n",
    "# t2_20_means, t2_20_stds = np.zeros([n]), np.zeros([n])\n",
    "# t2_16_means, t2_16_stds = np.zeros([n]), np.zeros([n])\n",
    "# t2_12_means, t2_12_stds = np.zeros([n]), np.zeros([n])\n",
    "# t2_bg_means, t2_bg_stds = np.zeros([n]), np.zeros([n])\n",
    "# \n",
    "# for i in range(n):\n",
    "#     phantom_i = i\n",
    "#     conc_l = conc_ls[i]\n",
    "#     ph_l = ph_ls[i]\n",
    "#     tag = tags[i]\n",
    "#     tag_x_loc = tag_x_locs[i]\n",
    "#     tag_y_loc = tag_y_locs[i]\n",
    "#     glu_phantom_fn = glu_phantom_fns[i]\n",
    "# \n",
    "#     glu_phantom_dicom_fn, glu_phantom_mrf_files_fn, bruker_dataset = bruker_dataset_creator(glu_phantom_fn, txt_file_name, fp_prtcl_name)\n",
    "#     _, _, bruker_dataset_mask = bruker_dataset_creator(glu_phantom_fn, txt_file_name, '107a')  # always takes mask from 107a\n",
    "#     vial_rois, full_mask, bg_mask = mask_roi_finder(bruker_dataset_mask, 3)\n",
    "#     t1_pixels = t1_t2_pixel_reader(glu_phantom_fn=glu_phantom_fn, txt_file_name=txt_file_name, image_idx=3, t_type='t1')\n",
    "#     t2_pixels = t1_t2_pixel_reader(glu_phantom_fn=glu_phantom_fn, txt_file_name=txt_file_name, image_idx=3, t_type='t2')\n",
    "# \n",
    "#     t1_t2_df = real_t1_t2(t1_pixels, t2_pixels, full_mask, vial_rois, tag, tag_x_loc, tag_y_loc, phantom_choice, conc_l, ph_l)\n",
    "# \n",
    "#     _, _, bg_mask = mask_roi_finder(bruker_dataset_mask)\n",
    "#     t1_t2_bg_df = real_t1_t2_bg(t1_pixels, t2_pixels, bg_mask, phantom_choice)\n",
    "#     t1_20_means[i] = t1_t2_df.iloc[0,2]\n",
    "#     t1_20_stds[i] = t1_t2_df.iloc[0,4]\n",
    "#     t1_16_means[i] = t1_t2_df.iloc[1,2]\n",
    "#     t1_16_stds[i] = t1_t2_df.iloc[1,4]\n",
    "#     t1_12_means[i] = t1_t2_df.iloc[2,2]\n",
    "#     t1_12_stds[i] = t1_t2_df.iloc[2,4]\n",
    "#     t1_bg_means[i] = t1_t2_bg_df.iloc[0,2]\n",
    "#     t1_bg_stds[i] = t1_t2_bg_df.iloc[0,4]\n",
    "# \n",
    "#     t2_20_means[i] = t1_t2_df.iloc[1,3]\n",
    "#     t2_20_stds[i] = t1_t2_df.iloc[1,5]\n",
    "#     t2_16_means[i] = t1_t2_df.iloc[1,3]\n",
    "#     t2_16_stds[i] = t1_t2_df.iloc[1,5]\n",
    "#     t2_12_means[i] = t1_t2_df.iloc[2,3]\n",
    "#     t2_12_stds[i] = t1_t2_df.iloc[2,5]\n",
    "#     t2_bg_means[i] = t1_t2_bg_df.iloc[0,3]\n",
    "#     t2_bg_stds[i] = t1_t2_bg_df.iloc[0,5]\n"
   ],
   "metadata": {
    "collapsed": false,
    "ExecuteTime": {
     "start_time": "2024-02-26T09:36:36.241074354Z"
    }
   },
   "id": "ff81e49d5398a6b0",
   "execution_count": null
  },
  {
   "cell_type": "code",
   "outputs": [],
   "source": [
    "# import plotly.graph_objects as go\n",
    "# from plotly.subplots import make_subplots\n",
    "# import plotly.io as pio\n",
    "# \n",
    "# # Sample data for means and stds (replace this with your actual data)\n",
    "# means_t1 = [t1_20_means, t1_16_means, t1_12_means, t1_bg_means]\n",
    "# stds_t1 = [t1_20_stds, t1_16_stds, t1_12_stds, t1_bg_stds]\n",
    "# means_t2 = [t2_20_means, t2_16_means, t2_12_means, t2_bg_means]\n",
    "# stds_t2 = [t2_20_stds, t2_16_stds, t2_12_stds, t2_bg_stds]\n",
    "# \n",
    "# # Temperature labels\n",
    "# temperatures = ['33°C', '37°C', '40°C']\n",
    "# \n",
    "# # Create scatter trace with error bars\n",
    "# def create_trace(means, stds, row_idx, col_idx):\n",
    "#     trace = go.Scatter(\n",
    "#         x=temperatures,\n",
    "#         y=means,\n",
    "#         mode='markers+lines',\n",
    "#         name=f'Row {row_idx}, Col {col_idx}',\n",
    "#         error_y=dict(\n",
    "#             type='data',\n",
    "#             array=stds,\n",
    "#             visible=True\n",
    "#         )\n",
    "#     )\n",
    "#     return trace\n",
    "# \n",
    "# # Create subplots\n",
    "# fig = make_subplots(rows=2, cols=4, subplot_titles=['T1 20 mM', 'T1 16 mM', 'T1 12 mM', 'T1 Background',\n",
    "#                                                     'T2 20 mM', 'T2 16 mM', 'T2 12 mM', 'T2 Background'],\n",
    "#                     horizontal_spacing=0.05, vertical_spacing=0.15)\n",
    "# \n",
    "# # Populate subplots with traces\n",
    "# for i in range(4):\n",
    "#     # T1\n",
    "#     fig.add_trace(create_trace(means_t1[i], stds_t1[i], 1, i+1), row=1, col=i+1)\n",
    "#     # T2\n",
    "#     fig.add_trace(create_trace(means_t2[i], stds_t2[i], 2, i+1), row=2, col=i+1)\n",
    "# \n",
    "# # Update layout for each subplot\n",
    "# for i in range(2):\n",
    "#     fig.update_yaxes(title_text='Mean [ms]', row=i+1, col=1)\n",
    "# \n",
    "# # Update layout for each subplot\n",
    "# fig.update_yaxes(range=[3500, 4700], row=1)\n",
    "# fig.update_yaxes(range=[0, 2500], row=2)\n",
    "# fig.update_yaxes(range=[400, 1000], row=2)\n",
    "# fig.update_yaxes(range=[0, 2500], row=2, col=4)\n",
    "# \n",
    "# # Update layout\n",
    "# fig.update_layout(\n",
    "#     template='plotly_white',\n",
    "#     title='T1 and T2 for Different Temperatures and Concentrations',\n",
    "#     height=600,\n",
    "#     width=1200,\n",
    "#     showlegend=False  # Show legend for each subplot\n",
    "# )\n",
    "# \n",
    "# # Show plot\n",
    "# fig.show()\n",
    "# # pio.write_image(fig, f'images/t1_t2_scatter_dec.jpeg')\n"
   ],
   "metadata": {
    "collapsed": false,
    "ExecuteTime": {
     "start_time": "2024-02-26T09:36:36.241413418Z"
    }
   },
   "id": "6e6db79c0c529d22",
   "execution_count": null
  },
  {
   "cell_type": "code",
   "outputs": [],
   "source": [],
   "metadata": {
    "collapsed": false,
    "ExecuteTime": {
     "start_time": "2024-02-26T09:36:36.241604593Z"
    }
   },
   "id": "4cf28f7e94aed655",
   "execution_count": null
  }
 ],
 "metadata": {
  "kernelspec": {
   "display_name": "Python 3",
   "language": "python",
   "name": "python3"
  },
  "language_info": {
   "codemirror_mode": {
    "name": "ipython",
    "version": 2
   },
   "file_extension": ".py",
   "mimetype": "text/x-python",
   "name": "python",
   "nbconvert_exporter": "python",
   "pygments_lexer": "ipython2",
   "version": "2.7.6"
  }
 },
 "nbformat": 4,
 "nbformat_minor": 5
}
