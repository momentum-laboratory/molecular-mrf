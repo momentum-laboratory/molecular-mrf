{
 "cells": [
  {
   "cell_type": "code",
   "execution_count": 16,
   "outputs": [],
   "source": [
    "import os\n",
    "import cv2\n",
    "import time\n",
    "import numpy as np\n",
    "import pandas as pd\n",
    "\n",
    "import plotly.graph_objects as go\n",
    "from plotly.subplots import make_subplots\n",
    "import plotly.io as pio\n",
    "\n",
    "from my_funcs.plot_functions import mask_roi_finder\n",
    "\n",
    "from my_funcs.cest_functions import bruker_dataset_creator\n",
    "from my_funcs.cest_functions import dicom_data_arranger\n",
    "from my_funcs.cest_functions import z_spec_rearranger\n",
    "from my_funcs.cest_functions import offset_rearranger\n",
    "\n",
    "from my_funcs.b0_mapping_functions import wassr_b0_mapping\n",
    "from my_funcs.b0_mapping_functions import b0_correction\n"
   ],
   "metadata": {
    "collapsed": false,
    "ExecuteTime": {
     "end_time": "2024-02-28T14:33:55.456348Z",
     "start_time": "2024-02-28T14:33:55.453749Z"
    }
   },
   "id": "e2e28fcc242f2c93"
  },
  {
   "cell_type": "markdown",
   "source": [
    "## 1.1. Enter Data: ##"
   ],
   "metadata": {
    "collapsed": false
   },
   "id": "7c86ddc8d094fe51"
  },
  {
   "cell_type": "code",
   "execution_count": 17,
   "outputs": [],
   "source": [
    "phantom_choice = 1\n",
    "\n",
    "# Root stats:\n",
    "general_fn = os.path.abspath(os.curdir)\n",
    "# Subject stats:\n",
    "glu_phantom_fns = [os.path.join(general_fn, 'scans', '23_12_08_glu_phantom_37deg',\n",
    "                                '1_glu_phantom_12_16_20mM_ph7_37deg'),\n",
    "                   os.path.join(general_fn, 'scans', '23_12_08_glu_phantom_37deg',\n",
    "                                '2_glu_phantom_12mM_ph6p5_7_7p4_37deg')]  # December 23\n",
    "glu_phantom_fn = glu_phantom_fns[phantom_choice-1]\n",
    "txt_file_name = 'labarchive_notes.txt'\n"
   ],
   "metadata": {
    "collapsed": false,
    "ExecuteTime": {
     "end_time": "2024-02-28T14:33:55.482129Z",
     "start_time": "2024-02-28T14:33:55.456941Z"
    }
   },
   "id": "125a48307888d90"
  },
  {
   "cell_type": "markdown",
   "source": [
    "## 1.2. scan data ##"
   ],
   "metadata": {
    "collapsed": false
   },
   "id": "9dae45f000d4461"
  },
  {
   "cell_type": "code",
   "execution_count": 18,
   "outputs": [],
   "source": [
    "# fix all those!\n",
    "conc_ls = [[20, 12, 16],\n",
    "           [12, 12, 12]]\n",
    "\n",
    "ph_ls = [['pH 7', 'pH 7', 'pH 7'],\n",
    "         ['pH 7', 'pH 7.4', 'pH 6.5']]\n",
    "\n",
    "tags = [['a', 'c', 'b'], \n",
    "        ['b', 'a', 'c']]\n",
    "\n",
    "tag_x_locs = [[-3,3,-2],\n",
    "              [-2,1,-2]]\n",
    "\n",
    "tag_y_locs = [[-13,13,14],\n",
    "              [-13,-13,12]]\n",
    "\n",
    "cest_prtcls_names = [c,\n",
    "                     ['EPI_0p7uT', 'EPI_2uT', 'EPI_4uT', 'EPI_6uT']]\n",
    "\n",
    "temperatures = ['37°C', '37°C']\n",
    "months = ['dec', 'dec']\n",
    "\n",
    "B_names = [['0.7uT', '2uT', '4uT', '6uT'], ['0.7uT', '2uT', '4uT', '6uT']]\n"
   ],
   "metadata": {
    "collapsed": false,
    "ExecuteTime": {
     "end_time": "2024-02-28T14:33:55.510915Z",
     "start_time": "2024-02-28T14:33:55.482712Z"
    }
   },
   "id": "64104dbf18ca6829"
  },
  {
   "cell_type": "markdown",
   "source": [
    "## 1. z-spectra ##"
   ],
   "metadata": {
    "collapsed": false
   },
   "id": "d8ef333ff9109459"
  },
  {
   "cell_type": "code",
   "execution_count": 19,
   "outputs": [
    {
     "name": "stdout",
     "output_type": "stream",
     "text": [
      "WASSR B0 mapping took 3.354 seconds\n",
      "WASSR B0 mapping took 3.847 seconds\n"
     ]
    }
   ],
   "source": [
    "mean_z_spectra = []\n",
    "mean_z_spectra_n_c = []\n",
    "gyro_ratio_hz = 42.5764  # for H [Hz/uT]\n",
    "b0 = 7\n",
    "\n",
    "for phantom_i in [0, 1]:\n",
    "    cest_prtcl_names = cest_prtcls_names[phantom_i]\n",
    "    glu_phantom_fn = glu_phantom_fns[phantom_i]\n",
    "    B_name = B_names[phantom_i]\n",
    "    \n",
    "    # mask\n",
    "    _, _, bruker_dataset_mask = bruker_dataset_creator(glu_phantom_fn, txt_file_name, '107a')  # always takes mask from 107a\n",
    "    vial_rois, full_mask, _ = mask_roi_finder(bruker_dataset_mask)\n",
    "    \n",
    "    # WASSR image\n",
    "    wassr_dicom_fn, wassr_mrf_files_fn, wassr_bruker_dataset = bruker_dataset_creator(glu_phantom_fn, txt_file_name, 'WASSR')\n",
    "    wassr_data = dicom_data_arranger(wassr_bruker_dataset, wassr_dicom_fn)\n",
    "    M0_wassr, arr_wassr_spec = z_spec_rearranger(wassr_data)  # (21, 64, 64)\n",
    "\n",
    "    wassr_norm = np.divide(arr_wassr_spec, np.where(M0_wassr == 0, 1e-8, M0_wassr))  # (22, 64, 64) full_mask\n",
    "    offset_hz = offset_rearranger(wassr_bruker_dataset['SatFreqList'].value)\n",
    "    offset_ppm = offset_hz / (gyro_ratio_hz * b0)\n",
    "    b0_map = wassr_b0_mapping(wassr_norm, full_mask, w_x=offset_ppm, MainFieldMHz=gyro_ratio_hz*b0)\n",
    "    \n",
    "    mean_z_spectrum = np.zeros([3, len(cest_prtcl_names), 57])\n",
    "    mean_z_spectrum_not_cor = np.zeros([3, len(cest_prtcl_names), 57])\n",
    "    for cest_prtcl_i, cest_prtcl_name in enumerate(cest_prtcl_names):  # 0.7, 2, 4, 6\n",
    "        cur_B_name = B_name[cest_prtcl_i]\n",
    "\n",
    "        # z-spec\n",
    "        glu_phantom_dicom_fn, glu_phantom_mrf_files_fn, bruker_dataset = bruker_dataset_creator(glu_phantom_fn, txt_file_name, cest_prtcl_name)  # (58/52, 64, 64) [M0,7,-7,6.75,-6.75,...,0.25,-0.25,0]\n",
    "        cest_data = dicom_data_arranger(bruker_dataset, glu_phantom_dicom_fn)\n",
    "        M0_cest, arr_z_spec = z_spec_rearranger(cest_data)\n",
    "        z_spec_norm = np.divide(arr_z_spec, np.where(M0_cest == 0, 1e-8, M0_cest))  # (51/57, 64, 64) full_mask\n",
    "        \n",
    "        # a = z_spec_norm[0,:,:]*(~full_mask - 254)\n",
    "        # a_1 = z_spec_norm[0,:,:]*(full_mask)\n",
    "        \n",
    "        # offset vector\n",
    "        offset_hz = offset_rearranger(bruker_dataset['SatFreqList'].value)\n",
    "        offset_ppm = offset_hz / (gyro_ratio_hz * b0)\n",
    "    \n",
    "        b0_cor_zspec = b0_correction(b0_map, z_spec_norm, offset_hz) # have not checked!\n",
    "\n",
    "        for vial_i, vial_roi in enumerate(vial_rois):\n",
    "            roi_mask = np.zeros_like(full_mask)\n",
    "            rr, cc = vial_roi.coords[:, 0], vial_roi.coords[:, 1]\n",
    "            roi_mask[rr, cc] = 1\n",
    "            # roi_mask = cv2.cvtColor(roi_mask, cv2.COLOR_BGR2GRAY)\n",
    "            roi_mask = roi_mask.astype(np.uint8)\n",
    "            \n",
    "            for c_i in range(z_spec_norm.shape[0]):\n",
    "                [[mean_vial]], _ = cv2.meanStdDev(z_spec_norm[c_i, :, :], mask=roi_mask)  # before b0 correction\n",
    "                mean_z_spectrum_not_cor[vial_i,cest_prtcl_i,c_i] = mean_vial\n",
    "                [[mean_vial]], _ = cv2.meanStdDev(b0_cor_zspec[c_i, :, :], mask=roi_mask)\n",
    "                mean_z_spectrum[vial_i,cest_prtcl_i,c_i] = mean_vial\n",
    "\n",
    "    mean_z_spectra.append(mean_z_spectrum)\n",
    "    mean_z_spectra_n_c.append(mean_z_spectrum_not_cor)\n",
    "    "
   ],
   "metadata": {
    "collapsed": false,
    "ExecuteTime": {
     "end_time": "2024-02-28T14:34:03.165588Z",
     "start_time": "2024-02-28T14:33:55.511676Z"
    }
   },
   "id": "a43d56c63c1bd751"
  },
  {
   "cell_type": "code",
   "outputs": [],
   "source": [
    "from lmfit import Model\n",
    "import numpy as np\n",
    "\n",
    "def z_cw_creator(w_df,  # ppm\n",
    "                 b1_v,\n",
    "                 zi_v,\n",
    "                 kb, t1w, t2w,\n",
    "                 tp, fb, t1s, t2s,\n",
    "                 gyro_ratio_hz = 42.5764,  # gamma for H [Hz/uT]\n",
    "                 b0 = 7):\n",
    "    gamma = 267.5153  # [MHz]\n",
    "    \n",
    "    # Define the function as a lambda expression\n",
    "    rex_lorentz = lambda da, w1, db, fb, kb, r2b, zi: (\n",
    "        (\n",
    "            (kb * fb) * w1**2 / (da**2 + w1**2) *\n",
    "            ((da - db)**2 + (da**2 + w1**2) * r2b / kb + r2b * (kb + r2b))\n",
    "        ) / (\n",
    "            ((2 * np.sqrt((kb + r2b) / kb * w1**2 + (kb + r2b)**2)) / 2)**2 + db**2\n",
    "        )\n",
    "    )\n",
    "    r1w = 1/t1w\n",
    "    r2w = 1/t2w\n",
    "    r1s = 1/t1s\n",
    "    r2s = 1/t2s\n",
    "    z_cw = np.array([])  # (4, 57)\n",
    "    for b1_i, b1 in enumerate(b1_v):\n",
    "        zi = zi_v[b1_i]\n",
    "        w1 = b1 * gamma\n",
    "        w_ref = b0 * gyro_ratio_hz * 2 * np.pi\n",
    "        da = (w_df - 0) * w_ref  # 0 ppm water\n",
    "        db = (w_df - 3) * w_ref  # 3 ppm solute\n",
    "        \n",
    "        w1 = np.full(len(w_df), w1)\n",
    "        da = np.where(da == 0, 1e-8, da)\n",
    "        theta = np.arctan(w1 / da)\n",
    "        \n",
    "        rex = rex_lorentz(da,w1,db,fb,kb,r2s,zi)  # exchange dependant relaxation (rotating frame)\n",
    "        reff = r1w * np.cos(theta)**2 + r2w * np.sin(theta)**2  # R1rho of water\n",
    "        r1rho = reff+rex\n",
    "        pz = np.cos(theta)\n",
    "        pzeff = np.cos(theta)\n",
    "        r1rho = np.where(r1rho == 0, 1e-8, r1rho)\n",
    "        zss = np.cos(theta) * pz * r1w / r1rho\n",
    "        cur_z_cw = (pz * pzeff * zi - zss) * np.exp(-(r1rho*tp)) + zss\n",
    "        z_cw = np.concatenate((z_cw, cur_z_cw))\n",
    "        \n",
    "    return z_cw\n",
    "\n",
    "\n",
    "def multi_b1_fit(w_df,\n",
    "                 b1_v,\n",
    "                 zi_v,\n",
    "                 z_spec_mat,  # (vial i, b1 i, 7 to -7)\n",
    "                 params):\n",
    "    # z_cw = z_cw_creator(params, b1_v, w_df)\n",
    "    \n",
    "    # I will try varying kb, r1w, r2w (maybe r1s, r2s next?)\n",
    "    piecewisez_cw = lambda w_df, kb, t1w, t2w, tp, fb, t1s, t2s: (\n",
    "        z_cw_creator(w_df, b1_v, zi_v, kb, t1w, t2w, tp, fb, t1s, t2s))\n",
    "\n",
    "    # u = piecewisez_cw(w_df, 7000, 1/4, 1/1.8, 3, 0.01, 1/1, 1/0.04)\n",
    "    \n",
    "    ft = Model(piecewisez_cw)\n",
    "            # Add bounds to parameters\n",
    "    opts = ft.make_params(method='leastsq')  # Method for optimization\n",
    "    \n",
    "    # varying\n",
    "    opts.add('kb', value=7500, min=2000, max=12000)\n",
    "    opts.add('t1w', value=params['t1w'], min=2.5, max=4.5)\n",
    "    opts.add('t2w', value=params['t2w'], min=0.5, max=1.9)\n",
    "    opts.add('t1s', value=params['t1s'], min=1, max=4.5)\n",
    "    opts.add('t2s', value=params['t2s'], min=0.007, max=0.2)\n",
    "    \n",
    "    # constant\n",
    "    opts.add('t1w', value=params['t1w'], vary=False)\n",
    "    opts.add('t2w', value=params['t2w'], vary=False)\n",
    "    opts.add('tp', value=params['tp'], vary=False)\n",
    "    opts.add('fb', value=params['fb'], vary=False)\n",
    "    # opts.add('t1s', value=params['t1s'], vary=False)\n",
    "    # opts.add('t2s', value=params['t2s'], vary=False)\n",
    "    \n",
    "    # b1s = np.array([])\n",
    "    zs = np.array([])\n",
    "    for b1_i, b1 in enumerate(b1_v):\n",
    "        # b1s = np.concatenate((b1s, np.full(len(w_df), b1)))\n",
    "        zs = np.concatenate((zs, z_spec_mat[b1_i, :]))  # 7 to -7\n",
    "    \n",
    "    # Perform the curve fitting\n",
    "    result = ft.fit(zs, w_df=w_df,\n",
    "                    kb=opts['kb'], t1w=opts['t1w'], t2w=opts['t2w'],\n",
    "                    tp=opts['tp'], fb=opts['fb'], t1s=opts['t1s'], t2s=opts['t2s'],\n",
    "                    method='least_squares')\n",
    "              \n",
    "    # # Extract fit results and goodness-of-fit\n",
    "    # fitresult = result.best_values\n",
    "    # gof = result.fit_report(result.params)\n",
    "    # ci = lmfit.conf_interval(result, result, sigmas=[2])  # not exact same 2 sigma instead of 95%\n",
    "    # kb_ci = ci['kb'][2][1] - np.mean([ci['kb'][2][1], ci['kb'][0][1]])  # 95%\n",
    "    # fb_ci = ci['fb'][2][1] - np.mean([ci['fb'][2][1], ci['fb'][0][1]])  # 95%\n",
    "    fitted_z = result.best_fit\n",
    "    \n",
    "    return result, fitted_z\n"
   ],
   "metadata": {
    "collapsed": false,
    "ExecuteTime": {
     "end_time": "2024-02-28T14:37:12.464994Z",
     "start_time": "2024-02-28T14:37:12.456893Z"
    }
   },
   "id": "450b03360652bba5",
   "execution_count": 24
  },
  {
   "cell_type": "code",
   "outputs": [
    {
     "data": {
      "application/vnd.plotly.v1+json": {
       "config": {
        "plotlyServerURL": "https://plot.ly"
       },
       "data": [
        {
         "legendgroup": "1_1_1",
         "line": {
          "color": "#1f77b4"
         },
         "name": "real z",
         "showlegend": true,
         "type": "scatter",
         "x": [
          7.0,
          6.75,
          6.5,
          6.25,
          6.0,
          5.75,
          5.5,
          5.25,
          5.0,
          4.75,
          4.5,
          4.25,
          4.0,
          3.75,
          3.5,
          3.25,
          3.0,
          2.75,
          2.5,
          2.25,
          2.0,
          1.75,
          1.5,
          1.25,
          1.0,
          0.75,
          0.5,
          0.25,
          0.0,
          -0.25,
          -0.5,
          -0.75,
          -1.0,
          -1.25,
          -1.5,
          -1.75,
          -2.0,
          -2.25,
          -2.5,
          -2.75,
          -3.0,
          -3.25,
          -3.5,
          -3.75,
          -4.0,
          -4.25,
          -4.5,
          -4.75,
          -5.0,
          -5.25,
          -5.5,
          -5.75,
          -6.0,
          -6.25,
          -6.5,
          -6.75,
          -7.0
         ],
         "xaxis": "x",
         "y": [
          0.9133173061320581,
          0.9099714303040761,
          0.9088236910891977,
          0.9064029124929249,
          0.9030419645601488,
          0.8995414054911468,
          0.8940545898870137,
          0.8891195686416151,
          0.8822122100331384,
          0.8732571658585583,
          0.8660114189237527,
          0.8559842003780807,
          0.843222515645672,
          0.8295655127071901,
          0.8146461124750269,
          0.7964229155393338,
          0.7732701105653524,
          0.7463817022367146,
          0.7154864900962644,
          0.6767253352820756,
          0.6285790930276675,
          0.5680139967589499,
          0.4931687922815069,
          0.4033914145900963,
          0.29751754390493035,
          0.1881192126840071,
          0.09196045865844371,
          0.02691870075540402,
          0.0053886614457647015,
          0.03191392864534421,
          0.10916491413812485,
          0.22754985695087057,
          0.36028952006458287,
          0.4832987663211646,
          0.5819151739400334,
          0.6583007581303058,
          0.7179233900105272,
          0.7613647284764253,
          0.7938448043221932,
          0.8205357778126406,
          0.840875560710502,
          0.8578050572297627,
          0.8706485764695692,
          0.8805188497063332,
          0.8891963168371865,
          0.89819956876161,
          0.9038133536724631,
          0.9075974655828349,
          0.9126255141776229,
          0.9161886391235161,
          0.9185929425735703,
          0.9205691651702542,
          0.9224781953407463,
          0.923959189694522,
          0.9241503780597956,
          0.9246493485705938,
          0.9253413184995366
         ],
         "yaxis": "y"
        },
        {
         "legendgroup": "1_1_1",
         "line": {
          "color": "#1f77b4"
         },
         "name": "fit z",
         "opacity": 0.5,
         "showlegend": true,
         "type": "scatter",
         "x": [
          7.0,
          6.75,
          6.5,
          6.25,
          6.0,
          5.75,
          5.5,
          5.25,
          5.0,
          4.75,
          4.5,
          4.25,
          4.0,
          3.75,
          3.5,
          3.25,
          3.0,
          2.75,
          2.5,
          2.25,
          2.0,
          1.75,
          1.5,
          1.25,
          1.0,
          0.75,
          0.5,
          0.25,
          0.0,
          -0.25,
          -0.5,
          -0.75,
          -1.0,
          -1.25,
          -1.5,
          -1.75,
          -2.0,
          -2.25,
          -2.5,
          -2.75,
          -3.0,
          -3.25,
          -3.5,
          -3.75,
          -4.0,
          -4.25,
          -4.5,
          -4.75,
          -5.0,
          -5.25,
          -5.5,
          -5.75,
          -6.0,
          -6.25,
          -6.5,
          -6.75,
          -7.0
         ],
         "xaxis": "x",
         "y": [
          0.9379606384454037,
          0.9351073341691017,
          0.9318607596478787,
          0.9281608386789386,
          0.9239383376775357,
          0.9191135349543157,
          0.9135946226817449,
          0.9072757018230236,
          0.9000341415710588,
          0.8917269457411604,
          0.8821855897574447,
          0.8712085550965206,
          0.8585504861611636,
          0.8439065205697366,
          0.8268898912610106,
          0.8070003730840086,
          0.7835806161056679,
          0.7557571678266181,
          0.72236401987827,
          0.6818517185299764,
          0.6322023883770528,
          0.5709207854608093,
          0.49530029085145444,
          0.403446747541557,
          0.29693370022802523,
          0.1853741652302243,
          0.088068063819849,
          0.02325104457754247,
          1.11448828944432E-23,
          0.025230072721871402,
          0.10355916227182378,
          0.22920080241396262,
          0.3711662148806153,
          0.498917519744731,
          0.6013022569617864,
          0.6794713500154608,
          0.7382926040144683,
          0.7826258314668958,
          0.8163374961356276,
          0.8422782711877037,
          0.8624958869568429,
          0.8784539422023339,
          0.8912034053040391,
          0.9015058903665238,
          0.9099195086191001,
          0.9168581140289032,
          0.92263224850008,
          0.9274776306386953,
          0.931575163820128,
          0.9350651373750614,
          0.9380574177178017,
          0.9406388426767921,
          0.9428786446089082,
          0.9448324693095519,
          0.9465453840582275,
          0.9480541504744504,
          0.9493889573785725
         ],
         "yaxis": "y"
        },
        {
         "legendgroup": "1_2_1",
         "line": {
          "color": "#1f77b4"
         },
         "name": "real z",
         "showlegend": false,
         "type": "scatter",
         "x": [
          7.0,
          6.75,
          6.5,
          6.25,
          6.0,
          5.75,
          5.5,
          5.25,
          5.0,
          4.75,
          4.5,
          4.25,
          4.0,
          3.75,
          3.5,
          3.25,
          3.0,
          2.75,
          2.5,
          2.25,
          2.0,
          1.75,
          1.5,
          1.25,
          1.0,
          0.75,
          0.5,
          0.25,
          0.0,
          -0.25,
          -0.5,
          -0.75,
          -1.0,
          -1.25,
          -1.5,
          -1.75,
          -2.0,
          -2.25,
          -2.5,
          -2.75,
          -3.0,
          -3.25,
          -3.5,
          -3.75,
          -4.0,
          -4.25,
          -4.5,
          -4.75,
          -5.0,
          -5.25,
          -5.5,
          -5.75,
          -6.0,
          -6.25,
          -6.5,
          -6.75,
          -7.0
         ],
         "xaxis": "x2",
         "y": [
          0.8773992093846044,
          0.8705385422080094,
          0.8638493199746959,
          0.856642809650553,
          0.8493686669516294,
          0.8401303164604554,
          0.830912996632704,
          0.81984168880161,
          0.8064849788047019,
          0.7933111637774193,
          0.7770558571673206,
          0.7606760376606464,
          0.7384116143858531,
          0.7147653393417215,
          0.6888420868193751,
          0.6570792681127297,
          0.6209003861700996,
          0.5809823543757571,
          0.536489014871378,
          0.4845262682682448,
          0.4267167141591583,
          0.36196585528486447,
          0.29256088839257316,
          0.21997826422546282,
          0.15168051299553612,
          0.09101572076536558,
          0.04406929152958963,
          0.013827742216389619,
          0.004291304374442913,
          0.01560379642137513,
          0.05192001808682153,
          0.11290533521462658,
          0.19306559059652584,
          0.28531166775893013,
          0.3781781447627581,
          0.4631595517665587,
          0.5382742415806674,
          0.6023660923365217,
          0.6529072195340111,
          0.6967256491489628,
          0.732666529791086,
          0.761513756499634,
          0.785863640513599,
          0.8064929027688236,
          0.8237341036692182,
          0.8380977212049442,
          0.8488627915350682,
          0.8581545068180135,
          0.8660594229689418,
          0.8731500261904678,
          0.8780095525888937,
          0.8832552620972781,
          0.88791257869619,
          0.8930487631802878,
          0.8968991724346661,
          0.9000165526480504,
          0.9028150898116428
         ],
         "yaxis": "y2"
        },
        {
         "legendgroup": "1_2_1",
         "line": {
          "color": "#1f77b4"
         },
         "name": "fit z",
         "opacity": 0.5,
         "showlegend": false,
         "type": "scatter",
         "x": [
          7.0,
          6.75,
          6.5,
          6.25,
          6.0,
          5.75,
          5.5,
          5.25,
          5.0,
          4.75,
          4.5,
          4.25,
          4.0,
          3.75,
          3.5,
          3.25,
          3.0,
          2.75,
          2.5,
          2.25,
          2.0,
          1.75,
          1.5,
          1.25,
          1.0,
          0.75,
          0.5,
          0.25,
          0.0,
          -0.25,
          -0.5,
          -0.75,
          -1.0,
          -1.25,
          -1.5,
          -1.75,
          -2.0,
          -2.25,
          -2.5,
          -2.75,
          -3.0,
          -3.25,
          -3.5,
          -3.75,
          -4.0,
          -4.25,
          -4.5,
          -4.75,
          -5.0,
          -5.25,
          -5.5,
          -5.75,
          -6.0,
          -6.25,
          -6.5,
          -6.75,
          -7.0
         ],
         "xaxis": "x2",
         "y": [
          0.8966874018280032,
          0.8907740272638871,
          0.8840882676335686,
          0.8765230770702669,
          0.86795831291647,
          0.8582598244962606,
          0.8472785572461082,
          0.8348495796060479,
          0.8207908505899048,
          0.8049014322207287,
          0.7869587309657996,
          0.7667142657422893,
          0.7438874777150499,
          0.7181573315122229,
          0.6891520806144226,
          0.6564388490929062,
          0.6195170533115125,
          0.577823871730011,
          0.5307670744489577,
          0.47781179548012664,
          0.4186629639862668,
          0.35359604865942434,
          0.28396339031364426,
          0.21276130246096667,
          0.14479566692194903,
          0.08569565715283771,
          0.0399734003100447,
          0.010493904969512842,
          5.003073196770142E-24,
          0.011362889763759963,
          0.04693411555597584,
          0.1084411767537963,
          0.19314309242197125,
          0.29070198465095726,
          0.38850780081793146,
          0.47781019145688114,
          0.5548500190823704,
          0.619234216571738,
          0.6721882359915404,
          0.7154639135560404,
          0.7508073143749973,
          0.7797513269485277,
          0.8035654146981192,
          0.8232709926010617,
          0.839678578021726,
          0.853427764781706,
          0.8650228924937116,
          0.8748624961157021,
          0.8832627165036048,
          0.8904755560489194,
          0.8967029835702862,
          0.9021077944220074,
          0.9068219723936465,
          0.9109531421180905,
          0.9145895656523952,
          0.917804028661037,
          0.9206568777500604
         ],
         "yaxis": "y2"
        }
       ],
       "layout": {
        "annotations": [
         {
          "font": {
           "size": 16
          },
          "showarrow": false,
          "text": "4uT",
          "x": 0.2475,
          "xanchor": "center",
          "xref": "paper",
          "y": 1.0,
          "yanchor": "bottom",
          "yref": "paper"
         },
         {
          "font": {
           "size": 16
          },
          "showarrow": false,
          "text": "6uT",
          "x": 0.7525,
          "xanchor": "center",
          "xref": "paper",
          "y": 1.0,
          "yanchor": "bottom",
          "yref": "paper"
         }
        ],
        "height": 300,
        "margin": {
         "b": 0,
         "l": 45,
         "r": 0,
         "t": 50
        },
        "template": {
         "data": {
          "bar": [
           {
            "error_x": {
             "color": "#2a3f5f"
            },
            "error_y": {
             "color": "#2a3f5f"
            },
            "marker": {
             "line": {
              "color": "white",
              "width": 0.5
             },
             "pattern": {
              "fillmode": "overlay",
              "size": 10,
              "solidity": 0.2
             }
            },
            "type": "bar"
           }
          ],
          "barpolar": [
           {
            "marker": {
             "line": {
              "color": "white",
              "width": 0.5
             },
             "pattern": {
              "fillmode": "overlay",
              "size": 10,
              "solidity": 0.2
             }
            },
            "type": "barpolar"
           }
          ],
          "carpet": [
           {
            "aaxis": {
             "endlinecolor": "#2a3f5f",
             "gridcolor": "#C8D4E3",
             "linecolor": "#C8D4E3",
             "minorgridcolor": "#C8D4E3",
             "startlinecolor": "#2a3f5f"
            },
            "baxis": {
             "endlinecolor": "#2a3f5f",
             "gridcolor": "#C8D4E3",
             "linecolor": "#C8D4E3",
             "minorgridcolor": "#C8D4E3",
             "startlinecolor": "#2a3f5f"
            },
            "type": "carpet"
           }
          ],
          "choropleth": [
           {
            "colorbar": {
             "outlinewidth": 0,
             "ticks": ""
            },
            "type": "choropleth"
           }
          ],
          "contour": [
           {
            "colorbar": {
             "outlinewidth": 0,
             "ticks": ""
            },
            "colorscale": [
             [
              0.0,
              "#0d0887"
             ],
             [
              0.1111111111111111,
              "#46039f"
             ],
             [
              0.2222222222222222,
              "#7201a8"
             ],
             [
              0.3333333333333333,
              "#9c179e"
             ],
             [
              0.4444444444444444,
              "#bd3786"
             ],
             [
              0.5555555555555556,
              "#d8576b"
             ],
             [
              0.6666666666666666,
              "#ed7953"
             ],
             [
              0.7777777777777778,
              "#fb9f3a"
             ],
             [
              0.8888888888888888,
              "#fdca26"
             ],
             [
              1.0,
              "#f0f921"
             ]
            ],
            "type": "contour"
           }
          ],
          "contourcarpet": [
           {
            "colorbar": {
             "outlinewidth": 0,
             "ticks": ""
            },
            "type": "contourcarpet"
           }
          ],
          "heatmap": [
           {
            "colorbar": {
             "outlinewidth": 0,
             "ticks": ""
            },
            "colorscale": [
             [
              0.0,
              "#0d0887"
             ],
             [
              0.1111111111111111,
              "#46039f"
             ],
             [
              0.2222222222222222,
              "#7201a8"
             ],
             [
              0.3333333333333333,
              "#9c179e"
             ],
             [
              0.4444444444444444,
              "#bd3786"
             ],
             [
              0.5555555555555556,
              "#d8576b"
             ],
             [
              0.6666666666666666,
              "#ed7953"
             ],
             [
              0.7777777777777778,
              "#fb9f3a"
             ],
             [
              0.8888888888888888,
              "#fdca26"
             ],
             [
              1.0,
              "#f0f921"
             ]
            ],
            "type": "heatmap"
           }
          ],
          "heatmapgl": [
           {
            "colorbar": {
             "outlinewidth": 0,
             "ticks": ""
            },
            "colorscale": [
             [
              0.0,
              "#0d0887"
             ],
             [
              0.1111111111111111,
              "#46039f"
             ],
             [
              0.2222222222222222,
              "#7201a8"
             ],
             [
              0.3333333333333333,
              "#9c179e"
             ],
             [
              0.4444444444444444,
              "#bd3786"
             ],
             [
              0.5555555555555556,
              "#d8576b"
             ],
             [
              0.6666666666666666,
              "#ed7953"
             ],
             [
              0.7777777777777778,
              "#fb9f3a"
             ],
             [
              0.8888888888888888,
              "#fdca26"
             ],
             [
              1.0,
              "#f0f921"
             ]
            ],
            "type": "heatmapgl"
           }
          ],
          "histogram": [
           {
            "marker": {
             "pattern": {
              "fillmode": "overlay",
              "size": 10,
              "solidity": 0.2
             }
            },
            "type": "histogram"
           }
          ],
          "histogram2d": [
           {
            "colorbar": {
             "outlinewidth": 0,
             "ticks": ""
            },
            "colorscale": [
             [
              0.0,
              "#0d0887"
             ],
             [
              0.1111111111111111,
              "#46039f"
             ],
             [
              0.2222222222222222,
              "#7201a8"
             ],
             [
              0.3333333333333333,
              "#9c179e"
             ],
             [
              0.4444444444444444,
              "#bd3786"
             ],
             [
              0.5555555555555556,
              "#d8576b"
             ],
             [
              0.6666666666666666,
              "#ed7953"
             ],
             [
              0.7777777777777778,
              "#fb9f3a"
             ],
             [
              0.8888888888888888,
              "#fdca26"
             ],
             [
              1.0,
              "#f0f921"
             ]
            ],
            "type": "histogram2d"
           }
          ],
          "histogram2dcontour": [
           {
            "colorbar": {
             "outlinewidth": 0,
             "ticks": ""
            },
            "colorscale": [
             [
              0.0,
              "#0d0887"
             ],
             [
              0.1111111111111111,
              "#46039f"
             ],
             [
              0.2222222222222222,
              "#7201a8"
             ],
             [
              0.3333333333333333,
              "#9c179e"
             ],
             [
              0.4444444444444444,
              "#bd3786"
             ],
             [
              0.5555555555555556,
              "#d8576b"
             ],
             [
              0.6666666666666666,
              "#ed7953"
             ],
             [
              0.7777777777777778,
              "#fb9f3a"
             ],
             [
              0.8888888888888888,
              "#fdca26"
             ],
             [
              1.0,
              "#f0f921"
             ]
            ],
            "type": "histogram2dcontour"
           }
          ],
          "mesh3d": [
           {
            "colorbar": {
             "outlinewidth": 0,
             "ticks": ""
            },
            "type": "mesh3d"
           }
          ],
          "parcoords": [
           {
            "line": {
             "colorbar": {
              "outlinewidth": 0,
              "ticks": ""
             }
            },
            "type": "parcoords"
           }
          ],
          "pie": [
           {
            "automargin": true,
            "type": "pie"
           }
          ],
          "scatter": [
           {
            "marker": {
             "colorbar": {
              "outlinewidth": 0,
              "ticks": ""
             }
            },
            "type": "scatter"
           }
          ],
          "scatter3d": [
           {
            "line": {
             "colorbar": {
              "outlinewidth": 0,
              "ticks": ""
             }
            },
            "marker": {
             "colorbar": {
              "outlinewidth": 0,
              "ticks": ""
             }
            },
            "type": "scatter3d"
           }
          ],
          "scattercarpet": [
           {
            "marker": {
             "colorbar": {
              "outlinewidth": 0,
              "ticks": ""
             }
            },
            "type": "scattercarpet"
           }
          ],
          "scattergeo": [
           {
            "marker": {
             "colorbar": {
              "outlinewidth": 0,
              "ticks": ""
             }
            },
            "type": "scattergeo"
           }
          ],
          "scattergl": [
           {
            "marker": {
             "colorbar": {
              "outlinewidth": 0,
              "ticks": ""
             }
            },
            "type": "scattergl"
           }
          ],
          "scattermapbox": [
           {
            "marker": {
             "colorbar": {
              "outlinewidth": 0,
              "ticks": ""
             }
            },
            "type": "scattermapbox"
           }
          ],
          "scatterpolar": [
           {
            "marker": {
             "colorbar": {
              "outlinewidth": 0,
              "ticks": ""
             }
            },
            "type": "scatterpolar"
           }
          ],
          "scatterpolargl": [
           {
            "marker": {
             "colorbar": {
              "outlinewidth": 0,
              "ticks": ""
             }
            },
            "type": "scatterpolargl"
           }
          ],
          "scatterternary": [
           {
            "marker": {
             "colorbar": {
              "outlinewidth": 0,
              "ticks": ""
             }
            },
            "type": "scatterternary"
           }
          ],
          "surface": [
           {
            "colorbar": {
             "outlinewidth": 0,
             "ticks": ""
            },
            "colorscale": [
             [
              0.0,
              "#0d0887"
             ],
             [
              0.1111111111111111,
              "#46039f"
             ],
             [
              0.2222222222222222,
              "#7201a8"
             ],
             [
              0.3333333333333333,
              "#9c179e"
             ],
             [
              0.4444444444444444,
              "#bd3786"
             ],
             [
              0.5555555555555556,
              "#d8576b"
             ],
             [
              0.6666666666666666,
              "#ed7953"
             ],
             [
              0.7777777777777778,
              "#fb9f3a"
             ],
             [
              0.8888888888888888,
              "#fdca26"
             ],
             [
              1.0,
              "#f0f921"
             ]
            ],
            "type": "surface"
           }
          ],
          "table": [
           {
            "cells": {
             "fill": {
              "color": "#EBF0F8"
             },
             "line": {
              "color": "white"
             }
            },
            "header": {
             "fill": {
              "color": "#C8D4E3"
             },
             "line": {
              "color": "white"
             }
            },
            "type": "table"
           }
          ]
         },
         "layout": {
          "annotationdefaults": {
           "arrowcolor": "#2a3f5f",
           "arrowhead": 0,
           "arrowwidth": 1
          },
          "autotypenumbers": "strict",
          "coloraxis": {
           "colorbar": {
            "outlinewidth": 0,
            "ticks": ""
           }
          },
          "colorscale": {
           "diverging": [
            [
             0,
             "#8e0152"
            ],
            [
             0.1,
             "#c51b7d"
            ],
            [
             0.2,
             "#de77ae"
            ],
            [
             0.3,
             "#f1b6da"
            ],
            [
             0.4,
             "#fde0ef"
            ],
            [
             0.5,
             "#f7f7f7"
            ],
            [
             0.6,
             "#e6f5d0"
            ],
            [
             0.7,
             "#b8e186"
            ],
            [
             0.8,
             "#7fbc41"
            ],
            [
             0.9,
             "#4d9221"
            ],
            [
             1,
             "#276419"
            ]
           ],
           "sequential": [
            [
             0.0,
             "#0d0887"
            ],
            [
             0.1111111111111111,
             "#46039f"
            ],
            [
             0.2222222222222222,
             "#7201a8"
            ],
            [
             0.3333333333333333,
             "#9c179e"
            ],
            [
             0.4444444444444444,
             "#bd3786"
            ],
            [
             0.5555555555555556,
             "#d8576b"
            ],
            [
             0.6666666666666666,
             "#ed7953"
            ],
            [
             0.7777777777777778,
             "#fb9f3a"
            ],
            [
             0.8888888888888888,
             "#fdca26"
            ],
            [
             1.0,
             "#f0f921"
            ]
           ],
           "sequentialminus": [
            [
             0.0,
             "#0d0887"
            ],
            [
             0.1111111111111111,
             "#46039f"
            ],
            [
             0.2222222222222222,
             "#7201a8"
            ],
            [
             0.3333333333333333,
             "#9c179e"
            ],
            [
             0.4444444444444444,
             "#bd3786"
            ],
            [
             0.5555555555555556,
             "#d8576b"
            ],
            [
             0.6666666666666666,
             "#ed7953"
            ],
            [
             0.7777777777777778,
             "#fb9f3a"
            ],
            [
             0.8888888888888888,
             "#fdca26"
            ],
            [
             1.0,
             "#f0f921"
            ]
           ]
          },
          "colorway": [
           "#636efa",
           "#EF553B",
           "#00cc96",
           "#ab63fa",
           "#FFA15A",
           "#19d3f3",
           "#FF6692",
           "#B6E880",
           "#FF97FF",
           "#FECB52"
          ],
          "font": {
           "color": "#2a3f5f"
          },
          "geo": {
           "bgcolor": "white",
           "lakecolor": "white",
           "landcolor": "white",
           "showlakes": true,
           "showland": true,
           "subunitcolor": "#C8D4E3"
          },
          "hoverlabel": {
           "align": "left"
          },
          "hovermode": "closest",
          "mapbox": {
           "style": "light"
          },
          "paper_bgcolor": "white",
          "plot_bgcolor": "white",
          "polar": {
           "angularaxis": {
            "gridcolor": "#EBF0F8",
            "linecolor": "#EBF0F8",
            "ticks": ""
           },
           "bgcolor": "white",
           "radialaxis": {
            "gridcolor": "#EBF0F8",
            "linecolor": "#EBF0F8",
            "ticks": ""
           }
          },
          "scene": {
           "xaxis": {
            "backgroundcolor": "white",
            "gridcolor": "#DFE8F3",
            "gridwidth": 2,
            "linecolor": "#EBF0F8",
            "showbackground": true,
            "ticks": "",
            "zerolinecolor": "#EBF0F8"
           },
           "yaxis": {
            "backgroundcolor": "white",
            "gridcolor": "#DFE8F3",
            "gridwidth": 2,
            "linecolor": "#EBF0F8",
            "showbackground": true,
            "ticks": "",
            "zerolinecolor": "#EBF0F8"
           },
           "zaxis": {
            "backgroundcolor": "white",
            "gridcolor": "#DFE8F3",
            "gridwidth": 2,
            "linecolor": "#EBF0F8",
            "showbackground": true,
            "ticks": "",
            "zerolinecolor": "#EBF0F8"
           }
          },
          "shapedefaults": {
           "line": {
            "color": "#2a3f5f"
           }
          },
          "ternary": {
           "aaxis": {
            "gridcolor": "#DFE8F3",
            "linecolor": "#A2B1C6",
            "ticks": ""
           },
           "baxis": {
            "gridcolor": "#DFE8F3",
            "linecolor": "#A2B1C6",
            "ticks": ""
           },
           "bgcolor": "white",
           "caxis": {
            "gridcolor": "#DFE8F3",
            "linecolor": "#A2B1C6",
            "ticks": ""
           }
          },
          "title": {
           "x": 0.05
          },
          "xaxis": {
           "automargin": true,
           "gridcolor": "#EBF0F8",
           "linecolor": "#EBF0F8",
           "ticks": "",
           "title": {
            "standoff": 15
           },
           "zerolinecolor": "#EBF0F8",
           "zerolinewidth": 2
          },
          "yaxis": {
           "automargin": true,
           "gridcolor": "#EBF0F8",
           "linecolor": "#EBF0F8",
           "ticks": "",
           "title": {
            "standoff": 15
           },
           "zerolinecolor": "#EBF0F8",
           "zerolinewidth": 2
          }
         }
        },
        "title": {
         "text": "Phantom dec - 37°C Z-spectrum - 20mM, pH 7",
         "x": 0.02,
         "y": 0.97
        },
        "width": 700,
        "xaxis": {
         "anchor": "y",
         "autorange": "reversed",
         "domain": [
          0.0,
          0.495
         ],
         "dtick": 1,
         "tick0": 0,
         "tickmode": "linear"
        },
        "xaxis2": {
         "anchor": "y2",
         "autorange": "reversed",
         "domain": [
          0.505,
          1.0
         ],
         "dtick": 1,
         "tick0": 0,
         "tickmode": "linear"
        },
        "yaxis": {
         "anchor": "x",
         "domain": [
          0.0,
          1.0
         ],
         "dtick": 0.2,
         "range": [
          -0.1,
          1.15
         ],
         "tick0": 0,
         "tickmode": "linear",
         "title": {
          "standoff": 2,
          "text": "$M_{sat}/M_0$"
         }
        },
        "yaxis2": {
         "anchor": "x2",
         "domain": [
          0.0,
          1.0
         ],
         "dtick": 0.2,
         "range": [
          -0.1,
          1.15
         ],
         "tick0": 0,
         "tickmode": "linear"
        }
       }
      },
      "text/html": "<div>                            <div id=\"a987c9ae-c117-4af6-a2d5-9c8e20f70110\" class=\"plotly-graph-div\" style=\"height:300px; width:700px;\"></div>            <script type=\"text/javascript\">                require([\"plotly\"], function(Plotly) {                    window.PLOTLYENV=window.PLOTLYENV || {};                                    if (document.getElementById(\"a987c9ae-c117-4af6-a2d5-9c8e20f70110\")) {                    Plotly.newPlot(                        \"a987c9ae-c117-4af6-a2d5-9c8e20f70110\",                        [{\"legendgroup\":\"1_1_1\",\"line\":{\"color\":\"#1f77b4\"},\"name\":\"real z\",\"showlegend\":true,\"type\":\"scatter\",\"x\":[7.0,6.75,6.5,6.25,6.0,5.75,5.5,5.25,5.0,4.75,4.5,4.25,4.0,3.75,3.5,3.25,3.0,2.75,2.5,2.25,2.0,1.75,1.5,1.25,1.0,0.75,0.5,0.25,0.0,-0.25,-0.5,-0.75,-1.0,-1.25,-1.5,-1.75,-2.0,-2.25,-2.5,-2.75,-3.0,-3.25,-3.5,-3.75,-4.0,-4.25,-4.5,-4.75,-5.0,-5.25,-5.5,-5.75,-6.0,-6.25,-6.5,-6.75,-7.0],\"xaxis\":\"x\",\"y\":[0.9133173061320581,0.9099714303040761,0.9088236910891977,0.9064029124929249,0.9030419645601488,0.8995414054911468,0.8940545898870137,0.8891195686416151,0.8822122100331384,0.8732571658585583,0.8660114189237527,0.8559842003780807,0.843222515645672,0.8295655127071901,0.8146461124750269,0.7964229155393338,0.7732701105653524,0.7463817022367146,0.7154864900962644,0.6767253352820756,0.6285790930276675,0.5680139967589499,0.4931687922815069,0.4033914145900963,0.29751754390493035,0.1881192126840071,0.09196045865844371,0.02691870075540402,0.0053886614457647015,0.03191392864534421,0.10916491413812485,0.22754985695087057,0.36028952006458287,0.4832987663211646,0.5819151739400334,0.6583007581303058,0.7179233900105272,0.7613647284764253,0.7938448043221932,0.8205357778126406,0.840875560710502,0.8578050572297627,0.8706485764695692,0.8805188497063332,0.8891963168371865,0.89819956876161,0.9038133536724631,0.9075974655828349,0.9126255141776229,0.9161886391235161,0.9185929425735703,0.9205691651702542,0.9224781953407463,0.923959189694522,0.9241503780597956,0.9246493485705938,0.9253413184995366],\"yaxis\":\"y\"},{\"legendgroup\":\"1_1_1\",\"line\":{\"color\":\"#1f77b4\"},\"name\":\"fit z\",\"opacity\":0.5,\"showlegend\":true,\"type\":\"scatter\",\"x\":[7.0,6.75,6.5,6.25,6.0,5.75,5.5,5.25,5.0,4.75,4.5,4.25,4.0,3.75,3.5,3.25,3.0,2.75,2.5,2.25,2.0,1.75,1.5,1.25,1.0,0.75,0.5,0.25,0.0,-0.25,-0.5,-0.75,-1.0,-1.25,-1.5,-1.75,-2.0,-2.25,-2.5,-2.75,-3.0,-3.25,-3.5,-3.75,-4.0,-4.25,-4.5,-4.75,-5.0,-5.25,-5.5,-5.75,-6.0,-6.25,-6.5,-6.75,-7.0],\"xaxis\":\"x\",\"y\":[0.9379606384454037,0.9351073341691017,0.9318607596478787,0.9281608386789386,0.9239383376775357,0.9191135349543157,0.9135946226817449,0.9072757018230236,0.9000341415710588,0.8917269457411604,0.8821855897574447,0.8712085550965206,0.8585504861611636,0.8439065205697366,0.8268898912610106,0.8070003730840086,0.7835806161056679,0.7557571678266181,0.72236401987827,0.6818517185299764,0.6322023883770528,0.5709207854608093,0.49530029085145444,0.403446747541557,0.29693370022802523,0.1853741652302243,0.088068063819849,0.02325104457754247,1.11448828944432e-23,0.025230072721871402,0.10355916227182378,0.22920080241396262,0.3711662148806153,0.498917519744731,0.6013022569617864,0.6794713500154608,0.7382926040144683,0.7826258314668958,0.8163374961356276,0.8422782711877037,0.8624958869568429,0.8784539422023339,0.8912034053040391,0.9015058903665238,0.9099195086191001,0.9168581140289032,0.92263224850008,0.9274776306386953,0.931575163820128,0.9350651373750614,0.9380574177178017,0.9406388426767921,0.9428786446089082,0.9448324693095519,0.9465453840582275,0.9480541504744504,0.9493889573785725],\"yaxis\":\"y\"},{\"legendgroup\":\"1_2_1\",\"line\":{\"color\":\"#1f77b4\"},\"name\":\"real z\",\"showlegend\":false,\"type\":\"scatter\",\"x\":[7.0,6.75,6.5,6.25,6.0,5.75,5.5,5.25,5.0,4.75,4.5,4.25,4.0,3.75,3.5,3.25,3.0,2.75,2.5,2.25,2.0,1.75,1.5,1.25,1.0,0.75,0.5,0.25,0.0,-0.25,-0.5,-0.75,-1.0,-1.25,-1.5,-1.75,-2.0,-2.25,-2.5,-2.75,-3.0,-3.25,-3.5,-3.75,-4.0,-4.25,-4.5,-4.75,-5.0,-5.25,-5.5,-5.75,-6.0,-6.25,-6.5,-6.75,-7.0],\"xaxis\":\"x2\",\"y\":[0.8773992093846044,0.8705385422080094,0.8638493199746959,0.856642809650553,0.8493686669516294,0.8401303164604554,0.830912996632704,0.81984168880161,0.8064849788047019,0.7933111637774193,0.7770558571673206,0.7606760376606464,0.7384116143858531,0.7147653393417215,0.6888420868193751,0.6570792681127297,0.6209003861700996,0.5809823543757571,0.536489014871378,0.4845262682682448,0.4267167141591583,0.36196585528486447,0.29256088839257316,0.21997826422546282,0.15168051299553612,0.09101572076536558,0.04406929152958963,0.013827742216389619,0.004291304374442913,0.01560379642137513,0.05192001808682153,0.11290533521462658,0.19306559059652584,0.28531166775893013,0.3781781447627581,0.4631595517665587,0.5382742415806674,0.6023660923365217,0.6529072195340111,0.6967256491489628,0.732666529791086,0.761513756499634,0.785863640513599,0.8064929027688236,0.8237341036692182,0.8380977212049442,0.8488627915350682,0.8581545068180135,0.8660594229689418,0.8731500261904678,0.8780095525888937,0.8832552620972781,0.88791257869619,0.8930487631802878,0.8968991724346661,0.9000165526480504,0.9028150898116428],\"yaxis\":\"y2\"},{\"legendgroup\":\"1_2_1\",\"line\":{\"color\":\"#1f77b4\"},\"name\":\"fit z\",\"opacity\":0.5,\"showlegend\":false,\"type\":\"scatter\",\"x\":[7.0,6.75,6.5,6.25,6.0,5.75,5.5,5.25,5.0,4.75,4.5,4.25,4.0,3.75,3.5,3.25,3.0,2.75,2.5,2.25,2.0,1.75,1.5,1.25,1.0,0.75,0.5,0.25,0.0,-0.25,-0.5,-0.75,-1.0,-1.25,-1.5,-1.75,-2.0,-2.25,-2.5,-2.75,-3.0,-3.25,-3.5,-3.75,-4.0,-4.25,-4.5,-4.75,-5.0,-5.25,-5.5,-5.75,-6.0,-6.25,-6.5,-6.75,-7.0],\"xaxis\":\"x2\",\"y\":[0.8966874018280032,0.8907740272638871,0.8840882676335686,0.8765230770702669,0.86795831291647,0.8582598244962606,0.8472785572461082,0.8348495796060479,0.8207908505899048,0.8049014322207287,0.7869587309657996,0.7667142657422893,0.7438874777150499,0.7181573315122229,0.6891520806144226,0.6564388490929062,0.6195170533115125,0.577823871730011,0.5307670744489577,0.47781179548012664,0.4186629639862668,0.35359604865942434,0.28396339031364426,0.21276130246096667,0.14479566692194903,0.08569565715283771,0.0399734003100447,0.010493904969512842,5.003073196770142e-24,0.011362889763759963,0.04693411555597584,0.1084411767537963,0.19314309242197125,0.29070198465095726,0.38850780081793146,0.47781019145688114,0.5548500190823704,0.619234216571738,0.6721882359915404,0.7154639135560404,0.7508073143749973,0.7797513269485277,0.8035654146981192,0.8232709926010617,0.839678578021726,0.853427764781706,0.8650228924937116,0.8748624961157021,0.8832627165036048,0.8904755560489194,0.8967029835702862,0.9021077944220074,0.9068219723936465,0.9109531421180905,0.9145895656523952,0.917804028661037,0.9206568777500604],\"yaxis\":\"y2\"}],                        {\"annotations\":[{\"font\":{\"size\":16},\"showarrow\":false,\"text\":\"4uT\",\"x\":0.2475,\"xanchor\":\"center\",\"xref\":\"paper\",\"y\":1.0,\"yanchor\":\"bottom\",\"yref\":\"paper\"},{\"font\":{\"size\":16},\"showarrow\":false,\"text\":\"6uT\",\"x\":0.7525,\"xanchor\":\"center\",\"xref\":\"paper\",\"y\":1.0,\"yanchor\":\"bottom\",\"yref\":\"paper\"}],\"height\":300,\"margin\":{\"b\":0,\"l\":45,\"r\":0,\"t\":50},\"template\":{\"data\":{\"bar\":[{\"error_x\":{\"color\":\"#2a3f5f\"},\"error_y\":{\"color\":\"#2a3f5f\"},\"marker\":{\"line\":{\"color\":\"white\",\"width\":0.5},\"pattern\":{\"fillmode\":\"overlay\",\"size\":10,\"solidity\":0.2}},\"type\":\"bar\"}],\"barpolar\":[{\"marker\":{\"line\":{\"color\":\"white\",\"width\":0.5},\"pattern\":{\"fillmode\":\"overlay\",\"size\":10,\"solidity\":0.2}},\"type\":\"barpolar\"}],\"carpet\":[{\"aaxis\":{\"endlinecolor\":\"#2a3f5f\",\"gridcolor\":\"#C8D4E3\",\"linecolor\":\"#C8D4E3\",\"minorgridcolor\":\"#C8D4E3\",\"startlinecolor\":\"#2a3f5f\"},\"baxis\":{\"endlinecolor\":\"#2a3f5f\",\"gridcolor\":\"#C8D4E3\",\"linecolor\":\"#C8D4E3\",\"minorgridcolor\":\"#C8D4E3\",\"startlinecolor\":\"#2a3f5f\"},\"type\":\"carpet\"}],\"choropleth\":[{\"colorbar\":{\"outlinewidth\":0,\"ticks\":\"\"},\"type\":\"choropleth\"}],\"contour\":[{\"colorbar\":{\"outlinewidth\":0,\"ticks\":\"\"},\"colorscale\":[[0.0,\"#0d0887\"],[0.1111111111111111,\"#46039f\"],[0.2222222222222222,\"#7201a8\"],[0.3333333333333333,\"#9c179e\"],[0.4444444444444444,\"#bd3786\"],[0.5555555555555556,\"#d8576b\"],[0.6666666666666666,\"#ed7953\"],[0.7777777777777778,\"#fb9f3a\"],[0.8888888888888888,\"#fdca26\"],[1.0,\"#f0f921\"]],\"type\":\"contour\"}],\"contourcarpet\":[{\"colorbar\":{\"outlinewidth\":0,\"ticks\":\"\"},\"type\":\"contourcarpet\"}],\"heatmap\":[{\"colorbar\":{\"outlinewidth\":0,\"ticks\":\"\"},\"colorscale\":[[0.0,\"#0d0887\"],[0.1111111111111111,\"#46039f\"],[0.2222222222222222,\"#7201a8\"],[0.3333333333333333,\"#9c179e\"],[0.4444444444444444,\"#bd3786\"],[0.5555555555555556,\"#d8576b\"],[0.6666666666666666,\"#ed7953\"],[0.7777777777777778,\"#fb9f3a\"],[0.8888888888888888,\"#fdca26\"],[1.0,\"#f0f921\"]],\"type\":\"heatmap\"}],\"heatmapgl\":[{\"colorbar\":{\"outlinewidth\":0,\"ticks\":\"\"},\"colorscale\":[[0.0,\"#0d0887\"],[0.1111111111111111,\"#46039f\"],[0.2222222222222222,\"#7201a8\"],[0.3333333333333333,\"#9c179e\"],[0.4444444444444444,\"#bd3786\"],[0.5555555555555556,\"#d8576b\"],[0.6666666666666666,\"#ed7953\"],[0.7777777777777778,\"#fb9f3a\"],[0.8888888888888888,\"#fdca26\"],[1.0,\"#f0f921\"]],\"type\":\"heatmapgl\"}],\"histogram\":[{\"marker\":{\"pattern\":{\"fillmode\":\"overlay\",\"size\":10,\"solidity\":0.2}},\"type\":\"histogram\"}],\"histogram2d\":[{\"colorbar\":{\"outlinewidth\":0,\"ticks\":\"\"},\"colorscale\":[[0.0,\"#0d0887\"],[0.1111111111111111,\"#46039f\"],[0.2222222222222222,\"#7201a8\"],[0.3333333333333333,\"#9c179e\"],[0.4444444444444444,\"#bd3786\"],[0.5555555555555556,\"#d8576b\"],[0.6666666666666666,\"#ed7953\"],[0.7777777777777778,\"#fb9f3a\"],[0.8888888888888888,\"#fdca26\"],[1.0,\"#f0f921\"]],\"type\":\"histogram2d\"}],\"histogram2dcontour\":[{\"colorbar\":{\"outlinewidth\":0,\"ticks\":\"\"},\"colorscale\":[[0.0,\"#0d0887\"],[0.1111111111111111,\"#46039f\"],[0.2222222222222222,\"#7201a8\"],[0.3333333333333333,\"#9c179e\"],[0.4444444444444444,\"#bd3786\"],[0.5555555555555556,\"#d8576b\"],[0.6666666666666666,\"#ed7953\"],[0.7777777777777778,\"#fb9f3a\"],[0.8888888888888888,\"#fdca26\"],[1.0,\"#f0f921\"]],\"type\":\"histogram2dcontour\"}],\"mesh3d\":[{\"colorbar\":{\"outlinewidth\":0,\"ticks\":\"\"},\"type\":\"mesh3d\"}],\"parcoords\":[{\"line\":{\"colorbar\":{\"outlinewidth\":0,\"ticks\":\"\"}},\"type\":\"parcoords\"}],\"pie\":[{\"automargin\":true,\"type\":\"pie\"}],\"scatter\":[{\"marker\":{\"colorbar\":{\"outlinewidth\":0,\"ticks\":\"\"}},\"type\":\"scatter\"}],\"scatter3d\":[{\"line\":{\"colorbar\":{\"outlinewidth\":0,\"ticks\":\"\"}},\"marker\":{\"colorbar\":{\"outlinewidth\":0,\"ticks\":\"\"}},\"type\":\"scatter3d\"}],\"scattercarpet\":[{\"marker\":{\"colorbar\":{\"outlinewidth\":0,\"ticks\":\"\"}},\"type\":\"scattercarpet\"}],\"scattergeo\":[{\"marker\":{\"colorbar\":{\"outlinewidth\":0,\"ticks\":\"\"}},\"type\":\"scattergeo\"}],\"scattergl\":[{\"marker\":{\"colorbar\":{\"outlinewidth\":0,\"ticks\":\"\"}},\"type\":\"scattergl\"}],\"scattermapbox\":[{\"marker\":{\"colorbar\":{\"outlinewidth\":0,\"ticks\":\"\"}},\"type\":\"scattermapbox\"}],\"scatterpolar\":[{\"marker\":{\"colorbar\":{\"outlinewidth\":0,\"ticks\":\"\"}},\"type\":\"scatterpolar\"}],\"scatterpolargl\":[{\"marker\":{\"colorbar\":{\"outlinewidth\":0,\"ticks\":\"\"}},\"type\":\"scatterpolargl\"}],\"scatterternary\":[{\"marker\":{\"colorbar\":{\"outlinewidth\":0,\"ticks\":\"\"}},\"type\":\"scatterternary\"}],\"surface\":[{\"colorbar\":{\"outlinewidth\":0,\"ticks\":\"\"},\"colorscale\":[[0.0,\"#0d0887\"],[0.1111111111111111,\"#46039f\"],[0.2222222222222222,\"#7201a8\"],[0.3333333333333333,\"#9c179e\"],[0.4444444444444444,\"#bd3786\"],[0.5555555555555556,\"#d8576b\"],[0.6666666666666666,\"#ed7953\"],[0.7777777777777778,\"#fb9f3a\"],[0.8888888888888888,\"#fdca26\"],[1.0,\"#f0f921\"]],\"type\":\"surface\"}],\"table\":[{\"cells\":{\"fill\":{\"color\":\"#EBF0F8\"},\"line\":{\"color\":\"white\"}},\"header\":{\"fill\":{\"color\":\"#C8D4E3\"},\"line\":{\"color\":\"white\"}},\"type\":\"table\"}]},\"layout\":{\"annotationdefaults\":{\"arrowcolor\":\"#2a3f5f\",\"arrowhead\":0,\"arrowwidth\":1},\"autotypenumbers\":\"strict\",\"coloraxis\":{\"colorbar\":{\"outlinewidth\":0,\"ticks\":\"\"}},\"colorscale\":{\"diverging\":[[0,\"#8e0152\"],[0.1,\"#c51b7d\"],[0.2,\"#de77ae\"],[0.3,\"#f1b6da\"],[0.4,\"#fde0ef\"],[0.5,\"#f7f7f7\"],[0.6,\"#e6f5d0\"],[0.7,\"#b8e186\"],[0.8,\"#7fbc41\"],[0.9,\"#4d9221\"],[1,\"#276419\"]],\"sequential\":[[0.0,\"#0d0887\"],[0.1111111111111111,\"#46039f\"],[0.2222222222222222,\"#7201a8\"],[0.3333333333333333,\"#9c179e\"],[0.4444444444444444,\"#bd3786\"],[0.5555555555555556,\"#d8576b\"],[0.6666666666666666,\"#ed7953\"],[0.7777777777777778,\"#fb9f3a\"],[0.8888888888888888,\"#fdca26\"],[1.0,\"#f0f921\"]],\"sequentialminus\":[[0.0,\"#0d0887\"],[0.1111111111111111,\"#46039f\"],[0.2222222222222222,\"#7201a8\"],[0.3333333333333333,\"#9c179e\"],[0.4444444444444444,\"#bd3786\"],[0.5555555555555556,\"#d8576b\"],[0.6666666666666666,\"#ed7953\"],[0.7777777777777778,\"#fb9f3a\"],[0.8888888888888888,\"#fdca26\"],[1.0,\"#f0f921\"]]},\"colorway\":[\"#636efa\",\"#EF553B\",\"#00cc96\",\"#ab63fa\",\"#FFA15A\",\"#19d3f3\",\"#FF6692\",\"#B6E880\",\"#FF97FF\",\"#FECB52\"],\"font\":{\"color\":\"#2a3f5f\"},\"geo\":{\"bgcolor\":\"white\",\"lakecolor\":\"white\",\"landcolor\":\"white\",\"showlakes\":true,\"showland\":true,\"subunitcolor\":\"#C8D4E3\"},\"hoverlabel\":{\"align\":\"left\"},\"hovermode\":\"closest\",\"mapbox\":{\"style\":\"light\"},\"paper_bgcolor\":\"white\",\"plot_bgcolor\":\"white\",\"polar\":{\"angularaxis\":{\"gridcolor\":\"#EBF0F8\",\"linecolor\":\"#EBF0F8\",\"ticks\":\"\"},\"bgcolor\":\"white\",\"radialaxis\":{\"gridcolor\":\"#EBF0F8\",\"linecolor\":\"#EBF0F8\",\"ticks\":\"\"}},\"scene\":{\"xaxis\":{\"backgroundcolor\":\"white\",\"gridcolor\":\"#DFE8F3\",\"gridwidth\":2,\"linecolor\":\"#EBF0F8\",\"showbackground\":true,\"ticks\":\"\",\"zerolinecolor\":\"#EBF0F8\"},\"yaxis\":{\"backgroundcolor\":\"white\",\"gridcolor\":\"#DFE8F3\",\"gridwidth\":2,\"linecolor\":\"#EBF0F8\",\"showbackground\":true,\"ticks\":\"\",\"zerolinecolor\":\"#EBF0F8\"},\"zaxis\":{\"backgroundcolor\":\"white\",\"gridcolor\":\"#DFE8F3\",\"gridwidth\":2,\"linecolor\":\"#EBF0F8\",\"showbackground\":true,\"ticks\":\"\",\"zerolinecolor\":\"#EBF0F8\"}},\"shapedefaults\":{\"line\":{\"color\":\"#2a3f5f\"}},\"ternary\":{\"aaxis\":{\"gridcolor\":\"#DFE8F3\",\"linecolor\":\"#A2B1C6\",\"ticks\":\"\"},\"baxis\":{\"gridcolor\":\"#DFE8F3\",\"linecolor\":\"#A2B1C6\",\"ticks\":\"\"},\"bgcolor\":\"white\",\"caxis\":{\"gridcolor\":\"#DFE8F3\",\"linecolor\":\"#A2B1C6\",\"ticks\":\"\"}},\"title\":{\"x\":0.05},\"xaxis\":{\"automargin\":true,\"gridcolor\":\"#EBF0F8\",\"linecolor\":\"#EBF0F8\",\"ticks\":\"\",\"title\":{\"standoff\":15},\"zerolinecolor\":\"#EBF0F8\",\"zerolinewidth\":2},\"yaxis\":{\"automargin\":true,\"gridcolor\":\"#EBF0F8\",\"linecolor\":\"#EBF0F8\",\"ticks\":\"\",\"title\":{\"standoff\":15},\"zerolinecolor\":\"#EBF0F8\",\"zerolinewidth\":2}}},\"title\":{\"text\":\"Phantom dec - 37\\u00b0C Z-spectrum - 20mM, pH 7\",\"x\":0.02,\"y\":0.97},\"width\":700,\"xaxis\":{\"anchor\":\"y\",\"autorange\":\"reversed\",\"domain\":[0.0,0.495],\"dtick\":1,\"tick0\":0,\"tickmode\":\"linear\"},\"xaxis2\":{\"anchor\":\"y2\",\"autorange\":\"reversed\",\"domain\":[0.505,1.0],\"dtick\":1,\"tick0\":0,\"tickmode\":\"linear\"},\"yaxis\":{\"anchor\":\"x\",\"domain\":[0.0,1.0],\"dtick\":0.2,\"range\":[-0.1,1.15],\"tick0\":0,\"tickmode\":\"linear\",\"title\":{\"standoff\":2,\"text\":\"$M_{sat}/M_0$\"}},\"yaxis2\":{\"anchor\":\"x2\",\"domain\":[0.0,1.0],\"dtick\":0.2,\"range\":[-0.1,1.15],\"tick0\":0,\"tickmode\":\"linear\"}},                        {\"responsive\": true}                    ).then(function(){\n                            \nvar gd = document.getElementById('a987c9ae-c117-4af6-a2d5-9c8e20f70110');\nvar x = new MutationObserver(function (mutations, observer) {{\n        var display = window.getComputedStyle(gd).display;\n        if (!display || display === 'none') {{\n            console.log([gd, 'removed!']);\n            Plotly.purge(gd);\n            observer.disconnect();\n        }}\n}});\n\n// Listen for the removal of the full notebook cells\nvar notebookContainer = gd.closest('#notebook-container');\nif (notebookContainer) {{\n    x.observe(notebookContainer, {childList: true});\n}}\n\n// Listen for the clearing of the current output cell\nvar outputEl = gd.closest('.output');\nif (outputEl) {{\n    x.observe(outputEl, {childList: true});\n}}\n\n                        })                };                });            </script>        </div>"
     },
     "metadata": {},
     "output_type": "display_data"
    },
    {
     "name": "stdout",
     "output_type": "stream",
     "text": [
      "[[Model]]\n",
      "    Model(<lambda>)\n",
      "[[Fit Statistics]]\n",
      "    # fitting method   = least_squares\n",
      "    # function evals   = 1020\n",
      "    # data points      = 114\n",
      "    # variables        = 3\n",
      "    chi-square         = 0.02700945\n",
      "    reduced chi-square = 2.4333e-04\n",
      "    Akaike info crit   = -945.645413\n",
      "    Bayesian info crit = -937.436818\n",
      "    R-squared          = 0.99712566\n",
      "##  Warning: uncertainties could not be estimated:\n",
      "    t2s:  at boundary\n",
      "[[Variables]]\n",
      "    kb:   8145.71713 (init = 7500)\n",
      "    t1w:  4 (fixed)\n",
      "    t2w:  1.8 (fixed)\n",
      "    tp:   3 (fixed)\n",
      "    fb:   0.0005454545 (fixed)\n",
      "    t1s:  1.00178492 (init = 2)\n",
      "    t2s:  0.00700000 (init = 0.05)\n"
     ]
    },
    {
     "data": {
      "application/vnd.plotly.v1+json": {
       "config": {
        "plotlyServerURL": "https://plot.ly"
       },
       "data": [
        {
         "legendgroup": "1_1_1",
         "line": {
          "color": "#ff7f0e"
         },
         "name": "real z",
         "showlegend": true,
         "type": "scatter",
         "x": [
          7.0,
          6.75,
          6.5,
          6.25,
          6.0,
          5.75,
          5.5,
          5.25,
          5.0,
          4.75,
          4.5,
          4.25,
          4.0,
          3.75,
          3.5,
          3.25,
          3.0,
          2.75,
          2.5,
          2.25,
          2.0,
          1.75,
          1.5,
          1.25,
          1.0,
          0.75,
          0.5,
          0.25,
          0.0,
          -0.25,
          -0.5,
          -0.75,
          -1.0,
          -1.25,
          -1.5,
          -1.75,
          -2.0,
          -2.25,
          -2.5,
          -2.75,
          -3.0,
          -3.25,
          -3.5,
          -3.75,
          -4.0,
          -4.25,
          -4.5,
          -4.75,
          -5.0,
          -5.25,
          -5.5,
          -5.75,
          -6.0,
          -6.25,
          -6.5,
          -6.75,
          -7.0
         ],
         "xaxis": "x",
         "y": [
          0.9186759431386413,
          0.9168374621012958,
          0.9139431055998037,
          0.9102617670166048,
          0.9076257724822429,
          0.9048914813849775,
          0.9001168402965869,
          0.895814956681162,
          0.8909219416925713,
          0.8859208814876104,
          0.8783892826364069,
          0.8690457467615409,
          0.8592993858658443,
          0.8479612518765081,
          0.8343566545459885,
          0.816935008448974,
          0.7972971196559704,
          0.7735221510138898,
          0.7436262500756599,
          0.7065302761091852,
          0.6617773243246772,
          0.6053014707034301,
          0.5328864806678376,
          0.4430770955124008,
          0.33533851052068747,
          0.21767431243257448,
          0.10745130918423237,
          0.029358369053402198,
          0.003602078896232815,
          0.03341071334164625,
          0.12463057217003908,
          0.2569435820454793,
          0.3965482444103236,
          0.5176633092554741,
          0.6143931134676713,
          0.6868850444126811,
          0.7406831169081727,
          0.7810228465397834,
          0.812673902069337,
          0.837555227243984,
          0.855790523760887,
          0.8694100656087492,
          0.8814287141261613,
          0.891729902509097,
          0.8989174709133151,
          0.9053046279162994,
          0.9100625382762286,
          0.9142242393888315,
          0.9168832372655334,
          0.9178307009307015,
          0.9209585798048368,
          0.9229340996944225,
          0.9239794721023615,
          0.9240915338273379,
          0.9265805586357401,
          0.9287080948634986,
          0.9288726519554417
         ],
         "yaxis": "y"
        },
        {
         "legendgroup": "1_1_1",
         "line": {
          "color": "#ff7f0e"
         },
         "name": "fit z",
         "opacity": 0.5,
         "showlegend": true,
         "type": "scatter",
         "x": [
          7.0,
          6.75,
          6.5,
          6.25,
          6.0,
          5.75,
          5.5,
          5.25,
          5.0,
          4.75,
          4.5,
          4.25,
          4.0,
          3.75,
          3.5,
          3.25,
          3.0,
          2.75,
          2.5,
          2.25,
          2.0,
          1.75,
          1.5,
          1.25,
          1.0,
          0.75,
          0.5,
          0.25,
          0.0,
          -0.25,
          -0.5,
          -0.75,
          -1.0,
          -1.25,
          -1.5,
          -1.75,
          -2.0,
          -2.25,
          -2.5,
          -2.75,
          -3.0,
          -3.25,
          -3.5,
          -3.75,
          -4.0,
          -4.25,
          -4.5,
          -4.75,
          -5.0,
          -5.25,
          -5.5,
          -5.75,
          -6.0,
          -6.25,
          -6.5,
          -6.75,
          -7.0
         ],
         "xaxis": "x",
         "y": [
          0.9411707743508086,
          0.9387012454344517,
          0.9358900166847574,
          0.9326839230682965,
          0.9290214339601258,
          0.9248313856861355,
          0.9200314596513635,
          0.9145262777741121,
          0.9082049029029984,
          0.9009374066136763,
          0.8925699886591059,
          0.8829178893272615,
          0.8717550146612333,
          0.8587987768990044,
          0.8436881106232416,
          0.8259519198415952,
          0.8049643161990439,
          0.7798820181374294,
          0.7495587608993476,
          0.7124335822443102,
          0.6664008405876451,
          0.6087083098719752,
          0.5360445793293269,
          0.4452755779251667,
          0.33587628649752027,
          0.2152894464392116,
          0.10407677510897376,
          0.027506303315565032,
          1.3156582019615532E-23,
          0.029844419624461327,
          0.121523649950209,
          0.2609777059801272,
          0.408450913690964,
          0.5345836449500603,
          0.6323178458657803,
          0.7053273387073575,
          0.7594930514421824,
          0.7999392473827361,
          0.8305070419940025,
          0.8539345924037449,
          0.8721472063536674,
          0.8865012143737824,
          0.8979606723523561,
          0.9072190665034214,
          0.9147818230850153,
          0.9210222122552562,
          0.9262194768996386,
          0.9305851019977368,
          0.9342811256935966,
          0.9374330600889124,
          0.9401391207667013,
          0.9424768988016102,
          0.9445082396956389,
          0.9462828504501434,
          0.9478409942244324,
          0.9492155232988576,
          0.9504334271650627
         ],
         "yaxis": "y"
        },
        {
         "legendgroup": "1_2_1",
         "line": {
          "color": "#ff7f0e"
         },
         "name": "real z",
         "showlegend": false,
         "type": "scatter",
         "x": [
          7.0,
          6.75,
          6.5,
          6.25,
          6.0,
          5.75,
          5.5,
          5.25,
          5.0,
          4.75,
          4.5,
          4.25,
          4.0,
          3.75,
          3.5,
          3.25,
          3.0,
          2.75,
          2.5,
          2.25,
          2.0,
          1.75,
          1.5,
          1.25,
          1.0,
          0.75,
          0.5,
          0.25,
          0.0,
          -0.25,
          -0.5,
          -0.75,
          -1.0,
          -1.25,
          -1.5,
          -1.75,
          -2.0,
          -2.25,
          -2.5,
          -2.75,
          -3.0,
          -3.25,
          -3.5,
          -3.75,
          -4.0,
          -4.25,
          -4.5,
          -4.75,
          -5.0,
          -5.25,
          -5.5,
          -5.75,
          -6.0,
          -6.25,
          -6.5,
          -6.75,
          -7.0
         ],
         "xaxis": "x2",
         "y": [
          0.8866795402713699,
          0.8814963306433485,
          0.8752253686137044,
          0.8673262921872968,
          0.861449995866085,
          0.8538679859037765,
          0.844193836173093,
          0.832656060377243,
          0.8205287927037999,
          0.8090249929273384,
          0.7946093067189732,
          0.77785548799269,
          0.7600070418437345,
          0.7403592688885073,
          0.7164508573088485,
          0.6868804304185112,
          0.6547680959486247,
          0.6191961882974427,
          0.5759021028888872,
          0.5249619343406359,
          0.46766810478559545,
          0.40328203823962433,
          0.3308270841301019,
          0.2528032949310336,
          0.1759446649332219,
          0.1063353724190097,
          0.05166997618190636,
          0.014931301372955877,
          0.003389327148519557,
          0.01591524396485015,
          0.0584398707548822,
          0.12890039952242194,
          0.21856249541163955,
          0.3178752663032444,
          0.41414634023960795,
          0.4998661415257736,
          0.5718151806473281,
          0.6308190831867972,
          0.6795642557813847,
          0.7208123867702912,
          0.7527083540335017,
          0.7776423034260647,
          0.8006562483251908,
          0.8192859112852927,
          0.8326547463152943,
          0.8440345528313306,
          0.8547492134415414,
          0.8638148495331535,
          0.8710166795727861,
          0.8763493132622585,
          0.8839423697871337,
          0.8897869187721794,
          0.8944651877293467,
          0.8970573318442628,
          0.901236172949219,
          0.905616543640658,
          0.9069532217761722
         ],
         "yaxis": "y2"
        },
        {
         "legendgroup": "1_2_1",
         "line": {
          "color": "#ff7f0e"
         },
         "name": "fit z",
         "opacity": 0.5,
         "showlegend": false,
         "type": "scatter",
         "x": [
          7.0,
          6.75,
          6.5,
          6.25,
          6.0,
          5.75,
          5.5,
          5.25,
          5.0,
          4.75,
          4.5,
          4.25,
          4.0,
          3.75,
          3.5,
          3.25,
          3.0,
          2.75,
          2.5,
          2.25,
          2.0,
          1.75,
          1.5,
          1.25,
          1.0,
          0.75,
          0.5,
          0.25,
          0.0,
          -0.25,
          -0.5,
          -0.75,
          -1.0,
          -1.25,
          -1.5,
          -1.75,
          -2.0,
          -2.25,
          -2.5,
          -2.75,
          -3.0,
          -3.25,
          -3.5,
          -3.75,
          -4.0,
          -4.25,
          -4.5,
          -4.75,
          -5.0,
          -5.25,
          -5.5,
          -5.75,
          -6.0,
          -6.25,
          -6.5,
          -6.75,
          -7.0
         ],
         "xaxis": "x2",
         "y": [
          0.9034072939845983,
          0.8982583339173622,
          0.8924303293679893,
          0.8858261189722101,
          0.8783357543558098,
          0.8698353452134403,
          0.8601858449213502,
          0.8492316773746764,
          0.836799013064322,
          0.8226933768899578,
          0.8066961223411723,
          0.7885591659838783,
          0.7679973001047131,
          0.7446774859656806,
          0.7182049276006571,
          0.6881066832231563,
          0.6538155163081437,
          0.6146604025421162,
          0.5698769935660769,
          0.518663621196425,
          0.460328493177956,
          0.3945997044175395,
          0.32217945729129294,
          0.2455365807687007,
          0.169580097180313,
          0.10124589834898241,
          0.04729978599174743,
          0.012394588466889475,
          5.9039008665385605E-24,
          0.013422072142219492,
          0.05540774631293446,
          0.12671987627507555,
          0.22099586512408909,
          0.3244786233818315,
          0.42393478209685626,
          0.5118251797987494,
          0.5858427040670018,
          0.6466304004412902,
          0.6960003048938417,
          0.7359821915501602,
          0.7684233202473744,
          0.7948675895439765,
          0.8165545918958264,
          0.8344608529077927,
          0.8493496288927804,
          0.8618165181269011,
          0.8723272181125952,
          0.8812473562396343,
          0.8888655245574429,
          0.8954108772354745,
          0.9010665218012295,
          0.9059797107186492,
          0.9102696176415177,
          0.9140332947853871,
          0.9173502594712787,
          0.9202860446304598,
          0.9228949631262637
         ],
         "yaxis": "y2"
        }
       ],
       "layout": {
        "annotations": [
         {
          "font": {
           "size": 16
          },
          "showarrow": false,
          "text": "4uT",
          "x": 0.2475,
          "xanchor": "center",
          "xref": "paper",
          "y": 1.0,
          "yanchor": "bottom",
          "yref": "paper"
         },
         {
          "font": {
           "size": 16
          },
          "showarrow": false,
          "text": "6uT",
          "x": 0.7525,
          "xanchor": "center",
          "xref": "paper",
          "y": 1.0,
          "yanchor": "bottom",
          "yref": "paper"
         }
        ],
        "height": 300,
        "margin": {
         "b": 0,
         "l": 45,
         "r": 0,
         "t": 50
        },
        "template": {
         "data": {
          "bar": [
           {
            "error_x": {
             "color": "#2a3f5f"
            },
            "error_y": {
             "color": "#2a3f5f"
            },
            "marker": {
             "line": {
              "color": "white",
              "width": 0.5
             },
             "pattern": {
              "fillmode": "overlay",
              "size": 10,
              "solidity": 0.2
             }
            },
            "type": "bar"
           }
          ],
          "barpolar": [
           {
            "marker": {
             "line": {
              "color": "white",
              "width": 0.5
             },
             "pattern": {
              "fillmode": "overlay",
              "size": 10,
              "solidity": 0.2
             }
            },
            "type": "barpolar"
           }
          ],
          "carpet": [
           {
            "aaxis": {
             "endlinecolor": "#2a3f5f",
             "gridcolor": "#C8D4E3",
             "linecolor": "#C8D4E3",
             "minorgridcolor": "#C8D4E3",
             "startlinecolor": "#2a3f5f"
            },
            "baxis": {
             "endlinecolor": "#2a3f5f",
             "gridcolor": "#C8D4E3",
             "linecolor": "#C8D4E3",
             "minorgridcolor": "#C8D4E3",
             "startlinecolor": "#2a3f5f"
            },
            "type": "carpet"
           }
          ],
          "choropleth": [
           {
            "colorbar": {
             "outlinewidth": 0,
             "ticks": ""
            },
            "type": "choropleth"
           }
          ],
          "contour": [
           {
            "colorbar": {
             "outlinewidth": 0,
             "ticks": ""
            },
            "colorscale": [
             [
              0.0,
              "#0d0887"
             ],
             [
              0.1111111111111111,
              "#46039f"
             ],
             [
              0.2222222222222222,
              "#7201a8"
             ],
             [
              0.3333333333333333,
              "#9c179e"
             ],
             [
              0.4444444444444444,
              "#bd3786"
             ],
             [
              0.5555555555555556,
              "#d8576b"
             ],
             [
              0.6666666666666666,
              "#ed7953"
             ],
             [
              0.7777777777777778,
              "#fb9f3a"
             ],
             [
              0.8888888888888888,
              "#fdca26"
             ],
             [
              1.0,
              "#f0f921"
             ]
            ],
            "type": "contour"
           }
          ],
          "contourcarpet": [
           {
            "colorbar": {
             "outlinewidth": 0,
             "ticks": ""
            },
            "type": "contourcarpet"
           }
          ],
          "heatmap": [
           {
            "colorbar": {
             "outlinewidth": 0,
             "ticks": ""
            },
            "colorscale": [
             [
              0.0,
              "#0d0887"
             ],
             [
              0.1111111111111111,
              "#46039f"
             ],
             [
              0.2222222222222222,
              "#7201a8"
             ],
             [
              0.3333333333333333,
              "#9c179e"
             ],
             [
              0.4444444444444444,
              "#bd3786"
             ],
             [
              0.5555555555555556,
              "#d8576b"
             ],
             [
              0.6666666666666666,
              "#ed7953"
             ],
             [
              0.7777777777777778,
              "#fb9f3a"
             ],
             [
              0.8888888888888888,
              "#fdca26"
             ],
             [
              1.0,
              "#f0f921"
             ]
            ],
            "type": "heatmap"
           }
          ],
          "heatmapgl": [
           {
            "colorbar": {
             "outlinewidth": 0,
             "ticks": ""
            },
            "colorscale": [
             [
              0.0,
              "#0d0887"
             ],
             [
              0.1111111111111111,
              "#46039f"
             ],
             [
              0.2222222222222222,
              "#7201a8"
             ],
             [
              0.3333333333333333,
              "#9c179e"
             ],
             [
              0.4444444444444444,
              "#bd3786"
             ],
             [
              0.5555555555555556,
              "#d8576b"
             ],
             [
              0.6666666666666666,
              "#ed7953"
             ],
             [
              0.7777777777777778,
              "#fb9f3a"
             ],
             [
              0.8888888888888888,
              "#fdca26"
             ],
             [
              1.0,
              "#f0f921"
             ]
            ],
            "type": "heatmapgl"
           }
          ],
          "histogram": [
           {
            "marker": {
             "pattern": {
              "fillmode": "overlay",
              "size": 10,
              "solidity": 0.2
             }
            },
            "type": "histogram"
           }
          ],
          "histogram2d": [
           {
            "colorbar": {
             "outlinewidth": 0,
             "ticks": ""
            },
            "colorscale": [
             [
              0.0,
              "#0d0887"
             ],
             [
              0.1111111111111111,
              "#46039f"
             ],
             [
              0.2222222222222222,
              "#7201a8"
             ],
             [
              0.3333333333333333,
              "#9c179e"
             ],
             [
              0.4444444444444444,
              "#bd3786"
             ],
             [
              0.5555555555555556,
              "#d8576b"
             ],
             [
              0.6666666666666666,
              "#ed7953"
             ],
             [
              0.7777777777777778,
              "#fb9f3a"
             ],
             [
              0.8888888888888888,
              "#fdca26"
             ],
             [
              1.0,
              "#f0f921"
             ]
            ],
            "type": "histogram2d"
           }
          ],
          "histogram2dcontour": [
           {
            "colorbar": {
             "outlinewidth": 0,
             "ticks": ""
            },
            "colorscale": [
             [
              0.0,
              "#0d0887"
             ],
             [
              0.1111111111111111,
              "#46039f"
             ],
             [
              0.2222222222222222,
              "#7201a8"
             ],
             [
              0.3333333333333333,
              "#9c179e"
             ],
             [
              0.4444444444444444,
              "#bd3786"
             ],
             [
              0.5555555555555556,
              "#d8576b"
             ],
             [
              0.6666666666666666,
              "#ed7953"
             ],
             [
              0.7777777777777778,
              "#fb9f3a"
             ],
             [
              0.8888888888888888,
              "#fdca26"
             ],
             [
              1.0,
              "#f0f921"
             ]
            ],
            "type": "histogram2dcontour"
           }
          ],
          "mesh3d": [
           {
            "colorbar": {
             "outlinewidth": 0,
             "ticks": ""
            },
            "type": "mesh3d"
           }
          ],
          "parcoords": [
           {
            "line": {
             "colorbar": {
              "outlinewidth": 0,
              "ticks": ""
             }
            },
            "type": "parcoords"
           }
          ],
          "pie": [
           {
            "automargin": true,
            "type": "pie"
           }
          ],
          "scatter": [
           {
            "marker": {
             "colorbar": {
              "outlinewidth": 0,
              "ticks": ""
             }
            },
            "type": "scatter"
           }
          ],
          "scatter3d": [
           {
            "line": {
             "colorbar": {
              "outlinewidth": 0,
              "ticks": ""
             }
            },
            "marker": {
             "colorbar": {
              "outlinewidth": 0,
              "ticks": ""
             }
            },
            "type": "scatter3d"
           }
          ],
          "scattercarpet": [
           {
            "marker": {
             "colorbar": {
              "outlinewidth": 0,
              "ticks": ""
             }
            },
            "type": "scattercarpet"
           }
          ],
          "scattergeo": [
           {
            "marker": {
             "colorbar": {
              "outlinewidth": 0,
              "ticks": ""
             }
            },
            "type": "scattergeo"
           }
          ],
          "scattergl": [
           {
            "marker": {
             "colorbar": {
              "outlinewidth": 0,
              "ticks": ""
             }
            },
            "type": "scattergl"
           }
          ],
          "scattermapbox": [
           {
            "marker": {
             "colorbar": {
              "outlinewidth": 0,
              "ticks": ""
             }
            },
            "type": "scattermapbox"
           }
          ],
          "scatterpolar": [
           {
            "marker": {
             "colorbar": {
              "outlinewidth": 0,
              "ticks": ""
             }
            },
            "type": "scatterpolar"
           }
          ],
          "scatterpolargl": [
           {
            "marker": {
             "colorbar": {
              "outlinewidth": 0,
              "ticks": ""
             }
            },
            "type": "scatterpolargl"
           }
          ],
          "scatterternary": [
           {
            "marker": {
             "colorbar": {
              "outlinewidth": 0,
              "ticks": ""
             }
            },
            "type": "scatterternary"
           }
          ],
          "surface": [
           {
            "colorbar": {
             "outlinewidth": 0,
             "ticks": ""
            },
            "colorscale": [
             [
              0.0,
              "#0d0887"
             ],
             [
              0.1111111111111111,
              "#46039f"
             ],
             [
              0.2222222222222222,
              "#7201a8"
             ],
             [
              0.3333333333333333,
              "#9c179e"
             ],
             [
              0.4444444444444444,
              "#bd3786"
             ],
             [
              0.5555555555555556,
              "#d8576b"
             ],
             [
              0.6666666666666666,
              "#ed7953"
             ],
             [
              0.7777777777777778,
              "#fb9f3a"
             ],
             [
              0.8888888888888888,
              "#fdca26"
             ],
             [
              1.0,
              "#f0f921"
             ]
            ],
            "type": "surface"
           }
          ],
          "table": [
           {
            "cells": {
             "fill": {
              "color": "#EBF0F8"
             },
             "line": {
              "color": "white"
             }
            },
            "header": {
             "fill": {
              "color": "#C8D4E3"
             },
             "line": {
              "color": "white"
             }
            },
            "type": "table"
           }
          ]
         },
         "layout": {
          "annotationdefaults": {
           "arrowcolor": "#2a3f5f",
           "arrowhead": 0,
           "arrowwidth": 1
          },
          "autotypenumbers": "strict",
          "coloraxis": {
           "colorbar": {
            "outlinewidth": 0,
            "ticks": ""
           }
          },
          "colorscale": {
           "diverging": [
            [
             0,
             "#8e0152"
            ],
            [
             0.1,
             "#c51b7d"
            ],
            [
             0.2,
             "#de77ae"
            ],
            [
             0.3,
             "#f1b6da"
            ],
            [
             0.4,
             "#fde0ef"
            ],
            [
             0.5,
             "#f7f7f7"
            ],
            [
             0.6,
             "#e6f5d0"
            ],
            [
             0.7,
             "#b8e186"
            ],
            [
             0.8,
             "#7fbc41"
            ],
            [
             0.9,
             "#4d9221"
            ],
            [
             1,
             "#276419"
            ]
           ],
           "sequential": [
            [
             0.0,
             "#0d0887"
            ],
            [
             0.1111111111111111,
             "#46039f"
            ],
            [
             0.2222222222222222,
             "#7201a8"
            ],
            [
             0.3333333333333333,
             "#9c179e"
            ],
            [
             0.4444444444444444,
             "#bd3786"
            ],
            [
             0.5555555555555556,
             "#d8576b"
            ],
            [
             0.6666666666666666,
             "#ed7953"
            ],
            [
             0.7777777777777778,
             "#fb9f3a"
            ],
            [
             0.8888888888888888,
             "#fdca26"
            ],
            [
             1.0,
             "#f0f921"
            ]
           ],
           "sequentialminus": [
            [
             0.0,
             "#0d0887"
            ],
            [
             0.1111111111111111,
             "#46039f"
            ],
            [
             0.2222222222222222,
             "#7201a8"
            ],
            [
             0.3333333333333333,
             "#9c179e"
            ],
            [
             0.4444444444444444,
             "#bd3786"
            ],
            [
             0.5555555555555556,
             "#d8576b"
            ],
            [
             0.6666666666666666,
             "#ed7953"
            ],
            [
             0.7777777777777778,
             "#fb9f3a"
            ],
            [
             0.8888888888888888,
             "#fdca26"
            ],
            [
             1.0,
             "#f0f921"
            ]
           ]
          },
          "colorway": [
           "#636efa",
           "#EF553B",
           "#00cc96",
           "#ab63fa",
           "#FFA15A",
           "#19d3f3",
           "#FF6692",
           "#B6E880",
           "#FF97FF",
           "#FECB52"
          ],
          "font": {
           "color": "#2a3f5f"
          },
          "geo": {
           "bgcolor": "white",
           "lakecolor": "white",
           "landcolor": "white",
           "showlakes": true,
           "showland": true,
           "subunitcolor": "#C8D4E3"
          },
          "hoverlabel": {
           "align": "left"
          },
          "hovermode": "closest",
          "mapbox": {
           "style": "light"
          },
          "paper_bgcolor": "white",
          "plot_bgcolor": "white",
          "polar": {
           "angularaxis": {
            "gridcolor": "#EBF0F8",
            "linecolor": "#EBF0F8",
            "ticks": ""
           },
           "bgcolor": "white",
           "radialaxis": {
            "gridcolor": "#EBF0F8",
            "linecolor": "#EBF0F8",
            "ticks": ""
           }
          },
          "scene": {
           "xaxis": {
            "backgroundcolor": "white",
            "gridcolor": "#DFE8F3",
            "gridwidth": 2,
            "linecolor": "#EBF0F8",
            "showbackground": true,
            "ticks": "",
            "zerolinecolor": "#EBF0F8"
           },
           "yaxis": {
            "backgroundcolor": "white",
            "gridcolor": "#DFE8F3",
            "gridwidth": 2,
            "linecolor": "#EBF0F8",
            "showbackground": true,
            "ticks": "",
            "zerolinecolor": "#EBF0F8"
           },
           "zaxis": {
            "backgroundcolor": "white",
            "gridcolor": "#DFE8F3",
            "gridwidth": 2,
            "linecolor": "#EBF0F8",
            "showbackground": true,
            "ticks": "",
            "zerolinecolor": "#EBF0F8"
           }
          },
          "shapedefaults": {
           "line": {
            "color": "#2a3f5f"
           }
          },
          "ternary": {
           "aaxis": {
            "gridcolor": "#DFE8F3",
            "linecolor": "#A2B1C6",
            "ticks": ""
           },
           "baxis": {
            "gridcolor": "#DFE8F3",
            "linecolor": "#A2B1C6",
            "ticks": ""
           },
           "bgcolor": "white",
           "caxis": {
            "gridcolor": "#DFE8F3",
            "linecolor": "#A2B1C6",
            "ticks": ""
           }
          },
          "title": {
           "x": 0.05
          },
          "xaxis": {
           "automargin": true,
           "gridcolor": "#EBF0F8",
           "linecolor": "#EBF0F8",
           "ticks": "",
           "title": {
            "standoff": 15
           },
           "zerolinecolor": "#EBF0F8",
           "zerolinewidth": 2
          },
          "yaxis": {
           "automargin": true,
           "gridcolor": "#EBF0F8",
           "linecolor": "#EBF0F8",
           "ticks": "",
           "title": {
            "standoff": 15
           },
           "zerolinecolor": "#EBF0F8",
           "zerolinewidth": 2
          }
         }
        },
        "title": {
         "text": "Phantom dec - 37°C Z-spectrum - 16mM, pH 7",
         "x": 0.02,
         "y": 0.97
        },
        "width": 700,
        "xaxis": {
         "anchor": "y",
         "autorange": "reversed",
         "domain": [
          0.0,
          0.495
         ],
         "dtick": 1,
         "tick0": 0,
         "tickmode": "linear"
        },
        "xaxis2": {
         "anchor": "y2",
         "autorange": "reversed",
         "domain": [
          0.505,
          1.0
         ],
         "dtick": 1,
         "tick0": 0,
         "tickmode": "linear"
        },
        "yaxis": {
         "anchor": "x",
         "domain": [
          0.0,
          1.0
         ],
         "dtick": 0.2,
         "range": [
          -0.1,
          1.15
         ],
         "tick0": 0,
         "tickmode": "linear",
         "title": {
          "standoff": 2,
          "text": "$M_{sat}/M_0$"
         }
        },
        "yaxis2": {
         "anchor": "x2",
         "domain": [
          0.0,
          1.0
         ],
         "dtick": 0.2,
         "range": [
          -0.1,
          1.15
         ],
         "tick0": 0,
         "tickmode": "linear"
        }
       }
      },
      "text/html": "<div>                            <div id=\"5299204d-8800-4a2d-9856-67b44f4068b5\" class=\"plotly-graph-div\" style=\"height:300px; width:700px;\"></div>            <script type=\"text/javascript\">                require([\"plotly\"], function(Plotly) {                    window.PLOTLYENV=window.PLOTLYENV || {};                                    if (document.getElementById(\"5299204d-8800-4a2d-9856-67b44f4068b5\")) {                    Plotly.newPlot(                        \"5299204d-8800-4a2d-9856-67b44f4068b5\",                        [{\"legendgroup\":\"1_1_1\",\"line\":{\"color\":\"#ff7f0e\"},\"name\":\"real z\",\"showlegend\":true,\"type\":\"scatter\",\"x\":[7.0,6.75,6.5,6.25,6.0,5.75,5.5,5.25,5.0,4.75,4.5,4.25,4.0,3.75,3.5,3.25,3.0,2.75,2.5,2.25,2.0,1.75,1.5,1.25,1.0,0.75,0.5,0.25,0.0,-0.25,-0.5,-0.75,-1.0,-1.25,-1.5,-1.75,-2.0,-2.25,-2.5,-2.75,-3.0,-3.25,-3.5,-3.75,-4.0,-4.25,-4.5,-4.75,-5.0,-5.25,-5.5,-5.75,-6.0,-6.25,-6.5,-6.75,-7.0],\"xaxis\":\"x\",\"y\":[0.9186759431386413,0.9168374621012958,0.9139431055998037,0.9102617670166048,0.9076257724822429,0.9048914813849775,0.9001168402965869,0.895814956681162,0.8909219416925713,0.8859208814876104,0.8783892826364069,0.8690457467615409,0.8592993858658443,0.8479612518765081,0.8343566545459885,0.816935008448974,0.7972971196559704,0.7735221510138898,0.7436262500756599,0.7065302761091852,0.6617773243246772,0.6053014707034301,0.5328864806678376,0.4430770955124008,0.33533851052068747,0.21767431243257448,0.10745130918423237,0.029358369053402198,0.003602078896232815,0.03341071334164625,0.12463057217003908,0.2569435820454793,0.3965482444103236,0.5176633092554741,0.6143931134676713,0.6868850444126811,0.7406831169081727,0.7810228465397834,0.812673902069337,0.837555227243984,0.855790523760887,0.8694100656087492,0.8814287141261613,0.891729902509097,0.8989174709133151,0.9053046279162994,0.9100625382762286,0.9142242393888315,0.9168832372655334,0.9178307009307015,0.9209585798048368,0.9229340996944225,0.9239794721023615,0.9240915338273379,0.9265805586357401,0.9287080948634986,0.9288726519554417],\"yaxis\":\"y\"},{\"legendgroup\":\"1_1_1\",\"line\":{\"color\":\"#ff7f0e\"},\"name\":\"fit z\",\"opacity\":0.5,\"showlegend\":true,\"type\":\"scatter\",\"x\":[7.0,6.75,6.5,6.25,6.0,5.75,5.5,5.25,5.0,4.75,4.5,4.25,4.0,3.75,3.5,3.25,3.0,2.75,2.5,2.25,2.0,1.75,1.5,1.25,1.0,0.75,0.5,0.25,0.0,-0.25,-0.5,-0.75,-1.0,-1.25,-1.5,-1.75,-2.0,-2.25,-2.5,-2.75,-3.0,-3.25,-3.5,-3.75,-4.0,-4.25,-4.5,-4.75,-5.0,-5.25,-5.5,-5.75,-6.0,-6.25,-6.5,-6.75,-7.0],\"xaxis\":\"x\",\"y\":[0.9411707743508086,0.9387012454344517,0.9358900166847574,0.9326839230682965,0.9290214339601258,0.9248313856861355,0.9200314596513635,0.9145262777741121,0.9082049029029984,0.9009374066136763,0.8925699886591059,0.8829178893272615,0.8717550146612333,0.8587987768990044,0.8436881106232416,0.8259519198415952,0.8049643161990439,0.7798820181374294,0.7495587608993476,0.7124335822443102,0.6664008405876451,0.6087083098719752,0.5360445793293269,0.4452755779251667,0.33587628649752027,0.2152894464392116,0.10407677510897376,0.027506303315565032,1.3156582019615532e-23,0.029844419624461327,0.121523649950209,0.2609777059801272,0.408450913690964,0.5345836449500603,0.6323178458657803,0.7053273387073575,0.7594930514421824,0.7999392473827361,0.8305070419940025,0.8539345924037449,0.8721472063536674,0.8865012143737824,0.8979606723523561,0.9072190665034214,0.9147818230850153,0.9210222122552562,0.9262194768996386,0.9305851019977368,0.9342811256935966,0.9374330600889124,0.9401391207667013,0.9424768988016102,0.9445082396956389,0.9462828504501434,0.9478409942244324,0.9492155232988576,0.9504334271650627],\"yaxis\":\"y\"},{\"legendgroup\":\"1_2_1\",\"line\":{\"color\":\"#ff7f0e\"},\"name\":\"real z\",\"showlegend\":false,\"type\":\"scatter\",\"x\":[7.0,6.75,6.5,6.25,6.0,5.75,5.5,5.25,5.0,4.75,4.5,4.25,4.0,3.75,3.5,3.25,3.0,2.75,2.5,2.25,2.0,1.75,1.5,1.25,1.0,0.75,0.5,0.25,0.0,-0.25,-0.5,-0.75,-1.0,-1.25,-1.5,-1.75,-2.0,-2.25,-2.5,-2.75,-3.0,-3.25,-3.5,-3.75,-4.0,-4.25,-4.5,-4.75,-5.0,-5.25,-5.5,-5.75,-6.0,-6.25,-6.5,-6.75,-7.0],\"xaxis\":\"x2\",\"y\":[0.8866795402713699,0.8814963306433485,0.8752253686137044,0.8673262921872968,0.861449995866085,0.8538679859037765,0.844193836173093,0.832656060377243,0.8205287927037999,0.8090249929273384,0.7946093067189732,0.77785548799269,0.7600070418437345,0.7403592688885073,0.7164508573088485,0.6868804304185112,0.6547680959486247,0.6191961882974427,0.5759021028888872,0.5249619343406359,0.46766810478559545,0.40328203823962433,0.3308270841301019,0.2528032949310336,0.1759446649332219,0.1063353724190097,0.05166997618190636,0.014931301372955877,0.003389327148519557,0.01591524396485015,0.0584398707548822,0.12890039952242194,0.21856249541163955,0.3178752663032444,0.41414634023960795,0.4998661415257736,0.5718151806473281,0.6308190831867972,0.6795642557813847,0.7208123867702912,0.7527083540335017,0.7776423034260647,0.8006562483251908,0.8192859112852927,0.8326547463152943,0.8440345528313306,0.8547492134415414,0.8638148495331535,0.8710166795727861,0.8763493132622585,0.8839423697871337,0.8897869187721794,0.8944651877293467,0.8970573318442628,0.901236172949219,0.905616543640658,0.9069532217761722],\"yaxis\":\"y2\"},{\"legendgroup\":\"1_2_1\",\"line\":{\"color\":\"#ff7f0e\"},\"name\":\"fit z\",\"opacity\":0.5,\"showlegend\":false,\"type\":\"scatter\",\"x\":[7.0,6.75,6.5,6.25,6.0,5.75,5.5,5.25,5.0,4.75,4.5,4.25,4.0,3.75,3.5,3.25,3.0,2.75,2.5,2.25,2.0,1.75,1.5,1.25,1.0,0.75,0.5,0.25,0.0,-0.25,-0.5,-0.75,-1.0,-1.25,-1.5,-1.75,-2.0,-2.25,-2.5,-2.75,-3.0,-3.25,-3.5,-3.75,-4.0,-4.25,-4.5,-4.75,-5.0,-5.25,-5.5,-5.75,-6.0,-6.25,-6.5,-6.75,-7.0],\"xaxis\":\"x2\",\"y\":[0.9034072939845983,0.8982583339173622,0.8924303293679893,0.8858261189722101,0.8783357543558098,0.8698353452134403,0.8601858449213502,0.8492316773746764,0.836799013064322,0.8226933768899578,0.8066961223411723,0.7885591659838783,0.7679973001047131,0.7446774859656806,0.7182049276006571,0.6881066832231563,0.6538155163081437,0.6146604025421162,0.5698769935660769,0.518663621196425,0.460328493177956,0.3945997044175395,0.32217945729129294,0.2455365807687007,0.169580097180313,0.10124589834898241,0.04729978599174743,0.012394588466889475,5.9039008665385605e-24,0.013422072142219492,0.05540774631293446,0.12671987627507555,0.22099586512408909,0.3244786233818315,0.42393478209685626,0.5118251797987494,0.5858427040670018,0.6466304004412902,0.6960003048938417,0.7359821915501602,0.7684233202473744,0.7948675895439765,0.8165545918958264,0.8344608529077927,0.8493496288927804,0.8618165181269011,0.8723272181125952,0.8812473562396343,0.8888655245574429,0.8954108772354745,0.9010665218012295,0.9059797107186492,0.9102696176415177,0.9140332947853871,0.9173502594712787,0.9202860446304598,0.9228949631262637],\"yaxis\":\"y2\"}],                        {\"annotations\":[{\"font\":{\"size\":16},\"showarrow\":false,\"text\":\"4uT\",\"x\":0.2475,\"xanchor\":\"center\",\"xref\":\"paper\",\"y\":1.0,\"yanchor\":\"bottom\",\"yref\":\"paper\"},{\"font\":{\"size\":16},\"showarrow\":false,\"text\":\"6uT\",\"x\":0.7525,\"xanchor\":\"center\",\"xref\":\"paper\",\"y\":1.0,\"yanchor\":\"bottom\",\"yref\":\"paper\"}],\"height\":300,\"margin\":{\"b\":0,\"l\":45,\"r\":0,\"t\":50},\"template\":{\"data\":{\"bar\":[{\"error_x\":{\"color\":\"#2a3f5f\"},\"error_y\":{\"color\":\"#2a3f5f\"},\"marker\":{\"line\":{\"color\":\"white\",\"width\":0.5},\"pattern\":{\"fillmode\":\"overlay\",\"size\":10,\"solidity\":0.2}},\"type\":\"bar\"}],\"barpolar\":[{\"marker\":{\"line\":{\"color\":\"white\",\"width\":0.5},\"pattern\":{\"fillmode\":\"overlay\",\"size\":10,\"solidity\":0.2}},\"type\":\"barpolar\"}],\"carpet\":[{\"aaxis\":{\"endlinecolor\":\"#2a3f5f\",\"gridcolor\":\"#C8D4E3\",\"linecolor\":\"#C8D4E3\",\"minorgridcolor\":\"#C8D4E3\",\"startlinecolor\":\"#2a3f5f\"},\"baxis\":{\"endlinecolor\":\"#2a3f5f\",\"gridcolor\":\"#C8D4E3\",\"linecolor\":\"#C8D4E3\",\"minorgridcolor\":\"#C8D4E3\",\"startlinecolor\":\"#2a3f5f\"},\"type\":\"carpet\"}],\"choropleth\":[{\"colorbar\":{\"outlinewidth\":0,\"ticks\":\"\"},\"type\":\"choropleth\"}],\"contour\":[{\"colorbar\":{\"outlinewidth\":0,\"ticks\":\"\"},\"colorscale\":[[0.0,\"#0d0887\"],[0.1111111111111111,\"#46039f\"],[0.2222222222222222,\"#7201a8\"],[0.3333333333333333,\"#9c179e\"],[0.4444444444444444,\"#bd3786\"],[0.5555555555555556,\"#d8576b\"],[0.6666666666666666,\"#ed7953\"],[0.7777777777777778,\"#fb9f3a\"],[0.8888888888888888,\"#fdca26\"],[1.0,\"#f0f921\"]],\"type\":\"contour\"}],\"contourcarpet\":[{\"colorbar\":{\"outlinewidth\":0,\"ticks\":\"\"},\"type\":\"contourcarpet\"}],\"heatmap\":[{\"colorbar\":{\"outlinewidth\":0,\"ticks\":\"\"},\"colorscale\":[[0.0,\"#0d0887\"],[0.1111111111111111,\"#46039f\"],[0.2222222222222222,\"#7201a8\"],[0.3333333333333333,\"#9c179e\"],[0.4444444444444444,\"#bd3786\"],[0.5555555555555556,\"#d8576b\"],[0.6666666666666666,\"#ed7953\"],[0.7777777777777778,\"#fb9f3a\"],[0.8888888888888888,\"#fdca26\"],[1.0,\"#f0f921\"]],\"type\":\"heatmap\"}],\"heatmapgl\":[{\"colorbar\":{\"outlinewidth\":0,\"ticks\":\"\"},\"colorscale\":[[0.0,\"#0d0887\"],[0.1111111111111111,\"#46039f\"],[0.2222222222222222,\"#7201a8\"],[0.3333333333333333,\"#9c179e\"],[0.4444444444444444,\"#bd3786\"],[0.5555555555555556,\"#d8576b\"],[0.6666666666666666,\"#ed7953\"],[0.7777777777777778,\"#fb9f3a\"],[0.8888888888888888,\"#fdca26\"],[1.0,\"#f0f921\"]],\"type\":\"heatmapgl\"}],\"histogram\":[{\"marker\":{\"pattern\":{\"fillmode\":\"overlay\",\"size\":10,\"solidity\":0.2}},\"type\":\"histogram\"}],\"histogram2d\":[{\"colorbar\":{\"outlinewidth\":0,\"ticks\":\"\"},\"colorscale\":[[0.0,\"#0d0887\"],[0.1111111111111111,\"#46039f\"],[0.2222222222222222,\"#7201a8\"],[0.3333333333333333,\"#9c179e\"],[0.4444444444444444,\"#bd3786\"],[0.5555555555555556,\"#d8576b\"],[0.6666666666666666,\"#ed7953\"],[0.7777777777777778,\"#fb9f3a\"],[0.8888888888888888,\"#fdca26\"],[1.0,\"#f0f921\"]],\"type\":\"histogram2d\"}],\"histogram2dcontour\":[{\"colorbar\":{\"outlinewidth\":0,\"ticks\":\"\"},\"colorscale\":[[0.0,\"#0d0887\"],[0.1111111111111111,\"#46039f\"],[0.2222222222222222,\"#7201a8\"],[0.3333333333333333,\"#9c179e\"],[0.4444444444444444,\"#bd3786\"],[0.5555555555555556,\"#d8576b\"],[0.6666666666666666,\"#ed7953\"],[0.7777777777777778,\"#fb9f3a\"],[0.8888888888888888,\"#fdca26\"],[1.0,\"#f0f921\"]],\"type\":\"histogram2dcontour\"}],\"mesh3d\":[{\"colorbar\":{\"outlinewidth\":0,\"ticks\":\"\"},\"type\":\"mesh3d\"}],\"parcoords\":[{\"line\":{\"colorbar\":{\"outlinewidth\":0,\"ticks\":\"\"}},\"type\":\"parcoords\"}],\"pie\":[{\"automargin\":true,\"type\":\"pie\"}],\"scatter\":[{\"marker\":{\"colorbar\":{\"outlinewidth\":0,\"ticks\":\"\"}},\"type\":\"scatter\"}],\"scatter3d\":[{\"line\":{\"colorbar\":{\"outlinewidth\":0,\"ticks\":\"\"}},\"marker\":{\"colorbar\":{\"outlinewidth\":0,\"ticks\":\"\"}},\"type\":\"scatter3d\"}],\"scattercarpet\":[{\"marker\":{\"colorbar\":{\"outlinewidth\":0,\"ticks\":\"\"}},\"type\":\"scattercarpet\"}],\"scattergeo\":[{\"marker\":{\"colorbar\":{\"outlinewidth\":0,\"ticks\":\"\"}},\"type\":\"scattergeo\"}],\"scattergl\":[{\"marker\":{\"colorbar\":{\"outlinewidth\":0,\"ticks\":\"\"}},\"type\":\"scattergl\"}],\"scattermapbox\":[{\"marker\":{\"colorbar\":{\"outlinewidth\":0,\"ticks\":\"\"}},\"type\":\"scattermapbox\"}],\"scatterpolar\":[{\"marker\":{\"colorbar\":{\"outlinewidth\":0,\"ticks\":\"\"}},\"type\":\"scatterpolar\"}],\"scatterpolargl\":[{\"marker\":{\"colorbar\":{\"outlinewidth\":0,\"ticks\":\"\"}},\"type\":\"scatterpolargl\"}],\"scatterternary\":[{\"marker\":{\"colorbar\":{\"outlinewidth\":0,\"ticks\":\"\"}},\"type\":\"scatterternary\"}],\"surface\":[{\"colorbar\":{\"outlinewidth\":0,\"ticks\":\"\"},\"colorscale\":[[0.0,\"#0d0887\"],[0.1111111111111111,\"#46039f\"],[0.2222222222222222,\"#7201a8\"],[0.3333333333333333,\"#9c179e\"],[0.4444444444444444,\"#bd3786\"],[0.5555555555555556,\"#d8576b\"],[0.6666666666666666,\"#ed7953\"],[0.7777777777777778,\"#fb9f3a\"],[0.8888888888888888,\"#fdca26\"],[1.0,\"#f0f921\"]],\"type\":\"surface\"}],\"table\":[{\"cells\":{\"fill\":{\"color\":\"#EBF0F8\"},\"line\":{\"color\":\"white\"}},\"header\":{\"fill\":{\"color\":\"#C8D4E3\"},\"line\":{\"color\":\"white\"}},\"type\":\"table\"}]},\"layout\":{\"annotationdefaults\":{\"arrowcolor\":\"#2a3f5f\",\"arrowhead\":0,\"arrowwidth\":1},\"autotypenumbers\":\"strict\",\"coloraxis\":{\"colorbar\":{\"outlinewidth\":0,\"ticks\":\"\"}},\"colorscale\":{\"diverging\":[[0,\"#8e0152\"],[0.1,\"#c51b7d\"],[0.2,\"#de77ae\"],[0.3,\"#f1b6da\"],[0.4,\"#fde0ef\"],[0.5,\"#f7f7f7\"],[0.6,\"#e6f5d0\"],[0.7,\"#b8e186\"],[0.8,\"#7fbc41\"],[0.9,\"#4d9221\"],[1,\"#276419\"]],\"sequential\":[[0.0,\"#0d0887\"],[0.1111111111111111,\"#46039f\"],[0.2222222222222222,\"#7201a8\"],[0.3333333333333333,\"#9c179e\"],[0.4444444444444444,\"#bd3786\"],[0.5555555555555556,\"#d8576b\"],[0.6666666666666666,\"#ed7953\"],[0.7777777777777778,\"#fb9f3a\"],[0.8888888888888888,\"#fdca26\"],[1.0,\"#f0f921\"]],\"sequentialminus\":[[0.0,\"#0d0887\"],[0.1111111111111111,\"#46039f\"],[0.2222222222222222,\"#7201a8\"],[0.3333333333333333,\"#9c179e\"],[0.4444444444444444,\"#bd3786\"],[0.5555555555555556,\"#d8576b\"],[0.6666666666666666,\"#ed7953\"],[0.7777777777777778,\"#fb9f3a\"],[0.8888888888888888,\"#fdca26\"],[1.0,\"#f0f921\"]]},\"colorway\":[\"#636efa\",\"#EF553B\",\"#00cc96\",\"#ab63fa\",\"#FFA15A\",\"#19d3f3\",\"#FF6692\",\"#B6E880\",\"#FF97FF\",\"#FECB52\"],\"font\":{\"color\":\"#2a3f5f\"},\"geo\":{\"bgcolor\":\"white\",\"lakecolor\":\"white\",\"landcolor\":\"white\",\"showlakes\":true,\"showland\":true,\"subunitcolor\":\"#C8D4E3\"},\"hoverlabel\":{\"align\":\"left\"},\"hovermode\":\"closest\",\"mapbox\":{\"style\":\"light\"},\"paper_bgcolor\":\"white\",\"plot_bgcolor\":\"white\",\"polar\":{\"angularaxis\":{\"gridcolor\":\"#EBF0F8\",\"linecolor\":\"#EBF0F8\",\"ticks\":\"\"},\"bgcolor\":\"white\",\"radialaxis\":{\"gridcolor\":\"#EBF0F8\",\"linecolor\":\"#EBF0F8\",\"ticks\":\"\"}},\"scene\":{\"xaxis\":{\"backgroundcolor\":\"white\",\"gridcolor\":\"#DFE8F3\",\"gridwidth\":2,\"linecolor\":\"#EBF0F8\",\"showbackground\":true,\"ticks\":\"\",\"zerolinecolor\":\"#EBF0F8\"},\"yaxis\":{\"backgroundcolor\":\"white\",\"gridcolor\":\"#DFE8F3\",\"gridwidth\":2,\"linecolor\":\"#EBF0F8\",\"showbackground\":true,\"ticks\":\"\",\"zerolinecolor\":\"#EBF0F8\"},\"zaxis\":{\"backgroundcolor\":\"white\",\"gridcolor\":\"#DFE8F3\",\"gridwidth\":2,\"linecolor\":\"#EBF0F8\",\"showbackground\":true,\"ticks\":\"\",\"zerolinecolor\":\"#EBF0F8\"}},\"shapedefaults\":{\"line\":{\"color\":\"#2a3f5f\"}},\"ternary\":{\"aaxis\":{\"gridcolor\":\"#DFE8F3\",\"linecolor\":\"#A2B1C6\",\"ticks\":\"\"},\"baxis\":{\"gridcolor\":\"#DFE8F3\",\"linecolor\":\"#A2B1C6\",\"ticks\":\"\"},\"bgcolor\":\"white\",\"caxis\":{\"gridcolor\":\"#DFE8F3\",\"linecolor\":\"#A2B1C6\",\"ticks\":\"\"}},\"title\":{\"x\":0.05},\"xaxis\":{\"automargin\":true,\"gridcolor\":\"#EBF0F8\",\"linecolor\":\"#EBF0F8\",\"ticks\":\"\",\"title\":{\"standoff\":15},\"zerolinecolor\":\"#EBF0F8\",\"zerolinewidth\":2},\"yaxis\":{\"automargin\":true,\"gridcolor\":\"#EBF0F8\",\"linecolor\":\"#EBF0F8\",\"ticks\":\"\",\"title\":{\"standoff\":15},\"zerolinecolor\":\"#EBF0F8\",\"zerolinewidth\":2}}},\"title\":{\"text\":\"Phantom dec - 37\\u00b0C Z-spectrum - 16mM, pH 7\",\"x\":0.02,\"y\":0.97},\"width\":700,\"xaxis\":{\"anchor\":\"y\",\"autorange\":\"reversed\",\"domain\":[0.0,0.495],\"dtick\":1,\"tick0\":0,\"tickmode\":\"linear\"},\"xaxis2\":{\"anchor\":\"y2\",\"autorange\":\"reversed\",\"domain\":[0.505,1.0],\"dtick\":1,\"tick0\":0,\"tickmode\":\"linear\"},\"yaxis\":{\"anchor\":\"x\",\"domain\":[0.0,1.0],\"dtick\":0.2,\"range\":[-0.1,1.15],\"tick0\":0,\"tickmode\":\"linear\",\"title\":{\"standoff\":2,\"text\":\"$M_{sat}/M_0$\"}},\"yaxis2\":{\"anchor\":\"x2\",\"domain\":[0.0,1.0],\"dtick\":0.2,\"range\":[-0.1,1.15],\"tick0\":0,\"tickmode\":\"linear\"}},                        {\"responsive\": true}                    ).then(function(){\n                            \nvar gd = document.getElementById('5299204d-8800-4a2d-9856-67b44f4068b5');\nvar x = new MutationObserver(function (mutations, observer) {{\n        var display = window.getComputedStyle(gd).display;\n        if (!display || display === 'none') {{\n            console.log([gd, 'removed!']);\n            Plotly.purge(gd);\n            observer.disconnect();\n        }}\n}});\n\n// Listen for the removal of the full notebook cells\nvar notebookContainer = gd.closest('#notebook-container');\nif (notebookContainer) {{\n    x.observe(notebookContainer, {childList: true});\n}}\n\n// Listen for the clearing of the current output cell\nvar outputEl = gd.closest('.output');\nif (outputEl) {{\n    x.observe(outputEl, {childList: true});\n}}\n\n                        })                };                });            </script>        </div>"
     },
     "metadata": {},
     "output_type": "display_data"
    },
    {
     "name": "stdout",
     "output_type": "stream",
     "text": [
      "[[Model]]\n",
      "    Model(<lambda>)\n",
      "[[Fit Statistics]]\n",
      "    # fitting method   = least_squares\n",
      "    # function evals   = 1116\n",
      "    # data points      = 114\n",
      "    # variables        = 3\n",
      "    chi-square         = 0.02291544\n",
      "    reduced chi-square = 2.0645e-04\n",
      "    Akaike info crit   = -964.384262\n",
      "    Bayesian info crit = -956.175667\n",
      "    R-squared          = 0.99749458\n",
      "##  Warning: uncertainties could not be estimated:\n",
      "    t2s:  at boundary\n",
      "[[Variables]]\n",
      "    kb:   7954.13006 (init = 7500)\n",
      "    t1w:  4 (fixed)\n",
      "    t2w:  1.8 (fixed)\n",
      "    tp:   3 (fixed)\n",
      "    fb:   0.0004363636 (fixed)\n",
      "    t1s:  1.00145070 (init = 2)\n",
      "    t2s:  0.00700000 (init = 0.05)\n"
     ]
    },
    {
     "data": {
      "application/vnd.plotly.v1+json": {
       "config": {
        "plotlyServerURL": "https://plot.ly"
       },
       "data": [
        {
         "legendgroup": "1_1_1",
         "line": {
          "color": "#2ca02c"
         },
         "name": "real z",
         "showlegend": true,
         "type": "scatter",
         "x": [
          7.0,
          6.75,
          6.5,
          6.25,
          6.0,
          5.75,
          5.5,
          5.25,
          5.0,
          4.75,
          4.5,
          4.25,
          4.0,
          3.75,
          3.5,
          3.25,
          3.0,
          2.75,
          2.5,
          2.25,
          2.0,
          1.75,
          1.5,
          1.25,
          1.0,
          0.75,
          0.5,
          0.25,
          0.0,
          -0.25,
          -0.5,
          -0.75,
          -1.0,
          -1.25,
          -1.5,
          -1.75,
          -2.0,
          -2.25,
          -2.5,
          -2.75,
          -3.0,
          -3.25,
          -3.5,
          -3.75,
          -4.0,
          -4.25,
          -4.5,
          -4.75,
          -5.0,
          -5.25,
          -5.5,
          -5.75,
          -6.0,
          -6.25,
          -6.5,
          -6.75,
          -7.0
         ],
         "xaxis": "x",
         "y": [
          0.9224418776430111,
          0.9189117042810631,
          0.9168116312149679,
          0.9164699548034003,
          0.9136972798036587,
          0.910737127834171,
          0.9071976728836239,
          0.904829945713099,
          0.9010421642364294,
          0.8951904129402747,
          0.8902607326421061,
          0.8859030421286658,
          0.8782886547018521,
          0.8685052563401778,
          0.8585751559397454,
          0.8469141207782979,
          0.8309848938059438,
          0.8102957883037407,
          0.7873115978810314,
          0.7582924290350023,
          0.7206644642525187,
          0.6698953140458822,
          0.6047953855546954,
          0.5192066183515481,
          0.4097338601689024,
          0.2771084672331423,
          0.14268002880567285,
          0.04046020995543667,
          0.003263238797052208,
          0.04197216934088809,
          0.15597116283370843,
          0.3070029751248949,
          0.450001927658449,
          0.5679732286212578,
          0.6543395394195456,
          0.7184501574891509,
          0.7660700685466334,
          0.8012445760545721,
          0.8266539152206611,
          0.8475486743003091,
          0.8634638000034716,
          0.8768723149856783,
          0.8858111752301931,
          0.8938934086461837,
          0.9004196602121883,
          0.9063702980616373,
          0.9096798500334164,
          0.9121502419935784,
          0.9157225085334461,
          0.9182146749054938,
          0.9204483938305764,
          0.9212958984724815,
          0.923385097257218,
          0.9256699292079165,
          0.9262504693025282,
          0.9269412367027366,
          0.927905473011338
         ],
         "yaxis": "y"
        },
        {
         "legendgroup": "1_1_1",
         "line": {
          "color": "#2ca02c"
         },
         "name": "fit z",
         "opacity": 0.5,
         "showlegend": true,
         "type": "scatter",
         "x": [
          7.0,
          6.75,
          6.5,
          6.25,
          6.0,
          5.75,
          5.5,
          5.25,
          5.0,
          4.75,
          4.5,
          4.25,
          4.0,
          3.75,
          3.5,
          3.25,
          3.0,
          2.75,
          2.5,
          2.25,
          2.0,
          1.75,
          1.5,
          1.25,
          1.0,
          0.75,
          0.5,
          0.25,
          0.0,
          -0.25,
          -0.5,
          -0.75,
          -1.0,
          -1.25,
          -1.5,
          -1.75,
          -2.0,
          -2.25,
          -2.5,
          -2.75,
          -3.0,
          -3.25,
          -3.5,
          -3.75,
          -4.0,
          -4.25,
          -4.5,
          -4.75,
          -5.0,
          -5.25,
          -5.5,
          -5.75,
          -6.0,
          -6.25,
          -6.5,
          -6.75,
          -7.0
         ],
         "xaxis": "x",
         "y": [
          0.9447772290027799,
          0.942878296878462,
          0.9407376960820881,
          0.938319226240914,
          0.9355804915190948,
          0.9324715979032642,
          0.928933469374631,
          0.9248956338329265,
          0.9202732646664268,
          0.9149631704660709,
          0.9088382905948347,
          0.9017400582476688,
          0.8934677041800524,
          0.8837631445746121,
          0.8722894496015398,
          0.8585999114016748,
          0.842093266091118,
          0.8219485108141259,
          0.7970300008999013,
          0.7657509586551386,
          0.7258851113449208,
          0.6743361384650921,
          0.6069591200091066,
          0.5188111057293532,
          0.40598525139418334,
          0.2714978506035509,
          0.13577754563776137,
          0.036073438361990715,
          1.7053109872754762E-23,
          0.03816816827985183,
          0.1499397568360885,
          0.3045491963900781,
          0.454152364418989,
          0.5747807658788355,
          0.6650496245614133,
          0.7311687083992926,
          0.7797062530027711,
          0.8157658041325299,
          0.8429715470674092,
          0.8638304524091697,
          0.8800739762492669,
          0.8929086443472426,
          0.9031864253216784,
          0.9115179083757807,
          0.9183473179037683,
          0.9240025908049081,
          0.9287291925354755,
          0.9327132589215419,
          0.936097655294053,
          0.9389932761938927,
          0.9414871038244674,
          0.9436480293514942,
          0.9455311097020652,
          0.947180716350465,
          0.9486328898577887,
          0.9499171185177466,
          0.9510576948775805
         ],
         "yaxis": "y"
        },
        {
         "legendgroup": "1_2_1",
         "line": {
          "color": "#2ca02c"
         },
         "name": "real z",
         "showlegend": false,
         "type": "scatter",
         "x": [
          7.0,
          6.75,
          6.5,
          6.25,
          6.0,
          5.75,
          5.5,
          5.25,
          5.0,
          4.75,
          4.5,
          4.25,
          4.0,
          3.75,
          3.5,
          3.25,
          3.0,
          2.75,
          2.5,
          2.25,
          2.0,
          1.75,
          1.5,
          1.25,
          1.0,
          0.75,
          0.5,
          0.25,
          0.0,
          -0.25,
          -0.5,
          -0.75,
          -1.0,
          -1.25,
          -1.5,
          -1.75,
          -2.0,
          -2.25,
          -2.5,
          -2.75,
          -3.0,
          -3.25,
          -3.5,
          -3.75,
          -4.0,
          -4.25,
          -4.5,
          -4.75,
          -5.0,
          -5.25,
          -5.5,
          -5.75,
          -6.0,
          -6.25,
          -6.5,
          -6.75,
          -7.0
         ],
         "xaxis": "x2",
         "y": [
          0.8960131887396969,
          0.8913381043428816,
          0.8867902889485054,
          0.8816778248683396,
          0.877290806748004,
          0.870189261610334,
          0.8635918039778827,
          0.8568759165611813,
          0.8473879215659466,
          0.838057970384314,
          0.8271854201329643,
          0.8153207051606359,
          0.8012092667855218,
          0.7834727138636263,
          0.765621178189346,
          0.7438169826579693,
          0.7173258014696613,
          0.6850652889791375,
          0.6467988907857867,
          0.6020305906552824,
          0.5474023921956827,
          0.48184938516014025,
          0.4074666284067656,
          0.32209786839668403,
          0.23131371827360295,
          0.14338244716267354,
          0.06889924143459113,
          0.01918817580195622,
          0.002988257692771772,
          0.020215739537492252,
          0.07607553895744816,
          0.1616483519912046,
          0.26497740192807506,
          0.3710542201087523,
          0.4653517679810882,
          0.5457313428323912,
          0.6133745007251605,
          0.66892771417461,
          0.712148150493316,
          0.7464931276479969,
          0.774745009628428,
          0.7973684562112847,
          0.8160323486312209,
          0.8308782568050428,
          0.8441145447779771,
          0.8553398757283209,
          0.8636200506066893,
          0.8704839841767906,
          0.877488719594462,
          0.8838139184273208,
          0.8883421662515212,
          0.8924427714950205,
          0.8964356072428433,
          0.9014247174217994,
          0.9045856368480367,
          0.9061180239741077,
          0.909031819247581
         ],
         "yaxis": "y2"
        },
        {
         "legendgroup": "1_2_1",
         "line": {
          "color": "#2ca02c"
         },
         "name": "fit z",
         "opacity": 0.5,
         "showlegend": false,
         "type": "scatter",
         "x": [
          7.0,
          6.75,
          6.5,
          6.25,
          6.0,
          5.75,
          5.5,
          5.25,
          5.0,
          4.75,
          4.5,
          4.25,
          4.0,
          3.75,
          3.5,
          3.25,
          3.0,
          2.75,
          2.5,
          2.25,
          2.0,
          1.75,
          1.5,
          1.25,
          1.0,
          0.75,
          0.5,
          0.25,
          0.0,
          -0.25,
          -0.5,
          -0.75,
          -1.0,
          -1.25,
          -1.5,
          -1.75,
          -2.0,
          -2.25,
          -2.5,
          -2.75,
          -3.0,
          -3.25,
          -3.5,
          -3.75,
          -4.0,
          -4.25,
          -4.5,
          -4.75,
          -5.0,
          -5.25,
          -5.5,
          -5.75,
          -6.0,
          -6.25,
          -6.5,
          -6.75,
          -7.0
         ],
         "xaxis": "x2",
         "y": [
          0.9109434990269664,
          0.9069430873274426,
          0.902453236977891,
          0.8974052041453475,
          0.8917196907127849,
          0.8853049481263736,
          0.8780543974022477,
          0.8698435917317443,
          0.8605262842203814,
          0.8499292822346098,
          0.8378456714767225,
          0.8240258811870126,
          0.8081659496650239,
          0.7898922692999605,
          0.7687421191415136,
          0.7441396042181119,
          0.7153675978345819,
          0.6815387531158424,
          0.6415743381477769,
          0.5942119555542931,
          0.5380881079296742,
          0.4719867441498936,
          0.39540871870657684,
          0.3096417597495476,
          0.21926510616109607,
          0.133082789108489,
          0.062327483465313,
          0.016188671759533382,
          7.620933237374044E-24,
          0.017121287673239474,
          0.06937887782710161,
          0.1537136259151044,
          0.25782977256903183,
          0.36506951736925897,
          0.4632595647225476,
          0.5471656376857558,
          0.6162799982994221,
          0.6722471503263188,
          0.7173146747816962,
          0.7536376876178741,
          0.7830441974959632,
          0.8070030348553904,
          0.8266654061793942,
          0.8429243295105874,
          0.856470856418026,
          0.8678408066520965,
          0.8774514996959429,
          0.8856298711917164,
          0.8926337394231305,
          0.8986678251738803,
          0.9038958245373683,
          0.9084495353783072,
          0.912435788864596,
          0.9159417435461922,
          0.9190389536033392,
          0.9217865150466305,
          0.9242335145452092
         ],
         "yaxis": "y2"
        }
       ],
       "layout": {
        "annotations": [
         {
          "font": {
           "size": 16
          },
          "showarrow": false,
          "text": "4uT",
          "x": 0.2475,
          "xanchor": "center",
          "xref": "paper",
          "y": 1.0,
          "yanchor": "bottom",
          "yref": "paper"
         },
         {
          "font": {
           "size": 16
          },
          "showarrow": false,
          "text": "6uT",
          "x": 0.7525,
          "xanchor": "center",
          "xref": "paper",
          "y": 1.0,
          "yanchor": "bottom",
          "yref": "paper"
         }
        ],
        "height": 300,
        "margin": {
         "b": 0,
         "l": 45,
         "r": 0,
         "t": 50
        },
        "template": {
         "data": {
          "bar": [
           {
            "error_x": {
             "color": "#2a3f5f"
            },
            "error_y": {
             "color": "#2a3f5f"
            },
            "marker": {
             "line": {
              "color": "white",
              "width": 0.5
             },
             "pattern": {
              "fillmode": "overlay",
              "size": 10,
              "solidity": 0.2
             }
            },
            "type": "bar"
           }
          ],
          "barpolar": [
           {
            "marker": {
             "line": {
              "color": "white",
              "width": 0.5
             },
             "pattern": {
              "fillmode": "overlay",
              "size": 10,
              "solidity": 0.2
             }
            },
            "type": "barpolar"
           }
          ],
          "carpet": [
           {
            "aaxis": {
             "endlinecolor": "#2a3f5f",
             "gridcolor": "#C8D4E3",
             "linecolor": "#C8D4E3",
             "minorgridcolor": "#C8D4E3",
             "startlinecolor": "#2a3f5f"
            },
            "baxis": {
             "endlinecolor": "#2a3f5f",
             "gridcolor": "#C8D4E3",
             "linecolor": "#C8D4E3",
             "minorgridcolor": "#C8D4E3",
             "startlinecolor": "#2a3f5f"
            },
            "type": "carpet"
           }
          ],
          "choropleth": [
           {
            "colorbar": {
             "outlinewidth": 0,
             "ticks": ""
            },
            "type": "choropleth"
           }
          ],
          "contour": [
           {
            "colorbar": {
             "outlinewidth": 0,
             "ticks": ""
            },
            "colorscale": [
             [
              0.0,
              "#0d0887"
             ],
             [
              0.1111111111111111,
              "#46039f"
             ],
             [
              0.2222222222222222,
              "#7201a8"
             ],
             [
              0.3333333333333333,
              "#9c179e"
             ],
             [
              0.4444444444444444,
              "#bd3786"
             ],
             [
              0.5555555555555556,
              "#d8576b"
             ],
             [
              0.6666666666666666,
              "#ed7953"
             ],
             [
              0.7777777777777778,
              "#fb9f3a"
             ],
             [
              0.8888888888888888,
              "#fdca26"
             ],
             [
              1.0,
              "#f0f921"
             ]
            ],
            "type": "contour"
           }
          ],
          "contourcarpet": [
           {
            "colorbar": {
             "outlinewidth": 0,
             "ticks": ""
            },
            "type": "contourcarpet"
           }
          ],
          "heatmap": [
           {
            "colorbar": {
             "outlinewidth": 0,
             "ticks": ""
            },
            "colorscale": [
             [
              0.0,
              "#0d0887"
             ],
             [
              0.1111111111111111,
              "#46039f"
             ],
             [
              0.2222222222222222,
              "#7201a8"
             ],
             [
              0.3333333333333333,
              "#9c179e"
             ],
             [
              0.4444444444444444,
              "#bd3786"
             ],
             [
              0.5555555555555556,
              "#d8576b"
             ],
             [
              0.6666666666666666,
              "#ed7953"
             ],
             [
              0.7777777777777778,
              "#fb9f3a"
             ],
             [
              0.8888888888888888,
              "#fdca26"
             ],
             [
              1.0,
              "#f0f921"
             ]
            ],
            "type": "heatmap"
           }
          ],
          "heatmapgl": [
           {
            "colorbar": {
             "outlinewidth": 0,
             "ticks": ""
            },
            "colorscale": [
             [
              0.0,
              "#0d0887"
             ],
             [
              0.1111111111111111,
              "#46039f"
             ],
             [
              0.2222222222222222,
              "#7201a8"
             ],
             [
              0.3333333333333333,
              "#9c179e"
             ],
             [
              0.4444444444444444,
              "#bd3786"
             ],
             [
              0.5555555555555556,
              "#d8576b"
             ],
             [
              0.6666666666666666,
              "#ed7953"
             ],
             [
              0.7777777777777778,
              "#fb9f3a"
             ],
             [
              0.8888888888888888,
              "#fdca26"
             ],
             [
              1.0,
              "#f0f921"
             ]
            ],
            "type": "heatmapgl"
           }
          ],
          "histogram": [
           {
            "marker": {
             "pattern": {
              "fillmode": "overlay",
              "size": 10,
              "solidity": 0.2
             }
            },
            "type": "histogram"
           }
          ],
          "histogram2d": [
           {
            "colorbar": {
             "outlinewidth": 0,
             "ticks": ""
            },
            "colorscale": [
             [
              0.0,
              "#0d0887"
             ],
             [
              0.1111111111111111,
              "#46039f"
             ],
             [
              0.2222222222222222,
              "#7201a8"
             ],
             [
              0.3333333333333333,
              "#9c179e"
             ],
             [
              0.4444444444444444,
              "#bd3786"
             ],
             [
              0.5555555555555556,
              "#d8576b"
             ],
             [
              0.6666666666666666,
              "#ed7953"
             ],
             [
              0.7777777777777778,
              "#fb9f3a"
             ],
             [
              0.8888888888888888,
              "#fdca26"
             ],
             [
              1.0,
              "#f0f921"
             ]
            ],
            "type": "histogram2d"
           }
          ],
          "histogram2dcontour": [
           {
            "colorbar": {
             "outlinewidth": 0,
             "ticks": ""
            },
            "colorscale": [
             [
              0.0,
              "#0d0887"
             ],
             [
              0.1111111111111111,
              "#46039f"
             ],
             [
              0.2222222222222222,
              "#7201a8"
             ],
             [
              0.3333333333333333,
              "#9c179e"
             ],
             [
              0.4444444444444444,
              "#bd3786"
             ],
             [
              0.5555555555555556,
              "#d8576b"
             ],
             [
              0.6666666666666666,
              "#ed7953"
             ],
             [
              0.7777777777777778,
              "#fb9f3a"
             ],
             [
              0.8888888888888888,
              "#fdca26"
             ],
             [
              1.0,
              "#f0f921"
             ]
            ],
            "type": "histogram2dcontour"
           }
          ],
          "mesh3d": [
           {
            "colorbar": {
             "outlinewidth": 0,
             "ticks": ""
            },
            "type": "mesh3d"
           }
          ],
          "parcoords": [
           {
            "line": {
             "colorbar": {
              "outlinewidth": 0,
              "ticks": ""
             }
            },
            "type": "parcoords"
           }
          ],
          "pie": [
           {
            "automargin": true,
            "type": "pie"
           }
          ],
          "scatter": [
           {
            "marker": {
             "colorbar": {
              "outlinewidth": 0,
              "ticks": ""
             }
            },
            "type": "scatter"
           }
          ],
          "scatter3d": [
           {
            "line": {
             "colorbar": {
              "outlinewidth": 0,
              "ticks": ""
             }
            },
            "marker": {
             "colorbar": {
              "outlinewidth": 0,
              "ticks": ""
             }
            },
            "type": "scatter3d"
           }
          ],
          "scattercarpet": [
           {
            "marker": {
             "colorbar": {
              "outlinewidth": 0,
              "ticks": ""
             }
            },
            "type": "scattercarpet"
           }
          ],
          "scattergeo": [
           {
            "marker": {
             "colorbar": {
              "outlinewidth": 0,
              "ticks": ""
             }
            },
            "type": "scattergeo"
           }
          ],
          "scattergl": [
           {
            "marker": {
             "colorbar": {
              "outlinewidth": 0,
              "ticks": ""
             }
            },
            "type": "scattergl"
           }
          ],
          "scattermapbox": [
           {
            "marker": {
             "colorbar": {
              "outlinewidth": 0,
              "ticks": ""
             }
            },
            "type": "scattermapbox"
           }
          ],
          "scatterpolar": [
           {
            "marker": {
             "colorbar": {
              "outlinewidth": 0,
              "ticks": ""
             }
            },
            "type": "scatterpolar"
           }
          ],
          "scatterpolargl": [
           {
            "marker": {
             "colorbar": {
              "outlinewidth": 0,
              "ticks": ""
             }
            },
            "type": "scatterpolargl"
           }
          ],
          "scatterternary": [
           {
            "marker": {
             "colorbar": {
              "outlinewidth": 0,
              "ticks": ""
             }
            },
            "type": "scatterternary"
           }
          ],
          "surface": [
           {
            "colorbar": {
             "outlinewidth": 0,
             "ticks": ""
            },
            "colorscale": [
             [
              0.0,
              "#0d0887"
             ],
             [
              0.1111111111111111,
              "#46039f"
             ],
             [
              0.2222222222222222,
              "#7201a8"
             ],
             [
              0.3333333333333333,
              "#9c179e"
             ],
             [
              0.4444444444444444,
              "#bd3786"
             ],
             [
              0.5555555555555556,
              "#d8576b"
             ],
             [
              0.6666666666666666,
              "#ed7953"
             ],
             [
              0.7777777777777778,
              "#fb9f3a"
             ],
             [
              0.8888888888888888,
              "#fdca26"
             ],
             [
              1.0,
              "#f0f921"
             ]
            ],
            "type": "surface"
           }
          ],
          "table": [
           {
            "cells": {
             "fill": {
              "color": "#EBF0F8"
             },
             "line": {
              "color": "white"
             }
            },
            "header": {
             "fill": {
              "color": "#C8D4E3"
             },
             "line": {
              "color": "white"
             }
            },
            "type": "table"
           }
          ]
         },
         "layout": {
          "annotationdefaults": {
           "arrowcolor": "#2a3f5f",
           "arrowhead": 0,
           "arrowwidth": 1
          },
          "autotypenumbers": "strict",
          "coloraxis": {
           "colorbar": {
            "outlinewidth": 0,
            "ticks": ""
           }
          },
          "colorscale": {
           "diverging": [
            [
             0,
             "#8e0152"
            ],
            [
             0.1,
             "#c51b7d"
            ],
            [
             0.2,
             "#de77ae"
            ],
            [
             0.3,
             "#f1b6da"
            ],
            [
             0.4,
             "#fde0ef"
            ],
            [
             0.5,
             "#f7f7f7"
            ],
            [
             0.6,
             "#e6f5d0"
            ],
            [
             0.7,
             "#b8e186"
            ],
            [
             0.8,
             "#7fbc41"
            ],
            [
             0.9,
             "#4d9221"
            ],
            [
             1,
             "#276419"
            ]
           ],
           "sequential": [
            [
             0.0,
             "#0d0887"
            ],
            [
             0.1111111111111111,
             "#46039f"
            ],
            [
             0.2222222222222222,
             "#7201a8"
            ],
            [
             0.3333333333333333,
             "#9c179e"
            ],
            [
             0.4444444444444444,
             "#bd3786"
            ],
            [
             0.5555555555555556,
             "#d8576b"
            ],
            [
             0.6666666666666666,
             "#ed7953"
            ],
            [
             0.7777777777777778,
             "#fb9f3a"
            ],
            [
             0.8888888888888888,
             "#fdca26"
            ],
            [
             1.0,
             "#f0f921"
            ]
           ],
           "sequentialminus": [
            [
             0.0,
             "#0d0887"
            ],
            [
             0.1111111111111111,
             "#46039f"
            ],
            [
             0.2222222222222222,
             "#7201a8"
            ],
            [
             0.3333333333333333,
             "#9c179e"
            ],
            [
             0.4444444444444444,
             "#bd3786"
            ],
            [
             0.5555555555555556,
             "#d8576b"
            ],
            [
             0.6666666666666666,
             "#ed7953"
            ],
            [
             0.7777777777777778,
             "#fb9f3a"
            ],
            [
             0.8888888888888888,
             "#fdca26"
            ],
            [
             1.0,
             "#f0f921"
            ]
           ]
          },
          "colorway": [
           "#636efa",
           "#EF553B",
           "#00cc96",
           "#ab63fa",
           "#FFA15A",
           "#19d3f3",
           "#FF6692",
           "#B6E880",
           "#FF97FF",
           "#FECB52"
          ],
          "font": {
           "color": "#2a3f5f"
          },
          "geo": {
           "bgcolor": "white",
           "lakecolor": "white",
           "landcolor": "white",
           "showlakes": true,
           "showland": true,
           "subunitcolor": "#C8D4E3"
          },
          "hoverlabel": {
           "align": "left"
          },
          "hovermode": "closest",
          "mapbox": {
           "style": "light"
          },
          "paper_bgcolor": "white",
          "plot_bgcolor": "white",
          "polar": {
           "angularaxis": {
            "gridcolor": "#EBF0F8",
            "linecolor": "#EBF0F8",
            "ticks": ""
           },
           "bgcolor": "white",
           "radialaxis": {
            "gridcolor": "#EBF0F8",
            "linecolor": "#EBF0F8",
            "ticks": ""
           }
          },
          "scene": {
           "xaxis": {
            "backgroundcolor": "white",
            "gridcolor": "#DFE8F3",
            "gridwidth": 2,
            "linecolor": "#EBF0F8",
            "showbackground": true,
            "ticks": "",
            "zerolinecolor": "#EBF0F8"
           },
           "yaxis": {
            "backgroundcolor": "white",
            "gridcolor": "#DFE8F3",
            "gridwidth": 2,
            "linecolor": "#EBF0F8",
            "showbackground": true,
            "ticks": "",
            "zerolinecolor": "#EBF0F8"
           },
           "zaxis": {
            "backgroundcolor": "white",
            "gridcolor": "#DFE8F3",
            "gridwidth": 2,
            "linecolor": "#EBF0F8",
            "showbackground": true,
            "ticks": "",
            "zerolinecolor": "#EBF0F8"
           }
          },
          "shapedefaults": {
           "line": {
            "color": "#2a3f5f"
           }
          },
          "ternary": {
           "aaxis": {
            "gridcolor": "#DFE8F3",
            "linecolor": "#A2B1C6",
            "ticks": ""
           },
           "baxis": {
            "gridcolor": "#DFE8F3",
            "linecolor": "#A2B1C6",
            "ticks": ""
           },
           "bgcolor": "white",
           "caxis": {
            "gridcolor": "#DFE8F3",
            "linecolor": "#A2B1C6",
            "ticks": ""
           }
          },
          "title": {
           "x": 0.05
          },
          "xaxis": {
           "automargin": true,
           "gridcolor": "#EBF0F8",
           "linecolor": "#EBF0F8",
           "ticks": "",
           "title": {
            "standoff": 15
           },
           "zerolinecolor": "#EBF0F8",
           "zerolinewidth": 2
          },
          "yaxis": {
           "automargin": true,
           "gridcolor": "#EBF0F8",
           "linecolor": "#EBF0F8",
           "ticks": "",
           "title": {
            "standoff": 15
           },
           "zerolinecolor": "#EBF0F8",
           "zerolinewidth": 2
          }
         }
        },
        "title": {
         "text": "Phantom dec - 37°C Z-spectrum - 12mM, pH 7",
         "x": 0.02,
         "y": 0.97
        },
        "width": 700,
        "xaxis": {
         "anchor": "y",
         "autorange": "reversed",
         "domain": [
          0.0,
          0.495
         ],
         "dtick": 1,
         "tick0": 0,
         "tickmode": "linear"
        },
        "xaxis2": {
         "anchor": "y2",
         "autorange": "reversed",
         "domain": [
          0.505,
          1.0
         ],
         "dtick": 1,
         "tick0": 0,
         "tickmode": "linear"
        },
        "yaxis": {
         "anchor": "x",
         "domain": [
          0.0,
          1.0
         ],
         "dtick": 0.2,
         "range": [
          -0.1,
          1.15
         ],
         "tick0": 0,
         "tickmode": "linear",
         "title": {
          "standoff": 2,
          "text": "$M_{sat}/M_0$"
         }
        },
        "yaxis2": {
         "anchor": "x2",
         "domain": [
          0.0,
          1.0
         ],
         "dtick": 0.2,
         "range": [
          -0.1,
          1.15
         ],
         "tick0": 0,
         "tickmode": "linear"
        }
       }
      },
      "text/html": "<div>                            <div id=\"5a97a9f6-b3d6-4113-a2bd-331f54035e37\" class=\"plotly-graph-div\" style=\"height:300px; width:700px;\"></div>            <script type=\"text/javascript\">                require([\"plotly\"], function(Plotly) {                    window.PLOTLYENV=window.PLOTLYENV || {};                                    if (document.getElementById(\"5a97a9f6-b3d6-4113-a2bd-331f54035e37\")) {                    Plotly.newPlot(                        \"5a97a9f6-b3d6-4113-a2bd-331f54035e37\",                        [{\"legendgroup\":\"1_1_1\",\"line\":{\"color\":\"#2ca02c\"},\"name\":\"real z\",\"showlegend\":true,\"type\":\"scatter\",\"x\":[7.0,6.75,6.5,6.25,6.0,5.75,5.5,5.25,5.0,4.75,4.5,4.25,4.0,3.75,3.5,3.25,3.0,2.75,2.5,2.25,2.0,1.75,1.5,1.25,1.0,0.75,0.5,0.25,0.0,-0.25,-0.5,-0.75,-1.0,-1.25,-1.5,-1.75,-2.0,-2.25,-2.5,-2.75,-3.0,-3.25,-3.5,-3.75,-4.0,-4.25,-4.5,-4.75,-5.0,-5.25,-5.5,-5.75,-6.0,-6.25,-6.5,-6.75,-7.0],\"xaxis\":\"x\",\"y\":[0.9224418776430111,0.9189117042810631,0.9168116312149679,0.9164699548034003,0.9136972798036587,0.910737127834171,0.9071976728836239,0.904829945713099,0.9010421642364294,0.8951904129402747,0.8902607326421061,0.8859030421286658,0.8782886547018521,0.8685052563401778,0.8585751559397454,0.8469141207782979,0.8309848938059438,0.8102957883037407,0.7873115978810314,0.7582924290350023,0.7206644642525187,0.6698953140458822,0.6047953855546954,0.5192066183515481,0.4097338601689024,0.2771084672331423,0.14268002880567285,0.04046020995543667,0.003263238797052208,0.04197216934088809,0.15597116283370843,0.3070029751248949,0.450001927658449,0.5679732286212578,0.6543395394195456,0.7184501574891509,0.7660700685466334,0.8012445760545721,0.8266539152206611,0.8475486743003091,0.8634638000034716,0.8768723149856783,0.8858111752301931,0.8938934086461837,0.9004196602121883,0.9063702980616373,0.9096798500334164,0.9121502419935784,0.9157225085334461,0.9182146749054938,0.9204483938305764,0.9212958984724815,0.923385097257218,0.9256699292079165,0.9262504693025282,0.9269412367027366,0.927905473011338],\"yaxis\":\"y\"},{\"legendgroup\":\"1_1_1\",\"line\":{\"color\":\"#2ca02c\"},\"name\":\"fit z\",\"opacity\":0.5,\"showlegend\":true,\"type\":\"scatter\",\"x\":[7.0,6.75,6.5,6.25,6.0,5.75,5.5,5.25,5.0,4.75,4.5,4.25,4.0,3.75,3.5,3.25,3.0,2.75,2.5,2.25,2.0,1.75,1.5,1.25,1.0,0.75,0.5,0.25,0.0,-0.25,-0.5,-0.75,-1.0,-1.25,-1.5,-1.75,-2.0,-2.25,-2.5,-2.75,-3.0,-3.25,-3.5,-3.75,-4.0,-4.25,-4.5,-4.75,-5.0,-5.25,-5.5,-5.75,-6.0,-6.25,-6.5,-6.75,-7.0],\"xaxis\":\"x\",\"y\":[0.9447772290027799,0.942878296878462,0.9407376960820881,0.938319226240914,0.9355804915190948,0.9324715979032642,0.928933469374631,0.9248956338329265,0.9202732646664268,0.9149631704660709,0.9088382905948347,0.9017400582476688,0.8934677041800524,0.8837631445746121,0.8722894496015398,0.8585999114016748,0.842093266091118,0.8219485108141259,0.7970300008999013,0.7657509586551386,0.7258851113449208,0.6743361384650921,0.6069591200091066,0.5188111057293532,0.40598525139418334,0.2714978506035509,0.13577754563776137,0.036073438361990715,1.7053109872754762e-23,0.03816816827985183,0.1499397568360885,0.3045491963900781,0.454152364418989,0.5747807658788355,0.6650496245614133,0.7311687083992926,0.7797062530027711,0.8157658041325299,0.8429715470674092,0.8638304524091697,0.8800739762492669,0.8929086443472426,0.9031864253216784,0.9115179083757807,0.9183473179037683,0.9240025908049081,0.9287291925354755,0.9327132589215419,0.936097655294053,0.9389932761938927,0.9414871038244674,0.9436480293514942,0.9455311097020652,0.947180716350465,0.9486328898577887,0.9499171185177466,0.9510576948775805],\"yaxis\":\"y\"},{\"legendgroup\":\"1_2_1\",\"line\":{\"color\":\"#2ca02c\"},\"name\":\"real z\",\"showlegend\":false,\"type\":\"scatter\",\"x\":[7.0,6.75,6.5,6.25,6.0,5.75,5.5,5.25,5.0,4.75,4.5,4.25,4.0,3.75,3.5,3.25,3.0,2.75,2.5,2.25,2.0,1.75,1.5,1.25,1.0,0.75,0.5,0.25,0.0,-0.25,-0.5,-0.75,-1.0,-1.25,-1.5,-1.75,-2.0,-2.25,-2.5,-2.75,-3.0,-3.25,-3.5,-3.75,-4.0,-4.25,-4.5,-4.75,-5.0,-5.25,-5.5,-5.75,-6.0,-6.25,-6.5,-6.75,-7.0],\"xaxis\":\"x2\",\"y\":[0.8960131887396969,0.8913381043428816,0.8867902889485054,0.8816778248683396,0.877290806748004,0.870189261610334,0.8635918039778827,0.8568759165611813,0.8473879215659466,0.838057970384314,0.8271854201329643,0.8153207051606359,0.8012092667855218,0.7834727138636263,0.765621178189346,0.7438169826579693,0.7173258014696613,0.6850652889791375,0.6467988907857867,0.6020305906552824,0.5474023921956827,0.48184938516014025,0.4074666284067656,0.32209786839668403,0.23131371827360295,0.14338244716267354,0.06889924143459113,0.01918817580195622,0.002988257692771772,0.020215739537492252,0.07607553895744816,0.1616483519912046,0.26497740192807506,0.3710542201087523,0.4653517679810882,0.5457313428323912,0.6133745007251605,0.66892771417461,0.712148150493316,0.7464931276479969,0.774745009628428,0.7973684562112847,0.8160323486312209,0.8308782568050428,0.8441145447779771,0.8553398757283209,0.8636200506066893,0.8704839841767906,0.877488719594462,0.8838139184273208,0.8883421662515212,0.8924427714950205,0.8964356072428433,0.9014247174217994,0.9045856368480367,0.9061180239741077,0.909031819247581],\"yaxis\":\"y2\"},{\"legendgroup\":\"1_2_1\",\"line\":{\"color\":\"#2ca02c\"},\"name\":\"fit z\",\"opacity\":0.5,\"showlegend\":false,\"type\":\"scatter\",\"x\":[7.0,6.75,6.5,6.25,6.0,5.75,5.5,5.25,5.0,4.75,4.5,4.25,4.0,3.75,3.5,3.25,3.0,2.75,2.5,2.25,2.0,1.75,1.5,1.25,1.0,0.75,0.5,0.25,0.0,-0.25,-0.5,-0.75,-1.0,-1.25,-1.5,-1.75,-2.0,-2.25,-2.5,-2.75,-3.0,-3.25,-3.5,-3.75,-4.0,-4.25,-4.5,-4.75,-5.0,-5.25,-5.5,-5.75,-6.0,-6.25,-6.5,-6.75,-7.0],\"xaxis\":\"x2\",\"y\":[0.9109434990269664,0.9069430873274426,0.902453236977891,0.8974052041453475,0.8917196907127849,0.8853049481263736,0.8780543974022477,0.8698435917317443,0.8605262842203814,0.8499292822346098,0.8378456714767225,0.8240258811870126,0.8081659496650239,0.7898922692999605,0.7687421191415136,0.7441396042181119,0.7153675978345819,0.6815387531158424,0.6415743381477769,0.5942119555542931,0.5380881079296742,0.4719867441498936,0.39540871870657684,0.3096417597495476,0.21926510616109607,0.133082789108489,0.062327483465313,0.016188671759533382,7.620933237374044e-24,0.017121287673239474,0.06937887782710161,0.1537136259151044,0.25782977256903183,0.36506951736925897,0.4632595647225476,0.5471656376857558,0.6162799982994221,0.6722471503263188,0.7173146747816962,0.7536376876178741,0.7830441974959632,0.8070030348553904,0.8266654061793942,0.8429243295105874,0.856470856418026,0.8678408066520965,0.8774514996959429,0.8856298711917164,0.8926337394231305,0.8986678251738803,0.9038958245373683,0.9084495353783072,0.912435788864596,0.9159417435461922,0.9190389536033392,0.9217865150466305,0.9242335145452092],\"yaxis\":\"y2\"}],                        {\"annotations\":[{\"font\":{\"size\":16},\"showarrow\":false,\"text\":\"4uT\",\"x\":0.2475,\"xanchor\":\"center\",\"xref\":\"paper\",\"y\":1.0,\"yanchor\":\"bottom\",\"yref\":\"paper\"},{\"font\":{\"size\":16},\"showarrow\":false,\"text\":\"6uT\",\"x\":0.7525,\"xanchor\":\"center\",\"xref\":\"paper\",\"y\":1.0,\"yanchor\":\"bottom\",\"yref\":\"paper\"}],\"height\":300,\"margin\":{\"b\":0,\"l\":45,\"r\":0,\"t\":50},\"template\":{\"data\":{\"bar\":[{\"error_x\":{\"color\":\"#2a3f5f\"},\"error_y\":{\"color\":\"#2a3f5f\"},\"marker\":{\"line\":{\"color\":\"white\",\"width\":0.5},\"pattern\":{\"fillmode\":\"overlay\",\"size\":10,\"solidity\":0.2}},\"type\":\"bar\"}],\"barpolar\":[{\"marker\":{\"line\":{\"color\":\"white\",\"width\":0.5},\"pattern\":{\"fillmode\":\"overlay\",\"size\":10,\"solidity\":0.2}},\"type\":\"barpolar\"}],\"carpet\":[{\"aaxis\":{\"endlinecolor\":\"#2a3f5f\",\"gridcolor\":\"#C8D4E3\",\"linecolor\":\"#C8D4E3\",\"minorgridcolor\":\"#C8D4E3\",\"startlinecolor\":\"#2a3f5f\"},\"baxis\":{\"endlinecolor\":\"#2a3f5f\",\"gridcolor\":\"#C8D4E3\",\"linecolor\":\"#C8D4E3\",\"minorgridcolor\":\"#C8D4E3\",\"startlinecolor\":\"#2a3f5f\"},\"type\":\"carpet\"}],\"choropleth\":[{\"colorbar\":{\"outlinewidth\":0,\"ticks\":\"\"},\"type\":\"choropleth\"}],\"contour\":[{\"colorbar\":{\"outlinewidth\":0,\"ticks\":\"\"},\"colorscale\":[[0.0,\"#0d0887\"],[0.1111111111111111,\"#46039f\"],[0.2222222222222222,\"#7201a8\"],[0.3333333333333333,\"#9c179e\"],[0.4444444444444444,\"#bd3786\"],[0.5555555555555556,\"#d8576b\"],[0.6666666666666666,\"#ed7953\"],[0.7777777777777778,\"#fb9f3a\"],[0.8888888888888888,\"#fdca26\"],[1.0,\"#f0f921\"]],\"type\":\"contour\"}],\"contourcarpet\":[{\"colorbar\":{\"outlinewidth\":0,\"ticks\":\"\"},\"type\":\"contourcarpet\"}],\"heatmap\":[{\"colorbar\":{\"outlinewidth\":0,\"ticks\":\"\"},\"colorscale\":[[0.0,\"#0d0887\"],[0.1111111111111111,\"#46039f\"],[0.2222222222222222,\"#7201a8\"],[0.3333333333333333,\"#9c179e\"],[0.4444444444444444,\"#bd3786\"],[0.5555555555555556,\"#d8576b\"],[0.6666666666666666,\"#ed7953\"],[0.7777777777777778,\"#fb9f3a\"],[0.8888888888888888,\"#fdca26\"],[1.0,\"#f0f921\"]],\"type\":\"heatmap\"}],\"heatmapgl\":[{\"colorbar\":{\"outlinewidth\":0,\"ticks\":\"\"},\"colorscale\":[[0.0,\"#0d0887\"],[0.1111111111111111,\"#46039f\"],[0.2222222222222222,\"#7201a8\"],[0.3333333333333333,\"#9c179e\"],[0.4444444444444444,\"#bd3786\"],[0.5555555555555556,\"#d8576b\"],[0.6666666666666666,\"#ed7953\"],[0.7777777777777778,\"#fb9f3a\"],[0.8888888888888888,\"#fdca26\"],[1.0,\"#f0f921\"]],\"type\":\"heatmapgl\"}],\"histogram\":[{\"marker\":{\"pattern\":{\"fillmode\":\"overlay\",\"size\":10,\"solidity\":0.2}},\"type\":\"histogram\"}],\"histogram2d\":[{\"colorbar\":{\"outlinewidth\":0,\"ticks\":\"\"},\"colorscale\":[[0.0,\"#0d0887\"],[0.1111111111111111,\"#46039f\"],[0.2222222222222222,\"#7201a8\"],[0.3333333333333333,\"#9c179e\"],[0.4444444444444444,\"#bd3786\"],[0.5555555555555556,\"#d8576b\"],[0.6666666666666666,\"#ed7953\"],[0.7777777777777778,\"#fb9f3a\"],[0.8888888888888888,\"#fdca26\"],[1.0,\"#f0f921\"]],\"type\":\"histogram2d\"}],\"histogram2dcontour\":[{\"colorbar\":{\"outlinewidth\":0,\"ticks\":\"\"},\"colorscale\":[[0.0,\"#0d0887\"],[0.1111111111111111,\"#46039f\"],[0.2222222222222222,\"#7201a8\"],[0.3333333333333333,\"#9c179e\"],[0.4444444444444444,\"#bd3786\"],[0.5555555555555556,\"#d8576b\"],[0.6666666666666666,\"#ed7953\"],[0.7777777777777778,\"#fb9f3a\"],[0.8888888888888888,\"#fdca26\"],[1.0,\"#f0f921\"]],\"type\":\"histogram2dcontour\"}],\"mesh3d\":[{\"colorbar\":{\"outlinewidth\":0,\"ticks\":\"\"},\"type\":\"mesh3d\"}],\"parcoords\":[{\"line\":{\"colorbar\":{\"outlinewidth\":0,\"ticks\":\"\"}},\"type\":\"parcoords\"}],\"pie\":[{\"automargin\":true,\"type\":\"pie\"}],\"scatter\":[{\"marker\":{\"colorbar\":{\"outlinewidth\":0,\"ticks\":\"\"}},\"type\":\"scatter\"}],\"scatter3d\":[{\"line\":{\"colorbar\":{\"outlinewidth\":0,\"ticks\":\"\"}},\"marker\":{\"colorbar\":{\"outlinewidth\":0,\"ticks\":\"\"}},\"type\":\"scatter3d\"}],\"scattercarpet\":[{\"marker\":{\"colorbar\":{\"outlinewidth\":0,\"ticks\":\"\"}},\"type\":\"scattercarpet\"}],\"scattergeo\":[{\"marker\":{\"colorbar\":{\"outlinewidth\":0,\"ticks\":\"\"}},\"type\":\"scattergeo\"}],\"scattergl\":[{\"marker\":{\"colorbar\":{\"outlinewidth\":0,\"ticks\":\"\"}},\"type\":\"scattergl\"}],\"scattermapbox\":[{\"marker\":{\"colorbar\":{\"outlinewidth\":0,\"ticks\":\"\"}},\"type\":\"scattermapbox\"}],\"scatterpolar\":[{\"marker\":{\"colorbar\":{\"outlinewidth\":0,\"ticks\":\"\"}},\"type\":\"scatterpolar\"}],\"scatterpolargl\":[{\"marker\":{\"colorbar\":{\"outlinewidth\":0,\"ticks\":\"\"}},\"type\":\"scatterpolargl\"}],\"scatterternary\":[{\"marker\":{\"colorbar\":{\"outlinewidth\":0,\"ticks\":\"\"}},\"type\":\"scatterternary\"}],\"surface\":[{\"colorbar\":{\"outlinewidth\":0,\"ticks\":\"\"},\"colorscale\":[[0.0,\"#0d0887\"],[0.1111111111111111,\"#46039f\"],[0.2222222222222222,\"#7201a8\"],[0.3333333333333333,\"#9c179e\"],[0.4444444444444444,\"#bd3786\"],[0.5555555555555556,\"#d8576b\"],[0.6666666666666666,\"#ed7953\"],[0.7777777777777778,\"#fb9f3a\"],[0.8888888888888888,\"#fdca26\"],[1.0,\"#f0f921\"]],\"type\":\"surface\"}],\"table\":[{\"cells\":{\"fill\":{\"color\":\"#EBF0F8\"},\"line\":{\"color\":\"white\"}},\"header\":{\"fill\":{\"color\":\"#C8D4E3\"},\"line\":{\"color\":\"white\"}},\"type\":\"table\"}]},\"layout\":{\"annotationdefaults\":{\"arrowcolor\":\"#2a3f5f\",\"arrowhead\":0,\"arrowwidth\":1},\"autotypenumbers\":\"strict\",\"coloraxis\":{\"colorbar\":{\"outlinewidth\":0,\"ticks\":\"\"}},\"colorscale\":{\"diverging\":[[0,\"#8e0152\"],[0.1,\"#c51b7d\"],[0.2,\"#de77ae\"],[0.3,\"#f1b6da\"],[0.4,\"#fde0ef\"],[0.5,\"#f7f7f7\"],[0.6,\"#e6f5d0\"],[0.7,\"#b8e186\"],[0.8,\"#7fbc41\"],[0.9,\"#4d9221\"],[1,\"#276419\"]],\"sequential\":[[0.0,\"#0d0887\"],[0.1111111111111111,\"#46039f\"],[0.2222222222222222,\"#7201a8\"],[0.3333333333333333,\"#9c179e\"],[0.4444444444444444,\"#bd3786\"],[0.5555555555555556,\"#d8576b\"],[0.6666666666666666,\"#ed7953\"],[0.7777777777777778,\"#fb9f3a\"],[0.8888888888888888,\"#fdca26\"],[1.0,\"#f0f921\"]],\"sequentialminus\":[[0.0,\"#0d0887\"],[0.1111111111111111,\"#46039f\"],[0.2222222222222222,\"#7201a8\"],[0.3333333333333333,\"#9c179e\"],[0.4444444444444444,\"#bd3786\"],[0.5555555555555556,\"#d8576b\"],[0.6666666666666666,\"#ed7953\"],[0.7777777777777778,\"#fb9f3a\"],[0.8888888888888888,\"#fdca26\"],[1.0,\"#f0f921\"]]},\"colorway\":[\"#636efa\",\"#EF553B\",\"#00cc96\",\"#ab63fa\",\"#FFA15A\",\"#19d3f3\",\"#FF6692\",\"#B6E880\",\"#FF97FF\",\"#FECB52\"],\"font\":{\"color\":\"#2a3f5f\"},\"geo\":{\"bgcolor\":\"white\",\"lakecolor\":\"white\",\"landcolor\":\"white\",\"showlakes\":true,\"showland\":true,\"subunitcolor\":\"#C8D4E3\"},\"hoverlabel\":{\"align\":\"left\"},\"hovermode\":\"closest\",\"mapbox\":{\"style\":\"light\"},\"paper_bgcolor\":\"white\",\"plot_bgcolor\":\"white\",\"polar\":{\"angularaxis\":{\"gridcolor\":\"#EBF0F8\",\"linecolor\":\"#EBF0F8\",\"ticks\":\"\"},\"bgcolor\":\"white\",\"radialaxis\":{\"gridcolor\":\"#EBF0F8\",\"linecolor\":\"#EBF0F8\",\"ticks\":\"\"}},\"scene\":{\"xaxis\":{\"backgroundcolor\":\"white\",\"gridcolor\":\"#DFE8F3\",\"gridwidth\":2,\"linecolor\":\"#EBF0F8\",\"showbackground\":true,\"ticks\":\"\",\"zerolinecolor\":\"#EBF0F8\"},\"yaxis\":{\"backgroundcolor\":\"white\",\"gridcolor\":\"#DFE8F3\",\"gridwidth\":2,\"linecolor\":\"#EBF0F8\",\"showbackground\":true,\"ticks\":\"\",\"zerolinecolor\":\"#EBF0F8\"},\"zaxis\":{\"backgroundcolor\":\"white\",\"gridcolor\":\"#DFE8F3\",\"gridwidth\":2,\"linecolor\":\"#EBF0F8\",\"showbackground\":true,\"ticks\":\"\",\"zerolinecolor\":\"#EBF0F8\"}},\"shapedefaults\":{\"line\":{\"color\":\"#2a3f5f\"}},\"ternary\":{\"aaxis\":{\"gridcolor\":\"#DFE8F3\",\"linecolor\":\"#A2B1C6\",\"ticks\":\"\"},\"baxis\":{\"gridcolor\":\"#DFE8F3\",\"linecolor\":\"#A2B1C6\",\"ticks\":\"\"},\"bgcolor\":\"white\",\"caxis\":{\"gridcolor\":\"#DFE8F3\",\"linecolor\":\"#A2B1C6\",\"ticks\":\"\"}},\"title\":{\"x\":0.05},\"xaxis\":{\"automargin\":true,\"gridcolor\":\"#EBF0F8\",\"linecolor\":\"#EBF0F8\",\"ticks\":\"\",\"title\":{\"standoff\":15},\"zerolinecolor\":\"#EBF0F8\",\"zerolinewidth\":2},\"yaxis\":{\"automargin\":true,\"gridcolor\":\"#EBF0F8\",\"linecolor\":\"#EBF0F8\",\"ticks\":\"\",\"title\":{\"standoff\":15},\"zerolinecolor\":\"#EBF0F8\",\"zerolinewidth\":2}}},\"title\":{\"text\":\"Phantom dec - 37\\u00b0C Z-spectrum - 12mM, pH 7\",\"x\":0.02,\"y\":0.97},\"width\":700,\"xaxis\":{\"anchor\":\"y\",\"autorange\":\"reversed\",\"domain\":[0.0,0.495],\"dtick\":1,\"tick0\":0,\"tickmode\":\"linear\"},\"xaxis2\":{\"anchor\":\"y2\",\"autorange\":\"reversed\",\"domain\":[0.505,1.0],\"dtick\":1,\"tick0\":0,\"tickmode\":\"linear\"},\"yaxis\":{\"anchor\":\"x\",\"domain\":[0.0,1.0],\"dtick\":0.2,\"range\":[-0.1,1.15],\"tick0\":0,\"tickmode\":\"linear\",\"title\":{\"standoff\":2,\"text\":\"$M_{sat}/M_0$\"}},\"yaxis2\":{\"anchor\":\"x2\",\"domain\":[0.0,1.0],\"dtick\":0.2,\"range\":[-0.1,1.15],\"tick0\":0,\"tickmode\":\"linear\"}},                        {\"responsive\": true}                    ).then(function(){\n                            \nvar gd = document.getElementById('5a97a9f6-b3d6-4113-a2bd-331f54035e37');\nvar x = new MutationObserver(function (mutations, observer) {{\n        var display = window.getComputedStyle(gd).display;\n        if (!display || display === 'none') {{\n            console.log([gd, 'removed!']);\n            Plotly.purge(gd);\n            observer.disconnect();\n        }}\n}});\n\n// Listen for the removal of the full notebook cells\nvar notebookContainer = gd.closest('#notebook-container');\nif (notebookContainer) {{\n    x.observe(notebookContainer, {childList: true});\n}}\n\n// Listen for the clearing of the current output cell\nvar outputEl = gd.closest('.output');\nif (outputEl) {{\n    x.observe(outputEl, {childList: true});\n}}\n\n                        })                };                });            </script>        </div>"
     },
     "metadata": {},
     "output_type": "display_data"
    },
    {
     "name": "stdout",
     "output_type": "stream",
     "text": [
      "[[Model]]\n",
      "    Model(<lambda>)\n",
      "[[Fit Statistics]]\n",
      "    # fitting method   = least_squares\n",
      "    # function evals   = 28\n",
      "    # data points      = 114\n",
      "    # variables        = 3\n",
      "    chi-square         = 0.02170904\n",
      "    reduced chi-square = 1.9558e-04\n",
      "    Akaike info crit   = -970.549638\n",
      "    Bayesian info crit = -962.341042\n",
      "    R-squared          = 0.99745299\n",
      "##  Warning: uncertainties could not be estimated:\n",
      "    t2s:  at boundary\n",
      "[[Variables]]\n",
      "    kb:   9615.84960 (init = 7500)\n",
      "    t1w:  4 (fixed)\n",
      "    t2w:  1.8 (fixed)\n",
      "    tp:   3 (fixed)\n",
      "    fb:   0.0003272727 (fixed)\n",
      "    t1s:  4.48366134 (init = 2)\n",
      "    t2s:  0.00700000 (init = 0.05)\n"
     ]
    }
   ],
   "source": [
    "b1_i_lim = [2, 4]\n",
    "\n",
    "b1_v = [0.7, 2, 4, 6][b1_i_lim[0]:b1_i_lim[1]]\n",
    "zi_v = mean_z_spectra[0][0, b1_i_lim[0]:b1_i_lim[1], -1]\n",
    "# zi_v = np.ones((4))\n",
    "w_df = np.arange(7, -7.25, -0.25)\n",
    "\n",
    "phantom_i = 0  # dec\n",
    "\n",
    "tag = tags[phantom_i]\n",
    "vial_i = 0\n",
    "tag_l = [0, 2, 1]\n",
    "tag_i = tag_l[vial_i]\n",
    "\n",
    "cest_prtcl_names = cest_prtcls_names[phantom_i][b1_i_lim[0]:b1_i_lim[1]]  # 0.7, 2, 4, 6\n",
    "colors = ['#1f77b4', '#ff7f0e', '#2ca02c']\n",
    "conc_l = conc_ls[phantom_i]\n",
    "ph_l = ph_ls[phantom_i]\n",
    "tag = tags[phantom_i]\n",
    "month = months[phantom_i]\n",
    "\n",
    "# Iterate over each image\n",
    "for tag_i, cur_tag in enumerate(['a', 'b', 'c']):\n",
    "    vial_i = tag.index(cur_tag)\n",
    "    params = {\n",
    "    'tp': 3,  #[s]\n",
    "    'fb': conc_l[vial_i]*3/110000,\n",
    "    'kb': 7500,\n",
    "    't1w': 4,\n",
    "    't2w': 1.8,\n",
    "    't1s': 2,\n",
    "    't2s': 0.05\n",
    "    }\n",
    "    fig = make_subplots(rows=1, cols=len(cest_prtcl_names),\n",
    "                        subplot_titles=B_names[phantom_i][b1_i_lim[0]:b1_i_lim[1]], vertical_spacing = 0.07, horizontal_spacing=0.01)\n",
    "    \n",
    "    z_spec_mat = mean_z_spectra[phantom_i][vial_i, b1_i_lim[0]:b1_i_lim[1], :]\n",
    "    fit_result, fitted_z = multi_b1_fit(w_df, b1_v, zi_v, z_spec_mat, params) \n",
    "    fitted_z_rs = fitted_z.reshape((len(b1_v), 57))\n",
    "    \n",
    "    for b1_i, b1 in enumerate(b1_v):\n",
    "        col_idx = b1_i + 1\n",
    "        \n",
    "        cur_z = z_spec_mat[b1_i, :]\n",
    "        cur_z_fit = fitted_z_rs[b1_i, :]\n",
    "        fig.add_trace(go.Scatter(x=w_df, y=cur_z, line=dict(color=colors[tag_i]), name=f'real z', legendgroup=f'{1}_{col_idx}_1'), row=1, col=col_idx)\n",
    "        fig.add_trace(go.Scatter(x=w_df, y=cur_z_fit, line=dict(color=colors[tag_i]), opacity=0.5, name=f'fit z', legendgroup=f'{1}_{col_idx}_1'), row=1, col=col_idx)\n",
    "    \n",
    "    fig.update_yaxes(title_text='$M_{sat}/M_0$', row=1, col=1, title_standoff=2)\n",
    "    \n",
    "    # Update layout\n",
    "    fig.update_layout(template='plotly_white',  # Set the theme to plotly white\n",
    "                      title_text=f'Phantom {month} - {temperatures[phantom_i]} Z-spectrum - {conc_l[vial_i]}mM, {ph_l[vial_i]}',\n",
    "                      height=300, width=350*len(cest_prtcl_names),\n",
    "                      title=dict(x=0.02, y=0.97),\n",
    "                      margin=dict(l=45, r=0, t=50, b=0)\n",
    "                      )  # Adjust the title position\n",
    "    \n",
    "    \n",
    "    # Set axes for z-spectrum\n",
    "    fig.update_xaxes(autorange='reversed',tickmode='linear', tick0=0, dtick=1)\n",
    "    fig.update_yaxes(tickmode='linear', tick0=0, dtick=0.2, range=[-0.1, 1.15])\n",
    "    \n",
    "    # Show only specific legend groups\n",
    "    for trace in fig.data:\n",
    "        trace.showlegend = (trace.legendgroup == '1_1_1')\n",
    "    \n",
    "    fig.show()\n",
    "    \n",
    "    # After fitting the model\n",
    "    print(fit_result.fit_report())  # Print a summary of the fit results\n",
    "    # print(\"Parameter Values:\")\n",
    "    # for name, param in fit_result.params.items():\n",
    "    #     if name == 'fb':\n",
    "    #         print(f\"{name}: {param.value * 110000 / 3:.2f} +/- {param.stderr * 110000 / 3:.2f}\")\n",
    "    #     else:\n",
    "    #         print(f\"{name}: {param.value:.2f} +/- {param.stderr:.2f}\")\n",
    "    \n",
    "    pio.write_image(fig, f'images/z_spec/z_spec_dec_{conc_l[vial_i]}mM_fit.jpeg')\n"
   ],
   "metadata": {
    "collapsed": false,
    "ExecuteTime": {
     "end_time": "2024-02-28T14:37:13.764761Z",
     "start_time": "2024-02-28T14:37:13.017784Z"
    }
   },
   "id": "826ddedcd198e874",
   "execution_count": 25
  },
  {
   "cell_type": "code",
   "outputs": [],
   "source": [],
   "metadata": {
    "collapsed": false
   },
   "id": "4664d0912ee40986",
   "execution_count": null
  }
 ],
 "metadata": {
  "kernelspec": {
   "display_name": "Python 3",
   "language": "python",
   "name": "python3"
  },
  "language_info": {
   "codemirror_mode": {
    "name": "ipython",
    "version": 2
   },
   "file_extension": ".py",
   "mimetype": "text/x-python",
   "name": "python",
   "nbconvert_exporter": "python",
   "pygments_lexer": "ipython2",
   "version": "2.7.6"
  }
 },
 "nbformat": 4,
 "nbformat_minor": 5
}
