{
 "cells": [
  {
   "cell_type": "code",
   "execution_count": 5,
   "outputs": [],
   "source": [
    "import os\n",
    "import cv2\n",
    "import time\n",
    "import numpy as np\n",
    "import pandas as pd\n",
    "\n",
    "import plotly.graph_objects as go\n",
    "from plotly.subplots import make_subplots\n",
    "import plotly.io as pio\n",
    "\n",
    "from my_funcs.plot_functions import mask_roi_finder\n",
    "\n",
    "from my_funcs.cest_functions import bruker_dataset_creator\n",
    "from my_funcs.cest_functions import dicom_data_arranger\n",
    "from my_funcs.cest_functions import z_spec_rearranger\n",
    "from my_funcs.cest_functions import offset_rearranger\n",
    "\n",
    "from my_funcs.b0_mapping_functions import wassr_b0_mapping\n",
    "from my_funcs.b0_mapping_functions import b0_correction\n"
   ],
   "metadata": {
    "collapsed": false,
    "ExecuteTime": {
     "end_time": "2024-02-28T09:48:48.294004Z",
     "start_time": "2024-02-28T09:48:48.288095Z"
    }
   },
   "id": "e2e28fcc242f2c93"
  },
  {
   "cell_type": "markdown",
   "source": [
    "## 1.1. Enter Data: ##"
   ],
   "metadata": {
    "collapsed": false
   },
   "id": "7c86ddc8d094fe51"
  },
  {
   "cell_type": "code",
   "execution_count": 6,
   "outputs": [],
   "source": [
    "# phantom_choice = 1\n",
    "\n",
    "# Root stats:\n",
    "general_fn = os.path.abspath(os.curdir)\n",
    "# Subject stats:\n",
    "glu_phantom_fns = [os.path.join(general_fn, 'scans', '24_01_16_glu_phantom_37deg',\n",
    "                                '1_glu_phantom_10_20_30mM_ph7_37deg'),\n",
    "                   os.path.join(general_fn, 'scans', '24_01_16_glu_phantom_37deg',\n",
    "                                '2_glu_phantom_5_10_15mM_ph7_37deg'),\n",
    "                   os.path.join(general_fn, 'scans', '24_01_16_glu_phantom_37deg',\n",
    "                                '3_glu_phantom_20mM_ph6p8_7_7p2_37deg')]  # January 24\n",
    "\n",
    "# glu_phantom_fn = glu_phantom_fns[phantom_choice-1]\n",
    "txt_file_name = 'labarchive_notes.txt'\n"
   ],
   "metadata": {
    "collapsed": false,
    "ExecuteTime": {
     "end_time": "2024-02-28T09:48:48.338368Z",
     "start_time": "2024-02-28T09:48:48.334258Z"
    }
   },
   "id": "125a48307888d90"
  },
  {
   "cell_type": "markdown",
   "source": [
    "## 1.2. scan data ##"
   ],
   "metadata": {
    "collapsed": false
   },
   "id": "9dae45f000d4461"
  },
  {
   "cell_type": "code",
   "execution_count": 7,
   "outputs": [],
   "source": [
    "conc_ls = [[30, 20, 10], [10, 5, 15], [20, 20, 20]]  # this is the order of the masks using 107a\n",
    "ph_ls = [['pH 7', 'pH 7', 'pH 7'], ['pH 7', 'pH 7', 'pH 7'], ['pH 7', 'pH 7.2', 'pH 6.8']]  # this is the order of the masks using 107a\n",
    "\n",
    "tags = [['a', 'b', 'c'], ['b', 'c', 'a'], ['b', 'a', 'c']]\n",
    "\n",
    "tag_x_locs = [[-3,3,-5], [-2,3,-2], [3, -3, 5]]\n",
    "tag_y_locs = [[-13,13,12], [-14,13,13], [-13, 13, 13]]\n",
    "\n",
    "\n",
    "cest_prtcls_names = [['cest_EPI_3p6uT', 'cest_EPI_4uT', 'cest_EPI_6uT'],\n",
    "                     ['cest_EPI_3p6uT', 'cest_EPI_4uT', 'cest_EPI_6uT'],\n",
    "                     ['cest_EPI_3p6uT', 'cest_EPI_4uT', 'cest_EPI_6uT']]\n",
    "\n",
    "B_names = [['3p6uT', '4uT', '6uT'],['3p6uT', '4uT', '6uT'], ['3p6uT', '4uT', '6uT']]\n",
    "\n",
    "temperatures = ['37°C', '37°C', '37°C']\n",
    "months = ['jan', 'jan', 'jan']\n"
   ],
   "metadata": {
    "collapsed": false,
    "ExecuteTime": {
     "end_time": "2024-02-28T09:48:48.370373Z",
     "start_time": "2024-02-28T09:48:48.340318Z"
    }
   },
   "id": "64104dbf18ca6829"
  },
  {
   "cell_type": "markdown",
   "source": [
    "## 1. z-spectra ##"
   ],
   "metadata": {
    "collapsed": false
   },
   "id": "d8ef333ff9109459"
  },
  {
   "cell_type": "code",
   "execution_count": 8,
   "outputs": [
    {
     "name": "stdout",
     "output_type": "stream",
     "text": [
      "WASSR B0 mapping took 3.272 seconds\n",
      "WASSR B0 mapping took 3.772 seconds\n",
      "WASSR B0 mapping took 3.209 seconds\n"
     ]
    }
   ],
   "source": [
    "mean_z_spectra = []\n",
    "mean_z_spectra_n_c = []\n",
    "gyro_ratio_hz = 42.5764  # for H [Hz/uT]\n",
    "b0 = 7\n",
    "\n",
    "for phantom_i in range(len(glu_phantom_fns)):\n",
    "    cest_prtcl_names = cest_prtcls_names[phantom_i]\n",
    "    glu_phantom_fn = glu_phantom_fns[phantom_i]\n",
    "    B_name = B_names[phantom_i]\n",
    "    \n",
    "    # mask\n",
    "    _, _, bruker_dataset_mask = bruker_dataset_creator(glu_phantom_fn, txt_file_name, '107a')  # always takes mask from 107a\n",
    "    vial_rois, full_mask, _ = mask_roi_finder(bruker_dataset_mask)\n",
    "    \n",
    "    # WASSR image\n",
    "    wassr_dicom_fn, wassr_mrf_files_fn, wassr_bruker_dataset = bruker_dataset_creator(glu_phantom_fn, txt_file_name, 'WASSR')\n",
    "    wassr_data = dicom_data_arranger(wassr_bruker_dataset, wassr_dicom_fn)\n",
    "    M0_wassr, arr_wassr_spec = z_spec_rearranger(wassr_data)  # (21, 64, 64)\n",
    "\n",
    "    wassr_norm = np.divide(arr_wassr_spec, np.where(M0_wassr == 0, 1e-8, M0_wassr))  # (22, 64, 64) full_mask\n",
    "    offset_hz = offset_rearranger(wassr_bruker_dataset['SatFreqList'].value)\n",
    "    offset_ppm = offset_hz / (gyro_ratio_hz * b0)\n",
    "    b0_map = wassr_b0_mapping(wassr_norm, full_mask, w_x=offset_ppm, MainFieldMHz=gyro_ratio_hz*b0)\n",
    "    \n",
    "    mean_z_spectrum = np.zeros([3, len(cest_prtcl_names), 57])\n",
    "    mean_z_spectrum_not_cor = np.zeros([3, len(cest_prtcl_names), 57])\n",
    "    for cest_prtcl_i, cest_prtcl_name in enumerate(cest_prtcl_names):  # 0.7, 2, 4, 6\n",
    "        cur_B_name = B_name[cest_prtcl_i]\n",
    "\n",
    "        # z-spec\n",
    "        glu_phantom_dicom_fn, glu_phantom_mrf_files_fn, bruker_dataset = bruker_dataset_creator(glu_phantom_fn, txt_file_name, cest_prtcl_name)  # (58/52, 64, 64) [M0,7,-7,6.75,-6.75,...,0.25,-0.25,0]\n",
    "        cest_data = dicom_data_arranger(bruker_dataset, glu_phantom_dicom_fn)\n",
    "        M0_cest, arr_z_spec = z_spec_rearranger(cest_data)\n",
    "        z_spec_norm = np.divide(arr_z_spec, np.where(M0_cest == 0, 1e-8, M0_cest))  # (51/57, 64, 64) full_mask\n",
    "        \n",
    "        # a = z_spec_norm[0,:,:]*(~full_mask - 254)\n",
    "        # a_1 = z_spec_norm[0,:,:]*(full_mask)\n",
    "        \n",
    "        # offset vector\n",
    "        offset_hz = offset_rearranger(bruker_dataset['SatFreqList'].value)\n",
    "        offset_ppm = offset_hz / (gyro_ratio_hz * b0)\n",
    "    \n",
    "        b0_cor_zspec = b0_correction(b0_map, z_spec_norm, offset_hz) # have not checked!\n",
    "\n",
    "        for vial_i, vial_roi in enumerate(vial_rois):\n",
    "            roi_mask = np.zeros_like(full_mask)\n",
    "            rr, cc = vial_roi.coords[:, 0], vial_roi.coords[:, 1]\n",
    "            roi_mask[rr, cc] = 1\n",
    "            # roi_mask = cv2.cvtColor(roi_mask, cv2.COLOR_BGR2GRAY)\n",
    "            roi_mask = roi_mask.astype(np.uint8)\n",
    "            \n",
    "            for c_i in range(z_spec_norm.shape[0]):\n",
    "                [[mean_vial]], _ = cv2.meanStdDev(z_spec_norm[c_i, :, :], mask=roi_mask)  # before b0 correction\n",
    "                mean_z_spectrum_not_cor[vial_i,cest_prtcl_i,c_i] = mean_vial\n",
    "                [[mean_vial]], _ = cv2.meanStdDev(b0_cor_zspec[c_i, :, :], mask=roi_mask)\n",
    "                mean_z_spectrum[vial_i,cest_prtcl_i,c_i] = mean_vial\n",
    "\n",
    "    mean_z_spectra.append(mean_z_spectrum)\n",
    "    mean_z_spectra_n_c.append(mean_z_spectrum_not_cor)\n",
    "    "
   ],
   "metadata": {
    "collapsed": false,
    "ExecuteTime": {
     "end_time": "2024-02-28T09:48:59.233434Z",
     "start_time": "2024-02-28T09:48:48.371616Z"
    }
   },
   "id": "a43d56c63c1bd751"
  },
  {
   "cell_type": "code",
   "outputs": [],
   "source": [
    "from lmfit import Model\n",
    "import numpy as np\n",
    "\n",
    "def z_cw_creator(w_df,  # ppm\n",
    "                 b1_v,\n",
    "                 zi_v,\n",
    "                 kb, t1w, t2w,\n",
    "                 tp, fb, t1s, t2s,\n",
    "                 gyro_ratio_hz = 42.5764,  # gamma for H [Hz/uT]\n",
    "                 b0 = 7):\n",
    "    gamma = 267.5153  # [MHz]\n",
    "    \n",
    "    # Define the function as a lambda expression\n",
    "    rex_lorentz = lambda da, w1, db, fb, kb, r2b, zi: (\n",
    "        (\n",
    "            (kb * fb) * w1**2 / (da**2 + w1**2) *\n",
    "            ((da - db)**2 + (da**2 + w1**2) * r2b / kb + r2b * (kb + r2b))\n",
    "        ) / (\n",
    "            ((2 * np.sqrt((kb + r2b) / kb * w1**2 + (kb + r2b)**2)) / 2)**2 + db**2\n",
    "        )\n",
    "    )\n",
    "    r1w = 1/t1w\n",
    "    r2w = 1/t2w\n",
    "    r1s = 1/t1s\n",
    "    r2s = 1/t2s\n",
    "    z_cw = np.array([])  # (4, 57)\n",
    "    for b1_i, b1 in enumerate(b1_v):\n",
    "        zi = zi_v[b1_i]\n",
    "        w1 = b1 * gamma\n",
    "        w_ref = b0 * gyro_ratio_hz * 2 * np.pi\n",
    "        da = (w_df - 0) * w_ref  # 0 ppm water\n",
    "        db = (w_df - 3) * w_ref  # 3 ppm solute\n",
    "        \n",
    "        w1 = np.full(len(w_df), w1)\n",
    "        da = np.where(da == 0, 1e-8, da)\n",
    "        theta = np.arctan(w1 / da)\n",
    "        \n",
    "        rex = rex_lorentz(da,w1,db,fb,kb,r2s,zi)  # exchange dependant relaxation (rotating frame)\n",
    "        reff = r1w * np.cos(theta)**2 + r2w * np.sin(theta)**2  # R1rho of water\n",
    "        r1rho = reff+rex\n",
    "        pz = np.cos(theta)\n",
    "        pzeff = np.cos(theta)\n",
    "        r1rho = np.where(r1rho == 0, 1e-8, r1rho)\n",
    "        zss = np.cos(theta) * pz * r1w / r1rho\n",
    "        cur_z_cw = (pz * pzeff * zi - zss) * np.exp(-(r1rho*tp)) + zss\n",
    "        z_cw = np.concatenate((z_cw, cur_z_cw))\n",
    "        \n",
    "    return z_cw\n",
    "\n",
    "\n",
    "def multi_b1_fit(w_df,\n",
    "                 b1_v,\n",
    "                 zi_v,\n",
    "                 z_spec_mat,  # (vial i, b1 i, 7 to -7)\n",
    "                 params):\n",
    "    # z_cw = z_cw_creator(params, b1_v, w_df)\n",
    "    \n",
    "    # I will try varying kb, r1w, r2w (maybe r1s, r2s next?)\n",
    "    piecewisez_cw = lambda w_df, kb, t1w, t2w, tp, fb, t1s, t2s: (\n",
    "        z_cw_creator(w_df, b1_v, zi_v, kb, t1w, t2w, tp, fb, t1s, t2s))\n",
    "\n",
    "    # u = piecewisez_cw(w_df, 7000, 1/4, 1/1.8, 3, 0.01, 1/1, 1/0.04)\n",
    "    \n",
    "    ft = Model(piecewisez_cw)\n",
    "            # Add bounds to parameters\n",
    "    opts = ft.make_params(method='leastsq')  # Method for optimization\n",
    "    \n",
    "    # varying\n",
    "    opts.add('kb', value=7500, min=2000, max=12000)\n",
    "    opts.add('t1w', value=params['t1w'], min=3.5, max=4.5)\n",
    "    opts.add('t2w', value=params['t2w'], min=0.5, max=1.9)\n",
    "    opts.add('t1s', value=params['t1s'], min=1, max=3.5)\n",
    "    opts.add('t2s', value=params['t2s'], min=0.007, max=0.2)\n",
    "    \n",
    "    # constant\n",
    "    opts.add('tp', value=params['tp'], vary=False)\n",
    "    opts.add('fb', value=params['fb'], vary=False)\n",
    "    # opts.add('t1w', value=params['t1w'], vary=False)\n",
    "    # opts.add('t2w', value=params['t2w'], vary=False)\n",
    "    # opts.add('t1s', value=params['t1s'], vary=False)\n",
    "    # opts.add('t2s', value=params['t2s'], vary=False)\n",
    "    \n",
    "    # b1s = np.array([])\n",
    "    zs = np.array([])\n",
    "    for b1_i, b1 in enumerate(b1_v):\n",
    "        # b1s = np.concatenate((b1s, np.full(len(w_df), b1)))\n",
    "        zs = np.concatenate((zs, z_spec_mat[b1_i, :]))  # 7 to -7\n",
    "    \n",
    "    # Perform the curve fitting\n",
    "    result = ft.fit(zs, w_df=w_df,\n",
    "                    kb=opts['kb'], t1w=opts['t1w'], t2w=opts['t2w'],\n",
    "                    tp=opts['tp'], fb=opts['fb'], t1s=opts['t1s'], t2s=opts['t2s'],\n",
    "                    method='least_squares')\n",
    "              \n",
    "    # # Extract fit results and goodness-of-fit\n",
    "    # fitresult = result.best_values\n",
    "    # gof = result.fit_report(result.params)\n",
    "    # ci = lmfit.conf_interval(result, result, sigmas=[2])  # not exact same 2 sigma instead of 95%\n",
    "    # kb_ci = ci['kb'][2][1] - np.mean([ci['kb'][2][1], ci['kb'][0][1]])  # 95%\n",
    "    # fb_ci = ci['fb'][2][1] - np.mean([ci['fb'][2][1], ci['fb'][0][1]])  # 95%\n",
    "    fitted_z = result.best_fit\n",
    "    \n",
    "    return result, fitted_z\n"
   ],
   "metadata": {
    "collapsed": false,
    "ExecuteTime": {
     "end_time": "2024-02-28T14:14:51.475548Z",
     "start_time": "2024-02-28T14:14:51.450320Z"
    }
   },
   "id": "450b03360652bba5",
   "execution_count": 27
  },
  {
   "cell_type": "code",
   "outputs": [
    {
     "data": {
      "application/vnd.plotly.v1+json": {
       "config": {
        "plotlyServerURL": "https://plot.ly"
       },
       "data": [
        {
         "legendgroup": "1_1_1",
         "line": {
          "color": "#1f77b4"
         },
         "name": "real z",
         "showlegend": true,
         "type": "scatter",
         "x": [
          7.0,
          6.75,
          6.5,
          6.25,
          6.0,
          5.75,
          5.5,
          5.25,
          5.0,
          4.75,
          4.5,
          4.25,
          4.0,
          3.75,
          3.5,
          3.25,
          3.0,
          2.75,
          2.5,
          2.25,
          2.0,
          1.75,
          1.5,
          1.25,
          1.0,
          0.75,
          0.5,
          0.25,
          0.0,
          -0.25,
          -0.5,
          -0.75,
          -1.0,
          -1.25,
          -1.5,
          -1.75,
          -2.0,
          -2.25,
          -2.5,
          -2.75,
          -3.0,
          -3.25,
          -3.5,
          -3.75,
          -4.0,
          -4.25,
          -4.5,
          -4.75,
          -5.0,
          -5.25,
          -5.5,
          -5.75,
          -6.0,
          -6.25,
          -6.5,
          -6.75,
          -7.0
         ],
         "xaxis": "x",
         "y": [
          0.9056893253535261,
          0.9048033606916213,
          0.9011739717930926,
          0.8997605756682753,
          0.8981849243160157,
          0.8954603519095977,
          0.8927953376904735,
          0.8898792097664344,
          0.8874594433030991,
          0.8826529294888026,
          0.8769417309815657,
          0.8717790306819386,
          0.8646005488120566,
          0.8561911139476456,
          0.8444762575218202,
          0.8329027420947996,
          0.8185596994505192,
          0.7998814731627483,
          0.777346281866863,
          0.7488624125667614,
          0.7130001032927099,
          0.6650557231131551,
          0.6015341370830671,
          0.5181875738096672,
          0.4102065854481683,
          0.27794870839189,
          0.14203360860745426,
          0.039844818837158805,
          0.0035099179064469353,
          0.03709493749108602,
          0.14319814392849295,
          0.2915568551329045,
          0.43636960478650255,
          0.5520930147959207,
          0.6398447362017078,
          0.7026827659803336,
          0.7502961815112037,
          0.7850523593045688,
          0.809669821997107,
          0.8298510320477819,
          0.8464386481190235,
          0.8586641824056828,
          0.868424957423781,
          0.8770282617965267,
          0.8844194219896188,
          0.8896651176642252,
          0.8937464761773845,
          0.8977337929448432,
          0.9012521056177075,
          0.9031109916391431,
          0.904932806902989,
          0.9062088129111577,
          0.9076166892903691,
          0.9088583383079288,
          0.9093457702829055,
          0.9117387426786321,
          0.9130029708751822
         ],
         "yaxis": "y"
        },
        {
         "legendgroup": "1_1_1",
         "line": {
          "color": "#1f77b4"
         },
         "name": "fit z",
         "opacity": 0.5,
         "showlegend": true,
         "type": "scatter",
         "x": [
          7.0,
          6.75,
          6.5,
          6.25,
          6.0,
          5.75,
          5.5,
          5.25,
          5.0,
          4.75,
          4.5,
          4.25,
          4.0,
          3.75,
          3.5,
          3.25,
          3.0,
          2.75,
          2.5,
          2.25,
          2.0,
          1.75,
          1.5,
          1.25,
          1.0,
          0.75,
          0.5,
          0.25,
          0.0,
          -0.25,
          -0.5,
          -0.75,
          -1.0,
          -1.25,
          -1.5,
          -1.75,
          -2.0,
          -2.25,
          -2.5,
          -2.75,
          -3.0,
          -3.25,
          -3.5,
          -3.75,
          -4.0,
          -4.25,
          -4.5,
          -4.75,
          -5.0,
          -5.25,
          -5.5,
          -5.75,
          -6.0,
          -6.25,
          -6.5,
          -6.75,
          -7.0
         ],
         "xaxis": "x",
         "y": [
          0.9873373491652098,
          0.986049099693967,
          0.9845672530962005,
          0.9828563822634585,
          0.9808742618881096,
          0.9785707623983568,
          0.9758866834034919,
          0.9727525551877855,
          0.9690874076889029,
          0.9647974169886345,
          0.9597741441890822,
          0.9538917273305576,
          0.9470018294707115,
          0.9389243728062122,
          0.9294311237112386,
          0.9182180371199901,
          0.9048607302751888,
          0.888744890078949,
          0.868958455105421,
          0.8441228247289957,
          0.8121233901466133,
          0.7696748966572553,
          0.7116425032828193,
          0.6301539109954597,
          0.5143858292764744,
          0.3559510708645459,
          0.17503835272783957,
          0.045158674539836186,
          2.2022257709949195E-23,
          0.04834736590648335,
          0.201167891298341,
          0.41326639785351804,
          0.5874812027519201,
          0.7065271494329836,
          0.7853086602959805,
          0.8382404432804598,
          0.8748007924035949,
          0.9007981426245911,
          0.9197921141051274,
          0.9340102020542765,
          0.9448839223165347,
          0.9533585155418026,
          0.9600743498937386,
          0.9654756147783422,
          0.9698771053320423,
          0.9735062936333695,
          0.9765304685560237,
          0.9790746357435225,
          0.9812335677828325,
          0.9830800707866809,
          0.9846707546261378,
          0.9860501254772497,
          0.9872535314741024,
          0.9883093118516304,
          0.9892403847677248,
          0.9900654341447834,
          0.9907998064353323
         ],
         "yaxis": "y"
        },
        {
         "legendgroup": "1_2_1",
         "line": {
          "color": "#1f77b4"
         },
         "name": "real z",
         "showlegend": false,
         "type": "scatter",
         "x": [
          7.0,
          6.75,
          6.5,
          6.25,
          6.0,
          5.75,
          5.5,
          5.25,
          5.0,
          4.75,
          4.5,
          4.25,
          4.0,
          3.75,
          3.5,
          3.25,
          3.0,
          2.75,
          2.5,
          2.25,
          2.0,
          1.75,
          1.5,
          1.25,
          1.0,
          0.75,
          0.5,
          0.25,
          0.0,
          -0.25,
          -0.5,
          -0.75,
          -1.0,
          -1.25,
          -1.5,
          -1.75,
          -2.0,
          -2.25,
          -2.5,
          -2.75,
          -3.0,
          -3.25,
          -3.5,
          -3.75,
          -4.0,
          -4.25,
          -4.5,
          -4.75,
          -5.0,
          -5.25,
          -5.5,
          -5.75,
          -6.0,
          -6.25,
          -6.5,
          -6.75,
          -7.0
         ],
         "xaxis": "x2",
         "y": [
          0.8833438079908477,
          0.8816493182484268,
          0.8766615830557418,
          0.8725758911288879,
          0.8680123366993509,
          0.8613208728260358,
          0.8546974544863822,
          0.8472197622641587,
          0.8394750746924599,
          0.8305665784713432,
          0.8186859633989221,
          0.8072038712113838,
          0.7936832919485888,
          0.7783804501509493,
          0.7598014413012567,
          0.7387500414442377,
          0.7139605856167816,
          0.6826497866767869,
          0.6453104809162563,
          0.6014249015723795,
          0.5478817344789887,
          0.4829952084016447,
          0.4050416677965727,
          0.31978633644567733,
          0.22730207130035232,
          0.13920012456578218,
          0.0654259422781978,
          0.018478474700091372,
          0.003010978509957761,
          0.01837843583844338,
          0.06836552398466494,
          0.1505823390099597,
          0.2533020479692775,
          0.3581523700994469,
          0.45434030129097286,
          0.5349136642077071,
          0.6040451342831589,
          0.6586505147060948,
          0.7013735965753116,
          0.7372935884454982,
          0.7657321685958403,
          0.7877817577019569,
          0.8061183779603357,
          0.8207605340992161,
          0.8338391830488462,
          0.8444867071842806,
          0.8520476167996495,
          0.8605602116808284,
          0.8677685946759555,
          0.8736075281401913,
          0.878779193737143,
          0.8836619444077715,
          0.8886751331428917,
          0.8916658195822508,
          0.8933339239588067,
          0.8970443664888843,
          0.8987984115596529
         ],
         "yaxis": "y2"
        },
        {
         "legendgroup": "1_2_1",
         "line": {
          "color": "#1f77b4"
         },
         "name": "fit z",
         "opacity": 0.5,
         "showlegend": false,
         "type": "scatter",
         "x": [
          7.0,
          6.75,
          6.5,
          6.25,
          6.0,
          5.75,
          5.5,
          5.25,
          5.0,
          4.75,
          4.5,
          4.25,
          4.0,
          3.75,
          3.5,
          3.25,
          3.0,
          2.75,
          2.5,
          2.25,
          2.0,
          1.75,
          1.5,
          1.25,
          1.0,
          0.75,
          0.5,
          0.25,
          0.0,
          -0.25,
          -0.5,
          -0.75,
          -1.0,
          -1.25,
          -1.5,
          -1.75,
          -2.0,
          -2.25,
          -2.5,
          -2.75,
          -3.0,
          -3.25,
          -3.5,
          -3.75,
          -4.0,
          -4.25,
          -4.5,
          -4.75,
          -5.0,
          -5.25,
          -5.5,
          -5.75,
          -6.0,
          -6.25,
          -6.5,
          -6.75,
          -7.0
         ],
         "xaxis": "x2",
         "y": [
          0.9508331990426698,
          0.9459933084834672,
          0.9404610948932017,
          0.9341196529540843,
          0.9268330028804657,
          0.918444360974648,
          0.9087750017931213,
          0.8976240412933365,
          0.8847694094625929,
          0.8699700343339265,
          0.8529687283169977,
          0.8334943999455221,
          0.8112611031376933,
          0.7859604371547751,
          0.7572435880675459,
          0.7246907117982917,
          0.6877691888960391,
          0.6457891814279545,
          0.5978760716049882,
          0.542998188816758,
          0.48012219965137626,
          0.40862590749669686,
          0.32916034836434904,
          0.24506345503493493,
          0.16364472697974122,
          0.09464255078717511,
          0.04387816802093105,
          0.0116085610634632,
          5.5344854764853395E-24,
          0.012387894928314451,
          0.05014138639742231,
          0.11686656633239634,
          0.21396038097936132,
          0.32684848291156965,
          0.43667338668822453,
          0.5328382296330626,
          0.6126008914234295,
          0.6771478705230588,
          0.728939031967881,
          0.7705010548770951,
          0.804010965959191,
          0.8312178039163846,
          0.853484668321713,
          0.8718610893349553,
          0.8871529538239248,
          0.8999805005614505,
          0.9108235174642839,
          0.9200555890990852,
          0.9279697363492753,
          0.9347975426010482,
          0.9407234370423826,
          0.945895402356265,
          0.9504330455002066,
          0.9544337194265846,
          0.957977197975058,
          0.9611292708424866,
          0.9639445274963396
         ],
         "yaxis": "y2"
        }
       ],
       "layout": {
        "annotations": [
         {
          "font": {
           "size": 16
          },
          "showarrow": false,
          "text": "4uT",
          "x": 0.2475,
          "xanchor": "center",
          "xref": "paper",
          "y": 1.0,
          "yanchor": "bottom",
          "yref": "paper"
         },
         {
          "font": {
           "size": 16
          },
          "showarrow": false,
          "text": "6uT",
          "x": 0.7525,
          "xanchor": "center",
          "xref": "paper",
          "y": 1.0,
          "yanchor": "bottom",
          "yref": "paper"
         }
        ],
        "height": 300,
        "margin": {
         "b": 0,
         "l": 45,
         "r": 0,
         "t": 50
        },
        "template": {
         "data": {
          "bar": [
           {
            "error_x": {
             "color": "#2a3f5f"
            },
            "error_y": {
             "color": "#2a3f5f"
            },
            "marker": {
             "line": {
              "color": "white",
              "width": 0.5
             },
             "pattern": {
              "fillmode": "overlay",
              "size": 10,
              "solidity": 0.2
             }
            },
            "type": "bar"
           }
          ],
          "barpolar": [
           {
            "marker": {
             "line": {
              "color": "white",
              "width": 0.5
             },
             "pattern": {
              "fillmode": "overlay",
              "size": 10,
              "solidity": 0.2
             }
            },
            "type": "barpolar"
           }
          ],
          "carpet": [
           {
            "aaxis": {
             "endlinecolor": "#2a3f5f",
             "gridcolor": "#C8D4E3",
             "linecolor": "#C8D4E3",
             "minorgridcolor": "#C8D4E3",
             "startlinecolor": "#2a3f5f"
            },
            "baxis": {
             "endlinecolor": "#2a3f5f",
             "gridcolor": "#C8D4E3",
             "linecolor": "#C8D4E3",
             "minorgridcolor": "#C8D4E3",
             "startlinecolor": "#2a3f5f"
            },
            "type": "carpet"
           }
          ],
          "choropleth": [
           {
            "colorbar": {
             "outlinewidth": 0,
             "ticks": ""
            },
            "type": "choropleth"
           }
          ],
          "contour": [
           {
            "colorbar": {
             "outlinewidth": 0,
             "ticks": ""
            },
            "colorscale": [
             [
              0.0,
              "#0d0887"
             ],
             [
              0.1111111111111111,
              "#46039f"
             ],
             [
              0.2222222222222222,
              "#7201a8"
             ],
             [
              0.3333333333333333,
              "#9c179e"
             ],
             [
              0.4444444444444444,
              "#bd3786"
             ],
             [
              0.5555555555555556,
              "#d8576b"
             ],
             [
              0.6666666666666666,
              "#ed7953"
             ],
             [
              0.7777777777777778,
              "#fb9f3a"
             ],
             [
              0.8888888888888888,
              "#fdca26"
             ],
             [
              1.0,
              "#f0f921"
             ]
            ],
            "type": "contour"
           }
          ],
          "contourcarpet": [
           {
            "colorbar": {
             "outlinewidth": 0,
             "ticks": ""
            },
            "type": "contourcarpet"
           }
          ],
          "heatmap": [
           {
            "colorbar": {
             "outlinewidth": 0,
             "ticks": ""
            },
            "colorscale": [
             [
              0.0,
              "#0d0887"
             ],
             [
              0.1111111111111111,
              "#46039f"
             ],
             [
              0.2222222222222222,
              "#7201a8"
             ],
             [
              0.3333333333333333,
              "#9c179e"
             ],
             [
              0.4444444444444444,
              "#bd3786"
             ],
             [
              0.5555555555555556,
              "#d8576b"
             ],
             [
              0.6666666666666666,
              "#ed7953"
             ],
             [
              0.7777777777777778,
              "#fb9f3a"
             ],
             [
              0.8888888888888888,
              "#fdca26"
             ],
             [
              1.0,
              "#f0f921"
             ]
            ],
            "type": "heatmap"
           }
          ],
          "heatmapgl": [
           {
            "colorbar": {
             "outlinewidth": 0,
             "ticks": ""
            },
            "colorscale": [
             [
              0.0,
              "#0d0887"
             ],
             [
              0.1111111111111111,
              "#46039f"
             ],
             [
              0.2222222222222222,
              "#7201a8"
             ],
             [
              0.3333333333333333,
              "#9c179e"
             ],
             [
              0.4444444444444444,
              "#bd3786"
             ],
             [
              0.5555555555555556,
              "#d8576b"
             ],
             [
              0.6666666666666666,
              "#ed7953"
             ],
             [
              0.7777777777777778,
              "#fb9f3a"
             ],
             [
              0.8888888888888888,
              "#fdca26"
             ],
             [
              1.0,
              "#f0f921"
             ]
            ],
            "type": "heatmapgl"
           }
          ],
          "histogram": [
           {
            "marker": {
             "pattern": {
              "fillmode": "overlay",
              "size": 10,
              "solidity": 0.2
             }
            },
            "type": "histogram"
           }
          ],
          "histogram2d": [
           {
            "colorbar": {
             "outlinewidth": 0,
             "ticks": ""
            },
            "colorscale": [
             [
              0.0,
              "#0d0887"
             ],
             [
              0.1111111111111111,
              "#46039f"
             ],
             [
              0.2222222222222222,
              "#7201a8"
             ],
             [
              0.3333333333333333,
              "#9c179e"
             ],
             [
              0.4444444444444444,
              "#bd3786"
             ],
             [
              0.5555555555555556,
              "#d8576b"
             ],
             [
              0.6666666666666666,
              "#ed7953"
             ],
             [
              0.7777777777777778,
              "#fb9f3a"
             ],
             [
              0.8888888888888888,
              "#fdca26"
             ],
             [
              1.0,
              "#f0f921"
             ]
            ],
            "type": "histogram2d"
           }
          ],
          "histogram2dcontour": [
           {
            "colorbar": {
             "outlinewidth": 0,
             "ticks": ""
            },
            "colorscale": [
             [
              0.0,
              "#0d0887"
             ],
             [
              0.1111111111111111,
              "#46039f"
             ],
             [
              0.2222222222222222,
              "#7201a8"
             ],
             [
              0.3333333333333333,
              "#9c179e"
             ],
             [
              0.4444444444444444,
              "#bd3786"
             ],
             [
              0.5555555555555556,
              "#d8576b"
             ],
             [
              0.6666666666666666,
              "#ed7953"
             ],
             [
              0.7777777777777778,
              "#fb9f3a"
             ],
             [
              0.8888888888888888,
              "#fdca26"
             ],
             [
              1.0,
              "#f0f921"
             ]
            ],
            "type": "histogram2dcontour"
           }
          ],
          "mesh3d": [
           {
            "colorbar": {
             "outlinewidth": 0,
             "ticks": ""
            },
            "type": "mesh3d"
           }
          ],
          "parcoords": [
           {
            "line": {
             "colorbar": {
              "outlinewidth": 0,
              "ticks": ""
             }
            },
            "type": "parcoords"
           }
          ],
          "pie": [
           {
            "automargin": true,
            "type": "pie"
           }
          ],
          "scatter": [
           {
            "marker": {
             "colorbar": {
              "outlinewidth": 0,
              "ticks": ""
             }
            },
            "type": "scatter"
           }
          ],
          "scatter3d": [
           {
            "line": {
             "colorbar": {
              "outlinewidth": 0,
              "ticks": ""
             }
            },
            "marker": {
             "colorbar": {
              "outlinewidth": 0,
              "ticks": ""
             }
            },
            "type": "scatter3d"
           }
          ],
          "scattercarpet": [
           {
            "marker": {
             "colorbar": {
              "outlinewidth": 0,
              "ticks": ""
             }
            },
            "type": "scattercarpet"
           }
          ],
          "scattergeo": [
           {
            "marker": {
             "colorbar": {
              "outlinewidth": 0,
              "ticks": ""
             }
            },
            "type": "scattergeo"
           }
          ],
          "scattergl": [
           {
            "marker": {
             "colorbar": {
              "outlinewidth": 0,
              "ticks": ""
             }
            },
            "type": "scattergl"
           }
          ],
          "scattermapbox": [
           {
            "marker": {
             "colorbar": {
              "outlinewidth": 0,
              "ticks": ""
             }
            },
            "type": "scattermapbox"
           }
          ],
          "scatterpolar": [
           {
            "marker": {
             "colorbar": {
              "outlinewidth": 0,
              "ticks": ""
             }
            },
            "type": "scatterpolar"
           }
          ],
          "scatterpolargl": [
           {
            "marker": {
             "colorbar": {
              "outlinewidth": 0,
              "ticks": ""
             }
            },
            "type": "scatterpolargl"
           }
          ],
          "scatterternary": [
           {
            "marker": {
             "colorbar": {
              "outlinewidth": 0,
              "ticks": ""
             }
            },
            "type": "scatterternary"
           }
          ],
          "surface": [
           {
            "colorbar": {
             "outlinewidth": 0,
             "ticks": ""
            },
            "colorscale": [
             [
              0.0,
              "#0d0887"
             ],
             [
              0.1111111111111111,
              "#46039f"
             ],
             [
              0.2222222222222222,
              "#7201a8"
             ],
             [
              0.3333333333333333,
              "#9c179e"
             ],
             [
              0.4444444444444444,
              "#bd3786"
             ],
             [
              0.5555555555555556,
              "#d8576b"
             ],
             [
              0.6666666666666666,
              "#ed7953"
             ],
             [
              0.7777777777777778,
              "#fb9f3a"
             ],
             [
              0.8888888888888888,
              "#fdca26"
             ],
             [
              1.0,
              "#f0f921"
             ]
            ],
            "type": "surface"
           }
          ],
          "table": [
           {
            "cells": {
             "fill": {
              "color": "#EBF0F8"
             },
             "line": {
              "color": "white"
             }
            },
            "header": {
             "fill": {
              "color": "#C8D4E3"
             },
             "line": {
              "color": "white"
             }
            },
            "type": "table"
           }
          ]
         },
         "layout": {
          "annotationdefaults": {
           "arrowcolor": "#2a3f5f",
           "arrowhead": 0,
           "arrowwidth": 1
          },
          "autotypenumbers": "strict",
          "coloraxis": {
           "colorbar": {
            "outlinewidth": 0,
            "ticks": ""
           }
          },
          "colorscale": {
           "diverging": [
            [
             0,
             "#8e0152"
            ],
            [
             0.1,
             "#c51b7d"
            ],
            [
             0.2,
             "#de77ae"
            ],
            [
             0.3,
             "#f1b6da"
            ],
            [
             0.4,
             "#fde0ef"
            ],
            [
             0.5,
             "#f7f7f7"
            ],
            [
             0.6,
             "#e6f5d0"
            ],
            [
             0.7,
             "#b8e186"
            ],
            [
             0.8,
             "#7fbc41"
            ],
            [
             0.9,
             "#4d9221"
            ],
            [
             1,
             "#276419"
            ]
           ],
           "sequential": [
            [
             0.0,
             "#0d0887"
            ],
            [
             0.1111111111111111,
             "#46039f"
            ],
            [
             0.2222222222222222,
             "#7201a8"
            ],
            [
             0.3333333333333333,
             "#9c179e"
            ],
            [
             0.4444444444444444,
             "#bd3786"
            ],
            [
             0.5555555555555556,
             "#d8576b"
            ],
            [
             0.6666666666666666,
             "#ed7953"
            ],
            [
             0.7777777777777778,
             "#fb9f3a"
            ],
            [
             0.8888888888888888,
             "#fdca26"
            ],
            [
             1.0,
             "#f0f921"
            ]
           ],
           "sequentialminus": [
            [
             0.0,
             "#0d0887"
            ],
            [
             0.1111111111111111,
             "#46039f"
            ],
            [
             0.2222222222222222,
             "#7201a8"
            ],
            [
             0.3333333333333333,
             "#9c179e"
            ],
            [
             0.4444444444444444,
             "#bd3786"
            ],
            [
             0.5555555555555556,
             "#d8576b"
            ],
            [
             0.6666666666666666,
             "#ed7953"
            ],
            [
             0.7777777777777778,
             "#fb9f3a"
            ],
            [
             0.8888888888888888,
             "#fdca26"
            ],
            [
             1.0,
             "#f0f921"
            ]
           ]
          },
          "colorway": [
           "#636efa",
           "#EF553B",
           "#00cc96",
           "#ab63fa",
           "#FFA15A",
           "#19d3f3",
           "#FF6692",
           "#B6E880",
           "#FF97FF",
           "#FECB52"
          ],
          "font": {
           "color": "#2a3f5f"
          },
          "geo": {
           "bgcolor": "white",
           "lakecolor": "white",
           "landcolor": "white",
           "showlakes": true,
           "showland": true,
           "subunitcolor": "#C8D4E3"
          },
          "hoverlabel": {
           "align": "left"
          },
          "hovermode": "closest",
          "mapbox": {
           "style": "light"
          },
          "paper_bgcolor": "white",
          "plot_bgcolor": "white",
          "polar": {
           "angularaxis": {
            "gridcolor": "#EBF0F8",
            "linecolor": "#EBF0F8",
            "ticks": ""
           },
           "bgcolor": "white",
           "radialaxis": {
            "gridcolor": "#EBF0F8",
            "linecolor": "#EBF0F8",
            "ticks": ""
           }
          },
          "scene": {
           "xaxis": {
            "backgroundcolor": "white",
            "gridcolor": "#DFE8F3",
            "gridwidth": 2,
            "linecolor": "#EBF0F8",
            "showbackground": true,
            "ticks": "",
            "zerolinecolor": "#EBF0F8"
           },
           "yaxis": {
            "backgroundcolor": "white",
            "gridcolor": "#DFE8F3",
            "gridwidth": 2,
            "linecolor": "#EBF0F8",
            "showbackground": true,
            "ticks": "",
            "zerolinecolor": "#EBF0F8"
           },
           "zaxis": {
            "backgroundcolor": "white",
            "gridcolor": "#DFE8F3",
            "gridwidth": 2,
            "linecolor": "#EBF0F8",
            "showbackground": true,
            "ticks": "",
            "zerolinecolor": "#EBF0F8"
           }
          },
          "shapedefaults": {
           "line": {
            "color": "#2a3f5f"
           }
          },
          "ternary": {
           "aaxis": {
            "gridcolor": "#DFE8F3",
            "linecolor": "#A2B1C6",
            "ticks": ""
           },
           "baxis": {
            "gridcolor": "#DFE8F3",
            "linecolor": "#A2B1C6",
            "ticks": ""
           },
           "bgcolor": "white",
           "caxis": {
            "gridcolor": "#DFE8F3",
            "linecolor": "#A2B1C6",
            "ticks": ""
           }
          },
          "title": {
           "x": 0.05
          },
          "xaxis": {
           "automargin": true,
           "gridcolor": "#EBF0F8",
           "linecolor": "#EBF0F8",
           "ticks": "",
           "title": {
            "standoff": 15
           },
           "zerolinecolor": "#EBF0F8",
           "zerolinewidth": 2
          },
          "yaxis": {
           "automargin": true,
           "gridcolor": "#EBF0F8",
           "linecolor": "#EBF0F8",
           "ticks": "",
           "title": {
            "standoff": 15
           },
           "zerolinecolor": "#EBF0F8",
           "zerolinewidth": 2
          }
         }
        },
        "title": {
         "text": "Phantom jan - 37°C Z-spectrum - 20mM, pH 7.2",
         "x": 0.02,
         "y": 0.97
        },
        "width": 700,
        "xaxis": {
         "anchor": "y",
         "autorange": "reversed",
         "domain": [
          0.0,
          0.495
         ],
         "dtick": 1,
         "tick0": 0,
         "tickmode": "linear"
        },
        "xaxis2": {
         "anchor": "y2",
         "autorange": "reversed",
         "domain": [
          0.505,
          1.0
         ],
         "dtick": 1,
         "tick0": 0,
         "tickmode": "linear"
        },
        "yaxis": {
         "anchor": "x",
         "domain": [
          0.0,
          1.0
         ],
         "dtick": 0.2,
         "range": [
          -0.1,
          1.15
         ],
         "tick0": 0,
         "tickmode": "linear",
         "title": {
          "standoff": 2,
          "text": "$M_{sat}/M_0$"
         }
        },
        "yaxis2": {
         "anchor": "x2",
         "domain": [
          0.0,
          1.0
         ],
         "dtick": 0.2,
         "range": [
          -0.1,
          1.15
         ],
         "tick0": 0,
         "tickmode": "linear"
        }
       }
      },
      "text/html": "<div>                            <div id=\"040735d1-3778-4855-b23f-8c8b9a3d8027\" class=\"plotly-graph-div\" style=\"height:300px; width:700px;\"></div>            <script type=\"text/javascript\">                require([\"plotly\"], function(Plotly) {                    window.PLOTLYENV=window.PLOTLYENV || {};                                    if (document.getElementById(\"040735d1-3778-4855-b23f-8c8b9a3d8027\")) {                    Plotly.newPlot(                        \"040735d1-3778-4855-b23f-8c8b9a3d8027\",                        [{\"legendgroup\":\"1_1_1\",\"line\":{\"color\":\"#1f77b4\"},\"name\":\"real z\",\"showlegend\":true,\"type\":\"scatter\",\"x\":[7.0,6.75,6.5,6.25,6.0,5.75,5.5,5.25,5.0,4.75,4.5,4.25,4.0,3.75,3.5,3.25,3.0,2.75,2.5,2.25,2.0,1.75,1.5,1.25,1.0,0.75,0.5,0.25,0.0,-0.25,-0.5,-0.75,-1.0,-1.25,-1.5,-1.75,-2.0,-2.25,-2.5,-2.75,-3.0,-3.25,-3.5,-3.75,-4.0,-4.25,-4.5,-4.75,-5.0,-5.25,-5.5,-5.75,-6.0,-6.25,-6.5,-6.75,-7.0],\"xaxis\":\"x\",\"y\":[0.9056893253535261,0.9048033606916213,0.9011739717930926,0.8997605756682753,0.8981849243160157,0.8954603519095977,0.8927953376904735,0.8898792097664344,0.8874594433030991,0.8826529294888026,0.8769417309815657,0.8717790306819386,0.8646005488120566,0.8561911139476456,0.8444762575218202,0.8329027420947996,0.8185596994505192,0.7998814731627483,0.777346281866863,0.7488624125667614,0.7130001032927099,0.6650557231131551,0.6015341370830671,0.5181875738096672,0.4102065854481683,0.27794870839189,0.14203360860745426,0.039844818837158805,0.0035099179064469353,0.03709493749108602,0.14319814392849295,0.2915568551329045,0.43636960478650255,0.5520930147959207,0.6398447362017078,0.7026827659803336,0.7502961815112037,0.7850523593045688,0.809669821997107,0.8298510320477819,0.8464386481190235,0.8586641824056828,0.868424957423781,0.8770282617965267,0.8844194219896188,0.8896651176642252,0.8937464761773845,0.8977337929448432,0.9012521056177075,0.9031109916391431,0.904932806902989,0.9062088129111577,0.9076166892903691,0.9088583383079288,0.9093457702829055,0.9117387426786321,0.9130029708751822],\"yaxis\":\"y\"},{\"legendgroup\":\"1_1_1\",\"line\":{\"color\":\"#1f77b4\"},\"name\":\"fit z\",\"opacity\":0.5,\"showlegend\":true,\"type\":\"scatter\",\"x\":[7.0,6.75,6.5,6.25,6.0,5.75,5.5,5.25,5.0,4.75,4.5,4.25,4.0,3.75,3.5,3.25,3.0,2.75,2.5,2.25,2.0,1.75,1.5,1.25,1.0,0.75,0.5,0.25,0.0,-0.25,-0.5,-0.75,-1.0,-1.25,-1.5,-1.75,-2.0,-2.25,-2.5,-2.75,-3.0,-3.25,-3.5,-3.75,-4.0,-4.25,-4.5,-4.75,-5.0,-5.25,-5.5,-5.75,-6.0,-6.25,-6.5,-6.75,-7.0],\"xaxis\":\"x\",\"y\":[0.9873373491652098,0.986049099693967,0.9845672530962005,0.9828563822634585,0.9808742618881096,0.9785707623983568,0.9758866834034919,0.9727525551877855,0.9690874076889029,0.9647974169886345,0.9597741441890822,0.9538917273305576,0.9470018294707115,0.9389243728062122,0.9294311237112386,0.9182180371199901,0.9048607302751888,0.888744890078949,0.868958455105421,0.8441228247289957,0.8121233901466133,0.7696748966572553,0.7116425032828193,0.6301539109954597,0.5143858292764744,0.3559510708645459,0.17503835272783957,0.045158674539836186,2.2022257709949195e-23,0.04834736590648335,0.201167891298341,0.41326639785351804,0.5874812027519201,0.7065271494329836,0.7853086602959805,0.8382404432804598,0.8748007924035949,0.9007981426245911,0.9197921141051274,0.9340102020542765,0.9448839223165347,0.9533585155418026,0.9600743498937386,0.9654756147783422,0.9698771053320423,0.9735062936333695,0.9765304685560237,0.9790746357435225,0.9812335677828325,0.9830800707866809,0.9846707546261378,0.9860501254772497,0.9872535314741024,0.9883093118516304,0.9892403847677248,0.9900654341447834,0.9907998064353323],\"yaxis\":\"y\"},{\"legendgroup\":\"1_2_1\",\"line\":{\"color\":\"#1f77b4\"},\"name\":\"real z\",\"showlegend\":false,\"type\":\"scatter\",\"x\":[7.0,6.75,6.5,6.25,6.0,5.75,5.5,5.25,5.0,4.75,4.5,4.25,4.0,3.75,3.5,3.25,3.0,2.75,2.5,2.25,2.0,1.75,1.5,1.25,1.0,0.75,0.5,0.25,0.0,-0.25,-0.5,-0.75,-1.0,-1.25,-1.5,-1.75,-2.0,-2.25,-2.5,-2.75,-3.0,-3.25,-3.5,-3.75,-4.0,-4.25,-4.5,-4.75,-5.0,-5.25,-5.5,-5.75,-6.0,-6.25,-6.5,-6.75,-7.0],\"xaxis\":\"x2\",\"y\":[0.8833438079908477,0.8816493182484268,0.8766615830557418,0.8725758911288879,0.8680123366993509,0.8613208728260358,0.8546974544863822,0.8472197622641587,0.8394750746924599,0.8305665784713432,0.8186859633989221,0.8072038712113838,0.7936832919485888,0.7783804501509493,0.7598014413012567,0.7387500414442377,0.7139605856167816,0.6826497866767869,0.6453104809162563,0.6014249015723795,0.5478817344789887,0.4829952084016447,0.4050416677965727,0.31978633644567733,0.22730207130035232,0.13920012456578218,0.0654259422781978,0.018478474700091372,0.003010978509957761,0.01837843583844338,0.06836552398466494,0.1505823390099597,0.2533020479692775,0.3581523700994469,0.45434030129097286,0.5349136642077071,0.6040451342831589,0.6586505147060948,0.7013735965753116,0.7372935884454982,0.7657321685958403,0.7877817577019569,0.8061183779603357,0.8207605340992161,0.8338391830488462,0.8444867071842806,0.8520476167996495,0.8605602116808284,0.8677685946759555,0.8736075281401913,0.878779193737143,0.8836619444077715,0.8886751331428917,0.8916658195822508,0.8933339239588067,0.8970443664888843,0.8987984115596529],\"yaxis\":\"y2\"},{\"legendgroup\":\"1_2_1\",\"line\":{\"color\":\"#1f77b4\"},\"name\":\"fit z\",\"opacity\":0.5,\"showlegend\":false,\"type\":\"scatter\",\"x\":[7.0,6.75,6.5,6.25,6.0,5.75,5.5,5.25,5.0,4.75,4.5,4.25,4.0,3.75,3.5,3.25,3.0,2.75,2.5,2.25,2.0,1.75,1.5,1.25,1.0,0.75,0.5,0.25,0.0,-0.25,-0.5,-0.75,-1.0,-1.25,-1.5,-1.75,-2.0,-2.25,-2.5,-2.75,-3.0,-3.25,-3.5,-3.75,-4.0,-4.25,-4.5,-4.75,-5.0,-5.25,-5.5,-5.75,-6.0,-6.25,-6.5,-6.75,-7.0],\"xaxis\":\"x2\",\"y\":[0.9508331990426698,0.9459933084834672,0.9404610948932017,0.9341196529540843,0.9268330028804657,0.918444360974648,0.9087750017931213,0.8976240412933365,0.8847694094625929,0.8699700343339265,0.8529687283169977,0.8334943999455221,0.8112611031376933,0.7859604371547751,0.7572435880675459,0.7246907117982917,0.6877691888960391,0.6457891814279545,0.5978760716049882,0.542998188816758,0.48012219965137626,0.40862590749669686,0.32916034836434904,0.24506345503493493,0.16364472697974122,0.09464255078717511,0.04387816802093105,0.0116085610634632,5.5344854764853395e-24,0.012387894928314451,0.05014138639742231,0.11686656633239634,0.21396038097936132,0.32684848291156965,0.43667338668822453,0.5328382296330626,0.6126008914234295,0.6771478705230588,0.728939031967881,0.7705010548770951,0.804010965959191,0.8312178039163846,0.853484668321713,0.8718610893349553,0.8871529538239248,0.8999805005614505,0.9108235174642839,0.9200555890990852,0.9279697363492753,0.9347975426010482,0.9407234370423826,0.945895402356265,0.9504330455002066,0.9544337194265846,0.957977197975058,0.9611292708424866,0.9639445274963396],\"yaxis\":\"y2\"}],                        {\"annotations\":[{\"font\":{\"size\":16},\"showarrow\":false,\"text\":\"4uT\",\"x\":0.2475,\"xanchor\":\"center\",\"xref\":\"paper\",\"y\":1.0,\"yanchor\":\"bottom\",\"yref\":\"paper\"},{\"font\":{\"size\":16},\"showarrow\":false,\"text\":\"6uT\",\"x\":0.7525,\"xanchor\":\"center\",\"xref\":\"paper\",\"y\":1.0,\"yanchor\":\"bottom\",\"yref\":\"paper\"}],\"height\":300,\"margin\":{\"b\":0,\"l\":45,\"r\":0,\"t\":50},\"template\":{\"data\":{\"bar\":[{\"error_x\":{\"color\":\"#2a3f5f\"},\"error_y\":{\"color\":\"#2a3f5f\"},\"marker\":{\"line\":{\"color\":\"white\",\"width\":0.5},\"pattern\":{\"fillmode\":\"overlay\",\"size\":10,\"solidity\":0.2}},\"type\":\"bar\"}],\"barpolar\":[{\"marker\":{\"line\":{\"color\":\"white\",\"width\":0.5},\"pattern\":{\"fillmode\":\"overlay\",\"size\":10,\"solidity\":0.2}},\"type\":\"barpolar\"}],\"carpet\":[{\"aaxis\":{\"endlinecolor\":\"#2a3f5f\",\"gridcolor\":\"#C8D4E3\",\"linecolor\":\"#C8D4E3\",\"minorgridcolor\":\"#C8D4E3\",\"startlinecolor\":\"#2a3f5f\"},\"baxis\":{\"endlinecolor\":\"#2a3f5f\",\"gridcolor\":\"#C8D4E3\",\"linecolor\":\"#C8D4E3\",\"minorgridcolor\":\"#C8D4E3\",\"startlinecolor\":\"#2a3f5f\"},\"type\":\"carpet\"}],\"choropleth\":[{\"colorbar\":{\"outlinewidth\":0,\"ticks\":\"\"},\"type\":\"choropleth\"}],\"contour\":[{\"colorbar\":{\"outlinewidth\":0,\"ticks\":\"\"},\"colorscale\":[[0.0,\"#0d0887\"],[0.1111111111111111,\"#46039f\"],[0.2222222222222222,\"#7201a8\"],[0.3333333333333333,\"#9c179e\"],[0.4444444444444444,\"#bd3786\"],[0.5555555555555556,\"#d8576b\"],[0.6666666666666666,\"#ed7953\"],[0.7777777777777778,\"#fb9f3a\"],[0.8888888888888888,\"#fdca26\"],[1.0,\"#f0f921\"]],\"type\":\"contour\"}],\"contourcarpet\":[{\"colorbar\":{\"outlinewidth\":0,\"ticks\":\"\"},\"type\":\"contourcarpet\"}],\"heatmap\":[{\"colorbar\":{\"outlinewidth\":0,\"ticks\":\"\"},\"colorscale\":[[0.0,\"#0d0887\"],[0.1111111111111111,\"#46039f\"],[0.2222222222222222,\"#7201a8\"],[0.3333333333333333,\"#9c179e\"],[0.4444444444444444,\"#bd3786\"],[0.5555555555555556,\"#d8576b\"],[0.6666666666666666,\"#ed7953\"],[0.7777777777777778,\"#fb9f3a\"],[0.8888888888888888,\"#fdca26\"],[1.0,\"#f0f921\"]],\"type\":\"heatmap\"}],\"heatmapgl\":[{\"colorbar\":{\"outlinewidth\":0,\"ticks\":\"\"},\"colorscale\":[[0.0,\"#0d0887\"],[0.1111111111111111,\"#46039f\"],[0.2222222222222222,\"#7201a8\"],[0.3333333333333333,\"#9c179e\"],[0.4444444444444444,\"#bd3786\"],[0.5555555555555556,\"#d8576b\"],[0.6666666666666666,\"#ed7953\"],[0.7777777777777778,\"#fb9f3a\"],[0.8888888888888888,\"#fdca26\"],[1.0,\"#f0f921\"]],\"type\":\"heatmapgl\"}],\"histogram\":[{\"marker\":{\"pattern\":{\"fillmode\":\"overlay\",\"size\":10,\"solidity\":0.2}},\"type\":\"histogram\"}],\"histogram2d\":[{\"colorbar\":{\"outlinewidth\":0,\"ticks\":\"\"},\"colorscale\":[[0.0,\"#0d0887\"],[0.1111111111111111,\"#46039f\"],[0.2222222222222222,\"#7201a8\"],[0.3333333333333333,\"#9c179e\"],[0.4444444444444444,\"#bd3786\"],[0.5555555555555556,\"#d8576b\"],[0.6666666666666666,\"#ed7953\"],[0.7777777777777778,\"#fb9f3a\"],[0.8888888888888888,\"#fdca26\"],[1.0,\"#f0f921\"]],\"type\":\"histogram2d\"}],\"histogram2dcontour\":[{\"colorbar\":{\"outlinewidth\":0,\"ticks\":\"\"},\"colorscale\":[[0.0,\"#0d0887\"],[0.1111111111111111,\"#46039f\"],[0.2222222222222222,\"#7201a8\"],[0.3333333333333333,\"#9c179e\"],[0.4444444444444444,\"#bd3786\"],[0.5555555555555556,\"#d8576b\"],[0.6666666666666666,\"#ed7953\"],[0.7777777777777778,\"#fb9f3a\"],[0.8888888888888888,\"#fdca26\"],[1.0,\"#f0f921\"]],\"type\":\"histogram2dcontour\"}],\"mesh3d\":[{\"colorbar\":{\"outlinewidth\":0,\"ticks\":\"\"},\"type\":\"mesh3d\"}],\"parcoords\":[{\"line\":{\"colorbar\":{\"outlinewidth\":0,\"ticks\":\"\"}},\"type\":\"parcoords\"}],\"pie\":[{\"automargin\":true,\"type\":\"pie\"}],\"scatter\":[{\"marker\":{\"colorbar\":{\"outlinewidth\":0,\"ticks\":\"\"}},\"type\":\"scatter\"}],\"scatter3d\":[{\"line\":{\"colorbar\":{\"outlinewidth\":0,\"ticks\":\"\"}},\"marker\":{\"colorbar\":{\"outlinewidth\":0,\"ticks\":\"\"}},\"type\":\"scatter3d\"}],\"scattercarpet\":[{\"marker\":{\"colorbar\":{\"outlinewidth\":0,\"ticks\":\"\"}},\"type\":\"scattercarpet\"}],\"scattergeo\":[{\"marker\":{\"colorbar\":{\"outlinewidth\":0,\"ticks\":\"\"}},\"type\":\"scattergeo\"}],\"scattergl\":[{\"marker\":{\"colorbar\":{\"outlinewidth\":0,\"ticks\":\"\"}},\"type\":\"scattergl\"}],\"scattermapbox\":[{\"marker\":{\"colorbar\":{\"outlinewidth\":0,\"ticks\":\"\"}},\"type\":\"scattermapbox\"}],\"scatterpolar\":[{\"marker\":{\"colorbar\":{\"outlinewidth\":0,\"ticks\":\"\"}},\"type\":\"scatterpolar\"}],\"scatterpolargl\":[{\"marker\":{\"colorbar\":{\"outlinewidth\":0,\"ticks\":\"\"}},\"type\":\"scatterpolargl\"}],\"scatterternary\":[{\"marker\":{\"colorbar\":{\"outlinewidth\":0,\"ticks\":\"\"}},\"type\":\"scatterternary\"}],\"surface\":[{\"colorbar\":{\"outlinewidth\":0,\"ticks\":\"\"},\"colorscale\":[[0.0,\"#0d0887\"],[0.1111111111111111,\"#46039f\"],[0.2222222222222222,\"#7201a8\"],[0.3333333333333333,\"#9c179e\"],[0.4444444444444444,\"#bd3786\"],[0.5555555555555556,\"#d8576b\"],[0.6666666666666666,\"#ed7953\"],[0.7777777777777778,\"#fb9f3a\"],[0.8888888888888888,\"#fdca26\"],[1.0,\"#f0f921\"]],\"type\":\"surface\"}],\"table\":[{\"cells\":{\"fill\":{\"color\":\"#EBF0F8\"},\"line\":{\"color\":\"white\"}},\"header\":{\"fill\":{\"color\":\"#C8D4E3\"},\"line\":{\"color\":\"white\"}},\"type\":\"table\"}]},\"layout\":{\"annotationdefaults\":{\"arrowcolor\":\"#2a3f5f\",\"arrowhead\":0,\"arrowwidth\":1},\"autotypenumbers\":\"strict\",\"coloraxis\":{\"colorbar\":{\"outlinewidth\":0,\"ticks\":\"\"}},\"colorscale\":{\"diverging\":[[0,\"#8e0152\"],[0.1,\"#c51b7d\"],[0.2,\"#de77ae\"],[0.3,\"#f1b6da\"],[0.4,\"#fde0ef\"],[0.5,\"#f7f7f7\"],[0.6,\"#e6f5d0\"],[0.7,\"#b8e186\"],[0.8,\"#7fbc41\"],[0.9,\"#4d9221\"],[1,\"#276419\"]],\"sequential\":[[0.0,\"#0d0887\"],[0.1111111111111111,\"#46039f\"],[0.2222222222222222,\"#7201a8\"],[0.3333333333333333,\"#9c179e\"],[0.4444444444444444,\"#bd3786\"],[0.5555555555555556,\"#d8576b\"],[0.6666666666666666,\"#ed7953\"],[0.7777777777777778,\"#fb9f3a\"],[0.8888888888888888,\"#fdca26\"],[1.0,\"#f0f921\"]],\"sequentialminus\":[[0.0,\"#0d0887\"],[0.1111111111111111,\"#46039f\"],[0.2222222222222222,\"#7201a8\"],[0.3333333333333333,\"#9c179e\"],[0.4444444444444444,\"#bd3786\"],[0.5555555555555556,\"#d8576b\"],[0.6666666666666666,\"#ed7953\"],[0.7777777777777778,\"#fb9f3a\"],[0.8888888888888888,\"#fdca26\"],[1.0,\"#f0f921\"]]},\"colorway\":[\"#636efa\",\"#EF553B\",\"#00cc96\",\"#ab63fa\",\"#FFA15A\",\"#19d3f3\",\"#FF6692\",\"#B6E880\",\"#FF97FF\",\"#FECB52\"],\"font\":{\"color\":\"#2a3f5f\"},\"geo\":{\"bgcolor\":\"white\",\"lakecolor\":\"white\",\"landcolor\":\"white\",\"showlakes\":true,\"showland\":true,\"subunitcolor\":\"#C8D4E3\"},\"hoverlabel\":{\"align\":\"left\"},\"hovermode\":\"closest\",\"mapbox\":{\"style\":\"light\"},\"paper_bgcolor\":\"white\",\"plot_bgcolor\":\"white\",\"polar\":{\"angularaxis\":{\"gridcolor\":\"#EBF0F8\",\"linecolor\":\"#EBF0F8\",\"ticks\":\"\"},\"bgcolor\":\"white\",\"radialaxis\":{\"gridcolor\":\"#EBF0F8\",\"linecolor\":\"#EBF0F8\",\"ticks\":\"\"}},\"scene\":{\"xaxis\":{\"backgroundcolor\":\"white\",\"gridcolor\":\"#DFE8F3\",\"gridwidth\":2,\"linecolor\":\"#EBF0F8\",\"showbackground\":true,\"ticks\":\"\",\"zerolinecolor\":\"#EBF0F8\"},\"yaxis\":{\"backgroundcolor\":\"white\",\"gridcolor\":\"#DFE8F3\",\"gridwidth\":2,\"linecolor\":\"#EBF0F8\",\"showbackground\":true,\"ticks\":\"\",\"zerolinecolor\":\"#EBF0F8\"},\"zaxis\":{\"backgroundcolor\":\"white\",\"gridcolor\":\"#DFE8F3\",\"gridwidth\":2,\"linecolor\":\"#EBF0F8\",\"showbackground\":true,\"ticks\":\"\",\"zerolinecolor\":\"#EBF0F8\"}},\"shapedefaults\":{\"line\":{\"color\":\"#2a3f5f\"}},\"ternary\":{\"aaxis\":{\"gridcolor\":\"#DFE8F3\",\"linecolor\":\"#A2B1C6\",\"ticks\":\"\"},\"baxis\":{\"gridcolor\":\"#DFE8F3\",\"linecolor\":\"#A2B1C6\",\"ticks\":\"\"},\"bgcolor\":\"white\",\"caxis\":{\"gridcolor\":\"#DFE8F3\",\"linecolor\":\"#A2B1C6\",\"ticks\":\"\"}},\"title\":{\"x\":0.05},\"xaxis\":{\"automargin\":true,\"gridcolor\":\"#EBF0F8\",\"linecolor\":\"#EBF0F8\",\"ticks\":\"\",\"title\":{\"standoff\":15},\"zerolinecolor\":\"#EBF0F8\",\"zerolinewidth\":2},\"yaxis\":{\"automargin\":true,\"gridcolor\":\"#EBF0F8\",\"linecolor\":\"#EBF0F8\",\"ticks\":\"\",\"title\":{\"standoff\":15},\"zerolinecolor\":\"#EBF0F8\",\"zerolinewidth\":2}}},\"title\":{\"text\":\"Phantom jan - 37\\u00b0C Z-spectrum - 20mM, pH 7.2\",\"x\":0.02,\"y\":0.97},\"width\":700,\"xaxis\":{\"anchor\":\"y\",\"autorange\":\"reversed\",\"domain\":[0.0,0.495],\"dtick\":1,\"tick0\":0,\"tickmode\":\"linear\"},\"xaxis2\":{\"anchor\":\"y2\",\"autorange\":\"reversed\",\"domain\":[0.505,1.0],\"dtick\":1,\"tick0\":0,\"tickmode\":\"linear\"},\"yaxis\":{\"anchor\":\"x\",\"domain\":[0.0,1.0],\"dtick\":0.2,\"range\":[-0.1,1.15],\"tick0\":0,\"tickmode\":\"linear\",\"title\":{\"standoff\":2,\"text\":\"$M_{sat}/M_0$\"}},\"yaxis2\":{\"anchor\":\"x2\",\"domain\":[0.0,1.0],\"dtick\":0.2,\"range\":[-0.1,1.15],\"tick0\":0,\"tickmode\":\"linear\"}},                        {\"responsive\": true}                    ).then(function(){\n                            \nvar gd = document.getElementById('040735d1-3778-4855-b23f-8c8b9a3d8027');\nvar x = new MutationObserver(function (mutations, observer) {{\n        var display = window.getComputedStyle(gd).display;\n        if (!display || display === 'none') {{\n            console.log([gd, 'removed!']);\n            Plotly.purge(gd);\n            observer.disconnect();\n        }}\n}});\n\n// Listen for the removal of the full notebook cells\nvar notebookContainer = gd.closest('#notebook-container');\nif (notebookContainer) {{\n    x.observe(notebookContainer, {childList: true});\n}}\n\n// Listen for the clearing of the current output cell\nvar outputEl = gd.closest('.output');\nif (outputEl) {{\n    x.observe(outputEl, {childList: true});\n}}\n\n                        })                };                });            </script>        </div>"
     },
     "metadata": {},
     "output_type": "display_data"
    },
    {
     "name": "stdout",
     "output_type": "stream",
     "text": [
      "[[Model]]\n",
      "    Model(<lambda>)\n",
      "[[Fit Statistics]]\n",
      "    # fitting method   = least_squares\n",
      "    # function evals   = 3732\n",
      "    # data points      = 114\n",
      "    # variables        = 5\n",
      "    chi-square         = 0.61555163\n",
      "    reduced chi-square = 0.00564726\n",
      "    Akaike info crit   = -585.243579\n",
      "    Bayesian info crit = -571.562587\n",
      "    R-squared          = 0.92606023\n",
      "##  Warning: uncertainties could not be estimated:\n",
      "    t1w:  at boundary\n",
      "    t2w:  at boundary\n",
      "    t2s:  at boundary\n",
      "[[Variables]]\n",
      "    kb:   5925.52193 (init = 7500)\n",
      "    t1w:  4.50000000 (init = 4)\n",
      "    t2w:  0.50000000 (init = 1.8)\n",
      "    tp:   3 (fixed)\n",
      "    fb:   0.0005454545 (fixed)\n",
      "    t1s:  3.49063500 (init = 1.2)\n",
      "    t2s:  0.00700000 (init = 0.1)\n"
     ]
    },
    {
     "data": {
      "application/vnd.plotly.v1+json": {
       "config": {
        "plotlyServerURL": "https://plot.ly"
       },
       "data": [
        {
         "legendgroup": "1_1_1",
         "line": {
          "color": "#ff7f0e"
         },
         "name": "real z",
         "showlegend": true,
         "type": "scatter",
         "x": [
          7.0,
          6.75,
          6.5,
          6.25,
          6.0,
          5.75,
          5.5,
          5.25,
          5.0,
          4.75,
          4.5,
          4.25,
          4.0,
          3.75,
          3.5,
          3.25,
          3.0,
          2.75,
          2.5,
          2.25,
          2.0,
          1.75,
          1.5,
          1.25,
          1.0,
          0.75,
          0.5,
          0.25,
          0.0,
          -0.25,
          -0.5,
          -0.75,
          -1.0,
          -1.25,
          -1.5,
          -1.75,
          -2.0,
          -2.25,
          -2.5,
          -2.75,
          -3.0,
          -3.25,
          -3.5,
          -3.75,
          -4.0,
          -4.25,
          -4.5,
          -4.75,
          -5.0,
          -5.25,
          -5.5,
          -5.75,
          -6.0,
          -6.25,
          -6.5,
          -6.75,
          -7.0
         ],
         "xaxis": "x",
         "y": [
          0.9009890385362377,
          0.8993131784909779,
          0.8982467897482492,
          0.8954762062514564,
          0.8923750817083199,
          0.8881332890897071,
          0.8856732425156528,
          0.8817670727600742,
          0.8767523970399059,
          0.8698745285907836,
          0.8643848859527846,
          0.8572404937815531,
          0.8485511200109367,
          0.8396805049182154,
          0.8281114348378317,
          0.8145585088629314,
          0.7980178219678439,
          0.7768834643939573,
          0.7532052165751768,
          0.7217461841556585,
          0.6822032522779291,
          0.6292072881550561,
          0.5637145493129351,
          0.47831231371743754,
          0.36960277361723154,
          0.24430105867004415,
          0.12262728121301535,
          0.03514439367358494,
          0.0031219179530545624,
          0.032628981958879345,
          0.12765761717258806,
          0.26988871538258746,
          0.41593838902217933,
          0.535815542725065,
          0.6268940248702701,
          0.6954915798738193,
          0.7437282697042557,
          0.7817655932517943,
          0.8085182265321216,
          0.828909427956891,
          0.8455428434142397,
          0.8574746188555432,
          0.867462931933591,
          0.8749022227407114,
          0.88084503717745,
          0.8859101815767632,
          0.8903644316438132,
          0.8931896180926531,
          0.8966495880497949,
          0.8999816787897037,
          0.9025283517992669,
          0.9042598949702717,
          0.9051989599116539,
          0.9082745443518006,
          0.9087237306060163,
          0.9105902951815231,
          0.9109407372464304
         ],
         "yaxis": "y"
        },
        {
         "legendgroup": "1_1_1",
         "line": {
          "color": "#ff7f0e"
         },
         "name": "fit z",
         "opacity": 0.5,
         "showlegend": true,
         "type": "scatter",
         "x": [
          7.0,
          6.75,
          6.5,
          6.25,
          6.0,
          5.75,
          5.5,
          5.25,
          5.0,
          4.75,
          4.5,
          4.25,
          4.0,
          3.75,
          3.5,
          3.25,
          3.0,
          2.75,
          2.5,
          2.25,
          2.0,
          1.75,
          1.5,
          1.25,
          1.0,
          0.75,
          0.5,
          0.25,
          0.0,
          -0.25,
          -0.5,
          -0.75,
          -1.0,
          -1.25,
          -1.5,
          -1.75,
          -2.0,
          -2.25,
          -2.5,
          -2.75,
          -3.0,
          -3.25,
          -3.5,
          -3.75,
          -4.0,
          -4.25,
          -4.5,
          -4.75,
          -5.0,
          -5.25,
          -5.5,
          -5.75,
          -6.0,
          -6.25,
          -6.5,
          -6.75,
          -7.0
         ],
         "xaxis": "x",
         "y": [
          0.987547672643959,
          0.9862373325954611,
          0.9847143405878227,
          0.9829349807222545,
          0.9808457856430333,
          0.9783816781690757,
          0.9754641003066999,
          0.9719994005411866,
          0.9678778994043796,
          0.9629741687504929,
          0.9571489986637682,
          0.9502530305704555,
          0.9421307772021696,
          0.9326215368984594,
          0.9215508779846057,
          0.9087040702089972,
          0.8937725289445588,
          0.876266044441552,
          0.8553840856136915,
          0.8298328920992165,
          0.7975564715392214,
          0.7553203523319769,
          0.6980688183345832,
          0.6180875588486194,
          0.5048252622687729,
          0.35011035122375095,
          0.173263423742474,
          0.04514575225802983,
          2.2188253464087607E-23,
          0.04904895836787809,
          0.20516150842577044,
          0.4200174129966727,
          0.5944713718431565,
          0.7126542500556173,
          0.7903785228841759,
          0.8423595889907863,
          0.8781381395926449,
          0.9035117216738828,
          0.9220121432567256,
          0.9358393926459847,
          0.9464021063341597,
          0.9546275857923812,
          0.9611424372938796,
          0.9663803597841985,
          0.9706481448688268,
          0.9741671317080772,
          0.9770998809873124,
          0.979567728057462,
          0.9816625760331034,
          0.983454971611249,
          0.9849997331703811,
          0.9863399368197432,
          0.9875097817434292,
          0.9885366783721623,
          0.9894427895978727,
          0.990246181744996,
          0.9909616935458357
         ],
         "yaxis": "y"
        },
        {
         "legendgroup": "1_2_1",
         "line": {
          "color": "#ff7f0e"
         },
         "name": "real z",
         "showlegend": false,
         "type": "scatter",
         "x": [
          7.0,
          6.75,
          6.5,
          6.25,
          6.0,
          5.75,
          5.5,
          5.25,
          5.0,
          4.75,
          4.5,
          4.25,
          4.0,
          3.75,
          3.5,
          3.25,
          3.0,
          2.75,
          2.5,
          2.25,
          2.0,
          1.75,
          1.5,
          1.25,
          1.0,
          0.75,
          0.5,
          0.25,
          0.0,
          -0.25,
          -0.5,
          -0.75,
          -1.0,
          -1.25,
          -1.5,
          -1.75,
          -2.0,
          -2.25,
          -2.5,
          -2.75,
          -3.0,
          -3.25,
          -3.5,
          -3.75,
          -4.0,
          -4.25,
          -4.5,
          -4.75,
          -5.0,
          -5.25,
          -5.5,
          -5.75,
          -6.0,
          -6.25,
          -6.5,
          -6.75,
          -7.0
         ],
         "xaxis": "x2",
         "y": [
          0.8768273902335734,
          0.8732419695030914,
          0.868558189682789,
          0.8627361309476088,
          0.8577067278256028,
          0.8511407495499771,
          0.8436229112647602,
          0.8354557099914443,
          0.82634066806281,
          0.8147727029689165,
          0.8029030259496445,
          0.7879018257422696,
          0.7713988065010301,
          0.7522155639763204,
          0.730917232665918,
          0.7060982768559306,
          0.6762485468033862,
          0.6418771466819484,
          0.6022378470417303,
          0.5560290283255412,
          0.49978371456101184,
          0.43424216678825794,
          0.36075115409006786,
          0.28053644315691495,
          0.1964781500198148,
          0.11772899508210147,
          0.055426034680437865,
          0.01609238256535952,
          0.002944217919722402,
          0.01612478880000001,
          0.062315930231775084,
          0.13817831772070388,
          0.23762862639338134,
          0.34297404400378845,
          0.43957454309395355,
          0.5238672635111703,
          0.5946911028754567,
          0.6511143284203759,
          0.6963235975297759,
          0.7333606446222365,
          0.7627471033519118,
          0.7872039761332255,
          0.8062225414836096,
          0.8223271491939567,
          0.8351617605359316,
          0.8469644532661222,
          0.855689276962548,
          0.8632374175050764,
          0.8696545608780946,
          0.8755604997931097,
          0.8799626657227552,
          0.8841352341561453,
          0.8874078919213981,
          0.8903752193954212,
          0.8918351143920337,
          0.895397799963311,
          0.8965907625837829
         ],
         "yaxis": "y2"
        },
        {
         "legendgroup": "1_2_1",
         "line": {
          "color": "#ff7f0e"
         },
         "name": "fit z",
         "opacity": 0.5,
         "showlegend": false,
         "type": "scatter",
         "x": [
          7.0,
          6.75,
          6.5,
          6.25,
          6.0,
          5.75,
          5.5,
          5.25,
          5.0,
          4.75,
          4.5,
          4.25,
          4.0,
          3.75,
          3.5,
          3.25,
          3.0,
          2.75,
          2.5,
          2.25,
          2.0,
          1.75,
          1.5,
          1.25,
          1.0,
          0.75,
          0.5,
          0.25,
          0.0,
          -0.25,
          -0.5,
          -0.75,
          -1.0,
          -1.25,
          -1.5,
          -1.75,
          -2.0,
          -2.25,
          -2.5,
          -2.75,
          -3.0,
          -3.25,
          -3.5,
          -3.75,
          -4.0,
          -4.25,
          -4.5,
          -4.75,
          -5.0,
          -5.25,
          -5.5,
          -5.75,
          -6.0,
          -6.25,
          -6.5,
          -6.75,
          -7.0
         ],
         "xaxis": "x2",
         "y": [
          0.9516496657574092,
          0.9467308431974758,
          0.9410524970803393,
          0.9344701628178955,
          0.926811570016647,
          0.9178734170005381,
          0.9074194958112003,
          0.8951814919395814,
          0.8808642140163835,
          0.864157138477352,
          0.8447534556661978,
          0.8223755604790528,
          0.7968016355459508,
          0.7678822357379795,
          0.7355313842693902,
          0.6996784849197372,
          0.6601794000255243,
          0.6167059798429674,
          0.5686554384600719,
          0.5151377868803648,
          0.45511680437178587,
          0.38781454695464085,
          0.3135356722970263,
          0.23499119013078756,
          0.158520409125894,
          0.09283891195046923,
          0.04353984239308355,
          0.011622476876091517,
          5.582510220393859E-24,
          0.012572008115387792,
          0.05118368939385224,
          0.1199404827691409,
          0.2197810720167306,
          0.3347727036665279,
          0.44550095814078494,
          0.5416116670423912,
          0.6207763892417888,
          0.6844932655716061,
          0.7354047295747212,
          0.776129436106763,
          0.8088835629245306,
          0.8354273846946716,
          0.8571216635097096,
          0.8750077289056275,
          0.8898813483074337,
          0.9023526300480167,
          0.9128920617029842,
          0.9218650568702199,
          0.929557630515767,
          0.9361954421352824,
          0.9419579511164915,
          0.9469889878372477,
          0.9514046958517983,
          0.9552995396360668,
          0.9587508817498918,
          0.9618224956117906,
          0.9645672810768425
         ],
         "yaxis": "y2"
        }
       ],
       "layout": {
        "annotations": [
         {
          "font": {
           "size": 16
          },
          "showarrow": false,
          "text": "4uT",
          "x": 0.2475,
          "xanchor": "center",
          "xref": "paper",
          "y": 1.0,
          "yanchor": "bottom",
          "yref": "paper"
         },
         {
          "font": {
           "size": 16
          },
          "showarrow": false,
          "text": "6uT",
          "x": 0.7525,
          "xanchor": "center",
          "xref": "paper",
          "y": 1.0,
          "yanchor": "bottom",
          "yref": "paper"
         }
        ],
        "height": 300,
        "margin": {
         "b": 0,
         "l": 45,
         "r": 0,
         "t": 50
        },
        "template": {
         "data": {
          "bar": [
           {
            "error_x": {
             "color": "#2a3f5f"
            },
            "error_y": {
             "color": "#2a3f5f"
            },
            "marker": {
             "line": {
              "color": "white",
              "width": 0.5
             },
             "pattern": {
              "fillmode": "overlay",
              "size": 10,
              "solidity": 0.2
             }
            },
            "type": "bar"
           }
          ],
          "barpolar": [
           {
            "marker": {
             "line": {
              "color": "white",
              "width": 0.5
             },
             "pattern": {
              "fillmode": "overlay",
              "size": 10,
              "solidity": 0.2
             }
            },
            "type": "barpolar"
           }
          ],
          "carpet": [
           {
            "aaxis": {
             "endlinecolor": "#2a3f5f",
             "gridcolor": "#C8D4E3",
             "linecolor": "#C8D4E3",
             "minorgridcolor": "#C8D4E3",
             "startlinecolor": "#2a3f5f"
            },
            "baxis": {
             "endlinecolor": "#2a3f5f",
             "gridcolor": "#C8D4E3",
             "linecolor": "#C8D4E3",
             "minorgridcolor": "#C8D4E3",
             "startlinecolor": "#2a3f5f"
            },
            "type": "carpet"
           }
          ],
          "choropleth": [
           {
            "colorbar": {
             "outlinewidth": 0,
             "ticks": ""
            },
            "type": "choropleth"
           }
          ],
          "contour": [
           {
            "colorbar": {
             "outlinewidth": 0,
             "ticks": ""
            },
            "colorscale": [
             [
              0.0,
              "#0d0887"
             ],
             [
              0.1111111111111111,
              "#46039f"
             ],
             [
              0.2222222222222222,
              "#7201a8"
             ],
             [
              0.3333333333333333,
              "#9c179e"
             ],
             [
              0.4444444444444444,
              "#bd3786"
             ],
             [
              0.5555555555555556,
              "#d8576b"
             ],
             [
              0.6666666666666666,
              "#ed7953"
             ],
             [
              0.7777777777777778,
              "#fb9f3a"
             ],
             [
              0.8888888888888888,
              "#fdca26"
             ],
             [
              1.0,
              "#f0f921"
             ]
            ],
            "type": "contour"
           }
          ],
          "contourcarpet": [
           {
            "colorbar": {
             "outlinewidth": 0,
             "ticks": ""
            },
            "type": "contourcarpet"
           }
          ],
          "heatmap": [
           {
            "colorbar": {
             "outlinewidth": 0,
             "ticks": ""
            },
            "colorscale": [
             [
              0.0,
              "#0d0887"
             ],
             [
              0.1111111111111111,
              "#46039f"
             ],
             [
              0.2222222222222222,
              "#7201a8"
             ],
             [
              0.3333333333333333,
              "#9c179e"
             ],
             [
              0.4444444444444444,
              "#bd3786"
             ],
             [
              0.5555555555555556,
              "#d8576b"
             ],
             [
              0.6666666666666666,
              "#ed7953"
             ],
             [
              0.7777777777777778,
              "#fb9f3a"
             ],
             [
              0.8888888888888888,
              "#fdca26"
             ],
             [
              1.0,
              "#f0f921"
             ]
            ],
            "type": "heatmap"
           }
          ],
          "heatmapgl": [
           {
            "colorbar": {
             "outlinewidth": 0,
             "ticks": ""
            },
            "colorscale": [
             [
              0.0,
              "#0d0887"
             ],
             [
              0.1111111111111111,
              "#46039f"
             ],
             [
              0.2222222222222222,
              "#7201a8"
             ],
             [
              0.3333333333333333,
              "#9c179e"
             ],
             [
              0.4444444444444444,
              "#bd3786"
             ],
             [
              0.5555555555555556,
              "#d8576b"
             ],
             [
              0.6666666666666666,
              "#ed7953"
             ],
             [
              0.7777777777777778,
              "#fb9f3a"
             ],
             [
              0.8888888888888888,
              "#fdca26"
             ],
             [
              1.0,
              "#f0f921"
             ]
            ],
            "type": "heatmapgl"
           }
          ],
          "histogram": [
           {
            "marker": {
             "pattern": {
              "fillmode": "overlay",
              "size": 10,
              "solidity": 0.2
             }
            },
            "type": "histogram"
           }
          ],
          "histogram2d": [
           {
            "colorbar": {
             "outlinewidth": 0,
             "ticks": ""
            },
            "colorscale": [
             [
              0.0,
              "#0d0887"
             ],
             [
              0.1111111111111111,
              "#46039f"
             ],
             [
              0.2222222222222222,
              "#7201a8"
             ],
             [
              0.3333333333333333,
              "#9c179e"
             ],
             [
              0.4444444444444444,
              "#bd3786"
             ],
             [
              0.5555555555555556,
              "#d8576b"
             ],
             [
              0.6666666666666666,
              "#ed7953"
             ],
             [
              0.7777777777777778,
              "#fb9f3a"
             ],
             [
              0.8888888888888888,
              "#fdca26"
             ],
             [
              1.0,
              "#f0f921"
             ]
            ],
            "type": "histogram2d"
           }
          ],
          "histogram2dcontour": [
           {
            "colorbar": {
             "outlinewidth": 0,
             "ticks": ""
            },
            "colorscale": [
             [
              0.0,
              "#0d0887"
             ],
             [
              0.1111111111111111,
              "#46039f"
             ],
             [
              0.2222222222222222,
              "#7201a8"
             ],
             [
              0.3333333333333333,
              "#9c179e"
             ],
             [
              0.4444444444444444,
              "#bd3786"
             ],
             [
              0.5555555555555556,
              "#d8576b"
             ],
             [
              0.6666666666666666,
              "#ed7953"
             ],
             [
              0.7777777777777778,
              "#fb9f3a"
             ],
             [
              0.8888888888888888,
              "#fdca26"
             ],
             [
              1.0,
              "#f0f921"
             ]
            ],
            "type": "histogram2dcontour"
           }
          ],
          "mesh3d": [
           {
            "colorbar": {
             "outlinewidth": 0,
             "ticks": ""
            },
            "type": "mesh3d"
           }
          ],
          "parcoords": [
           {
            "line": {
             "colorbar": {
              "outlinewidth": 0,
              "ticks": ""
             }
            },
            "type": "parcoords"
           }
          ],
          "pie": [
           {
            "automargin": true,
            "type": "pie"
           }
          ],
          "scatter": [
           {
            "marker": {
             "colorbar": {
              "outlinewidth": 0,
              "ticks": ""
             }
            },
            "type": "scatter"
           }
          ],
          "scatter3d": [
           {
            "line": {
             "colorbar": {
              "outlinewidth": 0,
              "ticks": ""
             }
            },
            "marker": {
             "colorbar": {
              "outlinewidth": 0,
              "ticks": ""
             }
            },
            "type": "scatter3d"
           }
          ],
          "scattercarpet": [
           {
            "marker": {
             "colorbar": {
              "outlinewidth": 0,
              "ticks": ""
             }
            },
            "type": "scattercarpet"
           }
          ],
          "scattergeo": [
           {
            "marker": {
             "colorbar": {
              "outlinewidth": 0,
              "ticks": ""
             }
            },
            "type": "scattergeo"
           }
          ],
          "scattergl": [
           {
            "marker": {
             "colorbar": {
              "outlinewidth": 0,
              "ticks": ""
             }
            },
            "type": "scattergl"
           }
          ],
          "scattermapbox": [
           {
            "marker": {
             "colorbar": {
              "outlinewidth": 0,
              "ticks": ""
             }
            },
            "type": "scattermapbox"
           }
          ],
          "scatterpolar": [
           {
            "marker": {
             "colorbar": {
              "outlinewidth": 0,
              "ticks": ""
             }
            },
            "type": "scatterpolar"
           }
          ],
          "scatterpolargl": [
           {
            "marker": {
             "colorbar": {
              "outlinewidth": 0,
              "ticks": ""
             }
            },
            "type": "scatterpolargl"
           }
          ],
          "scatterternary": [
           {
            "marker": {
             "colorbar": {
              "outlinewidth": 0,
              "ticks": ""
             }
            },
            "type": "scatterternary"
           }
          ],
          "surface": [
           {
            "colorbar": {
             "outlinewidth": 0,
             "ticks": ""
            },
            "colorscale": [
             [
              0.0,
              "#0d0887"
             ],
             [
              0.1111111111111111,
              "#46039f"
             ],
             [
              0.2222222222222222,
              "#7201a8"
             ],
             [
              0.3333333333333333,
              "#9c179e"
             ],
             [
              0.4444444444444444,
              "#bd3786"
             ],
             [
              0.5555555555555556,
              "#d8576b"
             ],
             [
              0.6666666666666666,
              "#ed7953"
             ],
             [
              0.7777777777777778,
              "#fb9f3a"
             ],
             [
              0.8888888888888888,
              "#fdca26"
             ],
             [
              1.0,
              "#f0f921"
             ]
            ],
            "type": "surface"
           }
          ],
          "table": [
           {
            "cells": {
             "fill": {
              "color": "#EBF0F8"
             },
             "line": {
              "color": "white"
             }
            },
            "header": {
             "fill": {
              "color": "#C8D4E3"
             },
             "line": {
              "color": "white"
             }
            },
            "type": "table"
           }
          ]
         },
         "layout": {
          "annotationdefaults": {
           "arrowcolor": "#2a3f5f",
           "arrowhead": 0,
           "arrowwidth": 1
          },
          "autotypenumbers": "strict",
          "coloraxis": {
           "colorbar": {
            "outlinewidth": 0,
            "ticks": ""
           }
          },
          "colorscale": {
           "diverging": [
            [
             0,
             "#8e0152"
            ],
            [
             0.1,
             "#c51b7d"
            ],
            [
             0.2,
             "#de77ae"
            ],
            [
             0.3,
             "#f1b6da"
            ],
            [
             0.4,
             "#fde0ef"
            ],
            [
             0.5,
             "#f7f7f7"
            ],
            [
             0.6,
             "#e6f5d0"
            ],
            [
             0.7,
             "#b8e186"
            ],
            [
             0.8,
             "#7fbc41"
            ],
            [
             0.9,
             "#4d9221"
            ],
            [
             1,
             "#276419"
            ]
           ],
           "sequential": [
            [
             0.0,
             "#0d0887"
            ],
            [
             0.1111111111111111,
             "#46039f"
            ],
            [
             0.2222222222222222,
             "#7201a8"
            ],
            [
             0.3333333333333333,
             "#9c179e"
            ],
            [
             0.4444444444444444,
             "#bd3786"
            ],
            [
             0.5555555555555556,
             "#d8576b"
            ],
            [
             0.6666666666666666,
             "#ed7953"
            ],
            [
             0.7777777777777778,
             "#fb9f3a"
            ],
            [
             0.8888888888888888,
             "#fdca26"
            ],
            [
             1.0,
             "#f0f921"
            ]
           ],
           "sequentialminus": [
            [
             0.0,
             "#0d0887"
            ],
            [
             0.1111111111111111,
             "#46039f"
            ],
            [
             0.2222222222222222,
             "#7201a8"
            ],
            [
             0.3333333333333333,
             "#9c179e"
            ],
            [
             0.4444444444444444,
             "#bd3786"
            ],
            [
             0.5555555555555556,
             "#d8576b"
            ],
            [
             0.6666666666666666,
             "#ed7953"
            ],
            [
             0.7777777777777778,
             "#fb9f3a"
            ],
            [
             0.8888888888888888,
             "#fdca26"
            ],
            [
             1.0,
             "#f0f921"
            ]
           ]
          },
          "colorway": [
           "#636efa",
           "#EF553B",
           "#00cc96",
           "#ab63fa",
           "#FFA15A",
           "#19d3f3",
           "#FF6692",
           "#B6E880",
           "#FF97FF",
           "#FECB52"
          ],
          "font": {
           "color": "#2a3f5f"
          },
          "geo": {
           "bgcolor": "white",
           "lakecolor": "white",
           "landcolor": "white",
           "showlakes": true,
           "showland": true,
           "subunitcolor": "#C8D4E3"
          },
          "hoverlabel": {
           "align": "left"
          },
          "hovermode": "closest",
          "mapbox": {
           "style": "light"
          },
          "paper_bgcolor": "white",
          "plot_bgcolor": "white",
          "polar": {
           "angularaxis": {
            "gridcolor": "#EBF0F8",
            "linecolor": "#EBF0F8",
            "ticks": ""
           },
           "bgcolor": "white",
           "radialaxis": {
            "gridcolor": "#EBF0F8",
            "linecolor": "#EBF0F8",
            "ticks": ""
           }
          },
          "scene": {
           "xaxis": {
            "backgroundcolor": "white",
            "gridcolor": "#DFE8F3",
            "gridwidth": 2,
            "linecolor": "#EBF0F8",
            "showbackground": true,
            "ticks": "",
            "zerolinecolor": "#EBF0F8"
           },
           "yaxis": {
            "backgroundcolor": "white",
            "gridcolor": "#DFE8F3",
            "gridwidth": 2,
            "linecolor": "#EBF0F8",
            "showbackground": true,
            "ticks": "",
            "zerolinecolor": "#EBF0F8"
           },
           "zaxis": {
            "backgroundcolor": "white",
            "gridcolor": "#DFE8F3",
            "gridwidth": 2,
            "linecolor": "#EBF0F8",
            "showbackground": true,
            "ticks": "",
            "zerolinecolor": "#EBF0F8"
           }
          },
          "shapedefaults": {
           "line": {
            "color": "#2a3f5f"
           }
          },
          "ternary": {
           "aaxis": {
            "gridcolor": "#DFE8F3",
            "linecolor": "#A2B1C6",
            "ticks": ""
           },
           "baxis": {
            "gridcolor": "#DFE8F3",
            "linecolor": "#A2B1C6",
            "ticks": ""
           },
           "bgcolor": "white",
           "caxis": {
            "gridcolor": "#DFE8F3",
            "linecolor": "#A2B1C6",
            "ticks": ""
           }
          },
          "title": {
           "x": 0.05
          },
          "xaxis": {
           "automargin": true,
           "gridcolor": "#EBF0F8",
           "linecolor": "#EBF0F8",
           "ticks": "",
           "title": {
            "standoff": 15
           },
           "zerolinecolor": "#EBF0F8",
           "zerolinewidth": 2
          },
          "yaxis": {
           "automargin": true,
           "gridcolor": "#EBF0F8",
           "linecolor": "#EBF0F8",
           "ticks": "",
           "title": {
            "standoff": 15
           },
           "zerolinecolor": "#EBF0F8",
           "zerolinewidth": 2
          }
         }
        },
        "title": {
         "text": "Phantom jan - 37°C Z-spectrum - 20mM, pH 7",
         "x": 0.02,
         "y": 0.97
        },
        "width": 700,
        "xaxis": {
         "anchor": "y",
         "autorange": "reversed",
         "domain": [
          0.0,
          0.495
         ],
         "dtick": 1,
         "tick0": 0,
         "tickmode": "linear"
        },
        "xaxis2": {
         "anchor": "y2",
         "autorange": "reversed",
         "domain": [
          0.505,
          1.0
         ],
         "dtick": 1,
         "tick0": 0,
         "tickmode": "linear"
        },
        "yaxis": {
         "anchor": "x",
         "domain": [
          0.0,
          1.0
         ],
         "dtick": 0.2,
         "range": [
          -0.1,
          1.15
         ],
         "tick0": 0,
         "tickmode": "linear",
         "title": {
          "standoff": 2,
          "text": "$M_{sat}/M_0$"
         }
        },
        "yaxis2": {
         "anchor": "x2",
         "domain": [
          0.0,
          1.0
         ],
         "dtick": 0.2,
         "range": [
          -0.1,
          1.15
         ],
         "tick0": 0,
         "tickmode": "linear"
        }
       }
      },
      "text/html": "<div>                            <div id=\"7c7e0ded-3df9-4fe3-969b-8b37080009cd\" class=\"plotly-graph-div\" style=\"height:300px; width:700px;\"></div>            <script type=\"text/javascript\">                require([\"plotly\"], function(Plotly) {                    window.PLOTLYENV=window.PLOTLYENV || {};                                    if (document.getElementById(\"7c7e0ded-3df9-4fe3-969b-8b37080009cd\")) {                    Plotly.newPlot(                        \"7c7e0ded-3df9-4fe3-969b-8b37080009cd\",                        [{\"legendgroup\":\"1_1_1\",\"line\":{\"color\":\"#ff7f0e\"},\"name\":\"real z\",\"showlegend\":true,\"type\":\"scatter\",\"x\":[7.0,6.75,6.5,6.25,6.0,5.75,5.5,5.25,5.0,4.75,4.5,4.25,4.0,3.75,3.5,3.25,3.0,2.75,2.5,2.25,2.0,1.75,1.5,1.25,1.0,0.75,0.5,0.25,0.0,-0.25,-0.5,-0.75,-1.0,-1.25,-1.5,-1.75,-2.0,-2.25,-2.5,-2.75,-3.0,-3.25,-3.5,-3.75,-4.0,-4.25,-4.5,-4.75,-5.0,-5.25,-5.5,-5.75,-6.0,-6.25,-6.5,-6.75,-7.0],\"xaxis\":\"x\",\"y\":[0.9009890385362377,0.8993131784909779,0.8982467897482492,0.8954762062514564,0.8923750817083199,0.8881332890897071,0.8856732425156528,0.8817670727600742,0.8767523970399059,0.8698745285907836,0.8643848859527846,0.8572404937815531,0.8485511200109367,0.8396805049182154,0.8281114348378317,0.8145585088629314,0.7980178219678439,0.7768834643939573,0.7532052165751768,0.7217461841556585,0.6822032522779291,0.6292072881550561,0.5637145493129351,0.47831231371743754,0.36960277361723154,0.24430105867004415,0.12262728121301535,0.03514439367358494,0.0031219179530545624,0.032628981958879345,0.12765761717258806,0.26988871538258746,0.41593838902217933,0.535815542725065,0.6268940248702701,0.6954915798738193,0.7437282697042557,0.7817655932517943,0.8085182265321216,0.828909427956891,0.8455428434142397,0.8574746188555432,0.867462931933591,0.8749022227407114,0.88084503717745,0.8859101815767632,0.8903644316438132,0.8931896180926531,0.8966495880497949,0.8999816787897037,0.9025283517992669,0.9042598949702717,0.9051989599116539,0.9082745443518006,0.9087237306060163,0.9105902951815231,0.9109407372464304],\"yaxis\":\"y\"},{\"legendgroup\":\"1_1_1\",\"line\":{\"color\":\"#ff7f0e\"},\"name\":\"fit z\",\"opacity\":0.5,\"showlegend\":true,\"type\":\"scatter\",\"x\":[7.0,6.75,6.5,6.25,6.0,5.75,5.5,5.25,5.0,4.75,4.5,4.25,4.0,3.75,3.5,3.25,3.0,2.75,2.5,2.25,2.0,1.75,1.5,1.25,1.0,0.75,0.5,0.25,0.0,-0.25,-0.5,-0.75,-1.0,-1.25,-1.5,-1.75,-2.0,-2.25,-2.5,-2.75,-3.0,-3.25,-3.5,-3.75,-4.0,-4.25,-4.5,-4.75,-5.0,-5.25,-5.5,-5.75,-6.0,-6.25,-6.5,-6.75,-7.0],\"xaxis\":\"x\",\"y\":[0.987547672643959,0.9862373325954611,0.9847143405878227,0.9829349807222545,0.9808457856430333,0.9783816781690757,0.9754641003066999,0.9719994005411866,0.9678778994043796,0.9629741687504929,0.9571489986637682,0.9502530305704555,0.9421307772021696,0.9326215368984594,0.9215508779846057,0.9087040702089972,0.8937725289445588,0.876266044441552,0.8553840856136915,0.8298328920992165,0.7975564715392214,0.7553203523319769,0.6980688183345832,0.6180875588486194,0.5048252622687729,0.35011035122375095,0.173263423742474,0.04514575225802983,2.2188253464087607e-23,0.04904895836787809,0.20516150842577044,0.4200174129966727,0.5944713718431565,0.7126542500556173,0.7903785228841759,0.8423595889907863,0.8781381395926449,0.9035117216738828,0.9220121432567256,0.9358393926459847,0.9464021063341597,0.9546275857923812,0.9611424372938796,0.9663803597841985,0.9706481448688268,0.9741671317080772,0.9770998809873124,0.979567728057462,0.9816625760331034,0.983454971611249,0.9849997331703811,0.9863399368197432,0.9875097817434292,0.9885366783721623,0.9894427895978727,0.990246181744996,0.9909616935458357],\"yaxis\":\"y\"},{\"legendgroup\":\"1_2_1\",\"line\":{\"color\":\"#ff7f0e\"},\"name\":\"real z\",\"showlegend\":false,\"type\":\"scatter\",\"x\":[7.0,6.75,6.5,6.25,6.0,5.75,5.5,5.25,5.0,4.75,4.5,4.25,4.0,3.75,3.5,3.25,3.0,2.75,2.5,2.25,2.0,1.75,1.5,1.25,1.0,0.75,0.5,0.25,0.0,-0.25,-0.5,-0.75,-1.0,-1.25,-1.5,-1.75,-2.0,-2.25,-2.5,-2.75,-3.0,-3.25,-3.5,-3.75,-4.0,-4.25,-4.5,-4.75,-5.0,-5.25,-5.5,-5.75,-6.0,-6.25,-6.5,-6.75,-7.0],\"xaxis\":\"x2\",\"y\":[0.8768273902335734,0.8732419695030914,0.868558189682789,0.8627361309476088,0.8577067278256028,0.8511407495499771,0.8436229112647602,0.8354557099914443,0.82634066806281,0.8147727029689165,0.8029030259496445,0.7879018257422696,0.7713988065010301,0.7522155639763204,0.730917232665918,0.7060982768559306,0.6762485468033862,0.6418771466819484,0.6022378470417303,0.5560290283255412,0.49978371456101184,0.43424216678825794,0.36075115409006786,0.28053644315691495,0.1964781500198148,0.11772899508210147,0.055426034680437865,0.01609238256535952,0.002944217919722402,0.01612478880000001,0.062315930231775084,0.13817831772070388,0.23762862639338134,0.34297404400378845,0.43957454309395355,0.5238672635111703,0.5946911028754567,0.6511143284203759,0.6963235975297759,0.7333606446222365,0.7627471033519118,0.7872039761332255,0.8062225414836096,0.8223271491939567,0.8351617605359316,0.8469644532661222,0.855689276962548,0.8632374175050764,0.8696545608780946,0.8755604997931097,0.8799626657227552,0.8841352341561453,0.8874078919213981,0.8903752193954212,0.8918351143920337,0.895397799963311,0.8965907625837829],\"yaxis\":\"y2\"},{\"legendgroup\":\"1_2_1\",\"line\":{\"color\":\"#ff7f0e\"},\"name\":\"fit z\",\"opacity\":0.5,\"showlegend\":false,\"type\":\"scatter\",\"x\":[7.0,6.75,6.5,6.25,6.0,5.75,5.5,5.25,5.0,4.75,4.5,4.25,4.0,3.75,3.5,3.25,3.0,2.75,2.5,2.25,2.0,1.75,1.5,1.25,1.0,0.75,0.5,0.25,0.0,-0.25,-0.5,-0.75,-1.0,-1.25,-1.5,-1.75,-2.0,-2.25,-2.5,-2.75,-3.0,-3.25,-3.5,-3.75,-4.0,-4.25,-4.5,-4.75,-5.0,-5.25,-5.5,-5.75,-6.0,-6.25,-6.5,-6.75,-7.0],\"xaxis\":\"x2\",\"y\":[0.9516496657574092,0.9467308431974758,0.9410524970803393,0.9344701628178955,0.926811570016647,0.9178734170005381,0.9074194958112003,0.8951814919395814,0.8808642140163835,0.864157138477352,0.8447534556661978,0.8223755604790528,0.7968016355459508,0.7678822357379795,0.7355313842693902,0.6996784849197372,0.6601794000255243,0.6167059798429674,0.5686554384600719,0.5151377868803648,0.45511680437178587,0.38781454695464085,0.3135356722970263,0.23499119013078756,0.158520409125894,0.09283891195046923,0.04353984239308355,0.011622476876091517,5.582510220393859e-24,0.012572008115387792,0.05118368939385224,0.1199404827691409,0.2197810720167306,0.3347727036665279,0.44550095814078494,0.5416116670423912,0.6207763892417888,0.6844932655716061,0.7354047295747212,0.776129436106763,0.8088835629245306,0.8354273846946716,0.8571216635097096,0.8750077289056275,0.8898813483074337,0.9023526300480167,0.9128920617029842,0.9218650568702199,0.929557630515767,0.9361954421352824,0.9419579511164915,0.9469889878372477,0.9514046958517983,0.9552995396360668,0.9587508817498918,0.9618224956117906,0.9645672810768425],\"yaxis\":\"y2\"}],                        {\"annotations\":[{\"font\":{\"size\":16},\"showarrow\":false,\"text\":\"4uT\",\"x\":0.2475,\"xanchor\":\"center\",\"xref\":\"paper\",\"y\":1.0,\"yanchor\":\"bottom\",\"yref\":\"paper\"},{\"font\":{\"size\":16},\"showarrow\":false,\"text\":\"6uT\",\"x\":0.7525,\"xanchor\":\"center\",\"xref\":\"paper\",\"y\":1.0,\"yanchor\":\"bottom\",\"yref\":\"paper\"}],\"height\":300,\"margin\":{\"b\":0,\"l\":45,\"r\":0,\"t\":50},\"template\":{\"data\":{\"bar\":[{\"error_x\":{\"color\":\"#2a3f5f\"},\"error_y\":{\"color\":\"#2a3f5f\"},\"marker\":{\"line\":{\"color\":\"white\",\"width\":0.5},\"pattern\":{\"fillmode\":\"overlay\",\"size\":10,\"solidity\":0.2}},\"type\":\"bar\"}],\"barpolar\":[{\"marker\":{\"line\":{\"color\":\"white\",\"width\":0.5},\"pattern\":{\"fillmode\":\"overlay\",\"size\":10,\"solidity\":0.2}},\"type\":\"barpolar\"}],\"carpet\":[{\"aaxis\":{\"endlinecolor\":\"#2a3f5f\",\"gridcolor\":\"#C8D4E3\",\"linecolor\":\"#C8D4E3\",\"minorgridcolor\":\"#C8D4E3\",\"startlinecolor\":\"#2a3f5f\"},\"baxis\":{\"endlinecolor\":\"#2a3f5f\",\"gridcolor\":\"#C8D4E3\",\"linecolor\":\"#C8D4E3\",\"minorgridcolor\":\"#C8D4E3\",\"startlinecolor\":\"#2a3f5f\"},\"type\":\"carpet\"}],\"choropleth\":[{\"colorbar\":{\"outlinewidth\":0,\"ticks\":\"\"},\"type\":\"choropleth\"}],\"contour\":[{\"colorbar\":{\"outlinewidth\":0,\"ticks\":\"\"},\"colorscale\":[[0.0,\"#0d0887\"],[0.1111111111111111,\"#46039f\"],[0.2222222222222222,\"#7201a8\"],[0.3333333333333333,\"#9c179e\"],[0.4444444444444444,\"#bd3786\"],[0.5555555555555556,\"#d8576b\"],[0.6666666666666666,\"#ed7953\"],[0.7777777777777778,\"#fb9f3a\"],[0.8888888888888888,\"#fdca26\"],[1.0,\"#f0f921\"]],\"type\":\"contour\"}],\"contourcarpet\":[{\"colorbar\":{\"outlinewidth\":0,\"ticks\":\"\"},\"type\":\"contourcarpet\"}],\"heatmap\":[{\"colorbar\":{\"outlinewidth\":0,\"ticks\":\"\"},\"colorscale\":[[0.0,\"#0d0887\"],[0.1111111111111111,\"#46039f\"],[0.2222222222222222,\"#7201a8\"],[0.3333333333333333,\"#9c179e\"],[0.4444444444444444,\"#bd3786\"],[0.5555555555555556,\"#d8576b\"],[0.6666666666666666,\"#ed7953\"],[0.7777777777777778,\"#fb9f3a\"],[0.8888888888888888,\"#fdca26\"],[1.0,\"#f0f921\"]],\"type\":\"heatmap\"}],\"heatmapgl\":[{\"colorbar\":{\"outlinewidth\":0,\"ticks\":\"\"},\"colorscale\":[[0.0,\"#0d0887\"],[0.1111111111111111,\"#46039f\"],[0.2222222222222222,\"#7201a8\"],[0.3333333333333333,\"#9c179e\"],[0.4444444444444444,\"#bd3786\"],[0.5555555555555556,\"#d8576b\"],[0.6666666666666666,\"#ed7953\"],[0.7777777777777778,\"#fb9f3a\"],[0.8888888888888888,\"#fdca26\"],[1.0,\"#f0f921\"]],\"type\":\"heatmapgl\"}],\"histogram\":[{\"marker\":{\"pattern\":{\"fillmode\":\"overlay\",\"size\":10,\"solidity\":0.2}},\"type\":\"histogram\"}],\"histogram2d\":[{\"colorbar\":{\"outlinewidth\":0,\"ticks\":\"\"},\"colorscale\":[[0.0,\"#0d0887\"],[0.1111111111111111,\"#46039f\"],[0.2222222222222222,\"#7201a8\"],[0.3333333333333333,\"#9c179e\"],[0.4444444444444444,\"#bd3786\"],[0.5555555555555556,\"#d8576b\"],[0.6666666666666666,\"#ed7953\"],[0.7777777777777778,\"#fb9f3a\"],[0.8888888888888888,\"#fdca26\"],[1.0,\"#f0f921\"]],\"type\":\"histogram2d\"}],\"histogram2dcontour\":[{\"colorbar\":{\"outlinewidth\":0,\"ticks\":\"\"},\"colorscale\":[[0.0,\"#0d0887\"],[0.1111111111111111,\"#46039f\"],[0.2222222222222222,\"#7201a8\"],[0.3333333333333333,\"#9c179e\"],[0.4444444444444444,\"#bd3786\"],[0.5555555555555556,\"#d8576b\"],[0.6666666666666666,\"#ed7953\"],[0.7777777777777778,\"#fb9f3a\"],[0.8888888888888888,\"#fdca26\"],[1.0,\"#f0f921\"]],\"type\":\"histogram2dcontour\"}],\"mesh3d\":[{\"colorbar\":{\"outlinewidth\":0,\"ticks\":\"\"},\"type\":\"mesh3d\"}],\"parcoords\":[{\"line\":{\"colorbar\":{\"outlinewidth\":0,\"ticks\":\"\"}},\"type\":\"parcoords\"}],\"pie\":[{\"automargin\":true,\"type\":\"pie\"}],\"scatter\":[{\"marker\":{\"colorbar\":{\"outlinewidth\":0,\"ticks\":\"\"}},\"type\":\"scatter\"}],\"scatter3d\":[{\"line\":{\"colorbar\":{\"outlinewidth\":0,\"ticks\":\"\"}},\"marker\":{\"colorbar\":{\"outlinewidth\":0,\"ticks\":\"\"}},\"type\":\"scatter3d\"}],\"scattercarpet\":[{\"marker\":{\"colorbar\":{\"outlinewidth\":0,\"ticks\":\"\"}},\"type\":\"scattercarpet\"}],\"scattergeo\":[{\"marker\":{\"colorbar\":{\"outlinewidth\":0,\"ticks\":\"\"}},\"type\":\"scattergeo\"}],\"scattergl\":[{\"marker\":{\"colorbar\":{\"outlinewidth\":0,\"ticks\":\"\"}},\"type\":\"scattergl\"}],\"scattermapbox\":[{\"marker\":{\"colorbar\":{\"outlinewidth\":0,\"ticks\":\"\"}},\"type\":\"scattermapbox\"}],\"scatterpolar\":[{\"marker\":{\"colorbar\":{\"outlinewidth\":0,\"ticks\":\"\"}},\"type\":\"scatterpolar\"}],\"scatterpolargl\":[{\"marker\":{\"colorbar\":{\"outlinewidth\":0,\"ticks\":\"\"}},\"type\":\"scatterpolargl\"}],\"scatterternary\":[{\"marker\":{\"colorbar\":{\"outlinewidth\":0,\"ticks\":\"\"}},\"type\":\"scatterternary\"}],\"surface\":[{\"colorbar\":{\"outlinewidth\":0,\"ticks\":\"\"},\"colorscale\":[[0.0,\"#0d0887\"],[0.1111111111111111,\"#46039f\"],[0.2222222222222222,\"#7201a8\"],[0.3333333333333333,\"#9c179e\"],[0.4444444444444444,\"#bd3786\"],[0.5555555555555556,\"#d8576b\"],[0.6666666666666666,\"#ed7953\"],[0.7777777777777778,\"#fb9f3a\"],[0.8888888888888888,\"#fdca26\"],[1.0,\"#f0f921\"]],\"type\":\"surface\"}],\"table\":[{\"cells\":{\"fill\":{\"color\":\"#EBF0F8\"},\"line\":{\"color\":\"white\"}},\"header\":{\"fill\":{\"color\":\"#C8D4E3\"},\"line\":{\"color\":\"white\"}},\"type\":\"table\"}]},\"layout\":{\"annotationdefaults\":{\"arrowcolor\":\"#2a3f5f\",\"arrowhead\":0,\"arrowwidth\":1},\"autotypenumbers\":\"strict\",\"coloraxis\":{\"colorbar\":{\"outlinewidth\":0,\"ticks\":\"\"}},\"colorscale\":{\"diverging\":[[0,\"#8e0152\"],[0.1,\"#c51b7d\"],[0.2,\"#de77ae\"],[0.3,\"#f1b6da\"],[0.4,\"#fde0ef\"],[0.5,\"#f7f7f7\"],[0.6,\"#e6f5d0\"],[0.7,\"#b8e186\"],[0.8,\"#7fbc41\"],[0.9,\"#4d9221\"],[1,\"#276419\"]],\"sequential\":[[0.0,\"#0d0887\"],[0.1111111111111111,\"#46039f\"],[0.2222222222222222,\"#7201a8\"],[0.3333333333333333,\"#9c179e\"],[0.4444444444444444,\"#bd3786\"],[0.5555555555555556,\"#d8576b\"],[0.6666666666666666,\"#ed7953\"],[0.7777777777777778,\"#fb9f3a\"],[0.8888888888888888,\"#fdca26\"],[1.0,\"#f0f921\"]],\"sequentialminus\":[[0.0,\"#0d0887\"],[0.1111111111111111,\"#46039f\"],[0.2222222222222222,\"#7201a8\"],[0.3333333333333333,\"#9c179e\"],[0.4444444444444444,\"#bd3786\"],[0.5555555555555556,\"#d8576b\"],[0.6666666666666666,\"#ed7953\"],[0.7777777777777778,\"#fb9f3a\"],[0.8888888888888888,\"#fdca26\"],[1.0,\"#f0f921\"]]},\"colorway\":[\"#636efa\",\"#EF553B\",\"#00cc96\",\"#ab63fa\",\"#FFA15A\",\"#19d3f3\",\"#FF6692\",\"#B6E880\",\"#FF97FF\",\"#FECB52\"],\"font\":{\"color\":\"#2a3f5f\"},\"geo\":{\"bgcolor\":\"white\",\"lakecolor\":\"white\",\"landcolor\":\"white\",\"showlakes\":true,\"showland\":true,\"subunitcolor\":\"#C8D4E3\"},\"hoverlabel\":{\"align\":\"left\"},\"hovermode\":\"closest\",\"mapbox\":{\"style\":\"light\"},\"paper_bgcolor\":\"white\",\"plot_bgcolor\":\"white\",\"polar\":{\"angularaxis\":{\"gridcolor\":\"#EBF0F8\",\"linecolor\":\"#EBF0F8\",\"ticks\":\"\"},\"bgcolor\":\"white\",\"radialaxis\":{\"gridcolor\":\"#EBF0F8\",\"linecolor\":\"#EBF0F8\",\"ticks\":\"\"}},\"scene\":{\"xaxis\":{\"backgroundcolor\":\"white\",\"gridcolor\":\"#DFE8F3\",\"gridwidth\":2,\"linecolor\":\"#EBF0F8\",\"showbackground\":true,\"ticks\":\"\",\"zerolinecolor\":\"#EBF0F8\"},\"yaxis\":{\"backgroundcolor\":\"white\",\"gridcolor\":\"#DFE8F3\",\"gridwidth\":2,\"linecolor\":\"#EBF0F8\",\"showbackground\":true,\"ticks\":\"\",\"zerolinecolor\":\"#EBF0F8\"},\"zaxis\":{\"backgroundcolor\":\"white\",\"gridcolor\":\"#DFE8F3\",\"gridwidth\":2,\"linecolor\":\"#EBF0F8\",\"showbackground\":true,\"ticks\":\"\",\"zerolinecolor\":\"#EBF0F8\"}},\"shapedefaults\":{\"line\":{\"color\":\"#2a3f5f\"}},\"ternary\":{\"aaxis\":{\"gridcolor\":\"#DFE8F3\",\"linecolor\":\"#A2B1C6\",\"ticks\":\"\"},\"baxis\":{\"gridcolor\":\"#DFE8F3\",\"linecolor\":\"#A2B1C6\",\"ticks\":\"\"},\"bgcolor\":\"white\",\"caxis\":{\"gridcolor\":\"#DFE8F3\",\"linecolor\":\"#A2B1C6\",\"ticks\":\"\"}},\"title\":{\"x\":0.05},\"xaxis\":{\"automargin\":true,\"gridcolor\":\"#EBF0F8\",\"linecolor\":\"#EBF0F8\",\"ticks\":\"\",\"title\":{\"standoff\":15},\"zerolinecolor\":\"#EBF0F8\",\"zerolinewidth\":2},\"yaxis\":{\"automargin\":true,\"gridcolor\":\"#EBF0F8\",\"linecolor\":\"#EBF0F8\",\"ticks\":\"\",\"title\":{\"standoff\":15},\"zerolinecolor\":\"#EBF0F8\",\"zerolinewidth\":2}}},\"title\":{\"text\":\"Phantom jan - 37\\u00b0C Z-spectrum - 20mM, pH 7\",\"x\":0.02,\"y\":0.97},\"width\":700,\"xaxis\":{\"anchor\":\"y\",\"autorange\":\"reversed\",\"domain\":[0.0,0.495],\"dtick\":1,\"tick0\":0,\"tickmode\":\"linear\"},\"xaxis2\":{\"anchor\":\"y2\",\"autorange\":\"reversed\",\"domain\":[0.505,1.0],\"dtick\":1,\"tick0\":0,\"tickmode\":\"linear\"},\"yaxis\":{\"anchor\":\"x\",\"domain\":[0.0,1.0],\"dtick\":0.2,\"range\":[-0.1,1.15],\"tick0\":0,\"tickmode\":\"linear\",\"title\":{\"standoff\":2,\"text\":\"$M_{sat}/M_0$\"}},\"yaxis2\":{\"anchor\":\"x2\",\"domain\":[0.0,1.0],\"dtick\":0.2,\"range\":[-0.1,1.15],\"tick0\":0,\"tickmode\":\"linear\"}},                        {\"responsive\": true}                    ).then(function(){\n                            \nvar gd = document.getElementById('7c7e0ded-3df9-4fe3-969b-8b37080009cd');\nvar x = new MutationObserver(function (mutations, observer) {{\n        var display = window.getComputedStyle(gd).display;\n        if (!display || display === 'none') {{\n            console.log([gd, 'removed!']);\n            Plotly.purge(gd);\n            observer.disconnect();\n        }}\n}});\n\n// Listen for the removal of the full notebook cells\nvar notebookContainer = gd.closest('#notebook-container');\nif (notebookContainer) {{\n    x.observe(notebookContainer, {childList: true});\n}}\n\n// Listen for the clearing of the current output cell\nvar outputEl = gd.closest('.output');\nif (outputEl) {{\n    x.observe(outputEl, {childList: true});\n}}\n\n                        })                };                });            </script>        </div>"
     },
     "metadata": {},
     "output_type": "display_data"
    },
    {
     "name": "stdout",
     "output_type": "stream",
     "text": [
      "[[Model]]\n",
      "    Model(<lambda>)\n",
      "[[Fit Statistics]]\n",
      "    # fitting method   = least_squares\n",
      "    # function evals   = 1008\n",
      "    # data points      = 114\n",
      "    # variables        = 5\n",
      "    chi-square         = 0.72473493\n",
      "    reduced chi-square = 0.00664894\n",
      "    Akaike info crit   = -566.628844\n",
      "    Bayesian info crit = -552.947851\n",
      "    R-squared          = 0.91555239\n",
      "##  Warning: uncertainties could not be estimated:\n",
      "    t1w:  at boundary\n",
      "    t2w:  at boundary\n",
      "    t2s:  at boundary\n",
      "[[Variables]]\n",
      "    kb:   4779.38003 (init = 7500)\n",
      "    t1w:  4.49999952 (init = 4)\n",
      "    t2w:  0.50000000 (init = 1.8)\n",
      "    tp:   3 (fixed)\n",
      "    fb:   0.0005454545 (fixed)\n",
      "    t1s:  3.49472996 (init = 1.2)\n",
      "    t2s:  0.00700000 (init = 0.1)\n"
     ]
    },
    {
     "data": {
      "application/vnd.plotly.v1+json": {
       "config": {
        "plotlyServerURL": "https://plot.ly"
       },
       "data": [
        {
         "legendgroup": "1_1_1",
         "line": {
          "color": "#2ca02c"
         },
         "name": "real z",
         "showlegend": true,
         "type": "scatter",
         "x": [
          7.0,
          6.75,
          6.5,
          6.25,
          6.0,
          5.75,
          5.5,
          5.25,
          5.0,
          4.75,
          4.5,
          4.25,
          4.0,
          3.75,
          3.5,
          3.25,
          3.0,
          2.75,
          2.5,
          2.25,
          2.0,
          1.75,
          1.5,
          1.25,
          1.0,
          0.75,
          0.5,
          0.25,
          0.0,
          -0.25,
          -0.5,
          -0.75,
          -1.0,
          -1.25,
          -1.5,
          -1.75,
          -2.0,
          -2.25,
          -2.5,
          -2.75,
          -3.0,
          -3.25,
          -3.5,
          -3.75,
          -4.0,
          -4.25,
          -4.5,
          -4.75,
          -5.0,
          -5.25,
          -5.5,
          -5.75,
          -6.0,
          -6.25,
          -6.5,
          -6.75,
          -7.0
         ],
         "xaxis": "x",
         "y": [
          0.902621949317216,
          0.900277101257934,
          0.8965104857595386,
          0.8921529622717785,
          0.8890708195526905,
          0.8847105785599411,
          0.880869221647798,
          0.8750093244907727,
          0.8697718108523341,
          0.8622751500082426,
          0.8548228434469091,
          0.8452472125901407,
          0.8333184038833323,
          0.822672589101897,
          0.8064673458769906,
          0.7879210425972114,
          0.7682589284052289,
          0.7444059933088591,
          0.7162231393262465,
          0.6805196523039755,
          0.63739796409708,
          0.584958634892939,
          0.5176937181288298,
          0.43338965129526663,
          0.3309246460666065,
          0.21714293621597378,
          0.10931988738347925,
          0.03193055265936131,
          0.0030525982912993294,
          0.030808230576951368,
          0.12321481242847326,
          0.2644045211133292,
          0.4109745631691739,
          0.5339967042916494,
          0.6277772386449927,
          0.6970594180447816,
          0.7458220286949553,
          0.7824999439782929,
          0.8101328892246272,
          0.8320841080476538,
          0.8482518792990218,
          0.8595796986952732,
          0.8708800447466342,
          0.8798905796963314,
          0.8861082759502656,
          0.8902096445342397,
          0.8955115889621053,
          0.8990594888070861,
          0.9017557581586055,
          0.9019616254583221,
          0.9050656033324229,
          0.9066426129427936,
          0.907628000787419,
          0.9081111810068859,
          0.9106595774097089,
          0.9130465486418354,
          0.9146008066782211
         ],
         "yaxis": "y"
        },
        {
         "legendgroup": "1_1_1",
         "line": {
          "color": "#2ca02c"
         },
         "name": "fit z",
         "opacity": 0.5,
         "showlegend": true,
         "type": "scatter",
         "x": [
          7.0,
          6.75,
          6.5,
          6.25,
          6.0,
          5.75,
          5.5,
          5.25,
          5.0,
          4.75,
          4.5,
          4.25,
          4.0,
          3.75,
          3.5,
          3.25,
          3.0,
          2.75,
          2.5,
          2.25,
          2.0,
          1.75,
          1.5,
          1.25,
          1.0,
          0.75,
          0.5,
          0.25,
          0.0,
          -0.25,
          -0.5,
          -0.75,
          -1.0,
          -1.25,
          -1.5,
          -1.75,
          -2.0,
          -2.25,
          -2.5,
          -2.75,
          -3.0,
          -3.25,
          -3.5,
          -3.75,
          -4.0,
          -4.25,
          -4.5,
          -4.75,
          -5.0,
          -5.25,
          -5.5,
          -5.75,
          -6.0,
          -6.25,
          -6.5,
          -6.75,
          -7.0
         ],
         "xaxis": "x",
         "y": [
          0.9879157467051317,
          0.9866212949223421,
          0.9851025707451215,
          0.9833076883567521,
          0.9811708465466336,
          0.9786086852183181,
          0.9755161371328384,
          0.9717622231110926,
          0.9671868333820388,
          0.9616004851265003,
          0.9547902403804095,
          0.9465357463790712,
          0.9366379756349972,
          0.9249568341363003,
          0.9114405568936119,
          0.8961145058370148,
          0.8789949104404395,
          0.8599187189843245,
          0.838320832323523,
          0.8130002058496665,
          0.7818691546636564,
          0.741604681861016,
          0.6870787905682241,
          0.610551450436795,
          0.5013875874446013,
          0.35076649123611114,
          0.175795265145728,
          0.04619601293086302,
          2.2847672756694384E-23,
          0.05082991251327458,
          0.2132320962637671,
          0.4316987347984623,
          0.6053470988097992,
          0.7214756646318764,
          0.7972549897847565,
          0.8476865932497409,
          0.882288642440035,
          0.9067778301211036,
          0.9246108891327842,
          0.9379299529065938,
          0.9481014590274117,
          0.9560223910096322,
          0.962297565019562,
          0.9673449098552083,
          0.9714596922107813,
          0.9748547377398553,
          0.9776862491189556,
          0.9800707625231388,
          0.9820965213262474,
          0.9838312542244142,
          0.9853275898280632,
          0.9866268879826909,
          0.9877619918333909,
          0.9887592322438072,
          0.9896399065038117,
          0.9904213822312739,
          0.9911179306006286
         ],
         "yaxis": "y"
        },
        {
         "legendgroup": "1_2_1",
         "line": {
          "color": "#2ca02c"
         },
         "name": "real z",
         "showlegend": false,
         "type": "scatter",
         "x": [
          7.0,
          6.75,
          6.5,
          6.25,
          6.0,
          5.75,
          5.5,
          5.25,
          5.0,
          4.75,
          4.5,
          4.25,
          4.0,
          3.75,
          3.5,
          3.25,
          3.0,
          2.75,
          2.5,
          2.25,
          2.0,
          1.75,
          1.5,
          1.25,
          1.0,
          0.75,
          0.5,
          0.25,
          0.0,
          -0.25,
          -0.5,
          -0.75,
          -1.0,
          -1.25,
          -1.5,
          -1.75,
          -2.0,
          -2.25,
          -2.5,
          -2.75,
          -3.0,
          -3.25,
          -3.5,
          -3.75,
          -4.0,
          -4.25,
          -4.5,
          -4.75,
          -5.0,
          -5.25,
          -5.5,
          -5.75,
          -6.0,
          -6.25,
          -6.5,
          -6.75,
          -7.0
         ],
         "xaxis": "x2",
         "y": [
          0.8774236015218074,
          0.8751646954723161,
          0.8694562115120703,
          0.861745748880187,
          0.8549261131115419,
          0.8472117424762907,
          0.8367533941342459,
          0.8238813554399685,
          0.8121877886494834,
          0.7973453416358033,
          0.7808716947008905,
          0.7618917826756617,
          0.7420380411839378,
          0.7205491416496241,
          0.6958279033783866,
          0.6669554484844833,
          0.6349050233296165,
          0.598800398495112,
          0.5568886447837019,
          0.5089084231558991,
          0.453437688407519,
          0.3911163979636838,
          0.321371321709748,
          0.24759890755637257,
          0.17331552129898675,
          0.10551064535261889,
          0.05106161515693459,
          0.015122990129500507,
          0.003164360287633671,
          0.01575181036400799,
          0.05973828081481807,
          0.135266427383155,
          0.23442615088434407,
          0.3422575175834822,
          0.443861733632789,
          0.5316422458180828,
          0.6046350519357243,
          0.6615966234959598,
          0.7079827507009587,
          0.7452924383940834,
          0.7734232114956232,
          0.7954497632359685,
          0.8142258038314141,
          0.8290503623997747,
          0.8410240471186192,
          0.8506383391995112,
          0.8599462253725866,
          0.8681723712707724,
          0.8747952761441942,
          0.8795431697996158,
          0.884804637125836,
          0.8907316510610035,
          0.8946750850936356,
          0.8965459494707824,
          0.89895431294831,
          0.9023274986706938,
          0.9035690674364931
         ],
         "yaxis": "y2"
        },
        {
         "legendgroup": "1_2_1",
         "line": {
          "color": "#2ca02c"
         },
         "name": "fit z",
         "opacity": 0.5,
         "showlegend": false,
         "type": "scatter",
         "x": [
          7.0,
          6.75,
          6.5,
          6.25,
          6.0,
          5.75,
          5.5,
          5.25,
          5.0,
          4.75,
          4.5,
          4.25,
          4.0,
          3.75,
          3.5,
          3.25,
          3.0,
          2.75,
          2.5,
          2.25,
          2.0,
          1.75,
          1.5,
          1.25,
          1.0,
          0.75,
          0.5,
          0.25,
          0.0,
          -0.25,
          -0.5,
          -0.75,
          -1.0,
          -1.25,
          -1.5,
          -1.75,
          -2.0,
          -2.25,
          -2.5,
          -2.75,
          -3.0,
          -3.25,
          -3.5,
          -3.75,
          -4.0,
          -4.25,
          -4.5,
          -4.75,
          -5.0,
          -5.25,
          -5.5,
          -5.75,
          -6.0,
          -6.25,
          -6.5,
          -6.75,
          -7.0
         ],
         "xaxis": "x2",
         "y": [
          0.9530574237029822,
          0.9481980673212749,
          0.9425376539922735,
          0.9359040532076616,
          0.928084430931922,
          0.918817417948836,
          0.9077861514350001,
          0.8946148037509329,
          0.8788732122427516,
          0.860096698235451,
          0.8378299493616214,
          0.8117019246770796,
          0.7815279964050583,
          0.747411654096516,
          0.7097866084323228,
          0.6693269121674696,
          0.626694721501444,
          0.5821949125575482,
          0.535494038677957,
          0.4855556461073752,
          0.4308610210349673,
          0.3699349971072565,
          0.30224273918841654,
          0.2295300171724755,
          0.15715705792775897,
          0.09333650364363334,
          0.044231758451153236,
          0.01190199787524867,
          5.753799357630358E-24,
          0.01301881984781954,
          0.053279066463922733,
          0.1253846272481181,
          0.2290829459407471,
          0.34644269428288954,
          0.4576897048518334,
          0.5531162061418781,
          0.6310544528797186,
          0.693409866064984,
          0.7430247924488577,
          0.7825970953618624,
          0.8143617146597373,
          0.840070766164121,
          0.8610667877679187,
          0.8783707030977382,
          0.8927590680794029,
          0.9048251884996616,
          0.9150253875494132,
          0.9237133686357099,
          0.9311655635119132,
          0.9375998265987082,
          0.9431892700625506,
          0.9480725598547255,
          0.9523616297406942,
          0.9561475033828639,
          0.95950472201111,
          0.9624947374897392,
          0.9651685322592132
         ],
         "yaxis": "y2"
        }
       ],
       "layout": {
        "annotations": [
         {
          "font": {
           "size": 16
          },
          "showarrow": false,
          "text": "4uT",
          "x": 0.2475,
          "xanchor": "center",
          "xref": "paper",
          "y": 1.0,
          "yanchor": "bottom",
          "yref": "paper"
         },
         {
          "font": {
           "size": 16
          },
          "showarrow": false,
          "text": "6uT",
          "x": 0.7525,
          "xanchor": "center",
          "xref": "paper",
          "y": 1.0,
          "yanchor": "bottom",
          "yref": "paper"
         }
        ],
        "height": 300,
        "margin": {
         "b": 0,
         "l": 45,
         "r": 0,
         "t": 50
        },
        "template": {
         "data": {
          "bar": [
           {
            "error_x": {
             "color": "#2a3f5f"
            },
            "error_y": {
             "color": "#2a3f5f"
            },
            "marker": {
             "line": {
              "color": "white",
              "width": 0.5
             },
             "pattern": {
              "fillmode": "overlay",
              "size": 10,
              "solidity": 0.2
             }
            },
            "type": "bar"
           }
          ],
          "barpolar": [
           {
            "marker": {
             "line": {
              "color": "white",
              "width": 0.5
             },
             "pattern": {
              "fillmode": "overlay",
              "size": 10,
              "solidity": 0.2
             }
            },
            "type": "barpolar"
           }
          ],
          "carpet": [
           {
            "aaxis": {
             "endlinecolor": "#2a3f5f",
             "gridcolor": "#C8D4E3",
             "linecolor": "#C8D4E3",
             "minorgridcolor": "#C8D4E3",
             "startlinecolor": "#2a3f5f"
            },
            "baxis": {
             "endlinecolor": "#2a3f5f",
             "gridcolor": "#C8D4E3",
             "linecolor": "#C8D4E3",
             "minorgridcolor": "#C8D4E3",
             "startlinecolor": "#2a3f5f"
            },
            "type": "carpet"
           }
          ],
          "choropleth": [
           {
            "colorbar": {
             "outlinewidth": 0,
             "ticks": ""
            },
            "type": "choropleth"
           }
          ],
          "contour": [
           {
            "colorbar": {
             "outlinewidth": 0,
             "ticks": ""
            },
            "colorscale": [
             [
              0.0,
              "#0d0887"
             ],
             [
              0.1111111111111111,
              "#46039f"
             ],
             [
              0.2222222222222222,
              "#7201a8"
             ],
             [
              0.3333333333333333,
              "#9c179e"
             ],
             [
              0.4444444444444444,
              "#bd3786"
             ],
             [
              0.5555555555555556,
              "#d8576b"
             ],
             [
              0.6666666666666666,
              "#ed7953"
             ],
             [
              0.7777777777777778,
              "#fb9f3a"
             ],
             [
              0.8888888888888888,
              "#fdca26"
             ],
             [
              1.0,
              "#f0f921"
             ]
            ],
            "type": "contour"
           }
          ],
          "contourcarpet": [
           {
            "colorbar": {
             "outlinewidth": 0,
             "ticks": ""
            },
            "type": "contourcarpet"
           }
          ],
          "heatmap": [
           {
            "colorbar": {
             "outlinewidth": 0,
             "ticks": ""
            },
            "colorscale": [
             [
              0.0,
              "#0d0887"
             ],
             [
              0.1111111111111111,
              "#46039f"
             ],
             [
              0.2222222222222222,
              "#7201a8"
             ],
             [
              0.3333333333333333,
              "#9c179e"
             ],
             [
              0.4444444444444444,
              "#bd3786"
             ],
             [
              0.5555555555555556,
              "#d8576b"
             ],
             [
              0.6666666666666666,
              "#ed7953"
             ],
             [
              0.7777777777777778,
              "#fb9f3a"
             ],
             [
              0.8888888888888888,
              "#fdca26"
             ],
             [
              1.0,
              "#f0f921"
             ]
            ],
            "type": "heatmap"
           }
          ],
          "heatmapgl": [
           {
            "colorbar": {
             "outlinewidth": 0,
             "ticks": ""
            },
            "colorscale": [
             [
              0.0,
              "#0d0887"
             ],
             [
              0.1111111111111111,
              "#46039f"
             ],
             [
              0.2222222222222222,
              "#7201a8"
             ],
             [
              0.3333333333333333,
              "#9c179e"
             ],
             [
              0.4444444444444444,
              "#bd3786"
             ],
             [
              0.5555555555555556,
              "#d8576b"
             ],
             [
              0.6666666666666666,
              "#ed7953"
             ],
             [
              0.7777777777777778,
              "#fb9f3a"
             ],
             [
              0.8888888888888888,
              "#fdca26"
             ],
             [
              1.0,
              "#f0f921"
             ]
            ],
            "type": "heatmapgl"
           }
          ],
          "histogram": [
           {
            "marker": {
             "pattern": {
              "fillmode": "overlay",
              "size": 10,
              "solidity": 0.2
             }
            },
            "type": "histogram"
           }
          ],
          "histogram2d": [
           {
            "colorbar": {
             "outlinewidth": 0,
             "ticks": ""
            },
            "colorscale": [
             [
              0.0,
              "#0d0887"
             ],
             [
              0.1111111111111111,
              "#46039f"
             ],
             [
              0.2222222222222222,
              "#7201a8"
             ],
             [
              0.3333333333333333,
              "#9c179e"
             ],
             [
              0.4444444444444444,
              "#bd3786"
             ],
             [
              0.5555555555555556,
              "#d8576b"
             ],
             [
              0.6666666666666666,
              "#ed7953"
             ],
             [
              0.7777777777777778,
              "#fb9f3a"
             ],
             [
              0.8888888888888888,
              "#fdca26"
             ],
             [
              1.0,
              "#f0f921"
             ]
            ],
            "type": "histogram2d"
           }
          ],
          "histogram2dcontour": [
           {
            "colorbar": {
             "outlinewidth": 0,
             "ticks": ""
            },
            "colorscale": [
             [
              0.0,
              "#0d0887"
             ],
             [
              0.1111111111111111,
              "#46039f"
             ],
             [
              0.2222222222222222,
              "#7201a8"
             ],
             [
              0.3333333333333333,
              "#9c179e"
             ],
             [
              0.4444444444444444,
              "#bd3786"
             ],
             [
              0.5555555555555556,
              "#d8576b"
             ],
             [
              0.6666666666666666,
              "#ed7953"
             ],
             [
              0.7777777777777778,
              "#fb9f3a"
             ],
             [
              0.8888888888888888,
              "#fdca26"
             ],
             [
              1.0,
              "#f0f921"
             ]
            ],
            "type": "histogram2dcontour"
           }
          ],
          "mesh3d": [
           {
            "colorbar": {
             "outlinewidth": 0,
             "ticks": ""
            },
            "type": "mesh3d"
           }
          ],
          "parcoords": [
           {
            "line": {
             "colorbar": {
              "outlinewidth": 0,
              "ticks": ""
             }
            },
            "type": "parcoords"
           }
          ],
          "pie": [
           {
            "automargin": true,
            "type": "pie"
           }
          ],
          "scatter": [
           {
            "marker": {
             "colorbar": {
              "outlinewidth": 0,
              "ticks": ""
             }
            },
            "type": "scatter"
           }
          ],
          "scatter3d": [
           {
            "line": {
             "colorbar": {
              "outlinewidth": 0,
              "ticks": ""
             }
            },
            "marker": {
             "colorbar": {
              "outlinewidth": 0,
              "ticks": ""
             }
            },
            "type": "scatter3d"
           }
          ],
          "scattercarpet": [
           {
            "marker": {
             "colorbar": {
              "outlinewidth": 0,
              "ticks": ""
             }
            },
            "type": "scattercarpet"
           }
          ],
          "scattergeo": [
           {
            "marker": {
             "colorbar": {
              "outlinewidth": 0,
              "ticks": ""
             }
            },
            "type": "scattergeo"
           }
          ],
          "scattergl": [
           {
            "marker": {
             "colorbar": {
              "outlinewidth": 0,
              "ticks": ""
             }
            },
            "type": "scattergl"
           }
          ],
          "scattermapbox": [
           {
            "marker": {
             "colorbar": {
              "outlinewidth": 0,
              "ticks": ""
             }
            },
            "type": "scattermapbox"
           }
          ],
          "scatterpolar": [
           {
            "marker": {
             "colorbar": {
              "outlinewidth": 0,
              "ticks": ""
             }
            },
            "type": "scatterpolar"
           }
          ],
          "scatterpolargl": [
           {
            "marker": {
             "colorbar": {
              "outlinewidth": 0,
              "ticks": ""
             }
            },
            "type": "scatterpolargl"
           }
          ],
          "scatterternary": [
           {
            "marker": {
             "colorbar": {
              "outlinewidth": 0,
              "ticks": ""
             }
            },
            "type": "scatterternary"
           }
          ],
          "surface": [
           {
            "colorbar": {
             "outlinewidth": 0,
             "ticks": ""
            },
            "colorscale": [
             [
              0.0,
              "#0d0887"
             ],
             [
              0.1111111111111111,
              "#46039f"
             ],
             [
              0.2222222222222222,
              "#7201a8"
             ],
             [
              0.3333333333333333,
              "#9c179e"
             ],
             [
              0.4444444444444444,
              "#bd3786"
             ],
             [
              0.5555555555555556,
              "#d8576b"
             ],
             [
              0.6666666666666666,
              "#ed7953"
             ],
             [
              0.7777777777777778,
              "#fb9f3a"
             ],
             [
              0.8888888888888888,
              "#fdca26"
             ],
             [
              1.0,
              "#f0f921"
             ]
            ],
            "type": "surface"
           }
          ],
          "table": [
           {
            "cells": {
             "fill": {
              "color": "#EBF0F8"
             },
             "line": {
              "color": "white"
             }
            },
            "header": {
             "fill": {
              "color": "#C8D4E3"
             },
             "line": {
              "color": "white"
             }
            },
            "type": "table"
           }
          ]
         },
         "layout": {
          "annotationdefaults": {
           "arrowcolor": "#2a3f5f",
           "arrowhead": 0,
           "arrowwidth": 1
          },
          "autotypenumbers": "strict",
          "coloraxis": {
           "colorbar": {
            "outlinewidth": 0,
            "ticks": ""
           }
          },
          "colorscale": {
           "diverging": [
            [
             0,
             "#8e0152"
            ],
            [
             0.1,
             "#c51b7d"
            ],
            [
             0.2,
             "#de77ae"
            ],
            [
             0.3,
             "#f1b6da"
            ],
            [
             0.4,
             "#fde0ef"
            ],
            [
             0.5,
             "#f7f7f7"
            ],
            [
             0.6,
             "#e6f5d0"
            ],
            [
             0.7,
             "#b8e186"
            ],
            [
             0.8,
             "#7fbc41"
            ],
            [
             0.9,
             "#4d9221"
            ],
            [
             1,
             "#276419"
            ]
           ],
           "sequential": [
            [
             0.0,
             "#0d0887"
            ],
            [
             0.1111111111111111,
             "#46039f"
            ],
            [
             0.2222222222222222,
             "#7201a8"
            ],
            [
             0.3333333333333333,
             "#9c179e"
            ],
            [
             0.4444444444444444,
             "#bd3786"
            ],
            [
             0.5555555555555556,
             "#d8576b"
            ],
            [
             0.6666666666666666,
             "#ed7953"
            ],
            [
             0.7777777777777778,
             "#fb9f3a"
            ],
            [
             0.8888888888888888,
             "#fdca26"
            ],
            [
             1.0,
             "#f0f921"
            ]
           ],
           "sequentialminus": [
            [
             0.0,
             "#0d0887"
            ],
            [
             0.1111111111111111,
             "#46039f"
            ],
            [
             0.2222222222222222,
             "#7201a8"
            ],
            [
             0.3333333333333333,
             "#9c179e"
            ],
            [
             0.4444444444444444,
             "#bd3786"
            ],
            [
             0.5555555555555556,
             "#d8576b"
            ],
            [
             0.6666666666666666,
             "#ed7953"
            ],
            [
             0.7777777777777778,
             "#fb9f3a"
            ],
            [
             0.8888888888888888,
             "#fdca26"
            ],
            [
             1.0,
             "#f0f921"
            ]
           ]
          },
          "colorway": [
           "#636efa",
           "#EF553B",
           "#00cc96",
           "#ab63fa",
           "#FFA15A",
           "#19d3f3",
           "#FF6692",
           "#B6E880",
           "#FF97FF",
           "#FECB52"
          ],
          "font": {
           "color": "#2a3f5f"
          },
          "geo": {
           "bgcolor": "white",
           "lakecolor": "white",
           "landcolor": "white",
           "showlakes": true,
           "showland": true,
           "subunitcolor": "#C8D4E3"
          },
          "hoverlabel": {
           "align": "left"
          },
          "hovermode": "closest",
          "mapbox": {
           "style": "light"
          },
          "paper_bgcolor": "white",
          "plot_bgcolor": "white",
          "polar": {
           "angularaxis": {
            "gridcolor": "#EBF0F8",
            "linecolor": "#EBF0F8",
            "ticks": ""
           },
           "bgcolor": "white",
           "radialaxis": {
            "gridcolor": "#EBF0F8",
            "linecolor": "#EBF0F8",
            "ticks": ""
           }
          },
          "scene": {
           "xaxis": {
            "backgroundcolor": "white",
            "gridcolor": "#DFE8F3",
            "gridwidth": 2,
            "linecolor": "#EBF0F8",
            "showbackground": true,
            "ticks": "",
            "zerolinecolor": "#EBF0F8"
           },
           "yaxis": {
            "backgroundcolor": "white",
            "gridcolor": "#DFE8F3",
            "gridwidth": 2,
            "linecolor": "#EBF0F8",
            "showbackground": true,
            "ticks": "",
            "zerolinecolor": "#EBF0F8"
           },
           "zaxis": {
            "backgroundcolor": "white",
            "gridcolor": "#DFE8F3",
            "gridwidth": 2,
            "linecolor": "#EBF0F8",
            "showbackground": true,
            "ticks": "",
            "zerolinecolor": "#EBF0F8"
           }
          },
          "shapedefaults": {
           "line": {
            "color": "#2a3f5f"
           }
          },
          "ternary": {
           "aaxis": {
            "gridcolor": "#DFE8F3",
            "linecolor": "#A2B1C6",
            "ticks": ""
           },
           "baxis": {
            "gridcolor": "#DFE8F3",
            "linecolor": "#A2B1C6",
            "ticks": ""
           },
           "bgcolor": "white",
           "caxis": {
            "gridcolor": "#DFE8F3",
            "linecolor": "#A2B1C6",
            "ticks": ""
           }
          },
          "title": {
           "x": 0.05
          },
          "xaxis": {
           "automargin": true,
           "gridcolor": "#EBF0F8",
           "linecolor": "#EBF0F8",
           "ticks": "",
           "title": {
            "standoff": 15
           },
           "zerolinecolor": "#EBF0F8",
           "zerolinewidth": 2
          },
          "yaxis": {
           "automargin": true,
           "gridcolor": "#EBF0F8",
           "linecolor": "#EBF0F8",
           "ticks": "",
           "title": {
            "standoff": 15
           },
           "zerolinecolor": "#EBF0F8",
           "zerolinewidth": 2
          }
         }
        },
        "title": {
         "text": "Phantom jan - 37°C Z-spectrum - 20mM, pH 6.8",
         "x": 0.02,
         "y": 0.97
        },
        "width": 700,
        "xaxis": {
         "anchor": "y",
         "autorange": "reversed",
         "domain": [
          0.0,
          0.495
         ],
         "dtick": 1,
         "tick0": 0,
         "tickmode": "linear"
        },
        "xaxis2": {
         "anchor": "y2",
         "autorange": "reversed",
         "domain": [
          0.505,
          1.0
         ],
         "dtick": 1,
         "tick0": 0,
         "tickmode": "linear"
        },
        "yaxis": {
         "anchor": "x",
         "domain": [
          0.0,
          1.0
         ],
         "dtick": 0.2,
         "range": [
          -0.1,
          1.15
         ],
         "tick0": 0,
         "tickmode": "linear",
         "title": {
          "standoff": 2,
          "text": "$M_{sat}/M_0$"
         }
        },
        "yaxis2": {
         "anchor": "x2",
         "domain": [
          0.0,
          1.0
         ],
         "dtick": 0.2,
         "range": [
          -0.1,
          1.15
         ],
         "tick0": 0,
         "tickmode": "linear"
        }
       }
      },
      "text/html": "<div>                            <div id=\"dca6207a-c67b-4eba-a5f2-aa7e35db5a38\" class=\"plotly-graph-div\" style=\"height:300px; width:700px;\"></div>            <script type=\"text/javascript\">                require([\"plotly\"], function(Plotly) {                    window.PLOTLYENV=window.PLOTLYENV || {};                                    if (document.getElementById(\"dca6207a-c67b-4eba-a5f2-aa7e35db5a38\")) {                    Plotly.newPlot(                        \"dca6207a-c67b-4eba-a5f2-aa7e35db5a38\",                        [{\"legendgroup\":\"1_1_1\",\"line\":{\"color\":\"#2ca02c\"},\"name\":\"real z\",\"showlegend\":true,\"type\":\"scatter\",\"x\":[7.0,6.75,6.5,6.25,6.0,5.75,5.5,5.25,5.0,4.75,4.5,4.25,4.0,3.75,3.5,3.25,3.0,2.75,2.5,2.25,2.0,1.75,1.5,1.25,1.0,0.75,0.5,0.25,0.0,-0.25,-0.5,-0.75,-1.0,-1.25,-1.5,-1.75,-2.0,-2.25,-2.5,-2.75,-3.0,-3.25,-3.5,-3.75,-4.0,-4.25,-4.5,-4.75,-5.0,-5.25,-5.5,-5.75,-6.0,-6.25,-6.5,-6.75,-7.0],\"xaxis\":\"x\",\"y\":[0.902621949317216,0.900277101257934,0.8965104857595386,0.8921529622717785,0.8890708195526905,0.8847105785599411,0.880869221647798,0.8750093244907727,0.8697718108523341,0.8622751500082426,0.8548228434469091,0.8452472125901407,0.8333184038833323,0.822672589101897,0.8064673458769906,0.7879210425972114,0.7682589284052289,0.7444059933088591,0.7162231393262465,0.6805196523039755,0.63739796409708,0.584958634892939,0.5176937181288298,0.43338965129526663,0.3309246460666065,0.21714293621597378,0.10931988738347925,0.03193055265936131,0.0030525982912993294,0.030808230576951368,0.12321481242847326,0.2644045211133292,0.4109745631691739,0.5339967042916494,0.6277772386449927,0.6970594180447816,0.7458220286949553,0.7824999439782929,0.8101328892246272,0.8320841080476538,0.8482518792990218,0.8595796986952732,0.8708800447466342,0.8798905796963314,0.8861082759502656,0.8902096445342397,0.8955115889621053,0.8990594888070861,0.9017557581586055,0.9019616254583221,0.9050656033324229,0.9066426129427936,0.907628000787419,0.9081111810068859,0.9106595774097089,0.9130465486418354,0.9146008066782211],\"yaxis\":\"y\"},{\"legendgroup\":\"1_1_1\",\"line\":{\"color\":\"#2ca02c\"},\"name\":\"fit z\",\"opacity\":0.5,\"showlegend\":true,\"type\":\"scatter\",\"x\":[7.0,6.75,6.5,6.25,6.0,5.75,5.5,5.25,5.0,4.75,4.5,4.25,4.0,3.75,3.5,3.25,3.0,2.75,2.5,2.25,2.0,1.75,1.5,1.25,1.0,0.75,0.5,0.25,0.0,-0.25,-0.5,-0.75,-1.0,-1.25,-1.5,-1.75,-2.0,-2.25,-2.5,-2.75,-3.0,-3.25,-3.5,-3.75,-4.0,-4.25,-4.5,-4.75,-5.0,-5.25,-5.5,-5.75,-6.0,-6.25,-6.5,-6.75,-7.0],\"xaxis\":\"x\",\"y\":[0.9879157467051317,0.9866212949223421,0.9851025707451215,0.9833076883567521,0.9811708465466336,0.9786086852183181,0.9755161371328384,0.9717622231110926,0.9671868333820388,0.9616004851265003,0.9547902403804095,0.9465357463790712,0.9366379756349972,0.9249568341363003,0.9114405568936119,0.8961145058370148,0.8789949104404395,0.8599187189843245,0.838320832323523,0.8130002058496665,0.7818691546636564,0.741604681861016,0.6870787905682241,0.610551450436795,0.5013875874446013,0.35076649123611114,0.175795265145728,0.04619601293086302,2.2847672756694384e-23,0.05082991251327458,0.2132320962637671,0.4316987347984623,0.6053470988097992,0.7214756646318764,0.7972549897847565,0.8476865932497409,0.882288642440035,0.9067778301211036,0.9246108891327842,0.9379299529065938,0.9481014590274117,0.9560223910096322,0.962297565019562,0.9673449098552083,0.9714596922107813,0.9748547377398553,0.9776862491189556,0.9800707625231388,0.9820965213262474,0.9838312542244142,0.9853275898280632,0.9866268879826909,0.9877619918333909,0.9887592322438072,0.9896399065038117,0.9904213822312739,0.9911179306006286],\"yaxis\":\"y\"},{\"legendgroup\":\"1_2_1\",\"line\":{\"color\":\"#2ca02c\"},\"name\":\"real z\",\"showlegend\":false,\"type\":\"scatter\",\"x\":[7.0,6.75,6.5,6.25,6.0,5.75,5.5,5.25,5.0,4.75,4.5,4.25,4.0,3.75,3.5,3.25,3.0,2.75,2.5,2.25,2.0,1.75,1.5,1.25,1.0,0.75,0.5,0.25,0.0,-0.25,-0.5,-0.75,-1.0,-1.25,-1.5,-1.75,-2.0,-2.25,-2.5,-2.75,-3.0,-3.25,-3.5,-3.75,-4.0,-4.25,-4.5,-4.75,-5.0,-5.25,-5.5,-5.75,-6.0,-6.25,-6.5,-6.75,-7.0],\"xaxis\":\"x2\",\"y\":[0.8774236015218074,0.8751646954723161,0.8694562115120703,0.861745748880187,0.8549261131115419,0.8472117424762907,0.8367533941342459,0.8238813554399685,0.8121877886494834,0.7973453416358033,0.7808716947008905,0.7618917826756617,0.7420380411839378,0.7205491416496241,0.6958279033783866,0.6669554484844833,0.6349050233296165,0.598800398495112,0.5568886447837019,0.5089084231558991,0.453437688407519,0.3911163979636838,0.321371321709748,0.24759890755637257,0.17331552129898675,0.10551064535261889,0.05106161515693459,0.015122990129500507,0.003164360287633671,0.01575181036400799,0.05973828081481807,0.135266427383155,0.23442615088434407,0.3422575175834822,0.443861733632789,0.5316422458180828,0.6046350519357243,0.6615966234959598,0.7079827507009587,0.7452924383940834,0.7734232114956232,0.7954497632359685,0.8142258038314141,0.8290503623997747,0.8410240471186192,0.8506383391995112,0.8599462253725866,0.8681723712707724,0.8747952761441942,0.8795431697996158,0.884804637125836,0.8907316510610035,0.8946750850936356,0.8965459494707824,0.89895431294831,0.9023274986706938,0.9035690674364931],\"yaxis\":\"y2\"},{\"legendgroup\":\"1_2_1\",\"line\":{\"color\":\"#2ca02c\"},\"name\":\"fit z\",\"opacity\":0.5,\"showlegend\":false,\"type\":\"scatter\",\"x\":[7.0,6.75,6.5,6.25,6.0,5.75,5.5,5.25,5.0,4.75,4.5,4.25,4.0,3.75,3.5,3.25,3.0,2.75,2.5,2.25,2.0,1.75,1.5,1.25,1.0,0.75,0.5,0.25,0.0,-0.25,-0.5,-0.75,-1.0,-1.25,-1.5,-1.75,-2.0,-2.25,-2.5,-2.75,-3.0,-3.25,-3.5,-3.75,-4.0,-4.25,-4.5,-4.75,-5.0,-5.25,-5.5,-5.75,-6.0,-6.25,-6.5,-6.75,-7.0],\"xaxis\":\"x2\",\"y\":[0.9530574237029822,0.9481980673212749,0.9425376539922735,0.9359040532076616,0.928084430931922,0.918817417948836,0.9077861514350001,0.8946148037509329,0.8788732122427516,0.860096698235451,0.8378299493616214,0.8117019246770796,0.7815279964050583,0.747411654096516,0.7097866084323228,0.6693269121674696,0.626694721501444,0.5821949125575482,0.535494038677957,0.4855556461073752,0.4308610210349673,0.3699349971072565,0.30224273918841654,0.2295300171724755,0.15715705792775897,0.09333650364363334,0.044231758451153236,0.01190199787524867,5.753799357630358e-24,0.01301881984781954,0.053279066463922733,0.1253846272481181,0.2290829459407471,0.34644269428288954,0.4576897048518334,0.5531162061418781,0.6310544528797186,0.693409866064984,0.7430247924488577,0.7825970953618624,0.8143617146597373,0.840070766164121,0.8610667877679187,0.8783707030977382,0.8927590680794029,0.9048251884996616,0.9150253875494132,0.9237133686357099,0.9311655635119132,0.9375998265987082,0.9431892700625506,0.9480725598547255,0.9523616297406942,0.9561475033828639,0.95950472201111,0.9624947374897392,0.9651685322592132],\"yaxis\":\"y2\"}],                        {\"annotations\":[{\"font\":{\"size\":16},\"showarrow\":false,\"text\":\"4uT\",\"x\":0.2475,\"xanchor\":\"center\",\"xref\":\"paper\",\"y\":1.0,\"yanchor\":\"bottom\",\"yref\":\"paper\"},{\"font\":{\"size\":16},\"showarrow\":false,\"text\":\"6uT\",\"x\":0.7525,\"xanchor\":\"center\",\"xref\":\"paper\",\"y\":1.0,\"yanchor\":\"bottom\",\"yref\":\"paper\"}],\"height\":300,\"margin\":{\"b\":0,\"l\":45,\"r\":0,\"t\":50},\"template\":{\"data\":{\"bar\":[{\"error_x\":{\"color\":\"#2a3f5f\"},\"error_y\":{\"color\":\"#2a3f5f\"},\"marker\":{\"line\":{\"color\":\"white\",\"width\":0.5},\"pattern\":{\"fillmode\":\"overlay\",\"size\":10,\"solidity\":0.2}},\"type\":\"bar\"}],\"barpolar\":[{\"marker\":{\"line\":{\"color\":\"white\",\"width\":0.5},\"pattern\":{\"fillmode\":\"overlay\",\"size\":10,\"solidity\":0.2}},\"type\":\"barpolar\"}],\"carpet\":[{\"aaxis\":{\"endlinecolor\":\"#2a3f5f\",\"gridcolor\":\"#C8D4E3\",\"linecolor\":\"#C8D4E3\",\"minorgridcolor\":\"#C8D4E3\",\"startlinecolor\":\"#2a3f5f\"},\"baxis\":{\"endlinecolor\":\"#2a3f5f\",\"gridcolor\":\"#C8D4E3\",\"linecolor\":\"#C8D4E3\",\"minorgridcolor\":\"#C8D4E3\",\"startlinecolor\":\"#2a3f5f\"},\"type\":\"carpet\"}],\"choropleth\":[{\"colorbar\":{\"outlinewidth\":0,\"ticks\":\"\"},\"type\":\"choropleth\"}],\"contour\":[{\"colorbar\":{\"outlinewidth\":0,\"ticks\":\"\"},\"colorscale\":[[0.0,\"#0d0887\"],[0.1111111111111111,\"#46039f\"],[0.2222222222222222,\"#7201a8\"],[0.3333333333333333,\"#9c179e\"],[0.4444444444444444,\"#bd3786\"],[0.5555555555555556,\"#d8576b\"],[0.6666666666666666,\"#ed7953\"],[0.7777777777777778,\"#fb9f3a\"],[0.8888888888888888,\"#fdca26\"],[1.0,\"#f0f921\"]],\"type\":\"contour\"}],\"contourcarpet\":[{\"colorbar\":{\"outlinewidth\":0,\"ticks\":\"\"},\"type\":\"contourcarpet\"}],\"heatmap\":[{\"colorbar\":{\"outlinewidth\":0,\"ticks\":\"\"},\"colorscale\":[[0.0,\"#0d0887\"],[0.1111111111111111,\"#46039f\"],[0.2222222222222222,\"#7201a8\"],[0.3333333333333333,\"#9c179e\"],[0.4444444444444444,\"#bd3786\"],[0.5555555555555556,\"#d8576b\"],[0.6666666666666666,\"#ed7953\"],[0.7777777777777778,\"#fb9f3a\"],[0.8888888888888888,\"#fdca26\"],[1.0,\"#f0f921\"]],\"type\":\"heatmap\"}],\"heatmapgl\":[{\"colorbar\":{\"outlinewidth\":0,\"ticks\":\"\"},\"colorscale\":[[0.0,\"#0d0887\"],[0.1111111111111111,\"#46039f\"],[0.2222222222222222,\"#7201a8\"],[0.3333333333333333,\"#9c179e\"],[0.4444444444444444,\"#bd3786\"],[0.5555555555555556,\"#d8576b\"],[0.6666666666666666,\"#ed7953\"],[0.7777777777777778,\"#fb9f3a\"],[0.8888888888888888,\"#fdca26\"],[1.0,\"#f0f921\"]],\"type\":\"heatmapgl\"}],\"histogram\":[{\"marker\":{\"pattern\":{\"fillmode\":\"overlay\",\"size\":10,\"solidity\":0.2}},\"type\":\"histogram\"}],\"histogram2d\":[{\"colorbar\":{\"outlinewidth\":0,\"ticks\":\"\"},\"colorscale\":[[0.0,\"#0d0887\"],[0.1111111111111111,\"#46039f\"],[0.2222222222222222,\"#7201a8\"],[0.3333333333333333,\"#9c179e\"],[0.4444444444444444,\"#bd3786\"],[0.5555555555555556,\"#d8576b\"],[0.6666666666666666,\"#ed7953\"],[0.7777777777777778,\"#fb9f3a\"],[0.8888888888888888,\"#fdca26\"],[1.0,\"#f0f921\"]],\"type\":\"histogram2d\"}],\"histogram2dcontour\":[{\"colorbar\":{\"outlinewidth\":0,\"ticks\":\"\"},\"colorscale\":[[0.0,\"#0d0887\"],[0.1111111111111111,\"#46039f\"],[0.2222222222222222,\"#7201a8\"],[0.3333333333333333,\"#9c179e\"],[0.4444444444444444,\"#bd3786\"],[0.5555555555555556,\"#d8576b\"],[0.6666666666666666,\"#ed7953\"],[0.7777777777777778,\"#fb9f3a\"],[0.8888888888888888,\"#fdca26\"],[1.0,\"#f0f921\"]],\"type\":\"histogram2dcontour\"}],\"mesh3d\":[{\"colorbar\":{\"outlinewidth\":0,\"ticks\":\"\"},\"type\":\"mesh3d\"}],\"parcoords\":[{\"line\":{\"colorbar\":{\"outlinewidth\":0,\"ticks\":\"\"}},\"type\":\"parcoords\"}],\"pie\":[{\"automargin\":true,\"type\":\"pie\"}],\"scatter\":[{\"marker\":{\"colorbar\":{\"outlinewidth\":0,\"ticks\":\"\"}},\"type\":\"scatter\"}],\"scatter3d\":[{\"line\":{\"colorbar\":{\"outlinewidth\":0,\"ticks\":\"\"}},\"marker\":{\"colorbar\":{\"outlinewidth\":0,\"ticks\":\"\"}},\"type\":\"scatter3d\"}],\"scattercarpet\":[{\"marker\":{\"colorbar\":{\"outlinewidth\":0,\"ticks\":\"\"}},\"type\":\"scattercarpet\"}],\"scattergeo\":[{\"marker\":{\"colorbar\":{\"outlinewidth\":0,\"ticks\":\"\"}},\"type\":\"scattergeo\"}],\"scattergl\":[{\"marker\":{\"colorbar\":{\"outlinewidth\":0,\"ticks\":\"\"}},\"type\":\"scattergl\"}],\"scattermapbox\":[{\"marker\":{\"colorbar\":{\"outlinewidth\":0,\"ticks\":\"\"}},\"type\":\"scattermapbox\"}],\"scatterpolar\":[{\"marker\":{\"colorbar\":{\"outlinewidth\":0,\"ticks\":\"\"}},\"type\":\"scatterpolar\"}],\"scatterpolargl\":[{\"marker\":{\"colorbar\":{\"outlinewidth\":0,\"ticks\":\"\"}},\"type\":\"scatterpolargl\"}],\"scatterternary\":[{\"marker\":{\"colorbar\":{\"outlinewidth\":0,\"ticks\":\"\"}},\"type\":\"scatterternary\"}],\"surface\":[{\"colorbar\":{\"outlinewidth\":0,\"ticks\":\"\"},\"colorscale\":[[0.0,\"#0d0887\"],[0.1111111111111111,\"#46039f\"],[0.2222222222222222,\"#7201a8\"],[0.3333333333333333,\"#9c179e\"],[0.4444444444444444,\"#bd3786\"],[0.5555555555555556,\"#d8576b\"],[0.6666666666666666,\"#ed7953\"],[0.7777777777777778,\"#fb9f3a\"],[0.8888888888888888,\"#fdca26\"],[1.0,\"#f0f921\"]],\"type\":\"surface\"}],\"table\":[{\"cells\":{\"fill\":{\"color\":\"#EBF0F8\"},\"line\":{\"color\":\"white\"}},\"header\":{\"fill\":{\"color\":\"#C8D4E3\"},\"line\":{\"color\":\"white\"}},\"type\":\"table\"}]},\"layout\":{\"annotationdefaults\":{\"arrowcolor\":\"#2a3f5f\",\"arrowhead\":0,\"arrowwidth\":1},\"autotypenumbers\":\"strict\",\"coloraxis\":{\"colorbar\":{\"outlinewidth\":0,\"ticks\":\"\"}},\"colorscale\":{\"diverging\":[[0,\"#8e0152\"],[0.1,\"#c51b7d\"],[0.2,\"#de77ae\"],[0.3,\"#f1b6da\"],[0.4,\"#fde0ef\"],[0.5,\"#f7f7f7\"],[0.6,\"#e6f5d0\"],[0.7,\"#b8e186\"],[0.8,\"#7fbc41\"],[0.9,\"#4d9221\"],[1,\"#276419\"]],\"sequential\":[[0.0,\"#0d0887\"],[0.1111111111111111,\"#46039f\"],[0.2222222222222222,\"#7201a8\"],[0.3333333333333333,\"#9c179e\"],[0.4444444444444444,\"#bd3786\"],[0.5555555555555556,\"#d8576b\"],[0.6666666666666666,\"#ed7953\"],[0.7777777777777778,\"#fb9f3a\"],[0.8888888888888888,\"#fdca26\"],[1.0,\"#f0f921\"]],\"sequentialminus\":[[0.0,\"#0d0887\"],[0.1111111111111111,\"#46039f\"],[0.2222222222222222,\"#7201a8\"],[0.3333333333333333,\"#9c179e\"],[0.4444444444444444,\"#bd3786\"],[0.5555555555555556,\"#d8576b\"],[0.6666666666666666,\"#ed7953\"],[0.7777777777777778,\"#fb9f3a\"],[0.8888888888888888,\"#fdca26\"],[1.0,\"#f0f921\"]]},\"colorway\":[\"#636efa\",\"#EF553B\",\"#00cc96\",\"#ab63fa\",\"#FFA15A\",\"#19d3f3\",\"#FF6692\",\"#B6E880\",\"#FF97FF\",\"#FECB52\"],\"font\":{\"color\":\"#2a3f5f\"},\"geo\":{\"bgcolor\":\"white\",\"lakecolor\":\"white\",\"landcolor\":\"white\",\"showlakes\":true,\"showland\":true,\"subunitcolor\":\"#C8D4E3\"},\"hoverlabel\":{\"align\":\"left\"},\"hovermode\":\"closest\",\"mapbox\":{\"style\":\"light\"},\"paper_bgcolor\":\"white\",\"plot_bgcolor\":\"white\",\"polar\":{\"angularaxis\":{\"gridcolor\":\"#EBF0F8\",\"linecolor\":\"#EBF0F8\",\"ticks\":\"\"},\"bgcolor\":\"white\",\"radialaxis\":{\"gridcolor\":\"#EBF0F8\",\"linecolor\":\"#EBF0F8\",\"ticks\":\"\"}},\"scene\":{\"xaxis\":{\"backgroundcolor\":\"white\",\"gridcolor\":\"#DFE8F3\",\"gridwidth\":2,\"linecolor\":\"#EBF0F8\",\"showbackground\":true,\"ticks\":\"\",\"zerolinecolor\":\"#EBF0F8\"},\"yaxis\":{\"backgroundcolor\":\"white\",\"gridcolor\":\"#DFE8F3\",\"gridwidth\":2,\"linecolor\":\"#EBF0F8\",\"showbackground\":true,\"ticks\":\"\",\"zerolinecolor\":\"#EBF0F8\"},\"zaxis\":{\"backgroundcolor\":\"white\",\"gridcolor\":\"#DFE8F3\",\"gridwidth\":2,\"linecolor\":\"#EBF0F8\",\"showbackground\":true,\"ticks\":\"\",\"zerolinecolor\":\"#EBF0F8\"}},\"shapedefaults\":{\"line\":{\"color\":\"#2a3f5f\"}},\"ternary\":{\"aaxis\":{\"gridcolor\":\"#DFE8F3\",\"linecolor\":\"#A2B1C6\",\"ticks\":\"\"},\"baxis\":{\"gridcolor\":\"#DFE8F3\",\"linecolor\":\"#A2B1C6\",\"ticks\":\"\"},\"bgcolor\":\"white\",\"caxis\":{\"gridcolor\":\"#DFE8F3\",\"linecolor\":\"#A2B1C6\",\"ticks\":\"\"}},\"title\":{\"x\":0.05},\"xaxis\":{\"automargin\":true,\"gridcolor\":\"#EBF0F8\",\"linecolor\":\"#EBF0F8\",\"ticks\":\"\",\"title\":{\"standoff\":15},\"zerolinecolor\":\"#EBF0F8\",\"zerolinewidth\":2},\"yaxis\":{\"automargin\":true,\"gridcolor\":\"#EBF0F8\",\"linecolor\":\"#EBF0F8\",\"ticks\":\"\",\"title\":{\"standoff\":15},\"zerolinecolor\":\"#EBF0F8\",\"zerolinewidth\":2}}},\"title\":{\"text\":\"Phantom jan - 37\\u00b0C Z-spectrum - 20mM, pH 6.8\",\"x\":0.02,\"y\":0.97},\"width\":700,\"xaxis\":{\"anchor\":\"y\",\"autorange\":\"reversed\",\"domain\":[0.0,0.495],\"dtick\":1,\"tick0\":0,\"tickmode\":\"linear\"},\"xaxis2\":{\"anchor\":\"y2\",\"autorange\":\"reversed\",\"domain\":[0.505,1.0],\"dtick\":1,\"tick0\":0,\"tickmode\":\"linear\"},\"yaxis\":{\"anchor\":\"x\",\"domain\":[0.0,1.0],\"dtick\":0.2,\"range\":[-0.1,1.15],\"tick0\":0,\"tickmode\":\"linear\",\"title\":{\"standoff\":2,\"text\":\"$M_{sat}/M_0$\"}},\"yaxis2\":{\"anchor\":\"x2\",\"domain\":[0.0,1.0],\"dtick\":0.2,\"range\":[-0.1,1.15],\"tick0\":0,\"tickmode\":\"linear\"}},                        {\"responsive\": true}                    ).then(function(){\n                            \nvar gd = document.getElementById('dca6207a-c67b-4eba-a5f2-aa7e35db5a38');\nvar x = new MutationObserver(function (mutations, observer) {{\n        var display = window.getComputedStyle(gd).display;\n        if (!display || display === 'none') {{\n            console.log([gd, 'removed!']);\n            Plotly.purge(gd);\n            observer.disconnect();\n        }}\n}});\n\n// Listen for the removal of the full notebook cells\nvar notebookContainer = gd.closest('#notebook-container');\nif (notebookContainer) {{\n    x.observe(notebookContainer, {childList: true});\n}}\n\n// Listen for the clearing of the current output cell\nvar outputEl = gd.closest('.output');\nif (outputEl) {{\n    x.observe(outputEl, {childList: true});\n}}\n\n                        })                };                });            </script>        </div>"
     },
     "metadata": {},
     "output_type": "display_data"
    },
    {
     "name": "stdout",
     "output_type": "stream",
     "text": [
      "[[Model]]\n",
      "    Model(<lambda>)\n",
      "[[Fit Statistics]]\n",
      "    # fitting method   = least_squares\n",
      "    # function evals   = 2670\n",
      "    # data points      = 114\n",
      "    # variables        = 5\n",
      "    chi-square         = 0.82321908\n",
      "    reduced chi-square = 0.00755247\n",
      "    Akaike info crit   = -552.103375\n",
      "    Bayesian info crit = -538.422383\n",
      "    R-squared          = 0.90689240\n",
      "##  Warning: uncertainties could not be estimated:\n",
      "    t1w:  at boundary\n",
      "    t2w:  at boundary\n",
      "    t2s:  at boundary\n",
      "[[Variables]]\n",
      "    kb:   3761.37863 (init = 7500)\n",
      "    t1w:  4.50000000 (init = 4)\n",
      "    t2w:  0.50000000 (init = 1.8)\n",
      "    tp:   3 (fixed)\n",
      "    fb:   0.0005454545 (fixed)\n",
      "    t1s:  3.49338828 (init = 1.2)\n",
      "    t2s:  0.00700000 (init = 0.1)\n"
     ]
    }
   ],
   "source": [
    "b1_i_lim = [1, 3]\n",
    "\n",
    "b1_v = [0.7, 2, 4, 6][b1_i_lim[0]:b1_i_lim[1]]\n",
    "zi_v = mean_z_spectra[0][0, b1_i_lim[0]:b1_i_lim[1], -1]\n",
    "# zi_v = np.ones((4))[b1_i_lim[0]:b1_i_lim[1]]\n",
    "w_df = np.arange(7, -7.25, -0.25)\n",
    "\n",
    "phantom_i = 2\n",
    "\n",
    "cest_prtcl_names = cest_prtcls_names[phantom_i][b1_i_lim[0]:b1_i_lim[1]]  # 0.7, 2, 4, 6\n",
    "colors = ['#1f77b4', '#ff7f0e', '#2ca02c']\n",
    "conc_l = conc_ls[phantom_i]\n",
    "ph_l = ph_ls[phantom_i]\n",
    "tag = tags[phantom_i]\n",
    "month = months[phantom_i]\n",
    "\n",
    "# Iterate over each image\n",
    "for tag_i, cur_tag in enumerate(['a', 'b', 'c']):\n",
    "    vial_i = tag.index(cur_tag)\n",
    "    params = {\n",
    "    'tp': 3,  #[s]\n",
    "    'fb': conc_l[vial_i]*3/110000,\n",
    "    'kb': 7500,\n",
    "    't1w': 4,\n",
    "    't2w': 1.8,\n",
    "    't1s': 1.2,\n",
    "    't2s': 0.1\n",
    "    }\n",
    "    fig = make_subplots(rows=1, cols=len(cest_prtcl_names),\n",
    "                        subplot_titles=B_names[phantom_i][b1_i_lim[0]:b1_i_lim[1]], vertical_spacing = 0.07, horizontal_spacing=0.01)\n",
    "    \n",
    "    z_spec_mat = mean_z_spectra[phantom_i][vial_i, b1_i_lim[0]:b1_i_lim[1], :]\n",
    "    fit_result, fitted_z = multi_b1_fit(w_df, b1_v, zi_v, z_spec_mat, params) \n",
    "    fitted_z_rs = fitted_z.reshape((len(b1_v), 57))\n",
    "    \n",
    "    for b1_i, b1 in enumerate(b1_v):\n",
    "        col_idx = b1_i + 1\n",
    "        \n",
    "        cur_z = z_spec_mat[b1_i, :]\n",
    "        cur_z_fit = fitted_z_rs[b1_i, :]\n",
    "        fig.add_trace(go.Scatter(x=w_df, y=cur_z, line=dict(color=colors[tag_i]), name=f'real z', legendgroup=f'{1}_{col_idx}_1'), row=1, col=col_idx)\n",
    "        fig.add_trace(go.Scatter(x=w_df, y=cur_z_fit, line=dict(color=colors[tag_i]), opacity=0.5, name=f'fit z', legendgroup=f'{1}_{col_idx}_1'), row=1, col=col_idx)\n",
    "    \n",
    "    fig.update_yaxes(title_text='$M_{sat}/M_0$', row=1, col=1, title_standoff=2)\n",
    "    \n",
    "    # Update layout\n",
    "    fig.update_layout(template='plotly_white',  # Set the theme to plotly white\n",
    "                      title_text=f'Phantom {month} - {temperatures[phantom_i]} Z-spectrum - {conc_l[vial_i]}mM, {ph_l[vial_i]}',\n",
    "                      height=300, width=350*len(cest_prtcl_names),\n",
    "                      title=dict(x=0.02, y=0.97),\n",
    "                      margin=dict(l=45, r=0, t=50, b=0)\n",
    "                      )  # Adjust the title position\n",
    "    \n",
    "    \n",
    "    # Set axes for z-spectrum\n",
    "    fig.update_xaxes(autorange='reversed',tickmode='linear', tick0=0, dtick=1)\n",
    "    fig.update_yaxes(tickmode='linear', tick0=0, dtick=0.2, range=[-0.1, 1.15])\n",
    "    \n",
    "    # Show only specific legend groups\n",
    "    for trace in fig.data:\n",
    "        trace.showlegend = (trace.legendgroup == '1_1_1')\n",
    "    \n",
    "    fig.show()\n",
    "    \n",
    "    # After fitting the model\n",
    "    print(fit_result.fit_report())  # Print a summary of the fit results\n",
    "    # print(\"Parameter Values:\")\n",
    "    # for name, param in fit_result.params.items():\n",
    "    #     if name == 'fb':\n",
    "    #         print(f\"{name}: {param.value * 110000 / 3:.2f} +/- {param.stderr * 110000 / 3:.2f}\")\n",
    "    #     else:\n",
    "    #         print(f\"{name}: {param.value:.2f} +/- {param.stderr:.2f}\")\n",
    "    \n",
    "    pio.write_image(fig, f'images/z_spec/z_spec_dec_{conc_l[vial_i]}mM_fit.jpeg')\n"
   ],
   "metadata": {
    "collapsed": false,
    "ExecuteTime": {
     "end_time": "2024-02-28T14:21:36.819647Z",
     "start_time": "2024-02-28T14:21:35.307216Z"
    }
   },
   "id": "826ddedcd198e874",
   "execution_count": 29
  },
  {
   "cell_type": "code",
   "outputs": [],
   "source": [],
   "metadata": {
    "collapsed": false
   },
   "id": "f42a255a8c5a8f46",
   "execution_count": null
  }
 ],
 "metadata": {
  "kernelspec": {
   "display_name": "Python 3",
   "language": "python",
   "name": "python3"
  },
  "language_info": {
   "codemirror_mode": {
    "name": "ipython",
    "version": 2
   },
   "file_extension": ".py",
   "mimetype": "text/x-python",
   "name": "python",
   "nbconvert_exporter": "python",
   "pygments_lexer": "ipython2",
   "version": "2.7.6"
  }
 },
 "nbformat": 4,
 "nbformat_minor": 5
}
