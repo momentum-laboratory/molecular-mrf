{
 "cells": [
  {
   "cell_type": "code",
   "execution_count": 5,
   "outputs": [],
   "source": [
    "import os\n",
    "import cv2\n",
    "import plotly.graph_objects as go\n",
    "from plotly.subplots import make_subplots\n",
    "import numpy as np\n",
    "import scipy.io as sio\n",
    "import plotly.io as pio\n",
    "import plotly.express as px\n",
    "import pandas as pd\n",
    "\n",
    "from my_funcs.plot_functions import mask_roi_finder\n",
    "from my_funcs.plot_functions import mask_check_plot\n",
    "from my_funcs.plot_functions import compare_txt_method\n",
    "\n",
    "from my_funcs.cest_functions import bruker_dataset_creator\n",
    "from my_funcs.cest_functions import dicom_data_arranger\n",
    "from my_funcs.cest_functions import z_spec_rearranger\n",
    "from my_funcs.cest_functions import offset_rearranger\n",
    "\n",
    "from my_funcs.b0_mapping_functions import wassr_b0_mapping\n",
    "from my_funcs.b0_mapping_functions import b0_correction\n"
   ],
   "metadata": {
    "collapsed": false,
    "ExecuteTime": {
     "end_time": "2024-02-20T18:13:55.763938840Z",
     "start_time": "2024-02-20T18:13:55.711465321Z"
    }
   },
   "id": "e2e28fcc242f2c93"
  },
  {
   "cell_type": "markdown",
   "source": [
    "## 1.1. Enter Data: ##"
   ],
   "metadata": {
    "collapsed": false
   },
   "id": "7c86ddc8d094fe51"
  },
  {
   "cell_type": "code",
   "execution_count": 6,
   "outputs": [],
   "source": [
    "phantom_choice = 1\n",
    "\n",
    "# Root stats:\n",
    "general_fn = os.path.abspath(os.curdir)\n",
    "# Subject stats:\n",
    "glu_phantom_fns = [os.path.join(general_fn, 'scans', 'glu_phantoms_temp_var_feb12_2024',\n",
    "                                '20240212_091535_or_perlman_glu_phantom_20_16_12mM_ph_7_dec_33deg'),\n",
    "                   os.path.join(general_fn, 'scans', 'glu_phantoms_temp_var_feb12_2024',\n",
    "                                '20240212_103350_or_perlman_glu_phantom_20_16_12mM_ph_7_dec_37deg'),\n",
    "                   os.path.join(general_fn, 'scans', 'glu_phantoms_temp_var_feb12_2024',\n",
    "                                '20240212_114515_or_perlman_glu_phantom_20_16_12mM_ph_7_dec_40deg'),\n",
    "                   os.path.join(general_fn, 'scans', 'glu_phantoms_temp_var_feb12_2024',\n",
    "                                '20240212_132706_or_perlman_glu_phantom_20_16_12mM_ph_7_feb_33deg'),\n",
    "                   os.path.join(general_fn, 'scans', 'glu_phantoms_temp_var_feb12_2024',\n",
    "                                '20240212_132706_or_perlman_glu_phantom_20_16_12mM_ph_7_feb_37deg'),\n",
    "                   os.path.join(general_fn, 'scans', 'hagar_glutamate_phantoms37deg_dec8_2023',\n",
    "                                '20231207_093147_Or_Perlman_phantom_glu_ph7_12_16_20mM_37deg_1_1')]  # February\n",
    "glu_phantom_fn = glu_phantom_fns[phantom_choice-1]\n",
    "txt_file_name = 'labarchive_notes.txt'\n"
   ],
   "metadata": {
    "collapsed": false,
    "ExecuteTime": {
     "end_time": "2024-02-20T18:13:55.771550425Z",
     "start_time": "2024-02-20T18:13:55.764030920Z"
    }
   },
   "id": "125a48307888d90"
  },
  {
   "cell_type": "code",
   "outputs": [],
   "source": [
    "# _, files_fn, bruker_dataset = bruker_dataset_creator(glu_phantom_fn, txt_file_name, 'EPI_4uT')\n",
    "# _, _, bruker_dataset_mask = bruker_dataset_creator(glu_phantom_fn, txt_file_name, '107a')  # always takes mask from 107a\n",
    "# e_r = 0\n",
    "# vial_rois, full_mask, _ = mask_roi_finder(bruker_dataset_mask, e_r)\n",
    "#     \n",
    "# dict_fn = os.path.join(files_fn, 'dict.mat')\n",
    "# quant_fn = os.path.join(files_fn, 'quant_maps.mat')\n",
    "# zspec_dict = sio.loadmat(dict_fn)\n",
    "# zspec_quant = sio.loadmat(quant_fn)\n",
    "# \n",
    "# t1w = zspec_dict['t1w'][0]\n",
    "# t2w = zspec_dict['t2w'][0]\n",
    "# fs = zspec_dict['fs_0'][0]\n",
    "# ksw = zspec_dict['ksw_0'][0]\n",
    "# sig = zspec_dict['sig']\n",
    "# m_id = zspec_quant['match_id']\n",
    "# vial_20_m = m_id[46,31] # phantom 1\n",
    "# # vial_10_m = m_id[28,47] # phantom 1\n",
    "# vial_10_m = m_id[27,19] # phantom 2\n",
    "# \n",
    "# py_df = pd.DataFrame({\n",
    "#         't1w': t1w,\n",
    "#         't2w': t2w,\n",
    "#         'fs': fs,\n",
    "#         'ksw': ksw,\n",
    "#     })\n",
    "# py_df_sig = pd.DataFrame(sig)\n",
    "# # Concatenate the existing DataFrame with the new columns\n",
    "# py_df = pd.concat([py_df, py_df_sig], axis=1)\n",
    "# py_df_sorted = py_df.sort_values(by=['t1w', 't2w', 'fs', 'ksw'])\n",
    "# \n",
    "# n = int(vial_20_m)\n",
    "# # n = 19\n",
    "# py_sig = offset_rearranger(py_df_sorted.iloc[n, 4:].values)\n",
    "# \n",
    "# display(py_df_sorted)\n",
    "# # fig = px.imshow(zspec_quant['ksw'] * full_mask)\n",
    "# # fig.show()\n",
    "# # \n",
    "# # fig = px.imshow(zspec_quant['t1w'] * full_mask)\n",
    "# # fig.show()\n",
    "# # \n",
    "# # fig = px.imshow(zspec_quant['t2w'] * full_mask)\n",
    "# # fig.show()\n",
    "# # \n",
    "# # fig = px.imshow(zspec_quant['match_id'] * full_mask)\n",
    "# # fig.show()\n",
    "# \n",
    "# py_df_sorted.iloc[n, :]"
   ],
   "metadata": {
    "collapsed": false,
    "ExecuteTime": {
     "end_time": "2024-02-20T18:13:55.801504044Z",
     "start_time": "2024-02-20T18:13:55.767235324Z"
    }
   },
   "id": "654ad1fef4a78876",
   "execution_count": 7
  },
  {
   "cell_type": "markdown",
   "source": [
    "## 1.2. scan data ##"
   ],
   "metadata": {
    "collapsed": false
   },
   "id": "9dae45f000d4461"
  },
  {
   "cell_type": "code",
   "execution_count": 8,
   "outputs": [],
   "source": [
    "conc_ls = [['12 mM', '16 mM', '20 mM'],\n",
    "           ['16 mM', '20 mM', '12 mM'],\n",
    "           ['12 mM', '16 mM', '20 mM'],\n",
    "           ['12 mM', '20 mM', '16 mM'],\n",
    "           ['12 mM', '20 mM', '16 mM'],\n",
    "           ['20 mM', '12 mM', '16 mM']]\n",
    "\n",
    "ph_ls = [['pH 7', 'pH 7', 'pH 7'],\n",
    "         ['pH 7', 'pH 7', 'pH 7'],\n",
    "         ['pH 7', 'pH 7', 'pH 7'],\n",
    "         ['pH 7', 'pH 7', 'pH 7'],\n",
    "         ['pH 7', 'pH 7', 'pH 7'],\n",
    "         ['pH 7', 'pH 7', 'pH 7']]\n",
    "\n",
    "tags = [['c', 'b', 'a'], \n",
    "        ['b', 'a', 'c'],\n",
    "        ['b', 'c', 'a'],\n",
    "        ['c', 'a', 'b'],\n",
    "        ['c', 'a', 'b'],\n",
    "        ['a', 'c', 'b']]\n",
    "\n",
    "tag_x_locs = [[-3,3,-2],\n",
    "              [-2,1,-2],\n",
    "              [7, 0, 15],\n",
    "              [0,-3,0],\n",
    "              [0,-3,0],\n",
    "              [0,-3,0]]\n",
    "\n",
    "tag_y_locs = [[-13,13,14],\n",
    "              [-13,-13,12],\n",
    "              [-13,-13,12],\n",
    "              [-13,12,12],\n",
    "              [-13,12,12],\n",
    "              [-13,13,12]]\n",
    "\n",
    "conc_l = conc_ls[phantom_choice-1]\n",
    "ph_l = ph_ls[phantom_choice-1]\n",
    "tag = tags[phantom_choice-1]\n",
    "tag_x_loc = tag_x_locs[phantom_choice-1]\n",
    "tag_y_loc = tag_y_locs[phantom_choice-1]\n",
    "\n",
    "cest_prtcls_names = [['cest_EPI_4uT'],\n",
    "                     ['cest_EPI_4uT'],\n",
    "                     ['cest_EPI_4uT'],\n",
    "                     ['cest_EPI_4uT'],\n",
    "                     ['cest_EPI_4uT'],\n",
    "                     ['cest_EPI_4uT']]\n",
    "\n",
    "temperatures = ['33°C', '37°C', '40°C', '33°C', '37°C', '37°C']\n",
    "month = ['Dec', 'Dec', 'Dec', 'Feb', 'Feb', 'Dec_og']\n",
    "\n",
    "B_names = [['4uT'], ['4uT'], ['4uT'], ['4uT'], ['4uT'], ['4uT']]\n"
   ],
   "metadata": {
    "collapsed": false,
    "ExecuteTime": {
     "end_time": "2024-02-20T18:13:55.846284054Z",
     "start_time": "2024-02-20T18:13:55.845611421Z"
    }
   },
   "id": "64104dbf18ca6829"
  },
  {
   "cell_type": "markdown",
   "source": [
    "## 1. z-spectra ##"
   ],
   "metadata": {
    "collapsed": false
   },
   "id": "d8ef333ff9109459"
  },
  {
   "cell_type": "code",
   "execution_count": 9,
   "outputs": [
    {
     "name": "stdout",
     "output_type": "stream",
     "text": [
      "WASSR B0 mapping took 3.440 seconds\n",
      "WASSR B0 mapping took 3.507 seconds\n",
      "WASSR B0 mapping took 3.473 seconds\n",
      "WASSR B0 mapping took 3.378 seconds\n",
      "WASSR B0 mapping took 3.358 seconds\n",
      "WASSR B0 mapping took 3.337 seconds\n"
     ]
    }
   ],
   "source": [
    "mean_z_spectra = []\n",
    "mean_z_spectra_n_c = []\n",
    "gyro_ratio_hz = 42.5764  # for H [Hz/uT]\n",
    "b0 = 7\n",
    "\n",
    "for phantom_i in [0, 1, 2, 3, 4, 5]:  # [0, 1, 2]\n",
    "    cest_prtcl_names = cest_prtcls_names[phantom_i]\n",
    "    glu_phantom_fn = glu_phantom_fns[phantom_i]\n",
    "    B_name = B_names[phantom_i]\n",
    "    \n",
    "    # mask\n",
    "    _, _, bruker_dataset_mask = bruker_dataset_creator(glu_phantom_fn, txt_file_name, '107a')  # always takes mask from 107a\n",
    "    vial_rois, full_mask, _ = mask_roi_finder(bruker_dataset_mask)\n",
    "    \n",
    "    # WASSR image\n",
    "    wassr_dicom_fn, wassr_mrf_files_fn, wassr_bruker_dataset = bruker_dataset_creator(glu_phantom_fn, txt_file_name, 'WASSR')\n",
    "    wassr_data = dicom_data_arranger(wassr_bruker_dataset, wassr_dicom_fn)\n",
    "    M0_wassr, arr_wassr_spec = z_spec_rearranger(wassr_data)  # (21, 64, 64)\n",
    "\n",
    "    wassr_norm = np.divide(arr_wassr_spec, np.where(M0_wassr == 0, 1e-8, M0_wassr))  # (22, 64, 64) full_mask\n",
    "    offset_hz = offset_rearranger(wassr_bruker_dataset['SatFreqList'].value)\n",
    "    offset_ppm = offset_hz / (gyro_ratio_hz * b0)\n",
    "    b0_map = wassr_b0_mapping(wassr_norm, full_mask, w_x=offset_ppm, MainFieldMHz=gyro_ratio_hz*b0)\n",
    "    \n",
    "    mean_z_spectrum = np.zeros([3, len(cest_prtcl_names), 57])\n",
    "    mean_z_spectrum_not_cor = np.zeros([3, len(cest_prtcl_names), 57])\n",
    "    for cest_prtcl_i, cest_prtcl_name in enumerate(cest_prtcl_names):  # 0.7, 2, 4, 6\n",
    "        cur_B_name = B_name[cest_prtcl_i]\n",
    "\n",
    "        # z-spec\n",
    "        glu_phantom_dicom_fn, glu_phantom_mrf_files_fn, bruker_dataset = bruker_dataset_creator(glu_phantom_fn, txt_file_name, cest_prtcl_name)  # (58/52, 64, 64) [M0,7,-7,6.75,-6.75,...,0.25,-0.25,0]\n",
    "        cest_data = dicom_data_arranger(bruker_dataset, glu_phantom_dicom_fn)\n",
    "        # cest_data_0 = cest_data[0, :, :] * full_mask\n",
    "        # cest_data_1 = cest_data[1, :, :] * full_mask\n",
    "        # cest_data_div = cest_data_1 / cest_data_0\n",
    "        M0_cest, arr_z_spec = z_spec_rearranger(cest_data)\n",
    "        z_spec_norm = np.divide(arr_z_spec, np.where(M0_cest == 0, 1e-8, M0_cest))  # (51/57, 64, 64) full_mask\n",
    "        \n",
    "        # offset vector\n",
    "        offset_hz = offset_rearranger(bruker_dataset['SatFreqList'].value)\n",
    "        offset_ppm = offset_hz / (gyro_ratio_hz * b0)\n",
    "        # offset_ppm = np.round((offset_ppm) / 0.05) * 0.05\n",
    "        # offset_hz = offset_ppm[1:] * gyro_ratio_hz * b0\n",
    "    \n",
    "        b0_cor_zspec = b0_correction(b0_map, z_spec_norm, offset_hz) # have not checked!\n",
    "\n",
    "        for vial_i, vial_roi in enumerate(vial_rois):\n",
    "            roi_mask = np.zeros_like(full_mask)\n",
    "            rr, cc = vial_roi.coords[:, 0], vial_roi.coords[:, 1]\n",
    "            roi_mask[rr, cc] = 1\n",
    "            # roi_mask = cv2.cvtColor(roi_mask, cv2.COLOR_BGR2GRAY)\n",
    "            roi_mask = roi_mask.astype(np.uint8)\n",
    "            \n",
    "            for c_i in range(z_spec_norm.shape[0]):\n",
    "                [[mean_vial]], _ = cv2.meanStdDev(z_spec_norm[c_i, :, :], mask=roi_mask)  # before b0 correction\n",
    "                mean_z_spectrum_not_cor[vial_i,cest_prtcl_i,c_i] = mean_vial\n",
    "                [[mean_vial]], _ = cv2.meanStdDev(b0_cor_zspec[c_i, :, :], mask=roi_mask)\n",
    "                mean_z_spectrum[vial_i,cest_prtcl_i,c_i] = mean_vial\n",
    "\n",
    "    mean_z_spectra.append(mean_z_spectrum)\n",
    "    mean_z_spectra_n_c.append(mean_z_spectrum_not_cor)\n"
   ],
   "metadata": {
    "collapsed": false,
    "ExecuteTime": {
     "end_time": "2024-02-20T18:14:16.776395164Z",
     "start_time": "2024-02-20T18:13:55.845914469Z"
    }
   },
   "id": "a43d56c63c1bd751"
  },
  {
   "cell_type": "code",
   "execution_count": 12,
   "outputs": [
    {
     "data": {
      "application/vnd.plotly.v1+json": {
       "config": {
        "plotlyServerURL": "https://plot.ly"
       },
       "data": [
        {
         "legendgroup": "1_1_1",
         "line": {
          "color": "#1f77b4"
         },
         "name": "a 20 mM, pH 7",
         "showlegend": true,
         "type": "scatter",
         "x": [
          7.0,
          6.75,
          6.5,
          6.25,
          6.0,
          5.75,
          5.5,
          5.25,
          5.0,
          4.75,
          4.5,
          4.25,
          4.0,
          3.75,
          3.5,
          3.25,
          3.0,
          2.75,
          2.5,
          2.25,
          2.0,
          1.75,
          1.5,
          1.25,
          1.0,
          0.75,
          0.5,
          0.25,
          0.0,
          -0.25,
          -0.5,
          -0.75,
          -1.0,
          -1.25,
          -1.5,
          -1.75,
          -2.0,
          -2.25,
          -2.5,
          -2.75,
          -3.0,
          -3.25,
          -3.5,
          -3.75,
          -4.0,
          -4.25,
          -4.5,
          -4.75,
          -5.0,
          -5.25,
          -5.5,
          -5.75,
          -6.0,
          -6.25,
          -6.5,
          -6.75,
          -7.0
         ],
         "xaxis": "x",
         "y": [
          0.9129714036718085,
          0.9090495507756787,
          0.906641607214419,
          0.9049844855573265,
          0.9022997052679287,
          0.8978182915866124,
          0.8927713102525634,
          0.8872169069485547,
          0.8802444440133347,
          0.8698890344686853,
          0.8618534772341964,
          0.85078685359136,
          0.836691644327153,
          0.820110775398842,
          0.8022820152263502,
          0.7815445034216039,
          0.7594992839500257,
          0.7314888146917742,
          0.7000474831222724,
          0.6619626700916263,
          0.6170964788160899,
          0.5590021465612963,
          0.48768370729200766,
          0.40277683114698737,
          0.302732997979778,
          0.194172583555978,
          0.09707085484609364,
          0.02855176066789911,
          0.005282407270643182,
          0.02685813085971187,
          0.1094889880281814,
          0.23881646890936978,
          0.38236177048879366,
          0.5108362035181298,
          0.6103629949637784,
          0.6849761172909941,
          0.7420536152875158,
          0.7815540394133135,
          0.8114423409160385,
          0.8346437539286153,
          0.8527683126942567,
          0.8677042495068141,
          0.877819951460404,
          0.8880222977077997,
          0.8962060762508096,
          0.9036194932588831,
          0.9079625872641298,
          0.91237911439652,
          0.9154642432322553,
          0.9190145846638365,
          0.9209557564184614,
          0.9221668453822539,
          0.923001979933004,
          0.9243662879526863,
          0.9228380151419454,
          0.9227695191675911,
          0.9236045461584328
         ],
         "yaxis": "y"
        },
        {
         "legendgroup": "1_1_2",
         "line": {
          "color": "#1f77b4"
         },
         "name": "20 mM, pH 7",
         "showlegend": false,
         "type": "scatter",
         "x": [
          7.0,
          6.75,
          6.5,
          6.25,
          6.0,
          5.75,
          5.5,
          5.25,
          5.0,
          4.75,
          4.5,
          4.25,
          4.0,
          3.75,
          3.5,
          3.25,
          3.0,
          2.75,
          2.5,
          2.25,
          2.0,
          1.75,
          1.5,
          1.25,
          1.0,
          0.75,
          0.5,
          0.25,
          0.0
         ],
         "xaxis": "x",
         "y": [
          0.01063314248662428,
          0.013719968391912363,
          0.016196407927526413,
          0.019381802395359804,
          0.02070227466507535,
          0.024348553795641492,
          0.02818444616589799,
          0.03179767771528175,
          0.0352197992189206,
          0.04249007992783471,
          0.04610911002993345,
          0.05283263966752316,
          0.059514431923656574,
          0.0679115223089577,
          0.0755379362340538,
          0.08615974608521026,
          0.09326902874423093,
          0.10315493923684116,
          0.11139485779376612,
          0.11959136932168712,
          0.12495713647142592,
          0.12597397072969774,
          0.12267928767177078,
          0.10805937237114238,
          0.07962877250901568,
          0.04464388535339178,
          0.01241813318208776,
          -0.0016936298081872414,
          0.0
         ],
         "yaxis": "y"
        },
        {
         "legendgroup": "1_1_1",
         "line": {
          "color": "#ff7f0e"
         },
         "name": "b 16 mM, pH 7",
         "showlegend": true,
         "type": "scatter",
         "x": [
          7.0,
          6.75,
          6.5,
          6.25,
          6.0,
          5.75,
          5.5,
          5.25,
          5.0,
          4.75,
          4.5,
          4.25,
          4.0,
          3.75,
          3.5,
          3.25,
          3.0,
          2.75,
          2.5,
          2.25,
          2.0,
          1.75,
          1.5,
          1.25,
          1.0,
          0.75,
          0.5,
          0.25,
          0.0,
          -0.25,
          -0.5,
          -0.75,
          -1.0,
          -1.25,
          -1.5,
          -1.75,
          -2.0,
          -2.25,
          -2.5,
          -2.75,
          -3.0,
          -3.25,
          -3.5,
          -3.75,
          -4.0,
          -4.25,
          -4.5,
          -4.75,
          -5.0,
          -5.25,
          -5.5,
          -5.75,
          -6.0,
          -6.25,
          -6.5,
          -6.75,
          -7.0
         ],
         "xaxis": "x",
         "y": [
          0.9125704925064452,
          0.910990588465634,
          0.9093290481140825,
          0.9064937954932848,
          0.9042218899709017,
          0.901813942325136,
          0.8981295389056224,
          0.8933757712119073,
          0.8876362145073284,
          0.8809179743419852,
          0.8741271487389461,
          0.864061067299342,
          0.8528189119908339,
          0.8406529364498557,
          0.8254421906710989,
          0.8086011965265203,
          0.7890236075944984,
          0.7652573770360683,
          0.7384420057548138,
          0.7042164594814162,
          0.6625113208361799,
          0.6092626329723633,
          0.542403106870397,
          0.4570308532391926,
          0.3527729298738652,
          0.2368820937417768,
          0.12005333142416838,
          0.034911754404049436,
          0.005945769809198333,
          0.03260690898268874,
          0.1333306843279275,
          0.27934529982030276,
          0.42971716150737777,
          0.5530925418940781,
          0.6472210769948074,
          0.7156261947307305,
          0.7652194530692036,
          0.8007907792202146,
          0.8283785110485059,
          0.8482877312867376,
          0.8638305263261985,
          0.8761474232484109,
          0.885378562316289,
          0.894284262525719,
          0.9003104739959409,
          0.9058645780187013,
          0.9102949902238345,
          0.9137987928480764,
          0.9167289851088674,
          0.9178261308650806,
          0.9201794404012069,
          0.9210009846881595,
          0.9215386433691628,
          0.9214656890881802,
          0.922096046684482,
          0.9223507594658464,
          0.9220889936512606
         ],
         "yaxis": "y"
        },
        {
         "legendgroup": "1_1_2",
         "line": {
          "color": "#ff7f0e"
         },
         "name": "16 mM, pH 7",
         "showlegend": false,
         "type": "scatter",
         "x": [
          7.0,
          6.75,
          6.5,
          6.25,
          6.0,
          5.75,
          5.5,
          5.25,
          5.0,
          4.75,
          4.5,
          4.25,
          4.0,
          3.75,
          3.5,
          3.25,
          3.0,
          2.75,
          2.5,
          2.25,
          2.0,
          1.75,
          1.5,
          1.25,
          1.0,
          0.75,
          0.5,
          0.25,
          0.0
         ],
         "xaxis": "x",
         "y": [
          0.00951850114481545,
          0.011360171000212471,
          0.012766998570399424,
          0.014971893594895369,
          0.01731675339826111,
          0.019187042363023488,
          0.0220499014955845,
          0.024450359653173326,
          0.02909277060153892,
          0.03288081850609126,
          0.036167841484888386,
          0.041803510719359394,
          0.04749156200510696,
          0.053631326075863295,
          0.059936371645190056,
          0.06754622672189059,
          0.07480691873170009,
          0.08303035425066929,
          0.08993650529369213,
          0.09657431973879838,
          0.10270813223302366,
          0.10636356175836725,
          0.10481797012441041,
          0.09606168865488546,
          0.07694423163351255,
          0.04246320607852597,
          0.013277352903759115,
          -0.002304845421360696,
          0.0
         ],
         "yaxis": "y"
        },
        {
         "legendgroup": "1_1_1",
         "line": {
          "color": "#2ca02c"
         },
         "name": "c 12 mM, pH 7",
         "showlegend": true,
         "type": "scatter",
         "x": [
          7.0,
          6.75,
          6.5,
          6.25,
          6.0,
          5.75,
          5.5,
          5.25,
          5.0,
          4.75,
          4.5,
          4.25,
          4.0,
          3.75,
          3.5,
          3.25,
          3.0,
          2.75,
          2.5,
          2.25,
          2.0,
          1.75,
          1.5,
          1.25,
          1.0,
          0.75,
          0.5,
          0.25,
          0.0,
          -0.25,
          -0.5,
          -0.75,
          -1.0,
          -1.25,
          -1.5,
          -1.75,
          -2.0,
          -2.25,
          -2.5,
          -2.75,
          -3.0,
          -3.25,
          -3.5,
          -3.75,
          -4.0,
          -4.25,
          -4.5,
          -4.75,
          -5.0,
          -5.25,
          -5.5,
          -5.75,
          -6.0,
          -6.25,
          -6.5,
          -6.75,
          -7.0
         ],
         "xaxis": "x",
         "y": [
          0.9159759712174111,
          0.9161318567470901,
          0.913672803376461,
          0.911729081409509,
          0.9104313196076063,
          0.9089289222958578,
          0.904551990197159,
          0.9009271949047075,
          0.8972073690959752,
          0.8933362432091475,
          0.8885292459601096,
          0.8812320206815201,
          0.8735329605466146,
          0.8667112584573728,
          0.8562104081629263,
          0.8432425449459529,
          0.8306699338193608,
          0.8120575495882383,
          0.7902185205553064,
          0.7632603320162156,
          0.7275481371092147,
          0.6817156780542277,
          0.6214925189435382,
          0.5405920170943573,
          0.43369093578499757,
          0.30531248090673957,
          0.16061194741226587,
          0.04743390839313045,
          0.004234664383461141,
          0.044357617713274226,
          0.1707834792789295,
          0.33190267037647864,
          0.4861654874949621,
          0.5997180574645063,
          0.6858832662552555,
          0.7466487476113424,
          0.7888709742204384,
          0.819959397446861,
          0.8428908031450624,
          0.8611607145143222,
          0.8722641621249239,
          0.8823227542468627,
          0.8904700440116606,
          0.8982402529631827,
          0.9023027218897857,
          0.9054576814673055,
          0.9094699751442552,
          0.913169509946481,
          0.9159879322811157,
          0.9157078639475962,
          0.9187710046622105,
          0.9207125248221221,
          0.9214841503933866,
          0.9210698724380041,
          0.9214227704469252,
          0.9229294029102845,
          0.9228137081842831
         ],
         "yaxis": "y"
        },
        {
         "legendgroup": "1_1_2",
         "line": {
          "color": "#2ca02c"
         },
         "name": "12 mM, pH 7",
         "showlegend": false,
         "type": "scatter",
         "x": [
          7.0,
          6.75,
          6.5,
          6.25,
          6.0,
          5.75,
          5.5,
          5.25,
          5.0,
          4.75,
          4.5,
          4.25,
          4.0,
          3.75,
          3.5,
          3.25,
          3.0,
          2.75,
          2.5,
          2.25,
          2.0,
          1.75,
          1.5,
          1.25,
          1.0,
          0.75,
          0.5,
          0.25,
          0.0
         ],
         "xaxis": "x",
         "y": [
          0.0068377369668719545,
          0.00679754616319439,
          0.00774996707046427,
          0.009340791028495055,
          0.011052830785780343,
          0.011783602526264314,
          0.014219014465051472,
          0.014780669042888661,
          0.018780563185140542,
          0.019833266737333544,
          0.02094072918414558,
          0.024225660785785474,
          0.028769761343171107,
          0.031528994505809815,
          0.03425963584873437,
          0.03908020930090983,
          0.04159422830556303,
          0.04910316492608391,
          0.05267228258975598,
          0.0566990654306454,
          0.06132283711122366,
          0.06493306955711464,
          0.06439074731171734,
          0.05912604037014901,
          0.05247455170996451,
          0.026590189469739067,
          0.010171531866663641,
          -0.0030762906798562223,
          0.0
         ],
         "yaxis": "y"
        }
       ],
       "layout": {
        "annotations": [
         {
          "font": {
           "size": 16
          },
          "showarrow": false,
          "text": "4uT",
          "x": 0.5,
          "xanchor": "center",
          "xref": "paper",
          "y": 1.0,
          "yanchor": "bottom",
          "yref": "paper"
         }
        ],
        "height": 250,
        "margin": {
         "b": 0,
         "l": 45,
         "r": 0,
         "t": 50
        },
        "template": {
         "data": {
          "bar": [
           {
            "error_x": {
             "color": "#2a3f5f"
            },
            "error_y": {
             "color": "#2a3f5f"
            },
            "marker": {
             "line": {
              "color": "white",
              "width": 0.5
             },
             "pattern": {
              "fillmode": "overlay",
              "size": 10,
              "solidity": 0.2
             }
            },
            "type": "bar"
           }
          ],
          "barpolar": [
           {
            "marker": {
             "line": {
              "color": "white",
              "width": 0.5
             },
             "pattern": {
              "fillmode": "overlay",
              "size": 10,
              "solidity": 0.2
             }
            },
            "type": "barpolar"
           }
          ],
          "carpet": [
           {
            "aaxis": {
             "endlinecolor": "#2a3f5f",
             "gridcolor": "#C8D4E3",
             "linecolor": "#C8D4E3",
             "minorgridcolor": "#C8D4E3",
             "startlinecolor": "#2a3f5f"
            },
            "baxis": {
             "endlinecolor": "#2a3f5f",
             "gridcolor": "#C8D4E3",
             "linecolor": "#C8D4E3",
             "minorgridcolor": "#C8D4E3",
             "startlinecolor": "#2a3f5f"
            },
            "type": "carpet"
           }
          ],
          "choropleth": [
           {
            "colorbar": {
             "outlinewidth": 0,
             "ticks": ""
            },
            "type": "choropleth"
           }
          ],
          "contour": [
           {
            "colorbar": {
             "outlinewidth": 0,
             "ticks": ""
            },
            "colorscale": [
             [
              0.0,
              "#0d0887"
             ],
             [
              0.1111111111111111,
              "#46039f"
             ],
             [
              0.2222222222222222,
              "#7201a8"
             ],
             [
              0.3333333333333333,
              "#9c179e"
             ],
             [
              0.4444444444444444,
              "#bd3786"
             ],
             [
              0.5555555555555556,
              "#d8576b"
             ],
             [
              0.6666666666666666,
              "#ed7953"
             ],
             [
              0.7777777777777778,
              "#fb9f3a"
             ],
             [
              0.8888888888888888,
              "#fdca26"
             ],
             [
              1.0,
              "#f0f921"
             ]
            ],
            "type": "contour"
           }
          ],
          "contourcarpet": [
           {
            "colorbar": {
             "outlinewidth": 0,
             "ticks": ""
            },
            "type": "contourcarpet"
           }
          ],
          "heatmap": [
           {
            "colorbar": {
             "outlinewidth": 0,
             "ticks": ""
            },
            "colorscale": [
             [
              0.0,
              "#0d0887"
             ],
             [
              0.1111111111111111,
              "#46039f"
             ],
             [
              0.2222222222222222,
              "#7201a8"
             ],
             [
              0.3333333333333333,
              "#9c179e"
             ],
             [
              0.4444444444444444,
              "#bd3786"
             ],
             [
              0.5555555555555556,
              "#d8576b"
             ],
             [
              0.6666666666666666,
              "#ed7953"
             ],
             [
              0.7777777777777778,
              "#fb9f3a"
             ],
             [
              0.8888888888888888,
              "#fdca26"
             ],
             [
              1.0,
              "#f0f921"
             ]
            ],
            "type": "heatmap"
           }
          ],
          "heatmapgl": [
           {
            "colorbar": {
             "outlinewidth": 0,
             "ticks": ""
            },
            "colorscale": [
             [
              0.0,
              "#0d0887"
             ],
             [
              0.1111111111111111,
              "#46039f"
             ],
             [
              0.2222222222222222,
              "#7201a8"
             ],
             [
              0.3333333333333333,
              "#9c179e"
             ],
             [
              0.4444444444444444,
              "#bd3786"
             ],
             [
              0.5555555555555556,
              "#d8576b"
             ],
             [
              0.6666666666666666,
              "#ed7953"
             ],
             [
              0.7777777777777778,
              "#fb9f3a"
             ],
             [
              0.8888888888888888,
              "#fdca26"
             ],
             [
              1.0,
              "#f0f921"
             ]
            ],
            "type": "heatmapgl"
           }
          ],
          "histogram": [
           {
            "marker": {
             "pattern": {
              "fillmode": "overlay",
              "size": 10,
              "solidity": 0.2
             }
            },
            "type": "histogram"
           }
          ],
          "histogram2d": [
           {
            "colorbar": {
             "outlinewidth": 0,
             "ticks": ""
            },
            "colorscale": [
             [
              0.0,
              "#0d0887"
             ],
             [
              0.1111111111111111,
              "#46039f"
             ],
             [
              0.2222222222222222,
              "#7201a8"
             ],
             [
              0.3333333333333333,
              "#9c179e"
             ],
             [
              0.4444444444444444,
              "#bd3786"
             ],
             [
              0.5555555555555556,
              "#d8576b"
             ],
             [
              0.6666666666666666,
              "#ed7953"
             ],
             [
              0.7777777777777778,
              "#fb9f3a"
             ],
             [
              0.8888888888888888,
              "#fdca26"
             ],
             [
              1.0,
              "#f0f921"
             ]
            ],
            "type": "histogram2d"
           }
          ],
          "histogram2dcontour": [
           {
            "colorbar": {
             "outlinewidth": 0,
             "ticks": ""
            },
            "colorscale": [
             [
              0.0,
              "#0d0887"
             ],
             [
              0.1111111111111111,
              "#46039f"
             ],
             [
              0.2222222222222222,
              "#7201a8"
             ],
             [
              0.3333333333333333,
              "#9c179e"
             ],
             [
              0.4444444444444444,
              "#bd3786"
             ],
             [
              0.5555555555555556,
              "#d8576b"
             ],
             [
              0.6666666666666666,
              "#ed7953"
             ],
             [
              0.7777777777777778,
              "#fb9f3a"
             ],
             [
              0.8888888888888888,
              "#fdca26"
             ],
             [
              1.0,
              "#f0f921"
             ]
            ],
            "type": "histogram2dcontour"
           }
          ],
          "mesh3d": [
           {
            "colorbar": {
             "outlinewidth": 0,
             "ticks": ""
            },
            "type": "mesh3d"
           }
          ],
          "parcoords": [
           {
            "line": {
             "colorbar": {
              "outlinewidth": 0,
              "ticks": ""
             }
            },
            "type": "parcoords"
           }
          ],
          "pie": [
           {
            "automargin": true,
            "type": "pie"
           }
          ],
          "scatter": [
           {
            "marker": {
             "colorbar": {
              "outlinewidth": 0,
              "ticks": ""
             }
            },
            "type": "scatter"
           }
          ],
          "scatter3d": [
           {
            "line": {
             "colorbar": {
              "outlinewidth": 0,
              "ticks": ""
             }
            },
            "marker": {
             "colorbar": {
              "outlinewidth": 0,
              "ticks": ""
             }
            },
            "type": "scatter3d"
           }
          ],
          "scattercarpet": [
           {
            "marker": {
             "colorbar": {
              "outlinewidth": 0,
              "ticks": ""
             }
            },
            "type": "scattercarpet"
           }
          ],
          "scattergeo": [
           {
            "marker": {
             "colorbar": {
              "outlinewidth": 0,
              "ticks": ""
             }
            },
            "type": "scattergeo"
           }
          ],
          "scattergl": [
           {
            "marker": {
             "colorbar": {
              "outlinewidth": 0,
              "ticks": ""
             }
            },
            "type": "scattergl"
           }
          ],
          "scattermapbox": [
           {
            "marker": {
             "colorbar": {
              "outlinewidth": 0,
              "ticks": ""
             }
            },
            "type": "scattermapbox"
           }
          ],
          "scatterpolar": [
           {
            "marker": {
             "colorbar": {
              "outlinewidth": 0,
              "ticks": ""
             }
            },
            "type": "scatterpolar"
           }
          ],
          "scatterpolargl": [
           {
            "marker": {
             "colorbar": {
              "outlinewidth": 0,
              "ticks": ""
             }
            },
            "type": "scatterpolargl"
           }
          ],
          "scatterternary": [
           {
            "marker": {
             "colorbar": {
              "outlinewidth": 0,
              "ticks": ""
             }
            },
            "type": "scatterternary"
           }
          ],
          "surface": [
           {
            "colorbar": {
             "outlinewidth": 0,
             "ticks": ""
            },
            "colorscale": [
             [
              0.0,
              "#0d0887"
             ],
             [
              0.1111111111111111,
              "#46039f"
             ],
             [
              0.2222222222222222,
              "#7201a8"
             ],
             [
              0.3333333333333333,
              "#9c179e"
             ],
             [
              0.4444444444444444,
              "#bd3786"
             ],
             [
              0.5555555555555556,
              "#d8576b"
             ],
             [
              0.6666666666666666,
              "#ed7953"
             ],
             [
              0.7777777777777778,
              "#fb9f3a"
             ],
             [
              0.8888888888888888,
              "#fdca26"
             ],
             [
              1.0,
              "#f0f921"
             ]
            ],
            "type": "surface"
           }
          ],
          "table": [
           {
            "cells": {
             "fill": {
              "color": "#EBF0F8"
             },
             "line": {
              "color": "white"
             }
            },
            "header": {
             "fill": {
              "color": "#C8D4E3"
             },
             "line": {
              "color": "white"
             }
            },
            "type": "table"
           }
          ]
         },
         "layout": {
          "annotationdefaults": {
           "arrowcolor": "#2a3f5f",
           "arrowhead": 0,
           "arrowwidth": 1
          },
          "autotypenumbers": "strict",
          "coloraxis": {
           "colorbar": {
            "outlinewidth": 0,
            "ticks": ""
           }
          },
          "colorscale": {
           "diverging": [
            [
             0,
             "#8e0152"
            ],
            [
             0.1,
             "#c51b7d"
            ],
            [
             0.2,
             "#de77ae"
            ],
            [
             0.3,
             "#f1b6da"
            ],
            [
             0.4,
             "#fde0ef"
            ],
            [
             0.5,
             "#f7f7f7"
            ],
            [
             0.6,
             "#e6f5d0"
            ],
            [
             0.7,
             "#b8e186"
            ],
            [
             0.8,
             "#7fbc41"
            ],
            [
             0.9,
             "#4d9221"
            ],
            [
             1,
             "#276419"
            ]
           ],
           "sequential": [
            [
             0.0,
             "#0d0887"
            ],
            [
             0.1111111111111111,
             "#46039f"
            ],
            [
             0.2222222222222222,
             "#7201a8"
            ],
            [
             0.3333333333333333,
             "#9c179e"
            ],
            [
             0.4444444444444444,
             "#bd3786"
            ],
            [
             0.5555555555555556,
             "#d8576b"
            ],
            [
             0.6666666666666666,
             "#ed7953"
            ],
            [
             0.7777777777777778,
             "#fb9f3a"
            ],
            [
             0.8888888888888888,
             "#fdca26"
            ],
            [
             1.0,
             "#f0f921"
            ]
           ],
           "sequentialminus": [
            [
             0.0,
             "#0d0887"
            ],
            [
             0.1111111111111111,
             "#46039f"
            ],
            [
             0.2222222222222222,
             "#7201a8"
            ],
            [
             0.3333333333333333,
             "#9c179e"
            ],
            [
             0.4444444444444444,
             "#bd3786"
            ],
            [
             0.5555555555555556,
             "#d8576b"
            ],
            [
             0.6666666666666666,
             "#ed7953"
            ],
            [
             0.7777777777777778,
             "#fb9f3a"
            ],
            [
             0.8888888888888888,
             "#fdca26"
            ],
            [
             1.0,
             "#f0f921"
            ]
           ]
          },
          "colorway": [
           "#636efa",
           "#EF553B",
           "#00cc96",
           "#ab63fa",
           "#FFA15A",
           "#19d3f3",
           "#FF6692",
           "#B6E880",
           "#FF97FF",
           "#FECB52"
          ],
          "font": {
           "color": "#2a3f5f"
          },
          "geo": {
           "bgcolor": "white",
           "lakecolor": "white",
           "landcolor": "white",
           "showlakes": true,
           "showland": true,
           "subunitcolor": "#C8D4E3"
          },
          "hoverlabel": {
           "align": "left"
          },
          "hovermode": "closest",
          "mapbox": {
           "style": "light"
          },
          "paper_bgcolor": "white",
          "plot_bgcolor": "white",
          "polar": {
           "angularaxis": {
            "gridcolor": "#EBF0F8",
            "linecolor": "#EBF0F8",
            "ticks": ""
           },
           "bgcolor": "white",
           "radialaxis": {
            "gridcolor": "#EBF0F8",
            "linecolor": "#EBF0F8",
            "ticks": ""
           }
          },
          "scene": {
           "xaxis": {
            "backgroundcolor": "white",
            "gridcolor": "#DFE8F3",
            "gridwidth": 2,
            "linecolor": "#EBF0F8",
            "showbackground": true,
            "ticks": "",
            "zerolinecolor": "#EBF0F8"
           },
           "yaxis": {
            "backgroundcolor": "white",
            "gridcolor": "#DFE8F3",
            "gridwidth": 2,
            "linecolor": "#EBF0F8",
            "showbackground": true,
            "ticks": "",
            "zerolinecolor": "#EBF0F8"
           },
           "zaxis": {
            "backgroundcolor": "white",
            "gridcolor": "#DFE8F3",
            "gridwidth": 2,
            "linecolor": "#EBF0F8",
            "showbackground": true,
            "ticks": "",
            "zerolinecolor": "#EBF0F8"
           }
          },
          "shapedefaults": {
           "line": {
            "color": "#2a3f5f"
           }
          },
          "ternary": {
           "aaxis": {
            "gridcolor": "#DFE8F3",
            "linecolor": "#A2B1C6",
            "ticks": ""
           },
           "baxis": {
            "gridcolor": "#DFE8F3",
            "linecolor": "#A2B1C6",
            "ticks": ""
           },
           "bgcolor": "white",
           "caxis": {
            "gridcolor": "#DFE8F3",
            "linecolor": "#A2B1C6",
            "ticks": ""
           }
          },
          "title": {
           "x": 0.05
          },
          "xaxis": {
           "automargin": true,
           "gridcolor": "#EBF0F8",
           "linecolor": "#EBF0F8",
           "ticks": "",
           "title": {
            "standoff": 15
           },
           "zerolinecolor": "#EBF0F8",
           "zerolinewidth": 2
          },
          "yaxis": {
           "automargin": true,
           "gridcolor": "#EBF0F8",
           "linecolor": "#EBF0F8",
           "ticks": "",
           "title": {
            "standoff": 15
           },
           "zerolinecolor": "#EBF0F8",
           "zerolinewidth": 2
          }
         }
        },
        "title": {
         "text": "Phantom Dec - 33°C Z-spectrum",
         "x": 0.02,
         "y": 0.97
        },
        "width": 500,
        "xaxis": {
         "anchor": "y",
         "autorange": "reversed",
         "domain": [
          0.0,
          1.0
         ],
         "dtick": 1,
         "tick0": 0,
         "tickmode": "linear",
         "title": {
          "text": "ppm"
         }
        },
        "yaxis": {
         "anchor": "x",
         "domain": [
          0.0,
          1.0
         ],
         "dtick": 0.2,
         "range": [
          -0.1,
          1
         ],
         "tick0": 0,
         "tickmode": "linear",
         "title": {
          "standoff": 2,
          "text": "$M_{sat}/M_0$"
         }
        }
       }
      },
      "text/html": "<div>                            <div id=\"4012715a-f82a-4db3-b327-4999a9c2e6b2\" class=\"plotly-graph-div\" style=\"height:250px; width:500px;\"></div>            <script type=\"text/javascript\">                require([\"plotly\"], function(Plotly) {                    window.PLOTLYENV=window.PLOTLYENV || {};                                    if (document.getElementById(\"4012715a-f82a-4db3-b327-4999a9c2e6b2\")) {                    Plotly.newPlot(                        \"4012715a-f82a-4db3-b327-4999a9c2e6b2\",                        [{\"legendgroup\":\"1_1_1\",\"line\":{\"color\":\"#1f77b4\"},\"name\":\"a 20 mM, pH 7\",\"showlegend\":true,\"type\":\"scatter\",\"x\":[7.0,6.75,6.5,6.25,6.0,5.75,5.5,5.25,5.0,4.75,4.5,4.25,4.0,3.75,3.5,3.25,3.0,2.75,2.5,2.25,2.0,1.75,1.5,1.25,1.0,0.75,0.5,0.25,0.0,-0.25,-0.5,-0.75,-1.0,-1.25,-1.5,-1.75,-2.0,-2.25,-2.5,-2.75,-3.0,-3.25,-3.5,-3.75,-4.0,-4.25,-4.5,-4.75,-5.0,-5.25,-5.5,-5.75,-6.0,-6.25,-6.5,-6.75,-7.0],\"xaxis\":\"x\",\"y\":[0.9129714036718085,0.9090495507756787,0.906641607214419,0.9049844855573265,0.9022997052679287,0.8978182915866124,0.8927713102525634,0.8872169069485547,0.8802444440133347,0.8698890344686853,0.8618534772341964,0.85078685359136,0.836691644327153,0.820110775398842,0.8022820152263502,0.7815445034216039,0.7594992839500257,0.7314888146917742,0.7000474831222724,0.6619626700916263,0.6170964788160899,0.5590021465612963,0.48768370729200766,0.40277683114698737,0.302732997979778,0.194172583555978,0.09707085484609364,0.02855176066789911,0.005282407270643182,0.02685813085971187,0.1094889880281814,0.23881646890936978,0.38236177048879366,0.5108362035181298,0.6103629949637784,0.6849761172909941,0.7420536152875158,0.7815540394133135,0.8114423409160385,0.8346437539286153,0.8527683126942567,0.8677042495068141,0.877819951460404,0.8880222977077997,0.8962060762508096,0.9036194932588831,0.9079625872641298,0.91237911439652,0.9154642432322553,0.9190145846638365,0.9209557564184614,0.9221668453822539,0.923001979933004,0.9243662879526863,0.9228380151419454,0.9227695191675911,0.9236045461584328],\"yaxis\":\"y\"},{\"legendgroup\":\"1_1_2\",\"line\":{\"color\":\"#1f77b4\"},\"name\":\"20 mM, pH 7\",\"showlegend\":false,\"type\":\"scatter\",\"x\":[7.0,6.75,6.5,6.25,6.0,5.75,5.5,5.25,5.0,4.75,4.5,4.25,4.0,3.75,3.5,3.25,3.0,2.75,2.5,2.25,2.0,1.75,1.5,1.25,1.0,0.75,0.5,0.25,0.0],\"xaxis\":\"x\",\"y\":[0.01063314248662428,0.013719968391912363,0.016196407927526413,0.019381802395359804,0.02070227466507535,0.024348553795641492,0.02818444616589799,0.03179767771528175,0.0352197992189206,0.04249007992783471,0.04610911002993345,0.05283263966752316,0.059514431923656574,0.0679115223089577,0.0755379362340538,0.08615974608521026,0.09326902874423093,0.10315493923684116,0.11139485779376612,0.11959136932168712,0.12495713647142592,0.12597397072969774,0.12267928767177078,0.10805937237114238,0.07962877250901568,0.04464388535339178,0.01241813318208776,-0.0016936298081872414,0.0],\"yaxis\":\"y\"},{\"legendgroup\":\"1_1_1\",\"line\":{\"color\":\"#ff7f0e\"},\"name\":\"b 16 mM, pH 7\",\"showlegend\":true,\"type\":\"scatter\",\"x\":[7.0,6.75,6.5,6.25,6.0,5.75,5.5,5.25,5.0,4.75,4.5,4.25,4.0,3.75,3.5,3.25,3.0,2.75,2.5,2.25,2.0,1.75,1.5,1.25,1.0,0.75,0.5,0.25,0.0,-0.25,-0.5,-0.75,-1.0,-1.25,-1.5,-1.75,-2.0,-2.25,-2.5,-2.75,-3.0,-3.25,-3.5,-3.75,-4.0,-4.25,-4.5,-4.75,-5.0,-5.25,-5.5,-5.75,-6.0,-6.25,-6.5,-6.75,-7.0],\"xaxis\":\"x\",\"y\":[0.9125704925064452,0.910990588465634,0.9093290481140825,0.9064937954932848,0.9042218899709017,0.901813942325136,0.8981295389056224,0.8933757712119073,0.8876362145073284,0.8809179743419852,0.8741271487389461,0.864061067299342,0.8528189119908339,0.8406529364498557,0.8254421906710989,0.8086011965265203,0.7890236075944984,0.7652573770360683,0.7384420057548138,0.7042164594814162,0.6625113208361799,0.6092626329723633,0.542403106870397,0.4570308532391926,0.3527729298738652,0.2368820937417768,0.12005333142416838,0.034911754404049436,0.005945769809198333,0.03260690898268874,0.1333306843279275,0.27934529982030276,0.42971716150737777,0.5530925418940781,0.6472210769948074,0.7156261947307305,0.7652194530692036,0.8007907792202146,0.8283785110485059,0.8482877312867376,0.8638305263261985,0.8761474232484109,0.885378562316289,0.894284262525719,0.9003104739959409,0.9058645780187013,0.9102949902238345,0.9137987928480764,0.9167289851088674,0.9178261308650806,0.9201794404012069,0.9210009846881595,0.9215386433691628,0.9214656890881802,0.922096046684482,0.9223507594658464,0.9220889936512606],\"yaxis\":\"y\"},{\"legendgroup\":\"1_1_2\",\"line\":{\"color\":\"#ff7f0e\"},\"name\":\"16 mM, pH 7\",\"showlegend\":false,\"type\":\"scatter\",\"x\":[7.0,6.75,6.5,6.25,6.0,5.75,5.5,5.25,5.0,4.75,4.5,4.25,4.0,3.75,3.5,3.25,3.0,2.75,2.5,2.25,2.0,1.75,1.5,1.25,1.0,0.75,0.5,0.25,0.0],\"xaxis\":\"x\",\"y\":[0.00951850114481545,0.011360171000212471,0.012766998570399424,0.014971893594895369,0.01731675339826111,0.019187042363023488,0.0220499014955845,0.024450359653173326,0.02909277060153892,0.03288081850609126,0.036167841484888386,0.041803510719359394,0.04749156200510696,0.053631326075863295,0.059936371645190056,0.06754622672189059,0.07480691873170009,0.08303035425066929,0.08993650529369213,0.09657431973879838,0.10270813223302366,0.10636356175836725,0.10481797012441041,0.09606168865488546,0.07694423163351255,0.04246320607852597,0.013277352903759115,-0.002304845421360696,0.0],\"yaxis\":\"y\"},{\"legendgroup\":\"1_1_1\",\"line\":{\"color\":\"#2ca02c\"},\"name\":\"c 12 mM, pH 7\",\"showlegend\":true,\"type\":\"scatter\",\"x\":[7.0,6.75,6.5,6.25,6.0,5.75,5.5,5.25,5.0,4.75,4.5,4.25,4.0,3.75,3.5,3.25,3.0,2.75,2.5,2.25,2.0,1.75,1.5,1.25,1.0,0.75,0.5,0.25,0.0,-0.25,-0.5,-0.75,-1.0,-1.25,-1.5,-1.75,-2.0,-2.25,-2.5,-2.75,-3.0,-3.25,-3.5,-3.75,-4.0,-4.25,-4.5,-4.75,-5.0,-5.25,-5.5,-5.75,-6.0,-6.25,-6.5,-6.75,-7.0],\"xaxis\":\"x\",\"y\":[0.9159759712174111,0.9161318567470901,0.913672803376461,0.911729081409509,0.9104313196076063,0.9089289222958578,0.904551990197159,0.9009271949047075,0.8972073690959752,0.8933362432091475,0.8885292459601096,0.8812320206815201,0.8735329605466146,0.8667112584573728,0.8562104081629263,0.8432425449459529,0.8306699338193608,0.8120575495882383,0.7902185205553064,0.7632603320162156,0.7275481371092147,0.6817156780542277,0.6214925189435382,0.5405920170943573,0.43369093578499757,0.30531248090673957,0.16061194741226587,0.04743390839313045,0.004234664383461141,0.044357617713274226,0.1707834792789295,0.33190267037647864,0.4861654874949621,0.5997180574645063,0.6858832662552555,0.7466487476113424,0.7888709742204384,0.819959397446861,0.8428908031450624,0.8611607145143222,0.8722641621249239,0.8823227542468627,0.8904700440116606,0.8982402529631827,0.9023027218897857,0.9054576814673055,0.9094699751442552,0.913169509946481,0.9159879322811157,0.9157078639475962,0.9187710046622105,0.9207125248221221,0.9214841503933866,0.9210698724380041,0.9214227704469252,0.9229294029102845,0.9228137081842831],\"yaxis\":\"y\"},{\"legendgroup\":\"1_1_2\",\"line\":{\"color\":\"#2ca02c\"},\"name\":\"12 mM, pH 7\",\"showlegend\":false,\"type\":\"scatter\",\"x\":[7.0,6.75,6.5,6.25,6.0,5.75,5.5,5.25,5.0,4.75,4.5,4.25,4.0,3.75,3.5,3.25,3.0,2.75,2.5,2.25,2.0,1.75,1.5,1.25,1.0,0.75,0.5,0.25,0.0],\"xaxis\":\"x\",\"y\":[0.0068377369668719545,0.00679754616319439,0.00774996707046427,0.009340791028495055,0.011052830785780343,0.011783602526264314,0.014219014465051472,0.014780669042888661,0.018780563185140542,0.019833266737333544,0.02094072918414558,0.024225660785785474,0.028769761343171107,0.031528994505809815,0.03425963584873437,0.03908020930090983,0.04159422830556303,0.04910316492608391,0.05267228258975598,0.0566990654306454,0.06132283711122366,0.06493306955711464,0.06439074731171734,0.05912604037014901,0.05247455170996451,0.026590189469739067,0.010171531866663641,-0.0030762906798562223,0.0],\"yaxis\":\"y\"}],                        {\"annotations\":[{\"font\":{\"size\":16},\"showarrow\":false,\"text\":\"4uT\",\"x\":0.5,\"xanchor\":\"center\",\"xref\":\"paper\",\"y\":1.0,\"yanchor\":\"bottom\",\"yref\":\"paper\"}],\"height\":250,\"margin\":{\"b\":0,\"l\":45,\"r\":0,\"t\":50},\"template\":{\"data\":{\"bar\":[{\"error_x\":{\"color\":\"#2a3f5f\"},\"error_y\":{\"color\":\"#2a3f5f\"},\"marker\":{\"line\":{\"color\":\"white\",\"width\":0.5},\"pattern\":{\"fillmode\":\"overlay\",\"size\":10,\"solidity\":0.2}},\"type\":\"bar\"}],\"barpolar\":[{\"marker\":{\"line\":{\"color\":\"white\",\"width\":0.5},\"pattern\":{\"fillmode\":\"overlay\",\"size\":10,\"solidity\":0.2}},\"type\":\"barpolar\"}],\"carpet\":[{\"aaxis\":{\"endlinecolor\":\"#2a3f5f\",\"gridcolor\":\"#C8D4E3\",\"linecolor\":\"#C8D4E3\",\"minorgridcolor\":\"#C8D4E3\",\"startlinecolor\":\"#2a3f5f\"},\"baxis\":{\"endlinecolor\":\"#2a3f5f\",\"gridcolor\":\"#C8D4E3\",\"linecolor\":\"#C8D4E3\",\"minorgridcolor\":\"#C8D4E3\",\"startlinecolor\":\"#2a3f5f\"},\"type\":\"carpet\"}],\"choropleth\":[{\"colorbar\":{\"outlinewidth\":0,\"ticks\":\"\"},\"type\":\"choropleth\"}],\"contour\":[{\"colorbar\":{\"outlinewidth\":0,\"ticks\":\"\"},\"colorscale\":[[0.0,\"#0d0887\"],[0.1111111111111111,\"#46039f\"],[0.2222222222222222,\"#7201a8\"],[0.3333333333333333,\"#9c179e\"],[0.4444444444444444,\"#bd3786\"],[0.5555555555555556,\"#d8576b\"],[0.6666666666666666,\"#ed7953\"],[0.7777777777777778,\"#fb9f3a\"],[0.8888888888888888,\"#fdca26\"],[1.0,\"#f0f921\"]],\"type\":\"contour\"}],\"contourcarpet\":[{\"colorbar\":{\"outlinewidth\":0,\"ticks\":\"\"},\"type\":\"contourcarpet\"}],\"heatmap\":[{\"colorbar\":{\"outlinewidth\":0,\"ticks\":\"\"},\"colorscale\":[[0.0,\"#0d0887\"],[0.1111111111111111,\"#46039f\"],[0.2222222222222222,\"#7201a8\"],[0.3333333333333333,\"#9c179e\"],[0.4444444444444444,\"#bd3786\"],[0.5555555555555556,\"#d8576b\"],[0.6666666666666666,\"#ed7953\"],[0.7777777777777778,\"#fb9f3a\"],[0.8888888888888888,\"#fdca26\"],[1.0,\"#f0f921\"]],\"type\":\"heatmap\"}],\"heatmapgl\":[{\"colorbar\":{\"outlinewidth\":0,\"ticks\":\"\"},\"colorscale\":[[0.0,\"#0d0887\"],[0.1111111111111111,\"#46039f\"],[0.2222222222222222,\"#7201a8\"],[0.3333333333333333,\"#9c179e\"],[0.4444444444444444,\"#bd3786\"],[0.5555555555555556,\"#d8576b\"],[0.6666666666666666,\"#ed7953\"],[0.7777777777777778,\"#fb9f3a\"],[0.8888888888888888,\"#fdca26\"],[1.0,\"#f0f921\"]],\"type\":\"heatmapgl\"}],\"histogram\":[{\"marker\":{\"pattern\":{\"fillmode\":\"overlay\",\"size\":10,\"solidity\":0.2}},\"type\":\"histogram\"}],\"histogram2d\":[{\"colorbar\":{\"outlinewidth\":0,\"ticks\":\"\"},\"colorscale\":[[0.0,\"#0d0887\"],[0.1111111111111111,\"#46039f\"],[0.2222222222222222,\"#7201a8\"],[0.3333333333333333,\"#9c179e\"],[0.4444444444444444,\"#bd3786\"],[0.5555555555555556,\"#d8576b\"],[0.6666666666666666,\"#ed7953\"],[0.7777777777777778,\"#fb9f3a\"],[0.8888888888888888,\"#fdca26\"],[1.0,\"#f0f921\"]],\"type\":\"histogram2d\"}],\"histogram2dcontour\":[{\"colorbar\":{\"outlinewidth\":0,\"ticks\":\"\"},\"colorscale\":[[0.0,\"#0d0887\"],[0.1111111111111111,\"#46039f\"],[0.2222222222222222,\"#7201a8\"],[0.3333333333333333,\"#9c179e\"],[0.4444444444444444,\"#bd3786\"],[0.5555555555555556,\"#d8576b\"],[0.6666666666666666,\"#ed7953\"],[0.7777777777777778,\"#fb9f3a\"],[0.8888888888888888,\"#fdca26\"],[1.0,\"#f0f921\"]],\"type\":\"histogram2dcontour\"}],\"mesh3d\":[{\"colorbar\":{\"outlinewidth\":0,\"ticks\":\"\"},\"type\":\"mesh3d\"}],\"parcoords\":[{\"line\":{\"colorbar\":{\"outlinewidth\":0,\"ticks\":\"\"}},\"type\":\"parcoords\"}],\"pie\":[{\"automargin\":true,\"type\":\"pie\"}],\"scatter\":[{\"marker\":{\"colorbar\":{\"outlinewidth\":0,\"ticks\":\"\"}},\"type\":\"scatter\"}],\"scatter3d\":[{\"line\":{\"colorbar\":{\"outlinewidth\":0,\"ticks\":\"\"}},\"marker\":{\"colorbar\":{\"outlinewidth\":0,\"ticks\":\"\"}},\"type\":\"scatter3d\"}],\"scattercarpet\":[{\"marker\":{\"colorbar\":{\"outlinewidth\":0,\"ticks\":\"\"}},\"type\":\"scattercarpet\"}],\"scattergeo\":[{\"marker\":{\"colorbar\":{\"outlinewidth\":0,\"ticks\":\"\"}},\"type\":\"scattergeo\"}],\"scattergl\":[{\"marker\":{\"colorbar\":{\"outlinewidth\":0,\"ticks\":\"\"}},\"type\":\"scattergl\"}],\"scattermapbox\":[{\"marker\":{\"colorbar\":{\"outlinewidth\":0,\"ticks\":\"\"}},\"type\":\"scattermapbox\"}],\"scatterpolar\":[{\"marker\":{\"colorbar\":{\"outlinewidth\":0,\"ticks\":\"\"}},\"type\":\"scatterpolar\"}],\"scatterpolargl\":[{\"marker\":{\"colorbar\":{\"outlinewidth\":0,\"ticks\":\"\"}},\"type\":\"scatterpolargl\"}],\"scatterternary\":[{\"marker\":{\"colorbar\":{\"outlinewidth\":0,\"ticks\":\"\"}},\"type\":\"scatterternary\"}],\"surface\":[{\"colorbar\":{\"outlinewidth\":0,\"ticks\":\"\"},\"colorscale\":[[0.0,\"#0d0887\"],[0.1111111111111111,\"#46039f\"],[0.2222222222222222,\"#7201a8\"],[0.3333333333333333,\"#9c179e\"],[0.4444444444444444,\"#bd3786\"],[0.5555555555555556,\"#d8576b\"],[0.6666666666666666,\"#ed7953\"],[0.7777777777777778,\"#fb9f3a\"],[0.8888888888888888,\"#fdca26\"],[1.0,\"#f0f921\"]],\"type\":\"surface\"}],\"table\":[{\"cells\":{\"fill\":{\"color\":\"#EBF0F8\"},\"line\":{\"color\":\"white\"}},\"header\":{\"fill\":{\"color\":\"#C8D4E3\"},\"line\":{\"color\":\"white\"}},\"type\":\"table\"}]},\"layout\":{\"annotationdefaults\":{\"arrowcolor\":\"#2a3f5f\",\"arrowhead\":0,\"arrowwidth\":1},\"autotypenumbers\":\"strict\",\"coloraxis\":{\"colorbar\":{\"outlinewidth\":0,\"ticks\":\"\"}},\"colorscale\":{\"diverging\":[[0,\"#8e0152\"],[0.1,\"#c51b7d\"],[0.2,\"#de77ae\"],[0.3,\"#f1b6da\"],[0.4,\"#fde0ef\"],[0.5,\"#f7f7f7\"],[0.6,\"#e6f5d0\"],[0.7,\"#b8e186\"],[0.8,\"#7fbc41\"],[0.9,\"#4d9221\"],[1,\"#276419\"]],\"sequential\":[[0.0,\"#0d0887\"],[0.1111111111111111,\"#46039f\"],[0.2222222222222222,\"#7201a8\"],[0.3333333333333333,\"#9c179e\"],[0.4444444444444444,\"#bd3786\"],[0.5555555555555556,\"#d8576b\"],[0.6666666666666666,\"#ed7953\"],[0.7777777777777778,\"#fb9f3a\"],[0.8888888888888888,\"#fdca26\"],[1.0,\"#f0f921\"]],\"sequentialminus\":[[0.0,\"#0d0887\"],[0.1111111111111111,\"#46039f\"],[0.2222222222222222,\"#7201a8\"],[0.3333333333333333,\"#9c179e\"],[0.4444444444444444,\"#bd3786\"],[0.5555555555555556,\"#d8576b\"],[0.6666666666666666,\"#ed7953\"],[0.7777777777777778,\"#fb9f3a\"],[0.8888888888888888,\"#fdca26\"],[1.0,\"#f0f921\"]]},\"colorway\":[\"#636efa\",\"#EF553B\",\"#00cc96\",\"#ab63fa\",\"#FFA15A\",\"#19d3f3\",\"#FF6692\",\"#B6E880\",\"#FF97FF\",\"#FECB52\"],\"font\":{\"color\":\"#2a3f5f\"},\"geo\":{\"bgcolor\":\"white\",\"lakecolor\":\"white\",\"landcolor\":\"white\",\"showlakes\":true,\"showland\":true,\"subunitcolor\":\"#C8D4E3\"},\"hoverlabel\":{\"align\":\"left\"},\"hovermode\":\"closest\",\"mapbox\":{\"style\":\"light\"},\"paper_bgcolor\":\"white\",\"plot_bgcolor\":\"white\",\"polar\":{\"angularaxis\":{\"gridcolor\":\"#EBF0F8\",\"linecolor\":\"#EBF0F8\",\"ticks\":\"\"},\"bgcolor\":\"white\",\"radialaxis\":{\"gridcolor\":\"#EBF0F8\",\"linecolor\":\"#EBF0F8\",\"ticks\":\"\"}},\"scene\":{\"xaxis\":{\"backgroundcolor\":\"white\",\"gridcolor\":\"#DFE8F3\",\"gridwidth\":2,\"linecolor\":\"#EBF0F8\",\"showbackground\":true,\"ticks\":\"\",\"zerolinecolor\":\"#EBF0F8\"},\"yaxis\":{\"backgroundcolor\":\"white\",\"gridcolor\":\"#DFE8F3\",\"gridwidth\":2,\"linecolor\":\"#EBF0F8\",\"showbackground\":true,\"ticks\":\"\",\"zerolinecolor\":\"#EBF0F8\"},\"zaxis\":{\"backgroundcolor\":\"white\",\"gridcolor\":\"#DFE8F3\",\"gridwidth\":2,\"linecolor\":\"#EBF0F8\",\"showbackground\":true,\"ticks\":\"\",\"zerolinecolor\":\"#EBF0F8\"}},\"shapedefaults\":{\"line\":{\"color\":\"#2a3f5f\"}},\"ternary\":{\"aaxis\":{\"gridcolor\":\"#DFE8F3\",\"linecolor\":\"#A2B1C6\",\"ticks\":\"\"},\"baxis\":{\"gridcolor\":\"#DFE8F3\",\"linecolor\":\"#A2B1C6\",\"ticks\":\"\"},\"bgcolor\":\"white\",\"caxis\":{\"gridcolor\":\"#DFE8F3\",\"linecolor\":\"#A2B1C6\",\"ticks\":\"\"}},\"title\":{\"x\":0.05},\"xaxis\":{\"automargin\":true,\"gridcolor\":\"#EBF0F8\",\"linecolor\":\"#EBF0F8\",\"ticks\":\"\",\"title\":{\"standoff\":15},\"zerolinecolor\":\"#EBF0F8\",\"zerolinewidth\":2},\"yaxis\":{\"automargin\":true,\"gridcolor\":\"#EBF0F8\",\"linecolor\":\"#EBF0F8\",\"ticks\":\"\",\"title\":{\"standoff\":15},\"zerolinecolor\":\"#EBF0F8\",\"zerolinewidth\":2}}},\"title\":{\"text\":\"Phantom Dec - 33\\u00b0C Z-spectrum\",\"x\":0.02,\"y\":0.97},\"width\":500,\"xaxis\":{\"anchor\":\"y\",\"autorange\":\"reversed\",\"domain\":[0.0,1.0],\"dtick\":1,\"tick0\":0,\"tickmode\":\"linear\",\"title\":{\"text\":\"ppm\"}},\"yaxis\":{\"anchor\":\"x\",\"domain\":[0.0,1.0],\"dtick\":0.2,\"range\":[-0.1,1],\"tick0\":0,\"tickmode\":\"linear\",\"title\":{\"standoff\":2,\"text\":\"$M_{sat}/M_0$\"}}},                        {\"responsive\": true}                    ).then(function(){\n                            \nvar gd = document.getElementById('4012715a-f82a-4db3-b327-4999a9c2e6b2');\nvar x = new MutationObserver(function (mutations, observer) {{\n        var display = window.getComputedStyle(gd).display;\n        if (!display || display === 'none') {{\n            console.log([gd, 'removed!']);\n            Plotly.purge(gd);\n            observer.disconnect();\n        }}\n}});\n\n// Listen for the removal of the full notebook cells\nvar notebookContainer = gd.closest('#notebook-container');\nif (notebookContainer) {{\n    x.observe(notebookContainer, {childList: true});\n}}\n\n// Listen for the clearing of the current output cell\nvar outputEl = gd.closest('.output');\nif (outputEl) {{\n    x.observe(outputEl, {childList: true});\n}}\n\n                        })                };                });            </script>        </div>"
     },
     "metadata": {},
     "output_type": "display_data"
    },
    {
     "data": {
      "application/vnd.plotly.v1+json": {
       "config": {
        "plotlyServerURL": "https://plot.ly"
       },
       "data": [
        {
         "legendgroup": "1_1_2",
         "line": {
          "color": "#1f77b4"
         },
         "name": "20 mM, pH 7",
         "showlegend": true,
         "type": "scatter",
         "x": [
          7.0,
          6.75,
          6.5,
          6.25,
          6.0,
          5.75,
          5.5,
          5.25,
          5.0,
          4.75,
          4.5,
          4.25,
          4.0,
          3.75,
          3.5,
          3.25,
          3.0,
          2.75,
          2.5,
          2.25,
          2.0,
          1.75,
          1.5,
          1.25,
          1.0,
          0.75,
          0.5,
          0.25,
          0.0
         ],
         "xaxis": "x",
         "y": [
          0.01063314248662428,
          0.013719968391912363,
          0.016196407927526413,
          0.019381802395359804,
          0.02070227466507535,
          0.024348553795641492,
          0.02818444616589799,
          0.03179767771528175,
          0.0352197992189206,
          0.04249007992783471,
          0.04610911002993345,
          0.05283263966752316,
          0.059514431923656574,
          0.0679115223089577,
          0.0755379362340538,
          0.08615974608521026,
          0.09326902874423093,
          0.10315493923684116,
          0.11139485779376612,
          0.11959136932168712,
          0.12495713647142592,
          0.12597397072969774,
          0.12267928767177078,
          0.10805937237114238,
          0.07962877250901568,
          0.04464388535339178,
          0.01241813318208776,
          -0.0016936298081872414,
          0.0
         ],
         "yaxis": "y"
        },
        {
         "legendgroup": "1_1_2",
         "line": {
          "color": "#ff7f0e"
         },
         "name": "16 mM, pH 7",
         "showlegend": true,
         "type": "scatter",
         "x": [
          7.0,
          6.75,
          6.5,
          6.25,
          6.0,
          5.75,
          5.5,
          5.25,
          5.0,
          4.75,
          4.5,
          4.25,
          4.0,
          3.75,
          3.5,
          3.25,
          3.0,
          2.75,
          2.5,
          2.25,
          2.0,
          1.75,
          1.5,
          1.25,
          1.0,
          0.75,
          0.5,
          0.25,
          0.0
         ],
         "xaxis": "x",
         "y": [
          0.00951850114481545,
          0.011360171000212471,
          0.012766998570399424,
          0.014971893594895369,
          0.01731675339826111,
          0.019187042363023488,
          0.0220499014955845,
          0.024450359653173326,
          0.02909277060153892,
          0.03288081850609126,
          0.036167841484888386,
          0.041803510719359394,
          0.04749156200510696,
          0.053631326075863295,
          0.059936371645190056,
          0.06754622672189059,
          0.07480691873170009,
          0.08303035425066929,
          0.08993650529369213,
          0.09657431973879838,
          0.10270813223302366,
          0.10636356175836725,
          0.10481797012441041,
          0.09606168865488546,
          0.07694423163351255,
          0.04246320607852597,
          0.013277352903759115,
          -0.002304845421360696,
          0.0
         ],
         "yaxis": "y"
        },
        {
         "legendgroup": "1_1_2",
         "line": {
          "color": "#2ca02c"
         },
         "name": "12 mM, pH 7",
         "showlegend": true,
         "type": "scatter",
         "x": [
          7.0,
          6.75,
          6.5,
          6.25,
          6.0,
          5.75,
          5.5,
          5.25,
          5.0,
          4.75,
          4.5,
          4.25,
          4.0,
          3.75,
          3.5,
          3.25,
          3.0,
          2.75,
          2.5,
          2.25,
          2.0,
          1.75,
          1.5,
          1.25,
          1.0,
          0.75,
          0.5,
          0.25,
          0.0
         ],
         "xaxis": "x",
         "y": [
          0.0068377369668719545,
          0.00679754616319439,
          0.00774996707046427,
          0.009340791028495055,
          0.011052830785780343,
          0.011783602526264314,
          0.014219014465051472,
          0.014780669042888661,
          0.018780563185140542,
          0.019833266737333544,
          0.02094072918414558,
          0.024225660785785474,
          0.028769761343171107,
          0.031528994505809815,
          0.03425963584873437,
          0.03908020930090983,
          0.04159422830556303,
          0.04910316492608391,
          0.05267228258975598,
          0.0566990654306454,
          0.06132283711122366,
          0.06493306955711464,
          0.06439074731171734,
          0.05912604037014901,
          0.05247455170996451,
          0.026590189469739067,
          0.010171531866663641,
          -0.0030762906798562223,
          0.0
         ],
         "yaxis": "y"
        }
       ],
       "layout": {
        "annotations": [
         {
          "font": {
           "size": 16
          },
          "showarrow": false,
          "text": "4uT",
          "x": 0.5,
          "xanchor": "center",
          "xref": "paper",
          "y": 1.0,
          "yanchor": "bottom",
          "yref": "paper"
         }
        ],
        "height": 250,
        "margin": {
         "b": 0,
         "l": 0,
         "r": 0,
         "t": 60
        },
        "template": {
         "data": {
          "bar": [
           {
            "error_x": {
             "color": "#2a3f5f"
            },
            "error_y": {
             "color": "#2a3f5f"
            },
            "marker": {
             "line": {
              "color": "white",
              "width": 0.5
             },
             "pattern": {
              "fillmode": "overlay",
              "size": 10,
              "solidity": 0.2
             }
            },
            "type": "bar"
           }
          ],
          "barpolar": [
           {
            "marker": {
             "line": {
              "color": "white",
              "width": 0.5
             },
             "pattern": {
              "fillmode": "overlay",
              "size": 10,
              "solidity": 0.2
             }
            },
            "type": "barpolar"
           }
          ],
          "carpet": [
           {
            "aaxis": {
             "endlinecolor": "#2a3f5f",
             "gridcolor": "#C8D4E3",
             "linecolor": "#C8D4E3",
             "minorgridcolor": "#C8D4E3",
             "startlinecolor": "#2a3f5f"
            },
            "baxis": {
             "endlinecolor": "#2a3f5f",
             "gridcolor": "#C8D4E3",
             "linecolor": "#C8D4E3",
             "minorgridcolor": "#C8D4E3",
             "startlinecolor": "#2a3f5f"
            },
            "type": "carpet"
           }
          ],
          "choropleth": [
           {
            "colorbar": {
             "outlinewidth": 0,
             "ticks": ""
            },
            "type": "choropleth"
           }
          ],
          "contour": [
           {
            "colorbar": {
             "outlinewidth": 0,
             "ticks": ""
            },
            "colorscale": [
             [
              0.0,
              "#0d0887"
             ],
             [
              0.1111111111111111,
              "#46039f"
             ],
             [
              0.2222222222222222,
              "#7201a8"
             ],
             [
              0.3333333333333333,
              "#9c179e"
             ],
             [
              0.4444444444444444,
              "#bd3786"
             ],
             [
              0.5555555555555556,
              "#d8576b"
             ],
             [
              0.6666666666666666,
              "#ed7953"
             ],
             [
              0.7777777777777778,
              "#fb9f3a"
             ],
             [
              0.8888888888888888,
              "#fdca26"
             ],
             [
              1.0,
              "#f0f921"
             ]
            ],
            "type": "contour"
           }
          ],
          "contourcarpet": [
           {
            "colorbar": {
             "outlinewidth": 0,
             "ticks": ""
            },
            "type": "contourcarpet"
           }
          ],
          "heatmap": [
           {
            "colorbar": {
             "outlinewidth": 0,
             "ticks": ""
            },
            "colorscale": [
             [
              0.0,
              "#0d0887"
             ],
             [
              0.1111111111111111,
              "#46039f"
             ],
             [
              0.2222222222222222,
              "#7201a8"
             ],
             [
              0.3333333333333333,
              "#9c179e"
             ],
             [
              0.4444444444444444,
              "#bd3786"
             ],
             [
              0.5555555555555556,
              "#d8576b"
             ],
             [
              0.6666666666666666,
              "#ed7953"
             ],
             [
              0.7777777777777778,
              "#fb9f3a"
             ],
             [
              0.8888888888888888,
              "#fdca26"
             ],
             [
              1.0,
              "#f0f921"
             ]
            ],
            "type": "heatmap"
           }
          ],
          "heatmapgl": [
           {
            "colorbar": {
             "outlinewidth": 0,
             "ticks": ""
            },
            "colorscale": [
             [
              0.0,
              "#0d0887"
             ],
             [
              0.1111111111111111,
              "#46039f"
             ],
             [
              0.2222222222222222,
              "#7201a8"
             ],
             [
              0.3333333333333333,
              "#9c179e"
             ],
             [
              0.4444444444444444,
              "#bd3786"
             ],
             [
              0.5555555555555556,
              "#d8576b"
             ],
             [
              0.6666666666666666,
              "#ed7953"
             ],
             [
              0.7777777777777778,
              "#fb9f3a"
             ],
             [
              0.8888888888888888,
              "#fdca26"
             ],
             [
              1.0,
              "#f0f921"
             ]
            ],
            "type": "heatmapgl"
           }
          ],
          "histogram": [
           {
            "marker": {
             "pattern": {
              "fillmode": "overlay",
              "size": 10,
              "solidity": 0.2
             }
            },
            "type": "histogram"
           }
          ],
          "histogram2d": [
           {
            "colorbar": {
             "outlinewidth": 0,
             "ticks": ""
            },
            "colorscale": [
             [
              0.0,
              "#0d0887"
             ],
             [
              0.1111111111111111,
              "#46039f"
             ],
             [
              0.2222222222222222,
              "#7201a8"
             ],
             [
              0.3333333333333333,
              "#9c179e"
             ],
             [
              0.4444444444444444,
              "#bd3786"
             ],
             [
              0.5555555555555556,
              "#d8576b"
             ],
             [
              0.6666666666666666,
              "#ed7953"
             ],
             [
              0.7777777777777778,
              "#fb9f3a"
             ],
             [
              0.8888888888888888,
              "#fdca26"
             ],
             [
              1.0,
              "#f0f921"
             ]
            ],
            "type": "histogram2d"
           }
          ],
          "histogram2dcontour": [
           {
            "colorbar": {
             "outlinewidth": 0,
             "ticks": ""
            },
            "colorscale": [
             [
              0.0,
              "#0d0887"
             ],
             [
              0.1111111111111111,
              "#46039f"
             ],
             [
              0.2222222222222222,
              "#7201a8"
             ],
             [
              0.3333333333333333,
              "#9c179e"
             ],
             [
              0.4444444444444444,
              "#bd3786"
             ],
             [
              0.5555555555555556,
              "#d8576b"
             ],
             [
              0.6666666666666666,
              "#ed7953"
             ],
             [
              0.7777777777777778,
              "#fb9f3a"
             ],
             [
              0.8888888888888888,
              "#fdca26"
             ],
             [
              1.0,
              "#f0f921"
             ]
            ],
            "type": "histogram2dcontour"
           }
          ],
          "mesh3d": [
           {
            "colorbar": {
             "outlinewidth": 0,
             "ticks": ""
            },
            "type": "mesh3d"
           }
          ],
          "parcoords": [
           {
            "line": {
             "colorbar": {
              "outlinewidth": 0,
              "ticks": ""
             }
            },
            "type": "parcoords"
           }
          ],
          "pie": [
           {
            "automargin": true,
            "type": "pie"
           }
          ],
          "scatter": [
           {
            "marker": {
             "colorbar": {
              "outlinewidth": 0,
              "ticks": ""
             }
            },
            "type": "scatter"
           }
          ],
          "scatter3d": [
           {
            "line": {
             "colorbar": {
              "outlinewidth": 0,
              "ticks": ""
             }
            },
            "marker": {
             "colorbar": {
              "outlinewidth": 0,
              "ticks": ""
             }
            },
            "type": "scatter3d"
           }
          ],
          "scattercarpet": [
           {
            "marker": {
             "colorbar": {
              "outlinewidth": 0,
              "ticks": ""
             }
            },
            "type": "scattercarpet"
           }
          ],
          "scattergeo": [
           {
            "marker": {
             "colorbar": {
              "outlinewidth": 0,
              "ticks": ""
             }
            },
            "type": "scattergeo"
           }
          ],
          "scattergl": [
           {
            "marker": {
             "colorbar": {
              "outlinewidth": 0,
              "ticks": ""
             }
            },
            "type": "scattergl"
           }
          ],
          "scattermapbox": [
           {
            "marker": {
             "colorbar": {
              "outlinewidth": 0,
              "ticks": ""
             }
            },
            "type": "scattermapbox"
           }
          ],
          "scatterpolar": [
           {
            "marker": {
             "colorbar": {
              "outlinewidth": 0,
              "ticks": ""
             }
            },
            "type": "scatterpolar"
           }
          ],
          "scatterpolargl": [
           {
            "marker": {
             "colorbar": {
              "outlinewidth": 0,
              "ticks": ""
             }
            },
            "type": "scatterpolargl"
           }
          ],
          "scatterternary": [
           {
            "marker": {
             "colorbar": {
              "outlinewidth": 0,
              "ticks": ""
             }
            },
            "type": "scatterternary"
           }
          ],
          "surface": [
           {
            "colorbar": {
             "outlinewidth": 0,
             "ticks": ""
            },
            "colorscale": [
             [
              0.0,
              "#0d0887"
             ],
             [
              0.1111111111111111,
              "#46039f"
             ],
             [
              0.2222222222222222,
              "#7201a8"
             ],
             [
              0.3333333333333333,
              "#9c179e"
             ],
             [
              0.4444444444444444,
              "#bd3786"
             ],
             [
              0.5555555555555556,
              "#d8576b"
             ],
             [
              0.6666666666666666,
              "#ed7953"
             ],
             [
              0.7777777777777778,
              "#fb9f3a"
             ],
             [
              0.8888888888888888,
              "#fdca26"
             ],
             [
              1.0,
              "#f0f921"
             ]
            ],
            "type": "surface"
           }
          ],
          "table": [
           {
            "cells": {
             "fill": {
              "color": "#EBF0F8"
             },
             "line": {
              "color": "white"
             }
            },
            "header": {
             "fill": {
              "color": "#C8D4E3"
             },
             "line": {
              "color": "white"
             }
            },
            "type": "table"
           }
          ]
         },
         "layout": {
          "annotationdefaults": {
           "arrowcolor": "#2a3f5f",
           "arrowhead": 0,
           "arrowwidth": 1
          },
          "autotypenumbers": "strict",
          "coloraxis": {
           "colorbar": {
            "outlinewidth": 0,
            "ticks": ""
           }
          },
          "colorscale": {
           "diverging": [
            [
             0,
             "#8e0152"
            ],
            [
             0.1,
             "#c51b7d"
            ],
            [
             0.2,
             "#de77ae"
            ],
            [
             0.3,
             "#f1b6da"
            ],
            [
             0.4,
             "#fde0ef"
            ],
            [
             0.5,
             "#f7f7f7"
            ],
            [
             0.6,
             "#e6f5d0"
            ],
            [
             0.7,
             "#b8e186"
            ],
            [
             0.8,
             "#7fbc41"
            ],
            [
             0.9,
             "#4d9221"
            ],
            [
             1,
             "#276419"
            ]
           ],
           "sequential": [
            [
             0.0,
             "#0d0887"
            ],
            [
             0.1111111111111111,
             "#46039f"
            ],
            [
             0.2222222222222222,
             "#7201a8"
            ],
            [
             0.3333333333333333,
             "#9c179e"
            ],
            [
             0.4444444444444444,
             "#bd3786"
            ],
            [
             0.5555555555555556,
             "#d8576b"
            ],
            [
             0.6666666666666666,
             "#ed7953"
            ],
            [
             0.7777777777777778,
             "#fb9f3a"
            ],
            [
             0.8888888888888888,
             "#fdca26"
            ],
            [
             1.0,
             "#f0f921"
            ]
           ],
           "sequentialminus": [
            [
             0.0,
             "#0d0887"
            ],
            [
             0.1111111111111111,
             "#46039f"
            ],
            [
             0.2222222222222222,
             "#7201a8"
            ],
            [
             0.3333333333333333,
             "#9c179e"
            ],
            [
             0.4444444444444444,
             "#bd3786"
            ],
            [
             0.5555555555555556,
             "#d8576b"
            ],
            [
             0.6666666666666666,
             "#ed7953"
            ],
            [
             0.7777777777777778,
             "#fb9f3a"
            ],
            [
             0.8888888888888888,
             "#fdca26"
            ],
            [
             1.0,
             "#f0f921"
            ]
           ]
          },
          "colorway": [
           "#636efa",
           "#EF553B",
           "#00cc96",
           "#ab63fa",
           "#FFA15A",
           "#19d3f3",
           "#FF6692",
           "#B6E880",
           "#FF97FF",
           "#FECB52"
          ],
          "font": {
           "color": "#2a3f5f"
          },
          "geo": {
           "bgcolor": "white",
           "lakecolor": "white",
           "landcolor": "white",
           "showlakes": true,
           "showland": true,
           "subunitcolor": "#C8D4E3"
          },
          "hoverlabel": {
           "align": "left"
          },
          "hovermode": "closest",
          "mapbox": {
           "style": "light"
          },
          "paper_bgcolor": "white",
          "plot_bgcolor": "white",
          "polar": {
           "angularaxis": {
            "gridcolor": "#EBF0F8",
            "linecolor": "#EBF0F8",
            "ticks": ""
           },
           "bgcolor": "white",
           "radialaxis": {
            "gridcolor": "#EBF0F8",
            "linecolor": "#EBF0F8",
            "ticks": ""
           }
          },
          "scene": {
           "xaxis": {
            "backgroundcolor": "white",
            "gridcolor": "#DFE8F3",
            "gridwidth": 2,
            "linecolor": "#EBF0F8",
            "showbackground": true,
            "ticks": "",
            "zerolinecolor": "#EBF0F8"
           },
           "yaxis": {
            "backgroundcolor": "white",
            "gridcolor": "#DFE8F3",
            "gridwidth": 2,
            "linecolor": "#EBF0F8",
            "showbackground": true,
            "ticks": "",
            "zerolinecolor": "#EBF0F8"
           },
           "zaxis": {
            "backgroundcolor": "white",
            "gridcolor": "#DFE8F3",
            "gridwidth": 2,
            "linecolor": "#EBF0F8",
            "showbackground": true,
            "ticks": "",
            "zerolinecolor": "#EBF0F8"
           }
          },
          "shapedefaults": {
           "line": {
            "color": "#2a3f5f"
           }
          },
          "ternary": {
           "aaxis": {
            "gridcolor": "#DFE8F3",
            "linecolor": "#A2B1C6",
            "ticks": ""
           },
           "baxis": {
            "gridcolor": "#DFE8F3",
            "linecolor": "#A2B1C6",
            "ticks": ""
           },
           "bgcolor": "white",
           "caxis": {
            "gridcolor": "#DFE8F3",
            "linecolor": "#A2B1C6",
            "ticks": ""
           }
          },
          "title": {
           "x": 0.05
          },
          "xaxis": {
           "automargin": true,
           "gridcolor": "#EBF0F8",
           "linecolor": "#EBF0F8",
           "ticks": "",
           "title": {
            "standoff": 15
           },
           "zerolinecolor": "#EBF0F8",
           "zerolinewidth": 2
          },
          "yaxis": {
           "automargin": true,
           "gridcolor": "#EBF0F8",
           "linecolor": "#EBF0F8",
           "ticks": "",
           "title": {
            "standoff": 15
           },
           "zerolinecolor": "#EBF0F8",
           "zerolinewidth": 2
          }
         }
        },
        "title": {
         "text": "Phantom Dec - 33°C MTR-asym",
         "x": 0.02,
         "y": 0.97
        },
        "width": 350,
        "xaxis": {
         "anchor": "y",
         "autorange": "reversed",
         "domain": [
          0.0,
          1.0
         ],
         "dtick": 1,
         "title": {
          "text": "ppm"
         }
        },
        "yaxis": {
         "anchor": "x",
         "domain": [
          0.0,
          1.0
         ],
         "dtick": 0.05,
         "range": [
          0,
          0.25
         ],
         "tick0": 0,
         "tickformat": ".0%",
         "tickmode": "linear",
         "title": {
          "text": "MTR-asym"
         }
        }
       }
      },
      "text/html": "<div>                            <div id=\"aa71b166-5a52-4cf1-8c6e-bc440df42f54\" class=\"plotly-graph-div\" style=\"height:250px; width:350px;\"></div>            <script type=\"text/javascript\">                require([\"plotly\"], function(Plotly) {                    window.PLOTLYENV=window.PLOTLYENV || {};                                    if (document.getElementById(\"aa71b166-5a52-4cf1-8c6e-bc440df42f54\")) {                    Plotly.newPlot(                        \"aa71b166-5a52-4cf1-8c6e-bc440df42f54\",                        [{\"legendgroup\":\"1_1_2\",\"line\":{\"color\":\"#1f77b4\"},\"name\":\"20 mM, pH 7\",\"showlegend\":true,\"type\":\"scatter\",\"x\":[7.0,6.75,6.5,6.25,6.0,5.75,5.5,5.25,5.0,4.75,4.5,4.25,4.0,3.75,3.5,3.25,3.0,2.75,2.5,2.25,2.0,1.75,1.5,1.25,1.0,0.75,0.5,0.25,0.0],\"xaxis\":\"x\",\"y\":[0.01063314248662428,0.013719968391912363,0.016196407927526413,0.019381802395359804,0.02070227466507535,0.024348553795641492,0.02818444616589799,0.03179767771528175,0.0352197992189206,0.04249007992783471,0.04610911002993345,0.05283263966752316,0.059514431923656574,0.0679115223089577,0.0755379362340538,0.08615974608521026,0.09326902874423093,0.10315493923684116,0.11139485779376612,0.11959136932168712,0.12495713647142592,0.12597397072969774,0.12267928767177078,0.10805937237114238,0.07962877250901568,0.04464388535339178,0.01241813318208776,-0.0016936298081872414,0.0],\"yaxis\":\"y\"},{\"legendgroup\":\"1_1_2\",\"line\":{\"color\":\"#ff7f0e\"},\"name\":\"16 mM, pH 7\",\"showlegend\":true,\"type\":\"scatter\",\"x\":[7.0,6.75,6.5,6.25,6.0,5.75,5.5,5.25,5.0,4.75,4.5,4.25,4.0,3.75,3.5,3.25,3.0,2.75,2.5,2.25,2.0,1.75,1.5,1.25,1.0,0.75,0.5,0.25,0.0],\"xaxis\":\"x\",\"y\":[0.00951850114481545,0.011360171000212471,0.012766998570399424,0.014971893594895369,0.01731675339826111,0.019187042363023488,0.0220499014955845,0.024450359653173326,0.02909277060153892,0.03288081850609126,0.036167841484888386,0.041803510719359394,0.04749156200510696,0.053631326075863295,0.059936371645190056,0.06754622672189059,0.07480691873170009,0.08303035425066929,0.08993650529369213,0.09657431973879838,0.10270813223302366,0.10636356175836725,0.10481797012441041,0.09606168865488546,0.07694423163351255,0.04246320607852597,0.013277352903759115,-0.002304845421360696,0.0],\"yaxis\":\"y\"},{\"legendgroup\":\"1_1_2\",\"line\":{\"color\":\"#2ca02c\"},\"name\":\"12 mM, pH 7\",\"showlegend\":true,\"type\":\"scatter\",\"x\":[7.0,6.75,6.5,6.25,6.0,5.75,5.5,5.25,5.0,4.75,4.5,4.25,4.0,3.75,3.5,3.25,3.0,2.75,2.5,2.25,2.0,1.75,1.5,1.25,1.0,0.75,0.5,0.25,0.0],\"xaxis\":\"x\",\"y\":[0.0068377369668719545,0.00679754616319439,0.00774996707046427,0.009340791028495055,0.011052830785780343,0.011783602526264314,0.014219014465051472,0.014780669042888661,0.018780563185140542,0.019833266737333544,0.02094072918414558,0.024225660785785474,0.028769761343171107,0.031528994505809815,0.03425963584873437,0.03908020930090983,0.04159422830556303,0.04910316492608391,0.05267228258975598,0.0566990654306454,0.06132283711122366,0.06493306955711464,0.06439074731171734,0.05912604037014901,0.05247455170996451,0.026590189469739067,0.010171531866663641,-0.0030762906798562223,0.0],\"yaxis\":\"y\"}],                        {\"annotations\":[{\"font\":{\"size\":16},\"showarrow\":false,\"text\":\"4uT\",\"x\":0.5,\"xanchor\":\"center\",\"xref\":\"paper\",\"y\":1.0,\"yanchor\":\"bottom\",\"yref\":\"paper\"}],\"height\":250,\"margin\":{\"b\":0,\"l\":0,\"r\":0,\"t\":60},\"template\":{\"data\":{\"bar\":[{\"error_x\":{\"color\":\"#2a3f5f\"},\"error_y\":{\"color\":\"#2a3f5f\"},\"marker\":{\"line\":{\"color\":\"white\",\"width\":0.5},\"pattern\":{\"fillmode\":\"overlay\",\"size\":10,\"solidity\":0.2}},\"type\":\"bar\"}],\"barpolar\":[{\"marker\":{\"line\":{\"color\":\"white\",\"width\":0.5},\"pattern\":{\"fillmode\":\"overlay\",\"size\":10,\"solidity\":0.2}},\"type\":\"barpolar\"}],\"carpet\":[{\"aaxis\":{\"endlinecolor\":\"#2a3f5f\",\"gridcolor\":\"#C8D4E3\",\"linecolor\":\"#C8D4E3\",\"minorgridcolor\":\"#C8D4E3\",\"startlinecolor\":\"#2a3f5f\"},\"baxis\":{\"endlinecolor\":\"#2a3f5f\",\"gridcolor\":\"#C8D4E3\",\"linecolor\":\"#C8D4E3\",\"minorgridcolor\":\"#C8D4E3\",\"startlinecolor\":\"#2a3f5f\"},\"type\":\"carpet\"}],\"choropleth\":[{\"colorbar\":{\"outlinewidth\":0,\"ticks\":\"\"},\"type\":\"choropleth\"}],\"contour\":[{\"colorbar\":{\"outlinewidth\":0,\"ticks\":\"\"},\"colorscale\":[[0.0,\"#0d0887\"],[0.1111111111111111,\"#46039f\"],[0.2222222222222222,\"#7201a8\"],[0.3333333333333333,\"#9c179e\"],[0.4444444444444444,\"#bd3786\"],[0.5555555555555556,\"#d8576b\"],[0.6666666666666666,\"#ed7953\"],[0.7777777777777778,\"#fb9f3a\"],[0.8888888888888888,\"#fdca26\"],[1.0,\"#f0f921\"]],\"type\":\"contour\"}],\"contourcarpet\":[{\"colorbar\":{\"outlinewidth\":0,\"ticks\":\"\"},\"type\":\"contourcarpet\"}],\"heatmap\":[{\"colorbar\":{\"outlinewidth\":0,\"ticks\":\"\"},\"colorscale\":[[0.0,\"#0d0887\"],[0.1111111111111111,\"#46039f\"],[0.2222222222222222,\"#7201a8\"],[0.3333333333333333,\"#9c179e\"],[0.4444444444444444,\"#bd3786\"],[0.5555555555555556,\"#d8576b\"],[0.6666666666666666,\"#ed7953\"],[0.7777777777777778,\"#fb9f3a\"],[0.8888888888888888,\"#fdca26\"],[1.0,\"#f0f921\"]],\"type\":\"heatmap\"}],\"heatmapgl\":[{\"colorbar\":{\"outlinewidth\":0,\"ticks\":\"\"},\"colorscale\":[[0.0,\"#0d0887\"],[0.1111111111111111,\"#46039f\"],[0.2222222222222222,\"#7201a8\"],[0.3333333333333333,\"#9c179e\"],[0.4444444444444444,\"#bd3786\"],[0.5555555555555556,\"#d8576b\"],[0.6666666666666666,\"#ed7953\"],[0.7777777777777778,\"#fb9f3a\"],[0.8888888888888888,\"#fdca26\"],[1.0,\"#f0f921\"]],\"type\":\"heatmapgl\"}],\"histogram\":[{\"marker\":{\"pattern\":{\"fillmode\":\"overlay\",\"size\":10,\"solidity\":0.2}},\"type\":\"histogram\"}],\"histogram2d\":[{\"colorbar\":{\"outlinewidth\":0,\"ticks\":\"\"},\"colorscale\":[[0.0,\"#0d0887\"],[0.1111111111111111,\"#46039f\"],[0.2222222222222222,\"#7201a8\"],[0.3333333333333333,\"#9c179e\"],[0.4444444444444444,\"#bd3786\"],[0.5555555555555556,\"#d8576b\"],[0.6666666666666666,\"#ed7953\"],[0.7777777777777778,\"#fb9f3a\"],[0.8888888888888888,\"#fdca26\"],[1.0,\"#f0f921\"]],\"type\":\"histogram2d\"}],\"histogram2dcontour\":[{\"colorbar\":{\"outlinewidth\":0,\"ticks\":\"\"},\"colorscale\":[[0.0,\"#0d0887\"],[0.1111111111111111,\"#46039f\"],[0.2222222222222222,\"#7201a8\"],[0.3333333333333333,\"#9c179e\"],[0.4444444444444444,\"#bd3786\"],[0.5555555555555556,\"#d8576b\"],[0.6666666666666666,\"#ed7953\"],[0.7777777777777778,\"#fb9f3a\"],[0.8888888888888888,\"#fdca26\"],[1.0,\"#f0f921\"]],\"type\":\"histogram2dcontour\"}],\"mesh3d\":[{\"colorbar\":{\"outlinewidth\":0,\"ticks\":\"\"},\"type\":\"mesh3d\"}],\"parcoords\":[{\"line\":{\"colorbar\":{\"outlinewidth\":0,\"ticks\":\"\"}},\"type\":\"parcoords\"}],\"pie\":[{\"automargin\":true,\"type\":\"pie\"}],\"scatter\":[{\"marker\":{\"colorbar\":{\"outlinewidth\":0,\"ticks\":\"\"}},\"type\":\"scatter\"}],\"scatter3d\":[{\"line\":{\"colorbar\":{\"outlinewidth\":0,\"ticks\":\"\"}},\"marker\":{\"colorbar\":{\"outlinewidth\":0,\"ticks\":\"\"}},\"type\":\"scatter3d\"}],\"scattercarpet\":[{\"marker\":{\"colorbar\":{\"outlinewidth\":0,\"ticks\":\"\"}},\"type\":\"scattercarpet\"}],\"scattergeo\":[{\"marker\":{\"colorbar\":{\"outlinewidth\":0,\"ticks\":\"\"}},\"type\":\"scattergeo\"}],\"scattergl\":[{\"marker\":{\"colorbar\":{\"outlinewidth\":0,\"ticks\":\"\"}},\"type\":\"scattergl\"}],\"scattermapbox\":[{\"marker\":{\"colorbar\":{\"outlinewidth\":0,\"ticks\":\"\"}},\"type\":\"scattermapbox\"}],\"scatterpolar\":[{\"marker\":{\"colorbar\":{\"outlinewidth\":0,\"ticks\":\"\"}},\"type\":\"scatterpolar\"}],\"scatterpolargl\":[{\"marker\":{\"colorbar\":{\"outlinewidth\":0,\"ticks\":\"\"}},\"type\":\"scatterpolargl\"}],\"scatterternary\":[{\"marker\":{\"colorbar\":{\"outlinewidth\":0,\"ticks\":\"\"}},\"type\":\"scatterternary\"}],\"surface\":[{\"colorbar\":{\"outlinewidth\":0,\"ticks\":\"\"},\"colorscale\":[[0.0,\"#0d0887\"],[0.1111111111111111,\"#46039f\"],[0.2222222222222222,\"#7201a8\"],[0.3333333333333333,\"#9c179e\"],[0.4444444444444444,\"#bd3786\"],[0.5555555555555556,\"#d8576b\"],[0.6666666666666666,\"#ed7953\"],[0.7777777777777778,\"#fb9f3a\"],[0.8888888888888888,\"#fdca26\"],[1.0,\"#f0f921\"]],\"type\":\"surface\"}],\"table\":[{\"cells\":{\"fill\":{\"color\":\"#EBF0F8\"},\"line\":{\"color\":\"white\"}},\"header\":{\"fill\":{\"color\":\"#C8D4E3\"},\"line\":{\"color\":\"white\"}},\"type\":\"table\"}]},\"layout\":{\"annotationdefaults\":{\"arrowcolor\":\"#2a3f5f\",\"arrowhead\":0,\"arrowwidth\":1},\"autotypenumbers\":\"strict\",\"coloraxis\":{\"colorbar\":{\"outlinewidth\":0,\"ticks\":\"\"}},\"colorscale\":{\"diverging\":[[0,\"#8e0152\"],[0.1,\"#c51b7d\"],[0.2,\"#de77ae\"],[0.3,\"#f1b6da\"],[0.4,\"#fde0ef\"],[0.5,\"#f7f7f7\"],[0.6,\"#e6f5d0\"],[0.7,\"#b8e186\"],[0.8,\"#7fbc41\"],[0.9,\"#4d9221\"],[1,\"#276419\"]],\"sequential\":[[0.0,\"#0d0887\"],[0.1111111111111111,\"#46039f\"],[0.2222222222222222,\"#7201a8\"],[0.3333333333333333,\"#9c179e\"],[0.4444444444444444,\"#bd3786\"],[0.5555555555555556,\"#d8576b\"],[0.6666666666666666,\"#ed7953\"],[0.7777777777777778,\"#fb9f3a\"],[0.8888888888888888,\"#fdca26\"],[1.0,\"#f0f921\"]],\"sequentialminus\":[[0.0,\"#0d0887\"],[0.1111111111111111,\"#46039f\"],[0.2222222222222222,\"#7201a8\"],[0.3333333333333333,\"#9c179e\"],[0.4444444444444444,\"#bd3786\"],[0.5555555555555556,\"#d8576b\"],[0.6666666666666666,\"#ed7953\"],[0.7777777777777778,\"#fb9f3a\"],[0.8888888888888888,\"#fdca26\"],[1.0,\"#f0f921\"]]},\"colorway\":[\"#636efa\",\"#EF553B\",\"#00cc96\",\"#ab63fa\",\"#FFA15A\",\"#19d3f3\",\"#FF6692\",\"#B6E880\",\"#FF97FF\",\"#FECB52\"],\"font\":{\"color\":\"#2a3f5f\"},\"geo\":{\"bgcolor\":\"white\",\"lakecolor\":\"white\",\"landcolor\":\"white\",\"showlakes\":true,\"showland\":true,\"subunitcolor\":\"#C8D4E3\"},\"hoverlabel\":{\"align\":\"left\"},\"hovermode\":\"closest\",\"mapbox\":{\"style\":\"light\"},\"paper_bgcolor\":\"white\",\"plot_bgcolor\":\"white\",\"polar\":{\"angularaxis\":{\"gridcolor\":\"#EBF0F8\",\"linecolor\":\"#EBF0F8\",\"ticks\":\"\"},\"bgcolor\":\"white\",\"radialaxis\":{\"gridcolor\":\"#EBF0F8\",\"linecolor\":\"#EBF0F8\",\"ticks\":\"\"}},\"scene\":{\"xaxis\":{\"backgroundcolor\":\"white\",\"gridcolor\":\"#DFE8F3\",\"gridwidth\":2,\"linecolor\":\"#EBF0F8\",\"showbackground\":true,\"ticks\":\"\",\"zerolinecolor\":\"#EBF0F8\"},\"yaxis\":{\"backgroundcolor\":\"white\",\"gridcolor\":\"#DFE8F3\",\"gridwidth\":2,\"linecolor\":\"#EBF0F8\",\"showbackground\":true,\"ticks\":\"\",\"zerolinecolor\":\"#EBF0F8\"},\"zaxis\":{\"backgroundcolor\":\"white\",\"gridcolor\":\"#DFE8F3\",\"gridwidth\":2,\"linecolor\":\"#EBF0F8\",\"showbackground\":true,\"ticks\":\"\",\"zerolinecolor\":\"#EBF0F8\"}},\"shapedefaults\":{\"line\":{\"color\":\"#2a3f5f\"}},\"ternary\":{\"aaxis\":{\"gridcolor\":\"#DFE8F3\",\"linecolor\":\"#A2B1C6\",\"ticks\":\"\"},\"baxis\":{\"gridcolor\":\"#DFE8F3\",\"linecolor\":\"#A2B1C6\",\"ticks\":\"\"},\"bgcolor\":\"white\",\"caxis\":{\"gridcolor\":\"#DFE8F3\",\"linecolor\":\"#A2B1C6\",\"ticks\":\"\"}},\"title\":{\"x\":0.05},\"xaxis\":{\"automargin\":true,\"gridcolor\":\"#EBF0F8\",\"linecolor\":\"#EBF0F8\",\"ticks\":\"\",\"title\":{\"standoff\":15},\"zerolinecolor\":\"#EBF0F8\",\"zerolinewidth\":2},\"yaxis\":{\"automargin\":true,\"gridcolor\":\"#EBF0F8\",\"linecolor\":\"#EBF0F8\",\"ticks\":\"\",\"title\":{\"standoff\":15},\"zerolinecolor\":\"#EBF0F8\",\"zerolinewidth\":2}}},\"title\":{\"text\":\"Phantom Dec - 33\\u00b0C MTR-asym\",\"x\":0.02,\"y\":0.97},\"width\":350,\"xaxis\":{\"anchor\":\"y\",\"autorange\":\"reversed\",\"domain\":[0.0,1.0],\"dtick\":1,\"title\":{\"text\":\"ppm\"}},\"yaxis\":{\"anchor\":\"x\",\"domain\":[0.0,1.0],\"dtick\":0.05,\"range\":[0,0.25],\"tick0\":0,\"tickformat\":\".0%\",\"tickmode\":\"linear\",\"title\":{\"text\":\"MTR-asym\"}}},                        {\"responsive\": true}                    ).then(function(){\n                            \nvar gd = document.getElementById('aa71b166-5a52-4cf1-8c6e-bc440df42f54');\nvar x = new MutationObserver(function (mutations, observer) {{\n        var display = window.getComputedStyle(gd).display;\n        if (!display || display === 'none') {{\n            console.log([gd, 'removed!']);\n            Plotly.purge(gd);\n            observer.disconnect();\n        }}\n}});\n\n// Listen for the removal of the full notebook cells\nvar notebookContainer = gd.closest('#notebook-container');\nif (notebookContainer) {{\n    x.observe(notebookContainer, {childList: true});\n}}\n\n// Listen for the clearing of the current output cell\nvar outputEl = gd.closest('.output');\nif (outputEl) {{\n    x.observe(outputEl, {childList: true});\n}}\n\n                        })                };                });            </script>        </div>"
     },
     "metadata": {},
     "output_type": "display_data"
    },
    {
     "data": {
      "application/vnd.plotly.v1+json": {
       "config": {
        "plotlyServerURL": "https://plot.ly"
       },
       "data": [
        {
         "legendgroup": "1_1_1",
         "line": {
          "color": "#1f77b4"
         },
         "name": "a 20 mM, pH 7",
         "showlegend": true,
         "type": "scatter",
         "x": [
          7.0,
          6.75,
          6.5,
          6.25,
          6.0,
          5.75,
          5.5,
          5.25,
          5.0,
          4.75,
          4.5,
          4.25,
          4.0,
          3.75,
          3.5,
          3.25,
          3.0,
          2.75,
          2.5,
          2.25,
          2.0,
          1.75,
          1.5,
          1.25,
          1.0,
          0.75,
          0.5,
          0.25,
          0.0,
          -0.25,
          -0.5,
          -0.75,
          -1.0,
          -1.25,
          -1.5,
          -1.75,
          -2.0,
          -2.25,
          -2.5,
          -2.75,
          -3.0,
          -3.25,
          -3.5,
          -3.75,
          -4.0,
          -4.25,
          -4.5,
          -4.75,
          -5.0,
          -5.25,
          -5.5,
          -5.75,
          -6.0,
          -6.25,
          -6.5,
          -6.75,
          -7.0
         ],
         "xaxis": "x",
         "y": [
          0.8990502658590741,
          0.8971191841890551,
          0.8956805944756863,
          0.8930785587499603,
          0.889980282462134,
          0.8867417629314742,
          0.8827096443199752,
          0.8782643894024169,
          0.8727821431796698,
          0.8654396613422196,
          0.8593585257354361,
          0.8509929354788132,
          0.8406668681001209,
          0.827959680928172,
          0.8146355117964958,
          0.7998020636410922,
          0.7804520074272981,
          0.7573459098473772,
          0.7304066107833553,
          0.6968633540719485,
          0.6550724014162379,
          0.600886035496232,
          0.533526079368548,
          0.4474546118112736,
          0.34116223423309217,
          0.2240654809075411,
          0.11234814945150458,
          0.03213378980557722,
          0.0028417529528320493,
          0.028675608757224316,
          0.11605505390188621,
          0.24941831492293454,
          0.39260856629538876,
          0.517235637562335,
          0.6120349151237865,
          0.6813596741841111,
          0.7348659745052105,
          0.7721739682422454,
          0.8003960380891569,
          0.8222921527204908,
          0.8395849632203936,
          0.8534271870372003,
          0.8640622986131263,
          0.8720878673195269,
          0.8802273665894981,
          0.886979131734386,
          0.8916355207903961,
          0.8954373706727193,
          0.8980611360751711,
          0.9013435155864421,
          0.903390155025443,
          0.9042835257103904,
          0.9061371956728472,
          0.9080347856898747,
          0.9076526105395156,
          0.9092779027771224,
          0.9093926437629932
         ],
         "yaxis": "y"
        },
        {
         "legendgroup": "1_1_2",
         "line": {
          "color": "#1f77b4"
         },
         "name": "20 mM, pH 7",
         "showlegend": false,
         "type": "scatter",
         "x": [
          7.0,
          6.75,
          6.5,
          6.25,
          6.0,
          5.75,
          5.5,
          5.25,
          5.0,
          4.75,
          4.5,
          4.25,
          4.0,
          3.75,
          3.5,
          3.25,
          3.0,
          2.75,
          2.5,
          2.25,
          2.0,
          1.75,
          1.5,
          1.25,
          1.0,
          0.75,
          0.5,
          0.25,
          0.0
         ],
         "xaxis": "x",
         "y": [
          0.01034237790391912,
          0.012158718588067274,
          0.01197201606382936,
          0.014956226939914385,
          0.01615691321071322,
          0.01754176277891617,
          0.020680510705467725,
          0.02307912618402519,
          0.025278992895501284,
          0.029997709330499722,
          0.032276995054959956,
          0.035986196255572866,
          0.03956049848937715,
          0.04412818639135496,
          0.049426786816630486,
          0.05362512339610814,
          0.05913295579309541,
          0.06494624287311368,
          0.0699894273058016,
          0.07531061417029683,
          0.07979357308897261,
          0.08047363868787916,
          0.07850883575523848,
          0.06978102575106143,
          0.051446332062296596,
          0.025352834015393427,
          0.0037069044503816317,
          -0.0034581810483529027,
          0.0
         ],
         "yaxis": "y"
        },
        {
         "legendgroup": "1_1_1",
         "line": {
          "color": "#ff7f0e"
         },
         "name": "b 16 mM, pH 7",
         "showlegend": true,
         "type": "scatter",
         "x": [
          7.0,
          6.75,
          6.5,
          6.25,
          6.0,
          5.75,
          5.5,
          5.25,
          5.0,
          4.75,
          4.5,
          4.25,
          4.0,
          3.75,
          3.5,
          3.25,
          3.0,
          2.75,
          2.5,
          2.25,
          2.0,
          1.75,
          1.5,
          1.25,
          1.0,
          0.75,
          0.5,
          0.25,
          0.0,
          -0.25,
          -0.5,
          -0.75,
          -1.0,
          -1.25,
          -1.5,
          -1.75,
          -2.0,
          -2.25,
          -2.5,
          -2.75,
          -3.0,
          -3.25,
          -3.5,
          -3.75,
          -4.0,
          -4.25,
          -4.5,
          -4.75,
          -5.0,
          -5.25,
          -5.5,
          -5.75,
          -6.0,
          -6.25,
          -6.5,
          -6.75,
          -7.0
         ],
         "xaxis": "x",
         "y": [
          0.9029826139554981,
          0.9025038891706066,
          0.8999710807104248,
          0.8962864898951525,
          0.8945099185995417,
          0.8934265654241538,
          0.8891391818542949,
          0.8846082892867368,
          0.880707912638085,
          0.8764144864658264,
          0.8693084752208702,
          0.8599500358516204,
          0.8521869995705925,
          0.8446871596755745,
          0.8322937441556072,
          0.8183654795562826,
          0.8021790653648488,
          0.7837538890814206,
          0.7576814236476181,
          0.7267822997533674,
          0.687961559044642,
          0.6375713842518557,
          0.5730555306890714,
          0.48955632577462055,
          0.3826850249919256,
          0.2592414019026054,
          0.13358714779998854,
          0.03913031987186192,
          0.003258552837109328,
          0.03323191574736936,
          0.13382512668683444,
          0.2821400830771991,
          0.42945404246514374,
          0.5491997411045776,
          0.6411810344096849,
          0.7074906186338229,
          0.7548180614286846,
          0.7879400303301164,
          0.8154282258166331,
          0.8353196590108638,
          0.8512187874536862,
          0.8619563938361342,
          0.8720520116118265,
          0.8807449831914873,
          0.8857972555012171,
          0.8894114367565331,
          0.8948236477211445,
          0.8999134386075754,
          0.9028365846425477,
          0.9033274718155526,
          0.9062139758228731,
          0.9081692460133306,
          0.9089459980240407,
          0.9090000122279001,
          0.9102717152004092,
          0.9121395999812572,
          0.912756050638606
         ],
         "yaxis": "y"
        },
        {
         "legendgroup": "1_1_2",
         "line": {
          "color": "#ff7f0e"
         },
         "name": "16 mM, pH 7",
         "showlegend": false,
         "type": "scatter",
         "x": [
          7.0,
          6.75,
          6.5,
          6.25,
          6.0,
          5.75,
          5.5,
          5.25,
          5.0,
          4.75,
          4.5,
          4.25,
          4.0,
          3.75,
          3.5,
          3.25,
          3.0,
          2.75,
          2.5,
          2.25,
          2.0,
          1.75,
          1.5,
          1.25,
          1.0,
          0.75,
          0.5,
          0.25,
          0.0
         ],
         "xaxis": "x",
         "y": [
          0.009773436683107928,
          0.00963571081065051,
          0.010300634489984417,
          0.012713522332747584,
          0.014436079424499093,
          0.014742680589176826,
          0.01707479396857825,
          0.01871918252881577,
          0.02212867200446267,
          0.02349895214174902,
          0.025515172500274352,
          0.02946140090491267,
          0.03361025593062461,
          0.0360578235159128,
          0.039758267456219354,
          0.04359091427985162,
          0.049039722088837334,
          0.05156576992944317,
          0.057746802169014955,
          0.061157730576749,
          0.06685650238404262,
          0.06991923438196723,
          0.06812550372061343,
          0.05964341532995704,
          0.046769017473218155,
          0.022898681174593705,
          2.3797888684590207E-4,
          -0.005898404124492558,
          0.0
         ],
         "yaxis": "y"
        },
        {
         "legendgroup": "1_1_1",
         "line": {
          "color": "#2ca02c"
         },
         "name": "c 12 mM, pH 7",
         "showlegend": true,
         "type": "scatter",
         "x": [
          7.0,
          6.75,
          6.5,
          6.25,
          6.0,
          5.75,
          5.5,
          5.25,
          5.0,
          4.75,
          4.5,
          4.25,
          4.0,
          3.75,
          3.5,
          3.25,
          3.0,
          2.75,
          2.5,
          2.25,
          2.0,
          1.75,
          1.5,
          1.25,
          1.0,
          0.75,
          0.5,
          0.25,
          0.0,
          -0.25,
          -0.5,
          -0.75,
          -1.0,
          -1.25,
          -1.5,
          -1.75,
          -2.0,
          -2.25,
          -2.5,
          -2.75,
          -3.0,
          -3.25,
          -3.5,
          -3.75,
          -4.0,
          -4.25,
          -4.5,
          -4.75,
          -5.0,
          -5.25,
          -5.5,
          -5.75,
          -6.0,
          -6.25,
          -6.5,
          -6.75,
          -7.0
         ],
         "xaxis": "x",
         "y": [
          0.9122892193175769,
          0.9089556392498511,
          0.9084528987808647,
          0.9068001283276511,
          0.9058616559938228,
          0.9035167001702191,
          0.9013997164754839,
          0.8989179987762389,
          0.8965664768994391,
          0.8908917750320091,
          0.888475089019638,
          0.8826814566547937,
          0.8758669191395126,
          0.8668786415205072,
          0.8570445667897179,
          0.8468525166136108,
          0.8334931394551113,
          0.8167411142442345,
          0.7967885584550232,
          0.7718839024073767,
          0.7385847021117163,
          0.6949159741154318,
          0.6365268244356087,
          0.5580068709662207,
          0.45277731771776963,
          0.3192068941694481,
          0.17286890849237949,
          0.05306946390646566,
          0.0034854409975707025,
          0.04340903487637297,
          0.16980695726291428,
          0.33347060012823043,
          0.47920553849190445,
          0.5946735804252772,
          0.6775591389571691,
          0.7348767364541466,
          0.7781634429750546,
          0.8077372734372432,
          0.8304827884620906,
          0.8473215384071706,
          0.8610109645310597,
          0.8720128724418521,
          0.8807229551551558,
          0.8879928959826252,
          0.8945788607709337,
          0.9003151619252964,
          0.9048286025456374,
          0.9068808050934567,
          0.9085739242513274,
          0.9112360014099258,
          0.9126532119577421,
          0.9130762361396821,
          0.9140496608405259,
          0.9153900135580657,
          0.9148280728133881,
          0.9154639325008125,
          0.9160739419159819
         ],
         "yaxis": "y"
        },
        {
         "legendgroup": "1_1_2",
         "line": {
          "color": "#2ca02c"
         },
         "name": "12 mM, pH 7",
         "showlegend": false,
         "type": "scatter",
         "x": [
          7.0,
          6.75,
          6.5,
          6.25,
          6.0,
          5.75,
          5.5,
          5.25,
          5.0,
          4.75,
          4.5,
          4.25,
          4.0,
          3.75,
          3.5,
          3.25,
          3.0,
          2.75,
          2.5,
          2.25,
          2.0,
          1.75,
          1.5,
          1.25,
          1.0,
          0.75,
          0.5,
          0.25,
          0.0
         ],
         "xaxis": "x",
         "y": [
          0.0037847225984050104,
          0.006508293250961361,
          0.006375174032523412,
          0.008589885230414596,
          0.008188004846703012,
          0.009559535969463018,
          0.01125349548225818,
          0.012318002633686875,
          0.0120074473518883,
          0.015989030061447584,
          0.01635351352599934,
          0.017633705270502675,
          0.018711941631421092,
          0.02111425446211801,
          0.023678388365437897,
          0.025160355828241276,
          0.027517825075948465,
          0.03058042416293616,
          0.033694230007067394,
          0.03585337102986652,
          0.039578740863338235,
          0.03996076233871482,
          0.04103231452156042,
          0.03666670945905648,
          0.026428220774134814,
          0.014263705958782347,
          -0.003061951229465204,
          -0.009660429030092683,
          0.0
         ],
         "yaxis": "y"
        }
       ],
       "layout": {
        "annotations": [
         {
          "font": {
           "size": 16
          },
          "showarrow": false,
          "text": "4uT",
          "x": 0.5,
          "xanchor": "center",
          "xref": "paper",
          "y": 1.0,
          "yanchor": "bottom",
          "yref": "paper"
         }
        ],
        "height": 250,
        "margin": {
         "b": 0,
         "l": 45,
         "r": 0,
         "t": 50
        },
        "template": {
         "data": {
          "bar": [
           {
            "error_x": {
             "color": "#2a3f5f"
            },
            "error_y": {
             "color": "#2a3f5f"
            },
            "marker": {
             "line": {
              "color": "white",
              "width": 0.5
             },
             "pattern": {
              "fillmode": "overlay",
              "size": 10,
              "solidity": 0.2
             }
            },
            "type": "bar"
           }
          ],
          "barpolar": [
           {
            "marker": {
             "line": {
              "color": "white",
              "width": 0.5
             },
             "pattern": {
              "fillmode": "overlay",
              "size": 10,
              "solidity": 0.2
             }
            },
            "type": "barpolar"
           }
          ],
          "carpet": [
           {
            "aaxis": {
             "endlinecolor": "#2a3f5f",
             "gridcolor": "#C8D4E3",
             "linecolor": "#C8D4E3",
             "minorgridcolor": "#C8D4E3",
             "startlinecolor": "#2a3f5f"
            },
            "baxis": {
             "endlinecolor": "#2a3f5f",
             "gridcolor": "#C8D4E3",
             "linecolor": "#C8D4E3",
             "minorgridcolor": "#C8D4E3",
             "startlinecolor": "#2a3f5f"
            },
            "type": "carpet"
           }
          ],
          "choropleth": [
           {
            "colorbar": {
             "outlinewidth": 0,
             "ticks": ""
            },
            "type": "choropleth"
           }
          ],
          "contour": [
           {
            "colorbar": {
             "outlinewidth": 0,
             "ticks": ""
            },
            "colorscale": [
             [
              0.0,
              "#0d0887"
             ],
             [
              0.1111111111111111,
              "#46039f"
             ],
             [
              0.2222222222222222,
              "#7201a8"
             ],
             [
              0.3333333333333333,
              "#9c179e"
             ],
             [
              0.4444444444444444,
              "#bd3786"
             ],
             [
              0.5555555555555556,
              "#d8576b"
             ],
             [
              0.6666666666666666,
              "#ed7953"
             ],
             [
              0.7777777777777778,
              "#fb9f3a"
             ],
             [
              0.8888888888888888,
              "#fdca26"
             ],
             [
              1.0,
              "#f0f921"
             ]
            ],
            "type": "contour"
           }
          ],
          "contourcarpet": [
           {
            "colorbar": {
             "outlinewidth": 0,
             "ticks": ""
            },
            "type": "contourcarpet"
           }
          ],
          "heatmap": [
           {
            "colorbar": {
             "outlinewidth": 0,
             "ticks": ""
            },
            "colorscale": [
             [
              0.0,
              "#0d0887"
             ],
             [
              0.1111111111111111,
              "#46039f"
             ],
             [
              0.2222222222222222,
              "#7201a8"
             ],
             [
              0.3333333333333333,
              "#9c179e"
             ],
             [
              0.4444444444444444,
              "#bd3786"
             ],
             [
              0.5555555555555556,
              "#d8576b"
             ],
             [
              0.6666666666666666,
              "#ed7953"
             ],
             [
              0.7777777777777778,
              "#fb9f3a"
             ],
             [
              0.8888888888888888,
              "#fdca26"
             ],
             [
              1.0,
              "#f0f921"
             ]
            ],
            "type": "heatmap"
           }
          ],
          "heatmapgl": [
           {
            "colorbar": {
             "outlinewidth": 0,
             "ticks": ""
            },
            "colorscale": [
             [
              0.0,
              "#0d0887"
             ],
             [
              0.1111111111111111,
              "#46039f"
             ],
             [
              0.2222222222222222,
              "#7201a8"
             ],
             [
              0.3333333333333333,
              "#9c179e"
             ],
             [
              0.4444444444444444,
              "#bd3786"
             ],
             [
              0.5555555555555556,
              "#d8576b"
             ],
             [
              0.6666666666666666,
              "#ed7953"
             ],
             [
              0.7777777777777778,
              "#fb9f3a"
             ],
             [
              0.8888888888888888,
              "#fdca26"
             ],
             [
              1.0,
              "#f0f921"
             ]
            ],
            "type": "heatmapgl"
           }
          ],
          "histogram": [
           {
            "marker": {
             "pattern": {
              "fillmode": "overlay",
              "size": 10,
              "solidity": 0.2
             }
            },
            "type": "histogram"
           }
          ],
          "histogram2d": [
           {
            "colorbar": {
             "outlinewidth": 0,
             "ticks": ""
            },
            "colorscale": [
             [
              0.0,
              "#0d0887"
             ],
             [
              0.1111111111111111,
              "#46039f"
             ],
             [
              0.2222222222222222,
              "#7201a8"
             ],
             [
              0.3333333333333333,
              "#9c179e"
             ],
             [
              0.4444444444444444,
              "#bd3786"
             ],
             [
              0.5555555555555556,
              "#d8576b"
             ],
             [
              0.6666666666666666,
              "#ed7953"
             ],
             [
              0.7777777777777778,
              "#fb9f3a"
             ],
             [
              0.8888888888888888,
              "#fdca26"
             ],
             [
              1.0,
              "#f0f921"
             ]
            ],
            "type": "histogram2d"
           }
          ],
          "histogram2dcontour": [
           {
            "colorbar": {
             "outlinewidth": 0,
             "ticks": ""
            },
            "colorscale": [
             [
              0.0,
              "#0d0887"
             ],
             [
              0.1111111111111111,
              "#46039f"
             ],
             [
              0.2222222222222222,
              "#7201a8"
             ],
             [
              0.3333333333333333,
              "#9c179e"
             ],
             [
              0.4444444444444444,
              "#bd3786"
             ],
             [
              0.5555555555555556,
              "#d8576b"
             ],
             [
              0.6666666666666666,
              "#ed7953"
             ],
             [
              0.7777777777777778,
              "#fb9f3a"
             ],
             [
              0.8888888888888888,
              "#fdca26"
             ],
             [
              1.0,
              "#f0f921"
             ]
            ],
            "type": "histogram2dcontour"
           }
          ],
          "mesh3d": [
           {
            "colorbar": {
             "outlinewidth": 0,
             "ticks": ""
            },
            "type": "mesh3d"
           }
          ],
          "parcoords": [
           {
            "line": {
             "colorbar": {
              "outlinewidth": 0,
              "ticks": ""
             }
            },
            "type": "parcoords"
           }
          ],
          "pie": [
           {
            "automargin": true,
            "type": "pie"
           }
          ],
          "scatter": [
           {
            "marker": {
             "colorbar": {
              "outlinewidth": 0,
              "ticks": ""
             }
            },
            "type": "scatter"
           }
          ],
          "scatter3d": [
           {
            "line": {
             "colorbar": {
              "outlinewidth": 0,
              "ticks": ""
             }
            },
            "marker": {
             "colorbar": {
              "outlinewidth": 0,
              "ticks": ""
             }
            },
            "type": "scatter3d"
           }
          ],
          "scattercarpet": [
           {
            "marker": {
             "colorbar": {
              "outlinewidth": 0,
              "ticks": ""
             }
            },
            "type": "scattercarpet"
           }
          ],
          "scattergeo": [
           {
            "marker": {
             "colorbar": {
              "outlinewidth": 0,
              "ticks": ""
             }
            },
            "type": "scattergeo"
           }
          ],
          "scattergl": [
           {
            "marker": {
             "colorbar": {
              "outlinewidth": 0,
              "ticks": ""
             }
            },
            "type": "scattergl"
           }
          ],
          "scattermapbox": [
           {
            "marker": {
             "colorbar": {
              "outlinewidth": 0,
              "ticks": ""
             }
            },
            "type": "scattermapbox"
           }
          ],
          "scatterpolar": [
           {
            "marker": {
             "colorbar": {
              "outlinewidth": 0,
              "ticks": ""
             }
            },
            "type": "scatterpolar"
           }
          ],
          "scatterpolargl": [
           {
            "marker": {
             "colorbar": {
              "outlinewidth": 0,
              "ticks": ""
             }
            },
            "type": "scatterpolargl"
           }
          ],
          "scatterternary": [
           {
            "marker": {
             "colorbar": {
              "outlinewidth": 0,
              "ticks": ""
             }
            },
            "type": "scatterternary"
           }
          ],
          "surface": [
           {
            "colorbar": {
             "outlinewidth": 0,
             "ticks": ""
            },
            "colorscale": [
             [
              0.0,
              "#0d0887"
             ],
             [
              0.1111111111111111,
              "#46039f"
             ],
             [
              0.2222222222222222,
              "#7201a8"
             ],
             [
              0.3333333333333333,
              "#9c179e"
             ],
             [
              0.4444444444444444,
              "#bd3786"
             ],
             [
              0.5555555555555556,
              "#d8576b"
             ],
             [
              0.6666666666666666,
              "#ed7953"
             ],
             [
              0.7777777777777778,
              "#fb9f3a"
             ],
             [
              0.8888888888888888,
              "#fdca26"
             ],
             [
              1.0,
              "#f0f921"
             ]
            ],
            "type": "surface"
           }
          ],
          "table": [
           {
            "cells": {
             "fill": {
              "color": "#EBF0F8"
             },
             "line": {
              "color": "white"
             }
            },
            "header": {
             "fill": {
              "color": "#C8D4E3"
             },
             "line": {
              "color": "white"
             }
            },
            "type": "table"
           }
          ]
         },
         "layout": {
          "annotationdefaults": {
           "arrowcolor": "#2a3f5f",
           "arrowhead": 0,
           "arrowwidth": 1
          },
          "autotypenumbers": "strict",
          "coloraxis": {
           "colorbar": {
            "outlinewidth": 0,
            "ticks": ""
           }
          },
          "colorscale": {
           "diverging": [
            [
             0,
             "#8e0152"
            ],
            [
             0.1,
             "#c51b7d"
            ],
            [
             0.2,
             "#de77ae"
            ],
            [
             0.3,
             "#f1b6da"
            ],
            [
             0.4,
             "#fde0ef"
            ],
            [
             0.5,
             "#f7f7f7"
            ],
            [
             0.6,
             "#e6f5d0"
            ],
            [
             0.7,
             "#b8e186"
            ],
            [
             0.8,
             "#7fbc41"
            ],
            [
             0.9,
             "#4d9221"
            ],
            [
             1,
             "#276419"
            ]
           ],
           "sequential": [
            [
             0.0,
             "#0d0887"
            ],
            [
             0.1111111111111111,
             "#46039f"
            ],
            [
             0.2222222222222222,
             "#7201a8"
            ],
            [
             0.3333333333333333,
             "#9c179e"
            ],
            [
             0.4444444444444444,
             "#bd3786"
            ],
            [
             0.5555555555555556,
             "#d8576b"
            ],
            [
             0.6666666666666666,
             "#ed7953"
            ],
            [
             0.7777777777777778,
             "#fb9f3a"
            ],
            [
             0.8888888888888888,
             "#fdca26"
            ],
            [
             1.0,
             "#f0f921"
            ]
           ],
           "sequentialminus": [
            [
             0.0,
             "#0d0887"
            ],
            [
             0.1111111111111111,
             "#46039f"
            ],
            [
             0.2222222222222222,
             "#7201a8"
            ],
            [
             0.3333333333333333,
             "#9c179e"
            ],
            [
             0.4444444444444444,
             "#bd3786"
            ],
            [
             0.5555555555555556,
             "#d8576b"
            ],
            [
             0.6666666666666666,
             "#ed7953"
            ],
            [
             0.7777777777777778,
             "#fb9f3a"
            ],
            [
             0.8888888888888888,
             "#fdca26"
            ],
            [
             1.0,
             "#f0f921"
            ]
           ]
          },
          "colorway": [
           "#636efa",
           "#EF553B",
           "#00cc96",
           "#ab63fa",
           "#FFA15A",
           "#19d3f3",
           "#FF6692",
           "#B6E880",
           "#FF97FF",
           "#FECB52"
          ],
          "font": {
           "color": "#2a3f5f"
          },
          "geo": {
           "bgcolor": "white",
           "lakecolor": "white",
           "landcolor": "white",
           "showlakes": true,
           "showland": true,
           "subunitcolor": "#C8D4E3"
          },
          "hoverlabel": {
           "align": "left"
          },
          "hovermode": "closest",
          "mapbox": {
           "style": "light"
          },
          "paper_bgcolor": "white",
          "plot_bgcolor": "white",
          "polar": {
           "angularaxis": {
            "gridcolor": "#EBF0F8",
            "linecolor": "#EBF0F8",
            "ticks": ""
           },
           "bgcolor": "white",
           "radialaxis": {
            "gridcolor": "#EBF0F8",
            "linecolor": "#EBF0F8",
            "ticks": ""
           }
          },
          "scene": {
           "xaxis": {
            "backgroundcolor": "white",
            "gridcolor": "#DFE8F3",
            "gridwidth": 2,
            "linecolor": "#EBF0F8",
            "showbackground": true,
            "ticks": "",
            "zerolinecolor": "#EBF0F8"
           },
           "yaxis": {
            "backgroundcolor": "white",
            "gridcolor": "#DFE8F3",
            "gridwidth": 2,
            "linecolor": "#EBF0F8",
            "showbackground": true,
            "ticks": "",
            "zerolinecolor": "#EBF0F8"
           },
           "zaxis": {
            "backgroundcolor": "white",
            "gridcolor": "#DFE8F3",
            "gridwidth": 2,
            "linecolor": "#EBF0F8",
            "showbackground": true,
            "ticks": "",
            "zerolinecolor": "#EBF0F8"
           }
          },
          "shapedefaults": {
           "line": {
            "color": "#2a3f5f"
           }
          },
          "ternary": {
           "aaxis": {
            "gridcolor": "#DFE8F3",
            "linecolor": "#A2B1C6",
            "ticks": ""
           },
           "baxis": {
            "gridcolor": "#DFE8F3",
            "linecolor": "#A2B1C6",
            "ticks": ""
           },
           "bgcolor": "white",
           "caxis": {
            "gridcolor": "#DFE8F3",
            "linecolor": "#A2B1C6",
            "ticks": ""
           }
          },
          "title": {
           "x": 0.05
          },
          "xaxis": {
           "automargin": true,
           "gridcolor": "#EBF0F8",
           "linecolor": "#EBF0F8",
           "ticks": "",
           "title": {
            "standoff": 15
           },
           "zerolinecolor": "#EBF0F8",
           "zerolinewidth": 2
          },
          "yaxis": {
           "automargin": true,
           "gridcolor": "#EBF0F8",
           "linecolor": "#EBF0F8",
           "ticks": "",
           "title": {
            "standoff": 15
           },
           "zerolinecolor": "#EBF0F8",
           "zerolinewidth": 2
          }
         }
        },
        "title": {
         "text": "Phantom Dec - 37°C Z-spectrum",
         "x": 0.02,
         "y": 0.97
        },
        "width": 500,
        "xaxis": {
         "anchor": "y",
         "autorange": "reversed",
         "domain": [
          0.0,
          1.0
         ],
         "dtick": 1,
         "tick0": 0,
         "tickmode": "linear",
         "title": {
          "text": "ppm"
         }
        },
        "yaxis": {
         "anchor": "x",
         "domain": [
          0.0,
          1.0
         ],
         "dtick": 0.2,
         "range": [
          -0.1,
          1
         ],
         "tick0": 0,
         "tickmode": "linear",
         "title": {
          "standoff": 2,
          "text": "$M_{sat}/M_0$"
         }
        }
       }
      },
      "text/html": "<div>                            <div id=\"62590057-8adb-4863-812e-db45b95e344e\" class=\"plotly-graph-div\" style=\"height:250px; width:500px;\"></div>            <script type=\"text/javascript\">                require([\"plotly\"], function(Plotly) {                    window.PLOTLYENV=window.PLOTLYENV || {};                                    if (document.getElementById(\"62590057-8adb-4863-812e-db45b95e344e\")) {                    Plotly.newPlot(                        \"62590057-8adb-4863-812e-db45b95e344e\",                        [{\"legendgroup\":\"1_1_1\",\"line\":{\"color\":\"#1f77b4\"},\"name\":\"a 20 mM, pH 7\",\"showlegend\":true,\"type\":\"scatter\",\"x\":[7.0,6.75,6.5,6.25,6.0,5.75,5.5,5.25,5.0,4.75,4.5,4.25,4.0,3.75,3.5,3.25,3.0,2.75,2.5,2.25,2.0,1.75,1.5,1.25,1.0,0.75,0.5,0.25,0.0,-0.25,-0.5,-0.75,-1.0,-1.25,-1.5,-1.75,-2.0,-2.25,-2.5,-2.75,-3.0,-3.25,-3.5,-3.75,-4.0,-4.25,-4.5,-4.75,-5.0,-5.25,-5.5,-5.75,-6.0,-6.25,-6.5,-6.75,-7.0],\"xaxis\":\"x\",\"y\":[0.8990502658590741,0.8971191841890551,0.8956805944756863,0.8930785587499603,0.889980282462134,0.8867417629314742,0.8827096443199752,0.8782643894024169,0.8727821431796698,0.8654396613422196,0.8593585257354361,0.8509929354788132,0.8406668681001209,0.827959680928172,0.8146355117964958,0.7998020636410922,0.7804520074272981,0.7573459098473772,0.7304066107833553,0.6968633540719485,0.6550724014162379,0.600886035496232,0.533526079368548,0.4474546118112736,0.34116223423309217,0.2240654809075411,0.11234814945150458,0.03213378980557722,0.0028417529528320493,0.028675608757224316,0.11605505390188621,0.24941831492293454,0.39260856629538876,0.517235637562335,0.6120349151237865,0.6813596741841111,0.7348659745052105,0.7721739682422454,0.8003960380891569,0.8222921527204908,0.8395849632203936,0.8534271870372003,0.8640622986131263,0.8720878673195269,0.8802273665894981,0.886979131734386,0.8916355207903961,0.8954373706727193,0.8980611360751711,0.9013435155864421,0.903390155025443,0.9042835257103904,0.9061371956728472,0.9080347856898747,0.9076526105395156,0.9092779027771224,0.9093926437629932],\"yaxis\":\"y\"},{\"legendgroup\":\"1_1_2\",\"line\":{\"color\":\"#1f77b4\"},\"name\":\"20 mM, pH 7\",\"showlegend\":false,\"type\":\"scatter\",\"x\":[7.0,6.75,6.5,6.25,6.0,5.75,5.5,5.25,5.0,4.75,4.5,4.25,4.0,3.75,3.5,3.25,3.0,2.75,2.5,2.25,2.0,1.75,1.5,1.25,1.0,0.75,0.5,0.25,0.0],\"xaxis\":\"x\",\"y\":[0.01034237790391912,0.012158718588067274,0.01197201606382936,0.014956226939914385,0.01615691321071322,0.01754176277891617,0.020680510705467725,0.02307912618402519,0.025278992895501284,0.029997709330499722,0.032276995054959956,0.035986196255572866,0.03956049848937715,0.04412818639135496,0.049426786816630486,0.05362512339610814,0.05913295579309541,0.06494624287311368,0.0699894273058016,0.07531061417029683,0.07979357308897261,0.08047363868787916,0.07850883575523848,0.06978102575106143,0.051446332062296596,0.025352834015393427,0.0037069044503816317,-0.0034581810483529027,0.0],\"yaxis\":\"y\"},{\"legendgroup\":\"1_1_1\",\"line\":{\"color\":\"#ff7f0e\"},\"name\":\"b 16 mM, pH 7\",\"showlegend\":true,\"type\":\"scatter\",\"x\":[7.0,6.75,6.5,6.25,6.0,5.75,5.5,5.25,5.0,4.75,4.5,4.25,4.0,3.75,3.5,3.25,3.0,2.75,2.5,2.25,2.0,1.75,1.5,1.25,1.0,0.75,0.5,0.25,0.0,-0.25,-0.5,-0.75,-1.0,-1.25,-1.5,-1.75,-2.0,-2.25,-2.5,-2.75,-3.0,-3.25,-3.5,-3.75,-4.0,-4.25,-4.5,-4.75,-5.0,-5.25,-5.5,-5.75,-6.0,-6.25,-6.5,-6.75,-7.0],\"xaxis\":\"x\",\"y\":[0.9029826139554981,0.9025038891706066,0.8999710807104248,0.8962864898951525,0.8945099185995417,0.8934265654241538,0.8891391818542949,0.8846082892867368,0.880707912638085,0.8764144864658264,0.8693084752208702,0.8599500358516204,0.8521869995705925,0.8446871596755745,0.8322937441556072,0.8183654795562826,0.8021790653648488,0.7837538890814206,0.7576814236476181,0.7267822997533674,0.687961559044642,0.6375713842518557,0.5730555306890714,0.48955632577462055,0.3826850249919256,0.2592414019026054,0.13358714779998854,0.03913031987186192,0.003258552837109328,0.03323191574736936,0.13382512668683444,0.2821400830771991,0.42945404246514374,0.5491997411045776,0.6411810344096849,0.7074906186338229,0.7548180614286846,0.7879400303301164,0.8154282258166331,0.8353196590108638,0.8512187874536862,0.8619563938361342,0.8720520116118265,0.8807449831914873,0.8857972555012171,0.8894114367565331,0.8948236477211445,0.8999134386075754,0.9028365846425477,0.9033274718155526,0.9062139758228731,0.9081692460133306,0.9089459980240407,0.9090000122279001,0.9102717152004092,0.9121395999812572,0.912756050638606],\"yaxis\":\"y\"},{\"legendgroup\":\"1_1_2\",\"line\":{\"color\":\"#ff7f0e\"},\"name\":\"16 mM, pH 7\",\"showlegend\":false,\"type\":\"scatter\",\"x\":[7.0,6.75,6.5,6.25,6.0,5.75,5.5,5.25,5.0,4.75,4.5,4.25,4.0,3.75,3.5,3.25,3.0,2.75,2.5,2.25,2.0,1.75,1.5,1.25,1.0,0.75,0.5,0.25,0.0],\"xaxis\":\"x\",\"y\":[0.009773436683107928,0.00963571081065051,0.010300634489984417,0.012713522332747584,0.014436079424499093,0.014742680589176826,0.01707479396857825,0.01871918252881577,0.02212867200446267,0.02349895214174902,0.025515172500274352,0.02946140090491267,0.03361025593062461,0.0360578235159128,0.039758267456219354,0.04359091427985162,0.049039722088837334,0.05156576992944317,0.057746802169014955,0.061157730576749,0.06685650238404262,0.06991923438196723,0.06812550372061343,0.05964341532995704,0.046769017473218155,0.022898681174593705,0.00023797888684590207,-0.005898404124492558,0.0],\"yaxis\":\"y\"},{\"legendgroup\":\"1_1_1\",\"line\":{\"color\":\"#2ca02c\"},\"name\":\"c 12 mM, pH 7\",\"showlegend\":true,\"type\":\"scatter\",\"x\":[7.0,6.75,6.5,6.25,6.0,5.75,5.5,5.25,5.0,4.75,4.5,4.25,4.0,3.75,3.5,3.25,3.0,2.75,2.5,2.25,2.0,1.75,1.5,1.25,1.0,0.75,0.5,0.25,0.0,-0.25,-0.5,-0.75,-1.0,-1.25,-1.5,-1.75,-2.0,-2.25,-2.5,-2.75,-3.0,-3.25,-3.5,-3.75,-4.0,-4.25,-4.5,-4.75,-5.0,-5.25,-5.5,-5.75,-6.0,-6.25,-6.5,-6.75,-7.0],\"xaxis\":\"x\",\"y\":[0.9122892193175769,0.9089556392498511,0.9084528987808647,0.9068001283276511,0.9058616559938228,0.9035167001702191,0.9013997164754839,0.8989179987762389,0.8965664768994391,0.8908917750320091,0.888475089019638,0.8826814566547937,0.8758669191395126,0.8668786415205072,0.8570445667897179,0.8468525166136108,0.8334931394551113,0.8167411142442345,0.7967885584550232,0.7718839024073767,0.7385847021117163,0.6949159741154318,0.6365268244356087,0.5580068709662207,0.45277731771776963,0.3192068941694481,0.17286890849237949,0.05306946390646566,0.0034854409975707025,0.04340903487637297,0.16980695726291428,0.33347060012823043,0.47920553849190445,0.5946735804252772,0.6775591389571691,0.7348767364541466,0.7781634429750546,0.8077372734372432,0.8304827884620906,0.8473215384071706,0.8610109645310597,0.8720128724418521,0.8807229551551558,0.8879928959826252,0.8945788607709337,0.9003151619252964,0.9048286025456374,0.9068808050934567,0.9085739242513274,0.9112360014099258,0.9126532119577421,0.9130762361396821,0.9140496608405259,0.9153900135580657,0.9148280728133881,0.9154639325008125,0.9160739419159819],\"yaxis\":\"y\"},{\"legendgroup\":\"1_1_2\",\"line\":{\"color\":\"#2ca02c\"},\"name\":\"12 mM, pH 7\",\"showlegend\":false,\"type\":\"scatter\",\"x\":[7.0,6.75,6.5,6.25,6.0,5.75,5.5,5.25,5.0,4.75,4.5,4.25,4.0,3.75,3.5,3.25,3.0,2.75,2.5,2.25,2.0,1.75,1.5,1.25,1.0,0.75,0.5,0.25,0.0],\"xaxis\":\"x\",\"y\":[0.0037847225984050104,0.006508293250961361,0.006375174032523412,0.008589885230414596,0.008188004846703012,0.009559535969463018,0.01125349548225818,0.012318002633686875,0.0120074473518883,0.015989030061447584,0.01635351352599934,0.017633705270502675,0.018711941631421092,0.02111425446211801,0.023678388365437897,0.025160355828241276,0.027517825075948465,0.03058042416293616,0.033694230007067394,0.03585337102986652,0.039578740863338235,0.03996076233871482,0.04103231452156042,0.03666670945905648,0.026428220774134814,0.014263705958782347,-0.003061951229465204,-0.009660429030092683,0.0],\"yaxis\":\"y\"}],                        {\"annotations\":[{\"font\":{\"size\":16},\"showarrow\":false,\"text\":\"4uT\",\"x\":0.5,\"xanchor\":\"center\",\"xref\":\"paper\",\"y\":1.0,\"yanchor\":\"bottom\",\"yref\":\"paper\"}],\"height\":250,\"margin\":{\"b\":0,\"l\":45,\"r\":0,\"t\":50},\"template\":{\"data\":{\"bar\":[{\"error_x\":{\"color\":\"#2a3f5f\"},\"error_y\":{\"color\":\"#2a3f5f\"},\"marker\":{\"line\":{\"color\":\"white\",\"width\":0.5},\"pattern\":{\"fillmode\":\"overlay\",\"size\":10,\"solidity\":0.2}},\"type\":\"bar\"}],\"barpolar\":[{\"marker\":{\"line\":{\"color\":\"white\",\"width\":0.5},\"pattern\":{\"fillmode\":\"overlay\",\"size\":10,\"solidity\":0.2}},\"type\":\"barpolar\"}],\"carpet\":[{\"aaxis\":{\"endlinecolor\":\"#2a3f5f\",\"gridcolor\":\"#C8D4E3\",\"linecolor\":\"#C8D4E3\",\"minorgridcolor\":\"#C8D4E3\",\"startlinecolor\":\"#2a3f5f\"},\"baxis\":{\"endlinecolor\":\"#2a3f5f\",\"gridcolor\":\"#C8D4E3\",\"linecolor\":\"#C8D4E3\",\"minorgridcolor\":\"#C8D4E3\",\"startlinecolor\":\"#2a3f5f\"},\"type\":\"carpet\"}],\"choropleth\":[{\"colorbar\":{\"outlinewidth\":0,\"ticks\":\"\"},\"type\":\"choropleth\"}],\"contour\":[{\"colorbar\":{\"outlinewidth\":0,\"ticks\":\"\"},\"colorscale\":[[0.0,\"#0d0887\"],[0.1111111111111111,\"#46039f\"],[0.2222222222222222,\"#7201a8\"],[0.3333333333333333,\"#9c179e\"],[0.4444444444444444,\"#bd3786\"],[0.5555555555555556,\"#d8576b\"],[0.6666666666666666,\"#ed7953\"],[0.7777777777777778,\"#fb9f3a\"],[0.8888888888888888,\"#fdca26\"],[1.0,\"#f0f921\"]],\"type\":\"contour\"}],\"contourcarpet\":[{\"colorbar\":{\"outlinewidth\":0,\"ticks\":\"\"},\"type\":\"contourcarpet\"}],\"heatmap\":[{\"colorbar\":{\"outlinewidth\":0,\"ticks\":\"\"},\"colorscale\":[[0.0,\"#0d0887\"],[0.1111111111111111,\"#46039f\"],[0.2222222222222222,\"#7201a8\"],[0.3333333333333333,\"#9c179e\"],[0.4444444444444444,\"#bd3786\"],[0.5555555555555556,\"#d8576b\"],[0.6666666666666666,\"#ed7953\"],[0.7777777777777778,\"#fb9f3a\"],[0.8888888888888888,\"#fdca26\"],[1.0,\"#f0f921\"]],\"type\":\"heatmap\"}],\"heatmapgl\":[{\"colorbar\":{\"outlinewidth\":0,\"ticks\":\"\"},\"colorscale\":[[0.0,\"#0d0887\"],[0.1111111111111111,\"#46039f\"],[0.2222222222222222,\"#7201a8\"],[0.3333333333333333,\"#9c179e\"],[0.4444444444444444,\"#bd3786\"],[0.5555555555555556,\"#d8576b\"],[0.6666666666666666,\"#ed7953\"],[0.7777777777777778,\"#fb9f3a\"],[0.8888888888888888,\"#fdca26\"],[1.0,\"#f0f921\"]],\"type\":\"heatmapgl\"}],\"histogram\":[{\"marker\":{\"pattern\":{\"fillmode\":\"overlay\",\"size\":10,\"solidity\":0.2}},\"type\":\"histogram\"}],\"histogram2d\":[{\"colorbar\":{\"outlinewidth\":0,\"ticks\":\"\"},\"colorscale\":[[0.0,\"#0d0887\"],[0.1111111111111111,\"#46039f\"],[0.2222222222222222,\"#7201a8\"],[0.3333333333333333,\"#9c179e\"],[0.4444444444444444,\"#bd3786\"],[0.5555555555555556,\"#d8576b\"],[0.6666666666666666,\"#ed7953\"],[0.7777777777777778,\"#fb9f3a\"],[0.8888888888888888,\"#fdca26\"],[1.0,\"#f0f921\"]],\"type\":\"histogram2d\"}],\"histogram2dcontour\":[{\"colorbar\":{\"outlinewidth\":0,\"ticks\":\"\"},\"colorscale\":[[0.0,\"#0d0887\"],[0.1111111111111111,\"#46039f\"],[0.2222222222222222,\"#7201a8\"],[0.3333333333333333,\"#9c179e\"],[0.4444444444444444,\"#bd3786\"],[0.5555555555555556,\"#d8576b\"],[0.6666666666666666,\"#ed7953\"],[0.7777777777777778,\"#fb9f3a\"],[0.8888888888888888,\"#fdca26\"],[1.0,\"#f0f921\"]],\"type\":\"histogram2dcontour\"}],\"mesh3d\":[{\"colorbar\":{\"outlinewidth\":0,\"ticks\":\"\"},\"type\":\"mesh3d\"}],\"parcoords\":[{\"line\":{\"colorbar\":{\"outlinewidth\":0,\"ticks\":\"\"}},\"type\":\"parcoords\"}],\"pie\":[{\"automargin\":true,\"type\":\"pie\"}],\"scatter\":[{\"marker\":{\"colorbar\":{\"outlinewidth\":0,\"ticks\":\"\"}},\"type\":\"scatter\"}],\"scatter3d\":[{\"line\":{\"colorbar\":{\"outlinewidth\":0,\"ticks\":\"\"}},\"marker\":{\"colorbar\":{\"outlinewidth\":0,\"ticks\":\"\"}},\"type\":\"scatter3d\"}],\"scattercarpet\":[{\"marker\":{\"colorbar\":{\"outlinewidth\":0,\"ticks\":\"\"}},\"type\":\"scattercarpet\"}],\"scattergeo\":[{\"marker\":{\"colorbar\":{\"outlinewidth\":0,\"ticks\":\"\"}},\"type\":\"scattergeo\"}],\"scattergl\":[{\"marker\":{\"colorbar\":{\"outlinewidth\":0,\"ticks\":\"\"}},\"type\":\"scattergl\"}],\"scattermapbox\":[{\"marker\":{\"colorbar\":{\"outlinewidth\":0,\"ticks\":\"\"}},\"type\":\"scattermapbox\"}],\"scatterpolar\":[{\"marker\":{\"colorbar\":{\"outlinewidth\":0,\"ticks\":\"\"}},\"type\":\"scatterpolar\"}],\"scatterpolargl\":[{\"marker\":{\"colorbar\":{\"outlinewidth\":0,\"ticks\":\"\"}},\"type\":\"scatterpolargl\"}],\"scatterternary\":[{\"marker\":{\"colorbar\":{\"outlinewidth\":0,\"ticks\":\"\"}},\"type\":\"scatterternary\"}],\"surface\":[{\"colorbar\":{\"outlinewidth\":0,\"ticks\":\"\"},\"colorscale\":[[0.0,\"#0d0887\"],[0.1111111111111111,\"#46039f\"],[0.2222222222222222,\"#7201a8\"],[0.3333333333333333,\"#9c179e\"],[0.4444444444444444,\"#bd3786\"],[0.5555555555555556,\"#d8576b\"],[0.6666666666666666,\"#ed7953\"],[0.7777777777777778,\"#fb9f3a\"],[0.8888888888888888,\"#fdca26\"],[1.0,\"#f0f921\"]],\"type\":\"surface\"}],\"table\":[{\"cells\":{\"fill\":{\"color\":\"#EBF0F8\"},\"line\":{\"color\":\"white\"}},\"header\":{\"fill\":{\"color\":\"#C8D4E3\"},\"line\":{\"color\":\"white\"}},\"type\":\"table\"}]},\"layout\":{\"annotationdefaults\":{\"arrowcolor\":\"#2a3f5f\",\"arrowhead\":0,\"arrowwidth\":1},\"autotypenumbers\":\"strict\",\"coloraxis\":{\"colorbar\":{\"outlinewidth\":0,\"ticks\":\"\"}},\"colorscale\":{\"diverging\":[[0,\"#8e0152\"],[0.1,\"#c51b7d\"],[0.2,\"#de77ae\"],[0.3,\"#f1b6da\"],[0.4,\"#fde0ef\"],[0.5,\"#f7f7f7\"],[0.6,\"#e6f5d0\"],[0.7,\"#b8e186\"],[0.8,\"#7fbc41\"],[0.9,\"#4d9221\"],[1,\"#276419\"]],\"sequential\":[[0.0,\"#0d0887\"],[0.1111111111111111,\"#46039f\"],[0.2222222222222222,\"#7201a8\"],[0.3333333333333333,\"#9c179e\"],[0.4444444444444444,\"#bd3786\"],[0.5555555555555556,\"#d8576b\"],[0.6666666666666666,\"#ed7953\"],[0.7777777777777778,\"#fb9f3a\"],[0.8888888888888888,\"#fdca26\"],[1.0,\"#f0f921\"]],\"sequentialminus\":[[0.0,\"#0d0887\"],[0.1111111111111111,\"#46039f\"],[0.2222222222222222,\"#7201a8\"],[0.3333333333333333,\"#9c179e\"],[0.4444444444444444,\"#bd3786\"],[0.5555555555555556,\"#d8576b\"],[0.6666666666666666,\"#ed7953\"],[0.7777777777777778,\"#fb9f3a\"],[0.8888888888888888,\"#fdca26\"],[1.0,\"#f0f921\"]]},\"colorway\":[\"#636efa\",\"#EF553B\",\"#00cc96\",\"#ab63fa\",\"#FFA15A\",\"#19d3f3\",\"#FF6692\",\"#B6E880\",\"#FF97FF\",\"#FECB52\"],\"font\":{\"color\":\"#2a3f5f\"},\"geo\":{\"bgcolor\":\"white\",\"lakecolor\":\"white\",\"landcolor\":\"white\",\"showlakes\":true,\"showland\":true,\"subunitcolor\":\"#C8D4E3\"},\"hoverlabel\":{\"align\":\"left\"},\"hovermode\":\"closest\",\"mapbox\":{\"style\":\"light\"},\"paper_bgcolor\":\"white\",\"plot_bgcolor\":\"white\",\"polar\":{\"angularaxis\":{\"gridcolor\":\"#EBF0F8\",\"linecolor\":\"#EBF0F8\",\"ticks\":\"\"},\"bgcolor\":\"white\",\"radialaxis\":{\"gridcolor\":\"#EBF0F8\",\"linecolor\":\"#EBF0F8\",\"ticks\":\"\"}},\"scene\":{\"xaxis\":{\"backgroundcolor\":\"white\",\"gridcolor\":\"#DFE8F3\",\"gridwidth\":2,\"linecolor\":\"#EBF0F8\",\"showbackground\":true,\"ticks\":\"\",\"zerolinecolor\":\"#EBF0F8\"},\"yaxis\":{\"backgroundcolor\":\"white\",\"gridcolor\":\"#DFE8F3\",\"gridwidth\":2,\"linecolor\":\"#EBF0F8\",\"showbackground\":true,\"ticks\":\"\",\"zerolinecolor\":\"#EBF0F8\"},\"zaxis\":{\"backgroundcolor\":\"white\",\"gridcolor\":\"#DFE8F3\",\"gridwidth\":2,\"linecolor\":\"#EBF0F8\",\"showbackground\":true,\"ticks\":\"\",\"zerolinecolor\":\"#EBF0F8\"}},\"shapedefaults\":{\"line\":{\"color\":\"#2a3f5f\"}},\"ternary\":{\"aaxis\":{\"gridcolor\":\"#DFE8F3\",\"linecolor\":\"#A2B1C6\",\"ticks\":\"\"},\"baxis\":{\"gridcolor\":\"#DFE8F3\",\"linecolor\":\"#A2B1C6\",\"ticks\":\"\"},\"bgcolor\":\"white\",\"caxis\":{\"gridcolor\":\"#DFE8F3\",\"linecolor\":\"#A2B1C6\",\"ticks\":\"\"}},\"title\":{\"x\":0.05},\"xaxis\":{\"automargin\":true,\"gridcolor\":\"#EBF0F8\",\"linecolor\":\"#EBF0F8\",\"ticks\":\"\",\"title\":{\"standoff\":15},\"zerolinecolor\":\"#EBF0F8\",\"zerolinewidth\":2},\"yaxis\":{\"automargin\":true,\"gridcolor\":\"#EBF0F8\",\"linecolor\":\"#EBF0F8\",\"ticks\":\"\",\"title\":{\"standoff\":15},\"zerolinecolor\":\"#EBF0F8\",\"zerolinewidth\":2}}},\"title\":{\"text\":\"Phantom Dec - 37\\u00b0C Z-spectrum\",\"x\":0.02,\"y\":0.97},\"width\":500,\"xaxis\":{\"anchor\":\"y\",\"autorange\":\"reversed\",\"domain\":[0.0,1.0],\"dtick\":1,\"tick0\":0,\"tickmode\":\"linear\",\"title\":{\"text\":\"ppm\"}},\"yaxis\":{\"anchor\":\"x\",\"domain\":[0.0,1.0],\"dtick\":0.2,\"range\":[-0.1,1],\"tick0\":0,\"tickmode\":\"linear\",\"title\":{\"standoff\":2,\"text\":\"$M_{sat}/M_0$\"}}},                        {\"responsive\": true}                    ).then(function(){\n                            \nvar gd = document.getElementById('62590057-8adb-4863-812e-db45b95e344e');\nvar x = new MutationObserver(function (mutations, observer) {{\n        var display = window.getComputedStyle(gd).display;\n        if (!display || display === 'none') {{\n            console.log([gd, 'removed!']);\n            Plotly.purge(gd);\n            observer.disconnect();\n        }}\n}});\n\n// Listen for the removal of the full notebook cells\nvar notebookContainer = gd.closest('#notebook-container');\nif (notebookContainer) {{\n    x.observe(notebookContainer, {childList: true});\n}}\n\n// Listen for the clearing of the current output cell\nvar outputEl = gd.closest('.output');\nif (outputEl) {{\n    x.observe(outputEl, {childList: true});\n}}\n\n                        })                };                });            </script>        </div>"
     },
     "metadata": {},
     "output_type": "display_data"
    },
    {
     "data": {
      "application/vnd.plotly.v1+json": {
       "config": {
        "plotlyServerURL": "https://plot.ly"
       },
       "data": [
        {
         "legendgroup": "1_1_2",
         "line": {
          "color": "#1f77b4"
         },
         "name": "20 mM, pH 7",
         "showlegend": true,
         "type": "scatter",
         "x": [
          7.0,
          6.75,
          6.5,
          6.25,
          6.0,
          5.75,
          5.5,
          5.25,
          5.0,
          4.75,
          4.5,
          4.25,
          4.0,
          3.75,
          3.5,
          3.25,
          3.0,
          2.75,
          2.5,
          2.25,
          2.0,
          1.75,
          1.5,
          1.25,
          1.0,
          0.75,
          0.5,
          0.25,
          0.0
         ],
         "xaxis": "x",
         "y": [
          0.01034237790391912,
          0.012158718588067274,
          0.01197201606382936,
          0.014956226939914385,
          0.01615691321071322,
          0.01754176277891617,
          0.020680510705467725,
          0.02307912618402519,
          0.025278992895501284,
          0.029997709330499722,
          0.032276995054959956,
          0.035986196255572866,
          0.03956049848937715,
          0.04412818639135496,
          0.049426786816630486,
          0.05362512339610814,
          0.05913295579309541,
          0.06494624287311368,
          0.0699894273058016,
          0.07531061417029683,
          0.07979357308897261,
          0.08047363868787916,
          0.07850883575523848,
          0.06978102575106143,
          0.051446332062296596,
          0.025352834015393427,
          0.0037069044503816317,
          -0.0034581810483529027,
          0.0
         ],
         "yaxis": "y"
        },
        {
         "legendgroup": "1_1_2",
         "line": {
          "color": "#ff7f0e"
         },
         "name": "16 mM, pH 7",
         "showlegend": true,
         "type": "scatter",
         "x": [
          7.0,
          6.75,
          6.5,
          6.25,
          6.0,
          5.75,
          5.5,
          5.25,
          5.0,
          4.75,
          4.5,
          4.25,
          4.0,
          3.75,
          3.5,
          3.25,
          3.0,
          2.75,
          2.5,
          2.25,
          2.0,
          1.75,
          1.5,
          1.25,
          1.0,
          0.75,
          0.5,
          0.25,
          0.0
         ],
         "xaxis": "x",
         "y": [
          0.009773436683107928,
          0.00963571081065051,
          0.010300634489984417,
          0.012713522332747584,
          0.014436079424499093,
          0.014742680589176826,
          0.01707479396857825,
          0.01871918252881577,
          0.02212867200446267,
          0.02349895214174902,
          0.025515172500274352,
          0.02946140090491267,
          0.03361025593062461,
          0.0360578235159128,
          0.039758267456219354,
          0.04359091427985162,
          0.049039722088837334,
          0.05156576992944317,
          0.057746802169014955,
          0.061157730576749,
          0.06685650238404262,
          0.06991923438196723,
          0.06812550372061343,
          0.05964341532995704,
          0.046769017473218155,
          0.022898681174593705,
          2.3797888684590207E-4,
          -0.005898404124492558,
          0.0
         ],
         "yaxis": "y"
        },
        {
         "legendgroup": "1_1_2",
         "line": {
          "color": "#2ca02c"
         },
         "name": "12 mM, pH 7",
         "showlegend": true,
         "type": "scatter",
         "x": [
          7.0,
          6.75,
          6.5,
          6.25,
          6.0,
          5.75,
          5.5,
          5.25,
          5.0,
          4.75,
          4.5,
          4.25,
          4.0,
          3.75,
          3.5,
          3.25,
          3.0,
          2.75,
          2.5,
          2.25,
          2.0,
          1.75,
          1.5,
          1.25,
          1.0,
          0.75,
          0.5,
          0.25,
          0.0
         ],
         "xaxis": "x",
         "y": [
          0.0037847225984050104,
          0.006508293250961361,
          0.006375174032523412,
          0.008589885230414596,
          0.008188004846703012,
          0.009559535969463018,
          0.01125349548225818,
          0.012318002633686875,
          0.0120074473518883,
          0.015989030061447584,
          0.01635351352599934,
          0.017633705270502675,
          0.018711941631421092,
          0.02111425446211801,
          0.023678388365437897,
          0.025160355828241276,
          0.027517825075948465,
          0.03058042416293616,
          0.033694230007067394,
          0.03585337102986652,
          0.039578740863338235,
          0.03996076233871482,
          0.04103231452156042,
          0.03666670945905648,
          0.026428220774134814,
          0.014263705958782347,
          -0.003061951229465204,
          -0.009660429030092683,
          0.0
         ],
         "yaxis": "y"
        }
       ],
       "layout": {
        "annotations": [
         {
          "font": {
           "size": 16
          },
          "showarrow": false,
          "text": "4uT",
          "x": 0.5,
          "xanchor": "center",
          "xref": "paper",
          "y": 1.0,
          "yanchor": "bottom",
          "yref": "paper"
         }
        ],
        "height": 250,
        "margin": {
         "b": 0,
         "l": 0,
         "r": 0,
         "t": 60
        },
        "template": {
         "data": {
          "bar": [
           {
            "error_x": {
             "color": "#2a3f5f"
            },
            "error_y": {
             "color": "#2a3f5f"
            },
            "marker": {
             "line": {
              "color": "white",
              "width": 0.5
             },
             "pattern": {
              "fillmode": "overlay",
              "size": 10,
              "solidity": 0.2
             }
            },
            "type": "bar"
           }
          ],
          "barpolar": [
           {
            "marker": {
             "line": {
              "color": "white",
              "width": 0.5
             },
             "pattern": {
              "fillmode": "overlay",
              "size": 10,
              "solidity": 0.2
             }
            },
            "type": "barpolar"
           }
          ],
          "carpet": [
           {
            "aaxis": {
             "endlinecolor": "#2a3f5f",
             "gridcolor": "#C8D4E3",
             "linecolor": "#C8D4E3",
             "minorgridcolor": "#C8D4E3",
             "startlinecolor": "#2a3f5f"
            },
            "baxis": {
             "endlinecolor": "#2a3f5f",
             "gridcolor": "#C8D4E3",
             "linecolor": "#C8D4E3",
             "minorgridcolor": "#C8D4E3",
             "startlinecolor": "#2a3f5f"
            },
            "type": "carpet"
           }
          ],
          "choropleth": [
           {
            "colorbar": {
             "outlinewidth": 0,
             "ticks": ""
            },
            "type": "choropleth"
           }
          ],
          "contour": [
           {
            "colorbar": {
             "outlinewidth": 0,
             "ticks": ""
            },
            "colorscale": [
             [
              0.0,
              "#0d0887"
             ],
             [
              0.1111111111111111,
              "#46039f"
             ],
             [
              0.2222222222222222,
              "#7201a8"
             ],
             [
              0.3333333333333333,
              "#9c179e"
             ],
             [
              0.4444444444444444,
              "#bd3786"
             ],
             [
              0.5555555555555556,
              "#d8576b"
             ],
             [
              0.6666666666666666,
              "#ed7953"
             ],
             [
              0.7777777777777778,
              "#fb9f3a"
             ],
             [
              0.8888888888888888,
              "#fdca26"
             ],
             [
              1.0,
              "#f0f921"
             ]
            ],
            "type": "contour"
           }
          ],
          "contourcarpet": [
           {
            "colorbar": {
             "outlinewidth": 0,
             "ticks": ""
            },
            "type": "contourcarpet"
           }
          ],
          "heatmap": [
           {
            "colorbar": {
             "outlinewidth": 0,
             "ticks": ""
            },
            "colorscale": [
             [
              0.0,
              "#0d0887"
             ],
             [
              0.1111111111111111,
              "#46039f"
             ],
             [
              0.2222222222222222,
              "#7201a8"
             ],
             [
              0.3333333333333333,
              "#9c179e"
             ],
             [
              0.4444444444444444,
              "#bd3786"
             ],
             [
              0.5555555555555556,
              "#d8576b"
             ],
             [
              0.6666666666666666,
              "#ed7953"
             ],
             [
              0.7777777777777778,
              "#fb9f3a"
             ],
             [
              0.8888888888888888,
              "#fdca26"
             ],
             [
              1.0,
              "#f0f921"
             ]
            ],
            "type": "heatmap"
           }
          ],
          "heatmapgl": [
           {
            "colorbar": {
             "outlinewidth": 0,
             "ticks": ""
            },
            "colorscale": [
             [
              0.0,
              "#0d0887"
             ],
             [
              0.1111111111111111,
              "#46039f"
             ],
             [
              0.2222222222222222,
              "#7201a8"
             ],
             [
              0.3333333333333333,
              "#9c179e"
             ],
             [
              0.4444444444444444,
              "#bd3786"
             ],
             [
              0.5555555555555556,
              "#d8576b"
             ],
             [
              0.6666666666666666,
              "#ed7953"
             ],
             [
              0.7777777777777778,
              "#fb9f3a"
             ],
             [
              0.8888888888888888,
              "#fdca26"
             ],
             [
              1.0,
              "#f0f921"
             ]
            ],
            "type": "heatmapgl"
           }
          ],
          "histogram": [
           {
            "marker": {
             "pattern": {
              "fillmode": "overlay",
              "size": 10,
              "solidity": 0.2
             }
            },
            "type": "histogram"
           }
          ],
          "histogram2d": [
           {
            "colorbar": {
             "outlinewidth": 0,
             "ticks": ""
            },
            "colorscale": [
             [
              0.0,
              "#0d0887"
             ],
             [
              0.1111111111111111,
              "#46039f"
             ],
             [
              0.2222222222222222,
              "#7201a8"
             ],
             [
              0.3333333333333333,
              "#9c179e"
             ],
             [
              0.4444444444444444,
              "#bd3786"
             ],
             [
              0.5555555555555556,
              "#d8576b"
             ],
             [
              0.6666666666666666,
              "#ed7953"
             ],
             [
              0.7777777777777778,
              "#fb9f3a"
             ],
             [
              0.8888888888888888,
              "#fdca26"
             ],
             [
              1.0,
              "#f0f921"
             ]
            ],
            "type": "histogram2d"
           }
          ],
          "histogram2dcontour": [
           {
            "colorbar": {
             "outlinewidth": 0,
             "ticks": ""
            },
            "colorscale": [
             [
              0.0,
              "#0d0887"
             ],
             [
              0.1111111111111111,
              "#46039f"
             ],
             [
              0.2222222222222222,
              "#7201a8"
             ],
             [
              0.3333333333333333,
              "#9c179e"
             ],
             [
              0.4444444444444444,
              "#bd3786"
             ],
             [
              0.5555555555555556,
              "#d8576b"
             ],
             [
              0.6666666666666666,
              "#ed7953"
             ],
             [
              0.7777777777777778,
              "#fb9f3a"
             ],
             [
              0.8888888888888888,
              "#fdca26"
             ],
             [
              1.0,
              "#f0f921"
             ]
            ],
            "type": "histogram2dcontour"
           }
          ],
          "mesh3d": [
           {
            "colorbar": {
             "outlinewidth": 0,
             "ticks": ""
            },
            "type": "mesh3d"
           }
          ],
          "parcoords": [
           {
            "line": {
             "colorbar": {
              "outlinewidth": 0,
              "ticks": ""
             }
            },
            "type": "parcoords"
           }
          ],
          "pie": [
           {
            "automargin": true,
            "type": "pie"
           }
          ],
          "scatter": [
           {
            "marker": {
             "colorbar": {
              "outlinewidth": 0,
              "ticks": ""
             }
            },
            "type": "scatter"
           }
          ],
          "scatter3d": [
           {
            "line": {
             "colorbar": {
              "outlinewidth": 0,
              "ticks": ""
             }
            },
            "marker": {
             "colorbar": {
              "outlinewidth": 0,
              "ticks": ""
             }
            },
            "type": "scatter3d"
           }
          ],
          "scattercarpet": [
           {
            "marker": {
             "colorbar": {
              "outlinewidth": 0,
              "ticks": ""
             }
            },
            "type": "scattercarpet"
           }
          ],
          "scattergeo": [
           {
            "marker": {
             "colorbar": {
              "outlinewidth": 0,
              "ticks": ""
             }
            },
            "type": "scattergeo"
           }
          ],
          "scattergl": [
           {
            "marker": {
             "colorbar": {
              "outlinewidth": 0,
              "ticks": ""
             }
            },
            "type": "scattergl"
           }
          ],
          "scattermapbox": [
           {
            "marker": {
             "colorbar": {
              "outlinewidth": 0,
              "ticks": ""
             }
            },
            "type": "scattermapbox"
           }
          ],
          "scatterpolar": [
           {
            "marker": {
             "colorbar": {
              "outlinewidth": 0,
              "ticks": ""
             }
            },
            "type": "scatterpolar"
           }
          ],
          "scatterpolargl": [
           {
            "marker": {
             "colorbar": {
              "outlinewidth": 0,
              "ticks": ""
             }
            },
            "type": "scatterpolargl"
           }
          ],
          "scatterternary": [
           {
            "marker": {
             "colorbar": {
              "outlinewidth": 0,
              "ticks": ""
             }
            },
            "type": "scatterternary"
           }
          ],
          "surface": [
           {
            "colorbar": {
             "outlinewidth": 0,
             "ticks": ""
            },
            "colorscale": [
             [
              0.0,
              "#0d0887"
             ],
             [
              0.1111111111111111,
              "#46039f"
             ],
             [
              0.2222222222222222,
              "#7201a8"
             ],
             [
              0.3333333333333333,
              "#9c179e"
             ],
             [
              0.4444444444444444,
              "#bd3786"
             ],
             [
              0.5555555555555556,
              "#d8576b"
             ],
             [
              0.6666666666666666,
              "#ed7953"
             ],
             [
              0.7777777777777778,
              "#fb9f3a"
             ],
             [
              0.8888888888888888,
              "#fdca26"
             ],
             [
              1.0,
              "#f0f921"
             ]
            ],
            "type": "surface"
           }
          ],
          "table": [
           {
            "cells": {
             "fill": {
              "color": "#EBF0F8"
             },
             "line": {
              "color": "white"
             }
            },
            "header": {
             "fill": {
              "color": "#C8D4E3"
             },
             "line": {
              "color": "white"
             }
            },
            "type": "table"
           }
          ]
         },
         "layout": {
          "annotationdefaults": {
           "arrowcolor": "#2a3f5f",
           "arrowhead": 0,
           "arrowwidth": 1
          },
          "autotypenumbers": "strict",
          "coloraxis": {
           "colorbar": {
            "outlinewidth": 0,
            "ticks": ""
           }
          },
          "colorscale": {
           "diverging": [
            [
             0,
             "#8e0152"
            ],
            [
             0.1,
             "#c51b7d"
            ],
            [
             0.2,
             "#de77ae"
            ],
            [
             0.3,
             "#f1b6da"
            ],
            [
             0.4,
             "#fde0ef"
            ],
            [
             0.5,
             "#f7f7f7"
            ],
            [
             0.6,
             "#e6f5d0"
            ],
            [
             0.7,
             "#b8e186"
            ],
            [
             0.8,
             "#7fbc41"
            ],
            [
             0.9,
             "#4d9221"
            ],
            [
             1,
             "#276419"
            ]
           ],
           "sequential": [
            [
             0.0,
             "#0d0887"
            ],
            [
             0.1111111111111111,
             "#46039f"
            ],
            [
             0.2222222222222222,
             "#7201a8"
            ],
            [
             0.3333333333333333,
             "#9c179e"
            ],
            [
             0.4444444444444444,
             "#bd3786"
            ],
            [
             0.5555555555555556,
             "#d8576b"
            ],
            [
             0.6666666666666666,
             "#ed7953"
            ],
            [
             0.7777777777777778,
             "#fb9f3a"
            ],
            [
             0.8888888888888888,
             "#fdca26"
            ],
            [
             1.0,
             "#f0f921"
            ]
           ],
           "sequentialminus": [
            [
             0.0,
             "#0d0887"
            ],
            [
             0.1111111111111111,
             "#46039f"
            ],
            [
             0.2222222222222222,
             "#7201a8"
            ],
            [
             0.3333333333333333,
             "#9c179e"
            ],
            [
             0.4444444444444444,
             "#bd3786"
            ],
            [
             0.5555555555555556,
             "#d8576b"
            ],
            [
             0.6666666666666666,
             "#ed7953"
            ],
            [
             0.7777777777777778,
             "#fb9f3a"
            ],
            [
             0.8888888888888888,
             "#fdca26"
            ],
            [
             1.0,
             "#f0f921"
            ]
           ]
          },
          "colorway": [
           "#636efa",
           "#EF553B",
           "#00cc96",
           "#ab63fa",
           "#FFA15A",
           "#19d3f3",
           "#FF6692",
           "#B6E880",
           "#FF97FF",
           "#FECB52"
          ],
          "font": {
           "color": "#2a3f5f"
          },
          "geo": {
           "bgcolor": "white",
           "lakecolor": "white",
           "landcolor": "white",
           "showlakes": true,
           "showland": true,
           "subunitcolor": "#C8D4E3"
          },
          "hoverlabel": {
           "align": "left"
          },
          "hovermode": "closest",
          "mapbox": {
           "style": "light"
          },
          "paper_bgcolor": "white",
          "plot_bgcolor": "white",
          "polar": {
           "angularaxis": {
            "gridcolor": "#EBF0F8",
            "linecolor": "#EBF0F8",
            "ticks": ""
           },
           "bgcolor": "white",
           "radialaxis": {
            "gridcolor": "#EBF0F8",
            "linecolor": "#EBF0F8",
            "ticks": ""
           }
          },
          "scene": {
           "xaxis": {
            "backgroundcolor": "white",
            "gridcolor": "#DFE8F3",
            "gridwidth": 2,
            "linecolor": "#EBF0F8",
            "showbackground": true,
            "ticks": "",
            "zerolinecolor": "#EBF0F8"
           },
           "yaxis": {
            "backgroundcolor": "white",
            "gridcolor": "#DFE8F3",
            "gridwidth": 2,
            "linecolor": "#EBF0F8",
            "showbackground": true,
            "ticks": "",
            "zerolinecolor": "#EBF0F8"
           },
           "zaxis": {
            "backgroundcolor": "white",
            "gridcolor": "#DFE8F3",
            "gridwidth": 2,
            "linecolor": "#EBF0F8",
            "showbackground": true,
            "ticks": "",
            "zerolinecolor": "#EBF0F8"
           }
          },
          "shapedefaults": {
           "line": {
            "color": "#2a3f5f"
           }
          },
          "ternary": {
           "aaxis": {
            "gridcolor": "#DFE8F3",
            "linecolor": "#A2B1C6",
            "ticks": ""
           },
           "baxis": {
            "gridcolor": "#DFE8F3",
            "linecolor": "#A2B1C6",
            "ticks": ""
           },
           "bgcolor": "white",
           "caxis": {
            "gridcolor": "#DFE8F3",
            "linecolor": "#A2B1C6",
            "ticks": ""
           }
          },
          "title": {
           "x": 0.05
          },
          "xaxis": {
           "automargin": true,
           "gridcolor": "#EBF0F8",
           "linecolor": "#EBF0F8",
           "ticks": "",
           "title": {
            "standoff": 15
           },
           "zerolinecolor": "#EBF0F8",
           "zerolinewidth": 2
          },
          "yaxis": {
           "automargin": true,
           "gridcolor": "#EBF0F8",
           "linecolor": "#EBF0F8",
           "ticks": "",
           "title": {
            "standoff": 15
           },
           "zerolinecolor": "#EBF0F8",
           "zerolinewidth": 2
          }
         }
        },
        "title": {
         "text": "Phantom Dec - 37°C MTR-asym",
         "x": 0.02,
         "y": 0.97
        },
        "width": 350,
        "xaxis": {
         "anchor": "y",
         "autorange": "reversed",
         "domain": [
          0.0,
          1.0
         ],
         "dtick": 1,
         "title": {
          "text": "ppm"
         }
        },
        "yaxis": {
         "anchor": "x",
         "domain": [
          0.0,
          1.0
         ],
         "dtick": 0.05,
         "range": [
          0,
          0.25
         ],
         "tick0": 0,
         "tickformat": ".0%",
         "tickmode": "linear",
         "title": {
          "text": "MTR-asym"
         }
        }
       }
      },
      "text/html": "<div>                            <div id=\"45d31457-aee6-49cf-ac8b-f40faa241600\" class=\"plotly-graph-div\" style=\"height:250px; width:350px;\"></div>            <script type=\"text/javascript\">                require([\"plotly\"], function(Plotly) {                    window.PLOTLYENV=window.PLOTLYENV || {};                                    if (document.getElementById(\"45d31457-aee6-49cf-ac8b-f40faa241600\")) {                    Plotly.newPlot(                        \"45d31457-aee6-49cf-ac8b-f40faa241600\",                        [{\"legendgroup\":\"1_1_2\",\"line\":{\"color\":\"#1f77b4\"},\"name\":\"20 mM, pH 7\",\"showlegend\":true,\"type\":\"scatter\",\"x\":[7.0,6.75,6.5,6.25,6.0,5.75,5.5,5.25,5.0,4.75,4.5,4.25,4.0,3.75,3.5,3.25,3.0,2.75,2.5,2.25,2.0,1.75,1.5,1.25,1.0,0.75,0.5,0.25,0.0],\"xaxis\":\"x\",\"y\":[0.01034237790391912,0.012158718588067274,0.01197201606382936,0.014956226939914385,0.01615691321071322,0.01754176277891617,0.020680510705467725,0.02307912618402519,0.025278992895501284,0.029997709330499722,0.032276995054959956,0.035986196255572866,0.03956049848937715,0.04412818639135496,0.049426786816630486,0.05362512339610814,0.05913295579309541,0.06494624287311368,0.0699894273058016,0.07531061417029683,0.07979357308897261,0.08047363868787916,0.07850883575523848,0.06978102575106143,0.051446332062296596,0.025352834015393427,0.0037069044503816317,-0.0034581810483529027,0.0],\"yaxis\":\"y\"},{\"legendgroup\":\"1_1_2\",\"line\":{\"color\":\"#ff7f0e\"},\"name\":\"16 mM, pH 7\",\"showlegend\":true,\"type\":\"scatter\",\"x\":[7.0,6.75,6.5,6.25,6.0,5.75,5.5,5.25,5.0,4.75,4.5,4.25,4.0,3.75,3.5,3.25,3.0,2.75,2.5,2.25,2.0,1.75,1.5,1.25,1.0,0.75,0.5,0.25,0.0],\"xaxis\":\"x\",\"y\":[0.009773436683107928,0.00963571081065051,0.010300634489984417,0.012713522332747584,0.014436079424499093,0.014742680589176826,0.01707479396857825,0.01871918252881577,0.02212867200446267,0.02349895214174902,0.025515172500274352,0.02946140090491267,0.03361025593062461,0.0360578235159128,0.039758267456219354,0.04359091427985162,0.049039722088837334,0.05156576992944317,0.057746802169014955,0.061157730576749,0.06685650238404262,0.06991923438196723,0.06812550372061343,0.05964341532995704,0.046769017473218155,0.022898681174593705,0.00023797888684590207,-0.005898404124492558,0.0],\"yaxis\":\"y\"},{\"legendgroup\":\"1_1_2\",\"line\":{\"color\":\"#2ca02c\"},\"name\":\"12 mM, pH 7\",\"showlegend\":true,\"type\":\"scatter\",\"x\":[7.0,6.75,6.5,6.25,6.0,5.75,5.5,5.25,5.0,4.75,4.5,4.25,4.0,3.75,3.5,3.25,3.0,2.75,2.5,2.25,2.0,1.75,1.5,1.25,1.0,0.75,0.5,0.25,0.0],\"xaxis\":\"x\",\"y\":[0.0037847225984050104,0.006508293250961361,0.006375174032523412,0.008589885230414596,0.008188004846703012,0.009559535969463018,0.01125349548225818,0.012318002633686875,0.0120074473518883,0.015989030061447584,0.01635351352599934,0.017633705270502675,0.018711941631421092,0.02111425446211801,0.023678388365437897,0.025160355828241276,0.027517825075948465,0.03058042416293616,0.033694230007067394,0.03585337102986652,0.039578740863338235,0.03996076233871482,0.04103231452156042,0.03666670945905648,0.026428220774134814,0.014263705958782347,-0.003061951229465204,-0.009660429030092683,0.0],\"yaxis\":\"y\"}],                        {\"annotations\":[{\"font\":{\"size\":16},\"showarrow\":false,\"text\":\"4uT\",\"x\":0.5,\"xanchor\":\"center\",\"xref\":\"paper\",\"y\":1.0,\"yanchor\":\"bottom\",\"yref\":\"paper\"}],\"height\":250,\"margin\":{\"b\":0,\"l\":0,\"r\":0,\"t\":60},\"template\":{\"data\":{\"bar\":[{\"error_x\":{\"color\":\"#2a3f5f\"},\"error_y\":{\"color\":\"#2a3f5f\"},\"marker\":{\"line\":{\"color\":\"white\",\"width\":0.5},\"pattern\":{\"fillmode\":\"overlay\",\"size\":10,\"solidity\":0.2}},\"type\":\"bar\"}],\"barpolar\":[{\"marker\":{\"line\":{\"color\":\"white\",\"width\":0.5},\"pattern\":{\"fillmode\":\"overlay\",\"size\":10,\"solidity\":0.2}},\"type\":\"barpolar\"}],\"carpet\":[{\"aaxis\":{\"endlinecolor\":\"#2a3f5f\",\"gridcolor\":\"#C8D4E3\",\"linecolor\":\"#C8D4E3\",\"minorgridcolor\":\"#C8D4E3\",\"startlinecolor\":\"#2a3f5f\"},\"baxis\":{\"endlinecolor\":\"#2a3f5f\",\"gridcolor\":\"#C8D4E3\",\"linecolor\":\"#C8D4E3\",\"minorgridcolor\":\"#C8D4E3\",\"startlinecolor\":\"#2a3f5f\"},\"type\":\"carpet\"}],\"choropleth\":[{\"colorbar\":{\"outlinewidth\":0,\"ticks\":\"\"},\"type\":\"choropleth\"}],\"contour\":[{\"colorbar\":{\"outlinewidth\":0,\"ticks\":\"\"},\"colorscale\":[[0.0,\"#0d0887\"],[0.1111111111111111,\"#46039f\"],[0.2222222222222222,\"#7201a8\"],[0.3333333333333333,\"#9c179e\"],[0.4444444444444444,\"#bd3786\"],[0.5555555555555556,\"#d8576b\"],[0.6666666666666666,\"#ed7953\"],[0.7777777777777778,\"#fb9f3a\"],[0.8888888888888888,\"#fdca26\"],[1.0,\"#f0f921\"]],\"type\":\"contour\"}],\"contourcarpet\":[{\"colorbar\":{\"outlinewidth\":0,\"ticks\":\"\"},\"type\":\"contourcarpet\"}],\"heatmap\":[{\"colorbar\":{\"outlinewidth\":0,\"ticks\":\"\"},\"colorscale\":[[0.0,\"#0d0887\"],[0.1111111111111111,\"#46039f\"],[0.2222222222222222,\"#7201a8\"],[0.3333333333333333,\"#9c179e\"],[0.4444444444444444,\"#bd3786\"],[0.5555555555555556,\"#d8576b\"],[0.6666666666666666,\"#ed7953\"],[0.7777777777777778,\"#fb9f3a\"],[0.8888888888888888,\"#fdca26\"],[1.0,\"#f0f921\"]],\"type\":\"heatmap\"}],\"heatmapgl\":[{\"colorbar\":{\"outlinewidth\":0,\"ticks\":\"\"},\"colorscale\":[[0.0,\"#0d0887\"],[0.1111111111111111,\"#46039f\"],[0.2222222222222222,\"#7201a8\"],[0.3333333333333333,\"#9c179e\"],[0.4444444444444444,\"#bd3786\"],[0.5555555555555556,\"#d8576b\"],[0.6666666666666666,\"#ed7953\"],[0.7777777777777778,\"#fb9f3a\"],[0.8888888888888888,\"#fdca26\"],[1.0,\"#f0f921\"]],\"type\":\"heatmapgl\"}],\"histogram\":[{\"marker\":{\"pattern\":{\"fillmode\":\"overlay\",\"size\":10,\"solidity\":0.2}},\"type\":\"histogram\"}],\"histogram2d\":[{\"colorbar\":{\"outlinewidth\":0,\"ticks\":\"\"},\"colorscale\":[[0.0,\"#0d0887\"],[0.1111111111111111,\"#46039f\"],[0.2222222222222222,\"#7201a8\"],[0.3333333333333333,\"#9c179e\"],[0.4444444444444444,\"#bd3786\"],[0.5555555555555556,\"#d8576b\"],[0.6666666666666666,\"#ed7953\"],[0.7777777777777778,\"#fb9f3a\"],[0.8888888888888888,\"#fdca26\"],[1.0,\"#f0f921\"]],\"type\":\"histogram2d\"}],\"histogram2dcontour\":[{\"colorbar\":{\"outlinewidth\":0,\"ticks\":\"\"},\"colorscale\":[[0.0,\"#0d0887\"],[0.1111111111111111,\"#46039f\"],[0.2222222222222222,\"#7201a8\"],[0.3333333333333333,\"#9c179e\"],[0.4444444444444444,\"#bd3786\"],[0.5555555555555556,\"#d8576b\"],[0.6666666666666666,\"#ed7953\"],[0.7777777777777778,\"#fb9f3a\"],[0.8888888888888888,\"#fdca26\"],[1.0,\"#f0f921\"]],\"type\":\"histogram2dcontour\"}],\"mesh3d\":[{\"colorbar\":{\"outlinewidth\":0,\"ticks\":\"\"},\"type\":\"mesh3d\"}],\"parcoords\":[{\"line\":{\"colorbar\":{\"outlinewidth\":0,\"ticks\":\"\"}},\"type\":\"parcoords\"}],\"pie\":[{\"automargin\":true,\"type\":\"pie\"}],\"scatter\":[{\"marker\":{\"colorbar\":{\"outlinewidth\":0,\"ticks\":\"\"}},\"type\":\"scatter\"}],\"scatter3d\":[{\"line\":{\"colorbar\":{\"outlinewidth\":0,\"ticks\":\"\"}},\"marker\":{\"colorbar\":{\"outlinewidth\":0,\"ticks\":\"\"}},\"type\":\"scatter3d\"}],\"scattercarpet\":[{\"marker\":{\"colorbar\":{\"outlinewidth\":0,\"ticks\":\"\"}},\"type\":\"scattercarpet\"}],\"scattergeo\":[{\"marker\":{\"colorbar\":{\"outlinewidth\":0,\"ticks\":\"\"}},\"type\":\"scattergeo\"}],\"scattergl\":[{\"marker\":{\"colorbar\":{\"outlinewidth\":0,\"ticks\":\"\"}},\"type\":\"scattergl\"}],\"scattermapbox\":[{\"marker\":{\"colorbar\":{\"outlinewidth\":0,\"ticks\":\"\"}},\"type\":\"scattermapbox\"}],\"scatterpolar\":[{\"marker\":{\"colorbar\":{\"outlinewidth\":0,\"ticks\":\"\"}},\"type\":\"scatterpolar\"}],\"scatterpolargl\":[{\"marker\":{\"colorbar\":{\"outlinewidth\":0,\"ticks\":\"\"}},\"type\":\"scatterpolargl\"}],\"scatterternary\":[{\"marker\":{\"colorbar\":{\"outlinewidth\":0,\"ticks\":\"\"}},\"type\":\"scatterternary\"}],\"surface\":[{\"colorbar\":{\"outlinewidth\":0,\"ticks\":\"\"},\"colorscale\":[[0.0,\"#0d0887\"],[0.1111111111111111,\"#46039f\"],[0.2222222222222222,\"#7201a8\"],[0.3333333333333333,\"#9c179e\"],[0.4444444444444444,\"#bd3786\"],[0.5555555555555556,\"#d8576b\"],[0.6666666666666666,\"#ed7953\"],[0.7777777777777778,\"#fb9f3a\"],[0.8888888888888888,\"#fdca26\"],[1.0,\"#f0f921\"]],\"type\":\"surface\"}],\"table\":[{\"cells\":{\"fill\":{\"color\":\"#EBF0F8\"},\"line\":{\"color\":\"white\"}},\"header\":{\"fill\":{\"color\":\"#C8D4E3\"},\"line\":{\"color\":\"white\"}},\"type\":\"table\"}]},\"layout\":{\"annotationdefaults\":{\"arrowcolor\":\"#2a3f5f\",\"arrowhead\":0,\"arrowwidth\":1},\"autotypenumbers\":\"strict\",\"coloraxis\":{\"colorbar\":{\"outlinewidth\":0,\"ticks\":\"\"}},\"colorscale\":{\"diverging\":[[0,\"#8e0152\"],[0.1,\"#c51b7d\"],[0.2,\"#de77ae\"],[0.3,\"#f1b6da\"],[0.4,\"#fde0ef\"],[0.5,\"#f7f7f7\"],[0.6,\"#e6f5d0\"],[0.7,\"#b8e186\"],[0.8,\"#7fbc41\"],[0.9,\"#4d9221\"],[1,\"#276419\"]],\"sequential\":[[0.0,\"#0d0887\"],[0.1111111111111111,\"#46039f\"],[0.2222222222222222,\"#7201a8\"],[0.3333333333333333,\"#9c179e\"],[0.4444444444444444,\"#bd3786\"],[0.5555555555555556,\"#d8576b\"],[0.6666666666666666,\"#ed7953\"],[0.7777777777777778,\"#fb9f3a\"],[0.8888888888888888,\"#fdca26\"],[1.0,\"#f0f921\"]],\"sequentialminus\":[[0.0,\"#0d0887\"],[0.1111111111111111,\"#46039f\"],[0.2222222222222222,\"#7201a8\"],[0.3333333333333333,\"#9c179e\"],[0.4444444444444444,\"#bd3786\"],[0.5555555555555556,\"#d8576b\"],[0.6666666666666666,\"#ed7953\"],[0.7777777777777778,\"#fb9f3a\"],[0.8888888888888888,\"#fdca26\"],[1.0,\"#f0f921\"]]},\"colorway\":[\"#636efa\",\"#EF553B\",\"#00cc96\",\"#ab63fa\",\"#FFA15A\",\"#19d3f3\",\"#FF6692\",\"#B6E880\",\"#FF97FF\",\"#FECB52\"],\"font\":{\"color\":\"#2a3f5f\"},\"geo\":{\"bgcolor\":\"white\",\"lakecolor\":\"white\",\"landcolor\":\"white\",\"showlakes\":true,\"showland\":true,\"subunitcolor\":\"#C8D4E3\"},\"hoverlabel\":{\"align\":\"left\"},\"hovermode\":\"closest\",\"mapbox\":{\"style\":\"light\"},\"paper_bgcolor\":\"white\",\"plot_bgcolor\":\"white\",\"polar\":{\"angularaxis\":{\"gridcolor\":\"#EBF0F8\",\"linecolor\":\"#EBF0F8\",\"ticks\":\"\"},\"bgcolor\":\"white\",\"radialaxis\":{\"gridcolor\":\"#EBF0F8\",\"linecolor\":\"#EBF0F8\",\"ticks\":\"\"}},\"scene\":{\"xaxis\":{\"backgroundcolor\":\"white\",\"gridcolor\":\"#DFE8F3\",\"gridwidth\":2,\"linecolor\":\"#EBF0F8\",\"showbackground\":true,\"ticks\":\"\",\"zerolinecolor\":\"#EBF0F8\"},\"yaxis\":{\"backgroundcolor\":\"white\",\"gridcolor\":\"#DFE8F3\",\"gridwidth\":2,\"linecolor\":\"#EBF0F8\",\"showbackground\":true,\"ticks\":\"\",\"zerolinecolor\":\"#EBF0F8\"},\"zaxis\":{\"backgroundcolor\":\"white\",\"gridcolor\":\"#DFE8F3\",\"gridwidth\":2,\"linecolor\":\"#EBF0F8\",\"showbackground\":true,\"ticks\":\"\",\"zerolinecolor\":\"#EBF0F8\"}},\"shapedefaults\":{\"line\":{\"color\":\"#2a3f5f\"}},\"ternary\":{\"aaxis\":{\"gridcolor\":\"#DFE8F3\",\"linecolor\":\"#A2B1C6\",\"ticks\":\"\"},\"baxis\":{\"gridcolor\":\"#DFE8F3\",\"linecolor\":\"#A2B1C6\",\"ticks\":\"\"},\"bgcolor\":\"white\",\"caxis\":{\"gridcolor\":\"#DFE8F3\",\"linecolor\":\"#A2B1C6\",\"ticks\":\"\"}},\"title\":{\"x\":0.05},\"xaxis\":{\"automargin\":true,\"gridcolor\":\"#EBF0F8\",\"linecolor\":\"#EBF0F8\",\"ticks\":\"\",\"title\":{\"standoff\":15},\"zerolinecolor\":\"#EBF0F8\",\"zerolinewidth\":2},\"yaxis\":{\"automargin\":true,\"gridcolor\":\"#EBF0F8\",\"linecolor\":\"#EBF0F8\",\"ticks\":\"\",\"title\":{\"standoff\":15},\"zerolinecolor\":\"#EBF0F8\",\"zerolinewidth\":2}}},\"title\":{\"text\":\"Phantom Dec - 37\\u00b0C MTR-asym\",\"x\":0.02,\"y\":0.97},\"width\":350,\"xaxis\":{\"anchor\":\"y\",\"autorange\":\"reversed\",\"domain\":[0.0,1.0],\"dtick\":1,\"title\":{\"text\":\"ppm\"}},\"yaxis\":{\"anchor\":\"x\",\"domain\":[0.0,1.0],\"dtick\":0.05,\"range\":[0,0.25],\"tick0\":0,\"tickformat\":\".0%\",\"tickmode\":\"linear\",\"title\":{\"text\":\"MTR-asym\"}}},                        {\"responsive\": true}                    ).then(function(){\n                            \nvar gd = document.getElementById('45d31457-aee6-49cf-ac8b-f40faa241600');\nvar x = new MutationObserver(function (mutations, observer) {{\n        var display = window.getComputedStyle(gd).display;\n        if (!display || display === 'none') {{\n            console.log([gd, 'removed!']);\n            Plotly.purge(gd);\n            observer.disconnect();\n        }}\n}});\n\n// Listen for the removal of the full notebook cells\nvar notebookContainer = gd.closest('#notebook-container');\nif (notebookContainer) {{\n    x.observe(notebookContainer, {childList: true});\n}}\n\n// Listen for the clearing of the current output cell\nvar outputEl = gd.closest('.output');\nif (outputEl) {{\n    x.observe(outputEl, {childList: true});\n}}\n\n                        })                };                });            </script>        </div>"
     },
     "metadata": {},
     "output_type": "display_data"
    },
    {
     "data": {
      "application/vnd.plotly.v1+json": {
       "config": {
        "plotlyServerURL": "https://plot.ly"
       },
       "data": [
        {
         "legendgroup": "1_1_1",
         "line": {
          "color": "#1f77b4"
         },
         "name": "a 20 mM, pH 7",
         "showlegend": true,
         "type": "scatter",
         "x": [
          7.0,
          6.75,
          6.5,
          6.25,
          6.0,
          5.75,
          5.5,
          5.25,
          5.0,
          4.75,
          4.5,
          4.25,
          4.0,
          3.75,
          3.5,
          3.25,
          3.0,
          2.75,
          2.5,
          2.25,
          2.0,
          1.75,
          1.5,
          1.25,
          1.0,
          0.75,
          0.5,
          0.25,
          0.0,
          -0.25,
          -0.5,
          -0.75,
          -1.0,
          -1.25,
          -1.5,
          -1.75,
          -2.0,
          -2.25,
          -2.5,
          -2.75,
          -3.0,
          -3.25,
          -3.5,
          -3.75,
          -4.0,
          -4.25,
          -4.5,
          -4.75,
          -5.0,
          -5.25,
          -5.5,
          -5.75,
          -6.0,
          -6.25,
          -6.5,
          -6.75,
          -7.0
         ],
         "xaxis": "x",
         "y": [
          0.8946607684887532,
          0.8930148953497659,
          0.8915271260990373,
          0.8891917491262666,
          0.8874914786946139,
          0.884484512751652,
          0.8800519455193945,
          0.8767372870376762,
          0.8703149252031659,
          0.8645127655275473,
          0.8574481824252193,
          0.8497013991867722,
          0.8401293869359311,
          0.8306873473846613,
          0.8184289789204329,
          0.8041755887470776,
          0.7879162886942156,
          0.7668714970752224,
          0.7426835805324348,
          0.7100456264689529,
          0.6702821447145553,
          0.6176259424451837,
          0.5498212677732564,
          0.46334644882149884,
          0.3560669553678754,
          0.2328789668560993,
          0.11646651990766146,
          0.03340410856635012,
          0.0032367365076918313,
          0.03107794901656724,
          0.12264012235090638,
          0.2578514389007626,
          0.3979407718702849,
          0.5163913726821628,
          0.6077817387839827,
          0.6767293592505979,
          0.7271551249050892,
          0.764754957347351,
          0.7922716546995903,
          0.8135676874546932,
          0.8302668201005291,
          0.8439722321608567,
          0.8533551727509098,
          0.862089047505993,
          0.8698646462958229,
          0.8762775187819004,
          0.8818537997829909,
          0.8868322393339727,
          0.89062555956931,
          0.8930197423672303,
          0.8972728281312095,
          0.8997459910935254,
          0.9002610378366082,
          0.9023087322266462,
          0.9023534928773957,
          0.9037665547177508,
          0.90415547681394
         ],
         "yaxis": "y"
        },
        {
         "legendgroup": "1_1_2",
         "line": {
          "color": "#1f77b4"
         },
         "name": "20 mM, pH 7",
         "showlegend": false,
         "type": "scatter",
         "x": [
          7.0,
          6.75,
          6.5,
          6.25,
          6.0,
          5.75,
          5.5,
          5.25,
          5.0,
          4.75,
          4.5,
          4.25,
          4.0,
          3.75,
          3.5,
          3.25,
          3.0,
          2.75,
          2.5,
          2.25,
          2.0,
          1.75,
          1.5,
          1.25,
          1.0,
          0.75,
          0.5,
          0.25,
          0.0
         ],
         "xaxis": "x",
         "y": [
          0.00949470832518684,
          0.010751659367984945,
          0.010826366778358465,
          0.013116983100379564,
          0.012769559141994291,
          0.015261478341873413,
          0.01722088261181498,
          0.01628245532955408,
          0.02031063436614411,
          0.022319473806425405,
          0.02440561735777169,
          0.026576119595128178,
          0.029735259359891852,
          0.0314017001213317,
          0.034926193830476904,
          0.03979664341377909,
          0.04235053140631351,
          0.046696190379470814,
          0.049588074167155494,
          0.05470933087839813,
          0.056872980190533884,
          0.0591034168054142,
          0.05796047101072632,
          0.053044923860664006,
          0.04187381650240951,
          0.024972472044663324,
          0.006173602443244913,
          -0.00232615954978288,
          0.0
         ],
         "yaxis": "y"
        },
        {
         "legendgroup": "1_1_1",
         "line": {
          "color": "#ff7f0e"
         },
         "name": "b 12 mM, pH 7",
         "showlegend": true,
         "type": "scatter",
         "x": [
          7.0,
          6.75,
          6.5,
          6.25,
          6.0,
          5.75,
          5.5,
          5.25,
          5.0,
          4.75,
          4.5,
          4.25,
          4.0,
          3.75,
          3.5,
          3.25,
          3.0,
          2.75,
          2.5,
          2.25,
          2.0,
          1.75,
          1.5,
          1.25,
          1.0,
          0.75,
          0.5,
          0.25,
          0.0,
          -0.25,
          -0.5,
          -0.75,
          -1.0,
          -1.25,
          -1.5,
          -1.75,
          -2.0,
          -2.25,
          -2.5,
          -2.75,
          -3.0,
          -3.25,
          -3.5,
          -3.75,
          -4.0,
          -4.25,
          -4.5,
          -4.75,
          -5.0,
          -5.25,
          -5.5,
          -5.75,
          -6.0,
          -6.25,
          -6.5,
          -6.75,
          -7.0
         ],
         "xaxis": "x",
         "y": [
          0.8892099004748379,
          0.8880652163449576,
          0.8871112937136659,
          0.8857737192550358,
          0.8827350133400359,
          0.8795019409430094,
          0.8771711970159133,
          0.8751538369820764,
          0.8701227295185187,
          0.8648515806111963,
          0.8597675347168652,
          0.8549362594119242,
          0.8479331533399002,
          0.8395945501520109,
          0.8299109678740976,
          0.8191484758278568,
          0.8053192842224026,
          0.7867772785881815,
          0.7653395497055087,
          0.7392697530660267,
          0.7036944231152468,
          0.6560284423792624,
          0.5953913133545627,
          0.5148759263389557,
          0.40951998074295526,
          0.277145040460459,
          0.14320541795880104,
          0.04039832472285058,
          0.0027770977171608317,
          0.03939792097508123,
          0.1481996106865303,
          0.29991622828476694,
          0.44372668464495346,
          0.5591941931361708,
          0.6418206980342261,
          0.7031359794024353,
          0.747852535403022,
          0.7812534584745668,
          0.8047050167549228,
          0.8223644692489498,
          0.8371948090994179,
          0.8491692927404648,
          0.8568014741709037,
          0.8637420694610722,
          0.8698664132784517,
          0.8753747577897675,
          0.8790434658489042,
          0.8816214945831105,
          0.8848447072871722,
          0.8875340547412158,
          0.8902843202779921,
          0.8916757118818742,
          0.8923548318753092,
          0.8953871346407967,
          0.8953209225885023,
          0.8963608068427616,
          0.8973638764019293
         ],
         "yaxis": "y"
        },
        {
         "legendgroup": "1_1_2",
         "line": {
          "color": "#ff7f0e"
         },
         "name": "12 mM, pH 7",
         "showlegend": false,
         "type": "scatter",
         "x": [
          7.0,
          6.75,
          6.5,
          6.25,
          6.0,
          5.75,
          5.5,
          5.25,
          5.0,
          4.75,
          4.5,
          4.25,
          4.0,
          3.75,
          3.5,
          3.25,
          3.0,
          2.75,
          2.5,
          2.25,
          2.0,
          1.75,
          1.5,
          1.25,
          1.0,
          0.75,
          0.5,
          0.25,
          0.0
         ],
         "xaxis": "x",
         "y": [
          0.008153975927091328,
          0.00829559049780404,
          0.008209628874836339,
          0.009613415385760882,
          0.009619818535273272,
          0.012173770938864847,
          0.013113123262078807,
          0.012380217759139445,
          0.014721977768653582,
          0.016769913971914185,
          0.01927593113203907,
          0.020438498377843284,
          0.021933259938551553,
          0.024147519309061338,
          0.026890506296806116,
          0.03002081691260805,
          0.03187552487701528,
          0.03558719066076832,
          0.03936546704941413,
          0.04198370540854013,
          0.04415811228777522,
          0.04710753702317294,
          0.0464293846796634,
          0.04431826679721507,
          0.0342067039019982,
          0.022771187824307926,
          0.004994192727729246,
          -0.0010004037477693503,
          0.0
         ],
         "yaxis": "y"
        },
        {
         "legendgroup": "1_1_1",
         "line": {
          "color": "#2ca02c"
         },
         "name": "c 16 mM, pH 7",
         "showlegend": true,
         "type": "scatter",
         "x": [
          7.0,
          6.75,
          6.5,
          6.25,
          6.0,
          5.75,
          5.5,
          5.25,
          5.0,
          4.75,
          4.5,
          4.25,
          4.0,
          3.75,
          3.5,
          3.25,
          3.0,
          2.75,
          2.5,
          2.25,
          2.0,
          1.75,
          1.5,
          1.25,
          1.0,
          0.75,
          0.5,
          0.25,
          0.0,
          -0.25,
          -0.5,
          -0.75,
          -1.0,
          -1.25,
          -1.5,
          -1.75,
          -2.0,
          -2.25,
          -2.5,
          -2.75,
          -3.0,
          -3.25,
          -3.5,
          -3.75,
          -4.0,
          -4.25,
          -4.5,
          -4.75,
          -5.0,
          -5.25,
          -5.5,
          -5.75,
          -6.0,
          -6.25,
          -6.5,
          -6.75,
          -7.0
         ],
         "xaxis": "x",
         "y": [
          0.8952516056010068,
          0.8963581108007367,
          0.8937071552105877,
          0.8917799594621224,
          0.8913515077998556,
          0.8918919664090387,
          0.886206282619068,
          0.8828388598598521,
          0.8802091368395708,
          0.8790618726194577,
          0.8741897589920254,
          0.8691299530169041,
          0.8638046891419467,
          0.8593501040662836,
          0.8504546900069558,
          0.8401654954593512,
          0.8300436688413279,
          0.8173880062822128,
          0.7997488482452253,
          0.7773571028936876,
          0.748320005472974,
          0.7108328290428133,
          0.6549826944813146,
          0.5787343013934004,
          0.4778280233393592,
          0.341006837818735,
          0.18937000751762045,
          0.05788706827371095,
          0.003183294620703305,
          0.05039378296296707,
          0.1858090929874671,
          0.3548433909266578,
          0.4976698571100848,
          0.6042706984773778,
          0.680675360656805,
          0.7363377674215071,
          0.7739450297154267,
          0.8003046710600644,
          0.821414595377947,
          0.8374331998095228,
          0.8487142566952696,
          0.857536913908602,
          0.8656284738348984,
          0.8730043605291736,
          0.8770651099391027,
          0.8801747630475315,
          0.8850428685249874,
          0.8893258081774659,
          0.8907166907130728,
          0.8895906071247788,
          0.8938581232823403,
          0.8972370551864051,
          0.8992211875754508,
          0.8984659567279774,
          0.8997213458838562,
          0.9012173937518875,
          0.9022565800346327
         ],
         "yaxis": "y"
        },
        {
         "legendgroup": "1_1_2",
         "line": {
          "color": "#2ca02c"
         },
         "name": "16 mM, pH 7",
         "showlegend": false,
         "type": "scatter",
         "x": [
          7.0,
          6.75,
          6.5,
          6.25,
          6.0,
          5.75,
          5.5,
          5.25,
          5.0,
          4.75,
          4.5,
          4.25,
          4.0,
          3.75,
          3.5,
          3.25,
          3.0,
          2.75,
          2.5,
          2.25,
          2.0,
          1.75,
          1.5,
          1.25,
          1.0,
          0.75,
          0.5,
          0.25,
          0.0
         ],
         "xaxis": "x",
         "y": [
          0.00700497443362591,
          0.0048592829511507896,
          0.006014190673268471,
          0.006685997265854948,
          0.007869679775595162,
          0.005345088777366391,
          0.007651840663272291,
          0.006751747264926666,
          0.010507553873501996,
          0.010263935558008197,
          0.010853109532961924,
          0.011044810030627406,
          0.013260420797155947,
          0.01365425646288998,
          0.015173783827942544,
          0.01737141844925083,
          0.01867058785394171,
          0.020045193527310046,
          0.021665747132721735,
          0.022947568166376775,
          0.02562502424245272,
          0.02550493837869383,
          0.025692666175490375,
          0.02553639708397737,
          0.019841833770725625,
          0.013836553107922811,
          -0.003560914530153364,
          -0.007493285310743877,
          0.0
         ],
         "yaxis": "y"
        }
       ],
       "layout": {
        "annotations": [
         {
          "font": {
           "size": 16
          },
          "showarrow": false,
          "text": "4uT",
          "x": 0.5,
          "xanchor": "center",
          "xref": "paper",
          "y": 1.0,
          "yanchor": "bottom",
          "yref": "paper"
         }
        ],
        "height": 250,
        "margin": {
         "b": 0,
         "l": 45,
         "r": 0,
         "t": 50
        },
        "template": {
         "data": {
          "bar": [
           {
            "error_x": {
             "color": "#2a3f5f"
            },
            "error_y": {
             "color": "#2a3f5f"
            },
            "marker": {
             "line": {
              "color": "white",
              "width": 0.5
             },
             "pattern": {
              "fillmode": "overlay",
              "size": 10,
              "solidity": 0.2
             }
            },
            "type": "bar"
           }
          ],
          "barpolar": [
           {
            "marker": {
             "line": {
              "color": "white",
              "width": 0.5
             },
             "pattern": {
              "fillmode": "overlay",
              "size": 10,
              "solidity": 0.2
             }
            },
            "type": "barpolar"
           }
          ],
          "carpet": [
           {
            "aaxis": {
             "endlinecolor": "#2a3f5f",
             "gridcolor": "#C8D4E3",
             "linecolor": "#C8D4E3",
             "minorgridcolor": "#C8D4E3",
             "startlinecolor": "#2a3f5f"
            },
            "baxis": {
             "endlinecolor": "#2a3f5f",
             "gridcolor": "#C8D4E3",
             "linecolor": "#C8D4E3",
             "minorgridcolor": "#C8D4E3",
             "startlinecolor": "#2a3f5f"
            },
            "type": "carpet"
           }
          ],
          "choropleth": [
           {
            "colorbar": {
             "outlinewidth": 0,
             "ticks": ""
            },
            "type": "choropleth"
           }
          ],
          "contour": [
           {
            "colorbar": {
             "outlinewidth": 0,
             "ticks": ""
            },
            "colorscale": [
             [
              0.0,
              "#0d0887"
             ],
             [
              0.1111111111111111,
              "#46039f"
             ],
             [
              0.2222222222222222,
              "#7201a8"
             ],
             [
              0.3333333333333333,
              "#9c179e"
             ],
             [
              0.4444444444444444,
              "#bd3786"
             ],
             [
              0.5555555555555556,
              "#d8576b"
             ],
             [
              0.6666666666666666,
              "#ed7953"
             ],
             [
              0.7777777777777778,
              "#fb9f3a"
             ],
             [
              0.8888888888888888,
              "#fdca26"
             ],
             [
              1.0,
              "#f0f921"
             ]
            ],
            "type": "contour"
           }
          ],
          "contourcarpet": [
           {
            "colorbar": {
             "outlinewidth": 0,
             "ticks": ""
            },
            "type": "contourcarpet"
           }
          ],
          "heatmap": [
           {
            "colorbar": {
             "outlinewidth": 0,
             "ticks": ""
            },
            "colorscale": [
             [
              0.0,
              "#0d0887"
             ],
             [
              0.1111111111111111,
              "#46039f"
             ],
             [
              0.2222222222222222,
              "#7201a8"
             ],
             [
              0.3333333333333333,
              "#9c179e"
             ],
             [
              0.4444444444444444,
              "#bd3786"
             ],
             [
              0.5555555555555556,
              "#d8576b"
             ],
             [
              0.6666666666666666,
              "#ed7953"
             ],
             [
              0.7777777777777778,
              "#fb9f3a"
             ],
             [
              0.8888888888888888,
              "#fdca26"
             ],
             [
              1.0,
              "#f0f921"
             ]
            ],
            "type": "heatmap"
           }
          ],
          "heatmapgl": [
           {
            "colorbar": {
             "outlinewidth": 0,
             "ticks": ""
            },
            "colorscale": [
             [
              0.0,
              "#0d0887"
             ],
             [
              0.1111111111111111,
              "#46039f"
             ],
             [
              0.2222222222222222,
              "#7201a8"
             ],
             [
              0.3333333333333333,
              "#9c179e"
             ],
             [
              0.4444444444444444,
              "#bd3786"
             ],
             [
              0.5555555555555556,
              "#d8576b"
             ],
             [
              0.6666666666666666,
              "#ed7953"
             ],
             [
              0.7777777777777778,
              "#fb9f3a"
             ],
             [
              0.8888888888888888,
              "#fdca26"
             ],
             [
              1.0,
              "#f0f921"
             ]
            ],
            "type": "heatmapgl"
           }
          ],
          "histogram": [
           {
            "marker": {
             "pattern": {
              "fillmode": "overlay",
              "size": 10,
              "solidity": 0.2
             }
            },
            "type": "histogram"
           }
          ],
          "histogram2d": [
           {
            "colorbar": {
             "outlinewidth": 0,
             "ticks": ""
            },
            "colorscale": [
             [
              0.0,
              "#0d0887"
             ],
             [
              0.1111111111111111,
              "#46039f"
             ],
             [
              0.2222222222222222,
              "#7201a8"
             ],
             [
              0.3333333333333333,
              "#9c179e"
             ],
             [
              0.4444444444444444,
              "#bd3786"
             ],
             [
              0.5555555555555556,
              "#d8576b"
             ],
             [
              0.6666666666666666,
              "#ed7953"
             ],
             [
              0.7777777777777778,
              "#fb9f3a"
             ],
             [
              0.8888888888888888,
              "#fdca26"
             ],
             [
              1.0,
              "#f0f921"
             ]
            ],
            "type": "histogram2d"
           }
          ],
          "histogram2dcontour": [
           {
            "colorbar": {
             "outlinewidth": 0,
             "ticks": ""
            },
            "colorscale": [
             [
              0.0,
              "#0d0887"
             ],
             [
              0.1111111111111111,
              "#46039f"
             ],
             [
              0.2222222222222222,
              "#7201a8"
             ],
             [
              0.3333333333333333,
              "#9c179e"
             ],
             [
              0.4444444444444444,
              "#bd3786"
             ],
             [
              0.5555555555555556,
              "#d8576b"
             ],
             [
              0.6666666666666666,
              "#ed7953"
             ],
             [
              0.7777777777777778,
              "#fb9f3a"
             ],
             [
              0.8888888888888888,
              "#fdca26"
             ],
             [
              1.0,
              "#f0f921"
             ]
            ],
            "type": "histogram2dcontour"
           }
          ],
          "mesh3d": [
           {
            "colorbar": {
             "outlinewidth": 0,
             "ticks": ""
            },
            "type": "mesh3d"
           }
          ],
          "parcoords": [
           {
            "line": {
             "colorbar": {
              "outlinewidth": 0,
              "ticks": ""
             }
            },
            "type": "parcoords"
           }
          ],
          "pie": [
           {
            "automargin": true,
            "type": "pie"
           }
          ],
          "scatter": [
           {
            "marker": {
             "colorbar": {
              "outlinewidth": 0,
              "ticks": ""
             }
            },
            "type": "scatter"
           }
          ],
          "scatter3d": [
           {
            "line": {
             "colorbar": {
              "outlinewidth": 0,
              "ticks": ""
             }
            },
            "marker": {
             "colorbar": {
              "outlinewidth": 0,
              "ticks": ""
             }
            },
            "type": "scatter3d"
           }
          ],
          "scattercarpet": [
           {
            "marker": {
             "colorbar": {
              "outlinewidth": 0,
              "ticks": ""
             }
            },
            "type": "scattercarpet"
           }
          ],
          "scattergeo": [
           {
            "marker": {
             "colorbar": {
              "outlinewidth": 0,
              "ticks": ""
             }
            },
            "type": "scattergeo"
           }
          ],
          "scattergl": [
           {
            "marker": {
             "colorbar": {
              "outlinewidth": 0,
              "ticks": ""
             }
            },
            "type": "scattergl"
           }
          ],
          "scattermapbox": [
           {
            "marker": {
             "colorbar": {
              "outlinewidth": 0,
              "ticks": ""
             }
            },
            "type": "scattermapbox"
           }
          ],
          "scatterpolar": [
           {
            "marker": {
             "colorbar": {
              "outlinewidth": 0,
              "ticks": ""
             }
            },
            "type": "scatterpolar"
           }
          ],
          "scatterpolargl": [
           {
            "marker": {
             "colorbar": {
              "outlinewidth": 0,
              "ticks": ""
             }
            },
            "type": "scatterpolargl"
           }
          ],
          "scatterternary": [
           {
            "marker": {
             "colorbar": {
              "outlinewidth": 0,
              "ticks": ""
             }
            },
            "type": "scatterternary"
           }
          ],
          "surface": [
           {
            "colorbar": {
             "outlinewidth": 0,
             "ticks": ""
            },
            "colorscale": [
             [
              0.0,
              "#0d0887"
             ],
             [
              0.1111111111111111,
              "#46039f"
             ],
             [
              0.2222222222222222,
              "#7201a8"
             ],
             [
              0.3333333333333333,
              "#9c179e"
             ],
             [
              0.4444444444444444,
              "#bd3786"
             ],
             [
              0.5555555555555556,
              "#d8576b"
             ],
             [
              0.6666666666666666,
              "#ed7953"
             ],
             [
              0.7777777777777778,
              "#fb9f3a"
             ],
             [
              0.8888888888888888,
              "#fdca26"
             ],
             [
              1.0,
              "#f0f921"
             ]
            ],
            "type": "surface"
           }
          ],
          "table": [
           {
            "cells": {
             "fill": {
              "color": "#EBF0F8"
             },
             "line": {
              "color": "white"
             }
            },
            "header": {
             "fill": {
              "color": "#C8D4E3"
             },
             "line": {
              "color": "white"
             }
            },
            "type": "table"
           }
          ]
         },
         "layout": {
          "annotationdefaults": {
           "arrowcolor": "#2a3f5f",
           "arrowhead": 0,
           "arrowwidth": 1
          },
          "autotypenumbers": "strict",
          "coloraxis": {
           "colorbar": {
            "outlinewidth": 0,
            "ticks": ""
           }
          },
          "colorscale": {
           "diverging": [
            [
             0,
             "#8e0152"
            ],
            [
             0.1,
             "#c51b7d"
            ],
            [
             0.2,
             "#de77ae"
            ],
            [
             0.3,
             "#f1b6da"
            ],
            [
             0.4,
             "#fde0ef"
            ],
            [
             0.5,
             "#f7f7f7"
            ],
            [
             0.6,
             "#e6f5d0"
            ],
            [
             0.7,
             "#b8e186"
            ],
            [
             0.8,
             "#7fbc41"
            ],
            [
             0.9,
             "#4d9221"
            ],
            [
             1,
             "#276419"
            ]
           ],
           "sequential": [
            [
             0.0,
             "#0d0887"
            ],
            [
             0.1111111111111111,
             "#46039f"
            ],
            [
             0.2222222222222222,
             "#7201a8"
            ],
            [
             0.3333333333333333,
             "#9c179e"
            ],
            [
             0.4444444444444444,
             "#bd3786"
            ],
            [
             0.5555555555555556,
             "#d8576b"
            ],
            [
             0.6666666666666666,
             "#ed7953"
            ],
            [
             0.7777777777777778,
             "#fb9f3a"
            ],
            [
             0.8888888888888888,
             "#fdca26"
            ],
            [
             1.0,
             "#f0f921"
            ]
           ],
           "sequentialminus": [
            [
             0.0,
             "#0d0887"
            ],
            [
             0.1111111111111111,
             "#46039f"
            ],
            [
             0.2222222222222222,
             "#7201a8"
            ],
            [
             0.3333333333333333,
             "#9c179e"
            ],
            [
             0.4444444444444444,
             "#bd3786"
            ],
            [
             0.5555555555555556,
             "#d8576b"
            ],
            [
             0.6666666666666666,
             "#ed7953"
            ],
            [
             0.7777777777777778,
             "#fb9f3a"
            ],
            [
             0.8888888888888888,
             "#fdca26"
            ],
            [
             1.0,
             "#f0f921"
            ]
           ]
          },
          "colorway": [
           "#636efa",
           "#EF553B",
           "#00cc96",
           "#ab63fa",
           "#FFA15A",
           "#19d3f3",
           "#FF6692",
           "#B6E880",
           "#FF97FF",
           "#FECB52"
          ],
          "font": {
           "color": "#2a3f5f"
          },
          "geo": {
           "bgcolor": "white",
           "lakecolor": "white",
           "landcolor": "white",
           "showlakes": true,
           "showland": true,
           "subunitcolor": "#C8D4E3"
          },
          "hoverlabel": {
           "align": "left"
          },
          "hovermode": "closest",
          "mapbox": {
           "style": "light"
          },
          "paper_bgcolor": "white",
          "plot_bgcolor": "white",
          "polar": {
           "angularaxis": {
            "gridcolor": "#EBF0F8",
            "linecolor": "#EBF0F8",
            "ticks": ""
           },
           "bgcolor": "white",
           "radialaxis": {
            "gridcolor": "#EBF0F8",
            "linecolor": "#EBF0F8",
            "ticks": ""
           }
          },
          "scene": {
           "xaxis": {
            "backgroundcolor": "white",
            "gridcolor": "#DFE8F3",
            "gridwidth": 2,
            "linecolor": "#EBF0F8",
            "showbackground": true,
            "ticks": "",
            "zerolinecolor": "#EBF0F8"
           },
           "yaxis": {
            "backgroundcolor": "white",
            "gridcolor": "#DFE8F3",
            "gridwidth": 2,
            "linecolor": "#EBF0F8",
            "showbackground": true,
            "ticks": "",
            "zerolinecolor": "#EBF0F8"
           },
           "zaxis": {
            "backgroundcolor": "white",
            "gridcolor": "#DFE8F3",
            "gridwidth": 2,
            "linecolor": "#EBF0F8",
            "showbackground": true,
            "ticks": "",
            "zerolinecolor": "#EBF0F8"
           }
          },
          "shapedefaults": {
           "line": {
            "color": "#2a3f5f"
           }
          },
          "ternary": {
           "aaxis": {
            "gridcolor": "#DFE8F3",
            "linecolor": "#A2B1C6",
            "ticks": ""
           },
           "baxis": {
            "gridcolor": "#DFE8F3",
            "linecolor": "#A2B1C6",
            "ticks": ""
           },
           "bgcolor": "white",
           "caxis": {
            "gridcolor": "#DFE8F3",
            "linecolor": "#A2B1C6",
            "ticks": ""
           }
          },
          "title": {
           "x": 0.05
          },
          "xaxis": {
           "automargin": true,
           "gridcolor": "#EBF0F8",
           "linecolor": "#EBF0F8",
           "ticks": "",
           "title": {
            "standoff": 15
           },
           "zerolinecolor": "#EBF0F8",
           "zerolinewidth": 2
          },
          "yaxis": {
           "automargin": true,
           "gridcolor": "#EBF0F8",
           "linecolor": "#EBF0F8",
           "ticks": "",
           "title": {
            "standoff": 15
           },
           "zerolinecolor": "#EBF0F8",
           "zerolinewidth": 2
          }
         }
        },
        "title": {
         "text": "Phantom Dec - 40°C Z-spectrum",
         "x": 0.02,
         "y": 0.97
        },
        "width": 500,
        "xaxis": {
         "anchor": "y",
         "autorange": "reversed",
         "domain": [
          0.0,
          1.0
         ],
         "dtick": 1,
         "tick0": 0,
         "tickmode": "linear",
         "title": {
          "text": "ppm"
         }
        },
        "yaxis": {
         "anchor": "x",
         "domain": [
          0.0,
          1.0
         ],
         "dtick": 0.2,
         "range": [
          -0.1,
          1
         ],
         "tick0": 0,
         "tickmode": "linear",
         "title": {
          "standoff": 2,
          "text": "$M_{sat}/M_0$"
         }
        }
       }
      },
      "text/html": "<div>                            <div id=\"dbd0ea1c-ce03-4bcd-8082-4dde6da8f8d9\" class=\"plotly-graph-div\" style=\"height:250px; width:500px;\"></div>            <script type=\"text/javascript\">                require([\"plotly\"], function(Plotly) {                    window.PLOTLYENV=window.PLOTLYENV || {};                                    if (document.getElementById(\"dbd0ea1c-ce03-4bcd-8082-4dde6da8f8d9\")) {                    Plotly.newPlot(                        \"dbd0ea1c-ce03-4bcd-8082-4dde6da8f8d9\",                        [{\"legendgroup\":\"1_1_1\",\"line\":{\"color\":\"#1f77b4\"},\"name\":\"a 20 mM, pH 7\",\"showlegend\":true,\"type\":\"scatter\",\"x\":[7.0,6.75,6.5,6.25,6.0,5.75,5.5,5.25,5.0,4.75,4.5,4.25,4.0,3.75,3.5,3.25,3.0,2.75,2.5,2.25,2.0,1.75,1.5,1.25,1.0,0.75,0.5,0.25,0.0,-0.25,-0.5,-0.75,-1.0,-1.25,-1.5,-1.75,-2.0,-2.25,-2.5,-2.75,-3.0,-3.25,-3.5,-3.75,-4.0,-4.25,-4.5,-4.75,-5.0,-5.25,-5.5,-5.75,-6.0,-6.25,-6.5,-6.75,-7.0],\"xaxis\":\"x\",\"y\":[0.8946607684887532,0.8930148953497659,0.8915271260990373,0.8891917491262666,0.8874914786946139,0.884484512751652,0.8800519455193945,0.8767372870376762,0.8703149252031659,0.8645127655275473,0.8574481824252193,0.8497013991867722,0.8401293869359311,0.8306873473846613,0.8184289789204329,0.8041755887470776,0.7879162886942156,0.7668714970752224,0.7426835805324348,0.7100456264689529,0.6702821447145553,0.6176259424451837,0.5498212677732564,0.46334644882149884,0.3560669553678754,0.2328789668560993,0.11646651990766146,0.03340410856635012,0.0032367365076918313,0.03107794901656724,0.12264012235090638,0.2578514389007626,0.3979407718702849,0.5163913726821628,0.6077817387839827,0.6767293592505979,0.7271551249050892,0.764754957347351,0.7922716546995903,0.8135676874546932,0.8302668201005291,0.8439722321608567,0.8533551727509098,0.862089047505993,0.8698646462958229,0.8762775187819004,0.8818537997829909,0.8868322393339727,0.89062555956931,0.8930197423672303,0.8972728281312095,0.8997459910935254,0.9002610378366082,0.9023087322266462,0.9023534928773957,0.9037665547177508,0.90415547681394],\"yaxis\":\"y\"},{\"legendgroup\":\"1_1_2\",\"line\":{\"color\":\"#1f77b4\"},\"name\":\"20 mM, pH 7\",\"showlegend\":false,\"type\":\"scatter\",\"x\":[7.0,6.75,6.5,6.25,6.0,5.75,5.5,5.25,5.0,4.75,4.5,4.25,4.0,3.75,3.5,3.25,3.0,2.75,2.5,2.25,2.0,1.75,1.5,1.25,1.0,0.75,0.5,0.25,0.0],\"xaxis\":\"x\",\"y\":[0.00949470832518684,0.010751659367984945,0.010826366778358465,0.013116983100379564,0.012769559141994291,0.015261478341873413,0.01722088261181498,0.01628245532955408,0.02031063436614411,0.022319473806425405,0.02440561735777169,0.026576119595128178,0.029735259359891852,0.0314017001213317,0.034926193830476904,0.03979664341377909,0.04235053140631351,0.046696190379470814,0.049588074167155494,0.05470933087839813,0.056872980190533884,0.0591034168054142,0.05796047101072632,0.053044923860664006,0.04187381650240951,0.024972472044663324,0.006173602443244913,-0.00232615954978288,0.0],\"yaxis\":\"y\"},{\"legendgroup\":\"1_1_1\",\"line\":{\"color\":\"#ff7f0e\"},\"name\":\"b 12 mM, pH 7\",\"showlegend\":true,\"type\":\"scatter\",\"x\":[7.0,6.75,6.5,6.25,6.0,5.75,5.5,5.25,5.0,4.75,4.5,4.25,4.0,3.75,3.5,3.25,3.0,2.75,2.5,2.25,2.0,1.75,1.5,1.25,1.0,0.75,0.5,0.25,0.0,-0.25,-0.5,-0.75,-1.0,-1.25,-1.5,-1.75,-2.0,-2.25,-2.5,-2.75,-3.0,-3.25,-3.5,-3.75,-4.0,-4.25,-4.5,-4.75,-5.0,-5.25,-5.5,-5.75,-6.0,-6.25,-6.5,-6.75,-7.0],\"xaxis\":\"x\",\"y\":[0.8892099004748379,0.8880652163449576,0.8871112937136659,0.8857737192550358,0.8827350133400359,0.8795019409430094,0.8771711970159133,0.8751538369820764,0.8701227295185187,0.8648515806111963,0.8597675347168652,0.8549362594119242,0.8479331533399002,0.8395945501520109,0.8299109678740976,0.8191484758278568,0.8053192842224026,0.7867772785881815,0.7653395497055087,0.7392697530660267,0.7036944231152468,0.6560284423792624,0.5953913133545627,0.5148759263389557,0.40951998074295526,0.277145040460459,0.14320541795880104,0.04039832472285058,0.0027770977171608317,0.03939792097508123,0.1481996106865303,0.29991622828476694,0.44372668464495346,0.5591941931361708,0.6418206980342261,0.7031359794024353,0.747852535403022,0.7812534584745668,0.8047050167549228,0.8223644692489498,0.8371948090994179,0.8491692927404648,0.8568014741709037,0.8637420694610722,0.8698664132784517,0.8753747577897675,0.8790434658489042,0.8816214945831105,0.8848447072871722,0.8875340547412158,0.8902843202779921,0.8916757118818742,0.8923548318753092,0.8953871346407967,0.8953209225885023,0.8963608068427616,0.8973638764019293],\"yaxis\":\"y\"},{\"legendgroup\":\"1_1_2\",\"line\":{\"color\":\"#ff7f0e\"},\"name\":\"12 mM, pH 7\",\"showlegend\":false,\"type\":\"scatter\",\"x\":[7.0,6.75,6.5,6.25,6.0,5.75,5.5,5.25,5.0,4.75,4.5,4.25,4.0,3.75,3.5,3.25,3.0,2.75,2.5,2.25,2.0,1.75,1.5,1.25,1.0,0.75,0.5,0.25,0.0],\"xaxis\":\"x\",\"y\":[0.008153975927091328,0.00829559049780404,0.008209628874836339,0.009613415385760882,0.009619818535273272,0.012173770938864847,0.013113123262078807,0.012380217759139445,0.014721977768653582,0.016769913971914185,0.01927593113203907,0.020438498377843284,0.021933259938551553,0.024147519309061338,0.026890506296806116,0.03002081691260805,0.03187552487701528,0.03558719066076832,0.03936546704941413,0.04198370540854013,0.04415811228777522,0.04710753702317294,0.0464293846796634,0.04431826679721507,0.0342067039019982,0.022771187824307926,0.004994192727729246,-0.0010004037477693503,0.0],\"yaxis\":\"y\"},{\"legendgroup\":\"1_1_1\",\"line\":{\"color\":\"#2ca02c\"},\"name\":\"c 16 mM, pH 7\",\"showlegend\":true,\"type\":\"scatter\",\"x\":[7.0,6.75,6.5,6.25,6.0,5.75,5.5,5.25,5.0,4.75,4.5,4.25,4.0,3.75,3.5,3.25,3.0,2.75,2.5,2.25,2.0,1.75,1.5,1.25,1.0,0.75,0.5,0.25,0.0,-0.25,-0.5,-0.75,-1.0,-1.25,-1.5,-1.75,-2.0,-2.25,-2.5,-2.75,-3.0,-3.25,-3.5,-3.75,-4.0,-4.25,-4.5,-4.75,-5.0,-5.25,-5.5,-5.75,-6.0,-6.25,-6.5,-6.75,-7.0],\"xaxis\":\"x\",\"y\":[0.8952516056010068,0.8963581108007367,0.8937071552105877,0.8917799594621224,0.8913515077998556,0.8918919664090387,0.886206282619068,0.8828388598598521,0.8802091368395708,0.8790618726194577,0.8741897589920254,0.8691299530169041,0.8638046891419467,0.8593501040662836,0.8504546900069558,0.8401654954593512,0.8300436688413279,0.8173880062822128,0.7997488482452253,0.7773571028936876,0.748320005472974,0.7108328290428133,0.6549826944813146,0.5787343013934004,0.4778280233393592,0.341006837818735,0.18937000751762045,0.05788706827371095,0.003183294620703305,0.05039378296296707,0.1858090929874671,0.3548433909266578,0.4976698571100848,0.6042706984773778,0.680675360656805,0.7363377674215071,0.7739450297154267,0.8003046710600644,0.821414595377947,0.8374331998095228,0.8487142566952696,0.857536913908602,0.8656284738348984,0.8730043605291736,0.8770651099391027,0.8801747630475315,0.8850428685249874,0.8893258081774659,0.8907166907130728,0.8895906071247788,0.8938581232823403,0.8972370551864051,0.8992211875754508,0.8984659567279774,0.8997213458838562,0.9012173937518875,0.9022565800346327],\"yaxis\":\"y\"},{\"legendgroup\":\"1_1_2\",\"line\":{\"color\":\"#2ca02c\"},\"name\":\"16 mM, pH 7\",\"showlegend\":false,\"type\":\"scatter\",\"x\":[7.0,6.75,6.5,6.25,6.0,5.75,5.5,5.25,5.0,4.75,4.5,4.25,4.0,3.75,3.5,3.25,3.0,2.75,2.5,2.25,2.0,1.75,1.5,1.25,1.0,0.75,0.5,0.25,0.0],\"xaxis\":\"x\",\"y\":[0.00700497443362591,0.0048592829511507896,0.006014190673268471,0.006685997265854948,0.007869679775595162,0.005345088777366391,0.007651840663272291,0.006751747264926666,0.010507553873501996,0.010263935558008197,0.010853109532961924,0.011044810030627406,0.013260420797155947,0.01365425646288998,0.015173783827942544,0.01737141844925083,0.01867058785394171,0.020045193527310046,0.021665747132721735,0.022947568166376775,0.02562502424245272,0.02550493837869383,0.025692666175490375,0.02553639708397737,0.019841833770725625,0.013836553107922811,-0.003560914530153364,-0.007493285310743877,0.0],\"yaxis\":\"y\"}],                        {\"annotations\":[{\"font\":{\"size\":16},\"showarrow\":false,\"text\":\"4uT\",\"x\":0.5,\"xanchor\":\"center\",\"xref\":\"paper\",\"y\":1.0,\"yanchor\":\"bottom\",\"yref\":\"paper\"}],\"height\":250,\"margin\":{\"b\":0,\"l\":45,\"r\":0,\"t\":50},\"template\":{\"data\":{\"bar\":[{\"error_x\":{\"color\":\"#2a3f5f\"},\"error_y\":{\"color\":\"#2a3f5f\"},\"marker\":{\"line\":{\"color\":\"white\",\"width\":0.5},\"pattern\":{\"fillmode\":\"overlay\",\"size\":10,\"solidity\":0.2}},\"type\":\"bar\"}],\"barpolar\":[{\"marker\":{\"line\":{\"color\":\"white\",\"width\":0.5},\"pattern\":{\"fillmode\":\"overlay\",\"size\":10,\"solidity\":0.2}},\"type\":\"barpolar\"}],\"carpet\":[{\"aaxis\":{\"endlinecolor\":\"#2a3f5f\",\"gridcolor\":\"#C8D4E3\",\"linecolor\":\"#C8D4E3\",\"minorgridcolor\":\"#C8D4E3\",\"startlinecolor\":\"#2a3f5f\"},\"baxis\":{\"endlinecolor\":\"#2a3f5f\",\"gridcolor\":\"#C8D4E3\",\"linecolor\":\"#C8D4E3\",\"minorgridcolor\":\"#C8D4E3\",\"startlinecolor\":\"#2a3f5f\"},\"type\":\"carpet\"}],\"choropleth\":[{\"colorbar\":{\"outlinewidth\":0,\"ticks\":\"\"},\"type\":\"choropleth\"}],\"contour\":[{\"colorbar\":{\"outlinewidth\":0,\"ticks\":\"\"},\"colorscale\":[[0.0,\"#0d0887\"],[0.1111111111111111,\"#46039f\"],[0.2222222222222222,\"#7201a8\"],[0.3333333333333333,\"#9c179e\"],[0.4444444444444444,\"#bd3786\"],[0.5555555555555556,\"#d8576b\"],[0.6666666666666666,\"#ed7953\"],[0.7777777777777778,\"#fb9f3a\"],[0.8888888888888888,\"#fdca26\"],[1.0,\"#f0f921\"]],\"type\":\"contour\"}],\"contourcarpet\":[{\"colorbar\":{\"outlinewidth\":0,\"ticks\":\"\"},\"type\":\"contourcarpet\"}],\"heatmap\":[{\"colorbar\":{\"outlinewidth\":0,\"ticks\":\"\"},\"colorscale\":[[0.0,\"#0d0887\"],[0.1111111111111111,\"#46039f\"],[0.2222222222222222,\"#7201a8\"],[0.3333333333333333,\"#9c179e\"],[0.4444444444444444,\"#bd3786\"],[0.5555555555555556,\"#d8576b\"],[0.6666666666666666,\"#ed7953\"],[0.7777777777777778,\"#fb9f3a\"],[0.8888888888888888,\"#fdca26\"],[1.0,\"#f0f921\"]],\"type\":\"heatmap\"}],\"heatmapgl\":[{\"colorbar\":{\"outlinewidth\":0,\"ticks\":\"\"},\"colorscale\":[[0.0,\"#0d0887\"],[0.1111111111111111,\"#46039f\"],[0.2222222222222222,\"#7201a8\"],[0.3333333333333333,\"#9c179e\"],[0.4444444444444444,\"#bd3786\"],[0.5555555555555556,\"#d8576b\"],[0.6666666666666666,\"#ed7953\"],[0.7777777777777778,\"#fb9f3a\"],[0.8888888888888888,\"#fdca26\"],[1.0,\"#f0f921\"]],\"type\":\"heatmapgl\"}],\"histogram\":[{\"marker\":{\"pattern\":{\"fillmode\":\"overlay\",\"size\":10,\"solidity\":0.2}},\"type\":\"histogram\"}],\"histogram2d\":[{\"colorbar\":{\"outlinewidth\":0,\"ticks\":\"\"},\"colorscale\":[[0.0,\"#0d0887\"],[0.1111111111111111,\"#46039f\"],[0.2222222222222222,\"#7201a8\"],[0.3333333333333333,\"#9c179e\"],[0.4444444444444444,\"#bd3786\"],[0.5555555555555556,\"#d8576b\"],[0.6666666666666666,\"#ed7953\"],[0.7777777777777778,\"#fb9f3a\"],[0.8888888888888888,\"#fdca26\"],[1.0,\"#f0f921\"]],\"type\":\"histogram2d\"}],\"histogram2dcontour\":[{\"colorbar\":{\"outlinewidth\":0,\"ticks\":\"\"},\"colorscale\":[[0.0,\"#0d0887\"],[0.1111111111111111,\"#46039f\"],[0.2222222222222222,\"#7201a8\"],[0.3333333333333333,\"#9c179e\"],[0.4444444444444444,\"#bd3786\"],[0.5555555555555556,\"#d8576b\"],[0.6666666666666666,\"#ed7953\"],[0.7777777777777778,\"#fb9f3a\"],[0.8888888888888888,\"#fdca26\"],[1.0,\"#f0f921\"]],\"type\":\"histogram2dcontour\"}],\"mesh3d\":[{\"colorbar\":{\"outlinewidth\":0,\"ticks\":\"\"},\"type\":\"mesh3d\"}],\"parcoords\":[{\"line\":{\"colorbar\":{\"outlinewidth\":0,\"ticks\":\"\"}},\"type\":\"parcoords\"}],\"pie\":[{\"automargin\":true,\"type\":\"pie\"}],\"scatter\":[{\"marker\":{\"colorbar\":{\"outlinewidth\":0,\"ticks\":\"\"}},\"type\":\"scatter\"}],\"scatter3d\":[{\"line\":{\"colorbar\":{\"outlinewidth\":0,\"ticks\":\"\"}},\"marker\":{\"colorbar\":{\"outlinewidth\":0,\"ticks\":\"\"}},\"type\":\"scatter3d\"}],\"scattercarpet\":[{\"marker\":{\"colorbar\":{\"outlinewidth\":0,\"ticks\":\"\"}},\"type\":\"scattercarpet\"}],\"scattergeo\":[{\"marker\":{\"colorbar\":{\"outlinewidth\":0,\"ticks\":\"\"}},\"type\":\"scattergeo\"}],\"scattergl\":[{\"marker\":{\"colorbar\":{\"outlinewidth\":0,\"ticks\":\"\"}},\"type\":\"scattergl\"}],\"scattermapbox\":[{\"marker\":{\"colorbar\":{\"outlinewidth\":0,\"ticks\":\"\"}},\"type\":\"scattermapbox\"}],\"scatterpolar\":[{\"marker\":{\"colorbar\":{\"outlinewidth\":0,\"ticks\":\"\"}},\"type\":\"scatterpolar\"}],\"scatterpolargl\":[{\"marker\":{\"colorbar\":{\"outlinewidth\":0,\"ticks\":\"\"}},\"type\":\"scatterpolargl\"}],\"scatterternary\":[{\"marker\":{\"colorbar\":{\"outlinewidth\":0,\"ticks\":\"\"}},\"type\":\"scatterternary\"}],\"surface\":[{\"colorbar\":{\"outlinewidth\":0,\"ticks\":\"\"},\"colorscale\":[[0.0,\"#0d0887\"],[0.1111111111111111,\"#46039f\"],[0.2222222222222222,\"#7201a8\"],[0.3333333333333333,\"#9c179e\"],[0.4444444444444444,\"#bd3786\"],[0.5555555555555556,\"#d8576b\"],[0.6666666666666666,\"#ed7953\"],[0.7777777777777778,\"#fb9f3a\"],[0.8888888888888888,\"#fdca26\"],[1.0,\"#f0f921\"]],\"type\":\"surface\"}],\"table\":[{\"cells\":{\"fill\":{\"color\":\"#EBF0F8\"},\"line\":{\"color\":\"white\"}},\"header\":{\"fill\":{\"color\":\"#C8D4E3\"},\"line\":{\"color\":\"white\"}},\"type\":\"table\"}]},\"layout\":{\"annotationdefaults\":{\"arrowcolor\":\"#2a3f5f\",\"arrowhead\":0,\"arrowwidth\":1},\"autotypenumbers\":\"strict\",\"coloraxis\":{\"colorbar\":{\"outlinewidth\":0,\"ticks\":\"\"}},\"colorscale\":{\"diverging\":[[0,\"#8e0152\"],[0.1,\"#c51b7d\"],[0.2,\"#de77ae\"],[0.3,\"#f1b6da\"],[0.4,\"#fde0ef\"],[0.5,\"#f7f7f7\"],[0.6,\"#e6f5d0\"],[0.7,\"#b8e186\"],[0.8,\"#7fbc41\"],[0.9,\"#4d9221\"],[1,\"#276419\"]],\"sequential\":[[0.0,\"#0d0887\"],[0.1111111111111111,\"#46039f\"],[0.2222222222222222,\"#7201a8\"],[0.3333333333333333,\"#9c179e\"],[0.4444444444444444,\"#bd3786\"],[0.5555555555555556,\"#d8576b\"],[0.6666666666666666,\"#ed7953\"],[0.7777777777777778,\"#fb9f3a\"],[0.8888888888888888,\"#fdca26\"],[1.0,\"#f0f921\"]],\"sequentialminus\":[[0.0,\"#0d0887\"],[0.1111111111111111,\"#46039f\"],[0.2222222222222222,\"#7201a8\"],[0.3333333333333333,\"#9c179e\"],[0.4444444444444444,\"#bd3786\"],[0.5555555555555556,\"#d8576b\"],[0.6666666666666666,\"#ed7953\"],[0.7777777777777778,\"#fb9f3a\"],[0.8888888888888888,\"#fdca26\"],[1.0,\"#f0f921\"]]},\"colorway\":[\"#636efa\",\"#EF553B\",\"#00cc96\",\"#ab63fa\",\"#FFA15A\",\"#19d3f3\",\"#FF6692\",\"#B6E880\",\"#FF97FF\",\"#FECB52\"],\"font\":{\"color\":\"#2a3f5f\"},\"geo\":{\"bgcolor\":\"white\",\"lakecolor\":\"white\",\"landcolor\":\"white\",\"showlakes\":true,\"showland\":true,\"subunitcolor\":\"#C8D4E3\"},\"hoverlabel\":{\"align\":\"left\"},\"hovermode\":\"closest\",\"mapbox\":{\"style\":\"light\"},\"paper_bgcolor\":\"white\",\"plot_bgcolor\":\"white\",\"polar\":{\"angularaxis\":{\"gridcolor\":\"#EBF0F8\",\"linecolor\":\"#EBF0F8\",\"ticks\":\"\"},\"bgcolor\":\"white\",\"radialaxis\":{\"gridcolor\":\"#EBF0F8\",\"linecolor\":\"#EBF0F8\",\"ticks\":\"\"}},\"scene\":{\"xaxis\":{\"backgroundcolor\":\"white\",\"gridcolor\":\"#DFE8F3\",\"gridwidth\":2,\"linecolor\":\"#EBF0F8\",\"showbackground\":true,\"ticks\":\"\",\"zerolinecolor\":\"#EBF0F8\"},\"yaxis\":{\"backgroundcolor\":\"white\",\"gridcolor\":\"#DFE8F3\",\"gridwidth\":2,\"linecolor\":\"#EBF0F8\",\"showbackground\":true,\"ticks\":\"\",\"zerolinecolor\":\"#EBF0F8\"},\"zaxis\":{\"backgroundcolor\":\"white\",\"gridcolor\":\"#DFE8F3\",\"gridwidth\":2,\"linecolor\":\"#EBF0F8\",\"showbackground\":true,\"ticks\":\"\",\"zerolinecolor\":\"#EBF0F8\"}},\"shapedefaults\":{\"line\":{\"color\":\"#2a3f5f\"}},\"ternary\":{\"aaxis\":{\"gridcolor\":\"#DFE8F3\",\"linecolor\":\"#A2B1C6\",\"ticks\":\"\"},\"baxis\":{\"gridcolor\":\"#DFE8F3\",\"linecolor\":\"#A2B1C6\",\"ticks\":\"\"},\"bgcolor\":\"white\",\"caxis\":{\"gridcolor\":\"#DFE8F3\",\"linecolor\":\"#A2B1C6\",\"ticks\":\"\"}},\"title\":{\"x\":0.05},\"xaxis\":{\"automargin\":true,\"gridcolor\":\"#EBF0F8\",\"linecolor\":\"#EBF0F8\",\"ticks\":\"\",\"title\":{\"standoff\":15},\"zerolinecolor\":\"#EBF0F8\",\"zerolinewidth\":2},\"yaxis\":{\"automargin\":true,\"gridcolor\":\"#EBF0F8\",\"linecolor\":\"#EBF0F8\",\"ticks\":\"\",\"title\":{\"standoff\":15},\"zerolinecolor\":\"#EBF0F8\",\"zerolinewidth\":2}}},\"title\":{\"text\":\"Phantom Dec - 40\\u00b0C Z-spectrum\",\"x\":0.02,\"y\":0.97},\"width\":500,\"xaxis\":{\"anchor\":\"y\",\"autorange\":\"reversed\",\"domain\":[0.0,1.0],\"dtick\":1,\"tick0\":0,\"tickmode\":\"linear\",\"title\":{\"text\":\"ppm\"}},\"yaxis\":{\"anchor\":\"x\",\"domain\":[0.0,1.0],\"dtick\":0.2,\"range\":[-0.1,1],\"tick0\":0,\"tickmode\":\"linear\",\"title\":{\"standoff\":2,\"text\":\"$M_{sat}/M_0$\"}}},                        {\"responsive\": true}                    ).then(function(){\n                            \nvar gd = document.getElementById('dbd0ea1c-ce03-4bcd-8082-4dde6da8f8d9');\nvar x = new MutationObserver(function (mutations, observer) {{\n        var display = window.getComputedStyle(gd).display;\n        if (!display || display === 'none') {{\n            console.log([gd, 'removed!']);\n            Plotly.purge(gd);\n            observer.disconnect();\n        }}\n}});\n\n// Listen for the removal of the full notebook cells\nvar notebookContainer = gd.closest('#notebook-container');\nif (notebookContainer) {{\n    x.observe(notebookContainer, {childList: true});\n}}\n\n// Listen for the clearing of the current output cell\nvar outputEl = gd.closest('.output');\nif (outputEl) {{\n    x.observe(outputEl, {childList: true});\n}}\n\n                        })                };                });            </script>        </div>"
     },
     "metadata": {},
     "output_type": "display_data"
    },
    {
     "data": {
      "application/vnd.plotly.v1+json": {
       "config": {
        "plotlyServerURL": "https://plot.ly"
       },
       "data": [
        {
         "legendgroup": "1_1_2",
         "line": {
          "color": "#1f77b4"
         },
         "name": "20 mM, pH 7",
         "showlegend": true,
         "type": "scatter",
         "x": [
          7.0,
          6.75,
          6.5,
          6.25,
          6.0,
          5.75,
          5.5,
          5.25,
          5.0,
          4.75,
          4.5,
          4.25,
          4.0,
          3.75,
          3.5,
          3.25,
          3.0,
          2.75,
          2.5,
          2.25,
          2.0,
          1.75,
          1.5,
          1.25,
          1.0,
          0.75,
          0.5,
          0.25,
          0.0
         ],
         "xaxis": "x",
         "y": [
          0.00949470832518684,
          0.010751659367984945,
          0.010826366778358465,
          0.013116983100379564,
          0.012769559141994291,
          0.015261478341873413,
          0.01722088261181498,
          0.01628245532955408,
          0.02031063436614411,
          0.022319473806425405,
          0.02440561735777169,
          0.026576119595128178,
          0.029735259359891852,
          0.0314017001213317,
          0.034926193830476904,
          0.03979664341377909,
          0.04235053140631351,
          0.046696190379470814,
          0.049588074167155494,
          0.05470933087839813,
          0.056872980190533884,
          0.0591034168054142,
          0.05796047101072632,
          0.053044923860664006,
          0.04187381650240951,
          0.024972472044663324,
          0.006173602443244913,
          -0.00232615954978288,
          0.0
         ],
         "yaxis": "y"
        },
        {
         "legendgroup": "1_1_2",
         "line": {
          "color": "#ff7f0e"
         },
         "name": "12 mM, pH 7",
         "showlegend": true,
         "type": "scatter",
         "x": [
          7.0,
          6.75,
          6.5,
          6.25,
          6.0,
          5.75,
          5.5,
          5.25,
          5.0,
          4.75,
          4.5,
          4.25,
          4.0,
          3.75,
          3.5,
          3.25,
          3.0,
          2.75,
          2.5,
          2.25,
          2.0,
          1.75,
          1.5,
          1.25,
          1.0,
          0.75,
          0.5,
          0.25,
          0.0
         ],
         "xaxis": "x",
         "y": [
          0.008153975927091328,
          0.00829559049780404,
          0.008209628874836339,
          0.009613415385760882,
          0.009619818535273272,
          0.012173770938864847,
          0.013113123262078807,
          0.012380217759139445,
          0.014721977768653582,
          0.016769913971914185,
          0.01927593113203907,
          0.020438498377843284,
          0.021933259938551553,
          0.024147519309061338,
          0.026890506296806116,
          0.03002081691260805,
          0.03187552487701528,
          0.03558719066076832,
          0.03936546704941413,
          0.04198370540854013,
          0.04415811228777522,
          0.04710753702317294,
          0.0464293846796634,
          0.04431826679721507,
          0.0342067039019982,
          0.022771187824307926,
          0.004994192727729246,
          -0.0010004037477693503,
          0.0
         ],
         "yaxis": "y"
        },
        {
         "legendgroup": "1_1_2",
         "line": {
          "color": "#2ca02c"
         },
         "name": "16 mM, pH 7",
         "showlegend": true,
         "type": "scatter",
         "x": [
          7.0,
          6.75,
          6.5,
          6.25,
          6.0,
          5.75,
          5.5,
          5.25,
          5.0,
          4.75,
          4.5,
          4.25,
          4.0,
          3.75,
          3.5,
          3.25,
          3.0,
          2.75,
          2.5,
          2.25,
          2.0,
          1.75,
          1.5,
          1.25,
          1.0,
          0.75,
          0.5,
          0.25,
          0.0
         ],
         "xaxis": "x",
         "y": [
          0.00700497443362591,
          0.0048592829511507896,
          0.006014190673268471,
          0.006685997265854948,
          0.007869679775595162,
          0.005345088777366391,
          0.007651840663272291,
          0.006751747264926666,
          0.010507553873501996,
          0.010263935558008197,
          0.010853109532961924,
          0.011044810030627406,
          0.013260420797155947,
          0.01365425646288998,
          0.015173783827942544,
          0.01737141844925083,
          0.01867058785394171,
          0.020045193527310046,
          0.021665747132721735,
          0.022947568166376775,
          0.02562502424245272,
          0.02550493837869383,
          0.025692666175490375,
          0.02553639708397737,
          0.019841833770725625,
          0.013836553107922811,
          -0.003560914530153364,
          -0.007493285310743877,
          0.0
         ],
         "yaxis": "y"
        }
       ],
       "layout": {
        "annotations": [
         {
          "font": {
           "size": 16
          },
          "showarrow": false,
          "text": "4uT",
          "x": 0.5,
          "xanchor": "center",
          "xref": "paper",
          "y": 1.0,
          "yanchor": "bottom",
          "yref": "paper"
         }
        ],
        "height": 250,
        "margin": {
         "b": 0,
         "l": 0,
         "r": 0,
         "t": 60
        },
        "template": {
         "data": {
          "bar": [
           {
            "error_x": {
             "color": "#2a3f5f"
            },
            "error_y": {
             "color": "#2a3f5f"
            },
            "marker": {
             "line": {
              "color": "white",
              "width": 0.5
             },
             "pattern": {
              "fillmode": "overlay",
              "size": 10,
              "solidity": 0.2
             }
            },
            "type": "bar"
           }
          ],
          "barpolar": [
           {
            "marker": {
             "line": {
              "color": "white",
              "width": 0.5
             },
             "pattern": {
              "fillmode": "overlay",
              "size": 10,
              "solidity": 0.2
             }
            },
            "type": "barpolar"
           }
          ],
          "carpet": [
           {
            "aaxis": {
             "endlinecolor": "#2a3f5f",
             "gridcolor": "#C8D4E3",
             "linecolor": "#C8D4E3",
             "minorgridcolor": "#C8D4E3",
             "startlinecolor": "#2a3f5f"
            },
            "baxis": {
             "endlinecolor": "#2a3f5f",
             "gridcolor": "#C8D4E3",
             "linecolor": "#C8D4E3",
             "minorgridcolor": "#C8D4E3",
             "startlinecolor": "#2a3f5f"
            },
            "type": "carpet"
           }
          ],
          "choropleth": [
           {
            "colorbar": {
             "outlinewidth": 0,
             "ticks": ""
            },
            "type": "choropleth"
           }
          ],
          "contour": [
           {
            "colorbar": {
             "outlinewidth": 0,
             "ticks": ""
            },
            "colorscale": [
             [
              0.0,
              "#0d0887"
             ],
             [
              0.1111111111111111,
              "#46039f"
             ],
             [
              0.2222222222222222,
              "#7201a8"
             ],
             [
              0.3333333333333333,
              "#9c179e"
             ],
             [
              0.4444444444444444,
              "#bd3786"
             ],
             [
              0.5555555555555556,
              "#d8576b"
             ],
             [
              0.6666666666666666,
              "#ed7953"
             ],
             [
              0.7777777777777778,
              "#fb9f3a"
             ],
             [
              0.8888888888888888,
              "#fdca26"
             ],
             [
              1.0,
              "#f0f921"
             ]
            ],
            "type": "contour"
           }
          ],
          "contourcarpet": [
           {
            "colorbar": {
             "outlinewidth": 0,
             "ticks": ""
            },
            "type": "contourcarpet"
           }
          ],
          "heatmap": [
           {
            "colorbar": {
             "outlinewidth": 0,
             "ticks": ""
            },
            "colorscale": [
             [
              0.0,
              "#0d0887"
             ],
             [
              0.1111111111111111,
              "#46039f"
             ],
             [
              0.2222222222222222,
              "#7201a8"
             ],
             [
              0.3333333333333333,
              "#9c179e"
             ],
             [
              0.4444444444444444,
              "#bd3786"
             ],
             [
              0.5555555555555556,
              "#d8576b"
             ],
             [
              0.6666666666666666,
              "#ed7953"
             ],
             [
              0.7777777777777778,
              "#fb9f3a"
             ],
             [
              0.8888888888888888,
              "#fdca26"
             ],
             [
              1.0,
              "#f0f921"
             ]
            ],
            "type": "heatmap"
           }
          ],
          "heatmapgl": [
           {
            "colorbar": {
             "outlinewidth": 0,
             "ticks": ""
            },
            "colorscale": [
             [
              0.0,
              "#0d0887"
             ],
             [
              0.1111111111111111,
              "#46039f"
             ],
             [
              0.2222222222222222,
              "#7201a8"
             ],
             [
              0.3333333333333333,
              "#9c179e"
             ],
             [
              0.4444444444444444,
              "#bd3786"
             ],
             [
              0.5555555555555556,
              "#d8576b"
             ],
             [
              0.6666666666666666,
              "#ed7953"
             ],
             [
              0.7777777777777778,
              "#fb9f3a"
             ],
             [
              0.8888888888888888,
              "#fdca26"
             ],
             [
              1.0,
              "#f0f921"
             ]
            ],
            "type": "heatmapgl"
           }
          ],
          "histogram": [
           {
            "marker": {
             "pattern": {
              "fillmode": "overlay",
              "size": 10,
              "solidity": 0.2
             }
            },
            "type": "histogram"
           }
          ],
          "histogram2d": [
           {
            "colorbar": {
             "outlinewidth": 0,
             "ticks": ""
            },
            "colorscale": [
             [
              0.0,
              "#0d0887"
             ],
             [
              0.1111111111111111,
              "#46039f"
             ],
             [
              0.2222222222222222,
              "#7201a8"
             ],
             [
              0.3333333333333333,
              "#9c179e"
             ],
             [
              0.4444444444444444,
              "#bd3786"
             ],
             [
              0.5555555555555556,
              "#d8576b"
             ],
             [
              0.6666666666666666,
              "#ed7953"
             ],
             [
              0.7777777777777778,
              "#fb9f3a"
             ],
             [
              0.8888888888888888,
              "#fdca26"
             ],
             [
              1.0,
              "#f0f921"
             ]
            ],
            "type": "histogram2d"
           }
          ],
          "histogram2dcontour": [
           {
            "colorbar": {
             "outlinewidth": 0,
             "ticks": ""
            },
            "colorscale": [
             [
              0.0,
              "#0d0887"
             ],
             [
              0.1111111111111111,
              "#46039f"
             ],
             [
              0.2222222222222222,
              "#7201a8"
             ],
             [
              0.3333333333333333,
              "#9c179e"
             ],
             [
              0.4444444444444444,
              "#bd3786"
             ],
             [
              0.5555555555555556,
              "#d8576b"
             ],
             [
              0.6666666666666666,
              "#ed7953"
             ],
             [
              0.7777777777777778,
              "#fb9f3a"
             ],
             [
              0.8888888888888888,
              "#fdca26"
             ],
             [
              1.0,
              "#f0f921"
             ]
            ],
            "type": "histogram2dcontour"
           }
          ],
          "mesh3d": [
           {
            "colorbar": {
             "outlinewidth": 0,
             "ticks": ""
            },
            "type": "mesh3d"
           }
          ],
          "parcoords": [
           {
            "line": {
             "colorbar": {
              "outlinewidth": 0,
              "ticks": ""
             }
            },
            "type": "parcoords"
           }
          ],
          "pie": [
           {
            "automargin": true,
            "type": "pie"
           }
          ],
          "scatter": [
           {
            "marker": {
             "colorbar": {
              "outlinewidth": 0,
              "ticks": ""
             }
            },
            "type": "scatter"
           }
          ],
          "scatter3d": [
           {
            "line": {
             "colorbar": {
              "outlinewidth": 0,
              "ticks": ""
             }
            },
            "marker": {
             "colorbar": {
              "outlinewidth": 0,
              "ticks": ""
             }
            },
            "type": "scatter3d"
           }
          ],
          "scattercarpet": [
           {
            "marker": {
             "colorbar": {
              "outlinewidth": 0,
              "ticks": ""
             }
            },
            "type": "scattercarpet"
           }
          ],
          "scattergeo": [
           {
            "marker": {
             "colorbar": {
              "outlinewidth": 0,
              "ticks": ""
             }
            },
            "type": "scattergeo"
           }
          ],
          "scattergl": [
           {
            "marker": {
             "colorbar": {
              "outlinewidth": 0,
              "ticks": ""
             }
            },
            "type": "scattergl"
           }
          ],
          "scattermapbox": [
           {
            "marker": {
             "colorbar": {
              "outlinewidth": 0,
              "ticks": ""
             }
            },
            "type": "scattermapbox"
           }
          ],
          "scatterpolar": [
           {
            "marker": {
             "colorbar": {
              "outlinewidth": 0,
              "ticks": ""
             }
            },
            "type": "scatterpolar"
           }
          ],
          "scatterpolargl": [
           {
            "marker": {
             "colorbar": {
              "outlinewidth": 0,
              "ticks": ""
             }
            },
            "type": "scatterpolargl"
           }
          ],
          "scatterternary": [
           {
            "marker": {
             "colorbar": {
              "outlinewidth": 0,
              "ticks": ""
             }
            },
            "type": "scatterternary"
           }
          ],
          "surface": [
           {
            "colorbar": {
             "outlinewidth": 0,
             "ticks": ""
            },
            "colorscale": [
             [
              0.0,
              "#0d0887"
             ],
             [
              0.1111111111111111,
              "#46039f"
             ],
             [
              0.2222222222222222,
              "#7201a8"
             ],
             [
              0.3333333333333333,
              "#9c179e"
             ],
             [
              0.4444444444444444,
              "#bd3786"
             ],
             [
              0.5555555555555556,
              "#d8576b"
             ],
             [
              0.6666666666666666,
              "#ed7953"
             ],
             [
              0.7777777777777778,
              "#fb9f3a"
             ],
             [
              0.8888888888888888,
              "#fdca26"
             ],
             [
              1.0,
              "#f0f921"
             ]
            ],
            "type": "surface"
           }
          ],
          "table": [
           {
            "cells": {
             "fill": {
              "color": "#EBF0F8"
             },
             "line": {
              "color": "white"
             }
            },
            "header": {
             "fill": {
              "color": "#C8D4E3"
             },
             "line": {
              "color": "white"
             }
            },
            "type": "table"
           }
          ]
         },
         "layout": {
          "annotationdefaults": {
           "arrowcolor": "#2a3f5f",
           "arrowhead": 0,
           "arrowwidth": 1
          },
          "autotypenumbers": "strict",
          "coloraxis": {
           "colorbar": {
            "outlinewidth": 0,
            "ticks": ""
           }
          },
          "colorscale": {
           "diverging": [
            [
             0,
             "#8e0152"
            ],
            [
             0.1,
             "#c51b7d"
            ],
            [
             0.2,
             "#de77ae"
            ],
            [
             0.3,
             "#f1b6da"
            ],
            [
             0.4,
             "#fde0ef"
            ],
            [
             0.5,
             "#f7f7f7"
            ],
            [
             0.6,
             "#e6f5d0"
            ],
            [
             0.7,
             "#b8e186"
            ],
            [
             0.8,
             "#7fbc41"
            ],
            [
             0.9,
             "#4d9221"
            ],
            [
             1,
             "#276419"
            ]
           ],
           "sequential": [
            [
             0.0,
             "#0d0887"
            ],
            [
             0.1111111111111111,
             "#46039f"
            ],
            [
             0.2222222222222222,
             "#7201a8"
            ],
            [
             0.3333333333333333,
             "#9c179e"
            ],
            [
             0.4444444444444444,
             "#bd3786"
            ],
            [
             0.5555555555555556,
             "#d8576b"
            ],
            [
             0.6666666666666666,
             "#ed7953"
            ],
            [
             0.7777777777777778,
             "#fb9f3a"
            ],
            [
             0.8888888888888888,
             "#fdca26"
            ],
            [
             1.0,
             "#f0f921"
            ]
           ],
           "sequentialminus": [
            [
             0.0,
             "#0d0887"
            ],
            [
             0.1111111111111111,
             "#46039f"
            ],
            [
             0.2222222222222222,
             "#7201a8"
            ],
            [
             0.3333333333333333,
             "#9c179e"
            ],
            [
             0.4444444444444444,
             "#bd3786"
            ],
            [
             0.5555555555555556,
             "#d8576b"
            ],
            [
             0.6666666666666666,
             "#ed7953"
            ],
            [
             0.7777777777777778,
             "#fb9f3a"
            ],
            [
             0.8888888888888888,
             "#fdca26"
            ],
            [
             1.0,
             "#f0f921"
            ]
           ]
          },
          "colorway": [
           "#636efa",
           "#EF553B",
           "#00cc96",
           "#ab63fa",
           "#FFA15A",
           "#19d3f3",
           "#FF6692",
           "#B6E880",
           "#FF97FF",
           "#FECB52"
          ],
          "font": {
           "color": "#2a3f5f"
          },
          "geo": {
           "bgcolor": "white",
           "lakecolor": "white",
           "landcolor": "white",
           "showlakes": true,
           "showland": true,
           "subunitcolor": "#C8D4E3"
          },
          "hoverlabel": {
           "align": "left"
          },
          "hovermode": "closest",
          "mapbox": {
           "style": "light"
          },
          "paper_bgcolor": "white",
          "plot_bgcolor": "white",
          "polar": {
           "angularaxis": {
            "gridcolor": "#EBF0F8",
            "linecolor": "#EBF0F8",
            "ticks": ""
           },
           "bgcolor": "white",
           "radialaxis": {
            "gridcolor": "#EBF0F8",
            "linecolor": "#EBF0F8",
            "ticks": ""
           }
          },
          "scene": {
           "xaxis": {
            "backgroundcolor": "white",
            "gridcolor": "#DFE8F3",
            "gridwidth": 2,
            "linecolor": "#EBF0F8",
            "showbackground": true,
            "ticks": "",
            "zerolinecolor": "#EBF0F8"
           },
           "yaxis": {
            "backgroundcolor": "white",
            "gridcolor": "#DFE8F3",
            "gridwidth": 2,
            "linecolor": "#EBF0F8",
            "showbackground": true,
            "ticks": "",
            "zerolinecolor": "#EBF0F8"
           },
           "zaxis": {
            "backgroundcolor": "white",
            "gridcolor": "#DFE8F3",
            "gridwidth": 2,
            "linecolor": "#EBF0F8",
            "showbackground": true,
            "ticks": "",
            "zerolinecolor": "#EBF0F8"
           }
          },
          "shapedefaults": {
           "line": {
            "color": "#2a3f5f"
           }
          },
          "ternary": {
           "aaxis": {
            "gridcolor": "#DFE8F3",
            "linecolor": "#A2B1C6",
            "ticks": ""
           },
           "baxis": {
            "gridcolor": "#DFE8F3",
            "linecolor": "#A2B1C6",
            "ticks": ""
           },
           "bgcolor": "white",
           "caxis": {
            "gridcolor": "#DFE8F3",
            "linecolor": "#A2B1C6",
            "ticks": ""
           }
          },
          "title": {
           "x": 0.05
          },
          "xaxis": {
           "automargin": true,
           "gridcolor": "#EBF0F8",
           "linecolor": "#EBF0F8",
           "ticks": "",
           "title": {
            "standoff": 15
           },
           "zerolinecolor": "#EBF0F8",
           "zerolinewidth": 2
          },
          "yaxis": {
           "automargin": true,
           "gridcolor": "#EBF0F8",
           "linecolor": "#EBF0F8",
           "ticks": "",
           "title": {
            "standoff": 15
           },
           "zerolinecolor": "#EBF0F8",
           "zerolinewidth": 2
          }
         }
        },
        "title": {
         "text": "Phantom Dec - 40°C MTR-asym",
         "x": 0.02,
         "y": 0.97
        },
        "width": 350,
        "xaxis": {
         "anchor": "y",
         "autorange": "reversed",
         "domain": [
          0.0,
          1.0
         ],
         "dtick": 1,
         "title": {
          "text": "ppm"
         }
        },
        "yaxis": {
         "anchor": "x",
         "domain": [
          0.0,
          1.0
         ],
         "dtick": 0.05,
         "range": [
          0,
          0.25
         ],
         "tick0": 0,
         "tickformat": ".0%",
         "tickmode": "linear",
         "title": {
          "text": "MTR-asym"
         }
        }
       }
      },
      "text/html": "<div>                            <div id=\"864ff981-2b8f-446c-bbb7-5b412c09c0bc\" class=\"plotly-graph-div\" style=\"height:250px; width:350px;\"></div>            <script type=\"text/javascript\">                require([\"plotly\"], function(Plotly) {                    window.PLOTLYENV=window.PLOTLYENV || {};                                    if (document.getElementById(\"864ff981-2b8f-446c-bbb7-5b412c09c0bc\")) {                    Plotly.newPlot(                        \"864ff981-2b8f-446c-bbb7-5b412c09c0bc\",                        [{\"legendgroup\":\"1_1_2\",\"line\":{\"color\":\"#1f77b4\"},\"name\":\"20 mM, pH 7\",\"showlegend\":true,\"type\":\"scatter\",\"x\":[7.0,6.75,6.5,6.25,6.0,5.75,5.5,5.25,5.0,4.75,4.5,4.25,4.0,3.75,3.5,3.25,3.0,2.75,2.5,2.25,2.0,1.75,1.5,1.25,1.0,0.75,0.5,0.25,0.0],\"xaxis\":\"x\",\"y\":[0.00949470832518684,0.010751659367984945,0.010826366778358465,0.013116983100379564,0.012769559141994291,0.015261478341873413,0.01722088261181498,0.01628245532955408,0.02031063436614411,0.022319473806425405,0.02440561735777169,0.026576119595128178,0.029735259359891852,0.0314017001213317,0.034926193830476904,0.03979664341377909,0.04235053140631351,0.046696190379470814,0.049588074167155494,0.05470933087839813,0.056872980190533884,0.0591034168054142,0.05796047101072632,0.053044923860664006,0.04187381650240951,0.024972472044663324,0.006173602443244913,-0.00232615954978288,0.0],\"yaxis\":\"y\"},{\"legendgroup\":\"1_1_2\",\"line\":{\"color\":\"#ff7f0e\"},\"name\":\"12 mM, pH 7\",\"showlegend\":true,\"type\":\"scatter\",\"x\":[7.0,6.75,6.5,6.25,6.0,5.75,5.5,5.25,5.0,4.75,4.5,4.25,4.0,3.75,3.5,3.25,3.0,2.75,2.5,2.25,2.0,1.75,1.5,1.25,1.0,0.75,0.5,0.25,0.0],\"xaxis\":\"x\",\"y\":[0.008153975927091328,0.00829559049780404,0.008209628874836339,0.009613415385760882,0.009619818535273272,0.012173770938864847,0.013113123262078807,0.012380217759139445,0.014721977768653582,0.016769913971914185,0.01927593113203907,0.020438498377843284,0.021933259938551553,0.024147519309061338,0.026890506296806116,0.03002081691260805,0.03187552487701528,0.03558719066076832,0.03936546704941413,0.04198370540854013,0.04415811228777522,0.04710753702317294,0.0464293846796634,0.04431826679721507,0.0342067039019982,0.022771187824307926,0.004994192727729246,-0.0010004037477693503,0.0],\"yaxis\":\"y\"},{\"legendgroup\":\"1_1_2\",\"line\":{\"color\":\"#2ca02c\"},\"name\":\"16 mM, pH 7\",\"showlegend\":true,\"type\":\"scatter\",\"x\":[7.0,6.75,6.5,6.25,6.0,5.75,5.5,5.25,5.0,4.75,4.5,4.25,4.0,3.75,3.5,3.25,3.0,2.75,2.5,2.25,2.0,1.75,1.5,1.25,1.0,0.75,0.5,0.25,0.0],\"xaxis\":\"x\",\"y\":[0.00700497443362591,0.0048592829511507896,0.006014190673268471,0.006685997265854948,0.007869679775595162,0.005345088777366391,0.007651840663272291,0.006751747264926666,0.010507553873501996,0.010263935558008197,0.010853109532961924,0.011044810030627406,0.013260420797155947,0.01365425646288998,0.015173783827942544,0.01737141844925083,0.01867058785394171,0.020045193527310046,0.021665747132721735,0.022947568166376775,0.02562502424245272,0.02550493837869383,0.025692666175490375,0.02553639708397737,0.019841833770725625,0.013836553107922811,-0.003560914530153364,-0.007493285310743877,0.0],\"yaxis\":\"y\"}],                        {\"annotations\":[{\"font\":{\"size\":16},\"showarrow\":false,\"text\":\"4uT\",\"x\":0.5,\"xanchor\":\"center\",\"xref\":\"paper\",\"y\":1.0,\"yanchor\":\"bottom\",\"yref\":\"paper\"}],\"height\":250,\"margin\":{\"b\":0,\"l\":0,\"r\":0,\"t\":60},\"template\":{\"data\":{\"bar\":[{\"error_x\":{\"color\":\"#2a3f5f\"},\"error_y\":{\"color\":\"#2a3f5f\"},\"marker\":{\"line\":{\"color\":\"white\",\"width\":0.5},\"pattern\":{\"fillmode\":\"overlay\",\"size\":10,\"solidity\":0.2}},\"type\":\"bar\"}],\"barpolar\":[{\"marker\":{\"line\":{\"color\":\"white\",\"width\":0.5},\"pattern\":{\"fillmode\":\"overlay\",\"size\":10,\"solidity\":0.2}},\"type\":\"barpolar\"}],\"carpet\":[{\"aaxis\":{\"endlinecolor\":\"#2a3f5f\",\"gridcolor\":\"#C8D4E3\",\"linecolor\":\"#C8D4E3\",\"minorgridcolor\":\"#C8D4E3\",\"startlinecolor\":\"#2a3f5f\"},\"baxis\":{\"endlinecolor\":\"#2a3f5f\",\"gridcolor\":\"#C8D4E3\",\"linecolor\":\"#C8D4E3\",\"minorgridcolor\":\"#C8D4E3\",\"startlinecolor\":\"#2a3f5f\"},\"type\":\"carpet\"}],\"choropleth\":[{\"colorbar\":{\"outlinewidth\":0,\"ticks\":\"\"},\"type\":\"choropleth\"}],\"contour\":[{\"colorbar\":{\"outlinewidth\":0,\"ticks\":\"\"},\"colorscale\":[[0.0,\"#0d0887\"],[0.1111111111111111,\"#46039f\"],[0.2222222222222222,\"#7201a8\"],[0.3333333333333333,\"#9c179e\"],[0.4444444444444444,\"#bd3786\"],[0.5555555555555556,\"#d8576b\"],[0.6666666666666666,\"#ed7953\"],[0.7777777777777778,\"#fb9f3a\"],[0.8888888888888888,\"#fdca26\"],[1.0,\"#f0f921\"]],\"type\":\"contour\"}],\"contourcarpet\":[{\"colorbar\":{\"outlinewidth\":0,\"ticks\":\"\"},\"type\":\"contourcarpet\"}],\"heatmap\":[{\"colorbar\":{\"outlinewidth\":0,\"ticks\":\"\"},\"colorscale\":[[0.0,\"#0d0887\"],[0.1111111111111111,\"#46039f\"],[0.2222222222222222,\"#7201a8\"],[0.3333333333333333,\"#9c179e\"],[0.4444444444444444,\"#bd3786\"],[0.5555555555555556,\"#d8576b\"],[0.6666666666666666,\"#ed7953\"],[0.7777777777777778,\"#fb9f3a\"],[0.8888888888888888,\"#fdca26\"],[1.0,\"#f0f921\"]],\"type\":\"heatmap\"}],\"heatmapgl\":[{\"colorbar\":{\"outlinewidth\":0,\"ticks\":\"\"},\"colorscale\":[[0.0,\"#0d0887\"],[0.1111111111111111,\"#46039f\"],[0.2222222222222222,\"#7201a8\"],[0.3333333333333333,\"#9c179e\"],[0.4444444444444444,\"#bd3786\"],[0.5555555555555556,\"#d8576b\"],[0.6666666666666666,\"#ed7953\"],[0.7777777777777778,\"#fb9f3a\"],[0.8888888888888888,\"#fdca26\"],[1.0,\"#f0f921\"]],\"type\":\"heatmapgl\"}],\"histogram\":[{\"marker\":{\"pattern\":{\"fillmode\":\"overlay\",\"size\":10,\"solidity\":0.2}},\"type\":\"histogram\"}],\"histogram2d\":[{\"colorbar\":{\"outlinewidth\":0,\"ticks\":\"\"},\"colorscale\":[[0.0,\"#0d0887\"],[0.1111111111111111,\"#46039f\"],[0.2222222222222222,\"#7201a8\"],[0.3333333333333333,\"#9c179e\"],[0.4444444444444444,\"#bd3786\"],[0.5555555555555556,\"#d8576b\"],[0.6666666666666666,\"#ed7953\"],[0.7777777777777778,\"#fb9f3a\"],[0.8888888888888888,\"#fdca26\"],[1.0,\"#f0f921\"]],\"type\":\"histogram2d\"}],\"histogram2dcontour\":[{\"colorbar\":{\"outlinewidth\":0,\"ticks\":\"\"},\"colorscale\":[[0.0,\"#0d0887\"],[0.1111111111111111,\"#46039f\"],[0.2222222222222222,\"#7201a8\"],[0.3333333333333333,\"#9c179e\"],[0.4444444444444444,\"#bd3786\"],[0.5555555555555556,\"#d8576b\"],[0.6666666666666666,\"#ed7953\"],[0.7777777777777778,\"#fb9f3a\"],[0.8888888888888888,\"#fdca26\"],[1.0,\"#f0f921\"]],\"type\":\"histogram2dcontour\"}],\"mesh3d\":[{\"colorbar\":{\"outlinewidth\":0,\"ticks\":\"\"},\"type\":\"mesh3d\"}],\"parcoords\":[{\"line\":{\"colorbar\":{\"outlinewidth\":0,\"ticks\":\"\"}},\"type\":\"parcoords\"}],\"pie\":[{\"automargin\":true,\"type\":\"pie\"}],\"scatter\":[{\"marker\":{\"colorbar\":{\"outlinewidth\":0,\"ticks\":\"\"}},\"type\":\"scatter\"}],\"scatter3d\":[{\"line\":{\"colorbar\":{\"outlinewidth\":0,\"ticks\":\"\"}},\"marker\":{\"colorbar\":{\"outlinewidth\":0,\"ticks\":\"\"}},\"type\":\"scatter3d\"}],\"scattercarpet\":[{\"marker\":{\"colorbar\":{\"outlinewidth\":0,\"ticks\":\"\"}},\"type\":\"scattercarpet\"}],\"scattergeo\":[{\"marker\":{\"colorbar\":{\"outlinewidth\":0,\"ticks\":\"\"}},\"type\":\"scattergeo\"}],\"scattergl\":[{\"marker\":{\"colorbar\":{\"outlinewidth\":0,\"ticks\":\"\"}},\"type\":\"scattergl\"}],\"scattermapbox\":[{\"marker\":{\"colorbar\":{\"outlinewidth\":0,\"ticks\":\"\"}},\"type\":\"scattermapbox\"}],\"scatterpolar\":[{\"marker\":{\"colorbar\":{\"outlinewidth\":0,\"ticks\":\"\"}},\"type\":\"scatterpolar\"}],\"scatterpolargl\":[{\"marker\":{\"colorbar\":{\"outlinewidth\":0,\"ticks\":\"\"}},\"type\":\"scatterpolargl\"}],\"scatterternary\":[{\"marker\":{\"colorbar\":{\"outlinewidth\":0,\"ticks\":\"\"}},\"type\":\"scatterternary\"}],\"surface\":[{\"colorbar\":{\"outlinewidth\":0,\"ticks\":\"\"},\"colorscale\":[[0.0,\"#0d0887\"],[0.1111111111111111,\"#46039f\"],[0.2222222222222222,\"#7201a8\"],[0.3333333333333333,\"#9c179e\"],[0.4444444444444444,\"#bd3786\"],[0.5555555555555556,\"#d8576b\"],[0.6666666666666666,\"#ed7953\"],[0.7777777777777778,\"#fb9f3a\"],[0.8888888888888888,\"#fdca26\"],[1.0,\"#f0f921\"]],\"type\":\"surface\"}],\"table\":[{\"cells\":{\"fill\":{\"color\":\"#EBF0F8\"},\"line\":{\"color\":\"white\"}},\"header\":{\"fill\":{\"color\":\"#C8D4E3\"},\"line\":{\"color\":\"white\"}},\"type\":\"table\"}]},\"layout\":{\"annotationdefaults\":{\"arrowcolor\":\"#2a3f5f\",\"arrowhead\":0,\"arrowwidth\":1},\"autotypenumbers\":\"strict\",\"coloraxis\":{\"colorbar\":{\"outlinewidth\":0,\"ticks\":\"\"}},\"colorscale\":{\"diverging\":[[0,\"#8e0152\"],[0.1,\"#c51b7d\"],[0.2,\"#de77ae\"],[0.3,\"#f1b6da\"],[0.4,\"#fde0ef\"],[0.5,\"#f7f7f7\"],[0.6,\"#e6f5d0\"],[0.7,\"#b8e186\"],[0.8,\"#7fbc41\"],[0.9,\"#4d9221\"],[1,\"#276419\"]],\"sequential\":[[0.0,\"#0d0887\"],[0.1111111111111111,\"#46039f\"],[0.2222222222222222,\"#7201a8\"],[0.3333333333333333,\"#9c179e\"],[0.4444444444444444,\"#bd3786\"],[0.5555555555555556,\"#d8576b\"],[0.6666666666666666,\"#ed7953\"],[0.7777777777777778,\"#fb9f3a\"],[0.8888888888888888,\"#fdca26\"],[1.0,\"#f0f921\"]],\"sequentialminus\":[[0.0,\"#0d0887\"],[0.1111111111111111,\"#46039f\"],[0.2222222222222222,\"#7201a8\"],[0.3333333333333333,\"#9c179e\"],[0.4444444444444444,\"#bd3786\"],[0.5555555555555556,\"#d8576b\"],[0.6666666666666666,\"#ed7953\"],[0.7777777777777778,\"#fb9f3a\"],[0.8888888888888888,\"#fdca26\"],[1.0,\"#f0f921\"]]},\"colorway\":[\"#636efa\",\"#EF553B\",\"#00cc96\",\"#ab63fa\",\"#FFA15A\",\"#19d3f3\",\"#FF6692\",\"#B6E880\",\"#FF97FF\",\"#FECB52\"],\"font\":{\"color\":\"#2a3f5f\"},\"geo\":{\"bgcolor\":\"white\",\"lakecolor\":\"white\",\"landcolor\":\"white\",\"showlakes\":true,\"showland\":true,\"subunitcolor\":\"#C8D4E3\"},\"hoverlabel\":{\"align\":\"left\"},\"hovermode\":\"closest\",\"mapbox\":{\"style\":\"light\"},\"paper_bgcolor\":\"white\",\"plot_bgcolor\":\"white\",\"polar\":{\"angularaxis\":{\"gridcolor\":\"#EBF0F8\",\"linecolor\":\"#EBF0F8\",\"ticks\":\"\"},\"bgcolor\":\"white\",\"radialaxis\":{\"gridcolor\":\"#EBF0F8\",\"linecolor\":\"#EBF0F8\",\"ticks\":\"\"}},\"scene\":{\"xaxis\":{\"backgroundcolor\":\"white\",\"gridcolor\":\"#DFE8F3\",\"gridwidth\":2,\"linecolor\":\"#EBF0F8\",\"showbackground\":true,\"ticks\":\"\",\"zerolinecolor\":\"#EBF0F8\"},\"yaxis\":{\"backgroundcolor\":\"white\",\"gridcolor\":\"#DFE8F3\",\"gridwidth\":2,\"linecolor\":\"#EBF0F8\",\"showbackground\":true,\"ticks\":\"\",\"zerolinecolor\":\"#EBF0F8\"},\"zaxis\":{\"backgroundcolor\":\"white\",\"gridcolor\":\"#DFE8F3\",\"gridwidth\":2,\"linecolor\":\"#EBF0F8\",\"showbackground\":true,\"ticks\":\"\",\"zerolinecolor\":\"#EBF0F8\"}},\"shapedefaults\":{\"line\":{\"color\":\"#2a3f5f\"}},\"ternary\":{\"aaxis\":{\"gridcolor\":\"#DFE8F3\",\"linecolor\":\"#A2B1C6\",\"ticks\":\"\"},\"baxis\":{\"gridcolor\":\"#DFE8F3\",\"linecolor\":\"#A2B1C6\",\"ticks\":\"\"},\"bgcolor\":\"white\",\"caxis\":{\"gridcolor\":\"#DFE8F3\",\"linecolor\":\"#A2B1C6\",\"ticks\":\"\"}},\"title\":{\"x\":0.05},\"xaxis\":{\"automargin\":true,\"gridcolor\":\"#EBF0F8\",\"linecolor\":\"#EBF0F8\",\"ticks\":\"\",\"title\":{\"standoff\":15},\"zerolinecolor\":\"#EBF0F8\",\"zerolinewidth\":2},\"yaxis\":{\"automargin\":true,\"gridcolor\":\"#EBF0F8\",\"linecolor\":\"#EBF0F8\",\"ticks\":\"\",\"title\":{\"standoff\":15},\"zerolinecolor\":\"#EBF0F8\",\"zerolinewidth\":2}}},\"title\":{\"text\":\"Phantom Dec - 40\\u00b0C MTR-asym\",\"x\":0.02,\"y\":0.97},\"width\":350,\"xaxis\":{\"anchor\":\"y\",\"autorange\":\"reversed\",\"domain\":[0.0,1.0],\"dtick\":1,\"title\":{\"text\":\"ppm\"}},\"yaxis\":{\"anchor\":\"x\",\"domain\":[0.0,1.0],\"dtick\":0.05,\"range\":[0,0.25],\"tick0\":0,\"tickformat\":\".0%\",\"tickmode\":\"linear\",\"title\":{\"text\":\"MTR-asym\"}}},                        {\"responsive\": true}                    ).then(function(){\n                            \nvar gd = document.getElementById('864ff981-2b8f-446c-bbb7-5b412c09c0bc');\nvar x = new MutationObserver(function (mutations, observer) {{\n        var display = window.getComputedStyle(gd).display;\n        if (!display || display === 'none') {{\n            console.log([gd, 'removed!']);\n            Plotly.purge(gd);\n            observer.disconnect();\n        }}\n}});\n\n// Listen for the removal of the full notebook cells\nvar notebookContainer = gd.closest('#notebook-container');\nif (notebookContainer) {{\n    x.observe(notebookContainer, {childList: true});\n}}\n\n// Listen for the clearing of the current output cell\nvar outputEl = gd.closest('.output');\nif (outputEl) {{\n    x.observe(outputEl, {childList: true});\n}}\n\n                        })                };                });            </script>        </div>"
     },
     "metadata": {},
     "output_type": "display_data"
    },
    {
     "data": {
      "application/vnd.plotly.v1+json": {
       "config": {
        "plotlyServerURL": "https://plot.ly"
       },
       "data": [
        {
         "legendgroup": "1_1_1",
         "line": {
          "color": "#1f77b4"
         },
         "name": "a 20 mM, pH 7",
         "showlegend": true,
         "type": "scatter",
         "x": [
          7.0,
          6.75,
          6.5,
          6.25,
          6.0,
          5.75,
          5.5,
          5.25,
          5.0,
          4.75,
          4.5,
          4.25,
          4.0,
          3.75,
          3.5,
          3.25,
          3.0,
          2.75,
          2.5,
          2.25,
          2.0,
          1.75,
          1.5,
          1.25,
          1.0,
          0.75,
          0.5,
          0.25,
          0.0,
          -0.25,
          -0.5,
          -0.75,
          -1.0,
          -1.25,
          -1.5,
          -1.75,
          -2.0,
          -2.25,
          -2.5,
          -2.75,
          -3.0,
          -3.25,
          -3.5,
          -3.75,
          -4.0,
          -4.25,
          -4.5,
          -4.75,
          -5.0,
          -5.25,
          -5.5,
          -5.75,
          -6.0,
          -6.25,
          -6.5,
          -6.75,
          -7.0
         ],
         "xaxis": "x",
         "y": [
          0.9209828225450916,
          0.9174612585272623,
          0.9140896165028279,
          0.9110872724394184,
          0.9075988876878475,
          0.9026858679359937,
          0.8964272864036229,
          0.8907662915128995,
          0.8838417616030285,
          0.8763996161772388,
          0.8675853024777407,
          0.8583326217709779,
          0.8474420703688146,
          0.8345361845585401,
          0.8193581530233768,
          0.8016490641586467,
          0.780386726194112,
          0.7545896716516541,
          0.7219273738577672,
          0.6846651498378138,
          0.6380596548319475,
          0.5786025421927707,
          0.5064284820799246,
          0.418687314668982,
          0.31602545620991007,
          0.20525253163432425,
          0.10328268918950062,
          0.03204705091837004,
          0.0037238556189175855,
          0.024931236650131066,
          0.10452021393030324,
          0.2323818169836324,
          0.3734758843147652,
          0.5015530299054729,
          0.6028905773708267,
          0.6811132174337364,
          0.7392892876358922,
          0.782856266317748,
          0.8139576170680639,
          0.8396935927776131,
          0.8591802734056988,
          0.8740084086348674,
          0.8844570220518216,
          0.8941714952467729,
          0.9010468649825562,
          0.9060227517954065,
          0.9096623717261728,
          0.9132410038729777,
          0.9165400760370862,
          0.9192679081686891,
          0.9209992422576924,
          0.9242047807076429,
          0.9269624005703258,
          0.9287778697387966,
          0.9299314288503515,
          0.930151984102887,
          0.9320975221536891
         ],
         "yaxis": "y"
        },
        {
         "legendgroup": "1_1_2",
         "line": {
          "color": "#1f77b4"
         },
         "name": "20 mM, pH 7",
         "showlegend": false,
         "type": "scatter",
         "x": [
          7.0,
          6.75,
          6.5,
          6.25,
          6.0,
          5.75,
          5.5,
          5.25,
          5.0,
          4.75,
          4.5,
          4.25,
          4.0,
          3.75,
          3.5,
          3.25,
          3.0,
          2.75,
          2.5,
          2.25,
          2.0,
          1.75,
          1.5,
          1.25,
          1.0,
          0.75,
          0.5,
          0.25,
          0.0
         ],
         "xaxis": "x",
         "y": [
          0.011114699608597567,
          0.012690725575624673,
          0.015841812347523576,
          0.017690597299378163,
          0.019363512882478284,
          0.02151891277164919,
          0.02457195585406946,
          0.02850161665578954,
          0.032698314434057685,
          0.03684138769573886,
          0.04207706924843213,
          0.04769013002442857,
          0.05360479461374157,
          0.0596353106882328,
          0.06509886902844486,
          0.07235934447622072,
          0.07879354721158682,
          0.08510392112595899,
          0.09203024321029674,
          0.09819111647993417,
          0.1012296328039447,
          0.10251067524096569,
          0.0964620952909021,
          0.08286571523649089,
          0.05745042810485512,
          0.02712928534930814,
          0.0012375247408026174,
          -0.007115814268238974,
          0.0
         ],
         "yaxis": "y"
        },
        {
         "legendgroup": "1_1_1",
         "line": {
          "color": "#ff7f0e"
         },
         "name": "b 16 mM, pH 7",
         "showlegend": true,
         "type": "scatter",
         "x": [
          7.0,
          6.75,
          6.5,
          6.25,
          6.0,
          5.75,
          5.5,
          5.25,
          5.0,
          4.75,
          4.5,
          4.25,
          4.0,
          3.75,
          3.5,
          3.25,
          3.0,
          2.75,
          2.5,
          2.25,
          2.0,
          1.75,
          1.5,
          1.25,
          1.0,
          0.75,
          0.5,
          0.25,
          0.0,
          -0.25,
          -0.5,
          -0.75,
          -1.0,
          -1.25,
          -1.5,
          -1.75,
          -2.0,
          -2.25,
          -2.5,
          -2.75,
          -3.0,
          -3.25,
          -3.5,
          -3.75,
          -4.0,
          -4.25,
          -4.5,
          -4.75,
          -5.0,
          -5.25,
          -5.5,
          -5.75,
          -6.0,
          -6.25,
          -6.5,
          -6.75,
          -7.0
         ],
         "xaxis": "x",
         "y": [
          0.9252303221903323,
          0.9221423518550392,
          0.9210149239502227,
          0.9161800879648488,
          0.9125933430837808,
          0.9101582924186529,
          0.9051161202257476,
          0.8995658397511002,
          0.8928890030778294,
          0.8872608118681995,
          0.8799848231912495,
          0.8695835410821974,
          0.8591324845174036,
          0.8484514654427499,
          0.835694311402315,
          0.8189421875640764,
          0.7986832483366888,
          0.7768607111390502,
          0.7469318797544168,
          0.7111908830671497,
          0.6673616321282757,
          0.613584454830202,
          0.545016269058579,
          0.4580442985769633,
          0.35326366556167954,
          0.2364236862572096,
          0.1225410421326629,
          0.03781598352335867,
          0.0035632853585734004,
          0.030029379603658504,
          0.12424802409431401,
          0.2664587463955816,
          0.41482869384430665,
          0.5419514263758521,
          0.6397788516822601,
          0.7138300814600959,
          0.7664415200613136,
          0.8033977942717456,
          0.8334495072384404,
          0.8571493606606297,
          0.8732922589390947,
          0.8859876054561623,
          0.8948394288556206,
          0.9038037070279239,
          0.9088208517102504,
          0.9119983921086262,
          0.9162190359290944,
          0.9215214514908706,
          0.9229165686446066,
          0.9246054501232492,
          0.925531324092024,
          0.9295002744339768,
          0.9306749333986365,
          0.9313583045970291,
          0.932144637458058,
          0.933749960190456,
          0.9351219103047309
         ],
         "yaxis": "y"
        },
        {
         "legendgroup": "1_1_2",
         "line": {
          "color": "#ff7f0e"
         },
         "name": "16 mM, pH 7",
         "showlegend": false,
         "type": "scatter",
         "x": [
          7.0,
          6.75,
          6.5,
          6.25,
          6.0,
          5.75,
          5.5,
          5.25,
          5.0,
          4.75,
          4.5,
          4.25,
          4.0,
          3.75,
          3.5,
          3.25,
          3.0,
          2.75,
          2.5,
          2.25,
          2.0,
          1.75,
          1.5,
          1.25,
          1.0,
          0.75,
          0.5,
          0.25,
          0.0
         ],
         "xaxis": "x",
         "y": [
          0.009891588114398608,
          0.011607608335416741,
          0.011129713507835315,
          0.01517821663218022,
          0.018081590314855678,
          0.01934198201532389,
          0.020415203866276377,
          0.02503961037214908,
          0.030027565566777215,
          0.03426063962267112,
          0.036234212737844884,
          0.042414851026428835,
          0.04968836719284675,
          0.055352241585174045,
          0.05914511745330564,
          0.06704541789208585,
          0.07460901060240588,
          0.08028864952157955,
          0.08651762748402358,
          0.0922069112045959,
          0.0990798879330379,
          0.10024562662989389,
          0.09476258262368109,
          0.08390712779888881,
          0.06156502828262711,
          0.030035060138371983,
          0.0017069819616511162,
          -0.00778660391970017,
          0.0
         ],
         "yaxis": "y"
        },
        {
         "legendgroup": "1_1_1",
         "line": {
          "color": "#2ca02c"
         },
         "name": "c 12 mM, pH 7",
         "showlegend": true,
         "type": "scatter",
         "x": [
          7.0,
          6.75,
          6.5,
          6.25,
          6.0,
          5.75,
          5.5,
          5.25,
          5.0,
          4.75,
          4.5,
          4.25,
          4.0,
          3.75,
          3.5,
          3.25,
          3.0,
          2.75,
          2.5,
          2.25,
          2.0,
          1.75,
          1.5,
          1.25,
          1.0,
          0.75,
          0.5,
          0.25,
          0.0,
          -0.25,
          -0.5,
          -0.75,
          -1.0,
          -1.25,
          -1.5,
          -1.75,
          -2.0,
          -2.25,
          -2.5,
          -2.75,
          -3.0,
          -3.25,
          -3.5,
          -3.75,
          -4.0,
          -4.25,
          -4.5,
          -4.75,
          -5.0,
          -5.25,
          -5.5,
          -5.75,
          -6.0,
          -6.25,
          -6.5,
          -6.75,
          -7.0
         ],
         "xaxis": "x",
         "y": [
          0.9240743106114024,
          0.9204768681935267,
          0.9201628547239479,
          0.9178818454760211,
          0.9160238173420495,
          0.9115828436188766,
          0.9085477808060117,
          0.9057126108281051,
          0.8995790443544729,
          0.8934885447491803,
          0.8882070609591602,
          0.8803291213450568,
          0.8719319811204244,
          0.861036624688897,
          0.8499944732777626,
          0.8370730537688562,
          0.8195895191204351,
          0.7984822589303477,
          0.7743089862954734,
          0.7455112150407397,
          0.7073503570487637,
          0.6589808435089952,
          0.5968474646478671,
          0.5151234622941359,
          0.4101494150275697,
          0.2835004569906252,
          0.15129125006132932,
          0.0475675381726079,
          0.003994064278599693,
          0.03993421555845313,
          0.1548098171022009,
          0.3139884000059972,
          0.4681065903942671,
          0.5903581183323243,
          0.6801152405109582,
          0.7435004416218707,
          0.7893730410858735,
          0.8228779746375143,
          0.8457208119124031,
          0.8642388292962355,
          0.8776075660632696,
          0.8898769598742,
          0.897770260190849,
          0.904588789250724,
          0.909634573365879,
          0.9141743684945894,
          0.9172201358979739,
          0.920842100687883,
          0.9218432102919671,
          0.924640879842271,
          0.9256014115745342,
          0.9263247087113646,
          0.9269876429240005,
          0.9301565066953943,
          0.9297259959400481,
          0.9298220386006214,
          0.9303892279627229
         ],
         "yaxis": "y"
        },
        {
         "legendgroup": "1_1_2",
         "line": {
          "color": "#2ca02c"
         },
         "name": "12 mM, pH 7",
         "showlegend": false,
         "type": "scatter",
         "x": [
          7.0,
          6.75,
          6.5,
          6.25,
          6.0,
          5.75,
          5.5,
          5.25,
          5.0,
          4.75,
          4.5,
          4.25,
          4.0,
          3.75,
          3.5,
          3.25,
          3.0,
          2.75,
          2.5,
          2.25,
          2.0,
          1.75,
          1.5,
          1.25,
          1.0,
          0.75,
          0.5,
          0.25,
          0.0
         ],
         "xaxis": "x",
         "y": [
          0.006314917351320504,
          0.009345170407094705,
          0.009563141216100246,
          0.01227466121937315,
          0.01096382558195097,
          0.014741865092487982,
          0.01705363076852251,
          0.018928269014165888,
          0.02226416593749425,
          0.0273535559387027,
          0.029013074938813666,
          0.03384524714953263,
          0.03770259224545469,
          0.04355216456182698,
          0.04777578691308648,
          0.0528039061053438,
          0.05801804694283452,
          0.06575657036588778,
          0.07141182561692971,
          0.07736675959677464,
          0.08202268403710977,
          0.08451959811287546,
          0.08326777586309109,
          0.07523465603818846,
          0.05795717536669742,
          0.030487943015372,
          0.003518567040871584,
          -0.007633322614154767,
          0.0
         ],
         "yaxis": "y"
        }
       ],
       "layout": {
        "annotations": [
         {
          "font": {
           "size": 16
          },
          "showarrow": false,
          "text": "4uT",
          "x": 0.5,
          "xanchor": "center",
          "xref": "paper",
          "y": 1.0,
          "yanchor": "bottom",
          "yref": "paper"
         }
        ],
        "height": 250,
        "margin": {
         "b": 0,
         "l": 45,
         "r": 0,
         "t": 50
        },
        "template": {
         "data": {
          "bar": [
           {
            "error_x": {
             "color": "#2a3f5f"
            },
            "error_y": {
             "color": "#2a3f5f"
            },
            "marker": {
             "line": {
              "color": "white",
              "width": 0.5
             },
             "pattern": {
              "fillmode": "overlay",
              "size": 10,
              "solidity": 0.2
             }
            },
            "type": "bar"
           }
          ],
          "barpolar": [
           {
            "marker": {
             "line": {
              "color": "white",
              "width": 0.5
             },
             "pattern": {
              "fillmode": "overlay",
              "size": 10,
              "solidity": 0.2
             }
            },
            "type": "barpolar"
           }
          ],
          "carpet": [
           {
            "aaxis": {
             "endlinecolor": "#2a3f5f",
             "gridcolor": "#C8D4E3",
             "linecolor": "#C8D4E3",
             "minorgridcolor": "#C8D4E3",
             "startlinecolor": "#2a3f5f"
            },
            "baxis": {
             "endlinecolor": "#2a3f5f",
             "gridcolor": "#C8D4E3",
             "linecolor": "#C8D4E3",
             "minorgridcolor": "#C8D4E3",
             "startlinecolor": "#2a3f5f"
            },
            "type": "carpet"
           }
          ],
          "choropleth": [
           {
            "colorbar": {
             "outlinewidth": 0,
             "ticks": ""
            },
            "type": "choropleth"
           }
          ],
          "contour": [
           {
            "colorbar": {
             "outlinewidth": 0,
             "ticks": ""
            },
            "colorscale": [
             [
              0.0,
              "#0d0887"
             ],
             [
              0.1111111111111111,
              "#46039f"
             ],
             [
              0.2222222222222222,
              "#7201a8"
             ],
             [
              0.3333333333333333,
              "#9c179e"
             ],
             [
              0.4444444444444444,
              "#bd3786"
             ],
             [
              0.5555555555555556,
              "#d8576b"
             ],
             [
              0.6666666666666666,
              "#ed7953"
             ],
             [
              0.7777777777777778,
              "#fb9f3a"
             ],
             [
              0.8888888888888888,
              "#fdca26"
             ],
             [
              1.0,
              "#f0f921"
             ]
            ],
            "type": "contour"
           }
          ],
          "contourcarpet": [
           {
            "colorbar": {
             "outlinewidth": 0,
             "ticks": ""
            },
            "type": "contourcarpet"
           }
          ],
          "heatmap": [
           {
            "colorbar": {
             "outlinewidth": 0,
             "ticks": ""
            },
            "colorscale": [
             [
              0.0,
              "#0d0887"
             ],
             [
              0.1111111111111111,
              "#46039f"
             ],
             [
              0.2222222222222222,
              "#7201a8"
             ],
             [
              0.3333333333333333,
              "#9c179e"
             ],
             [
              0.4444444444444444,
              "#bd3786"
             ],
             [
              0.5555555555555556,
              "#d8576b"
             ],
             [
              0.6666666666666666,
              "#ed7953"
             ],
             [
              0.7777777777777778,
              "#fb9f3a"
             ],
             [
              0.8888888888888888,
              "#fdca26"
             ],
             [
              1.0,
              "#f0f921"
             ]
            ],
            "type": "heatmap"
           }
          ],
          "heatmapgl": [
           {
            "colorbar": {
             "outlinewidth": 0,
             "ticks": ""
            },
            "colorscale": [
             [
              0.0,
              "#0d0887"
             ],
             [
              0.1111111111111111,
              "#46039f"
             ],
             [
              0.2222222222222222,
              "#7201a8"
             ],
             [
              0.3333333333333333,
              "#9c179e"
             ],
             [
              0.4444444444444444,
              "#bd3786"
             ],
             [
              0.5555555555555556,
              "#d8576b"
             ],
             [
              0.6666666666666666,
              "#ed7953"
             ],
             [
              0.7777777777777778,
              "#fb9f3a"
             ],
             [
              0.8888888888888888,
              "#fdca26"
             ],
             [
              1.0,
              "#f0f921"
             ]
            ],
            "type": "heatmapgl"
           }
          ],
          "histogram": [
           {
            "marker": {
             "pattern": {
              "fillmode": "overlay",
              "size": 10,
              "solidity": 0.2
             }
            },
            "type": "histogram"
           }
          ],
          "histogram2d": [
           {
            "colorbar": {
             "outlinewidth": 0,
             "ticks": ""
            },
            "colorscale": [
             [
              0.0,
              "#0d0887"
             ],
             [
              0.1111111111111111,
              "#46039f"
             ],
             [
              0.2222222222222222,
              "#7201a8"
             ],
             [
              0.3333333333333333,
              "#9c179e"
             ],
             [
              0.4444444444444444,
              "#bd3786"
             ],
             [
              0.5555555555555556,
              "#d8576b"
             ],
             [
              0.6666666666666666,
              "#ed7953"
             ],
             [
              0.7777777777777778,
              "#fb9f3a"
             ],
             [
              0.8888888888888888,
              "#fdca26"
             ],
             [
              1.0,
              "#f0f921"
             ]
            ],
            "type": "histogram2d"
           }
          ],
          "histogram2dcontour": [
           {
            "colorbar": {
             "outlinewidth": 0,
             "ticks": ""
            },
            "colorscale": [
             [
              0.0,
              "#0d0887"
             ],
             [
              0.1111111111111111,
              "#46039f"
             ],
             [
              0.2222222222222222,
              "#7201a8"
             ],
             [
              0.3333333333333333,
              "#9c179e"
             ],
             [
              0.4444444444444444,
              "#bd3786"
             ],
             [
              0.5555555555555556,
              "#d8576b"
             ],
             [
              0.6666666666666666,
              "#ed7953"
             ],
             [
              0.7777777777777778,
              "#fb9f3a"
             ],
             [
              0.8888888888888888,
              "#fdca26"
             ],
             [
              1.0,
              "#f0f921"
             ]
            ],
            "type": "histogram2dcontour"
           }
          ],
          "mesh3d": [
           {
            "colorbar": {
             "outlinewidth": 0,
             "ticks": ""
            },
            "type": "mesh3d"
           }
          ],
          "parcoords": [
           {
            "line": {
             "colorbar": {
              "outlinewidth": 0,
              "ticks": ""
             }
            },
            "type": "parcoords"
           }
          ],
          "pie": [
           {
            "automargin": true,
            "type": "pie"
           }
          ],
          "scatter": [
           {
            "marker": {
             "colorbar": {
              "outlinewidth": 0,
              "ticks": ""
             }
            },
            "type": "scatter"
           }
          ],
          "scatter3d": [
           {
            "line": {
             "colorbar": {
              "outlinewidth": 0,
              "ticks": ""
             }
            },
            "marker": {
             "colorbar": {
              "outlinewidth": 0,
              "ticks": ""
             }
            },
            "type": "scatter3d"
           }
          ],
          "scattercarpet": [
           {
            "marker": {
             "colorbar": {
              "outlinewidth": 0,
              "ticks": ""
             }
            },
            "type": "scattercarpet"
           }
          ],
          "scattergeo": [
           {
            "marker": {
             "colorbar": {
              "outlinewidth": 0,
              "ticks": ""
             }
            },
            "type": "scattergeo"
           }
          ],
          "scattergl": [
           {
            "marker": {
             "colorbar": {
              "outlinewidth": 0,
              "ticks": ""
             }
            },
            "type": "scattergl"
           }
          ],
          "scattermapbox": [
           {
            "marker": {
             "colorbar": {
              "outlinewidth": 0,
              "ticks": ""
             }
            },
            "type": "scattermapbox"
           }
          ],
          "scatterpolar": [
           {
            "marker": {
             "colorbar": {
              "outlinewidth": 0,
              "ticks": ""
             }
            },
            "type": "scatterpolar"
           }
          ],
          "scatterpolargl": [
           {
            "marker": {
             "colorbar": {
              "outlinewidth": 0,
              "ticks": ""
             }
            },
            "type": "scatterpolargl"
           }
          ],
          "scatterternary": [
           {
            "marker": {
             "colorbar": {
              "outlinewidth": 0,
              "ticks": ""
             }
            },
            "type": "scatterternary"
           }
          ],
          "surface": [
           {
            "colorbar": {
             "outlinewidth": 0,
             "ticks": ""
            },
            "colorscale": [
             [
              0.0,
              "#0d0887"
             ],
             [
              0.1111111111111111,
              "#46039f"
             ],
             [
              0.2222222222222222,
              "#7201a8"
             ],
             [
              0.3333333333333333,
              "#9c179e"
             ],
             [
              0.4444444444444444,
              "#bd3786"
             ],
             [
              0.5555555555555556,
              "#d8576b"
             ],
             [
              0.6666666666666666,
              "#ed7953"
             ],
             [
              0.7777777777777778,
              "#fb9f3a"
             ],
             [
              0.8888888888888888,
              "#fdca26"
             ],
             [
              1.0,
              "#f0f921"
             ]
            ],
            "type": "surface"
           }
          ],
          "table": [
           {
            "cells": {
             "fill": {
              "color": "#EBF0F8"
             },
             "line": {
              "color": "white"
             }
            },
            "header": {
             "fill": {
              "color": "#C8D4E3"
             },
             "line": {
              "color": "white"
             }
            },
            "type": "table"
           }
          ]
         },
         "layout": {
          "annotationdefaults": {
           "arrowcolor": "#2a3f5f",
           "arrowhead": 0,
           "arrowwidth": 1
          },
          "autotypenumbers": "strict",
          "coloraxis": {
           "colorbar": {
            "outlinewidth": 0,
            "ticks": ""
           }
          },
          "colorscale": {
           "diverging": [
            [
             0,
             "#8e0152"
            ],
            [
             0.1,
             "#c51b7d"
            ],
            [
             0.2,
             "#de77ae"
            ],
            [
             0.3,
             "#f1b6da"
            ],
            [
             0.4,
             "#fde0ef"
            ],
            [
             0.5,
             "#f7f7f7"
            ],
            [
             0.6,
             "#e6f5d0"
            ],
            [
             0.7,
             "#b8e186"
            ],
            [
             0.8,
             "#7fbc41"
            ],
            [
             0.9,
             "#4d9221"
            ],
            [
             1,
             "#276419"
            ]
           ],
           "sequential": [
            [
             0.0,
             "#0d0887"
            ],
            [
             0.1111111111111111,
             "#46039f"
            ],
            [
             0.2222222222222222,
             "#7201a8"
            ],
            [
             0.3333333333333333,
             "#9c179e"
            ],
            [
             0.4444444444444444,
             "#bd3786"
            ],
            [
             0.5555555555555556,
             "#d8576b"
            ],
            [
             0.6666666666666666,
             "#ed7953"
            ],
            [
             0.7777777777777778,
             "#fb9f3a"
            ],
            [
             0.8888888888888888,
             "#fdca26"
            ],
            [
             1.0,
             "#f0f921"
            ]
           ],
           "sequentialminus": [
            [
             0.0,
             "#0d0887"
            ],
            [
             0.1111111111111111,
             "#46039f"
            ],
            [
             0.2222222222222222,
             "#7201a8"
            ],
            [
             0.3333333333333333,
             "#9c179e"
            ],
            [
             0.4444444444444444,
             "#bd3786"
            ],
            [
             0.5555555555555556,
             "#d8576b"
            ],
            [
             0.6666666666666666,
             "#ed7953"
            ],
            [
             0.7777777777777778,
             "#fb9f3a"
            ],
            [
             0.8888888888888888,
             "#fdca26"
            ],
            [
             1.0,
             "#f0f921"
            ]
           ]
          },
          "colorway": [
           "#636efa",
           "#EF553B",
           "#00cc96",
           "#ab63fa",
           "#FFA15A",
           "#19d3f3",
           "#FF6692",
           "#B6E880",
           "#FF97FF",
           "#FECB52"
          ],
          "font": {
           "color": "#2a3f5f"
          },
          "geo": {
           "bgcolor": "white",
           "lakecolor": "white",
           "landcolor": "white",
           "showlakes": true,
           "showland": true,
           "subunitcolor": "#C8D4E3"
          },
          "hoverlabel": {
           "align": "left"
          },
          "hovermode": "closest",
          "mapbox": {
           "style": "light"
          },
          "paper_bgcolor": "white",
          "plot_bgcolor": "white",
          "polar": {
           "angularaxis": {
            "gridcolor": "#EBF0F8",
            "linecolor": "#EBF0F8",
            "ticks": ""
           },
           "bgcolor": "white",
           "radialaxis": {
            "gridcolor": "#EBF0F8",
            "linecolor": "#EBF0F8",
            "ticks": ""
           }
          },
          "scene": {
           "xaxis": {
            "backgroundcolor": "white",
            "gridcolor": "#DFE8F3",
            "gridwidth": 2,
            "linecolor": "#EBF0F8",
            "showbackground": true,
            "ticks": "",
            "zerolinecolor": "#EBF0F8"
           },
           "yaxis": {
            "backgroundcolor": "white",
            "gridcolor": "#DFE8F3",
            "gridwidth": 2,
            "linecolor": "#EBF0F8",
            "showbackground": true,
            "ticks": "",
            "zerolinecolor": "#EBF0F8"
           },
           "zaxis": {
            "backgroundcolor": "white",
            "gridcolor": "#DFE8F3",
            "gridwidth": 2,
            "linecolor": "#EBF0F8",
            "showbackground": true,
            "ticks": "",
            "zerolinecolor": "#EBF0F8"
           }
          },
          "shapedefaults": {
           "line": {
            "color": "#2a3f5f"
           }
          },
          "ternary": {
           "aaxis": {
            "gridcolor": "#DFE8F3",
            "linecolor": "#A2B1C6",
            "ticks": ""
           },
           "baxis": {
            "gridcolor": "#DFE8F3",
            "linecolor": "#A2B1C6",
            "ticks": ""
           },
           "bgcolor": "white",
           "caxis": {
            "gridcolor": "#DFE8F3",
            "linecolor": "#A2B1C6",
            "ticks": ""
           }
          },
          "title": {
           "x": 0.05
          },
          "xaxis": {
           "automargin": true,
           "gridcolor": "#EBF0F8",
           "linecolor": "#EBF0F8",
           "ticks": "",
           "title": {
            "standoff": 15
           },
           "zerolinecolor": "#EBF0F8",
           "zerolinewidth": 2
          },
          "yaxis": {
           "automargin": true,
           "gridcolor": "#EBF0F8",
           "linecolor": "#EBF0F8",
           "ticks": "",
           "title": {
            "standoff": 15
           },
           "zerolinecolor": "#EBF0F8",
           "zerolinewidth": 2
          }
         }
        },
        "title": {
         "text": "Phantom Feb - 33°C Z-spectrum",
         "x": 0.02,
         "y": 0.97
        },
        "width": 500,
        "xaxis": {
         "anchor": "y",
         "autorange": "reversed",
         "domain": [
          0.0,
          1.0
         ],
         "dtick": 1,
         "tick0": 0,
         "tickmode": "linear",
         "title": {
          "text": "ppm"
         }
        },
        "yaxis": {
         "anchor": "x",
         "domain": [
          0.0,
          1.0
         ],
         "dtick": 0.2,
         "range": [
          -0.1,
          1
         ],
         "tick0": 0,
         "tickmode": "linear",
         "title": {
          "standoff": 2,
          "text": "$M_{sat}/M_0$"
         }
        }
       }
      },
      "text/html": "<div>                            <div id=\"bb50904e-e8fc-4966-a2d1-e54f72d5e4b1\" class=\"plotly-graph-div\" style=\"height:250px; width:500px;\"></div>            <script type=\"text/javascript\">                require([\"plotly\"], function(Plotly) {                    window.PLOTLYENV=window.PLOTLYENV || {};                                    if (document.getElementById(\"bb50904e-e8fc-4966-a2d1-e54f72d5e4b1\")) {                    Plotly.newPlot(                        \"bb50904e-e8fc-4966-a2d1-e54f72d5e4b1\",                        [{\"legendgroup\":\"1_1_1\",\"line\":{\"color\":\"#1f77b4\"},\"name\":\"a 20 mM, pH 7\",\"showlegend\":true,\"type\":\"scatter\",\"x\":[7.0,6.75,6.5,6.25,6.0,5.75,5.5,5.25,5.0,4.75,4.5,4.25,4.0,3.75,3.5,3.25,3.0,2.75,2.5,2.25,2.0,1.75,1.5,1.25,1.0,0.75,0.5,0.25,0.0,-0.25,-0.5,-0.75,-1.0,-1.25,-1.5,-1.75,-2.0,-2.25,-2.5,-2.75,-3.0,-3.25,-3.5,-3.75,-4.0,-4.25,-4.5,-4.75,-5.0,-5.25,-5.5,-5.75,-6.0,-6.25,-6.5,-6.75,-7.0],\"xaxis\":\"x\",\"y\":[0.9209828225450916,0.9174612585272623,0.9140896165028279,0.9110872724394184,0.9075988876878475,0.9026858679359937,0.8964272864036229,0.8907662915128995,0.8838417616030285,0.8763996161772388,0.8675853024777407,0.8583326217709779,0.8474420703688146,0.8345361845585401,0.8193581530233768,0.8016490641586467,0.780386726194112,0.7545896716516541,0.7219273738577672,0.6846651498378138,0.6380596548319475,0.5786025421927707,0.5064284820799246,0.418687314668982,0.31602545620991007,0.20525253163432425,0.10328268918950062,0.03204705091837004,0.0037238556189175855,0.024931236650131066,0.10452021393030324,0.2323818169836324,0.3734758843147652,0.5015530299054729,0.6028905773708267,0.6811132174337364,0.7392892876358922,0.782856266317748,0.8139576170680639,0.8396935927776131,0.8591802734056988,0.8740084086348674,0.8844570220518216,0.8941714952467729,0.9010468649825562,0.9060227517954065,0.9096623717261728,0.9132410038729777,0.9165400760370862,0.9192679081686891,0.9209992422576924,0.9242047807076429,0.9269624005703258,0.9287778697387966,0.9299314288503515,0.930151984102887,0.9320975221536891],\"yaxis\":\"y\"},{\"legendgroup\":\"1_1_2\",\"line\":{\"color\":\"#1f77b4\"},\"name\":\"20 mM, pH 7\",\"showlegend\":false,\"type\":\"scatter\",\"x\":[7.0,6.75,6.5,6.25,6.0,5.75,5.5,5.25,5.0,4.75,4.5,4.25,4.0,3.75,3.5,3.25,3.0,2.75,2.5,2.25,2.0,1.75,1.5,1.25,1.0,0.75,0.5,0.25,0.0],\"xaxis\":\"x\",\"y\":[0.011114699608597567,0.012690725575624673,0.015841812347523576,0.017690597299378163,0.019363512882478284,0.02151891277164919,0.02457195585406946,0.02850161665578954,0.032698314434057685,0.03684138769573886,0.04207706924843213,0.04769013002442857,0.05360479461374157,0.0596353106882328,0.06509886902844486,0.07235934447622072,0.07879354721158682,0.08510392112595899,0.09203024321029674,0.09819111647993417,0.1012296328039447,0.10251067524096569,0.0964620952909021,0.08286571523649089,0.05745042810485512,0.02712928534930814,0.0012375247408026174,-0.007115814268238974,0.0],\"yaxis\":\"y\"},{\"legendgroup\":\"1_1_1\",\"line\":{\"color\":\"#ff7f0e\"},\"name\":\"b 16 mM, pH 7\",\"showlegend\":true,\"type\":\"scatter\",\"x\":[7.0,6.75,6.5,6.25,6.0,5.75,5.5,5.25,5.0,4.75,4.5,4.25,4.0,3.75,3.5,3.25,3.0,2.75,2.5,2.25,2.0,1.75,1.5,1.25,1.0,0.75,0.5,0.25,0.0,-0.25,-0.5,-0.75,-1.0,-1.25,-1.5,-1.75,-2.0,-2.25,-2.5,-2.75,-3.0,-3.25,-3.5,-3.75,-4.0,-4.25,-4.5,-4.75,-5.0,-5.25,-5.5,-5.75,-6.0,-6.25,-6.5,-6.75,-7.0],\"xaxis\":\"x\",\"y\":[0.9252303221903323,0.9221423518550392,0.9210149239502227,0.9161800879648488,0.9125933430837808,0.9101582924186529,0.9051161202257476,0.8995658397511002,0.8928890030778294,0.8872608118681995,0.8799848231912495,0.8695835410821974,0.8591324845174036,0.8484514654427499,0.835694311402315,0.8189421875640764,0.7986832483366888,0.7768607111390502,0.7469318797544168,0.7111908830671497,0.6673616321282757,0.613584454830202,0.545016269058579,0.4580442985769633,0.35326366556167954,0.2364236862572096,0.1225410421326629,0.03781598352335867,0.0035632853585734004,0.030029379603658504,0.12424802409431401,0.2664587463955816,0.41482869384430665,0.5419514263758521,0.6397788516822601,0.7138300814600959,0.7664415200613136,0.8033977942717456,0.8334495072384404,0.8571493606606297,0.8732922589390947,0.8859876054561623,0.8948394288556206,0.9038037070279239,0.9088208517102504,0.9119983921086262,0.9162190359290944,0.9215214514908706,0.9229165686446066,0.9246054501232492,0.925531324092024,0.9295002744339768,0.9306749333986365,0.9313583045970291,0.932144637458058,0.933749960190456,0.9351219103047309],\"yaxis\":\"y\"},{\"legendgroup\":\"1_1_2\",\"line\":{\"color\":\"#ff7f0e\"},\"name\":\"16 mM, pH 7\",\"showlegend\":false,\"type\":\"scatter\",\"x\":[7.0,6.75,6.5,6.25,6.0,5.75,5.5,5.25,5.0,4.75,4.5,4.25,4.0,3.75,3.5,3.25,3.0,2.75,2.5,2.25,2.0,1.75,1.5,1.25,1.0,0.75,0.5,0.25,0.0],\"xaxis\":\"x\",\"y\":[0.009891588114398608,0.011607608335416741,0.011129713507835315,0.01517821663218022,0.018081590314855678,0.01934198201532389,0.020415203866276377,0.02503961037214908,0.030027565566777215,0.03426063962267112,0.036234212737844884,0.042414851026428835,0.04968836719284675,0.055352241585174045,0.05914511745330564,0.06704541789208585,0.07460901060240588,0.08028864952157955,0.08651762748402358,0.0922069112045959,0.0990798879330379,0.10024562662989389,0.09476258262368109,0.08390712779888881,0.06156502828262711,0.030035060138371983,0.0017069819616511162,-0.00778660391970017,0.0],\"yaxis\":\"y\"},{\"legendgroup\":\"1_1_1\",\"line\":{\"color\":\"#2ca02c\"},\"name\":\"c 12 mM, pH 7\",\"showlegend\":true,\"type\":\"scatter\",\"x\":[7.0,6.75,6.5,6.25,6.0,5.75,5.5,5.25,5.0,4.75,4.5,4.25,4.0,3.75,3.5,3.25,3.0,2.75,2.5,2.25,2.0,1.75,1.5,1.25,1.0,0.75,0.5,0.25,0.0,-0.25,-0.5,-0.75,-1.0,-1.25,-1.5,-1.75,-2.0,-2.25,-2.5,-2.75,-3.0,-3.25,-3.5,-3.75,-4.0,-4.25,-4.5,-4.75,-5.0,-5.25,-5.5,-5.75,-6.0,-6.25,-6.5,-6.75,-7.0],\"xaxis\":\"x\",\"y\":[0.9240743106114024,0.9204768681935267,0.9201628547239479,0.9178818454760211,0.9160238173420495,0.9115828436188766,0.9085477808060117,0.9057126108281051,0.8995790443544729,0.8934885447491803,0.8882070609591602,0.8803291213450568,0.8719319811204244,0.861036624688897,0.8499944732777626,0.8370730537688562,0.8195895191204351,0.7984822589303477,0.7743089862954734,0.7455112150407397,0.7073503570487637,0.6589808435089952,0.5968474646478671,0.5151234622941359,0.4101494150275697,0.2835004569906252,0.15129125006132932,0.0475675381726079,0.003994064278599693,0.03993421555845313,0.1548098171022009,0.3139884000059972,0.4681065903942671,0.5903581183323243,0.6801152405109582,0.7435004416218707,0.7893730410858735,0.8228779746375143,0.8457208119124031,0.8642388292962355,0.8776075660632696,0.8898769598742,0.897770260190849,0.904588789250724,0.909634573365879,0.9141743684945894,0.9172201358979739,0.920842100687883,0.9218432102919671,0.924640879842271,0.9256014115745342,0.9263247087113646,0.9269876429240005,0.9301565066953943,0.9297259959400481,0.9298220386006214,0.9303892279627229],\"yaxis\":\"y\"},{\"legendgroup\":\"1_1_2\",\"line\":{\"color\":\"#2ca02c\"},\"name\":\"12 mM, pH 7\",\"showlegend\":false,\"type\":\"scatter\",\"x\":[7.0,6.75,6.5,6.25,6.0,5.75,5.5,5.25,5.0,4.75,4.5,4.25,4.0,3.75,3.5,3.25,3.0,2.75,2.5,2.25,2.0,1.75,1.5,1.25,1.0,0.75,0.5,0.25,0.0],\"xaxis\":\"x\",\"y\":[0.006314917351320504,0.009345170407094705,0.009563141216100246,0.01227466121937315,0.01096382558195097,0.014741865092487982,0.01705363076852251,0.018928269014165888,0.02226416593749425,0.0273535559387027,0.029013074938813666,0.03384524714953263,0.03770259224545469,0.04355216456182698,0.04777578691308648,0.0528039061053438,0.05801804694283452,0.06575657036588778,0.07141182561692971,0.07736675959677464,0.08202268403710977,0.08451959811287546,0.08326777586309109,0.07523465603818846,0.05795717536669742,0.030487943015372,0.003518567040871584,-0.007633322614154767,0.0],\"yaxis\":\"y\"}],                        {\"annotations\":[{\"font\":{\"size\":16},\"showarrow\":false,\"text\":\"4uT\",\"x\":0.5,\"xanchor\":\"center\",\"xref\":\"paper\",\"y\":1.0,\"yanchor\":\"bottom\",\"yref\":\"paper\"}],\"height\":250,\"margin\":{\"b\":0,\"l\":45,\"r\":0,\"t\":50},\"template\":{\"data\":{\"bar\":[{\"error_x\":{\"color\":\"#2a3f5f\"},\"error_y\":{\"color\":\"#2a3f5f\"},\"marker\":{\"line\":{\"color\":\"white\",\"width\":0.5},\"pattern\":{\"fillmode\":\"overlay\",\"size\":10,\"solidity\":0.2}},\"type\":\"bar\"}],\"barpolar\":[{\"marker\":{\"line\":{\"color\":\"white\",\"width\":0.5},\"pattern\":{\"fillmode\":\"overlay\",\"size\":10,\"solidity\":0.2}},\"type\":\"barpolar\"}],\"carpet\":[{\"aaxis\":{\"endlinecolor\":\"#2a3f5f\",\"gridcolor\":\"#C8D4E3\",\"linecolor\":\"#C8D4E3\",\"minorgridcolor\":\"#C8D4E3\",\"startlinecolor\":\"#2a3f5f\"},\"baxis\":{\"endlinecolor\":\"#2a3f5f\",\"gridcolor\":\"#C8D4E3\",\"linecolor\":\"#C8D4E3\",\"minorgridcolor\":\"#C8D4E3\",\"startlinecolor\":\"#2a3f5f\"},\"type\":\"carpet\"}],\"choropleth\":[{\"colorbar\":{\"outlinewidth\":0,\"ticks\":\"\"},\"type\":\"choropleth\"}],\"contour\":[{\"colorbar\":{\"outlinewidth\":0,\"ticks\":\"\"},\"colorscale\":[[0.0,\"#0d0887\"],[0.1111111111111111,\"#46039f\"],[0.2222222222222222,\"#7201a8\"],[0.3333333333333333,\"#9c179e\"],[0.4444444444444444,\"#bd3786\"],[0.5555555555555556,\"#d8576b\"],[0.6666666666666666,\"#ed7953\"],[0.7777777777777778,\"#fb9f3a\"],[0.8888888888888888,\"#fdca26\"],[1.0,\"#f0f921\"]],\"type\":\"contour\"}],\"contourcarpet\":[{\"colorbar\":{\"outlinewidth\":0,\"ticks\":\"\"},\"type\":\"contourcarpet\"}],\"heatmap\":[{\"colorbar\":{\"outlinewidth\":0,\"ticks\":\"\"},\"colorscale\":[[0.0,\"#0d0887\"],[0.1111111111111111,\"#46039f\"],[0.2222222222222222,\"#7201a8\"],[0.3333333333333333,\"#9c179e\"],[0.4444444444444444,\"#bd3786\"],[0.5555555555555556,\"#d8576b\"],[0.6666666666666666,\"#ed7953\"],[0.7777777777777778,\"#fb9f3a\"],[0.8888888888888888,\"#fdca26\"],[1.0,\"#f0f921\"]],\"type\":\"heatmap\"}],\"heatmapgl\":[{\"colorbar\":{\"outlinewidth\":0,\"ticks\":\"\"},\"colorscale\":[[0.0,\"#0d0887\"],[0.1111111111111111,\"#46039f\"],[0.2222222222222222,\"#7201a8\"],[0.3333333333333333,\"#9c179e\"],[0.4444444444444444,\"#bd3786\"],[0.5555555555555556,\"#d8576b\"],[0.6666666666666666,\"#ed7953\"],[0.7777777777777778,\"#fb9f3a\"],[0.8888888888888888,\"#fdca26\"],[1.0,\"#f0f921\"]],\"type\":\"heatmapgl\"}],\"histogram\":[{\"marker\":{\"pattern\":{\"fillmode\":\"overlay\",\"size\":10,\"solidity\":0.2}},\"type\":\"histogram\"}],\"histogram2d\":[{\"colorbar\":{\"outlinewidth\":0,\"ticks\":\"\"},\"colorscale\":[[0.0,\"#0d0887\"],[0.1111111111111111,\"#46039f\"],[0.2222222222222222,\"#7201a8\"],[0.3333333333333333,\"#9c179e\"],[0.4444444444444444,\"#bd3786\"],[0.5555555555555556,\"#d8576b\"],[0.6666666666666666,\"#ed7953\"],[0.7777777777777778,\"#fb9f3a\"],[0.8888888888888888,\"#fdca26\"],[1.0,\"#f0f921\"]],\"type\":\"histogram2d\"}],\"histogram2dcontour\":[{\"colorbar\":{\"outlinewidth\":0,\"ticks\":\"\"},\"colorscale\":[[0.0,\"#0d0887\"],[0.1111111111111111,\"#46039f\"],[0.2222222222222222,\"#7201a8\"],[0.3333333333333333,\"#9c179e\"],[0.4444444444444444,\"#bd3786\"],[0.5555555555555556,\"#d8576b\"],[0.6666666666666666,\"#ed7953\"],[0.7777777777777778,\"#fb9f3a\"],[0.8888888888888888,\"#fdca26\"],[1.0,\"#f0f921\"]],\"type\":\"histogram2dcontour\"}],\"mesh3d\":[{\"colorbar\":{\"outlinewidth\":0,\"ticks\":\"\"},\"type\":\"mesh3d\"}],\"parcoords\":[{\"line\":{\"colorbar\":{\"outlinewidth\":0,\"ticks\":\"\"}},\"type\":\"parcoords\"}],\"pie\":[{\"automargin\":true,\"type\":\"pie\"}],\"scatter\":[{\"marker\":{\"colorbar\":{\"outlinewidth\":0,\"ticks\":\"\"}},\"type\":\"scatter\"}],\"scatter3d\":[{\"line\":{\"colorbar\":{\"outlinewidth\":0,\"ticks\":\"\"}},\"marker\":{\"colorbar\":{\"outlinewidth\":0,\"ticks\":\"\"}},\"type\":\"scatter3d\"}],\"scattercarpet\":[{\"marker\":{\"colorbar\":{\"outlinewidth\":0,\"ticks\":\"\"}},\"type\":\"scattercarpet\"}],\"scattergeo\":[{\"marker\":{\"colorbar\":{\"outlinewidth\":0,\"ticks\":\"\"}},\"type\":\"scattergeo\"}],\"scattergl\":[{\"marker\":{\"colorbar\":{\"outlinewidth\":0,\"ticks\":\"\"}},\"type\":\"scattergl\"}],\"scattermapbox\":[{\"marker\":{\"colorbar\":{\"outlinewidth\":0,\"ticks\":\"\"}},\"type\":\"scattermapbox\"}],\"scatterpolar\":[{\"marker\":{\"colorbar\":{\"outlinewidth\":0,\"ticks\":\"\"}},\"type\":\"scatterpolar\"}],\"scatterpolargl\":[{\"marker\":{\"colorbar\":{\"outlinewidth\":0,\"ticks\":\"\"}},\"type\":\"scatterpolargl\"}],\"scatterternary\":[{\"marker\":{\"colorbar\":{\"outlinewidth\":0,\"ticks\":\"\"}},\"type\":\"scatterternary\"}],\"surface\":[{\"colorbar\":{\"outlinewidth\":0,\"ticks\":\"\"},\"colorscale\":[[0.0,\"#0d0887\"],[0.1111111111111111,\"#46039f\"],[0.2222222222222222,\"#7201a8\"],[0.3333333333333333,\"#9c179e\"],[0.4444444444444444,\"#bd3786\"],[0.5555555555555556,\"#d8576b\"],[0.6666666666666666,\"#ed7953\"],[0.7777777777777778,\"#fb9f3a\"],[0.8888888888888888,\"#fdca26\"],[1.0,\"#f0f921\"]],\"type\":\"surface\"}],\"table\":[{\"cells\":{\"fill\":{\"color\":\"#EBF0F8\"},\"line\":{\"color\":\"white\"}},\"header\":{\"fill\":{\"color\":\"#C8D4E3\"},\"line\":{\"color\":\"white\"}},\"type\":\"table\"}]},\"layout\":{\"annotationdefaults\":{\"arrowcolor\":\"#2a3f5f\",\"arrowhead\":0,\"arrowwidth\":1},\"autotypenumbers\":\"strict\",\"coloraxis\":{\"colorbar\":{\"outlinewidth\":0,\"ticks\":\"\"}},\"colorscale\":{\"diverging\":[[0,\"#8e0152\"],[0.1,\"#c51b7d\"],[0.2,\"#de77ae\"],[0.3,\"#f1b6da\"],[0.4,\"#fde0ef\"],[0.5,\"#f7f7f7\"],[0.6,\"#e6f5d0\"],[0.7,\"#b8e186\"],[0.8,\"#7fbc41\"],[0.9,\"#4d9221\"],[1,\"#276419\"]],\"sequential\":[[0.0,\"#0d0887\"],[0.1111111111111111,\"#46039f\"],[0.2222222222222222,\"#7201a8\"],[0.3333333333333333,\"#9c179e\"],[0.4444444444444444,\"#bd3786\"],[0.5555555555555556,\"#d8576b\"],[0.6666666666666666,\"#ed7953\"],[0.7777777777777778,\"#fb9f3a\"],[0.8888888888888888,\"#fdca26\"],[1.0,\"#f0f921\"]],\"sequentialminus\":[[0.0,\"#0d0887\"],[0.1111111111111111,\"#46039f\"],[0.2222222222222222,\"#7201a8\"],[0.3333333333333333,\"#9c179e\"],[0.4444444444444444,\"#bd3786\"],[0.5555555555555556,\"#d8576b\"],[0.6666666666666666,\"#ed7953\"],[0.7777777777777778,\"#fb9f3a\"],[0.8888888888888888,\"#fdca26\"],[1.0,\"#f0f921\"]]},\"colorway\":[\"#636efa\",\"#EF553B\",\"#00cc96\",\"#ab63fa\",\"#FFA15A\",\"#19d3f3\",\"#FF6692\",\"#B6E880\",\"#FF97FF\",\"#FECB52\"],\"font\":{\"color\":\"#2a3f5f\"},\"geo\":{\"bgcolor\":\"white\",\"lakecolor\":\"white\",\"landcolor\":\"white\",\"showlakes\":true,\"showland\":true,\"subunitcolor\":\"#C8D4E3\"},\"hoverlabel\":{\"align\":\"left\"},\"hovermode\":\"closest\",\"mapbox\":{\"style\":\"light\"},\"paper_bgcolor\":\"white\",\"plot_bgcolor\":\"white\",\"polar\":{\"angularaxis\":{\"gridcolor\":\"#EBF0F8\",\"linecolor\":\"#EBF0F8\",\"ticks\":\"\"},\"bgcolor\":\"white\",\"radialaxis\":{\"gridcolor\":\"#EBF0F8\",\"linecolor\":\"#EBF0F8\",\"ticks\":\"\"}},\"scene\":{\"xaxis\":{\"backgroundcolor\":\"white\",\"gridcolor\":\"#DFE8F3\",\"gridwidth\":2,\"linecolor\":\"#EBF0F8\",\"showbackground\":true,\"ticks\":\"\",\"zerolinecolor\":\"#EBF0F8\"},\"yaxis\":{\"backgroundcolor\":\"white\",\"gridcolor\":\"#DFE8F3\",\"gridwidth\":2,\"linecolor\":\"#EBF0F8\",\"showbackground\":true,\"ticks\":\"\",\"zerolinecolor\":\"#EBF0F8\"},\"zaxis\":{\"backgroundcolor\":\"white\",\"gridcolor\":\"#DFE8F3\",\"gridwidth\":2,\"linecolor\":\"#EBF0F8\",\"showbackground\":true,\"ticks\":\"\",\"zerolinecolor\":\"#EBF0F8\"}},\"shapedefaults\":{\"line\":{\"color\":\"#2a3f5f\"}},\"ternary\":{\"aaxis\":{\"gridcolor\":\"#DFE8F3\",\"linecolor\":\"#A2B1C6\",\"ticks\":\"\"},\"baxis\":{\"gridcolor\":\"#DFE8F3\",\"linecolor\":\"#A2B1C6\",\"ticks\":\"\"},\"bgcolor\":\"white\",\"caxis\":{\"gridcolor\":\"#DFE8F3\",\"linecolor\":\"#A2B1C6\",\"ticks\":\"\"}},\"title\":{\"x\":0.05},\"xaxis\":{\"automargin\":true,\"gridcolor\":\"#EBF0F8\",\"linecolor\":\"#EBF0F8\",\"ticks\":\"\",\"title\":{\"standoff\":15},\"zerolinecolor\":\"#EBF0F8\",\"zerolinewidth\":2},\"yaxis\":{\"automargin\":true,\"gridcolor\":\"#EBF0F8\",\"linecolor\":\"#EBF0F8\",\"ticks\":\"\",\"title\":{\"standoff\":15},\"zerolinecolor\":\"#EBF0F8\",\"zerolinewidth\":2}}},\"title\":{\"text\":\"Phantom Feb - 33\\u00b0C Z-spectrum\",\"x\":0.02,\"y\":0.97},\"width\":500,\"xaxis\":{\"anchor\":\"y\",\"autorange\":\"reversed\",\"domain\":[0.0,1.0],\"dtick\":1,\"tick0\":0,\"tickmode\":\"linear\",\"title\":{\"text\":\"ppm\"}},\"yaxis\":{\"anchor\":\"x\",\"domain\":[0.0,1.0],\"dtick\":0.2,\"range\":[-0.1,1],\"tick0\":0,\"tickmode\":\"linear\",\"title\":{\"standoff\":2,\"text\":\"$M_{sat}/M_0$\"}}},                        {\"responsive\": true}                    ).then(function(){\n                            \nvar gd = document.getElementById('bb50904e-e8fc-4966-a2d1-e54f72d5e4b1');\nvar x = new MutationObserver(function (mutations, observer) {{\n        var display = window.getComputedStyle(gd).display;\n        if (!display || display === 'none') {{\n            console.log([gd, 'removed!']);\n            Plotly.purge(gd);\n            observer.disconnect();\n        }}\n}});\n\n// Listen for the removal of the full notebook cells\nvar notebookContainer = gd.closest('#notebook-container');\nif (notebookContainer) {{\n    x.observe(notebookContainer, {childList: true});\n}}\n\n// Listen for the clearing of the current output cell\nvar outputEl = gd.closest('.output');\nif (outputEl) {{\n    x.observe(outputEl, {childList: true});\n}}\n\n                        })                };                });            </script>        </div>"
     },
     "metadata": {},
     "output_type": "display_data"
    },
    {
     "data": {
      "application/vnd.plotly.v1+json": {
       "config": {
        "plotlyServerURL": "https://plot.ly"
       },
       "data": [
        {
         "legendgroup": "1_1_2",
         "line": {
          "color": "#1f77b4"
         },
         "name": "20 mM, pH 7",
         "showlegend": true,
         "type": "scatter",
         "x": [
          7.0,
          6.75,
          6.5,
          6.25,
          6.0,
          5.75,
          5.5,
          5.25,
          5.0,
          4.75,
          4.5,
          4.25,
          4.0,
          3.75,
          3.5,
          3.25,
          3.0,
          2.75,
          2.5,
          2.25,
          2.0,
          1.75,
          1.5,
          1.25,
          1.0,
          0.75,
          0.5,
          0.25,
          0.0
         ],
         "xaxis": "x",
         "y": [
          0.011114699608597567,
          0.012690725575624673,
          0.015841812347523576,
          0.017690597299378163,
          0.019363512882478284,
          0.02151891277164919,
          0.02457195585406946,
          0.02850161665578954,
          0.032698314434057685,
          0.03684138769573886,
          0.04207706924843213,
          0.04769013002442857,
          0.05360479461374157,
          0.0596353106882328,
          0.06509886902844486,
          0.07235934447622072,
          0.07879354721158682,
          0.08510392112595899,
          0.09203024321029674,
          0.09819111647993417,
          0.1012296328039447,
          0.10251067524096569,
          0.0964620952909021,
          0.08286571523649089,
          0.05745042810485512,
          0.02712928534930814,
          0.0012375247408026174,
          -0.007115814268238974,
          0.0
         ],
         "yaxis": "y"
        },
        {
         "legendgroup": "1_1_2",
         "line": {
          "color": "#ff7f0e"
         },
         "name": "16 mM, pH 7",
         "showlegend": true,
         "type": "scatter",
         "x": [
          7.0,
          6.75,
          6.5,
          6.25,
          6.0,
          5.75,
          5.5,
          5.25,
          5.0,
          4.75,
          4.5,
          4.25,
          4.0,
          3.75,
          3.5,
          3.25,
          3.0,
          2.75,
          2.5,
          2.25,
          2.0,
          1.75,
          1.5,
          1.25,
          1.0,
          0.75,
          0.5,
          0.25,
          0.0
         ],
         "xaxis": "x",
         "y": [
          0.009891588114398608,
          0.011607608335416741,
          0.011129713507835315,
          0.01517821663218022,
          0.018081590314855678,
          0.01934198201532389,
          0.020415203866276377,
          0.02503961037214908,
          0.030027565566777215,
          0.03426063962267112,
          0.036234212737844884,
          0.042414851026428835,
          0.04968836719284675,
          0.055352241585174045,
          0.05914511745330564,
          0.06704541789208585,
          0.07460901060240588,
          0.08028864952157955,
          0.08651762748402358,
          0.0922069112045959,
          0.0990798879330379,
          0.10024562662989389,
          0.09476258262368109,
          0.08390712779888881,
          0.06156502828262711,
          0.030035060138371983,
          0.0017069819616511162,
          -0.00778660391970017,
          0.0
         ],
         "yaxis": "y"
        },
        {
         "legendgroup": "1_1_2",
         "line": {
          "color": "#2ca02c"
         },
         "name": "12 mM, pH 7",
         "showlegend": true,
         "type": "scatter",
         "x": [
          7.0,
          6.75,
          6.5,
          6.25,
          6.0,
          5.75,
          5.5,
          5.25,
          5.0,
          4.75,
          4.5,
          4.25,
          4.0,
          3.75,
          3.5,
          3.25,
          3.0,
          2.75,
          2.5,
          2.25,
          2.0,
          1.75,
          1.5,
          1.25,
          1.0,
          0.75,
          0.5,
          0.25,
          0.0
         ],
         "xaxis": "x",
         "y": [
          0.006314917351320504,
          0.009345170407094705,
          0.009563141216100246,
          0.01227466121937315,
          0.01096382558195097,
          0.014741865092487982,
          0.01705363076852251,
          0.018928269014165888,
          0.02226416593749425,
          0.0273535559387027,
          0.029013074938813666,
          0.03384524714953263,
          0.03770259224545469,
          0.04355216456182698,
          0.04777578691308648,
          0.0528039061053438,
          0.05801804694283452,
          0.06575657036588778,
          0.07141182561692971,
          0.07736675959677464,
          0.08202268403710977,
          0.08451959811287546,
          0.08326777586309109,
          0.07523465603818846,
          0.05795717536669742,
          0.030487943015372,
          0.003518567040871584,
          -0.007633322614154767,
          0.0
         ],
         "yaxis": "y"
        }
       ],
       "layout": {
        "annotations": [
         {
          "font": {
           "size": 16
          },
          "showarrow": false,
          "text": "4uT",
          "x": 0.5,
          "xanchor": "center",
          "xref": "paper",
          "y": 1.0,
          "yanchor": "bottom",
          "yref": "paper"
         }
        ],
        "height": 250,
        "margin": {
         "b": 0,
         "l": 0,
         "r": 0,
         "t": 60
        },
        "template": {
         "data": {
          "bar": [
           {
            "error_x": {
             "color": "#2a3f5f"
            },
            "error_y": {
             "color": "#2a3f5f"
            },
            "marker": {
             "line": {
              "color": "white",
              "width": 0.5
             },
             "pattern": {
              "fillmode": "overlay",
              "size": 10,
              "solidity": 0.2
             }
            },
            "type": "bar"
           }
          ],
          "barpolar": [
           {
            "marker": {
             "line": {
              "color": "white",
              "width": 0.5
             },
             "pattern": {
              "fillmode": "overlay",
              "size": 10,
              "solidity": 0.2
             }
            },
            "type": "barpolar"
           }
          ],
          "carpet": [
           {
            "aaxis": {
             "endlinecolor": "#2a3f5f",
             "gridcolor": "#C8D4E3",
             "linecolor": "#C8D4E3",
             "minorgridcolor": "#C8D4E3",
             "startlinecolor": "#2a3f5f"
            },
            "baxis": {
             "endlinecolor": "#2a3f5f",
             "gridcolor": "#C8D4E3",
             "linecolor": "#C8D4E3",
             "minorgridcolor": "#C8D4E3",
             "startlinecolor": "#2a3f5f"
            },
            "type": "carpet"
           }
          ],
          "choropleth": [
           {
            "colorbar": {
             "outlinewidth": 0,
             "ticks": ""
            },
            "type": "choropleth"
           }
          ],
          "contour": [
           {
            "colorbar": {
             "outlinewidth": 0,
             "ticks": ""
            },
            "colorscale": [
             [
              0.0,
              "#0d0887"
             ],
             [
              0.1111111111111111,
              "#46039f"
             ],
             [
              0.2222222222222222,
              "#7201a8"
             ],
             [
              0.3333333333333333,
              "#9c179e"
             ],
             [
              0.4444444444444444,
              "#bd3786"
             ],
             [
              0.5555555555555556,
              "#d8576b"
             ],
             [
              0.6666666666666666,
              "#ed7953"
             ],
             [
              0.7777777777777778,
              "#fb9f3a"
             ],
             [
              0.8888888888888888,
              "#fdca26"
             ],
             [
              1.0,
              "#f0f921"
             ]
            ],
            "type": "contour"
           }
          ],
          "contourcarpet": [
           {
            "colorbar": {
             "outlinewidth": 0,
             "ticks": ""
            },
            "type": "contourcarpet"
           }
          ],
          "heatmap": [
           {
            "colorbar": {
             "outlinewidth": 0,
             "ticks": ""
            },
            "colorscale": [
             [
              0.0,
              "#0d0887"
             ],
             [
              0.1111111111111111,
              "#46039f"
             ],
             [
              0.2222222222222222,
              "#7201a8"
             ],
             [
              0.3333333333333333,
              "#9c179e"
             ],
             [
              0.4444444444444444,
              "#bd3786"
             ],
             [
              0.5555555555555556,
              "#d8576b"
             ],
             [
              0.6666666666666666,
              "#ed7953"
             ],
             [
              0.7777777777777778,
              "#fb9f3a"
             ],
             [
              0.8888888888888888,
              "#fdca26"
             ],
             [
              1.0,
              "#f0f921"
             ]
            ],
            "type": "heatmap"
           }
          ],
          "heatmapgl": [
           {
            "colorbar": {
             "outlinewidth": 0,
             "ticks": ""
            },
            "colorscale": [
             [
              0.0,
              "#0d0887"
             ],
             [
              0.1111111111111111,
              "#46039f"
             ],
             [
              0.2222222222222222,
              "#7201a8"
             ],
             [
              0.3333333333333333,
              "#9c179e"
             ],
             [
              0.4444444444444444,
              "#bd3786"
             ],
             [
              0.5555555555555556,
              "#d8576b"
             ],
             [
              0.6666666666666666,
              "#ed7953"
             ],
             [
              0.7777777777777778,
              "#fb9f3a"
             ],
             [
              0.8888888888888888,
              "#fdca26"
             ],
             [
              1.0,
              "#f0f921"
             ]
            ],
            "type": "heatmapgl"
           }
          ],
          "histogram": [
           {
            "marker": {
             "pattern": {
              "fillmode": "overlay",
              "size": 10,
              "solidity": 0.2
             }
            },
            "type": "histogram"
           }
          ],
          "histogram2d": [
           {
            "colorbar": {
             "outlinewidth": 0,
             "ticks": ""
            },
            "colorscale": [
             [
              0.0,
              "#0d0887"
             ],
             [
              0.1111111111111111,
              "#46039f"
             ],
             [
              0.2222222222222222,
              "#7201a8"
             ],
             [
              0.3333333333333333,
              "#9c179e"
             ],
             [
              0.4444444444444444,
              "#bd3786"
             ],
             [
              0.5555555555555556,
              "#d8576b"
             ],
             [
              0.6666666666666666,
              "#ed7953"
             ],
             [
              0.7777777777777778,
              "#fb9f3a"
             ],
             [
              0.8888888888888888,
              "#fdca26"
             ],
             [
              1.0,
              "#f0f921"
             ]
            ],
            "type": "histogram2d"
           }
          ],
          "histogram2dcontour": [
           {
            "colorbar": {
             "outlinewidth": 0,
             "ticks": ""
            },
            "colorscale": [
             [
              0.0,
              "#0d0887"
             ],
             [
              0.1111111111111111,
              "#46039f"
             ],
             [
              0.2222222222222222,
              "#7201a8"
             ],
             [
              0.3333333333333333,
              "#9c179e"
             ],
             [
              0.4444444444444444,
              "#bd3786"
             ],
             [
              0.5555555555555556,
              "#d8576b"
             ],
             [
              0.6666666666666666,
              "#ed7953"
             ],
             [
              0.7777777777777778,
              "#fb9f3a"
             ],
             [
              0.8888888888888888,
              "#fdca26"
             ],
             [
              1.0,
              "#f0f921"
             ]
            ],
            "type": "histogram2dcontour"
           }
          ],
          "mesh3d": [
           {
            "colorbar": {
             "outlinewidth": 0,
             "ticks": ""
            },
            "type": "mesh3d"
           }
          ],
          "parcoords": [
           {
            "line": {
             "colorbar": {
              "outlinewidth": 0,
              "ticks": ""
             }
            },
            "type": "parcoords"
           }
          ],
          "pie": [
           {
            "automargin": true,
            "type": "pie"
           }
          ],
          "scatter": [
           {
            "marker": {
             "colorbar": {
              "outlinewidth": 0,
              "ticks": ""
             }
            },
            "type": "scatter"
           }
          ],
          "scatter3d": [
           {
            "line": {
             "colorbar": {
              "outlinewidth": 0,
              "ticks": ""
             }
            },
            "marker": {
             "colorbar": {
              "outlinewidth": 0,
              "ticks": ""
             }
            },
            "type": "scatter3d"
           }
          ],
          "scattercarpet": [
           {
            "marker": {
             "colorbar": {
              "outlinewidth": 0,
              "ticks": ""
             }
            },
            "type": "scattercarpet"
           }
          ],
          "scattergeo": [
           {
            "marker": {
             "colorbar": {
              "outlinewidth": 0,
              "ticks": ""
             }
            },
            "type": "scattergeo"
           }
          ],
          "scattergl": [
           {
            "marker": {
             "colorbar": {
              "outlinewidth": 0,
              "ticks": ""
             }
            },
            "type": "scattergl"
           }
          ],
          "scattermapbox": [
           {
            "marker": {
             "colorbar": {
              "outlinewidth": 0,
              "ticks": ""
             }
            },
            "type": "scattermapbox"
           }
          ],
          "scatterpolar": [
           {
            "marker": {
             "colorbar": {
              "outlinewidth": 0,
              "ticks": ""
             }
            },
            "type": "scatterpolar"
           }
          ],
          "scatterpolargl": [
           {
            "marker": {
             "colorbar": {
              "outlinewidth": 0,
              "ticks": ""
             }
            },
            "type": "scatterpolargl"
           }
          ],
          "scatterternary": [
           {
            "marker": {
             "colorbar": {
              "outlinewidth": 0,
              "ticks": ""
             }
            },
            "type": "scatterternary"
           }
          ],
          "surface": [
           {
            "colorbar": {
             "outlinewidth": 0,
             "ticks": ""
            },
            "colorscale": [
             [
              0.0,
              "#0d0887"
             ],
             [
              0.1111111111111111,
              "#46039f"
             ],
             [
              0.2222222222222222,
              "#7201a8"
             ],
             [
              0.3333333333333333,
              "#9c179e"
             ],
             [
              0.4444444444444444,
              "#bd3786"
             ],
             [
              0.5555555555555556,
              "#d8576b"
             ],
             [
              0.6666666666666666,
              "#ed7953"
             ],
             [
              0.7777777777777778,
              "#fb9f3a"
             ],
             [
              0.8888888888888888,
              "#fdca26"
             ],
             [
              1.0,
              "#f0f921"
             ]
            ],
            "type": "surface"
           }
          ],
          "table": [
           {
            "cells": {
             "fill": {
              "color": "#EBF0F8"
             },
             "line": {
              "color": "white"
             }
            },
            "header": {
             "fill": {
              "color": "#C8D4E3"
             },
             "line": {
              "color": "white"
             }
            },
            "type": "table"
           }
          ]
         },
         "layout": {
          "annotationdefaults": {
           "arrowcolor": "#2a3f5f",
           "arrowhead": 0,
           "arrowwidth": 1
          },
          "autotypenumbers": "strict",
          "coloraxis": {
           "colorbar": {
            "outlinewidth": 0,
            "ticks": ""
           }
          },
          "colorscale": {
           "diverging": [
            [
             0,
             "#8e0152"
            ],
            [
             0.1,
             "#c51b7d"
            ],
            [
             0.2,
             "#de77ae"
            ],
            [
             0.3,
             "#f1b6da"
            ],
            [
             0.4,
             "#fde0ef"
            ],
            [
             0.5,
             "#f7f7f7"
            ],
            [
             0.6,
             "#e6f5d0"
            ],
            [
             0.7,
             "#b8e186"
            ],
            [
             0.8,
             "#7fbc41"
            ],
            [
             0.9,
             "#4d9221"
            ],
            [
             1,
             "#276419"
            ]
           ],
           "sequential": [
            [
             0.0,
             "#0d0887"
            ],
            [
             0.1111111111111111,
             "#46039f"
            ],
            [
             0.2222222222222222,
             "#7201a8"
            ],
            [
             0.3333333333333333,
             "#9c179e"
            ],
            [
             0.4444444444444444,
             "#bd3786"
            ],
            [
             0.5555555555555556,
             "#d8576b"
            ],
            [
             0.6666666666666666,
             "#ed7953"
            ],
            [
             0.7777777777777778,
             "#fb9f3a"
            ],
            [
             0.8888888888888888,
             "#fdca26"
            ],
            [
             1.0,
             "#f0f921"
            ]
           ],
           "sequentialminus": [
            [
             0.0,
             "#0d0887"
            ],
            [
             0.1111111111111111,
             "#46039f"
            ],
            [
             0.2222222222222222,
             "#7201a8"
            ],
            [
             0.3333333333333333,
             "#9c179e"
            ],
            [
             0.4444444444444444,
             "#bd3786"
            ],
            [
             0.5555555555555556,
             "#d8576b"
            ],
            [
             0.6666666666666666,
             "#ed7953"
            ],
            [
             0.7777777777777778,
             "#fb9f3a"
            ],
            [
             0.8888888888888888,
             "#fdca26"
            ],
            [
             1.0,
             "#f0f921"
            ]
           ]
          },
          "colorway": [
           "#636efa",
           "#EF553B",
           "#00cc96",
           "#ab63fa",
           "#FFA15A",
           "#19d3f3",
           "#FF6692",
           "#B6E880",
           "#FF97FF",
           "#FECB52"
          ],
          "font": {
           "color": "#2a3f5f"
          },
          "geo": {
           "bgcolor": "white",
           "lakecolor": "white",
           "landcolor": "white",
           "showlakes": true,
           "showland": true,
           "subunitcolor": "#C8D4E3"
          },
          "hoverlabel": {
           "align": "left"
          },
          "hovermode": "closest",
          "mapbox": {
           "style": "light"
          },
          "paper_bgcolor": "white",
          "plot_bgcolor": "white",
          "polar": {
           "angularaxis": {
            "gridcolor": "#EBF0F8",
            "linecolor": "#EBF0F8",
            "ticks": ""
           },
           "bgcolor": "white",
           "radialaxis": {
            "gridcolor": "#EBF0F8",
            "linecolor": "#EBF0F8",
            "ticks": ""
           }
          },
          "scene": {
           "xaxis": {
            "backgroundcolor": "white",
            "gridcolor": "#DFE8F3",
            "gridwidth": 2,
            "linecolor": "#EBF0F8",
            "showbackground": true,
            "ticks": "",
            "zerolinecolor": "#EBF0F8"
           },
           "yaxis": {
            "backgroundcolor": "white",
            "gridcolor": "#DFE8F3",
            "gridwidth": 2,
            "linecolor": "#EBF0F8",
            "showbackground": true,
            "ticks": "",
            "zerolinecolor": "#EBF0F8"
           },
           "zaxis": {
            "backgroundcolor": "white",
            "gridcolor": "#DFE8F3",
            "gridwidth": 2,
            "linecolor": "#EBF0F8",
            "showbackground": true,
            "ticks": "",
            "zerolinecolor": "#EBF0F8"
           }
          },
          "shapedefaults": {
           "line": {
            "color": "#2a3f5f"
           }
          },
          "ternary": {
           "aaxis": {
            "gridcolor": "#DFE8F3",
            "linecolor": "#A2B1C6",
            "ticks": ""
           },
           "baxis": {
            "gridcolor": "#DFE8F3",
            "linecolor": "#A2B1C6",
            "ticks": ""
           },
           "bgcolor": "white",
           "caxis": {
            "gridcolor": "#DFE8F3",
            "linecolor": "#A2B1C6",
            "ticks": ""
           }
          },
          "title": {
           "x": 0.05
          },
          "xaxis": {
           "automargin": true,
           "gridcolor": "#EBF0F8",
           "linecolor": "#EBF0F8",
           "ticks": "",
           "title": {
            "standoff": 15
           },
           "zerolinecolor": "#EBF0F8",
           "zerolinewidth": 2
          },
          "yaxis": {
           "automargin": true,
           "gridcolor": "#EBF0F8",
           "linecolor": "#EBF0F8",
           "ticks": "",
           "title": {
            "standoff": 15
           },
           "zerolinecolor": "#EBF0F8",
           "zerolinewidth": 2
          }
         }
        },
        "title": {
         "text": "Phantom Feb - 33°C MTR-asym",
         "x": 0.02,
         "y": 0.97
        },
        "width": 350,
        "xaxis": {
         "anchor": "y",
         "autorange": "reversed",
         "domain": [
          0.0,
          1.0
         ],
         "dtick": 1,
         "title": {
          "text": "ppm"
         }
        },
        "yaxis": {
         "anchor": "x",
         "domain": [
          0.0,
          1.0
         ],
         "dtick": 0.05,
         "range": [
          0,
          0.25
         ],
         "tick0": 0,
         "tickformat": ".0%",
         "tickmode": "linear",
         "title": {
          "text": "MTR-asym"
         }
        }
       }
      },
      "text/html": "<div>                            <div id=\"d098d871-444b-49c8-ac3b-4d170aa581b3\" class=\"plotly-graph-div\" style=\"height:250px; width:350px;\"></div>            <script type=\"text/javascript\">                require([\"plotly\"], function(Plotly) {                    window.PLOTLYENV=window.PLOTLYENV || {};                                    if (document.getElementById(\"d098d871-444b-49c8-ac3b-4d170aa581b3\")) {                    Plotly.newPlot(                        \"d098d871-444b-49c8-ac3b-4d170aa581b3\",                        [{\"legendgroup\":\"1_1_2\",\"line\":{\"color\":\"#1f77b4\"},\"name\":\"20 mM, pH 7\",\"showlegend\":true,\"type\":\"scatter\",\"x\":[7.0,6.75,6.5,6.25,6.0,5.75,5.5,5.25,5.0,4.75,4.5,4.25,4.0,3.75,3.5,3.25,3.0,2.75,2.5,2.25,2.0,1.75,1.5,1.25,1.0,0.75,0.5,0.25,0.0],\"xaxis\":\"x\",\"y\":[0.011114699608597567,0.012690725575624673,0.015841812347523576,0.017690597299378163,0.019363512882478284,0.02151891277164919,0.02457195585406946,0.02850161665578954,0.032698314434057685,0.03684138769573886,0.04207706924843213,0.04769013002442857,0.05360479461374157,0.0596353106882328,0.06509886902844486,0.07235934447622072,0.07879354721158682,0.08510392112595899,0.09203024321029674,0.09819111647993417,0.1012296328039447,0.10251067524096569,0.0964620952909021,0.08286571523649089,0.05745042810485512,0.02712928534930814,0.0012375247408026174,-0.007115814268238974,0.0],\"yaxis\":\"y\"},{\"legendgroup\":\"1_1_2\",\"line\":{\"color\":\"#ff7f0e\"},\"name\":\"16 mM, pH 7\",\"showlegend\":true,\"type\":\"scatter\",\"x\":[7.0,6.75,6.5,6.25,6.0,5.75,5.5,5.25,5.0,4.75,4.5,4.25,4.0,3.75,3.5,3.25,3.0,2.75,2.5,2.25,2.0,1.75,1.5,1.25,1.0,0.75,0.5,0.25,0.0],\"xaxis\":\"x\",\"y\":[0.009891588114398608,0.011607608335416741,0.011129713507835315,0.01517821663218022,0.018081590314855678,0.01934198201532389,0.020415203866276377,0.02503961037214908,0.030027565566777215,0.03426063962267112,0.036234212737844884,0.042414851026428835,0.04968836719284675,0.055352241585174045,0.05914511745330564,0.06704541789208585,0.07460901060240588,0.08028864952157955,0.08651762748402358,0.0922069112045959,0.0990798879330379,0.10024562662989389,0.09476258262368109,0.08390712779888881,0.06156502828262711,0.030035060138371983,0.0017069819616511162,-0.00778660391970017,0.0],\"yaxis\":\"y\"},{\"legendgroup\":\"1_1_2\",\"line\":{\"color\":\"#2ca02c\"},\"name\":\"12 mM, pH 7\",\"showlegend\":true,\"type\":\"scatter\",\"x\":[7.0,6.75,6.5,6.25,6.0,5.75,5.5,5.25,5.0,4.75,4.5,4.25,4.0,3.75,3.5,3.25,3.0,2.75,2.5,2.25,2.0,1.75,1.5,1.25,1.0,0.75,0.5,0.25,0.0],\"xaxis\":\"x\",\"y\":[0.006314917351320504,0.009345170407094705,0.009563141216100246,0.01227466121937315,0.01096382558195097,0.014741865092487982,0.01705363076852251,0.018928269014165888,0.02226416593749425,0.0273535559387027,0.029013074938813666,0.03384524714953263,0.03770259224545469,0.04355216456182698,0.04777578691308648,0.0528039061053438,0.05801804694283452,0.06575657036588778,0.07141182561692971,0.07736675959677464,0.08202268403710977,0.08451959811287546,0.08326777586309109,0.07523465603818846,0.05795717536669742,0.030487943015372,0.003518567040871584,-0.007633322614154767,0.0],\"yaxis\":\"y\"}],                        {\"annotations\":[{\"font\":{\"size\":16},\"showarrow\":false,\"text\":\"4uT\",\"x\":0.5,\"xanchor\":\"center\",\"xref\":\"paper\",\"y\":1.0,\"yanchor\":\"bottom\",\"yref\":\"paper\"}],\"height\":250,\"margin\":{\"b\":0,\"l\":0,\"r\":0,\"t\":60},\"template\":{\"data\":{\"bar\":[{\"error_x\":{\"color\":\"#2a3f5f\"},\"error_y\":{\"color\":\"#2a3f5f\"},\"marker\":{\"line\":{\"color\":\"white\",\"width\":0.5},\"pattern\":{\"fillmode\":\"overlay\",\"size\":10,\"solidity\":0.2}},\"type\":\"bar\"}],\"barpolar\":[{\"marker\":{\"line\":{\"color\":\"white\",\"width\":0.5},\"pattern\":{\"fillmode\":\"overlay\",\"size\":10,\"solidity\":0.2}},\"type\":\"barpolar\"}],\"carpet\":[{\"aaxis\":{\"endlinecolor\":\"#2a3f5f\",\"gridcolor\":\"#C8D4E3\",\"linecolor\":\"#C8D4E3\",\"minorgridcolor\":\"#C8D4E3\",\"startlinecolor\":\"#2a3f5f\"},\"baxis\":{\"endlinecolor\":\"#2a3f5f\",\"gridcolor\":\"#C8D4E3\",\"linecolor\":\"#C8D4E3\",\"minorgridcolor\":\"#C8D4E3\",\"startlinecolor\":\"#2a3f5f\"},\"type\":\"carpet\"}],\"choropleth\":[{\"colorbar\":{\"outlinewidth\":0,\"ticks\":\"\"},\"type\":\"choropleth\"}],\"contour\":[{\"colorbar\":{\"outlinewidth\":0,\"ticks\":\"\"},\"colorscale\":[[0.0,\"#0d0887\"],[0.1111111111111111,\"#46039f\"],[0.2222222222222222,\"#7201a8\"],[0.3333333333333333,\"#9c179e\"],[0.4444444444444444,\"#bd3786\"],[0.5555555555555556,\"#d8576b\"],[0.6666666666666666,\"#ed7953\"],[0.7777777777777778,\"#fb9f3a\"],[0.8888888888888888,\"#fdca26\"],[1.0,\"#f0f921\"]],\"type\":\"contour\"}],\"contourcarpet\":[{\"colorbar\":{\"outlinewidth\":0,\"ticks\":\"\"},\"type\":\"contourcarpet\"}],\"heatmap\":[{\"colorbar\":{\"outlinewidth\":0,\"ticks\":\"\"},\"colorscale\":[[0.0,\"#0d0887\"],[0.1111111111111111,\"#46039f\"],[0.2222222222222222,\"#7201a8\"],[0.3333333333333333,\"#9c179e\"],[0.4444444444444444,\"#bd3786\"],[0.5555555555555556,\"#d8576b\"],[0.6666666666666666,\"#ed7953\"],[0.7777777777777778,\"#fb9f3a\"],[0.8888888888888888,\"#fdca26\"],[1.0,\"#f0f921\"]],\"type\":\"heatmap\"}],\"heatmapgl\":[{\"colorbar\":{\"outlinewidth\":0,\"ticks\":\"\"},\"colorscale\":[[0.0,\"#0d0887\"],[0.1111111111111111,\"#46039f\"],[0.2222222222222222,\"#7201a8\"],[0.3333333333333333,\"#9c179e\"],[0.4444444444444444,\"#bd3786\"],[0.5555555555555556,\"#d8576b\"],[0.6666666666666666,\"#ed7953\"],[0.7777777777777778,\"#fb9f3a\"],[0.8888888888888888,\"#fdca26\"],[1.0,\"#f0f921\"]],\"type\":\"heatmapgl\"}],\"histogram\":[{\"marker\":{\"pattern\":{\"fillmode\":\"overlay\",\"size\":10,\"solidity\":0.2}},\"type\":\"histogram\"}],\"histogram2d\":[{\"colorbar\":{\"outlinewidth\":0,\"ticks\":\"\"},\"colorscale\":[[0.0,\"#0d0887\"],[0.1111111111111111,\"#46039f\"],[0.2222222222222222,\"#7201a8\"],[0.3333333333333333,\"#9c179e\"],[0.4444444444444444,\"#bd3786\"],[0.5555555555555556,\"#d8576b\"],[0.6666666666666666,\"#ed7953\"],[0.7777777777777778,\"#fb9f3a\"],[0.8888888888888888,\"#fdca26\"],[1.0,\"#f0f921\"]],\"type\":\"histogram2d\"}],\"histogram2dcontour\":[{\"colorbar\":{\"outlinewidth\":0,\"ticks\":\"\"},\"colorscale\":[[0.0,\"#0d0887\"],[0.1111111111111111,\"#46039f\"],[0.2222222222222222,\"#7201a8\"],[0.3333333333333333,\"#9c179e\"],[0.4444444444444444,\"#bd3786\"],[0.5555555555555556,\"#d8576b\"],[0.6666666666666666,\"#ed7953\"],[0.7777777777777778,\"#fb9f3a\"],[0.8888888888888888,\"#fdca26\"],[1.0,\"#f0f921\"]],\"type\":\"histogram2dcontour\"}],\"mesh3d\":[{\"colorbar\":{\"outlinewidth\":0,\"ticks\":\"\"},\"type\":\"mesh3d\"}],\"parcoords\":[{\"line\":{\"colorbar\":{\"outlinewidth\":0,\"ticks\":\"\"}},\"type\":\"parcoords\"}],\"pie\":[{\"automargin\":true,\"type\":\"pie\"}],\"scatter\":[{\"marker\":{\"colorbar\":{\"outlinewidth\":0,\"ticks\":\"\"}},\"type\":\"scatter\"}],\"scatter3d\":[{\"line\":{\"colorbar\":{\"outlinewidth\":0,\"ticks\":\"\"}},\"marker\":{\"colorbar\":{\"outlinewidth\":0,\"ticks\":\"\"}},\"type\":\"scatter3d\"}],\"scattercarpet\":[{\"marker\":{\"colorbar\":{\"outlinewidth\":0,\"ticks\":\"\"}},\"type\":\"scattercarpet\"}],\"scattergeo\":[{\"marker\":{\"colorbar\":{\"outlinewidth\":0,\"ticks\":\"\"}},\"type\":\"scattergeo\"}],\"scattergl\":[{\"marker\":{\"colorbar\":{\"outlinewidth\":0,\"ticks\":\"\"}},\"type\":\"scattergl\"}],\"scattermapbox\":[{\"marker\":{\"colorbar\":{\"outlinewidth\":0,\"ticks\":\"\"}},\"type\":\"scattermapbox\"}],\"scatterpolar\":[{\"marker\":{\"colorbar\":{\"outlinewidth\":0,\"ticks\":\"\"}},\"type\":\"scatterpolar\"}],\"scatterpolargl\":[{\"marker\":{\"colorbar\":{\"outlinewidth\":0,\"ticks\":\"\"}},\"type\":\"scatterpolargl\"}],\"scatterternary\":[{\"marker\":{\"colorbar\":{\"outlinewidth\":0,\"ticks\":\"\"}},\"type\":\"scatterternary\"}],\"surface\":[{\"colorbar\":{\"outlinewidth\":0,\"ticks\":\"\"},\"colorscale\":[[0.0,\"#0d0887\"],[0.1111111111111111,\"#46039f\"],[0.2222222222222222,\"#7201a8\"],[0.3333333333333333,\"#9c179e\"],[0.4444444444444444,\"#bd3786\"],[0.5555555555555556,\"#d8576b\"],[0.6666666666666666,\"#ed7953\"],[0.7777777777777778,\"#fb9f3a\"],[0.8888888888888888,\"#fdca26\"],[1.0,\"#f0f921\"]],\"type\":\"surface\"}],\"table\":[{\"cells\":{\"fill\":{\"color\":\"#EBF0F8\"},\"line\":{\"color\":\"white\"}},\"header\":{\"fill\":{\"color\":\"#C8D4E3\"},\"line\":{\"color\":\"white\"}},\"type\":\"table\"}]},\"layout\":{\"annotationdefaults\":{\"arrowcolor\":\"#2a3f5f\",\"arrowhead\":0,\"arrowwidth\":1},\"autotypenumbers\":\"strict\",\"coloraxis\":{\"colorbar\":{\"outlinewidth\":0,\"ticks\":\"\"}},\"colorscale\":{\"diverging\":[[0,\"#8e0152\"],[0.1,\"#c51b7d\"],[0.2,\"#de77ae\"],[0.3,\"#f1b6da\"],[0.4,\"#fde0ef\"],[0.5,\"#f7f7f7\"],[0.6,\"#e6f5d0\"],[0.7,\"#b8e186\"],[0.8,\"#7fbc41\"],[0.9,\"#4d9221\"],[1,\"#276419\"]],\"sequential\":[[0.0,\"#0d0887\"],[0.1111111111111111,\"#46039f\"],[0.2222222222222222,\"#7201a8\"],[0.3333333333333333,\"#9c179e\"],[0.4444444444444444,\"#bd3786\"],[0.5555555555555556,\"#d8576b\"],[0.6666666666666666,\"#ed7953\"],[0.7777777777777778,\"#fb9f3a\"],[0.8888888888888888,\"#fdca26\"],[1.0,\"#f0f921\"]],\"sequentialminus\":[[0.0,\"#0d0887\"],[0.1111111111111111,\"#46039f\"],[0.2222222222222222,\"#7201a8\"],[0.3333333333333333,\"#9c179e\"],[0.4444444444444444,\"#bd3786\"],[0.5555555555555556,\"#d8576b\"],[0.6666666666666666,\"#ed7953\"],[0.7777777777777778,\"#fb9f3a\"],[0.8888888888888888,\"#fdca26\"],[1.0,\"#f0f921\"]]},\"colorway\":[\"#636efa\",\"#EF553B\",\"#00cc96\",\"#ab63fa\",\"#FFA15A\",\"#19d3f3\",\"#FF6692\",\"#B6E880\",\"#FF97FF\",\"#FECB52\"],\"font\":{\"color\":\"#2a3f5f\"},\"geo\":{\"bgcolor\":\"white\",\"lakecolor\":\"white\",\"landcolor\":\"white\",\"showlakes\":true,\"showland\":true,\"subunitcolor\":\"#C8D4E3\"},\"hoverlabel\":{\"align\":\"left\"},\"hovermode\":\"closest\",\"mapbox\":{\"style\":\"light\"},\"paper_bgcolor\":\"white\",\"plot_bgcolor\":\"white\",\"polar\":{\"angularaxis\":{\"gridcolor\":\"#EBF0F8\",\"linecolor\":\"#EBF0F8\",\"ticks\":\"\"},\"bgcolor\":\"white\",\"radialaxis\":{\"gridcolor\":\"#EBF0F8\",\"linecolor\":\"#EBF0F8\",\"ticks\":\"\"}},\"scene\":{\"xaxis\":{\"backgroundcolor\":\"white\",\"gridcolor\":\"#DFE8F3\",\"gridwidth\":2,\"linecolor\":\"#EBF0F8\",\"showbackground\":true,\"ticks\":\"\",\"zerolinecolor\":\"#EBF0F8\"},\"yaxis\":{\"backgroundcolor\":\"white\",\"gridcolor\":\"#DFE8F3\",\"gridwidth\":2,\"linecolor\":\"#EBF0F8\",\"showbackground\":true,\"ticks\":\"\",\"zerolinecolor\":\"#EBF0F8\"},\"zaxis\":{\"backgroundcolor\":\"white\",\"gridcolor\":\"#DFE8F3\",\"gridwidth\":2,\"linecolor\":\"#EBF0F8\",\"showbackground\":true,\"ticks\":\"\",\"zerolinecolor\":\"#EBF0F8\"}},\"shapedefaults\":{\"line\":{\"color\":\"#2a3f5f\"}},\"ternary\":{\"aaxis\":{\"gridcolor\":\"#DFE8F3\",\"linecolor\":\"#A2B1C6\",\"ticks\":\"\"},\"baxis\":{\"gridcolor\":\"#DFE8F3\",\"linecolor\":\"#A2B1C6\",\"ticks\":\"\"},\"bgcolor\":\"white\",\"caxis\":{\"gridcolor\":\"#DFE8F3\",\"linecolor\":\"#A2B1C6\",\"ticks\":\"\"}},\"title\":{\"x\":0.05},\"xaxis\":{\"automargin\":true,\"gridcolor\":\"#EBF0F8\",\"linecolor\":\"#EBF0F8\",\"ticks\":\"\",\"title\":{\"standoff\":15},\"zerolinecolor\":\"#EBF0F8\",\"zerolinewidth\":2},\"yaxis\":{\"automargin\":true,\"gridcolor\":\"#EBF0F8\",\"linecolor\":\"#EBF0F8\",\"ticks\":\"\",\"title\":{\"standoff\":15},\"zerolinecolor\":\"#EBF0F8\",\"zerolinewidth\":2}}},\"title\":{\"text\":\"Phantom Feb - 33\\u00b0C MTR-asym\",\"x\":0.02,\"y\":0.97},\"width\":350,\"xaxis\":{\"anchor\":\"y\",\"autorange\":\"reversed\",\"domain\":[0.0,1.0],\"dtick\":1,\"title\":{\"text\":\"ppm\"}},\"yaxis\":{\"anchor\":\"x\",\"domain\":[0.0,1.0],\"dtick\":0.05,\"range\":[0,0.25],\"tick0\":0,\"tickformat\":\".0%\",\"tickmode\":\"linear\",\"title\":{\"text\":\"MTR-asym\"}}},                        {\"responsive\": true}                    ).then(function(){\n                            \nvar gd = document.getElementById('d098d871-444b-49c8-ac3b-4d170aa581b3');\nvar x = new MutationObserver(function (mutations, observer) {{\n        var display = window.getComputedStyle(gd).display;\n        if (!display || display === 'none') {{\n            console.log([gd, 'removed!']);\n            Plotly.purge(gd);\n            observer.disconnect();\n        }}\n}});\n\n// Listen for the removal of the full notebook cells\nvar notebookContainer = gd.closest('#notebook-container');\nif (notebookContainer) {{\n    x.observe(notebookContainer, {childList: true});\n}}\n\n// Listen for the clearing of the current output cell\nvar outputEl = gd.closest('.output');\nif (outputEl) {{\n    x.observe(outputEl, {childList: true});\n}}\n\n                        })                };                });            </script>        </div>"
     },
     "metadata": {},
     "output_type": "display_data"
    },
    {
     "data": {
      "application/vnd.plotly.v1+json": {
       "config": {
        "plotlyServerURL": "https://plot.ly"
       },
       "data": [
        {
         "legendgroup": "1_1_1",
         "line": {
          "color": "#1f77b4"
         },
         "name": "a 20 mM, pH 7",
         "showlegend": true,
         "type": "scatter",
         "x": [
          7.0,
          6.75,
          6.5,
          6.25,
          6.0,
          5.75,
          5.5,
          5.25,
          5.0,
          4.75,
          4.5,
          4.25,
          4.0,
          3.75,
          3.5,
          3.25,
          3.0,
          2.75,
          2.5,
          2.25,
          2.0,
          1.75,
          1.5,
          1.25,
          1.0,
          0.75,
          0.5,
          0.25,
          0.0,
          -0.25,
          -0.5,
          -0.75,
          -1.0,
          -1.25,
          -1.5,
          -1.75,
          -2.0,
          -2.25,
          -2.5,
          -2.75,
          -3.0,
          -3.25,
          -3.5,
          -3.75,
          -4.0,
          -4.25,
          -4.5,
          -4.75,
          -5.0,
          -5.25,
          -5.5,
          -5.75,
          -6.0,
          -6.25,
          -6.5,
          -6.75,
          -7.0
         ],
         "xaxis": "x",
         "y": [
          0.9124815563915941,
          0.9097281790816072,
          0.9050586345455184,
          0.9011821649423593,
          0.8979095544288126,
          0.8929215317117652,
          0.8885602864630806,
          0.8833231025054362,
          0.8779718925876652,
          0.8720868738566976,
          0.8632158728780529,
          0.8547706887211535,
          0.8451819058960608,
          0.832522431789026,
          0.8168665433872766,
          0.801052096154986,
          0.7801357062278749,
          0.7556132723865725,
          0.7256452548603884,
          0.6887029967897664,
          0.6453068111039368,
          0.588713616706452,
          0.5177886419135278,
          0.43122570926484155,
          0.3266489213082517,
          0.21166212150552646,
          0.10373435413825803,
          0.02831177461106499,
          0.0033056217107247715,
          0.03353525049176949,
          0.12102176503838508,
          0.25109770489385413,
          0.3913988801374536,
          0.5115207215760903,
          0.6065502163982132,
          0.6782046708581146,
          0.7313987458074643,
          0.7712312255079761,
          0.8018360688352216,
          0.8257456880235738,
          0.844914792309424,
          0.8597312936596689,
          0.8705346811894122,
          0.879729201786451,
          0.8885413951228855,
          0.8952268063153499,
          0.8988144820860446,
          0.9031359522639025,
          0.9063373318024194,
          0.908467448357487,
          0.9114656492246329,
          0.9126502937590699,
          0.9150700137023356,
          0.9169963258976673,
          0.917395439518343,
          0.9212897776147596,
          0.9237476075969546
         ],
         "yaxis": "y"
        },
        {
         "legendgroup": "1_1_2",
         "line": {
          "color": "#1f77b4"
         },
         "name": "20 mM, pH 7",
         "showlegend": false,
         "type": "scatter",
         "x": [
          7.0,
          6.75,
          6.5,
          6.25,
          6.0,
          5.75,
          5.5,
          5.25,
          5.0,
          4.75,
          4.5,
          4.25,
          4.0,
          3.75,
          3.5,
          3.25,
          3.0,
          2.75,
          2.5,
          2.25,
          2.0,
          1.75,
          1.5,
          1.25,
          1.0,
          0.75,
          0.5,
          0.25,
          0.0
         ],
         "xaxis": "x",
         "y": [
          0.011266051205360506,
          0.011561598533152417,
          0.012336804972824633,
          0.015814160955308076,
          0.017160459273523054,
          0.01972876204730467,
          0.022905362761552306,
          0.02514434585205083,
          0.028365439214754207,
          0.031049078407204944,
          0.03559860920799174,
          0.04045611759419643,
          0.043359489226824754,
          0.04720676999742501,
          0.05366813780213564,
          0.05867919750468298,
          0.06477908608154914,
          0.07013241563700134,
          0.07619081397483318,
          0.08252822871820964,
          0.0860919347035275,
          0.0894910541516627,
          0.08876157448468536,
          0.08029501231124875,
          0.06474995882920193,
          0.03943558338832767,
          0.017287410900127045,
          0.005223475880704497,
          0.0
         ],
         "yaxis": "y"
        },
        {
         "legendgroup": "1_1_1",
         "line": {
          "color": "#ff7f0e"
         },
         "name": "b 16 mM, pH 7",
         "showlegend": true,
         "type": "scatter",
         "x": [
          7.0,
          6.75,
          6.5,
          6.25,
          6.0,
          5.75,
          5.5,
          5.25,
          5.0,
          4.75,
          4.5,
          4.25,
          4.0,
          3.75,
          3.5,
          3.25,
          3.0,
          2.75,
          2.5,
          2.25,
          2.0,
          1.75,
          1.5,
          1.25,
          1.0,
          0.75,
          0.5,
          0.25,
          0.0,
          -0.25,
          -0.5,
          -0.75,
          -1.0,
          -1.25,
          -1.5,
          -1.75,
          -2.0,
          -2.25,
          -2.5,
          -2.75,
          -3.0,
          -3.25,
          -3.5,
          -3.75,
          -4.0,
          -4.25,
          -4.5,
          -4.75,
          -5.0,
          -5.25,
          -5.5,
          -5.75,
          -6.0,
          -6.25,
          -6.5,
          -6.75,
          -7.0
         ],
         "xaxis": "x",
         "y": [
          0.9172553643958523,
          0.9143552755051851,
          0.9111569155986808,
          0.9077726316189975,
          0.9022762256406511,
          0.8996680385385294,
          0.8953508389577189,
          0.8899475555550838,
          0.8850142127304281,
          0.8804580444623045,
          0.8730712122217805,
          0.8656156989119854,
          0.8559042999794414,
          0.8462729956070834,
          0.8333251007339817,
          0.8157638206970064,
          0.7972879143581821,
          0.775896923961676,
          0.7487372310678421,
          0.7150261585544087,
          0.6729846214248478,
          0.6208805523776804,
          0.5543498273086619,
          0.4671575367928008,
          0.36115802765399685,
          0.24049907919054384,
          0.12224088285291082,
          0.03472661980322495,
          0.0030493331470536006,
          0.03708347283241608,
          0.1396059899936098,
          0.28433361517160377,
          0.4306396868427096,
          0.5509187745914856,
          0.641007175889136,
          0.7096865477249449,
          0.7573747324689865,
          0.7933083144902272,
          0.821685601712111,
          0.8427655316309727,
          0.859945181711708,
          0.8705730964696355,
          0.8821480582880856,
          0.8912393988066606,
          0.8977088222872075,
          0.9022831472095327,
          0.9056046302286486,
          0.9094578335103654,
          0.9118009605853558,
          0.9121683584487038,
          0.9151929570256936,
          0.9174176808973754,
          0.9190255643905844,
          0.9202766757097971,
          0.9213900661857215,
          0.9252015441969664,
          0.9275626373891167
         ],
         "yaxis": "y"
        },
        {
         "legendgroup": "1_1_2",
         "line": {
          "color": "#ff7f0e"
         },
         "name": "16 mM, pH 7",
         "showlegend": false,
         "type": "scatter",
         "x": [
          7.0,
          6.75,
          6.5,
          6.25,
          6.0,
          5.75,
          5.5,
          5.25,
          5.0,
          4.75,
          4.5,
          4.25,
          4.0,
          3.75,
          3.5,
          3.25,
          3.0,
          2.75,
          2.5,
          2.25,
          2.0,
          1.75,
          1.5,
          1.25,
          1.0,
          0.75,
          0.5,
          0.25,
          0.0
         ],
         "xaxis": "x",
         "y": [
          0.010307272993264394,
          0.010846268691781291,
          0.010233150587040662,
          0.012504044090799638,
          0.01674933874993323,
          0.01774964235884602,
          0.019842118067974646,
          0.02222080289362005,
          0.02678674785492763,
          0.028999789048060887,
          0.03253341800686804,
          0.03666744829754731,
          0.0418045223077661,
          0.04496640319957723,
          0.04882295755410393,
          0.054809275772629173,
          0.06265726735352584,
          0.0668686076692967,
          0.07294837064426896,
          0.07828215593581855,
          0.08439011104413863,
          0.08880599534726452,
          0.08665734858047414,
          0.08376123779868483,
          0.06948165918871274,
          0.043834535981059936,
          0.01736510714069897,
          0.0023568530291911277,
          0.0
         ],
         "yaxis": "y"
        },
        {
         "legendgroup": "1_1_1",
         "line": {
          "color": "#2ca02c"
         },
         "name": "c 12 mM, pH 7",
         "showlegend": true,
         "type": "scatter",
         "x": [
          7.0,
          6.75,
          6.5,
          6.25,
          6.0,
          5.75,
          5.5,
          5.25,
          5.0,
          4.75,
          4.5,
          4.25,
          4.0,
          3.75,
          3.5,
          3.25,
          3.0,
          2.75,
          2.5,
          2.25,
          2.0,
          1.75,
          1.5,
          1.25,
          1.0,
          0.75,
          0.5,
          0.25,
          0.0,
          -0.25,
          -0.5,
          -0.75,
          -1.0,
          -1.25,
          -1.5,
          -1.75,
          -2.0,
          -2.25,
          -2.5,
          -2.75,
          -3.0,
          -3.25,
          -3.5,
          -3.75,
          -4.0,
          -4.25,
          -4.5,
          -4.75,
          -5.0,
          -5.25,
          -5.5,
          -5.75,
          -6.0,
          -6.25,
          -6.5,
          -6.75,
          -7.0
         ],
         "xaxis": "x",
         "y": [
          0.9163396224978245,
          0.9131441802616539,
          0.911981828615504,
          0.9110183306016347,
          0.9070069701897959,
          0.9034406803934133,
          0.9011941637005458,
          0.8971237960281929,
          0.8929279218623162,
          0.887039632814807,
          0.8803772876194276,
          0.8738731518233336,
          0.8661144229879623,
          0.8557386663228583,
          0.8460138443360165,
          0.8333748244421278,
          0.8183112356429201,
          0.7992284818981978,
          0.7768998467944849,
          0.7498449524918241,
          0.7147509374256695,
          0.6683993932611698,
          0.607857832128636,
          0.528153799020351,
          0.42428379289940454,
          0.2958825015475025,
          0.15800781431788047,
          0.04767802444152479,
          0.0037025996240766194,
          0.04391507477673853,
          0.1662105867770929,
          0.32391211653114643,
          0.4756701154551757,
          0.5927914461027939,
          0.6744492383462384,
          0.7345683436856048,
          0.7775927579274715,
          0.8094586774151028,
          0.8329801149153778,
          0.8487797622647479,
          0.8642142778779169,
          0.8751531647326297,
          0.8824791237500175,
          0.8887106790053134,
          0.8947954128815103,
          0.9010388898385441,
          0.9049906499485616,
          0.9073585332508959,
          0.9113815854541776,
          0.9131824608434732,
          0.915749509272687,
          0.9166809922297773,
          0.9189423265361346,
          0.9210024472067322,
          0.9208602828367694,
          0.9221210426993925,
          0.9232269884859409
         ],
         "yaxis": "y"
        },
        {
         "legendgroup": "1_1_2",
         "line": {
          "color": "#2ca02c"
         },
         "name": "12 mM, pH 7",
         "showlegend": false,
         "type": "scatter",
         "x": [
          7.0,
          6.75,
          6.5,
          6.25,
          6.0,
          5.75,
          5.5,
          5.25,
          5.0,
          4.75,
          4.5,
          4.25,
          4.0,
          3.75,
          3.5,
          3.25,
          3.0,
          2.75,
          2.5,
          2.25,
          2.0,
          1.75,
          1.5,
          1.25,
          1.0,
          0.75,
          0.5,
          0.25,
          0.0
         ],
         "xaxis": "x",
         "y": [
          0.006887365988116345,
          0.008976862437738653,
          0.00887845422126532,
          0.00998411660509746,
          0.011935356346338688,
          0.013240311836363983,
          0.01455534557214111,
          0.016058664815280288,
          0.018453663591861402,
          0.02031890043608886,
          0.024613362329134025,
          0.027165738015210494,
          0.02868098989354806,
          0.03297201268245509,
          0.03646527941400102,
          0.04177834029050187,
          0.04590304223499686,
          0.0495512803665501,
          0.05608026812089295,
          0.059613724923278655,
          0.06284182050180198,
          0.06616895042443494,
          0.0665914062176024,
          0.0646376470824429,
          0.051386322555771136,
          0.028029614983643925,
          0.008202772459212443,
          -0.0037629496647862554,
          0.0
         ],
         "yaxis": "y"
        }
       ],
       "layout": {
        "annotations": [
         {
          "font": {
           "size": 16
          },
          "showarrow": false,
          "text": "4uT",
          "x": 0.5,
          "xanchor": "center",
          "xref": "paper",
          "y": 1.0,
          "yanchor": "bottom",
          "yref": "paper"
         }
        ],
        "height": 250,
        "margin": {
         "b": 0,
         "l": 45,
         "r": 0,
         "t": 50
        },
        "template": {
         "data": {
          "bar": [
           {
            "error_x": {
             "color": "#2a3f5f"
            },
            "error_y": {
             "color": "#2a3f5f"
            },
            "marker": {
             "line": {
              "color": "white",
              "width": 0.5
             },
             "pattern": {
              "fillmode": "overlay",
              "size": 10,
              "solidity": 0.2
             }
            },
            "type": "bar"
           }
          ],
          "barpolar": [
           {
            "marker": {
             "line": {
              "color": "white",
              "width": 0.5
             },
             "pattern": {
              "fillmode": "overlay",
              "size": 10,
              "solidity": 0.2
             }
            },
            "type": "barpolar"
           }
          ],
          "carpet": [
           {
            "aaxis": {
             "endlinecolor": "#2a3f5f",
             "gridcolor": "#C8D4E3",
             "linecolor": "#C8D4E3",
             "minorgridcolor": "#C8D4E3",
             "startlinecolor": "#2a3f5f"
            },
            "baxis": {
             "endlinecolor": "#2a3f5f",
             "gridcolor": "#C8D4E3",
             "linecolor": "#C8D4E3",
             "minorgridcolor": "#C8D4E3",
             "startlinecolor": "#2a3f5f"
            },
            "type": "carpet"
           }
          ],
          "choropleth": [
           {
            "colorbar": {
             "outlinewidth": 0,
             "ticks": ""
            },
            "type": "choropleth"
           }
          ],
          "contour": [
           {
            "colorbar": {
             "outlinewidth": 0,
             "ticks": ""
            },
            "colorscale": [
             [
              0.0,
              "#0d0887"
             ],
             [
              0.1111111111111111,
              "#46039f"
             ],
             [
              0.2222222222222222,
              "#7201a8"
             ],
             [
              0.3333333333333333,
              "#9c179e"
             ],
             [
              0.4444444444444444,
              "#bd3786"
             ],
             [
              0.5555555555555556,
              "#d8576b"
             ],
             [
              0.6666666666666666,
              "#ed7953"
             ],
             [
              0.7777777777777778,
              "#fb9f3a"
             ],
             [
              0.8888888888888888,
              "#fdca26"
             ],
             [
              1.0,
              "#f0f921"
             ]
            ],
            "type": "contour"
           }
          ],
          "contourcarpet": [
           {
            "colorbar": {
             "outlinewidth": 0,
             "ticks": ""
            },
            "type": "contourcarpet"
           }
          ],
          "heatmap": [
           {
            "colorbar": {
             "outlinewidth": 0,
             "ticks": ""
            },
            "colorscale": [
             [
              0.0,
              "#0d0887"
             ],
             [
              0.1111111111111111,
              "#46039f"
             ],
             [
              0.2222222222222222,
              "#7201a8"
             ],
             [
              0.3333333333333333,
              "#9c179e"
             ],
             [
              0.4444444444444444,
              "#bd3786"
             ],
             [
              0.5555555555555556,
              "#d8576b"
             ],
             [
              0.6666666666666666,
              "#ed7953"
             ],
             [
              0.7777777777777778,
              "#fb9f3a"
             ],
             [
              0.8888888888888888,
              "#fdca26"
             ],
             [
              1.0,
              "#f0f921"
             ]
            ],
            "type": "heatmap"
           }
          ],
          "heatmapgl": [
           {
            "colorbar": {
             "outlinewidth": 0,
             "ticks": ""
            },
            "colorscale": [
             [
              0.0,
              "#0d0887"
             ],
             [
              0.1111111111111111,
              "#46039f"
             ],
             [
              0.2222222222222222,
              "#7201a8"
             ],
             [
              0.3333333333333333,
              "#9c179e"
             ],
             [
              0.4444444444444444,
              "#bd3786"
             ],
             [
              0.5555555555555556,
              "#d8576b"
             ],
             [
              0.6666666666666666,
              "#ed7953"
             ],
             [
              0.7777777777777778,
              "#fb9f3a"
             ],
             [
              0.8888888888888888,
              "#fdca26"
             ],
             [
              1.0,
              "#f0f921"
             ]
            ],
            "type": "heatmapgl"
           }
          ],
          "histogram": [
           {
            "marker": {
             "pattern": {
              "fillmode": "overlay",
              "size": 10,
              "solidity": 0.2
             }
            },
            "type": "histogram"
           }
          ],
          "histogram2d": [
           {
            "colorbar": {
             "outlinewidth": 0,
             "ticks": ""
            },
            "colorscale": [
             [
              0.0,
              "#0d0887"
             ],
             [
              0.1111111111111111,
              "#46039f"
             ],
             [
              0.2222222222222222,
              "#7201a8"
             ],
             [
              0.3333333333333333,
              "#9c179e"
             ],
             [
              0.4444444444444444,
              "#bd3786"
             ],
             [
              0.5555555555555556,
              "#d8576b"
             ],
             [
              0.6666666666666666,
              "#ed7953"
             ],
             [
              0.7777777777777778,
              "#fb9f3a"
             ],
             [
              0.8888888888888888,
              "#fdca26"
             ],
             [
              1.0,
              "#f0f921"
             ]
            ],
            "type": "histogram2d"
           }
          ],
          "histogram2dcontour": [
           {
            "colorbar": {
             "outlinewidth": 0,
             "ticks": ""
            },
            "colorscale": [
             [
              0.0,
              "#0d0887"
             ],
             [
              0.1111111111111111,
              "#46039f"
             ],
             [
              0.2222222222222222,
              "#7201a8"
             ],
             [
              0.3333333333333333,
              "#9c179e"
             ],
             [
              0.4444444444444444,
              "#bd3786"
             ],
             [
              0.5555555555555556,
              "#d8576b"
             ],
             [
              0.6666666666666666,
              "#ed7953"
             ],
             [
              0.7777777777777778,
              "#fb9f3a"
             ],
             [
              0.8888888888888888,
              "#fdca26"
             ],
             [
              1.0,
              "#f0f921"
             ]
            ],
            "type": "histogram2dcontour"
           }
          ],
          "mesh3d": [
           {
            "colorbar": {
             "outlinewidth": 0,
             "ticks": ""
            },
            "type": "mesh3d"
           }
          ],
          "parcoords": [
           {
            "line": {
             "colorbar": {
              "outlinewidth": 0,
              "ticks": ""
             }
            },
            "type": "parcoords"
           }
          ],
          "pie": [
           {
            "automargin": true,
            "type": "pie"
           }
          ],
          "scatter": [
           {
            "marker": {
             "colorbar": {
              "outlinewidth": 0,
              "ticks": ""
             }
            },
            "type": "scatter"
           }
          ],
          "scatter3d": [
           {
            "line": {
             "colorbar": {
              "outlinewidth": 0,
              "ticks": ""
             }
            },
            "marker": {
             "colorbar": {
              "outlinewidth": 0,
              "ticks": ""
             }
            },
            "type": "scatter3d"
           }
          ],
          "scattercarpet": [
           {
            "marker": {
             "colorbar": {
              "outlinewidth": 0,
              "ticks": ""
             }
            },
            "type": "scattercarpet"
           }
          ],
          "scattergeo": [
           {
            "marker": {
             "colorbar": {
              "outlinewidth": 0,
              "ticks": ""
             }
            },
            "type": "scattergeo"
           }
          ],
          "scattergl": [
           {
            "marker": {
             "colorbar": {
              "outlinewidth": 0,
              "ticks": ""
             }
            },
            "type": "scattergl"
           }
          ],
          "scattermapbox": [
           {
            "marker": {
             "colorbar": {
              "outlinewidth": 0,
              "ticks": ""
             }
            },
            "type": "scattermapbox"
           }
          ],
          "scatterpolar": [
           {
            "marker": {
             "colorbar": {
              "outlinewidth": 0,
              "ticks": ""
             }
            },
            "type": "scatterpolar"
           }
          ],
          "scatterpolargl": [
           {
            "marker": {
             "colorbar": {
              "outlinewidth": 0,
              "ticks": ""
             }
            },
            "type": "scatterpolargl"
           }
          ],
          "scatterternary": [
           {
            "marker": {
             "colorbar": {
              "outlinewidth": 0,
              "ticks": ""
             }
            },
            "type": "scatterternary"
           }
          ],
          "surface": [
           {
            "colorbar": {
             "outlinewidth": 0,
             "ticks": ""
            },
            "colorscale": [
             [
              0.0,
              "#0d0887"
             ],
             [
              0.1111111111111111,
              "#46039f"
             ],
             [
              0.2222222222222222,
              "#7201a8"
             ],
             [
              0.3333333333333333,
              "#9c179e"
             ],
             [
              0.4444444444444444,
              "#bd3786"
             ],
             [
              0.5555555555555556,
              "#d8576b"
             ],
             [
              0.6666666666666666,
              "#ed7953"
             ],
             [
              0.7777777777777778,
              "#fb9f3a"
             ],
             [
              0.8888888888888888,
              "#fdca26"
             ],
             [
              1.0,
              "#f0f921"
             ]
            ],
            "type": "surface"
           }
          ],
          "table": [
           {
            "cells": {
             "fill": {
              "color": "#EBF0F8"
             },
             "line": {
              "color": "white"
             }
            },
            "header": {
             "fill": {
              "color": "#C8D4E3"
             },
             "line": {
              "color": "white"
             }
            },
            "type": "table"
           }
          ]
         },
         "layout": {
          "annotationdefaults": {
           "arrowcolor": "#2a3f5f",
           "arrowhead": 0,
           "arrowwidth": 1
          },
          "autotypenumbers": "strict",
          "coloraxis": {
           "colorbar": {
            "outlinewidth": 0,
            "ticks": ""
           }
          },
          "colorscale": {
           "diverging": [
            [
             0,
             "#8e0152"
            ],
            [
             0.1,
             "#c51b7d"
            ],
            [
             0.2,
             "#de77ae"
            ],
            [
             0.3,
             "#f1b6da"
            ],
            [
             0.4,
             "#fde0ef"
            ],
            [
             0.5,
             "#f7f7f7"
            ],
            [
             0.6,
             "#e6f5d0"
            ],
            [
             0.7,
             "#b8e186"
            ],
            [
             0.8,
             "#7fbc41"
            ],
            [
             0.9,
             "#4d9221"
            ],
            [
             1,
             "#276419"
            ]
           ],
           "sequential": [
            [
             0.0,
             "#0d0887"
            ],
            [
             0.1111111111111111,
             "#46039f"
            ],
            [
             0.2222222222222222,
             "#7201a8"
            ],
            [
             0.3333333333333333,
             "#9c179e"
            ],
            [
             0.4444444444444444,
             "#bd3786"
            ],
            [
             0.5555555555555556,
             "#d8576b"
            ],
            [
             0.6666666666666666,
             "#ed7953"
            ],
            [
             0.7777777777777778,
             "#fb9f3a"
            ],
            [
             0.8888888888888888,
             "#fdca26"
            ],
            [
             1.0,
             "#f0f921"
            ]
           ],
           "sequentialminus": [
            [
             0.0,
             "#0d0887"
            ],
            [
             0.1111111111111111,
             "#46039f"
            ],
            [
             0.2222222222222222,
             "#7201a8"
            ],
            [
             0.3333333333333333,
             "#9c179e"
            ],
            [
             0.4444444444444444,
             "#bd3786"
            ],
            [
             0.5555555555555556,
             "#d8576b"
            ],
            [
             0.6666666666666666,
             "#ed7953"
            ],
            [
             0.7777777777777778,
             "#fb9f3a"
            ],
            [
             0.8888888888888888,
             "#fdca26"
            ],
            [
             1.0,
             "#f0f921"
            ]
           ]
          },
          "colorway": [
           "#636efa",
           "#EF553B",
           "#00cc96",
           "#ab63fa",
           "#FFA15A",
           "#19d3f3",
           "#FF6692",
           "#B6E880",
           "#FF97FF",
           "#FECB52"
          ],
          "font": {
           "color": "#2a3f5f"
          },
          "geo": {
           "bgcolor": "white",
           "lakecolor": "white",
           "landcolor": "white",
           "showlakes": true,
           "showland": true,
           "subunitcolor": "#C8D4E3"
          },
          "hoverlabel": {
           "align": "left"
          },
          "hovermode": "closest",
          "mapbox": {
           "style": "light"
          },
          "paper_bgcolor": "white",
          "plot_bgcolor": "white",
          "polar": {
           "angularaxis": {
            "gridcolor": "#EBF0F8",
            "linecolor": "#EBF0F8",
            "ticks": ""
           },
           "bgcolor": "white",
           "radialaxis": {
            "gridcolor": "#EBF0F8",
            "linecolor": "#EBF0F8",
            "ticks": ""
           }
          },
          "scene": {
           "xaxis": {
            "backgroundcolor": "white",
            "gridcolor": "#DFE8F3",
            "gridwidth": 2,
            "linecolor": "#EBF0F8",
            "showbackground": true,
            "ticks": "",
            "zerolinecolor": "#EBF0F8"
           },
           "yaxis": {
            "backgroundcolor": "white",
            "gridcolor": "#DFE8F3",
            "gridwidth": 2,
            "linecolor": "#EBF0F8",
            "showbackground": true,
            "ticks": "",
            "zerolinecolor": "#EBF0F8"
           },
           "zaxis": {
            "backgroundcolor": "white",
            "gridcolor": "#DFE8F3",
            "gridwidth": 2,
            "linecolor": "#EBF0F8",
            "showbackground": true,
            "ticks": "",
            "zerolinecolor": "#EBF0F8"
           }
          },
          "shapedefaults": {
           "line": {
            "color": "#2a3f5f"
           }
          },
          "ternary": {
           "aaxis": {
            "gridcolor": "#DFE8F3",
            "linecolor": "#A2B1C6",
            "ticks": ""
           },
           "baxis": {
            "gridcolor": "#DFE8F3",
            "linecolor": "#A2B1C6",
            "ticks": ""
           },
           "bgcolor": "white",
           "caxis": {
            "gridcolor": "#DFE8F3",
            "linecolor": "#A2B1C6",
            "ticks": ""
           }
          },
          "title": {
           "x": 0.05
          },
          "xaxis": {
           "automargin": true,
           "gridcolor": "#EBF0F8",
           "linecolor": "#EBF0F8",
           "ticks": "",
           "title": {
            "standoff": 15
           },
           "zerolinecolor": "#EBF0F8",
           "zerolinewidth": 2
          },
          "yaxis": {
           "automargin": true,
           "gridcolor": "#EBF0F8",
           "linecolor": "#EBF0F8",
           "ticks": "",
           "title": {
            "standoff": 15
           },
           "zerolinecolor": "#EBF0F8",
           "zerolinewidth": 2
          }
         }
        },
        "title": {
         "text": "Phantom Feb - 37°C Z-spectrum",
         "x": 0.02,
         "y": 0.97
        },
        "width": 500,
        "xaxis": {
         "anchor": "y",
         "autorange": "reversed",
         "domain": [
          0.0,
          1.0
         ],
         "dtick": 1,
         "tick0": 0,
         "tickmode": "linear",
         "title": {
          "text": "ppm"
         }
        },
        "yaxis": {
         "anchor": "x",
         "domain": [
          0.0,
          1.0
         ],
         "dtick": 0.2,
         "range": [
          -0.1,
          1
         ],
         "tick0": 0,
         "tickmode": "linear",
         "title": {
          "standoff": 2,
          "text": "$M_{sat}/M_0$"
         }
        }
       }
      },
      "text/html": "<div>                            <div id=\"1abb4ee8-2adc-4e09-9a4f-7a159c62249e\" class=\"plotly-graph-div\" style=\"height:250px; width:500px;\"></div>            <script type=\"text/javascript\">                require([\"plotly\"], function(Plotly) {                    window.PLOTLYENV=window.PLOTLYENV || {};                                    if (document.getElementById(\"1abb4ee8-2adc-4e09-9a4f-7a159c62249e\")) {                    Plotly.newPlot(                        \"1abb4ee8-2adc-4e09-9a4f-7a159c62249e\",                        [{\"legendgroup\":\"1_1_1\",\"line\":{\"color\":\"#1f77b4\"},\"name\":\"a 20 mM, pH 7\",\"showlegend\":true,\"type\":\"scatter\",\"x\":[7.0,6.75,6.5,6.25,6.0,5.75,5.5,5.25,5.0,4.75,4.5,4.25,4.0,3.75,3.5,3.25,3.0,2.75,2.5,2.25,2.0,1.75,1.5,1.25,1.0,0.75,0.5,0.25,0.0,-0.25,-0.5,-0.75,-1.0,-1.25,-1.5,-1.75,-2.0,-2.25,-2.5,-2.75,-3.0,-3.25,-3.5,-3.75,-4.0,-4.25,-4.5,-4.75,-5.0,-5.25,-5.5,-5.75,-6.0,-6.25,-6.5,-6.75,-7.0],\"xaxis\":\"x\",\"y\":[0.9124815563915941,0.9097281790816072,0.9050586345455184,0.9011821649423593,0.8979095544288126,0.8929215317117652,0.8885602864630806,0.8833231025054362,0.8779718925876652,0.8720868738566976,0.8632158728780529,0.8547706887211535,0.8451819058960608,0.832522431789026,0.8168665433872766,0.801052096154986,0.7801357062278749,0.7556132723865725,0.7256452548603884,0.6887029967897664,0.6453068111039368,0.588713616706452,0.5177886419135278,0.43122570926484155,0.3266489213082517,0.21166212150552646,0.10373435413825803,0.02831177461106499,0.0033056217107247715,0.03353525049176949,0.12102176503838508,0.25109770489385413,0.3913988801374536,0.5115207215760903,0.6065502163982132,0.6782046708581146,0.7313987458074643,0.7712312255079761,0.8018360688352216,0.8257456880235738,0.844914792309424,0.8597312936596689,0.8705346811894122,0.879729201786451,0.8885413951228855,0.8952268063153499,0.8988144820860446,0.9031359522639025,0.9063373318024194,0.908467448357487,0.9114656492246329,0.9126502937590699,0.9150700137023356,0.9169963258976673,0.917395439518343,0.9212897776147596,0.9237476075969546],\"yaxis\":\"y\"},{\"legendgroup\":\"1_1_2\",\"line\":{\"color\":\"#1f77b4\"},\"name\":\"20 mM, pH 7\",\"showlegend\":false,\"type\":\"scatter\",\"x\":[7.0,6.75,6.5,6.25,6.0,5.75,5.5,5.25,5.0,4.75,4.5,4.25,4.0,3.75,3.5,3.25,3.0,2.75,2.5,2.25,2.0,1.75,1.5,1.25,1.0,0.75,0.5,0.25,0.0],\"xaxis\":\"x\",\"y\":[0.011266051205360506,0.011561598533152417,0.012336804972824633,0.015814160955308076,0.017160459273523054,0.01972876204730467,0.022905362761552306,0.02514434585205083,0.028365439214754207,0.031049078407204944,0.03559860920799174,0.04045611759419643,0.043359489226824754,0.04720676999742501,0.05366813780213564,0.05867919750468298,0.06477908608154914,0.07013241563700134,0.07619081397483318,0.08252822871820964,0.0860919347035275,0.0894910541516627,0.08876157448468536,0.08029501231124875,0.06474995882920193,0.03943558338832767,0.017287410900127045,0.005223475880704497,0.0],\"yaxis\":\"y\"},{\"legendgroup\":\"1_1_1\",\"line\":{\"color\":\"#ff7f0e\"},\"name\":\"b 16 mM, pH 7\",\"showlegend\":true,\"type\":\"scatter\",\"x\":[7.0,6.75,6.5,6.25,6.0,5.75,5.5,5.25,5.0,4.75,4.5,4.25,4.0,3.75,3.5,3.25,3.0,2.75,2.5,2.25,2.0,1.75,1.5,1.25,1.0,0.75,0.5,0.25,0.0,-0.25,-0.5,-0.75,-1.0,-1.25,-1.5,-1.75,-2.0,-2.25,-2.5,-2.75,-3.0,-3.25,-3.5,-3.75,-4.0,-4.25,-4.5,-4.75,-5.0,-5.25,-5.5,-5.75,-6.0,-6.25,-6.5,-6.75,-7.0],\"xaxis\":\"x\",\"y\":[0.9172553643958523,0.9143552755051851,0.9111569155986808,0.9077726316189975,0.9022762256406511,0.8996680385385294,0.8953508389577189,0.8899475555550838,0.8850142127304281,0.8804580444623045,0.8730712122217805,0.8656156989119854,0.8559042999794414,0.8462729956070834,0.8333251007339817,0.8157638206970064,0.7972879143581821,0.775896923961676,0.7487372310678421,0.7150261585544087,0.6729846214248478,0.6208805523776804,0.5543498273086619,0.4671575367928008,0.36115802765399685,0.24049907919054384,0.12224088285291082,0.03472661980322495,0.0030493331470536006,0.03708347283241608,0.1396059899936098,0.28433361517160377,0.4306396868427096,0.5509187745914856,0.641007175889136,0.7096865477249449,0.7573747324689865,0.7933083144902272,0.821685601712111,0.8427655316309727,0.859945181711708,0.8705730964696355,0.8821480582880856,0.8912393988066606,0.8977088222872075,0.9022831472095327,0.9056046302286486,0.9094578335103654,0.9118009605853558,0.9121683584487038,0.9151929570256936,0.9174176808973754,0.9190255643905844,0.9202766757097971,0.9213900661857215,0.9252015441969664,0.9275626373891167],\"yaxis\":\"y\"},{\"legendgroup\":\"1_1_2\",\"line\":{\"color\":\"#ff7f0e\"},\"name\":\"16 mM, pH 7\",\"showlegend\":false,\"type\":\"scatter\",\"x\":[7.0,6.75,6.5,6.25,6.0,5.75,5.5,5.25,5.0,4.75,4.5,4.25,4.0,3.75,3.5,3.25,3.0,2.75,2.5,2.25,2.0,1.75,1.5,1.25,1.0,0.75,0.5,0.25,0.0],\"xaxis\":\"x\",\"y\":[0.010307272993264394,0.010846268691781291,0.010233150587040662,0.012504044090799638,0.01674933874993323,0.01774964235884602,0.019842118067974646,0.02222080289362005,0.02678674785492763,0.028999789048060887,0.03253341800686804,0.03666744829754731,0.0418045223077661,0.04496640319957723,0.04882295755410393,0.054809275772629173,0.06265726735352584,0.0668686076692967,0.07294837064426896,0.07828215593581855,0.08439011104413863,0.08880599534726452,0.08665734858047414,0.08376123779868483,0.06948165918871274,0.043834535981059936,0.01736510714069897,0.0023568530291911277,0.0],\"yaxis\":\"y\"},{\"legendgroup\":\"1_1_1\",\"line\":{\"color\":\"#2ca02c\"},\"name\":\"c 12 mM, pH 7\",\"showlegend\":true,\"type\":\"scatter\",\"x\":[7.0,6.75,6.5,6.25,6.0,5.75,5.5,5.25,5.0,4.75,4.5,4.25,4.0,3.75,3.5,3.25,3.0,2.75,2.5,2.25,2.0,1.75,1.5,1.25,1.0,0.75,0.5,0.25,0.0,-0.25,-0.5,-0.75,-1.0,-1.25,-1.5,-1.75,-2.0,-2.25,-2.5,-2.75,-3.0,-3.25,-3.5,-3.75,-4.0,-4.25,-4.5,-4.75,-5.0,-5.25,-5.5,-5.75,-6.0,-6.25,-6.5,-6.75,-7.0],\"xaxis\":\"x\",\"y\":[0.9163396224978245,0.9131441802616539,0.911981828615504,0.9110183306016347,0.9070069701897959,0.9034406803934133,0.9011941637005458,0.8971237960281929,0.8929279218623162,0.887039632814807,0.8803772876194276,0.8738731518233336,0.8661144229879623,0.8557386663228583,0.8460138443360165,0.8333748244421278,0.8183112356429201,0.7992284818981978,0.7768998467944849,0.7498449524918241,0.7147509374256695,0.6683993932611698,0.607857832128636,0.528153799020351,0.42428379289940454,0.2958825015475025,0.15800781431788047,0.04767802444152479,0.0037025996240766194,0.04391507477673853,0.1662105867770929,0.32391211653114643,0.4756701154551757,0.5927914461027939,0.6744492383462384,0.7345683436856048,0.7775927579274715,0.8094586774151028,0.8329801149153778,0.8487797622647479,0.8642142778779169,0.8751531647326297,0.8824791237500175,0.8887106790053134,0.8947954128815103,0.9010388898385441,0.9049906499485616,0.9073585332508959,0.9113815854541776,0.9131824608434732,0.915749509272687,0.9166809922297773,0.9189423265361346,0.9210024472067322,0.9208602828367694,0.9221210426993925,0.9232269884859409],\"yaxis\":\"y\"},{\"legendgroup\":\"1_1_2\",\"line\":{\"color\":\"#2ca02c\"},\"name\":\"12 mM, pH 7\",\"showlegend\":false,\"type\":\"scatter\",\"x\":[7.0,6.75,6.5,6.25,6.0,5.75,5.5,5.25,5.0,4.75,4.5,4.25,4.0,3.75,3.5,3.25,3.0,2.75,2.5,2.25,2.0,1.75,1.5,1.25,1.0,0.75,0.5,0.25,0.0],\"xaxis\":\"x\",\"y\":[0.006887365988116345,0.008976862437738653,0.00887845422126532,0.00998411660509746,0.011935356346338688,0.013240311836363983,0.01455534557214111,0.016058664815280288,0.018453663591861402,0.02031890043608886,0.024613362329134025,0.027165738015210494,0.02868098989354806,0.03297201268245509,0.03646527941400102,0.04177834029050187,0.04590304223499686,0.0495512803665501,0.05608026812089295,0.059613724923278655,0.06284182050180198,0.06616895042443494,0.0665914062176024,0.0646376470824429,0.051386322555771136,0.028029614983643925,0.008202772459212443,-0.0037629496647862554,0.0],\"yaxis\":\"y\"}],                        {\"annotations\":[{\"font\":{\"size\":16},\"showarrow\":false,\"text\":\"4uT\",\"x\":0.5,\"xanchor\":\"center\",\"xref\":\"paper\",\"y\":1.0,\"yanchor\":\"bottom\",\"yref\":\"paper\"}],\"height\":250,\"margin\":{\"b\":0,\"l\":45,\"r\":0,\"t\":50},\"template\":{\"data\":{\"bar\":[{\"error_x\":{\"color\":\"#2a3f5f\"},\"error_y\":{\"color\":\"#2a3f5f\"},\"marker\":{\"line\":{\"color\":\"white\",\"width\":0.5},\"pattern\":{\"fillmode\":\"overlay\",\"size\":10,\"solidity\":0.2}},\"type\":\"bar\"}],\"barpolar\":[{\"marker\":{\"line\":{\"color\":\"white\",\"width\":0.5},\"pattern\":{\"fillmode\":\"overlay\",\"size\":10,\"solidity\":0.2}},\"type\":\"barpolar\"}],\"carpet\":[{\"aaxis\":{\"endlinecolor\":\"#2a3f5f\",\"gridcolor\":\"#C8D4E3\",\"linecolor\":\"#C8D4E3\",\"minorgridcolor\":\"#C8D4E3\",\"startlinecolor\":\"#2a3f5f\"},\"baxis\":{\"endlinecolor\":\"#2a3f5f\",\"gridcolor\":\"#C8D4E3\",\"linecolor\":\"#C8D4E3\",\"minorgridcolor\":\"#C8D4E3\",\"startlinecolor\":\"#2a3f5f\"},\"type\":\"carpet\"}],\"choropleth\":[{\"colorbar\":{\"outlinewidth\":0,\"ticks\":\"\"},\"type\":\"choropleth\"}],\"contour\":[{\"colorbar\":{\"outlinewidth\":0,\"ticks\":\"\"},\"colorscale\":[[0.0,\"#0d0887\"],[0.1111111111111111,\"#46039f\"],[0.2222222222222222,\"#7201a8\"],[0.3333333333333333,\"#9c179e\"],[0.4444444444444444,\"#bd3786\"],[0.5555555555555556,\"#d8576b\"],[0.6666666666666666,\"#ed7953\"],[0.7777777777777778,\"#fb9f3a\"],[0.8888888888888888,\"#fdca26\"],[1.0,\"#f0f921\"]],\"type\":\"contour\"}],\"contourcarpet\":[{\"colorbar\":{\"outlinewidth\":0,\"ticks\":\"\"},\"type\":\"contourcarpet\"}],\"heatmap\":[{\"colorbar\":{\"outlinewidth\":0,\"ticks\":\"\"},\"colorscale\":[[0.0,\"#0d0887\"],[0.1111111111111111,\"#46039f\"],[0.2222222222222222,\"#7201a8\"],[0.3333333333333333,\"#9c179e\"],[0.4444444444444444,\"#bd3786\"],[0.5555555555555556,\"#d8576b\"],[0.6666666666666666,\"#ed7953\"],[0.7777777777777778,\"#fb9f3a\"],[0.8888888888888888,\"#fdca26\"],[1.0,\"#f0f921\"]],\"type\":\"heatmap\"}],\"heatmapgl\":[{\"colorbar\":{\"outlinewidth\":0,\"ticks\":\"\"},\"colorscale\":[[0.0,\"#0d0887\"],[0.1111111111111111,\"#46039f\"],[0.2222222222222222,\"#7201a8\"],[0.3333333333333333,\"#9c179e\"],[0.4444444444444444,\"#bd3786\"],[0.5555555555555556,\"#d8576b\"],[0.6666666666666666,\"#ed7953\"],[0.7777777777777778,\"#fb9f3a\"],[0.8888888888888888,\"#fdca26\"],[1.0,\"#f0f921\"]],\"type\":\"heatmapgl\"}],\"histogram\":[{\"marker\":{\"pattern\":{\"fillmode\":\"overlay\",\"size\":10,\"solidity\":0.2}},\"type\":\"histogram\"}],\"histogram2d\":[{\"colorbar\":{\"outlinewidth\":0,\"ticks\":\"\"},\"colorscale\":[[0.0,\"#0d0887\"],[0.1111111111111111,\"#46039f\"],[0.2222222222222222,\"#7201a8\"],[0.3333333333333333,\"#9c179e\"],[0.4444444444444444,\"#bd3786\"],[0.5555555555555556,\"#d8576b\"],[0.6666666666666666,\"#ed7953\"],[0.7777777777777778,\"#fb9f3a\"],[0.8888888888888888,\"#fdca26\"],[1.0,\"#f0f921\"]],\"type\":\"histogram2d\"}],\"histogram2dcontour\":[{\"colorbar\":{\"outlinewidth\":0,\"ticks\":\"\"},\"colorscale\":[[0.0,\"#0d0887\"],[0.1111111111111111,\"#46039f\"],[0.2222222222222222,\"#7201a8\"],[0.3333333333333333,\"#9c179e\"],[0.4444444444444444,\"#bd3786\"],[0.5555555555555556,\"#d8576b\"],[0.6666666666666666,\"#ed7953\"],[0.7777777777777778,\"#fb9f3a\"],[0.8888888888888888,\"#fdca26\"],[1.0,\"#f0f921\"]],\"type\":\"histogram2dcontour\"}],\"mesh3d\":[{\"colorbar\":{\"outlinewidth\":0,\"ticks\":\"\"},\"type\":\"mesh3d\"}],\"parcoords\":[{\"line\":{\"colorbar\":{\"outlinewidth\":0,\"ticks\":\"\"}},\"type\":\"parcoords\"}],\"pie\":[{\"automargin\":true,\"type\":\"pie\"}],\"scatter\":[{\"marker\":{\"colorbar\":{\"outlinewidth\":0,\"ticks\":\"\"}},\"type\":\"scatter\"}],\"scatter3d\":[{\"line\":{\"colorbar\":{\"outlinewidth\":0,\"ticks\":\"\"}},\"marker\":{\"colorbar\":{\"outlinewidth\":0,\"ticks\":\"\"}},\"type\":\"scatter3d\"}],\"scattercarpet\":[{\"marker\":{\"colorbar\":{\"outlinewidth\":0,\"ticks\":\"\"}},\"type\":\"scattercarpet\"}],\"scattergeo\":[{\"marker\":{\"colorbar\":{\"outlinewidth\":0,\"ticks\":\"\"}},\"type\":\"scattergeo\"}],\"scattergl\":[{\"marker\":{\"colorbar\":{\"outlinewidth\":0,\"ticks\":\"\"}},\"type\":\"scattergl\"}],\"scattermapbox\":[{\"marker\":{\"colorbar\":{\"outlinewidth\":0,\"ticks\":\"\"}},\"type\":\"scattermapbox\"}],\"scatterpolar\":[{\"marker\":{\"colorbar\":{\"outlinewidth\":0,\"ticks\":\"\"}},\"type\":\"scatterpolar\"}],\"scatterpolargl\":[{\"marker\":{\"colorbar\":{\"outlinewidth\":0,\"ticks\":\"\"}},\"type\":\"scatterpolargl\"}],\"scatterternary\":[{\"marker\":{\"colorbar\":{\"outlinewidth\":0,\"ticks\":\"\"}},\"type\":\"scatterternary\"}],\"surface\":[{\"colorbar\":{\"outlinewidth\":0,\"ticks\":\"\"},\"colorscale\":[[0.0,\"#0d0887\"],[0.1111111111111111,\"#46039f\"],[0.2222222222222222,\"#7201a8\"],[0.3333333333333333,\"#9c179e\"],[0.4444444444444444,\"#bd3786\"],[0.5555555555555556,\"#d8576b\"],[0.6666666666666666,\"#ed7953\"],[0.7777777777777778,\"#fb9f3a\"],[0.8888888888888888,\"#fdca26\"],[1.0,\"#f0f921\"]],\"type\":\"surface\"}],\"table\":[{\"cells\":{\"fill\":{\"color\":\"#EBF0F8\"},\"line\":{\"color\":\"white\"}},\"header\":{\"fill\":{\"color\":\"#C8D4E3\"},\"line\":{\"color\":\"white\"}},\"type\":\"table\"}]},\"layout\":{\"annotationdefaults\":{\"arrowcolor\":\"#2a3f5f\",\"arrowhead\":0,\"arrowwidth\":1},\"autotypenumbers\":\"strict\",\"coloraxis\":{\"colorbar\":{\"outlinewidth\":0,\"ticks\":\"\"}},\"colorscale\":{\"diverging\":[[0,\"#8e0152\"],[0.1,\"#c51b7d\"],[0.2,\"#de77ae\"],[0.3,\"#f1b6da\"],[0.4,\"#fde0ef\"],[0.5,\"#f7f7f7\"],[0.6,\"#e6f5d0\"],[0.7,\"#b8e186\"],[0.8,\"#7fbc41\"],[0.9,\"#4d9221\"],[1,\"#276419\"]],\"sequential\":[[0.0,\"#0d0887\"],[0.1111111111111111,\"#46039f\"],[0.2222222222222222,\"#7201a8\"],[0.3333333333333333,\"#9c179e\"],[0.4444444444444444,\"#bd3786\"],[0.5555555555555556,\"#d8576b\"],[0.6666666666666666,\"#ed7953\"],[0.7777777777777778,\"#fb9f3a\"],[0.8888888888888888,\"#fdca26\"],[1.0,\"#f0f921\"]],\"sequentialminus\":[[0.0,\"#0d0887\"],[0.1111111111111111,\"#46039f\"],[0.2222222222222222,\"#7201a8\"],[0.3333333333333333,\"#9c179e\"],[0.4444444444444444,\"#bd3786\"],[0.5555555555555556,\"#d8576b\"],[0.6666666666666666,\"#ed7953\"],[0.7777777777777778,\"#fb9f3a\"],[0.8888888888888888,\"#fdca26\"],[1.0,\"#f0f921\"]]},\"colorway\":[\"#636efa\",\"#EF553B\",\"#00cc96\",\"#ab63fa\",\"#FFA15A\",\"#19d3f3\",\"#FF6692\",\"#B6E880\",\"#FF97FF\",\"#FECB52\"],\"font\":{\"color\":\"#2a3f5f\"},\"geo\":{\"bgcolor\":\"white\",\"lakecolor\":\"white\",\"landcolor\":\"white\",\"showlakes\":true,\"showland\":true,\"subunitcolor\":\"#C8D4E3\"},\"hoverlabel\":{\"align\":\"left\"},\"hovermode\":\"closest\",\"mapbox\":{\"style\":\"light\"},\"paper_bgcolor\":\"white\",\"plot_bgcolor\":\"white\",\"polar\":{\"angularaxis\":{\"gridcolor\":\"#EBF0F8\",\"linecolor\":\"#EBF0F8\",\"ticks\":\"\"},\"bgcolor\":\"white\",\"radialaxis\":{\"gridcolor\":\"#EBF0F8\",\"linecolor\":\"#EBF0F8\",\"ticks\":\"\"}},\"scene\":{\"xaxis\":{\"backgroundcolor\":\"white\",\"gridcolor\":\"#DFE8F3\",\"gridwidth\":2,\"linecolor\":\"#EBF0F8\",\"showbackground\":true,\"ticks\":\"\",\"zerolinecolor\":\"#EBF0F8\"},\"yaxis\":{\"backgroundcolor\":\"white\",\"gridcolor\":\"#DFE8F3\",\"gridwidth\":2,\"linecolor\":\"#EBF0F8\",\"showbackground\":true,\"ticks\":\"\",\"zerolinecolor\":\"#EBF0F8\"},\"zaxis\":{\"backgroundcolor\":\"white\",\"gridcolor\":\"#DFE8F3\",\"gridwidth\":2,\"linecolor\":\"#EBF0F8\",\"showbackground\":true,\"ticks\":\"\",\"zerolinecolor\":\"#EBF0F8\"}},\"shapedefaults\":{\"line\":{\"color\":\"#2a3f5f\"}},\"ternary\":{\"aaxis\":{\"gridcolor\":\"#DFE8F3\",\"linecolor\":\"#A2B1C6\",\"ticks\":\"\"},\"baxis\":{\"gridcolor\":\"#DFE8F3\",\"linecolor\":\"#A2B1C6\",\"ticks\":\"\"},\"bgcolor\":\"white\",\"caxis\":{\"gridcolor\":\"#DFE8F3\",\"linecolor\":\"#A2B1C6\",\"ticks\":\"\"}},\"title\":{\"x\":0.05},\"xaxis\":{\"automargin\":true,\"gridcolor\":\"#EBF0F8\",\"linecolor\":\"#EBF0F8\",\"ticks\":\"\",\"title\":{\"standoff\":15},\"zerolinecolor\":\"#EBF0F8\",\"zerolinewidth\":2},\"yaxis\":{\"automargin\":true,\"gridcolor\":\"#EBF0F8\",\"linecolor\":\"#EBF0F8\",\"ticks\":\"\",\"title\":{\"standoff\":15},\"zerolinecolor\":\"#EBF0F8\",\"zerolinewidth\":2}}},\"title\":{\"text\":\"Phantom Feb - 37\\u00b0C Z-spectrum\",\"x\":0.02,\"y\":0.97},\"width\":500,\"xaxis\":{\"anchor\":\"y\",\"autorange\":\"reversed\",\"domain\":[0.0,1.0],\"dtick\":1,\"tick0\":0,\"tickmode\":\"linear\",\"title\":{\"text\":\"ppm\"}},\"yaxis\":{\"anchor\":\"x\",\"domain\":[0.0,1.0],\"dtick\":0.2,\"range\":[-0.1,1],\"tick0\":0,\"tickmode\":\"linear\",\"title\":{\"standoff\":2,\"text\":\"$M_{sat}/M_0$\"}}},                        {\"responsive\": true}                    ).then(function(){\n                            \nvar gd = document.getElementById('1abb4ee8-2adc-4e09-9a4f-7a159c62249e');\nvar x = new MutationObserver(function (mutations, observer) {{\n        var display = window.getComputedStyle(gd).display;\n        if (!display || display === 'none') {{\n            console.log([gd, 'removed!']);\n            Plotly.purge(gd);\n            observer.disconnect();\n        }}\n}});\n\n// Listen for the removal of the full notebook cells\nvar notebookContainer = gd.closest('#notebook-container');\nif (notebookContainer) {{\n    x.observe(notebookContainer, {childList: true});\n}}\n\n// Listen for the clearing of the current output cell\nvar outputEl = gd.closest('.output');\nif (outputEl) {{\n    x.observe(outputEl, {childList: true});\n}}\n\n                        })                };                });            </script>        </div>"
     },
     "metadata": {},
     "output_type": "display_data"
    },
    {
     "data": {
      "application/vnd.plotly.v1+json": {
       "config": {
        "plotlyServerURL": "https://plot.ly"
       },
       "data": [
        {
         "legendgroup": "1_1_2",
         "line": {
          "color": "#1f77b4"
         },
         "name": "20 mM, pH 7",
         "showlegend": true,
         "type": "scatter",
         "x": [
          7.0,
          6.75,
          6.5,
          6.25,
          6.0,
          5.75,
          5.5,
          5.25,
          5.0,
          4.75,
          4.5,
          4.25,
          4.0,
          3.75,
          3.5,
          3.25,
          3.0,
          2.75,
          2.5,
          2.25,
          2.0,
          1.75,
          1.5,
          1.25,
          1.0,
          0.75,
          0.5,
          0.25,
          0.0
         ],
         "xaxis": "x",
         "y": [
          0.011266051205360506,
          0.011561598533152417,
          0.012336804972824633,
          0.015814160955308076,
          0.017160459273523054,
          0.01972876204730467,
          0.022905362761552306,
          0.02514434585205083,
          0.028365439214754207,
          0.031049078407204944,
          0.03559860920799174,
          0.04045611759419643,
          0.043359489226824754,
          0.04720676999742501,
          0.05366813780213564,
          0.05867919750468298,
          0.06477908608154914,
          0.07013241563700134,
          0.07619081397483318,
          0.08252822871820964,
          0.0860919347035275,
          0.0894910541516627,
          0.08876157448468536,
          0.08029501231124875,
          0.06474995882920193,
          0.03943558338832767,
          0.017287410900127045,
          0.005223475880704497,
          0.0
         ],
         "yaxis": "y"
        },
        {
         "legendgroup": "1_1_2",
         "line": {
          "color": "#ff7f0e"
         },
         "name": "16 mM, pH 7",
         "showlegend": true,
         "type": "scatter",
         "x": [
          7.0,
          6.75,
          6.5,
          6.25,
          6.0,
          5.75,
          5.5,
          5.25,
          5.0,
          4.75,
          4.5,
          4.25,
          4.0,
          3.75,
          3.5,
          3.25,
          3.0,
          2.75,
          2.5,
          2.25,
          2.0,
          1.75,
          1.5,
          1.25,
          1.0,
          0.75,
          0.5,
          0.25,
          0.0
         ],
         "xaxis": "x",
         "y": [
          0.010307272993264394,
          0.010846268691781291,
          0.010233150587040662,
          0.012504044090799638,
          0.01674933874993323,
          0.01774964235884602,
          0.019842118067974646,
          0.02222080289362005,
          0.02678674785492763,
          0.028999789048060887,
          0.03253341800686804,
          0.03666744829754731,
          0.0418045223077661,
          0.04496640319957723,
          0.04882295755410393,
          0.054809275772629173,
          0.06265726735352584,
          0.0668686076692967,
          0.07294837064426896,
          0.07828215593581855,
          0.08439011104413863,
          0.08880599534726452,
          0.08665734858047414,
          0.08376123779868483,
          0.06948165918871274,
          0.043834535981059936,
          0.01736510714069897,
          0.0023568530291911277,
          0.0
         ],
         "yaxis": "y"
        },
        {
         "legendgroup": "1_1_2",
         "line": {
          "color": "#2ca02c"
         },
         "name": "12 mM, pH 7",
         "showlegend": true,
         "type": "scatter",
         "x": [
          7.0,
          6.75,
          6.5,
          6.25,
          6.0,
          5.75,
          5.5,
          5.25,
          5.0,
          4.75,
          4.5,
          4.25,
          4.0,
          3.75,
          3.5,
          3.25,
          3.0,
          2.75,
          2.5,
          2.25,
          2.0,
          1.75,
          1.5,
          1.25,
          1.0,
          0.75,
          0.5,
          0.25,
          0.0
         ],
         "xaxis": "x",
         "y": [
          0.006887365988116345,
          0.008976862437738653,
          0.00887845422126532,
          0.00998411660509746,
          0.011935356346338688,
          0.013240311836363983,
          0.01455534557214111,
          0.016058664815280288,
          0.018453663591861402,
          0.02031890043608886,
          0.024613362329134025,
          0.027165738015210494,
          0.02868098989354806,
          0.03297201268245509,
          0.03646527941400102,
          0.04177834029050187,
          0.04590304223499686,
          0.0495512803665501,
          0.05608026812089295,
          0.059613724923278655,
          0.06284182050180198,
          0.06616895042443494,
          0.0665914062176024,
          0.0646376470824429,
          0.051386322555771136,
          0.028029614983643925,
          0.008202772459212443,
          -0.0037629496647862554,
          0.0
         ],
         "yaxis": "y"
        }
       ],
       "layout": {
        "annotations": [
         {
          "font": {
           "size": 16
          },
          "showarrow": false,
          "text": "4uT",
          "x": 0.5,
          "xanchor": "center",
          "xref": "paper",
          "y": 1.0,
          "yanchor": "bottom",
          "yref": "paper"
         }
        ],
        "height": 250,
        "margin": {
         "b": 0,
         "l": 0,
         "r": 0,
         "t": 60
        },
        "template": {
         "data": {
          "bar": [
           {
            "error_x": {
             "color": "#2a3f5f"
            },
            "error_y": {
             "color": "#2a3f5f"
            },
            "marker": {
             "line": {
              "color": "white",
              "width": 0.5
             },
             "pattern": {
              "fillmode": "overlay",
              "size": 10,
              "solidity": 0.2
             }
            },
            "type": "bar"
           }
          ],
          "barpolar": [
           {
            "marker": {
             "line": {
              "color": "white",
              "width": 0.5
             },
             "pattern": {
              "fillmode": "overlay",
              "size": 10,
              "solidity": 0.2
             }
            },
            "type": "barpolar"
           }
          ],
          "carpet": [
           {
            "aaxis": {
             "endlinecolor": "#2a3f5f",
             "gridcolor": "#C8D4E3",
             "linecolor": "#C8D4E3",
             "minorgridcolor": "#C8D4E3",
             "startlinecolor": "#2a3f5f"
            },
            "baxis": {
             "endlinecolor": "#2a3f5f",
             "gridcolor": "#C8D4E3",
             "linecolor": "#C8D4E3",
             "minorgridcolor": "#C8D4E3",
             "startlinecolor": "#2a3f5f"
            },
            "type": "carpet"
           }
          ],
          "choropleth": [
           {
            "colorbar": {
             "outlinewidth": 0,
             "ticks": ""
            },
            "type": "choropleth"
           }
          ],
          "contour": [
           {
            "colorbar": {
             "outlinewidth": 0,
             "ticks": ""
            },
            "colorscale": [
             [
              0.0,
              "#0d0887"
             ],
             [
              0.1111111111111111,
              "#46039f"
             ],
             [
              0.2222222222222222,
              "#7201a8"
             ],
             [
              0.3333333333333333,
              "#9c179e"
             ],
             [
              0.4444444444444444,
              "#bd3786"
             ],
             [
              0.5555555555555556,
              "#d8576b"
             ],
             [
              0.6666666666666666,
              "#ed7953"
             ],
             [
              0.7777777777777778,
              "#fb9f3a"
             ],
             [
              0.8888888888888888,
              "#fdca26"
             ],
             [
              1.0,
              "#f0f921"
             ]
            ],
            "type": "contour"
           }
          ],
          "contourcarpet": [
           {
            "colorbar": {
             "outlinewidth": 0,
             "ticks": ""
            },
            "type": "contourcarpet"
           }
          ],
          "heatmap": [
           {
            "colorbar": {
             "outlinewidth": 0,
             "ticks": ""
            },
            "colorscale": [
             [
              0.0,
              "#0d0887"
             ],
             [
              0.1111111111111111,
              "#46039f"
             ],
             [
              0.2222222222222222,
              "#7201a8"
             ],
             [
              0.3333333333333333,
              "#9c179e"
             ],
             [
              0.4444444444444444,
              "#bd3786"
             ],
             [
              0.5555555555555556,
              "#d8576b"
             ],
             [
              0.6666666666666666,
              "#ed7953"
             ],
             [
              0.7777777777777778,
              "#fb9f3a"
             ],
             [
              0.8888888888888888,
              "#fdca26"
             ],
             [
              1.0,
              "#f0f921"
             ]
            ],
            "type": "heatmap"
           }
          ],
          "heatmapgl": [
           {
            "colorbar": {
             "outlinewidth": 0,
             "ticks": ""
            },
            "colorscale": [
             [
              0.0,
              "#0d0887"
             ],
             [
              0.1111111111111111,
              "#46039f"
             ],
             [
              0.2222222222222222,
              "#7201a8"
             ],
             [
              0.3333333333333333,
              "#9c179e"
             ],
             [
              0.4444444444444444,
              "#bd3786"
             ],
             [
              0.5555555555555556,
              "#d8576b"
             ],
             [
              0.6666666666666666,
              "#ed7953"
             ],
             [
              0.7777777777777778,
              "#fb9f3a"
             ],
             [
              0.8888888888888888,
              "#fdca26"
             ],
             [
              1.0,
              "#f0f921"
             ]
            ],
            "type": "heatmapgl"
           }
          ],
          "histogram": [
           {
            "marker": {
             "pattern": {
              "fillmode": "overlay",
              "size": 10,
              "solidity": 0.2
             }
            },
            "type": "histogram"
           }
          ],
          "histogram2d": [
           {
            "colorbar": {
             "outlinewidth": 0,
             "ticks": ""
            },
            "colorscale": [
             [
              0.0,
              "#0d0887"
             ],
             [
              0.1111111111111111,
              "#46039f"
             ],
             [
              0.2222222222222222,
              "#7201a8"
             ],
             [
              0.3333333333333333,
              "#9c179e"
             ],
             [
              0.4444444444444444,
              "#bd3786"
             ],
             [
              0.5555555555555556,
              "#d8576b"
             ],
             [
              0.6666666666666666,
              "#ed7953"
             ],
             [
              0.7777777777777778,
              "#fb9f3a"
             ],
             [
              0.8888888888888888,
              "#fdca26"
             ],
             [
              1.0,
              "#f0f921"
             ]
            ],
            "type": "histogram2d"
           }
          ],
          "histogram2dcontour": [
           {
            "colorbar": {
             "outlinewidth": 0,
             "ticks": ""
            },
            "colorscale": [
             [
              0.0,
              "#0d0887"
             ],
             [
              0.1111111111111111,
              "#46039f"
             ],
             [
              0.2222222222222222,
              "#7201a8"
             ],
             [
              0.3333333333333333,
              "#9c179e"
             ],
             [
              0.4444444444444444,
              "#bd3786"
             ],
             [
              0.5555555555555556,
              "#d8576b"
             ],
             [
              0.6666666666666666,
              "#ed7953"
             ],
             [
              0.7777777777777778,
              "#fb9f3a"
             ],
             [
              0.8888888888888888,
              "#fdca26"
             ],
             [
              1.0,
              "#f0f921"
             ]
            ],
            "type": "histogram2dcontour"
           }
          ],
          "mesh3d": [
           {
            "colorbar": {
             "outlinewidth": 0,
             "ticks": ""
            },
            "type": "mesh3d"
           }
          ],
          "parcoords": [
           {
            "line": {
             "colorbar": {
              "outlinewidth": 0,
              "ticks": ""
             }
            },
            "type": "parcoords"
           }
          ],
          "pie": [
           {
            "automargin": true,
            "type": "pie"
           }
          ],
          "scatter": [
           {
            "marker": {
             "colorbar": {
              "outlinewidth": 0,
              "ticks": ""
             }
            },
            "type": "scatter"
           }
          ],
          "scatter3d": [
           {
            "line": {
             "colorbar": {
              "outlinewidth": 0,
              "ticks": ""
             }
            },
            "marker": {
             "colorbar": {
              "outlinewidth": 0,
              "ticks": ""
             }
            },
            "type": "scatter3d"
           }
          ],
          "scattercarpet": [
           {
            "marker": {
             "colorbar": {
              "outlinewidth": 0,
              "ticks": ""
             }
            },
            "type": "scattercarpet"
           }
          ],
          "scattergeo": [
           {
            "marker": {
             "colorbar": {
              "outlinewidth": 0,
              "ticks": ""
             }
            },
            "type": "scattergeo"
           }
          ],
          "scattergl": [
           {
            "marker": {
             "colorbar": {
              "outlinewidth": 0,
              "ticks": ""
             }
            },
            "type": "scattergl"
           }
          ],
          "scattermapbox": [
           {
            "marker": {
             "colorbar": {
              "outlinewidth": 0,
              "ticks": ""
             }
            },
            "type": "scattermapbox"
           }
          ],
          "scatterpolar": [
           {
            "marker": {
             "colorbar": {
              "outlinewidth": 0,
              "ticks": ""
             }
            },
            "type": "scatterpolar"
           }
          ],
          "scatterpolargl": [
           {
            "marker": {
             "colorbar": {
              "outlinewidth": 0,
              "ticks": ""
             }
            },
            "type": "scatterpolargl"
           }
          ],
          "scatterternary": [
           {
            "marker": {
             "colorbar": {
              "outlinewidth": 0,
              "ticks": ""
             }
            },
            "type": "scatterternary"
           }
          ],
          "surface": [
           {
            "colorbar": {
             "outlinewidth": 0,
             "ticks": ""
            },
            "colorscale": [
             [
              0.0,
              "#0d0887"
             ],
             [
              0.1111111111111111,
              "#46039f"
             ],
             [
              0.2222222222222222,
              "#7201a8"
             ],
             [
              0.3333333333333333,
              "#9c179e"
             ],
             [
              0.4444444444444444,
              "#bd3786"
             ],
             [
              0.5555555555555556,
              "#d8576b"
             ],
             [
              0.6666666666666666,
              "#ed7953"
             ],
             [
              0.7777777777777778,
              "#fb9f3a"
             ],
             [
              0.8888888888888888,
              "#fdca26"
             ],
             [
              1.0,
              "#f0f921"
             ]
            ],
            "type": "surface"
           }
          ],
          "table": [
           {
            "cells": {
             "fill": {
              "color": "#EBF0F8"
             },
             "line": {
              "color": "white"
             }
            },
            "header": {
             "fill": {
              "color": "#C8D4E3"
             },
             "line": {
              "color": "white"
             }
            },
            "type": "table"
           }
          ]
         },
         "layout": {
          "annotationdefaults": {
           "arrowcolor": "#2a3f5f",
           "arrowhead": 0,
           "arrowwidth": 1
          },
          "autotypenumbers": "strict",
          "coloraxis": {
           "colorbar": {
            "outlinewidth": 0,
            "ticks": ""
           }
          },
          "colorscale": {
           "diverging": [
            [
             0,
             "#8e0152"
            ],
            [
             0.1,
             "#c51b7d"
            ],
            [
             0.2,
             "#de77ae"
            ],
            [
             0.3,
             "#f1b6da"
            ],
            [
             0.4,
             "#fde0ef"
            ],
            [
             0.5,
             "#f7f7f7"
            ],
            [
             0.6,
             "#e6f5d0"
            ],
            [
             0.7,
             "#b8e186"
            ],
            [
             0.8,
             "#7fbc41"
            ],
            [
             0.9,
             "#4d9221"
            ],
            [
             1,
             "#276419"
            ]
           ],
           "sequential": [
            [
             0.0,
             "#0d0887"
            ],
            [
             0.1111111111111111,
             "#46039f"
            ],
            [
             0.2222222222222222,
             "#7201a8"
            ],
            [
             0.3333333333333333,
             "#9c179e"
            ],
            [
             0.4444444444444444,
             "#bd3786"
            ],
            [
             0.5555555555555556,
             "#d8576b"
            ],
            [
             0.6666666666666666,
             "#ed7953"
            ],
            [
             0.7777777777777778,
             "#fb9f3a"
            ],
            [
             0.8888888888888888,
             "#fdca26"
            ],
            [
             1.0,
             "#f0f921"
            ]
           ],
           "sequentialminus": [
            [
             0.0,
             "#0d0887"
            ],
            [
             0.1111111111111111,
             "#46039f"
            ],
            [
             0.2222222222222222,
             "#7201a8"
            ],
            [
             0.3333333333333333,
             "#9c179e"
            ],
            [
             0.4444444444444444,
             "#bd3786"
            ],
            [
             0.5555555555555556,
             "#d8576b"
            ],
            [
             0.6666666666666666,
             "#ed7953"
            ],
            [
             0.7777777777777778,
             "#fb9f3a"
            ],
            [
             0.8888888888888888,
             "#fdca26"
            ],
            [
             1.0,
             "#f0f921"
            ]
           ]
          },
          "colorway": [
           "#636efa",
           "#EF553B",
           "#00cc96",
           "#ab63fa",
           "#FFA15A",
           "#19d3f3",
           "#FF6692",
           "#B6E880",
           "#FF97FF",
           "#FECB52"
          ],
          "font": {
           "color": "#2a3f5f"
          },
          "geo": {
           "bgcolor": "white",
           "lakecolor": "white",
           "landcolor": "white",
           "showlakes": true,
           "showland": true,
           "subunitcolor": "#C8D4E3"
          },
          "hoverlabel": {
           "align": "left"
          },
          "hovermode": "closest",
          "mapbox": {
           "style": "light"
          },
          "paper_bgcolor": "white",
          "plot_bgcolor": "white",
          "polar": {
           "angularaxis": {
            "gridcolor": "#EBF0F8",
            "linecolor": "#EBF0F8",
            "ticks": ""
           },
           "bgcolor": "white",
           "radialaxis": {
            "gridcolor": "#EBF0F8",
            "linecolor": "#EBF0F8",
            "ticks": ""
           }
          },
          "scene": {
           "xaxis": {
            "backgroundcolor": "white",
            "gridcolor": "#DFE8F3",
            "gridwidth": 2,
            "linecolor": "#EBF0F8",
            "showbackground": true,
            "ticks": "",
            "zerolinecolor": "#EBF0F8"
           },
           "yaxis": {
            "backgroundcolor": "white",
            "gridcolor": "#DFE8F3",
            "gridwidth": 2,
            "linecolor": "#EBF0F8",
            "showbackground": true,
            "ticks": "",
            "zerolinecolor": "#EBF0F8"
           },
           "zaxis": {
            "backgroundcolor": "white",
            "gridcolor": "#DFE8F3",
            "gridwidth": 2,
            "linecolor": "#EBF0F8",
            "showbackground": true,
            "ticks": "",
            "zerolinecolor": "#EBF0F8"
           }
          },
          "shapedefaults": {
           "line": {
            "color": "#2a3f5f"
           }
          },
          "ternary": {
           "aaxis": {
            "gridcolor": "#DFE8F3",
            "linecolor": "#A2B1C6",
            "ticks": ""
           },
           "baxis": {
            "gridcolor": "#DFE8F3",
            "linecolor": "#A2B1C6",
            "ticks": ""
           },
           "bgcolor": "white",
           "caxis": {
            "gridcolor": "#DFE8F3",
            "linecolor": "#A2B1C6",
            "ticks": ""
           }
          },
          "title": {
           "x": 0.05
          },
          "xaxis": {
           "automargin": true,
           "gridcolor": "#EBF0F8",
           "linecolor": "#EBF0F8",
           "ticks": "",
           "title": {
            "standoff": 15
           },
           "zerolinecolor": "#EBF0F8",
           "zerolinewidth": 2
          },
          "yaxis": {
           "automargin": true,
           "gridcolor": "#EBF0F8",
           "linecolor": "#EBF0F8",
           "ticks": "",
           "title": {
            "standoff": 15
           },
           "zerolinecolor": "#EBF0F8",
           "zerolinewidth": 2
          }
         }
        },
        "title": {
         "text": "Phantom Feb - 37°C MTR-asym",
         "x": 0.02,
         "y": 0.97
        },
        "width": 350,
        "xaxis": {
         "anchor": "y",
         "autorange": "reversed",
         "domain": [
          0.0,
          1.0
         ],
         "dtick": 1,
         "title": {
          "text": "ppm"
         }
        },
        "yaxis": {
         "anchor": "x",
         "domain": [
          0.0,
          1.0
         ],
         "dtick": 0.05,
         "range": [
          0,
          0.25
         ],
         "tick0": 0,
         "tickformat": ".0%",
         "tickmode": "linear",
         "title": {
          "text": "MTR-asym"
         }
        }
       }
      },
      "text/html": "<div>                            <div id=\"3f76471d-efdc-4518-90fb-03aa618343c5\" class=\"plotly-graph-div\" style=\"height:250px; width:350px;\"></div>            <script type=\"text/javascript\">                require([\"plotly\"], function(Plotly) {                    window.PLOTLYENV=window.PLOTLYENV || {};                                    if (document.getElementById(\"3f76471d-efdc-4518-90fb-03aa618343c5\")) {                    Plotly.newPlot(                        \"3f76471d-efdc-4518-90fb-03aa618343c5\",                        [{\"legendgroup\":\"1_1_2\",\"line\":{\"color\":\"#1f77b4\"},\"name\":\"20 mM, pH 7\",\"showlegend\":true,\"type\":\"scatter\",\"x\":[7.0,6.75,6.5,6.25,6.0,5.75,5.5,5.25,5.0,4.75,4.5,4.25,4.0,3.75,3.5,3.25,3.0,2.75,2.5,2.25,2.0,1.75,1.5,1.25,1.0,0.75,0.5,0.25,0.0],\"xaxis\":\"x\",\"y\":[0.011266051205360506,0.011561598533152417,0.012336804972824633,0.015814160955308076,0.017160459273523054,0.01972876204730467,0.022905362761552306,0.02514434585205083,0.028365439214754207,0.031049078407204944,0.03559860920799174,0.04045611759419643,0.043359489226824754,0.04720676999742501,0.05366813780213564,0.05867919750468298,0.06477908608154914,0.07013241563700134,0.07619081397483318,0.08252822871820964,0.0860919347035275,0.0894910541516627,0.08876157448468536,0.08029501231124875,0.06474995882920193,0.03943558338832767,0.017287410900127045,0.005223475880704497,0.0],\"yaxis\":\"y\"},{\"legendgroup\":\"1_1_2\",\"line\":{\"color\":\"#ff7f0e\"},\"name\":\"16 mM, pH 7\",\"showlegend\":true,\"type\":\"scatter\",\"x\":[7.0,6.75,6.5,6.25,6.0,5.75,5.5,5.25,5.0,4.75,4.5,4.25,4.0,3.75,3.5,3.25,3.0,2.75,2.5,2.25,2.0,1.75,1.5,1.25,1.0,0.75,0.5,0.25,0.0],\"xaxis\":\"x\",\"y\":[0.010307272993264394,0.010846268691781291,0.010233150587040662,0.012504044090799638,0.01674933874993323,0.01774964235884602,0.019842118067974646,0.02222080289362005,0.02678674785492763,0.028999789048060887,0.03253341800686804,0.03666744829754731,0.0418045223077661,0.04496640319957723,0.04882295755410393,0.054809275772629173,0.06265726735352584,0.0668686076692967,0.07294837064426896,0.07828215593581855,0.08439011104413863,0.08880599534726452,0.08665734858047414,0.08376123779868483,0.06948165918871274,0.043834535981059936,0.01736510714069897,0.0023568530291911277,0.0],\"yaxis\":\"y\"},{\"legendgroup\":\"1_1_2\",\"line\":{\"color\":\"#2ca02c\"},\"name\":\"12 mM, pH 7\",\"showlegend\":true,\"type\":\"scatter\",\"x\":[7.0,6.75,6.5,6.25,6.0,5.75,5.5,5.25,5.0,4.75,4.5,4.25,4.0,3.75,3.5,3.25,3.0,2.75,2.5,2.25,2.0,1.75,1.5,1.25,1.0,0.75,0.5,0.25,0.0],\"xaxis\":\"x\",\"y\":[0.006887365988116345,0.008976862437738653,0.00887845422126532,0.00998411660509746,0.011935356346338688,0.013240311836363983,0.01455534557214111,0.016058664815280288,0.018453663591861402,0.02031890043608886,0.024613362329134025,0.027165738015210494,0.02868098989354806,0.03297201268245509,0.03646527941400102,0.04177834029050187,0.04590304223499686,0.0495512803665501,0.05608026812089295,0.059613724923278655,0.06284182050180198,0.06616895042443494,0.0665914062176024,0.0646376470824429,0.051386322555771136,0.028029614983643925,0.008202772459212443,-0.0037629496647862554,0.0],\"yaxis\":\"y\"}],                        {\"annotations\":[{\"font\":{\"size\":16},\"showarrow\":false,\"text\":\"4uT\",\"x\":0.5,\"xanchor\":\"center\",\"xref\":\"paper\",\"y\":1.0,\"yanchor\":\"bottom\",\"yref\":\"paper\"}],\"height\":250,\"margin\":{\"b\":0,\"l\":0,\"r\":0,\"t\":60},\"template\":{\"data\":{\"bar\":[{\"error_x\":{\"color\":\"#2a3f5f\"},\"error_y\":{\"color\":\"#2a3f5f\"},\"marker\":{\"line\":{\"color\":\"white\",\"width\":0.5},\"pattern\":{\"fillmode\":\"overlay\",\"size\":10,\"solidity\":0.2}},\"type\":\"bar\"}],\"barpolar\":[{\"marker\":{\"line\":{\"color\":\"white\",\"width\":0.5},\"pattern\":{\"fillmode\":\"overlay\",\"size\":10,\"solidity\":0.2}},\"type\":\"barpolar\"}],\"carpet\":[{\"aaxis\":{\"endlinecolor\":\"#2a3f5f\",\"gridcolor\":\"#C8D4E3\",\"linecolor\":\"#C8D4E3\",\"minorgridcolor\":\"#C8D4E3\",\"startlinecolor\":\"#2a3f5f\"},\"baxis\":{\"endlinecolor\":\"#2a3f5f\",\"gridcolor\":\"#C8D4E3\",\"linecolor\":\"#C8D4E3\",\"minorgridcolor\":\"#C8D4E3\",\"startlinecolor\":\"#2a3f5f\"},\"type\":\"carpet\"}],\"choropleth\":[{\"colorbar\":{\"outlinewidth\":0,\"ticks\":\"\"},\"type\":\"choropleth\"}],\"contour\":[{\"colorbar\":{\"outlinewidth\":0,\"ticks\":\"\"},\"colorscale\":[[0.0,\"#0d0887\"],[0.1111111111111111,\"#46039f\"],[0.2222222222222222,\"#7201a8\"],[0.3333333333333333,\"#9c179e\"],[0.4444444444444444,\"#bd3786\"],[0.5555555555555556,\"#d8576b\"],[0.6666666666666666,\"#ed7953\"],[0.7777777777777778,\"#fb9f3a\"],[0.8888888888888888,\"#fdca26\"],[1.0,\"#f0f921\"]],\"type\":\"contour\"}],\"contourcarpet\":[{\"colorbar\":{\"outlinewidth\":0,\"ticks\":\"\"},\"type\":\"contourcarpet\"}],\"heatmap\":[{\"colorbar\":{\"outlinewidth\":0,\"ticks\":\"\"},\"colorscale\":[[0.0,\"#0d0887\"],[0.1111111111111111,\"#46039f\"],[0.2222222222222222,\"#7201a8\"],[0.3333333333333333,\"#9c179e\"],[0.4444444444444444,\"#bd3786\"],[0.5555555555555556,\"#d8576b\"],[0.6666666666666666,\"#ed7953\"],[0.7777777777777778,\"#fb9f3a\"],[0.8888888888888888,\"#fdca26\"],[1.0,\"#f0f921\"]],\"type\":\"heatmap\"}],\"heatmapgl\":[{\"colorbar\":{\"outlinewidth\":0,\"ticks\":\"\"},\"colorscale\":[[0.0,\"#0d0887\"],[0.1111111111111111,\"#46039f\"],[0.2222222222222222,\"#7201a8\"],[0.3333333333333333,\"#9c179e\"],[0.4444444444444444,\"#bd3786\"],[0.5555555555555556,\"#d8576b\"],[0.6666666666666666,\"#ed7953\"],[0.7777777777777778,\"#fb9f3a\"],[0.8888888888888888,\"#fdca26\"],[1.0,\"#f0f921\"]],\"type\":\"heatmapgl\"}],\"histogram\":[{\"marker\":{\"pattern\":{\"fillmode\":\"overlay\",\"size\":10,\"solidity\":0.2}},\"type\":\"histogram\"}],\"histogram2d\":[{\"colorbar\":{\"outlinewidth\":0,\"ticks\":\"\"},\"colorscale\":[[0.0,\"#0d0887\"],[0.1111111111111111,\"#46039f\"],[0.2222222222222222,\"#7201a8\"],[0.3333333333333333,\"#9c179e\"],[0.4444444444444444,\"#bd3786\"],[0.5555555555555556,\"#d8576b\"],[0.6666666666666666,\"#ed7953\"],[0.7777777777777778,\"#fb9f3a\"],[0.8888888888888888,\"#fdca26\"],[1.0,\"#f0f921\"]],\"type\":\"histogram2d\"}],\"histogram2dcontour\":[{\"colorbar\":{\"outlinewidth\":0,\"ticks\":\"\"},\"colorscale\":[[0.0,\"#0d0887\"],[0.1111111111111111,\"#46039f\"],[0.2222222222222222,\"#7201a8\"],[0.3333333333333333,\"#9c179e\"],[0.4444444444444444,\"#bd3786\"],[0.5555555555555556,\"#d8576b\"],[0.6666666666666666,\"#ed7953\"],[0.7777777777777778,\"#fb9f3a\"],[0.8888888888888888,\"#fdca26\"],[1.0,\"#f0f921\"]],\"type\":\"histogram2dcontour\"}],\"mesh3d\":[{\"colorbar\":{\"outlinewidth\":0,\"ticks\":\"\"},\"type\":\"mesh3d\"}],\"parcoords\":[{\"line\":{\"colorbar\":{\"outlinewidth\":0,\"ticks\":\"\"}},\"type\":\"parcoords\"}],\"pie\":[{\"automargin\":true,\"type\":\"pie\"}],\"scatter\":[{\"marker\":{\"colorbar\":{\"outlinewidth\":0,\"ticks\":\"\"}},\"type\":\"scatter\"}],\"scatter3d\":[{\"line\":{\"colorbar\":{\"outlinewidth\":0,\"ticks\":\"\"}},\"marker\":{\"colorbar\":{\"outlinewidth\":0,\"ticks\":\"\"}},\"type\":\"scatter3d\"}],\"scattercarpet\":[{\"marker\":{\"colorbar\":{\"outlinewidth\":0,\"ticks\":\"\"}},\"type\":\"scattercarpet\"}],\"scattergeo\":[{\"marker\":{\"colorbar\":{\"outlinewidth\":0,\"ticks\":\"\"}},\"type\":\"scattergeo\"}],\"scattergl\":[{\"marker\":{\"colorbar\":{\"outlinewidth\":0,\"ticks\":\"\"}},\"type\":\"scattergl\"}],\"scattermapbox\":[{\"marker\":{\"colorbar\":{\"outlinewidth\":0,\"ticks\":\"\"}},\"type\":\"scattermapbox\"}],\"scatterpolar\":[{\"marker\":{\"colorbar\":{\"outlinewidth\":0,\"ticks\":\"\"}},\"type\":\"scatterpolar\"}],\"scatterpolargl\":[{\"marker\":{\"colorbar\":{\"outlinewidth\":0,\"ticks\":\"\"}},\"type\":\"scatterpolargl\"}],\"scatterternary\":[{\"marker\":{\"colorbar\":{\"outlinewidth\":0,\"ticks\":\"\"}},\"type\":\"scatterternary\"}],\"surface\":[{\"colorbar\":{\"outlinewidth\":0,\"ticks\":\"\"},\"colorscale\":[[0.0,\"#0d0887\"],[0.1111111111111111,\"#46039f\"],[0.2222222222222222,\"#7201a8\"],[0.3333333333333333,\"#9c179e\"],[0.4444444444444444,\"#bd3786\"],[0.5555555555555556,\"#d8576b\"],[0.6666666666666666,\"#ed7953\"],[0.7777777777777778,\"#fb9f3a\"],[0.8888888888888888,\"#fdca26\"],[1.0,\"#f0f921\"]],\"type\":\"surface\"}],\"table\":[{\"cells\":{\"fill\":{\"color\":\"#EBF0F8\"},\"line\":{\"color\":\"white\"}},\"header\":{\"fill\":{\"color\":\"#C8D4E3\"},\"line\":{\"color\":\"white\"}},\"type\":\"table\"}]},\"layout\":{\"annotationdefaults\":{\"arrowcolor\":\"#2a3f5f\",\"arrowhead\":0,\"arrowwidth\":1},\"autotypenumbers\":\"strict\",\"coloraxis\":{\"colorbar\":{\"outlinewidth\":0,\"ticks\":\"\"}},\"colorscale\":{\"diverging\":[[0,\"#8e0152\"],[0.1,\"#c51b7d\"],[0.2,\"#de77ae\"],[0.3,\"#f1b6da\"],[0.4,\"#fde0ef\"],[0.5,\"#f7f7f7\"],[0.6,\"#e6f5d0\"],[0.7,\"#b8e186\"],[0.8,\"#7fbc41\"],[0.9,\"#4d9221\"],[1,\"#276419\"]],\"sequential\":[[0.0,\"#0d0887\"],[0.1111111111111111,\"#46039f\"],[0.2222222222222222,\"#7201a8\"],[0.3333333333333333,\"#9c179e\"],[0.4444444444444444,\"#bd3786\"],[0.5555555555555556,\"#d8576b\"],[0.6666666666666666,\"#ed7953\"],[0.7777777777777778,\"#fb9f3a\"],[0.8888888888888888,\"#fdca26\"],[1.0,\"#f0f921\"]],\"sequentialminus\":[[0.0,\"#0d0887\"],[0.1111111111111111,\"#46039f\"],[0.2222222222222222,\"#7201a8\"],[0.3333333333333333,\"#9c179e\"],[0.4444444444444444,\"#bd3786\"],[0.5555555555555556,\"#d8576b\"],[0.6666666666666666,\"#ed7953\"],[0.7777777777777778,\"#fb9f3a\"],[0.8888888888888888,\"#fdca26\"],[1.0,\"#f0f921\"]]},\"colorway\":[\"#636efa\",\"#EF553B\",\"#00cc96\",\"#ab63fa\",\"#FFA15A\",\"#19d3f3\",\"#FF6692\",\"#B6E880\",\"#FF97FF\",\"#FECB52\"],\"font\":{\"color\":\"#2a3f5f\"},\"geo\":{\"bgcolor\":\"white\",\"lakecolor\":\"white\",\"landcolor\":\"white\",\"showlakes\":true,\"showland\":true,\"subunitcolor\":\"#C8D4E3\"},\"hoverlabel\":{\"align\":\"left\"},\"hovermode\":\"closest\",\"mapbox\":{\"style\":\"light\"},\"paper_bgcolor\":\"white\",\"plot_bgcolor\":\"white\",\"polar\":{\"angularaxis\":{\"gridcolor\":\"#EBF0F8\",\"linecolor\":\"#EBF0F8\",\"ticks\":\"\"},\"bgcolor\":\"white\",\"radialaxis\":{\"gridcolor\":\"#EBF0F8\",\"linecolor\":\"#EBF0F8\",\"ticks\":\"\"}},\"scene\":{\"xaxis\":{\"backgroundcolor\":\"white\",\"gridcolor\":\"#DFE8F3\",\"gridwidth\":2,\"linecolor\":\"#EBF0F8\",\"showbackground\":true,\"ticks\":\"\",\"zerolinecolor\":\"#EBF0F8\"},\"yaxis\":{\"backgroundcolor\":\"white\",\"gridcolor\":\"#DFE8F3\",\"gridwidth\":2,\"linecolor\":\"#EBF0F8\",\"showbackground\":true,\"ticks\":\"\",\"zerolinecolor\":\"#EBF0F8\"},\"zaxis\":{\"backgroundcolor\":\"white\",\"gridcolor\":\"#DFE8F3\",\"gridwidth\":2,\"linecolor\":\"#EBF0F8\",\"showbackground\":true,\"ticks\":\"\",\"zerolinecolor\":\"#EBF0F8\"}},\"shapedefaults\":{\"line\":{\"color\":\"#2a3f5f\"}},\"ternary\":{\"aaxis\":{\"gridcolor\":\"#DFE8F3\",\"linecolor\":\"#A2B1C6\",\"ticks\":\"\"},\"baxis\":{\"gridcolor\":\"#DFE8F3\",\"linecolor\":\"#A2B1C6\",\"ticks\":\"\"},\"bgcolor\":\"white\",\"caxis\":{\"gridcolor\":\"#DFE8F3\",\"linecolor\":\"#A2B1C6\",\"ticks\":\"\"}},\"title\":{\"x\":0.05},\"xaxis\":{\"automargin\":true,\"gridcolor\":\"#EBF0F8\",\"linecolor\":\"#EBF0F8\",\"ticks\":\"\",\"title\":{\"standoff\":15},\"zerolinecolor\":\"#EBF0F8\",\"zerolinewidth\":2},\"yaxis\":{\"automargin\":true,\"gridcolor\":\"#EBF0F8\",\"linecolor\":\"#EBF0F8\",\"ticks\":\"\",\"title\":{\"standoff\":15},\"zerolinecolor\":\"#EBF0F8\",\"zerolinewidth\":2}}},\"title\":{\"text\":\"Phantom Feb - 37\\u00b0C MTR-asym\",\"x\":0.02,\"y\":0.97},\"width\":350,\"xaxis\":{\"anchor\":\"y\",\"autorange\":\"reversed\",\"domain\":[0.0,1.0],\"dtick\":1,\"title\":{\"text\":\"ppm\"}},\"yaxis\":{\"anchor\":\"x\",\"domain\":[0.0,1.0],\"dtick\":0.05,\"range\":[0,0.25],\"tick0\":0,\"tickformat\":\".0%\",\"tickmode\":\"linear\",\"title\":{\"text\":\"MTR-asym\"}}},                        {\"responsive\": true}                    ).then(function(){\n                            \nvar gd = document.getElementById('3f76471d-efdc-4518-90fb-03aa618343c5');\nvar x = new MutationObserver(function (mutations, observer) {{\n        var display = window.getComputedStyle(gd).display;\n        if (!display || display === 'none') {{\n            console.log([gd, 'removed!']);\n            Plotly.purge(gd);\n            observer.disconnect();\n        }}\n}});\n\n// Listen for the removal of the full notebook cells\nvar notebookContainer = gd.closest('#notebook-container');\nif (notebookContainer) {{\n    x.observe(notebookContainer, {childList: true});\n}}\n\n// Listen for the clearing of the current output cell\nvar outputEl = gd.closest('.output');\nif (outputEl) {{\n    x.observe(outputEl, {childList: true});\n}}\n\n                        })                };                });            </script>        </div>"
     },
     "metadata": {},
     "output_type": "display_data"
    },
    {
     "data": {
      "application/vnd.plotly.v1+json": {
       "config": {
        "plotlyServerURL": "https://plot.ly"
       },
       "data": [
        {
         "legendgroup": "1_1_1",
         "line": {
          "color": "#1f77b4"
         },
         "name": "a 20 mM, pH 7",
         "showlegend": true,
         "type": "scatter",
         "x": [
          7.0,
          6.75,
          6.5,
          6.25,
          6.0,
          5.75,
          5.5,
          5.25,
          5.0,
          4.75,
          4.5,
          4.25,
          4.0,
          3.75,
          3.5,
          3.25,
          3.0,
          2.75,
          2.5,
          2.25,
          2.0,
          1.75,
          1.5,
          1.25,
          1.0,
          0.75,
          0.5,
          0.25,
          0.0,
          -0.25,
          -0.5,
          -0.75,
          -1.0,
          -1.25,
          -1.5,
          -1.75,
          -2.0,
          -2.25,
          -2.5,
          -2.75,
          -3.0,
          -3.25,
          -3.5,
          -3.75,
          -4.0,
          -4.25,
          -4.5,
          -4.75,
          -5.0,
          -5.25,
          -5.5,
          -5.75,
          -6.0,
          -6.25,
          -6.5,
          -6.75,
          -7.0
         ],
         "xaxis": "x",
         "y": [
          0.9133173061320581,
          0.9099714303040761,
          0.9088236910891977,
          0.9064029124929249,
          0.9030419645601488,
          0.8995414054911468,
          0.8940545898870137,
          0.8891195686416151,
          0.8822122100331384,
          0.8732571658585583,
          0.8660114189237527,
          0.8559842003780807,
          0.843222515645672,
          0.8295655127071901,
          0.8146461124750269,
          0.7964229155393338,
          0.7732701105653524,
          0.7463817022367146,
          0.7154864900962644,
          0.6767253352820756,
          0.6285790930276675,
          0.5680139967589499,
          0.4931687922815069,
          0.4033914145900963,
          0.29751754390493035,
          0.1881192126840071,
          0.09196045865844371,
          0.02691870075540402,
          0.0053886614457647015,
          0.03191392864534421,
          0.10916491413812485,
          0.22754985695087057,
          0.36028952006458287,
          0.4832987663211646,
          0.5819151739400334,
          0.6583007581303058,
          0.7179233900105272,
          0.7613647284764253,
          0.7938448043221932,
          0.8205357778126406,
          0.840875560710502,
          0.8578050572297627,
          0.8706485764695692,
          0.8805188497063332,
          0.8891963168371865,
          0.89819956876161,
          0.9038133536724631,
          0.9075974655828349,
          0.9126255141776229,
          0.9161886391235161,
          0.9185929425735703,
          0.9205691651702542,
          0.9224781953407463,
          0.923959189694522,
          0.9241503780597956,
          0.9246493485705938,
          0.9253413184995366
         ],
         "yaxis": "y"
        },
        {
         "legendgroup": "1_1_2",
         "line": {
          "color": "#1f77b4"
         },
         "name": "20 mM, pH 7",
         "showlegend": false,
         "type": "scatter",
         "x": [
          7.0,
          6.75,
          6.5,
          6.25,
          6.0,
          5.75,
          5.5,
          5.25,
          5.0,
          4.75,
          4.5,
          4.25,
          4.0,
          3.75,
          3.5,
          3.25,
          3.0,
          2.75,
          2.5,
          2.25,
          2.0,
          1.75,
          1.5,
          1.25,
          1.0,
          0.75,
          0.5,
          0.25,
          0.0
         ],
         "xaxis": "x",
         "y": [
          0.01202401236747852,
          0.014677918266517653,
          0.015326686970597914,
          0.017556277201597026,
          0.01943623078059742,
          0.021027759679107416,
          0.024538352686556575,
          0.027069070481900992,
          0.03041330414448451,
          0.03434029972427666,
          0.03780193474871041,
          0.04221536838352935,
          0.04597380119151451,
          0.05095333699914306,
          0.05600246399454223,
          0.06138214169042899,
          0.06760545014514951,
          0.07415407557592602,
          0.07835831422592876,
          0.08463939319434977,
          0.08934429698285973,
          0.09028676137135583,
          0.08874638165852655,
          0.07990735173106828,
          0.06277197615965252,
          0.03943064426686346,
          0.017204455479681136,
          0.004995227889940189,
          0.0
         ],
         "yaxis": "y"
        },
        {
         "legendgroup": "1_1_1",
         "line": {
          "color": "#ff7f0e"
         },
         "name": "b 16 mM, pH 7",
         "showlegend": true,
         "type": "scatter",
         "x": [
          7.0,
          6.75,
          6.5,
          6.25,
          6.0,
          5.75,
          5.5,
          5.25,
          5.0,
          4.75,
          4.5,
          4.25,
          4.0,
          3.75,
          3.5,
          3.25,
          3.0,
          2.75,
          2.5,
          2.25,
          2.0,
          1.75,
          1.5,
          1.25,
          1.0,
          0.75,
          0.5,
          0.25,
          0.0,
          -0.25,
          -0.5,
          -0.75,
          -1.0,
          -1.25,
          -1.5,
          -1.75,
          -2.0,
          -2.25,
          -2.5,
          -2.75,
          -3.0,
          -3.25,
          -3.5,
          -3.75,
          -4.0,
          -4.25,
          -4.5,
          -4.75,
          -5.0,
          -5.25,
          -5.5,
          -5.75,
          -6.0,
          -6.25,
          -6.5,
          -6.75,
          -7.0
         ],
         "xaxis": "x",
         "y": [
          0.9186759431386413,
          0.9168374621012958,
          0.9139431055998037,
          0.9102617670166048,
          0.9076257724822429,
          0.9048914813849775,
          0.9001168402965869,
          0.895814956681162,
          0.8909219416925713,
          0.8859208814876104,
          0.8783892826364069,
          0.8690457467615409,
          0.8592993858658443,
          0.8479612518765081,
          0.8343566545459885,
          0.816935008448974,
          0.7972971196559704,
          0.7735221510138898,
          0.7436262500756599,
          0.7065302761091852,
          0.6617773243246772,
          0.6053014707034301,
          0.5328864806678376,
          0.4430770955124008,
          0.33533851052068747,
          0.21767431243257448,
          0.10745130918423237,
          0.029358369053402198,
          0.003602078896232815,
          0.03341071334164625,
          0.12463057217003908,
          0.2569435820454793,
          0.3965482444103236,
          0.5176633092554741,
          0.6143931134676713,
          0.6868850444126811,
          0.7406831169081727,
          0.7810228465397834,
          0.812673902069337,
          0.837555227243984,
          0.855790523760887,
          0.8694100656087492,
          0.8814287141261613,
          0.891729902509097,
          0.8989174709133151,
          0.9053046279162994,
          0.9100625382762286,
          0.9142242393888315,
          0.9168832372655334,
          0.9178307009307015,
          0.9209585798048368,
          0.9229340996944225,
          0.9239794721023615,
          0.9240915338273379,
          0.9265805586357401,
          0.9287080948634986,
          0.9288726519554417
         ],
         "yaxis": "y"
        },
        {
         "legendgroup": "1_1_2",
         "line": {
          "color": "#ff7f0e"
         },
         "name": "16 mM, pH 7",
         "showlegend": false,
         "type": "scatter",
         "x": [
          7.0,
          6.75,
          6.5,
          6.25,
          6.0,
          5.75,
          5.5,
          5.25,
          5.0,
          4.75,
          4.5,
          4.25,
          4.0,
          3.75,
          3.5,
          3.25,
          3.0,
          2.75,
          2.5,
          2.25,
          2.0,
          1.75,
          1.5,
          1.25,
          1.0,
          0.75,
          0.5,
          0.25,
          0.0
         ],
         "xaxis": "x",
         "y": [
          0.010196708816800348,
          0.011870632762202793,
          0.01263745303593633,
          0.013829766810733113,
          0.016353699620118678,
          0.01804261830944498,
          0.020841739508249857,
          0.02201574424953956,
          0.025961295572962118,
          0.02830335790122107,
          0.03167325563982171,
          0.036258881154758504,
          0.039618085047470775,
          0.043768650632588946,
          0.0470720595801728,
          0.052475057159775185,
          0.05849340410491666,
          0.06403307623009424,
          0.06904765199367713,
          0.0744925704305982,
          0.0789057925834955,
          0.08158357370925096,
          0.08150663279983372,
          0.07458621374307328,
          0.06120973388963613,
          0.039269269612904806,
          0.0171792629858067,
          0.0040523442882440495,
          0.0
         ],
         "yaxis": "y"
        },
        {
         "legendgroup": "1_1_1",
         "line": {
          "color": "#2ca02c"
         },
         "name": "c 12 mM, pH 7",
         "showlegend": true,
         "type": "scatter",
         "x": [
          7.0,
          6.75,
          6.5,
          6.25,
          6.0,
          5.75,
          5.5,
          5.25,
          5.0,
          4.75,
          4.5,
          4.25,
          4.0,
          3.75,
          3.5,
          3.25,
          3.0,
          2.75,
          2.5,
          2.25,
          2.0,
          1.75,
          1.5,
          1.25,
          1.0,
          0.75,
          0.5,
          0.25,
          0.0,
          -0.25,
          -0.5,
          -0.75,
          -1.0,
          -1.25,
          -1.5,
          -1.75,
          -2.0,
          -2.25,
          -2.5,
          -2.75,
          -3.0,
          -3.25,
          -3.5,
          -3.75,
          -4.0,
          -4.25,
          -4.5,
          -4.75,
          -5.0,
          -5.25,
          -5.5,
          -5.75,
          -6.0,
          -6.25,
          -6.5,
          -6.75,
          -7.0
         ],
         "xaxis": "x",
         "y": [
          0.9224418776430111,
          0.9189117042810631,
          0.9168116312149679,
          0.9164699548034003,
          0.9136972798036587,
          0.910737127834171,
          0.9071976728836239,
          0.904829945713099,
          0.9010421642364294,
          0.8951904129402747,
          0.8902607326421061,
          0.8859030421286658,
          0.8782886547018521,
          0.8685052563401778,
          0.8585751559397454,
          0.8469141207782979,
          0.8309848938059438,
          0.8102957883037407,
          0.7873115978810314,
          0.7582924290350023,
          0.7206644642525187,
          0.6698953140458822,
          0.6047953855546954,
          0.5192066183515481,
          0.4097338601689024,
          0.2771084672331423,
          0.14268002880567285,
          0.04046020995543667,
          0.003263238797052208,
          0.04197216934088809,
          0.15597116283370843,
          0.3070029751248949,
          0.450001927658449,
          0.5679732286212578,
          0.6543395394195456,
          0.7184501574891509,
          0.7660700685466334,
          0.8012445760545721,
          0.8266539152206611,
          0.8475486743003091,
          0.8634638000034716,
          0.8768723149856783,
          0.8858111752301931,
          0.8938934086461837,
          0.9004196602121883,
          0.9063702980616373,
          0.9096798500334164,
          0.9121502419935784,
          0.9157225085334461,
          0.9182146749054938,
          0.9204483938305764,
          0.9212958984724815,
          0.923385097257218,
          0.9256699292079165,
          0.9262504693025282,
          0.9269412367027366,
          0.927905473011338
         ],
         "yaxis": "y"
        },
        {
         "legendgroup": "1_1_2",
         "line": {
          "color": "#2ca02c"
         },
         "name": "12 mM, pH 7",
         "showlegend": false,
         "type": "scatter",
         "x": [
          7.0,
          6.75,
          6.5,
          6.25,
          6.0,
          5.75,
          5.5,
          5.25,
          5.0,
          4.75,
          4.5,
          4.25,
          4.0,
          3.75,
          3.5,
          3.25,
          3.0,
          2.75,
          2.5,
          2.25,
          2.0,
          1.75,
          1.5,
          1.25,
          1.0,
          0.75,
          0.5,
          0.25,
          0.0
         ],
         "xaxis": "x",
         "y": [
          0.005463595368326857,
          0.00802953242167359,
          0.009438838087560297,
          0.009199974404516142,
          0.009687817453559289,
          0.010558770638310455,
          0.013250720946952566,
          0.013384729192394751,
          0.0146803442970167,
          0.016959829053303732,
          0.019419117391310303,
          0.020467255932971495,
          0.0221310055103362,
          0.025388152306005884,
          0.02723601929044772,
          0.02995819420738044,
          0.0324789061975278,
          0.0372528859965684,
          0.03934231733962967,
          0.04295214701956984,
          0.045405604294114665,
          0.04855484344326866,
          0.04954415386485023,
          0.04876661026970963,
          0.04026806748954659,
          0.029894507891752575,
          0.013291134028035584,
          0.001511959385451421,
          0.0
         ],
         "yaxis": "y"
        }
       ],
       "layout": {
        "annotations": [
         {
          "font": {
           "size": 16
          },
          "showarrow": false,
          "text": "4uT",
          "x": 0.5,
          "xanchor": "center",
          "xref": "paper",
          "y": 1.0,
          "yanchor": "bottom",
          "yref": "paper"
         }
        ],
        "height": 250,
        "margin": {
         "b": 0,
         "l": 45,
         "r": 0,
         "t": 50
        },
        "template": {
         "data": {
          "bar": [
           {
            "error_x": {
             "color": "#2a3f5f"
            },
            "error_y": {
             "color": "#2a3f5f"
            },
            "marker": {
             "line": {
              "color": "white",
              "width": 0.5
             },
             "pattern": {
              "fillmode": "overlay",
              "size": 10,
              "solidity": 0.2
             }
            },
            "type": "bar"
           }
          ],
          "barpolar": [
           {
            "marker": {
             "line": {
              "color": "white",
              "width": 0.5
             },
             "pattern": {
              "fillmode": "overlay",
              "size": 10,
              "solidity": 0.2
             }
            },
            "type": "barpolar"
           }
          ],
          "carpet": [
           {
            "aaxis": {
             "endlinecolor": "#2a3f5f",
             "gridcolor": "#C8D4E3",
             "linecolor": "#C8D4E3",
             "minorgridcolor": "#C8D4E3",
             "startlinecolor": "#2a3f5f"
            },
            "baxis": {
             "endlinecolor": "#2a3f5f",
             "gridcolor": "#C8D4E3",
             "linecolor": "#C8D4E3",
             "minorgridcolor": "#C8D4E3",
             "startlinecolor": "#2a3f5f"
            },
            "type": "carpet"
           }
          ],
          "choropleth": [
           {
            "colorbar": {
             "outlinewidth": 0,
             "ticks": ""
            },
            "type": "choropleth"
           }
          ],
          "contour": [
           {
            "colorbar": {
             "outlinewidth": 0,
             "ticks": ""
            },
            "colorscale": [
             [
              0.0,
              "#0d0887"
             ],
             [
              0.1111111111111111,
              "#46039f"
             ],
             [
              0.2222222222222222,
              "#7201a8"
             ],
             [
              0.3333333333333333,
              "#9c179e"
             ],
             [
              0.4444444444444444,
              "#bd3786"
             ],
             [
              0.5555555555555556,
              "#d8576b"
             ],
             [
              0.6666666666666666,
              "#ed7953"
             ],
             [
              0.7777777777777778,
              "#fb9f3a"
             ],
             [
              0.8888888888888888,
              "#fdca26"
             ],
             [
              1.0,
              "#f0f921"
             ]
            ],
            "type": "contour"
           }
          ],
          "contourcarpet": [
           {
            "colorbar": {
             "outlinewidth": 0,
             "ticks": ""
            },
            "type": "contourcarpet"
           }
          ],
          "heatmap": [
           {
            "colorbar": {
             "outlinewidth": 0,
             "ticks": ""
            },
            "colorscale": [
             [
              0.0,
              "#0d0887"
             ],
             [
              0.1111111111111111,
              "#46039f"
             ],
             [
              0.2222222222222222,
              "#7201a8"
             ],
             [
              0.3333333333333333,
              "#9c179e"
             ],
             [
              0.4444444444444444,
              "#bd3786"
             ],
             [
              0.5555555555555556,
              "#d8576b"
             ],
             [
              0.6666666666666666,
              "#ed7953"
             ],
             [
              0.7777777777777778,
              "#fb9f3a"
             ],
             [
              0.8888888888888888,
              "#fdca26"
             ],
             [
              1.0,
              "#f0f921"
             ]
            ],
            "type": "heatmap"
           }
          ],
          "heatmapgl": [
           {
            "colorbar": {
             "outlinewidth": 0,
             "ticks": ""
            },
            "colorscale": [
             [
              0.0,
              "#0d0887"
             ],
             [
              0.1111111111111111,
              "#46039f"
             ],
             [
              0.2222222222222222,
              "#7201a8"
             ],
             [
              0.3333333333333333,
              "#9c179e"
             ],
             [
              0.4444444444444444,
              "#bd3786"
             ],
             [
              0.5555555555555556,
              "#d8576b"
             ],
             [
              0.6666666666666666,
              "#ed7953"
             ],
             [
              0.7777777777777778,
              "#fb9f3a"
             ],
             [
              0.8888888888888888,
              "#fdca26"
             ],
             [
              1.0,
              "#f0f921"
             ]
            ],
            "type": "heatmapgl"
           }
          ],
          "histogram": [
           {
            "marker": {
             "pattern": {
              "fillmode": "overlay",
              "size": 10,
              "solidity": 0.2
             }
            },
            "type": "histogram"
           }
          ],
          "histogram2d": [
           {
            "colorbar": {
             "outlinewidth": 0,
             "ticks": ""
            },
            "colorscale": [
             [
              0.0,
              "#0d0887"
             ],
             [
              0.1111111111111111,
              "#46039f"
             ],
             [
              0.2222222222222222,
              "#7201a8"
             ],
             [
              0.3333333333333333,
              "#9c179e"
             ],
             [
              0.4444444444444444,
              "#bd3786"
             ],
             [
              0.5555555555555556,
              "#d8576b"
             ],
             [
              0.6666666666666666,
              "#ed7953"
             ],
             [
              0.7777777777777778,
              "#fb9f3a"
             ],
             [
              0.8888888888888888,
              "#fdca26"
             ],
             [
              1.0,
              "#f0f921"
             ]
            ],
            "type": "histogram2d"
           }
          ],
          "histogram2dcontour": [
           {
            "colorbar": {
             "outlinewidth": 0,
             "ticks": ""
            },
            "colorscale": [
             [
              0.0,
              "#0d0887"
             ],
             [
              0.1111111111111111,
              "#46039f"
             ],
             [
              0.2222222222222222,
              "#7201a8"
             ],
             [
              0.3333333333333333,
              "#9c179e"
             ],
             [
              0.4444444444444444,
              "#bd3786"
             ],
             [
              0.5555555555555556,
              "#d8576b"
             ],
             [
              0.6666666666666666,
              "#ed7953"
             ],
             [
              0.7777777777777778,
              "#fb9f3a"
             ],
             [
              0.8888888888888888,
              "#fdca26"
             ],
             [
              1.0,
              "#f0f921"
             ]
            ],
            "type": "histogram2dcontour"
           }
          ],
          "mesh3d": [
           {
            "colorbar": {
             "outlinewidth": 0,
             "ticks": ""
            },
            "type": "mesh3d"
           }
          ],
          "parcoords": [
           {
            "line": {
             "colorbar": {
              "outlinewidth": 0,
              "ticks": ""
             }
            },
            "type": "parcoords"
           }
          ],
          "pie": [
           {
            "automargin": true,
            "type": "pie"
           }
          ],
          "scatter": [
           {
            "marker": {
             "colorbar": {
              "outlinewidth": 0,
              "ticks": ""
             }
            },
            "type": "scatter"
           }
          ],
          "scatter3d": [
           {
            "line": {
             "colorbar": {
              "outlinewidth": 0,
              "ticks": ""
             }
            },
            "marker": {
             "colorbar": {
              "outlinewidth": 0,
              "ticks": ""
             }
            },
            "type": "scatter3d"
           }
          ],
          "scattercarpet": [
           {
            "marker": {
             "colorbar": {
              "outlinewidth": 0,
              "ticks": ""
             }
            },
            "type": "scattercarpet"
           }
          ],
          "scattergeo": [
           {
            "marker": {
             "colorbar": {
              "outlinewidth": 0,
              "ticks": ""
             }
            },
            "type": "scattergeo"
           }
          ],
          "scattergl": [
           {
            "marker": {
             "colorbar": {
              "outlinewidth": 0,
              "ticks": ""
             }
            },
            "type": "scattergl"
           }
          ],
          "scattermapbox": [
           {
            "marker": {
             "colorbar": {
              "outlinewidth": 0,
              "ticks": ""
             }
            },
            "type": "scattermapbox"
           }
          ],
          "scatterpolar": [
           {
            "marker": {
             "colorbar": {
              "outlinewidth": 0,
              "ticks": ""
             }
            },
            "type": "scatterpolar"
           }
          ],
          "scatterpolargl": [
           {
            "marker": {
             "colorbar": {
              "outlinewidth": 0,
              "ticks": ""
             }
            },
            "type": "scatterpolargl"
           }
          ],
          "scatterternary": [
           {
            "marker": {
             "colorbar": {
              "outlinewidth": 0,
              "ticks": ""
             }
            },
            "type": "scatterternary"
           }
          ],
          "surface": [
           {
            "colorbar": {
             "outlinewidth": 0,
             "ticks": ""
            },
            "colorscale": [
             [
              0.0,
              "#0d0887"
             ],
             [
              0.1111111111111111,
              "#46039f"
             ],
             [
              0.2222222222222222,
              "#7201a8"
             ],
             [
              0.3333333333333333,
              "#9c179e"
             ],
             [
              0.4444444444444444,
              "#bd3786"
             ],
             [
              0.5555555555555556,
              "#d8576b"
             ],
             [
              0.6666666666666666,
              "#ed7953"
             ],
             [
              0.7777777777777778,
              "#fb9f3a"
             ],
             [
              0.8888888888888888,
              "#fdca26"
             ],
             [
              1.0,
              "#f0f921"
             ]
            ],
            "type": "surface"
           }
          ],
          "table": [
           {
            "cells": {
             "fill": {
              "color": "#EBF0F8"
             },
             "line": {
              "color": "white"
             }
            },
            "header": {
             "fill": {
              "color": "#C8D4E3"
             },
             "line": {
              "color": "white"
             }
            },
            "type": "table"
           }
          ]
         },
         "layout": {
          "annotationdefaults": {
           "arrowcolor": "#2a3f5f",
           "arrowhead": 0,
           "arrowwidth": 1
          },
          "autotypenumbers": "strict",
          "coloraxis": {
           "colorbar": {
            "outlinewidth": 0,
            "ticks": ""
           }
          },
          "colorscale": {
           "diverging": [
            [
             0,
             "#8e0152"
            ],
            [
             0.1,
             "#c51b7d"
            ],
            [
             0.2,
             "#de77ae"
            ],
            [
             0.3,
             "#f1b6da"
            ],
            [
             0.4,
             "#fde0ef"
            ],
            [
             0.5,
             "#f7f7f7"
            ],
            [
             0.6,
             "#e6f5d0"
            ],
            [
             0.7,
             "#b8e186"
            ],
            [
             0.8,
             "#7fbc41"
            ],
            [
             0.9,
             "#4d9221"
            ],
            [
             1,
             "#276419"
            ]
           ],
           "sequential": [
            [
             0.0,
             "#0d0887"
            ],
            [
             0.1111111111111111,
             "#46039f"
            ],
            [
             0.2222222222222222,
             "#7201a8"
            ],
            [
             0.3333333333333333,
             "#9c179e"
            ],
            [
             0.4444444444444444,
             "#bd3786"
            ],
            [
             0.5555555555555556,
             "#d8576b"
            ],
            [
             0.6666666666666666,
             "#ed7953"
            ],
            [
             0.7777777777777778,
             "#fb9f3a"
            ],
            [
             0.8888888888888888,
             "#fdca26"
            ],
            [
             1.0,
             "#f0f921"
            ]
           ],
           "sequentialminus": [
            [
             0.0,
             "#0d0887"
            ],
            [
             0.1111111111111111,
             "#46039f"
            ],
            [
             0.2222222222222222,
             "#7201a8"
            ],
            [
             0.3333333333333333,
             "#9c179e"
            ],
            [
             0.4444444444444444,
             "#bd3786"
            ],
            [
             0.5555555555555556,
             "#d8576b"
            ],
            [
             0.6666666666666666,
             "#ed7953"
            ],
            [
             0.7777777777777778,
             "#fb9f3a"
            ],
            [
             0.8888888888888888,
             "#fdca26"
            ],
            [
             1.0,
             "#f0f921"
            ]
           ]
          },
          "colorway": [
           "#636efa",
           "#EF553B",
           "#00cc96",
           "#ab63fa",
           "#FFA15A",
           "#19d3f3",
           "#FF6692",
           "#B6E880",
           "#FF97FF",
           "#FECB52"
          ],
          "font": {
           "color": "#2a3f5f"
          },
          "geo": {
           "bgcolor": "white",
           "lakecolor": "white",
           "landcolor": "white",
           "showlakes": true,
           "showland": true,
           "subunitcolor": "#C8D4E3"
          },
          "hoverlabel": {
           "align": "left"
          },
          "hovermode": "closest",
          "mapbox": {
           "style": "light"
          },
          "paper_bgcolor": "white",
          "plot_bgcolor": "white",
          "polar": {
           "angularaxis": {
            "gridcolor": "#EBF0F8",
            "linecolor": "#EBF0F8",
            "ticks": ""
           },
           "bgcolor": "white",
           "radialaxis": {
            "gridcolor": "#EBF0F8",
            "linecolor": "#EBF0F8",
            "ticks": ""
           }
          },
          "scene": {
           "xaxis": {
            "backgroundcolor": "white",
            "gridcolor": "#DFE8F3",
            "gridwidth": 2,
            "linecolor": "#EBF0F8",
            "showbackground": true,
            "ticks": "",
            "zerolinecolor": "#EBF0F8"
           },
           "yaxis": {
            "backgroundcolor": "white",
            "gridcolor": "#DFE8F3",
            "gridwidth": 2,
            "linecolor": "#EBF0F8",
            "showbackground": true,
            "ticks": "",
            "zerolinecolor": "#EBF0F8"
           },
           "zaxis": {
            "backgroundcolor": "white",
            "gridcolor": "#DFE8F3",
            "gridwidth": 2,
            "linecolor": "#EBF0F8",
            "showbackground": true,
            "ticks": "",
            "zerolinecolor": "#EBF0F8"
           }
          },
          "shapedefaults": {
           "line": {
            "color": "#2a3f5f"
           }
          },
          "ternary": {
           "aaxis": {
            "gridcolor": "#DFE8F3",
            "linecolor": "#A2B1C6",
            "ticks": ""
           },
           "baxis": {
            "gridcolor": "#DFE8F3",
            "linecolor": "#A2B1C6",
            "ticks": ""
           },
           "bgcolor": "white",
           "caxis": {
            "gridcolor": "#DFE8F3",
            "linecolor": "#A2B1C6",
            "ticks": ""
           }
          },
          "title": {
           "x": 0.05
          },
          "xaxis": {
           "automargin": true,
           "gridcolor": "#EBF0F8",
           "linecolor": "#EBF0F8",
           "ticks": "",
           "title": {
            "standoff": 15
           },
           "zerolinecolor": "#EBF0F8",
           "zerolinewidth": 2
          },
          "yaxis": {
           "automargin": true,
           "gridcolor": "#EBF0F8",
           "linecolor": "#EBF0F8",
           "ticks": "",
           "title": {
            "standoff": 15
           },
           "zerolinecolor": "#EBF0F8",
           "zerolinewidth": 2
          }
         }
        },
        "title": {
         "text": "Phantom Dec_og - 37°C Z-spectrum",
         "x": 0.02,
         "y": 0.97
        },
        "width": 500,
        "xaxis": {
         "anchor": "y",
         "autorange": "reversed",
         "domain": [
          0.0,
          1.0
         ],
         "dtick": 1,
         "tick0": 0,
         "tickmode": "linear",
         "title": {
          "text": "ppm"
         }
        },
        "yaxis": {
         "anchor": "x",
         "domain": [
          0.0,
          1.0
         ],
         "dtick": 0.2,
         "range": [
          -0.1,
          1
         ],
         "tick0": 0,
         "tickmode": "linear",
         "title": {
          "standoff": 2,
          "text": "$M_{sat}/M_0$"
         }
        }
       }
      },
      "text/html": "<div>                            <div id=\"e7ef3c87-20f0-4c46-8fdc-4e97661d56a6\" class=\"plotly-graph-div\" style=\"height:250px; width:500px;\"></div>            <script type=\"text/javascript\">                require([\"plotly\"], function(Plotly) {                    window.PLOTLYENV=window.PLOTLYENV || {};                                    if (document.getElementById(\"e7ef3c87-20f0-4c46-8fdc-4e97661d56a6\")) {                    Plotly.newPlot(                        \"e7ef3c87-20f0-4c46-8fdc-4e97661d56a6\",                        [{\"legendgroup\":\"1_1_1\",\"line\":{\"color\":\"#1f77b4\"},\"name\":\"a 20 mM, pH 7\",\"showlegend\":true,\"type\":\"scatter\",\"x\":[7.0,6.75,6.5,6.25,6.0,5.75,5.5,5.25,5.0,4.75,4.5,4.25,4.0,3.75,3.5,3.25,3.0,2.75,2.5,2.25,2.0,1.75,1.5,1.25,1.0,0.75,0.5,0.25,0.0,-0.25,-0.5,-0.75,-1.0,-1.25,-1.5,-1.75,-2.0,-2.25,-2.5,-2.75,-3.0,-3.25,-3.5,-3.75,-4.0,-4.25,-4.5,-4.75,-5.0,-5.25,-5.5,-5.75,-6.0,-6.25,-6.5,-6.75,-7.0],\"xaxis\":\"x\",\"y\":[0.9133173061320581,0.9099714303040761,0.9088236910891977,0.9064029124929249,0.9030419645601488,0.8995414054911468,0.8940545898870137,0.8891195686416151,0.8822122100331384,0.8732571658585583,0.8660114189237527,0.8559842003780807,0.843222515645672,0.8295655127071901,0.8146461124750269,0.7964229155393338,0.7732701105653524,0.7463817022367146,0.7154864900962644,0.6767253352820756,0.6285790930276675,0.5680139967589499,0.4931687922815069,0.4033914145900963,0.29751754390493035,0.1881192126840071,0.09196045865844371,0.02691870075540402,0.0053886614457647015,0.03191392864534421,0.10916491413812485,0.22754985695087057,0.36028952006458287,0.4832987663211646,0.5819151739400334,0.6583007581303058,0.7179233900105272,0.7613647284764253,0.7938448043221932,0.8205357778126406,0.840875560710502,0.8578050572297627,0.8706485764695692,0.8805188497063332,0.8891963168371865,0.89819956876161,0.9038133536724631,0.9075974655828349,0.9126255141776229,0.9161886391235161,0.9185929425735703,0.9205691651702542,0.9224781953407463,0.923959189694522,0.9241503780597956,0.9246493485705938,0.9253413184995366],\"yaxis\":\"y\"},{\"legendgroup\":\"1_1_2\",\"line\":{\"color\":\"#1f77b4\"},\"name\":\"20 mM, pH 7\",\"showlegend\":false,\"type\":\"scatter\",\"x\":[7.0,6.75,6.5,6.25,6.0,5.75,5.5,5.25,5.0,4.75,4.5,4.25,4.0,3.75,3.5,3.25,3.0,2.75,2.5,2.25,2.0,1.75,1.5,1.25,1.0,0.75,0.5,0.25,0.0],\"xaxis\":\"x\",\"y\":[0.01202401236747852,0.014677918266517653,0.015326686970597914,0.017556277201597026,0.01943623078059742,0.021027759679107416,0.024538352686556575,0.027069070481900992,0.03041330414448451,0.03434029972427666,0.03780193474871041,0.04221536838352935,0.04597380119151451,0.05095333699914306,0.05600246399454223,0.06138214169042899,0.06760545014514951,0.07415407557592602,0.07835831422592876,0.08463939319434977,0.08934429698285973,0.09028676137135583,0.08874638165852655,0.07990735173106828,0.06277197615965252,0.03943064426686346,0.017204455479681136,0.004995227889940189,0.0],\"yaxis\":\"y\"},{\"legendgroup\":\"1_1_1\",\"line\":{\"color\":\"#ff7f0e\"},\"name\":\"b 16 mM, pH 7\",\"showlegend\":true,\"type\":\"scatter\",\"x\":[7.0,6.75,6.5,6.25,6.0,5.75,5.5,5.25,5.0,4.75,4.5,4.25,4.0,3.75,3.5,3.25,3.0,2.75,2.5,2.25,2.0,1.75,1.5,1.25,1.0,0.75,0.5,0.25,0.0,-0.25,-0.5,-0.75,-1.0,-1.25,-1.5,-1.75,-2.0,-2.25,-2.5,-2.75,-3.0,-3.25,-3.5,-3.75,-4.0,-4.25,-4.5,-4.75,-5.0,-5.25,-5.5,-5.75,-6.0,-6.25,-6.5,-6.75,-7.0],\"xaxis\":\"x\",\"y\":[0.9186759431386413,0.9168374621012958,0.9139431055998037,0.9102617670166048,0.9076257724822429,0.9048914813849775,0.9001168402965869,0.895814956681162,0.8909219416925713,0.8859208814876104,0.8783892826364069,0.8690457467615409,0.8592993858658443,0.8479612518765081,0.8343566545459885,0.816935008448974,0.7972971196559704,0.7735221510138898,0.7436262500756599,0.7065302761091852,0.6617773243246772,0.6053014707034301,0.5328864806678376,0.4430770955124008,0.33533851052068747,0.21767431243257448,0.10745130918423237,0.029358369053402198,0.003602078896232815,0.03341071334164625,0.12463057217003908,0.2569435820454793,0.3965482444103236,0.5176633092554741,0.6143931134676713,0.6868850444126811,0.7406831169081727,0.7810228465397834,0.812673902069337,0.837555227243984,0.855790523760887,0.8694100656087492,0.8814287141261613,0.891729902509097,0.8989174709133151,0.9053046279162994,0.9100625382762286,0.9142242393888315,0.9168832372655334,0.9178307009307015,0.9209585798048368,0.9229340996944225,0.9239794721023615,0.9240915338273379,0.9265805586357401,0.9287080948634986,0.9288726519554417],\"yaxis\":\"y\"},{\"legendgroup\":\"1_1_2\",\"line\":{\"color\":\"#ff7f0e\"},\"name\":\"16 mM, pH 7\",\"showlegend\":false,\"type\":\"scatter\",\"x\":[7.0,6.75,6.5,6.25,6.0,5.75,5.5,5.25,5.0,4.75,4.5,4.25,4.0,3.75,3.5,3.25,3.0,2.75,2.5,2.25,2.0,1.75,1.5,1.25,1.0,0.75,0.5,0.25,0.0],\"xaxis\":\"x\",\"y\":[0.010196708816800348,0.011870632762202793,0.01263745303593633,0.013829766810733113,0.016353699620118678,0.01804261830944498,0.020841739508249857,0.02201574424953956,0.025961295572962118,0.02830335790122107,0.03167325563982171,0.036258881154758504,0.039618085047470775,0.043768650632588946,0.0470720595801728,0.052475057159775185,0.05849340410491666,0.06403307623009424,0.06904765199367713,0.0744925704305982,0.0789057925834955,0.08158357370925096,0.08150663279983372,0.07458621374307328,0.06120973388963613,0.039269269612904806,0.0171792629858067,0.0040523442882440495,0.0],\"yaxis\":\"y\"},{\"legendgroup\":\"1_1_1\",\"line\":{\"color\":\"#2ca02c\"},\"name\":\"c 12 mM, pH 7\",\"showlegend\":true,\"type\":\"scatter\",\"x\":[7.0,6.75,6.5,6.25,6.0,5.75,5.5,5.25,5.0,4.75,4.5,4.25,4.0,3.75,3.5,3.25,3.0,2.75,2.5,2.25,2.0,1.75,1.5,1.25,1.0,0.75,0.5,0.25,0.0,-0.25,-0.5,-0.75,-1.0,-1.25,-1.5,-1.75,-2.0,-2.25,-2.5,-2.75,-3.0,-3.25,-3.5,-3.75,-4.0,-4.25,-4.5,-4.75,-5.0,-5.25,-5.5,-5.75,-6.0,-6.25,-6.5,-6.75,-7.0],\"xaxis\":\"x\",\"y\":[0.9224418776430111,0.9189117042810631,0.9168116312149679,0.9164699548034003,0.9136972798036587,0.910737127834171,0.9071976728836239,0.904829945713099,0.9010421642364294,0.8951904129402747,0.8902607326421061,0.8859030421286658,0.8782886547018521,0.8685052563401778,0.8585751559397454,0.8469141207782979,0.8309848938059438,0.8102957883037407,0.7873115978810314,0.7582924290350023,0.7206644642525187,0.6698953140458822,0.6047953855546954,0.5192066183515481,0.4097338601689024,0.2771084672331423,0.14268002880567285,0.04046020995543667,0.003263238797052208,0.04197216934088809,0.15597116283370843,0.3070029751248949,0.450001927658449,0.5679732286212578,0.6543395394195456,0.7184501574891509,0.7660700685466334,0.8012445760545721,0.8266539152206611,0.8475486743003091,0.8634638000034716,0.8768723149856783,0.8858111752301931,0.8938934086461837,0.9004196602121883,0.9063702980616373,0.9096798500334164,0.9121502419935784,0.9157225085334461,0.9182146749054938,0.9204483938305764,0.9212958984724815,0.923385097257218,0.9256699292079165,0.9262504693025282,0.9269412367027366,0.927905473011338],\"yaxis\":\"y\"},{\"legendgroup\":\"1_1_2\",\"line\":{\"color\":\"#2ca02c\"},\"name\":\"12 mM, pH 7\",\"showlegend\":false,\"type\":\"scatter\",\"x\":[7.0,6.75,6.5,6.25,6.0,5.75,5.5,5.25,5.0,4.75,4.5,4.25,4.0,3.75,3.5,3.25,3.0,2.75,2.5,2.25,2.0,1.75,1.5,1.25,1.0,0.75,0.5,0.25,0.0],\"xaxis\":\"x\",\"y\":[0.005463595368326857,0.00802953242167359,0.009438838087560297,0.009199974404516142,0.009687817453559289,0.010558770638310455,0.013250720946952566,0.013384729192394751,0.0146803442970167,0.016959829053303732,0.019419117391310303,0.020467255932971495,0.0221310055103362,0.025388152306005884,0.02723601929044772,0.02995819420738044,0.0324789061975278,0.0372528859965684,0.03934231733962967,0.04295214701956984,0.045405604294114665,0.04855484344326866,0.04954415386485023,0.04876661026970963,0.04026806748954659,0.029894507891752575,0.013291134028035584,0.001511959385451421,0.0],\"yaxis\":\"y\"}],                        {\"annotations\":[{\"font\":{\"size\":16},\"showarrow\":false,\"text\":\"4uT\",\"x\":0.5,\"xanchor\":\"center\",\"xref\":\"paper\",\"y\":1.0,\"yanchor\":\"bottom\",\"yref\":\"paper\"}],\"height\":250,\"margin\":{\"b\":0,\"l\":45,\"r\":0,\"t\":50},\"template\":{\"data\":{\"bar\":[{\"error_x\":{\"color\":\"#2a3f5f\"},\"error_y\":{\"color\":\"#2a3f5f\"},\"marker\":{\"line\":{\"color\":\"white\",\"width\":0.5},\"pattern\":{\"fillmode\":\"overlay\",\"size\":10,\"solidity\":0.2}},\"type\":\"bar\"}],\"barpolar\":[{\"marker\":{\"line\":{\"color\":\"white\",\"width\":0.5},\"pattern\":{\"fillmode\":\"overlay\",\"size\":10,\"solidity\":0.2}},\"type\":\"barpolar\"}],\"carpet\":[{\"aaxis\":{\"endlinecolor\":\"#2a3f5f\",\"gridcolor\":\"#C8D4E3\",\"linecolor\":\"#C8D4E3\",\"minorgridcolor\":\"#C8D4E3\",\"startlinecolor\":\"#2a3f5f\"},\"baxis\":{\"endlinecolor\":\"#2a3f5f\",\"gridcolor\":\"#C8D4E3\",\"linecolor\":\"#C8D4E3\",\"minorgridcolor\":\"#C8D4E3\",\"startlinecolor\":\"#2a3f5f\"},\"type\":\"carpet\"}],\"choropleth\":[{\"colorbar\":{\"outlinewidth\":0,\"ticks\":\"\"},\"type\":\"choropleth\"}],\"contour\":[{\"colorbar\":{\"outlinewidth\":0,\"ticks\":\"\"},\"colorscale\":[[0.0,\"#0d0887\"],[0.1111111111111111,\"#46039f\"],[0.2222222222222222,\"#7201a8\"],[0.3333333333333333,\"#9c179e\"],[0.4444444444444444,\"#bd3786\"],[0.5555555555555556,\"#d8576b\"],[0.6666666666666666,\"#ed7953\"],[0.7777777777777778,\"#fb9f3a\"],[0.8888888888888888,\"#fdca26\"],[1.0,\"#f0f921\"]],\"type\":\"contour\"}],\"contourcarpet\":[{\"colorbar\":{\"outlinewidth\":0,\"ticks\":\"\"},\"type\":\"contourcarpet\"}],\"heatmap\":[{\"colorbar\":{\"outlinewidth\":0,\"ticks\":\"\"},\"colorscale\":[[0.0,\"#0d0887\"],[0.1111111111111111,\"#46039f\"],[0.2222222222222222,\"#7201a8\"],[0.3333333333333333,\"#9c179e\"],[0.4444444444444444,\"#bd3786\"],[0.5555555555555556,\"#d8576b\"],[0.6666666666666666,\"#ed7953\"],[0.7777777777777778,\"#fb9f3a\"],[0.8888888888888888,\"#fdca26\"],[1.0,\"#f0f921\"]],\"type\":\"heatmap\"}],\"heatmapgl\":[{\"colorbar\":{\"outlinewidth\":0,\"ticks\":\"\"},\"colorscale\":[[0.0,\"#0d0887\"],[0.1111111111111111,\"#46039f\"],[0.2222222222222222,\"#7201a8\"],[0.3333333333333333,\"#9c179e\"],[0.4444444444444444,\"#bd3786\"],[0.5555555555555556,\"#d8576b\"],[0.6666666666666666,\"#ed7953\"],[0.7777777777777778,\"#fb9f3a\"],[0.8888888888888888,\"#fdca26\"],[1.0,\"#f0f921\"]],\"type\":\"heatmapgl\"}],\"histogram\":[{\"marker\":{\"pattern\":{\"fillmode\":\"overlay\",\"size\":10,\"solidity\":0.2}},\"type\":\"histogram\"}],\"histogram2d\":[{\"colorbar\":{\"outlinewidth\":0,\"ticks\":\"\"},\"colorscale\":[[0.0,\"#0d0887\"],[0.1111111111111111,\"#46039f\"],[0.2222222222222222,\"#7201a8\"],[0.3333333333333333,\"#9c179e\"],[0.4444444444444444,\"#bd3786\"],[0.5555555555555556,\"#d8576b\"],[0.6666666666666666,\"#ed7953\"],[0.7777777777777778,\"#fb9f3a\"],[0.8888888888888888,\"#fdca26\"],[1.0,\"#f0f921\"]],\"type\":\"histogram2d\"}],\"histogram2dcontour\":[{\"colorbar\":{\"outlinewidth\":0,\"ticks\":\"\"},\"colorscale\":[[0.0,\"#0d0887\"],[0.1111111111111111,\"#46039f\"],[0.2222222222222222,\"#7201a8\"],[0.3333333333333333,\"#9c179e\"],[0.4444444444444444,\"#bd3786\"],[0.5555555555555556,\"#d8576b\"],[0.6666666666666666,\"#ed7953\"],[0.7777777777777778,\"#fb9f3a\"],[0.8888888888888888,\"#fdca26\"],[1.0,\"#f0f921\"]],\"type\":\"histogram2dcontour\"}],\"mesh3d\":[{\"colorbar\":{\"outlinewidth\":0,\"ticks\":\"\"},\"type\":\"mesh3d\"}],\"parcoords\":[{\"line\":{\"colorbar\":{\"outlinewidth\":0,\"ticks\":\"\"}},\"type\":\"parcoords\"}],\"pie\":[{\"automargin\":true,\"type\":\"pie\"}],\"scatter\":[{\"marker\":{\"colorbar\":{\"outlinewidth\":0,\"ticks\":\"\"}},\"type\":\"scatter\"}],\"scatter3d\":[{\"line\":{\"colorbar\":{\"outlinewidth\":0,\"ticks\":\"\"}},\"marker\":{\"colorbar\":{\"outlinewidth\":0,\"ticks\":\"\"}},\"type\":\"scatter3d\"}],\"scattercarpet\":[{\"marker\":{\"colorbar\":{\"outlinewidth\":0,\"ticks\":\"\"}},\"type\":\"scattercarpet\"}],\"scattergeo\":[{\"marker\":{\"colorbar\":{\"outlinewidth\":0,\"ticks\":\"\"}},\"type\":\"scattergeo\"}],\"scattergl\":[{\"marker\":{\"colorbar\":{\"outlinewidth\":0,\"ticks\":\"\"}},\"type\":\"scattergl\"}],\"scattermapbox\":[{\"marker\":{\"colorbar\":{\"outlinewidth\":0,\"ticks\":\"\"}},\"type\":\"scattermapbox\"}],\"scatterpolar\":[{\"marker\":{\"colorbar\":{\"outlinewidth\":0,\"ticks\":\"\"}},\"type\":\"scatterpolar\"}],\"scatterpolargl\":[{\"marker\":{\"colorbar\":{\"outlinewidth\":0,\"ticks\":\"\"}},\"type\":\"scatterpolargl\"}],\"scatterternary\":[{\"marker\":{\"colorbar\":{\"outlinewidth\":0,\"ticks\":\"\"}},\"type\":\"scatterternary\"}],\"surface\":[{\"colorbar\":{\"outlinewidth\":0,\"ticks\":\"\"},\"colorscale\":[[0.0,\"#0d0887\"],[0.1111111111111111,\"#46039f\"],[0.2222222222222222,\"#7201a8\"],[0.3333333333333333,\"#9c179e\"],[0.4444444444444444,\"#bd3786\"],[0.5555555555555556,\"#d8576b\"],[0.6666666666666666,\"#ed7953\"],[0.7777777777777778,\"#fb9f3a\"],[0.8888888888888888,\"#fdca26\"],[1.0,\"#f0f921\"]],\"type\":\"surface\"}],\"table\":[{\"cells\":{\"fill\":{\"color\":\"#EBF0F8\"},\"line\":{\"color\":\"white\"}},\"header\":{\"fill\":{\"color\":\"#C8D4E3\"},\"line\":{\"color\":\"white\"}},\"type\":\"table\"}]},\"layout\":{\"annotationdefaults\":{\"arrowcolor\":\"#2a3f5f\",\"arrowhead\":0,\"arrowwidth\":1},\"autotypenumbers\":\"strict\",\"coloraxis\":{\"colorbar\":{\"outlinewidth\":0,\"ticks\":\"\"}},\"colorscale\":{\"diverging\":[[0,\"#8e0152\"],[0.1,\"#c51b7d\"],[0.2,\"#de77ae\"],[0.3,\"#f1b6da\"],[0.4,\"#fde0ef\"],[0.5,\"#f7f7f7\"],[0.6,\"#e6f5d0\"],[0.7,\"#b8e186\"],[0.8,\"#7fbc41\"],[0.9,\"#4d9221\"],[1,\"#276419\"]],\"sequential\":[[0.0,\"#0d0887\"],[0.1111111111111111,\"#46039f\"],[0.2222222222222222,\"#7201a8\"],[0.3333333333333333,\"#9c179e\"],[0.4444444444444444,\"#bd3786\"],[0.5555555555555556,\"#d8576b\"],[0.6666666666666666,\"#ed7953\"],[0.7777777777777778,\"#fb9f3a\"],[0.8888888888888888,\"#fdca26\"],[1.0,\"#f0f921\"]],\"sequentialminus\":[[0.0,\"#0d0887\"],[0.1111111111111111,\"#46039f\"],[0.2222222222222222,\"#7201a8\"],[0.3333333333333333,\"#9c179e\"],[0.4444444444444444,\"#bd3786\"],[0.5555555555555556,\"#d8576b\"],[0.6666666666666666,\"#ed7953\"],[0.7777777777777778,\"#fb9f3a\"],[0.8888888888888888,\"#fdca26\"],[1.0,\"#f0f921\"]]},\"colorway\":[\"#636efa\",\"#EF553B\",\"#00cc96\",\"#ab63fa\",\"#FFA15A\",\"#19d3f3\",\"#FF6692\",\"#B6E880\",\"#FF97FF\",\"#FECB52\"],\"font\":{\"color\":\"#2a3f5f\"},\"geo\":{\"bgcolor\":\"white\",\"lakecolor\":\"white\",\"landcolor\":\"white\",\"showlakes\":true,\"showland\":true,\"subunitcolor\":\"#C8D4E3\"},\"hoverlabel\":{\"align\":\"left\"},\"hovermode\":\"closest\",\"mapbox\":{\"style\":\"light\"},\"paper_bgcolor\":\"white\",\"plot_bgcolor\":\"white\",\"polar\":{\"angularaxis\":{\"gridcolor\":\"#EBF0F8\",\"linecolor\":\"#EBF0F8\",\"ticks\":\"\"},\"bgcolor\":\"white\",\"radialaxis\":{\"gridcolor\":\"#EBF0F8\",\"linecolor\":\"#EBF0F8\",\"ticks\":\"\"}},\"scene\":{\"xaxis\":{\"backgroundcolor\":\"white\",\"gridcolor\":\"#DFE8F3\",\"gridwidth\":2,\"linecolor\":\"#EBF0F8\",\"showbackground\":true,\"ticks\":\"\",\"zerolinecolor\":\"#EBF0F8\"},\"yaxis\":{\"backgroundcolor\":\"white\",\"gridcolor\":\"#DFE8F3\",\"gridwidth\":2,\"linecolor\":\"#EBF0F8\",\"showbackground\":true,\"ticks\":\"\",\"zerolinecolor\":\"#EBF0F8\"},\"zaxis\":{\"backgroundcolor\":\"white\",\"gridcolor\":\"#DFE8F3\",\"gridwidth\":2,\"linecolor\":\"#EBF0F8\",\"showbackground\":true,\"ticks\":\"\",\"zerolinecolor\":\"#EBF0F8\"}},\"shapedefaults\":{\"line\":{\"color\":\"#2a3f5f\"}},\"ternary\":{\"aaxis\":{\"gridcolor\":\"#DFE8F3\",\"linecolor\":\"#A2B1C6\",\"ticks\":\"\"},\"baxis\":{\"gridcolor\":\"#DFE8F3\",\"linecolor\":\"#A2B1C6\",\"ticks\":\"\"},\"bgcolor\":\"white\",\"caxis\":{\"gridcolor\":\"#DFE8F3\",\"linecolor\":\"#A2B1C6\",\"ticks\":\"\"}},\"title\":{\"x\":0.05},\"xaxis\":{\"automargin\":true,\"gridcolor\":\"#EBF0F8\",\"linecolor\":\"#EBF0F8\",\"ticks\":\"\",\"title\":{\"standoff\":15},\"zerolinecolor\":\"#EBF0F8\",\"zerolinewidth\":2},\"yaxis\":{\"automargin\":true,\"gridcolor\":\"#EBF0F8\",\"linecolor\":\"#EBF0F8\",\"ticks\":\"\",\"title\":{\"standoff\":15},\"zerolinecolor\":\"#EBF0F8\",\"zerolinewidth\":2}}},\"title\":{\"text\":\"Phantom Dec_og - 37\\u00b0C Z-spectrum\",\"x\":0.02,\"y\":0.97},\"width\":500,\"xaxis\":{\"anchor\":\"y\",\"autorange\":\"reversed\",\"domain\":[0.0,1.0],\"dtick\":1,\"tick0\":0,\"tickmode\":\"linear\",\"title\":{\"text\":\"ppm\"}},\"yaxis\":{\"anchor\":\"x\",\"domain\":[0.0,1.0],\"dtick\":0.2,\"range\":[-0.1,1],\"tick0\":0,\"tickmode\":\"linear\",\"title\":{\"standoff\":2,\"text\":\"$M_{sat}/M_0$\"}}},                        {\"responsive\": true}                    ).then(function(){\n                            \nvar gd = document.getElementById('e7ef3c87-20f0-4c46-8fdc-4e97661d56a6');\nvar x = new MutationObserver(function (mutations, observer) {{\n        var display = window.getComputedStyle(gd).display;\n        if (!display || display === 'none') {{\n            console.log([gd, 'removed!']);\n            Plotly.purge(gd);\n            observer.disconnect();\n        }}\n}});\n\n// Listen for the removal of the full notebook cells\nvar notebookContainer = gd.closest('#notebook-container');\nif (notebookContainer) {{\n    x.observe(notebookContainer, {childList: true});\n}}\n\n// Listen for the clearing of the current output cell\nvar outputEl = gd.closest('.output');\nif (outputEl) {{\n    x.observe(outputEl, {childList: true});\n}}\n\n                        })                };                });            </script>        </div>"
     },
     "metadata": {},
     "output_type": "display_data"
    },
    {
     "data": {
      "application/vnd.plotly.v1+json": {
       "config": {
        "plotlyServerURL": "https://plot.ly"
       },
       "data": [
        {
         "legendgroup": "1_1_2",
         "line": {
          "color": "#1f77b4"
         },
         "name": "20 mM, pH 7",
         "showlegend": true,
         "type": "scatter",
         "x": [
          7.0,
          6.75,
          6.5,
          6.25,
          6.0,
          5.75,
          5.5,
          5.25,
          5.0,
          4.75,
          4.5,
          4.25,
          4.0,
          3.75,
          3.5,
          3.25,
          3.0,
          2.75,
          2.5,
          2.25,
          2.0,
          1.75,
          1.5,
          1.25,
          1.0,
          0.75,
          0.5,
          0.25,
          0.0
         ],
         "xaxis": "x",
         "y": [
          0.01202401236747852,
          0.014677918266517653,
          0.015326686970597914,
          0.017556277201597026,
          0.01943623078059742,
          0.021027759679107416,
          0.024538352686556575,
          0.027069070481900992,
          0.03041330414448451,
          0.03434029972427666,
          0.03780193474871041,
          0.04221536838352935,
          0.04597380119151451,
          0.05095333699914306,
          0.05600246399454223,
          0.06138214169042899,
          0.06760545014514951,
          0.07415407557592602,
          0.07835831422592876,
          0.08463939319434977,
          0.08934429698285973,
          0.09028676137135583,
          0.08874638165852655,
          0.07990735173106828,
          0.06277197615965252,
          0.03943064426686346,
          0.017204455479681136,
          0.004995227889940189,
          0.0
         ],
         "yaxis": "y"
        },
        {
         "legendgroup": "1_1_2",
         "line": {
          "color": "#ff7f0e"
         },
         "name": "16 mM, pH 7",
         "showlegend": true,
         "type": "scatter",
         "x": [
          7.0,
          6.75,
          6.5,
          6.25,
          6.0,
          5.75,
          5.5,
          5.25,
          5.0,
          4.75,
          4.5,
          4.25,
          4.0,
          3.75,
          3.5,
          3.25,
          3.0,
          2.75,
          2.5,
          2.25,
          2.0,
          1.75,
          1.5,
          1.25,
          1.0,
          0.75,
          0.5,
          0.25,
          0.0
         ],
         "xaxis": "x",
         "y": [
          0.010196708816800348,
          0.011870632762202793,
          0.01263745303593633,
          0.013829766810733113,
          0.016353699620118678,
          0.01804261830944498,
          0.020841739508249857,
          0.02201574424953956,
          0.025961295572962118,
          0.02830335790122107,
          0.03167325563982171,
          0.036258881154758504,
          0.039618085047470775,
          0.043768650632588946,
          0.0470720595801728,
          0.052475057159775185,
          0.05849340410491666,
          0.06403307623009424,
          0.06904765199367713,
          0.0744925704305982,
          0.0789057925834955,
          0.08158357370925096,
          0.08150663279983372,
          0.07458621374307328,
          0.06120973388963613,
          0.039269269612904806,
          0.0171792629858067,
          0.0040523442882440495,
          0.0
         ],
         "yaxis": "y"
        },
        {
         "legendgroup": "1_1_2",
         "line": {
          "color": "#2ca02c"
         },
         "name": "12 mM, pH 7",
         "showlegend": true,
         "type": "scatter",
         "x": [
          7.0,
          6.75,
          6.5,
          6.25,
          6.0,
          5.75,
          5.5,
          5.25,
          5.0,
          4.75,
          4.5,
          4.25,
          4.0,
          3.75,
          3.5,
          3.25,
          3.0,
          2.75,
          2.5,
          2.25,
          2.0,
          1.75,
          1.5,
          1.25,
          1.0,
          0.75,
          0.5,
          0.25,
          0.0
         ],
         "xaxis": "x",
         "y": [
          0.005463595368326857,
          0.00802953242167359,
          0.009438838087560297,
          0.009199974404516142,
          0.009687817453559289,
          0.010558770638310455,
          0.013250720946952566,
          0.013384729192394751,
          0.0146803442970167,
          0.016959829053303732,
          0.019419117391310303,
          0.020467255932971495,
          0.0221310055103362,
          0.025388152306005884,
          0.02723601929044772,
          0.02995819420738044,
          0.0324789061975278,
          0.0372528859965684,
          0.03934231733962967,
          0.04295214701956984,
          0.045405604294114665,
          0.04855484344326866,
          0.04954415386485023,
          0.04876661026970963,
          0.04026806748954659,
          0.029894507891752575,
          0.013291134028035584,
          0.001511959385451421,
          0.0
         ],
         "yaxis": "y"
        }
       ],
       "layout": {
        "annotations": [
         {
          "font": {
           "size": 16
          },
          "showarrow": false,
          "text": "4uT",
          "x": 0.5,
          "xanchor": "center",
          "xref": "paper",
          "y": 1.0,
          "yanchor": "bottom",
          "yref": "paper"
         }
        ],
        "height": 250,
        "margin": {
         "b": 0,
         "l": 0,
         "r": 0,
         "t": 60
        },
        "template": {
         "data": {
          "bar": [
           {
            "error_x": {
             "color": "#2a3f5f"
            },
            "error_y": {
             "color": "#2a3f5f"
            },
            "marker": {
             "line": {
              "color": "white",
              "width": 0.5
             },
             "pattern": {
              "fillmode": "overlay",
              "size": 10,
              "solidity": 0.2
             }
            },
            "type": "bar"
           }
          ],
          "barpolar": [
           {
            "marker": {
             "line": {
              "color": "white",
              "width": 0.5
             },
             "pattern": {
              "fillmode": "overlay",
              "size": 10,
              "solidity": 0.2
             }
            },
            "type": "barpolar"
           }
          ],
          "carpet": [
           {
            "aaxis": {
             "endlinecolor": "#2a3f5f",
             "gridcolor": "#C8D4E3",
             "linecolor": "#C8D4E3",
             "minorgridcolor": "#C8D4E3",
             "startlinecolor": "#2a3f5f"
            },
            "baxis": {
             "endlinecolor": "#2a3f5f",
             "gridcolor": "#C8D4E3",
             "linecolor": "#C8D4E3",
             "minorgridcolor": "#C8D4E3",
             "startlinecolor": "#2a3f5f"
            },
            "type": "carpet"
           }
          ],
          "choropleth": [
           {
            "colorbar": {
             "outlinewidth": 0,
             "ticks": ""
            },
            "type": "choropleth"
           }
          ],
          "contour": [
           {
            "colorbar": {
             "outlinewidth": 0,
             "ticks": ""
            },
            "colorscale": [
             [
              0.0,
              "#0d0887"
             ],
             [
              0.1111111111111111,
              "#46039f"
             ],
             [
              0.2222222222222222,
              "#7201a8"
             ],
             [
              0.3333333333333333,
              "#9c179e"
             ],
             [
              0.4444444444444444,
              "#bd3786"
             ],
             [
              0.5555555555555556,
              "#d8576b"
             ],
             [
              0.6666666666666666,
              "#ed7953"
             ],
             [
              0.7777777777777778,
              "#fb9f3a"
             ],
             [
              0.8888888888888888,
              "#fdca26"
             ],
             [
              1.0,
              "#f0f921"
             ]
            ],
            "type": "contour"
           }
          ],
          "contourcarpet": [
           {
            "colorbar": {
             "outlinewidth": 0,
             "ticks": ""
            },
            "type": "contourcarpet"
           }
          ],
          "heatmap": [
           {
            "colorbar": {
             "outlinewidth": 0,
             "ticks": ""
            },
            "colorscale": [
             [
              0.0,
              "#0d0887"
             ],
             [
              0.1111111111111111,
              "#46039f"
             ],
             [
              0.2222222222222222,
              "#7201a8"
             ],
             [
              0.3333333333333333,
              "#9c179e"
             ],
             [
              0.4444444444444444,
              "#bd3786"
             ],
             [
              0.5555555555555556,
              "#d8576b"
             ],
             [
              0.6666666666666666,
              "#ed7953"
             ],
             [
              0.7777777777777778,
              "#fb9f3a"
             ],
             [
              0.8888888888888888,
              "#fdca26"
             ],
             [
              1.0,
              "#f0f921"
             ]
            ],
            "type": "heatmap"
           }
          ],
          "heatmapgl": [
           {
            "colorbar": {
             "outlinewidth": 0,
             "ticks": ""
            },
            "colorscale": [
             [
              0.0,
              "#0d0887"
             ],
             [
              0.1111111111111111,
              "#46039f"
             ],
             [
              0.2222222222222222,
              "#7201a8"
             ],
             [
              0.3333333333333333,
              "#9c179e"
             ],
             [
              0.4444444444444444,
              "#bd3786"
             ],
             [
              0.5555555555555556,
              "#d8576b"
             ],
             [
              0.6666666666666666,
              "#ed7953"
             ],
             [
              0.7777777777777778,
              "#fb9f3a"
             ],
             [
              0.8888888888888888,
              "#fdca26"
             ],
             [
              1.0,
              "#f0f921"
             ]
            ],
            "type": "heatmapgl"
           }
          ],
          "histogram": [
           {
            "marker": {
             "pattern": {
              "fillmode": "overlay",
              "size": 10,
              "solidity": 0.2
             }
            },
            "type": "histogram"
           }
          ],
          "histogram2d": [
           {
            "colorbar": {
             "outlinewidth": 0,
             "ticks": ""
            },
            "colorscale": [
             [
              0.0,
              "#0d0887"
             ],
             [
              0.1111111111111111,
              "#46039f"
             ],
             [
              0.2222222222222222,
              "#7201a8"
             ],
             [
              0.3333333333333333,
              "#9c179e"
             ],
             [
              0.4444444444444444,
              "#bd3786"
             ],
             [
              0.5555555555555556,
              "#d8576b"
             ],
             [
              0.6666666666666666,
              "#ed7953"
             ],
             [
              0.7777777777777778,
              "#fb9f3a"
             ],
             [
              0.8888888888888888,
              "#fdca26"
             ],
             [
              1.0,
              "#f0f921"
             ]
            ],
            "type": "histogram2d"
           }
          ],
          "histogram2dcontour": [
           {
            "colorbar": {
             "outlinewidth": 0,
             "ticks": ""
            },
            "colorscale": [
             [
              0.0,
              "#0d0887"
             ],
             [
              0.1111111111111111,
              "#46039f"
             ],
             [
              0.2222222222222222,
              "#7201a8"
             ],
             [
              0.3333333333333333,
              "#9c179e"
             ],
             [
              0.4444444444444444,
              "#bd3786"
             ],
             [
              0.5555555555555556,
              "#d8576b"
             ],
             [
              0.6666666666666666,
              "#ed7953"
             ],
             [
              0.7777777777777778,
              "#fb9f3a"
             ],
             [
              0.8888888888888888,
              "#fdca26"
             ],
             [
              1.0,
              "#f0f921"
             ]
            ],
            "type": "histogram2dcontour"
           }
          ],
          "mesh3d": [
           {
            "colorbar": {
             "outlinewidth": 0,
             "ticks": ""
            },
            "type": "mesh3d"
           }
          ],
          "parcoords": [
           {
            "line": {
             "colorbar": {
              "outlinewidth": 0,
              "ticks": ""
             }
            },
            "type": "parcoords"
           }
          ],
          "pie": [
           {
            "automargin": true,
            "type": "pie"
           }
          ],
          "scatter": [
           {
            "marker": {
             "colorbar": {
              "outlinewidth": 0,
              "ticks": ""
             }
            },
            "type": "scatter"
           }
          ],
          "scatter3d": [
           {
            "line": {
             "colorbar": {
              "outlinewidth": 0,
              "ticks": ""
             }
            },
            "marker": {
             "colorbar": {
              "outlinewidth": 0,
              "ticks": ""
             }
            },
            "type": "scatter3d"
           }
          ],
          "scattercarpet": [
           {
            "marker": {
             "colorbar": {
              "outlinewidth": 0,
              "ticks": ""
             }
            },
            "type": "scattercarpet"
           }
          ],
          "scattergeo": [
           {
            "marker": {
             "colorbar": {
              "outlinewidth": 0,
              "ticks": ""
             }
            },
            "type": "scattergeo"
           }
          ],
          "scattergl": [
           {
            "marker": {
             "colorbar": {
              "outlinewidth": 0,
              "ticks": ""
             }
            },
            "type": "scattergl"
           }
          ],
          "scattermapbox": [
           {
            "marker": {
             "colorbar": {
              "outlinewidth": 0,
              "ticks": ""
             }
            },
            "type": "scattermapbox"
           }
          ],
          "scatterpolar": [
           {
            "marker": {
             "colorbar": {
              "outlinewidth": 0,
              "ticks": ""
             }
            },
            "type": "scatterpolar"
           }
          ],
          "scatterpolargl": [
           {
            "marker": {
             "colorbar": {
              "outlinewidth": 0,
              "ticks": ""
             }
            },
            "type": "scatterpolargl"
           }
          ],
          "scatterternary": [
           {
            "marker": {
             "colorbar": {
              "outlinewidth": 0,
              "ticks": ""
             }
            },
            "type": "scatterternary"
           }
          ],
          "surface": [
           {
            "colorbar": {
             "outlinewidth": 0,
             "ticks": ""
            },
            "colorscale": [
             [
              0.0,
              "#0d0887"
             ],
             [
              0.1111111111111111,
              "#46039f"
             ],
             [
              0.2222222222222222,
              "#7201a8"
             ],
             [
              0.3333333333333333,
              "#9c179e"
             ],
             [
              0.4444444444444444,
              "#bd3786"
             ],
             [
              0.5555555555555556,
              "#d8576b"
             ],
             [
              0.6666666666666666,
              "#ed7953"
             ],
             [
              0.7777777777777778,
              "#fb9f3a"
             ],
             [
              0.8888888888888888,
              "#fdca26"
             ],
             [
              1.0,
              "#f0f921"
             ]
            ],
            "type": "surface"
           }
          ],
          "table": [
           {
            "cells": {
             "fill": {
              "color": "#EBF0F8"
             },
             "line": {
              "color": "white"
             }
            },
            "header": {
             "fill": {
              "color": "#C8D4E3"
             },
             "line": {
              "color": "white"
             }
            },
            "type": "table"
           }
          ]
         },
         "layout": {
          "annotationdefaults": {
           "arrowcolor": "#2a3f5f",
           "arrowhead": 0,
           "arrowwidth": 1
          },
          "autotypenumbers": "strict",
          "coloraxis": {
           "colorbar": {
            "outlinewidth": 0,
            "ticks": ""
           }
          },
          "colorscale": {
           "diverging": [
            [
             0,
             "#8e0152"
            ],
            [
             0.1,
             "#c51b7d"
            ],
            [
             0.2,
             "#de77ae"
            ],
            [
             0.3,
             "#f1b6da"
            ],
            [
             0.4,
             "#fde0ef"
            ],
            [
             0.5,
             "#f7f7f7"
            ],
            [
             0.6,
             "#e6f5d0"
            ],
            [
             0.7,
             "#b8e186"
            ],
            [
             0.8,
             "#7fbc41"
            ],
            [
             0.9,
             "#4d9221"
            ],
            [
             1,
             "#276419"
            ]
           ],
           "sequential": [
            [
             0.0,
             "#0d0887"
            ],
            [
             0.1111111111111111,
             "#46039f"
            ],
            [
             0.2222222222222222,
             "#7201a8"
            ],
            [
             0.3333333333333333,
             "#9c179e"
            ],
            [
             0.4444444444444444,
             "#bd3786"
            ],
            [
             0.5555555555555556,
             "#d8576b"
            ],
            [
             0.6666666666666666,
             "#ed7953"
            ],
            [
             0.7777777777777778,
             "#fb9f3a"
            ],
            [
             0.8888888888888888,
             "#fdca26"
            ],
            [
             1.0,
             "#f0f921"
            ]
           ],
           "sequentialminus": [
            [
             0.0,
             "#0d0887"
            ],
            [
             0.1111111111111111,
             "#46039f"
            ],
            [
             0.2222222222222222,
             "#7201a8"
            ],
            [
             0.3333333333333333,
             "#9c179e"
            ],
            [
             0.4444444444444444,
             "#bd3786"
            ],
            [
             0.5555555555555556,
             "#d8576b"
            ],
            [
             0.6666666666666666,
             "#ed7953"
            ],
            [
             0.7777777777777778,
             "#fb9f3a"
            ],
            [
             0.8888888888888888,
             "#fdca26"
            ],
            [
             1.0,
             "#f0f921"
            ]
           ]
          },
          "colorway": [
           "#636efa",
           "#EF553B",
           "#00cc96",
           "#ab63fa",
           "#FFA15A",
           "#19d3f3",
           "#FF6692",
           "#B6E880",
           "#FF97FF",
           "#FECB52"
          ],
          "font": {
           "color": "#2a3f5f"
          },
          "geo": {
           "bgcolor": "white",
           "lakecolor": "white",
           "landcolor": "white",
           "showlakes": true,
           "showland": true,
           "subunitcolor": "#C8D4E3"
          },
          "hoverlabel": {
           "align": "left"
          },
          "hovermode": "closest",
          "mapbox": {
           "style": "light"
          },
          "paper_bgcolor": "white",
          "plot_bgcolor": "white",
          "polar": {
           "angularaxis": {
            "gridcolor": "#EBF0F8",
            "linecolor": "#EBF0F8",
            "ticks": ""
           },
           "bgcolor": "white",
           "radialaxis": {
            "gridcolor": "#EBF0F8",
            "linecolor": "#EBF0F8",
            "ticks": ""
           }
          },
          "scene": {
           "xaxis": {
            "backgroundcolor": "white",
            "gridcolor": "#DFE8F3",
            "gridwidth": 2,
            "linecolor": "#EBF0F8",
            "showbackground": true,
            "ticks": "",
            "zerolinecolor": "#EBF0F8"
           },
           "yaxis": {
            "backgroundcolor": "white",
            "gridcolor": "#DFE8F3",
            "gridwidth": 2,
            "linecolor": "#EBF0F8",
            "showbackground": true,
            "ticks": "",
            "zerolinecolor": "#EBF0F8"
           },
           "zaxis": {
            "backgroundcolor": "white",
            "gridcolor": "#DFE8F3",
            "gridwidth": 2,
            "linecolor": "#EBF0F8",
            "showbackground": true,
            "ticks": "",
            "zerolinecolor": "#EBF0F8"
           }
          },
          "shapedefaults": {
           "line": {
            "color": "#2a3f5f"
           }
          },
          "ternary": {
           "aaxis": {
            "gridcolor": "#DFE8F3",
            "linecolor": "#A2B1C6",
            "ticks": ""
           },
           "baxis": {
            "gridcolor": "#DFE8F3",
            "linecolor": "#A2B1C6",
            "ticks": ""
           },
           "bgcolor": "white",
           "caxis": {
            "gridcolor": "#DFE8F3",
            "linecolor": "#A2B1C6",
            "ticks": ""
           }
          },
          "title": {
           "x": 0.05
          },
          "xaxis": {
           "automargin": true,
           "gridcolor": "#EBF0F8",
           "linecolor": "#EBF0F8",
           "ticks": "",
           "title": {
            "standoff": 15
           },
           "zerolinecolor": "#EBF0F8",
           "zerolinewidth": 2
          },
          "yaxis": {
           "automargin": true,
           "gridcolor": "#EBF0F8",
           "linecolor": "#EBF0F8",
           "ticks": "",
           "title": {
            "standoff": 15
           },
           "zerolinecolor": "#EBF0F8",
           "zerolinewidth": 2
          }
         }
        },
        "title": {
         "text": "Phantom Dec_og - 37°C MTR-asym",
         "x": 0.02,
         "y": 0.97
        },
        "width": 350,
        "xaxis": {
         "anchor": "y",
         "autorange": "reversed",
         "domain": [
          0.0,
          1.0
         ],
         "dtick": 1,
         "title": {
          "text": "ppm"
         }
        },
        "yaxis": {
         "anchor": "x",
         "domain": [
          0.0,
          1.0
         ],
         "dtick": 0.05,
         "range": [
          0,
          0.25
         ],
         "tick0": 0,
         "tickformat": ".0%",
         "tickmode": "linear",
         "title": {
          "text": "MTR-asym"
         }
        }
       }
      },
      "text/html": "<div>                            <div id=\"474b2197-c140-4a34-a23c-faf870ddbf79\" class=\"plotly-graph-div\" style=\"height:250px; width:350px;\"></div>            <script type=\"text/javascript\">                require([\"plotly\"], function(Plotly) {                    window.PLOTLYENV=window.PLOTLYENV || {};                                    if (document.getElementById(\"474b2197-c140-4a34-a23c-faf870ddbf79\")) {                    Plotly.newPlot(                        \"474b2197-c140-4a34-a23c-faf870ddbf79\",                        [{\"legendgroup\":\"1_1_2\",\"line\":{\"color\":\"#1f77b4\"},\"name\":\"20 mM, pH 7\",\"showlegend\":true,\"type\":\"scatter\",\"x\":[7.0,6.75,6.5,6.25,6.0,5.75,5.5,5.25,5.0,4.75,4.5,4.25,4.0,3.75,3.5,3.25,3.0,2.75,2.5,2.25,2.0,1.75,1.5,1.25,1.0,0.75,0.5,0.25,0.0],\"xaxis\":\"x\",\"y\":[0.01202401236747852,0.014677918266517653,0.015326686970597914,0.017556277201597026,0.01943623078059742,0.021027759679107416,0.024538352686556575,0.027069070481900992,0.03041330414448451,0.03434029972427666,0.03780193474871041,0.04221536838352935,0.04597380119151451,0.05095333699914306,0.05600246399454223,0.06138214169042899,0.06760545014514951,0.07415407557592602,0.07835831422592876,0.08463939319434977,0.08934429698285973,0.09028676137135583,0.08874638165852655,0.07990735173106828,0.06277197615965252,0.03943064426686346,0.017204455479681136,0.004995227889940189,0.0],\"yaxis\":\"y\"},{\"legendgroup\":\"1_1_2\",\"line\":{\"color\":\"#ff7f0e\"},\"name\":\"16 mM, pH 7\",\"showlegend\":true,\"type\":\"scatter\",\"x\":[7.0,6.75,6.5,6.25,6.0,5.75,5.5,5.25,5.0,4.75,4.5,4.25,4.0,3.75,3.5,3.25,3.0,2.75,2.5,2.25,2.0,1.75,1.5,1.25,1.0,0.75,0.5,0.25,0.0],\"xaxis\":\"x\",\"y\":[0.010196708816800348,0.011870632762202793,0.01263745303593633,0.013829766810733113,0.016353699620118678,0.01804261830944498,0.020841739508249857,0.02201574424953956,0.025961295572962118,0.02830335790122107,0.03167325563982171,0.036258881154758504,0.039618085047470775,0.043768650632588946,0.0470720595801728,0.052475057159775185,0.05849340410491666,0.06403307623009424,0.06904765199367713,0.0744925704305982,0.0789057925834955,0.08158357370925096,0.08150663279983372,0.07458621374307328,0.06120973388963613,0.039269269612904806,0.0171792629858067,0.0040523442882440495,0.0],\"yaxis\":\"y\"},{\"legendgroup\":\"1_1_2\",\"line\":{\"color\":\"#2ca02c\"},\"name\":\"12 mM, pH 7\",\"showlegend\":true,\"type\":\"scatter\",\"x\":[7.0,6.75,6.5,6.25,6.0,5.75,5.5,5.25,5.0,4.75,4.5,4.25,4.0,3.75,3.5,3.25,3.0,2.75,2.5,2.25,2.0,1.75,1.5,1.25,1.0,0.75,0.5,0.25,0.0],\"xaxis\":\"x\",\"y\":[0.005463595368326857,0.00802953242167359,0.009438838087560297,0.009199974404516142,0.009687817453559289,0.010558770638310455,0.013250720946952566,0.013384729192394751,0.0146803442970167,0.016959829053303732,0.019419117391310303,0.020467255932971495,0.0221310055103362,0.025388152306005884,0.02723601929044772,0.02995819420738044,0.0324789061975278,0.0372528859965684,0.03934231733962967,0.04295214701956984,0.045405604294114665,0.04855484344326866,0.04954415386485023,0.04876661026970963,0.04026806748954659,0.029894507891752575,0.013291134028035584,0.001511959385451421,0.0],\"yaxis\":\"y\"}],                        {\"annotations\":[{\"font\":{\"size\":16},\"showarrow\":false,\"text\":\"4uT\",\"x\":0.5,\"xanchor\":\"center\",\"xref\":\"paper\",\"y\":1.0,\"yanchor\":\"bottom\",\"yref\":\"paper\"}],\"height\":250,\"margin\":{\"b\":0,\"l\":0,\"r\":0,\"t\":60},\"template\":{\"data\":{\"bar\":[{\"error_x\":{\"color\":\"#2a3f5f\"},\"error_y\":{\"color\":\"#2a3f5f\"},\"marker\":{\"line\":{\"color\":\"white\",\"width\":0.5},\"pattern\":{\"fillmode\":\"overlay\",\"size\":10,\"solidity\":0.2}},\"type\":\"bar\"}],\"barpolar\":[{\"marker\":{\"line\":{\"color\":\"white\",\"width\":0.5},\"pattern\":{\"fillmode\":\"overlay\",\"size\":10,\"solidity\":0.2}},\"type\":\"barpolar\"}],\"carpet\":[{\"aaxis\":{\"endlinecolor\":\"#2a3f5f\",\"gridcolor\":\"#C8D4E3\",\"linecolor\":\"#C8D4E3\",\"minorgridcolor\":\"#C8D4E3\",\"startlinecolor\":\"#2a3f5f\"},\"baxis\":{\"endlinecolor\":\"#2a3f5f\",\"gridcolor\":\"#C8D4E3\",\"linecolor\":\"#C8D4E3\",\"minorgridcolor\":\"#C8D4E3\",\"startlinecolor\":\"#2a3f5f\"},\"type\":\"carpet\"}],\"choropleth\":[{\"colorbar\":{\"outlinewidth\":0,\"ticks\":\"\"},\"type\":\"choropleth\"}],\"contour\":[{\"colorbar\":{\"outlinewidth\":0,\"ticks\":\"\"},\"colorscale\":[[0.0,\"#0d0887\"],[0.1111111111111111,\"#46039f\"],[0.2222222222222222,\"#7201a8\"],[0.3333333333333333,\"#9c179e\"],[0.4444444444444444,\"#bd3786\"],[0.5555555555555556,\"#d8576b\"],[0.6666666666666666,\"#ed7953\"],[0.7777777777777778,\"#fb9f3a\"],[0.8888888888888888,\"#fdca26\"],[1.0,\"#f0f921\"]],\"type\":\"contour\"}],\"contourcarpet\":[{\"colorbar\":{\"outlinewidth\":0,\"ticks\":\"\"},\"type\":\"contourcarpet\"}],\"heatmap\":[{\"colorbar\":{\"outlinewidth\":0,\"ticks\":\"\"},\"colorscale\":[[0.0,\"#0d0887\"],[0.1111111111111111,\"#46039f\"],[0.2222222222222222,\"#7201a8\"],[0.3333333333333333,\"#9c179e\"],[0.4444444444444444,\"#bd3786\"],[0.5555555555555556,\"#d8576b\"],[0.6666666666666666,\"#ed7953\"],[0.7777777777777778,\"#fb9f3a\"],[0.8888888888888888,\"#fdca26\"],[1.0,\"#f0f921\"]],\"type\":\"heatmap\"}],\"heatmapgl\":[{\"colorbar\":{\"outlinewidth\":0,\"ticks\":\"\"},\"colorscale\":[[0.0,\"#0d0887\"],[0.1111111111111111,\"#46039f\"],[0.2222222222222222,\"#7201a8\"],[0.3333333333333333,\"#9c179e\"],[0.4444444444444444,\"#bd3786\"],[0.5555555555555556,\"#d8576b\"],[0.6666666666666666,\"#ed7953\"],[0.7777777777777778,\"#fb9f3a\"],[0.8888888888888888,\"#fdca26\"],[1.0,\"#f0f921\"]],\"type\":\"heatmapgl\"}],\"histogram\":[{\"marker\":{\"pattern\":{\"fillmode\":\"overlay\",\"size\":10,\"solidity\":0.2}},\"type\":\"histogram\"}],\"histogram2d\":[{\"colorbar\":{\"outlinewidth\":0,\"ticks\":\"\"},\"colorscale\":[[0.0,\"#0d0887\"],[0.1111111111111111,\"#46039f\"],[0.2222222222222222,\"#7201a8\"],[0.3333333333333333,\"#9c179e\"],[0.4444444444444444,\"#bd3786\"],[0.5555555555555556,\"#d8576b\"],[0.6666666666666666,\"#ed7953\"],[0.7777777777777778,\"#fb9f3a\"],[0.8888888888888888,\"#fdca26\"],[1.0,\"#f0f921\"]],\"type\":\"histogram2d\"}],\"histogram2dcontour\":[{\"colorbar\":{\"outlinewidth\":0,\"ticks\":\"\"},\"colorscale\":[[0.0,\"#0d0887\"],[0.1111111111111111,\"#46039f\"],[0.2222222222222222,\"#7201a8\"],[0.3333333333333333,\"#9c179e\"],[0.4444444444444444,\"#bd3786\"],[0.5555555555555556,\"#d8576b\"],[0.6666666666666666,\"#ed7953\"],[0.7777777777777778,\"#fb9f3a\"],[0.8888888888888888,\"#fdca26\"],[1.0,\"#f0f921\"]],\"type\":\"histogram2dcontour\"}],\"mesh3d\":[{\"colorbar\":{\"outlinewidth\":0,\"ticks\":\"\"},\"type\":\"mesh3d\"}],\"parcoords\":[{\"line\":{\"colorbar\":{\"outlinewidth\":0,\"ticks\":\"\"}},\"type\":\"parcoords\"}],\"pie\":[{\"automargin\":true,\"type\":\"pie\"}],\"scatter\":[{\"marker\":{\"colorbar\":{\"outlinewidth\":0,\"ticks\":\"\"}},\"type\":\"scatter\"}],\"scatter3d\":[{\"line\":{\"colorbar\":{\"outlinewidth\":0,\"ticks\":\"\"}},\"marker\":{\"colorbar\":{\"outlinewidth\":0,\"ticks\":\"\"}},\"type\":\"scatter3d\"}],\"scattercarpet\":[{\"marker\":{\"colorbar\":{\"outlinewidth\":0,\"ticks\":\"\"}},\"type\":\"scattercarpet\"}],\"scattergeo\":[{\"marker\":{\"colorbar\":{\"outlinewidth\":0,\"ticks\":\"\"}},\"type\":\"scattergeo\"}],\"scattergl\":[{\"marker\":{\"colorbar\":{\"outlinewidth\":0,\"ticks\":\"\"}},\"type\":\"scattergl\"}],\"scattermapbox\":[{\"marker\":{\"colorbar\":{\"outlinewidth\":0,\"ticks\":\"\"}},\"type\":\"scattermapbox\"}],\"scatterpolar\":[{\"marker\":{\"colorbar\":{\"outlinewidth\":0,\"ticks\":\"\"}},\"type\":\"scatterpolar\"}],\"scatterpolargl\":[{\"marker\":{\"colorbar\":{\"outlinewidth\":0,\"ticks\":\"\"}},\"type\":\"scatterpolargl\"}],\"scatterternary\":[{\"marker\":{\"colorbar\":{\"outlinewidth\":0,\"ticks\":\"\"}},\"type\":\"scatterternary\"}],\"surface\":[{\"colorbar\":{\"outlinewidth\":0,\"ticks\":\"\"},\"colorscale\":[[0.0,\"#0d0887\"],[0.1111111111111111,\"#46039f\"],[0.2222222222222222,\"#7201a8\"],[0.3333333333333333,\"#9c179e\"],[0.4444444444444444,\"#bd3786\"],[0.5555555555555556,\"#d8576b\"],[0.6666666666666666,\"#ed7953\"],[0.7777777777777778,\"#fb9f3a\"],[0.8888888888888888,\"#fdca26\"],[1.0,\"#f0f921\"]],\"type\":\"surface\"}],\"table\":[{\"cells\":{\"fill\":{\"color\":\"#EBF0F8\"},\"line\":{\"color\":\"white\"}},\"header\":{\"fill\":{\"color\":\"#C8D4E3\"},\"line\":{\"color\":\"white\"}},\"type\":\"table\"}]},\"layout\":{\"annotationdefaults\":{\"arrowcolor\":\"#2a3f5f\",\"arrowhead\":0,\"arrowwidth\":1},\"autotypenumbers\":\"strict\",\"coloraxis\":{\"colorbar\":{\"outlinewidth\":0,\"ticks\":\"\"}},\"colorscale\":{\"diverging\":[[0,\"#8e0152\"],[0.1,\"#c51b7d\"],[0.2,\"#de77ae\"],[0.3,\"#f1b6da\"],[0.4,\"#fde0ef\"],[0.5,\"#f7f7f7\"],[0.6,\"#e6f5d0\"],[0.7,\"#b8e186\"],[0.8,\"#7fbc41\"],[0.9,\"#4d9221\"],[1,\"#276419\"]],\"sequential\":[[0.0,\"#0d0887\"],[0.1111111111111111,\"#46039f\"],[0.2222222222222222,\"#7201a8\"],[0.3333333333333333,\"#9c179e\"],[0.4444444444444444,\"#bd3786\"],[0.5555555555555556,\"#d8576b\"],[0.6666666666666666,\"#ed7953\"],[0.7777777777777778,\"#fb9f3a\"],[0.8888888888888888,\"#fdca26\"],[1.0,\"#f0f921\"]],\"sequentialminus\":[[0.0,\"#0d0887\"],[0.1111111111111111,\"#46039f\"],[0.2222222222222222,\"#7201a8\"],[0.3333333333333333,\"#9c179e\"],[0.4444444444444444,\"#bd3786\"],[0.5555555555555556,\"#d8576b\"],[0.6666666666666666,\"#ed7953\"],[0.7777777777777778,\"#fb9f3a\"],[0.8888888888888888,\"#fdca26\"],[1.0,\"#f0f921\"]]},\"colorway\":[\"#636efa\",\"#EF553B\",\"#00cc96\",\"#ab63fa\",\"#FFA15A\",\"#19d3f3\",\"#FF6692\",\"#B6E880\",\"#FF97FF\",\"#FECB52\"],\"font\":{\"color\":\"#2a3f5f\"},\"geo\":{\"bgcolor\":\"white\",\"lakecolor\":\"white\",\"landcolor\":\"white\",\"showlakes\":true,\"showland\":true,\"subunitcolor\":\"#C8D4E3\"},\"hoverlabel\":{\"align\":\"left\"},\"hovermode\":\"closest\",\"mapbox\":{\"style\":\"light\"},\"paper_bgcolor\":\"white\",\"plot_bgcolor\":\"white\",\"polar\":{\"angularaxis\":{\"gridcolor\":\"#EBF0F8\",\"linecolor\":\"#EBF0F8\",\"ticks\":\"\"},\"bgcolor\":\"white\",\"radialaxis\":{\"gridcolor\":\"#EBF0F8\",\"linecolor\":\"#EBF0F8\",\"ticks\":\"\"}},\"scene\":{\"xaxis\":{\"backgroundcolor\":\"white\",\"gridcolor\":\"#DFE8F3\",\"gridwidth\":2,\"linecolor\":\"#EBF0F8\",\"showbackground\":true,\"ticks\":\"\",\"zerolinecolor\":\"#EBF0F8\"},\"yaxis\":{\"backgroundcolor\":\"white\",\"gridcolor\":\"#DFE8F3\",\"gridwidth\":2,\"linecolor\":\"#EBF0F8\",\"showbackground\":true,\"ticks\":\"\",\"zerolinecolor\":\"#EBF0F8\"},\"zaxis\":{\"backgroundcolor\":\"white\",\"gridcolor\":\"#DFE8F3\",\"gridwidth\":2,\"linecolor\":\"#EBF0F8\",\"showbackground\":true,\"ticks\":\"\",\"zerolinecolor\":\"#EBF0F8\"}},\"shapedefaults\":{\"line\":{\"color\":\"#2a3f5f\"}},\"ternary\":{\"aaxis\":{\"gridcolor\":\"#DFE8F3\",\"linecolor\":\"#A2B1C6\",\"ticks\":\"\"},\"baxis\":{\"gridcolor\":\"#DFE8F3\",\"linecolor\":\"#A2B1C6\",\"ticks\":\"\"},\"bgcolor\":\"white\",\"caxis\":{\"gridcolor\":\"#DFE8F3\",\"linecolor\":\"#A2B1C6\",\"ticks\":\"\"}},\"title\":{\"x\":0.05},\"xaxis\":{\"automargin\":true,\"gridcolor\":\"#EBF0F8\",\"linecolor\":\"#EBF0F8\",\"ticks\":\"\",\"title\":{\"standoff\":15},\"zerolinecolor\":\"#EBF0F8\",\"zerolinewidth\":2},\"yaxis\":{\"automargin\":true,\"gridcolor\":\"#EBF0F8\",\"linecolor\":\"#EBF0F8\",\"ticks\":\"\",\"title\":{\"standoff\":15},\"zerolinecolor\":\"#EBF0F8\",\"zerolinewidth\":2}}},\"title\":{\"text\":\"Phantom Dec_og - 37\\u00b0C MTR-asym\",\"x\":0.02,\"y\":0.97},\"width\":350,\"xaxis\":{\"anchor\":\"y\",\"autorange\":\"reversed\",\"domain\":[0.0,1.0],\"dtick\":1,\"title\":{\"text\":\"ppm\"}},\"yaxis\":{\"anchor\":\"x\",\"domain\":[0.0,1.0],\"dtick\":0.05,\"range\":[0,0.25],\"tick0\":0,\"tickformat\":\".0%\",\"tickmode\":\"linear\",\"title\":{\"text\":\"MTR-asym\"}}},                        {\"responsive\": true}                    ).then(function(){\n                            \nvar gd = document.getElementById('474b2197-c140-4a34-a23c-faf870ddbf79');\nvar x = new MutationObserver(function (mutations, observer) {{\n        var display = window.getComputedStyle(gd).display;\n        if (!display || display === 'none') {{\n            console.log([gd, 'removed!']);\n            Plotly.purge(gd);\n            observer.disconnect();\n        }}\n}});\n\n// Listen for the removal of the full notebook cells\nvar notebookContainer = gd.closest('#notebook-container');\nif (notebookContainer) {{\n    x.observe(notebookContainer, {childList: true});\n}}\n\n// Listen for the clearing of the current output cell\nvar outputEl = gd.closest('.output');\nif (outputEl) {{\n    x.observe(outputEl, {childList: true});\n}}\n\n                        })                };                });            </script>        </div>"
     },
     "metadata": {},
     "output_type": "display_data"
    }
   ],
   "source": [
    "for phantom_i in [0, 1, 2, 3, 5]:\n",
    "    cest_prtcl_names = cest_prtcls_names[phantom_i]  # 3.6, 4, 6\n",
    "    colors = ['#1f77b4', '#ff7f0e', '#2ca02c']\n",
    "    conc_l = conc_ls[phantom_i]\n",
    "    ph_l = ph_ls[phantom_i]\n",
    "    tag = tags[phantom_i]\n",
    "    abc_id = [tag.index('a'), tag.index('b'), tag.index('c')]\n",
    "\n",
    "    fig = make_subplots(rows=1, cols=len(cest_prtcl_names),\n",
    "                        subplot_titles=B_names[phantom_i], vertical_spacing = 0.07, horizontal_spacing=0.01)\n",
    "    fig_2 = make_subplots(rows=1, cols=len(cest_prtcl_names),\n",
    "                          subplot_titles=B_names[phantom_i], vertical_spacing = 0.07, horizontal_spacing=0.05)\n",
    "\n",
    "    mean_z_spectrum = mean_z_spectra[phantom_i]\n",
    "    mean_z_spectrum_not_cor = mean_z_spectra_n_c[phantom_i]\n",
    "    # Iterate over each channel\n",
    "    for B_idx in range(len(cest_prtcl_names)):\n",
    "        # Iterate over each image\n",
    "        for tag_i, cur_tag in enumerate(['a', 'b', 'c']):\n",
    "            vial_i = tag.index(cur_tag)\n",
    "            z_vial_B = mean_z_spectrum[vial_i,B_idx,:]\n",
    "            z_vial_B_not_cor = mean_z_spectrum_not_cor[vial_i,B_idx,:]\n",
    "            \n",
    "            ppm_lim = 7\n",
    "\n",
    "            # MTR asym calculation\n",
    "            cha_n = len(z_vial_B)\n",
    "            mid_i = int(cha_n/2 - 1)\n",
    "            last_i = int(cha_n-1)\n",
    "            positives = z_vial_B[0:(mid_i+2)]  # positives to 0 (including)\n",
    "            negatives = z_vial_B[last_i:mid_i:-1]  # negatives to 0 (including)\n",
    "\n",
    "            MTR_asym = negatives-positives\n",
    "            ppm_asym = np.linspace(ppm_lim, 0, num=(mid_i+2))     \n",
    "\n",
    "            ppm = np.linspace(ppm_lim, -ppm_lim, num=cha_n)\n",
    "\n",
    "            col_idx = B_idx + 1\n",
    "            fig.add_trace(go.Scatter(x=ppm, y=z_vial_B, line=dict(color=colors[tag_i]), name=f'{cur_tag} {conc_l[vial_i]}, {ph_l[vial_i]}', legendgroup=f'{1}_{col_idx}_1'), row=1, col=col_idx)\n",
    "            # fig.add_trace(go.Scatter(x=ppm, y=z_vial_B_not_cor, line=dict(color='gray'), name=f'{cur_tag} {conc_l[vial_i]}, {ph_l[vial_i]}', legendgroup=f'{1}_{col_idx}_1'), row=1, col=col_idx)  # later delete!\n",
    "            \n",
    "            fig.add_trace(go.Scatter(x=ppm_asym, y=MTR_asym, line=dict(color=colors[tag_i]), name=f'{conc_l[vial_i]}, {ph_l[vial_i]}', legendgroup=f'{1}_{col_idx}_2'), row=1, col=col_idx)\n",
    "            fig.update_xaxes(title_text='ppm', row=1, col=col_idx)\n",
    "            \n",
    "            fig_2.add_trace(go.Scatter(x=ppm_asym, y=MTR_asym, line=dict(color=colors[tag_i]), name=f'{conc_l[vial_i]}, {ph_l[vial_i]}', legendgroup=f'{1}_{col_idx}_2'), row=1, col=col_idx)\n",
    "            fig_2.update_xaxes(title_text='ppm', row=1, col=col_idx)\n",
    "            \n",
    "    fig.update_yaxes(title_text='$M_{sat}/M_0$', row=1, col=1, title_standoff=2)\n",
    "    fig_2.update_yaxes(title_text='MTR-asym', row=1, col=1)\n",
    "    \n",
    "    # Update layout\n",
    "    fig.update_layout(template='plotly_white',  # Set the theme to plotly white\n",
    "                      title_text=f'Phantom {month[phantom_i]} - {temperatures[phantom_i]} Z-spectrum',\n",
    "                      height=250, width=500,\n",
    "                      title=dict(x=0.02, y=0.97),\n",
    "                      margin=dict(l=45, r=0, t=50, b=0)\n",
    "                      )  # Adjust the title position\n",
    "    \n",
    "    fig_2.update_layout(template='plotly_white',  # Set the theme to plotly white\n",
    "                  title_text=f'Phantom {month[phantom_i]} - {temperatures[phantom_i]} MTR-asym',\n",
    "                  height=250, width=350,\n",
    "                  title=dict(x=0.02, y=0.97),\n",
    "                  margin=dict(l=0, r=0, t=60, b=0)\n",
    "                        )  # Adjust the title position\n",
    "\n",
    "    # Set axes for z-spectrum\n",
    "    fig.update_xaxes(autorange='reversed',tickmode='linear', tick0=0, dtick=1)\n",
    "    fig.update_yaxes(tickmode='linear', tick0=0, dtick=0.2, range=[-0.1, 1])\n",
    "    \n",
    "    # # Set axes for MTR-asym\n",
    "    fig_2.update_xaxes(autorange='reversed', dtick=1)\n",
    "    # fig_2.update_xaxes(tickvals=list(range(5)), ticktext=list(map(str, range(4, -1, -1))))\n",
    "    fig_2.update_yaxes(tickmode='linear', tick0=0, dtick=0.05, range=[0, 0.25], tickformat='.0%')    \n",
    "\n",
    "    # Show only specific legend groups\n",
    "    for trace in fig.data:\n",
    "        trace.showlegend = (trace.legendgroup == '1_1_1')\n",
    "        \n",
    "    # Show only specific legend groups\n",
    "    for trace in fig_2.data:\n",
    "        trace.showlegend = (trace.legendgroup == '1_1_2')\n",
    "\n",
    "    fig.show()\n",
    "    fig_2.show()\n",
    "    \n",
    "    pio.write_image(fig, f'images/z_spec/zspec_phantom_{phantom_i+1}.jpeg')\n",
    "    pio.write_image(fig_2, f'images/z_spec/mtr_phantom_{phantom_i+1}.jpeg')\n"
   ],
   "metadata": {
    "collapsed": false,
    "ExecuteTime": {
     "end_time": "2024-02-20T18:17:59.292249202Z",
     "start_time": "2024-02-20T18:17:58.684959677Z"
    }
   },
   "id": "ce55a8658e4510c1"
  },
  {
   "cell_type": "code",
   "outputs": [],
   "source": [],
   "metadata": {
    "collapsed": false,
    "ExecuteTime": {
     "end_time": "2024-02-20T18:14:18.406777500Z",
     "start_time": "2024-02-20T18:14:18.194320281Z"
    }
   },
   "id": "c0c70cfabe3cd66d",
   "execution_count": 10
  }
 ],
 "metadata": {
  "kernelspec": {
   "display_name": "Python 3",
   "language": "python",
   "name": "python3"
  },
  "language_info": {
   "codemirror_mode": {
    "name": "ipython",
    "version": 2
   },
   "file_extension": ".py",
   "mimetype": "text/x-python",
   "name": "python",
   "nbconvert_exporter": "python",
   "pygments_lexer": "ipython2",
   "version": "2.7.6"
  }
 },
 "nbformat": 4,
 "nbformat_minor": 5
}
