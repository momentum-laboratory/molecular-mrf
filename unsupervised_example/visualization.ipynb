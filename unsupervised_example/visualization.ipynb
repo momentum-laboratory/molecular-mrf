{
 "cells": [
  {
   "cell_type": "code",
   "execution_count": 1,
   "id": "31af49e3-5d86-476b-bd45-8862ccf32e20",
   "metadata": {},
   "outputs": [],
   "source": [
    "import numpy as np\n",
    "import scipy.io as sio\n",
    "import matplotlib.pyplot as plt\n",
    "import matplotlib\n",
    "import os\n",
    "import sys\n",
    "from cmcrameri import cm\n",
    "\n",
    "# Add the parent directory to sys.path to find the utils package\n",
    "module_path = os.path.abspath(os.path.join('..')) \n",
    "if module_path not in sys.path:\n",
    "    sys.path.append(module_path)\n",
    "\n",
    "from utils.colormaps import b_viridis, b_winter  "
   ]
  },
  {
   "cell_type": "code",
   "execution_count": 2,
   "id": "975b81a4",
   "metadata": {},
   "outputs": [],
   "source": [
    "os.makedirs('result', exist_ok=True)"
   ]
  },
  {
   "cell_type": "code",
   "execution_count": 3,
   "id": "64ff8269-714b-41e4-ab51-1367f73904c7",
   "metadata": {},
   "outputs": [
    {
     "name": "stdout",
     "output_type": "stream",
     "text": [
      "Quantitative maps shape: (27, 256, 256, 4)\n"
     ]
    }
   ],
   "source": [
    "# Load data and rescale to physically meaningful original units\n",
    "max_label = np.array([100, 0.17, 1e-4, 3.0])\n",
    "min_label = np.array([5, 0.02, 1e-6, 0.2])\n",
    "result_nn = sio.loadmat(\"result/quantification_UL.mat\")['result_nn']\n",
    "result_BE = np.transpose(np.reshape(result_nn, (27, 4, 256, 256)), (0, 2, 3, 1))\n",
    "result_BE = result_BE * (max_label - min_label) + min_label\n",
    "print(\"Quantitative maps shape: \" + str(result_BE.shape))\n"
   ]
  },
  {
   "cell_type": "code",
   "execution_count": 4,
   "id": "845f9b3e-99bc-4f6e-9591-8b62396e288a",
   "metadata": {},
   "outputs": [],
   "source": [
    "# Masking the background\n",
    "mask = sio.loadmat('result/mask_mtc.mat')['mask']\n",
    "mask_ = np.repeat(mask[:, :, :, np.newaxis], 4, axis=3)\n",
    "result_BE[mask_<1] = 0\n"
   ]
  },
  {
   "cell_type": "code",
   "execution_count": 5,
   "id": "160eb6e1-d627-4466-bee1-7b574cac8869",
   "metadata": {},
   "outputs": [],
   "source": [
    "# Choosing slice to display (out of 27)\n",
    "sl_num = 6\n",
    "result_BE = result_BE[sl_num]\n",
    "mask = mask[sl_num]\n",
    "\n",
    "# Plot Rm\n",
    "Rm_BE = result_BE[:, :, 0]\n",
    "Rm_BE = Rm_BE[34:221, 47:212]\n",
    "mask_ = mask[34:221, 47:212]\n",
    "\n",
    "# Plot Mm\n",
    "Mm_BE = result_BE[:, :, 1]\n",
    "Mm_BE = Mm_BE[34:221, 47:212]\n",
    "\n",
    "# Plot T2m\n",
    "T2m_BE = result_BE[:, :, 2] * 1e6\n",
    "T2m_BE = T2m_BE[34:221, 47:212]\n",
    "\n",
    "# Plot T1w\n",
    "T1w_BE = result_BE[:, :, 3]\n",
    "T1w_BE = T1w_BE[34:221, 47:212]\n"
   ]
  },
  {
   "cell_type": "code",
   "execution_count": 7,
   "id": "46ae9d5c-1096-41e8-9a18-9737a23a8ae2",
   "metadata": {},
   "outputs": [],
   "source": [
    "\n",
    "plt.figure(figsize=(20,10))\n",
    "\n",
    "pad_cb = 0.01  # colorbar padding\n",
    "length_cb = 0.021  # colorbar length as a fraction of the axis\n",
    "plt.rcParams['font.family'] = 'Arial'\n",
    "\n",
    "matplotlib.rc('xtick', labelsize=20)\n",
    "matplotlib.rc('ytick', labelsize=20)\n",
    "plt.rcParams.update({'font.size': 25})\n",
    "\n",
    "plt.rcParams['mathtext.fontset'] = 'custom' \n",
    "plt.rcParams['mathtext.rm'] = 'Arial' \n",
    "plt.rcParams['mathtext.it'] = 'Arial' \n",
    "plt.rcParams['mathtext.bf'] = 'Arial:bold'\n",
    "\n",
    "plt.subplot(141)\n",
    "plt.imshow(Rm_BE, vmin=5, vmax=50, cmap='magma')\n",
    "plt.colorbar(orientation='horizontal', ticks=np.arange(5, 50 + 15, 15), pad=pad_cb, fraction=length_cb)\n",
    "plt.title('k$_{ssw}$ (s$^{-1}$)')\n",
    "plt.axis(\"off\")\n",
    "\n",
    "plt.subplot(142)\n",
    "plt.imshow(Mm_BE, vmin=0.02, vmax=0.17, cmap=b_viridis)\n",
    "plt.colorbar(orientation='horizontal', ticks=np.arange(0.02, 0.17 + 0.05, 0.05), pad=pad_cb, fraction=length_cb)\n",
    "plt.title('M$_{0}$$^{ss}$ (M)')\n",
    "plt.axis(\"off\")\n",
    "\n",
    "plt.subplot(143)\n",
    "plt.imshow(T2m_BE, vmin=40, vmax=100, cmap=cm.navia)\n",
    "plt.colorbar(orientation='horizontal', ticks=np.arange(0, 100 + 20, 20), pad=pad_cb, fraction=length_cb)\n",
    "plt.title('T$_{2}$$^{ss}$ ($\\mu$s)')\n",
    "plt.axis(\"off\")\n",
    "\n",
    "plt.subplot(144)\n",
    "plt.imshow(T1w_BE, vmin=0.5, vmax=2.5, cmap=cm.lipari)\n",
    "plt.colorbar(orientation='horizontal', ticks=np.arange(0.5, 2.5 + 0.5, 0.5), pad=pad_cb, fraction=length_cb)\n",
    "plt.title('Water T$_{1}$ (s)')\n",
    "plt.axis(\"off\")\n",
    "\n",
    "plt.tight_layout()\n",
    "plt.subplots_adjust(wspace=0.1, hspace=0)  # Adjust spacing between subplots\n",
    "plt.savefig('result/human_results_unsupervised.eps', format='eps')\n",
    "plt.savefig('result/human_results_unsupervised.pdf', format='pdf')\n",
    "plt.show()"
   ]
  }
 ],
 "metadata": {
  "kernelspec": {
   "display_name": "Python 3 (ipykernel)",
   "language": "python",
   "name": "python3"
  },
  "language_info": {
   "codemirror_mode": {
    "name": "ipython",
    "version": 3
   },
   "file_extension": ".py",
   "mimetype": "text/x-python",
   "name": "python",
   "nbconvert_exporter": "python",
   "pygments_lexer": "ipython3",
   "version": "3.9.19"
  }
 },
 "nbformat": 4,
 "nbformat_minor": 5
}
